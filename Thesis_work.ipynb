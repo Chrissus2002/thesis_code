{
 "cells": [
  {
   "cell_type": "markdown",
   "id": "a380c88d-ba22-4668-84b5-0acd61099aec",
   "metadata": {},
   "source": [
    "_**Imports for document extraction, text processing, and writing the text into chunks**_"
   ]
  },
  {
   "cell_type": "code",
   "execution_count": 1,
   "id": "cfc87c49-68f4-4e03-b20c-cdb740c37910",
   "metadata": {},
   "outputs": [],
   "source": [
    "import os\n",
    "from pathlib import Path\n",
    "import re\n",
    "import PyPDF2\n",
    "import pandas as pd"
   ]
  },
  {
   "cell_type": "code",
   "execution_count": null,
   "id": "e2de9144",
   "metadata": {},
   "outputs": [],
   "source": [
    "from google import genai\n",
    "\n",
    "client = genai.Client(api_key=\"GEMINI_API_KEY\")\n",
    "\n",
    "result = client.models.embed_content(\n",
    "        model=\"gemini-embedding-exp-03-07\",\n",
    "        contents=\"How does alphafold work?\",\n",
    ")\n",
    "\n",
    "print(result.embeddings)\n"
   ]
  },
  {
   "cell_type": "markdown",
   "id": "1548de45-d178-40cd-a923-212028382985",
   "metadata": {},
   "source": [
    "_**Necessary functions for the document preprocessing and text clean up**_"
   ]
  },
  {
   "cell_type": "code",
   "execution_count": 2,
   "id": "abde84f5",
   "metadata": {},
   "outputs": [],
   "source": [
    "def extract_text_from_pdf(pdf_path: Path) -> str:\n",
    "    \"\"\"\n",
    "    Extract text from a PDF file\n",
    "    \"\"\"\n",
    "    if pdf_path.suffix.lower() == \".pdf\":\n",
    "        text = \"\"\n",
    "        with pdf_path.open(\"rb\") as file:\n",
    "            reader = PyPDF2.PdfReader(file)\n",
    "            for page in reader.pages:\n",
    "                text += page.extract_text()\n",
    "        return text\n",
    "\n",
    "\n",
    "\n",
    "def clean_text(text: str) -> str:\n",
    "    \"\"\"\n",
    "    Clean the text by removing unnecesary sections\n",
    "    \"\"\"\n",
    "    match = re.search(r'Bibliography|Acknowledgements|Index|Contents|Carbon', text, re.IGNORECASE)\n",
    "    if match:\n",
    "        text = text[match.start():]\n",
    "    return text\n",
    "\n",
    "\n",
    "def chunk_text(text: str, max_token_size: int = 128) -> list[str]:\n",
    "    \"\"\"\n",
    "    Chunk the text into smaller chunks of approximately max_token_size tokens\n",
    "    Uses a simple estimation method where 1 token ≈ 4 characters\n",
    "    \"\"\"\n",
    "    paragraphs = text.split(\".\\n\")\n",
    "    chunks = []\n",
    "    current_chunk = \"\"\n",
    "    current_token_count = 0\n",
    "    \n",
    "    # Simple token estimation function\n",
    "    def estimate_tokens(text: str) -> int:\n",
    "        # Roughly 4 characters per token for English text\n",
    "        return len(text) // 4\n",
    "    \n",
    "    for paragraph in paragraphs:\n",
    "        paragraph_tokens = estimate_tokens(paragraph)\n",
    "        \n",
    "        # Check if adding this paragraph would exceed the token limit\n",
    "        if current_token_count + paragraph_tokens + 1 > max_token_size:\n",
    "            chunks.append(current_chunk.strip())\n",
    "            current_chunk = paragraph + \"\\n\\n\"\n",
    "            current_token_count = paragraph_tokens + 2  # +2 for the newlines\n",
    "        else:\n",
    "            current_chunk += paragraph + \"\\n\\n\"\n",
    "            current_token_count += paragraph_tokens + 2  # +2 for the newlines\n",
    "    \n",
    "    # Add the last chunk if it's not empty\n",
    "    if current_chunk:\n",
    "        chunks.append(current_chunk.strip())\n",
    "    \n",
    "    return chunks\n",
    "\n",
    "\n",
    "def remove_empty_strings_from_list(input_list: list[str]) -> list[str]:\n",
    "    \"\"\"\n",
    "    Removes all empty strings (e.g., \"\", \"   \") from a list of strings.\n",
    "    It also removes strings that are None.\n",
    "    \"\"\"\n",
    "    return [s for s in input_list if s and s.strip()]"
   ]
  },
  {
   "cell_type": "markdown",
   "id": "f9baba30-2e34-4d8a-80f8-be34616455fd",
   "metadata": {},
   "source": [
    "_**Adding document text to a list of chunks which will then be processed by BERTopic**_"
   ]
  },
  {
   "cell_type": "code",
   "execution_count": 3,
   "id": "21672b31-f7dd-4970-ac1f-6f6c0bd93c88",
   "metadata": {},
   "outputs": [],
   "source": [
    "folder_year_2013 = Path(\"ESG_reports/Siemens/2013\")\n",
    "folder_year_2014 = Path(\"ESG_reports/Siemens/2014\")\n",
    "folder_year_2015 = Path(\"ESG_reports/Siemens/2015\")\n",
    "folder_year_2016 = Path(\"ESG_reports/Siemens/2016\")\n",
    "folder_year_2017 = Path(\"ESG_reports/Siemens/2017\")\n",
    "folder_year_2018 = Path(\"ESG_reports/Siemens/2018\")\n",
    "folder_year_2019 = Path(\"ESG_reports/Siemens/2019\")\n",
    "folder_year_2020 = Path(\"ESG_reports/Siemens/2020\")\n",
    "folder_year_2021 = Path(\"ESG_reports/Siemens/2021\")\n",
    "folder_year_2022 = Path(\"ESG_reports/Siemens/2022\")\n",
    "folder_year_2023 = Path(\"ESG_reports/Siemens/2023\")\n",
    "folder_year_2024 = Path(\"ESG_reports/Siemens/2024\")\n",
    "document_text_2013 = []\n",
    "document_text_2014 = []\n",
    "document_text_2015 = []\n",
    "document_text_2016 = []\n",
    "document_text_2017 = []\n",
    "document_text_2018 = []\n",
    "document_text_2019 = []\n",
    "document_text_2020 = []\n",
    "document_text_2021 = []\n",
    "document_text_2022 = []\n",
    "document_text_2023 = []\n",
    "document_text_2024 = []"
   ]
  },
  {
   "cell_type": "code",
   "execution_count": 4,
   "id": "651b18fa-6e45-45d7-baac-23f5574220ff",
   "metadata": {},
   "outputs": [
    {
     "name": "stdout",
     "output_type": "stream",
     "text": [
      "1466\n",
      "995\n",
      "631\n",
      "612\n",
      "834\n",
      "872\n",
      "841\n",
      "324\n",
      "395\n",
      "462\n",
      "590\n",
      "611\n"
     ]
    }
   ],
   "source": [
    "def process_pdf_folder(folder_path: Path) -> list[str]:\n",
    "    document_chunks = []\n",
    "    for file in folder_path.glob(\"*.pdf\"):\n",
    "        text = extract_text_from_pdf(file)\n",
    "        #Disabling cleaning since I'm not sure if it's working properly, might be cutting too much text?\n",
    "        # since we are clustering chunks, then filtering the chunks, we don't need to clean \n",
    "        #cleaned_text = clean_text(text)\n",
    "        cleaned_text=text\n",
    "        chunks = chunk_text(cleaned_text)\n",
    "        document_chunks.extend(chunks)\n",
    "    print(len(document_chunks))\n",
    "    return document_chunks\n",
    "\n",
    "document_text_2013 = remove_empty_strings_from_list(process_pdf_folder(folder_year_2013))\n",
    "document_text_2014 = remove_empty_strings_from_list(process_pdf_folder(folder_year_2014))\n",
    "document_text_2015 = remove_empty_strings_from_list(process_pdf_folder(folder_year_2015))\n",
    "document_text_2016 = remove_empty_strings_from_list(process_pdf_folder(folder_year_2016))\n",
    "document_text_2017 = remove_empty_strings_from_list(process_pdf_folder(folder_year_2017))\n",
    "document_text_2018 = remove_empty_strings_from_list(process_pdf_folder(folder_year_2018))\n",
    "document_text_2019 = remove_empty_strings_from_list(process_pdf_folder(folder_year_2019))\n",
    "document_text_2020 = remove_empty_strings_from_list(process_pdf_folder(folder_year_2020))\n",
    "document_text_2021 = remove_empty_strings_from_list(process_pdf_folder(folder_year_2021))\n",
    "document_text_2022 = remove_empty_strings_from_list(process_pdf_folder(folder_year_2022))\n",
    "document_text_2023 = remove_empty_strings_from_list(process_pdf_folder(folder_year_2023))\n",
    "document_text_2024 = remove_empty_strings_from_list(process_pdf_folder(folder_year_2024))"
   ]
  },
  {
   "cell_type": "code",
   "execution_count": 5,
   "id": "a1f708c7",
   "metadata": {},
   "outputs": [],
   "source": [
    "dictionary_year_chunks = {\n",
    "    2013: document_text_2013,\n",
    "    2014: document_text_2014,\n",
    "    2015: document_text_2015,\n",
    "    2016: document_text_2016,\n",
    "    2017: document_text_2017,\n",
    "    2018: document_text_2018,\n",
    "    2019: document_text_2019,\n",
    "    2020: document_text_2020,\n",
    "    2021: document_text_2021,\n",
    "    2022: document_text_2022,\n",
    "    2023: document_text_2023,\n",
    "    2024: document_text_2024\n",
    "}\n",
    "\n",
    "years = []\n",
    "flat_chunks = []\n",
    "\n",
    "# Iterate through the dictionary in sorted order\n",
    "for year, chunks in sorted(dictionary_year_chunks.items()):\n",
    "    # For each string in the chunks list\n",
    "    for chunk in chunks:\n",
    "        # Add the year to years list\n",
    "        years.append(year)\n",
    "        # Add the chunk to flat_chunks list\n",
    "        flat_chunks.append(chunk)\n",
    "\n",
    "df_chunks = pd.DataFrame(dictionary_year_chunks.items(), columns=['Year', 'Chunk'])"
   ]
  },
  {
   "cell_type": "code",
   "execution_count": 6,
   "id": "2ac441f0",
   "metadata": {},
   "outputs": [
    {
     "name": "stdout",
     "output_type": "stream",
     "text": [
      "Industrial productivity\n",
      "Intelligent infrastructure solutions\n",
      "Next-generation healthcare\n",
      "Energy efficiency\n",
      "siemens.com\n",
      "Thinking for the long term  \n",
      "Providing answers\n",
      "Annual Report 2013siemens.comFiscal 2013\n",
      "Siemens at a glance\n",
      "siemens.com\n",
      "Energy efﬁ  ciency\n",
      "Next-generation healthcare\n",
      "Intelligent infrastructure solutions\n",
      "Industrial productivity\n",
      "Company Report 2013\n",
      "Living our visions  \n",
      "Achieving our goalsGenerating power more efficientlyEnhancing industrial productivity\n",
      "Creating efficient solutions\n",
      "Protecting the environment\n",
      "Making infrastructures more intelligent\n",
      "Improving healthcare\n",
      "2A single report  \n",
      "An integrated approachLiving our visions\n",
      "Achieving our goals\n",
      "How do you convert an aging power station into one \n",
      "of t\n",
      "he most efficient combined cycle power plants in \n",
      "Russia? How can you produce energy more efficiently while protecting the climate? Kirill Gamburger and Denis Bashuk report on a project that has implications for power generation far beyond Russia’s borders. \n",
      " WWW.SIEMENS.COM/AR/REPORT-ENERGYRUS Kirishi, Russia Energy solutions pages 4  - 21\n",
      "USAYork Harbor, U.S. Industry solutions pages 40  - 59\n",
      "What are the challenges facing people who need joint replacements? What role can industry software play in producing prosthetics? And what does the future hold for\n",
      " dev\n",
      "elopments in this area? Three ques-\n",
      "tions from three  diff erent perspectives: Gordon France, Sabine Fietz \n",
      "and  Prof\n",
      "essor  Berend Denk\n",
      "ena provide answers and offer insights into \n",
      "an important topic for today and tomorrow\n"
     ]
    }
   ],
   "source": [
    "print(flat_chunks[0])\n"
   ]
  },
  {
   "cell_type": "markdown",
   "id": "0d6c7a36-1f14-4a6a-a8ec-62e2e8f450bb",
   "metadata": {},
   "source": [
    "_**Necessary imports for BERTopic**_"
   ]
  },
  {
   "cell_type": "code",
   "execution_count": 8,
   "id": "204d74c2-e132-41ea-8991-8682f3b29093",
   "metadata": {},
   "outputs": [],
   "source": [
    "from sklearn.feature_extraction.text import CountVectorizer\n",
    "from hdbscan import HDBSCAN\n",
    "from umap import UMAP\n",
    "from bertopic import BERTopic"
   ]
  },
  {
   "cell_type": "markdown",
   "id": "24f52604-46ca-4d64-a833-58879df253ea",
   "metadata": {},
   "source": [
    "_**Configurations for the steps of BERTopic**_"
   ]
  },
  {
   "cell_type": "code",
   "execution_count": 9,
   "id": "6904249b-f8ec-40f7-9bab-c791033ee890",
   "metadata": {},
   "outputs": [],
   "source": [
    "cluster_model = HDBSCAN()\n",
    "umap_model = UMAP(random_state=42)\n",
    "vectorizer_model = CountVectorizer(stop_words='english')\n",
    "\n",
    "\n",
    "#https://maartengr.github.io/BERTopic/faq.html#which-embedding-model-should-i-choose\n",
    "#based on the doc above, we can try all-mpnet-base-v2 for better results\n",
    "#or we can try all-MiniLM-L6-v2 for faster results for development\n",
    "\n",
    "embedding_model = 'all-mpnet-base-v2'\n",
    "nr_topics = 30"
   ]
  },
  {
   "cell_type": "code",
   "execution_count": 12,
   "id": "c6288ae9-a069-4869-99d7-0360702c0560",
   "metadata": {},
   "outputs": [],
   "source": [
    "topic_model = BERTopic(embedding_model=\"all-MiniLM-L6-v2\", nr_topics=nr_topics,\n",
    "                       umap_model=umap_model, vectorizer_model=vectorizer_model)\n",
    "topics, probabilities = topic_model.fit_transform(flat_chunks)\n",
    "\n"
   ]
  },
  {
   "cell_type": "code",
   "execution_count": 13,
   "id": "470a7373",
   "metadata": {},
   "outputs": [
    {
     "data": {
      "application/vnd.plotly.v1+json": {
       "config": {
        "plotlyServerURL": "https://plot.ly"
       },
       "data": [
        {
         "hoverinfo": "text",
         "hovertext": [
          "<b>Topic 0</b><br>Words: 2013, financial, cash, 2012, million",
          "<b>Topic 0</b><br>Words: 2014, financial, 2013, cash, statements",
          "<b>Topic 0</b><br>Words: cash, 2015, financial, million, income",
          "<b>Topic 0</b><br>Words: financial, 2016, cash, income, million",
          "<b>Topic 0</b><br>Words: financial, tax, cash, million, 2017",
          "<b>Topic 0</b><br>Words: financial, 2018, cash, tax, income",
          "<b>Topic 0</b><br>Words: financial, 2019, cash, tax, 2018",
          "<b>Topic 0</b><br>Words: shareholder, program, offered, siemens, 2020",
          "<b>Topic 0</b><br>Words: taxes, share, financial, document, program",
          "<b>Topic 0</b><br>Words: 2022, ff, share, taxes, ee",
          "<b>Topic 0</b><br>Words: ff, taxes, ee, 2023, sc",
          "<b>Topic 0</b><br>Words: ff, share, 2024, ee, calculations"
         ],
         "marker": {
          "color": "#E69F00"
         },
         "mode": "lines",
         "name": "0_financial_cash_million_income",
         "type": "scatter",
         "x": {
          "bdata": "3QfeB98H4AfhB+IH4wfkB+UH5gfnB+gH",
          "dtype": "i2"
         },
         "y": {
          "bdata": "HAG6AHwAegCXAKEAmQABAAMAAgACAAMA",
          "dtype": "i2"
         }
        },
        {
         "hoverinfo": "text",
         "hovertext": [
          "<b>Topic 1</b><br>Words: environmental, sustainability, portfolio, emissions, siemens",
          "<b>Topic 1</b><br>Words: environmental, sustainability, portfolio, siemens, report",
          "<b>Topic 1</b><br>Words: environmental, portfolio, sustainability, emissions, carbon",
          "<b>Topic 1</b><br>Words: environmental, portfolio, sustainability, emissions, carbon",
          "<b>Topic 1</b><br>Words: environmental, portfolio, emissions, sustainability, gri",
          "<b>Topic 1</b><br>Words: environmental, portfolio, sustainability, emissions, carbon",
          "<b>Topic 1</b><br>Words: environmental, portfolio, emissions, sustainability, carbon",
          "<b>Topic 1</b><br>Words: sustainability, environmental, siemens, emissions, 2020",
          "<b>Topic 1</b><br>Words: sustainability, gri, wef, environmental, emissions",
          "<b>Topic 1</b><br>Words: gri, sustainability, wef, emissions, 2022",
          "<b>Topic 1</b><br>Words: gri, sustainability, wef, emissions, 30th",
          "<b>Topic 1</b><br>Words: sustainability, gri, emissions, wef, 2024"
         ],
         "marker": {
          "color": "#56B4E9"
         },
         "mode": "lines",
         "name": "1_sustainability_environmental_gri_emiss...",
         "type": "scatter",
         "x": {
          "bdata": "3QfeB98H4AfhB+IH4wfkB+UH5gfnB+gH",
          "dtype": "i2"
         },
         "y": {
          "bdata": "QgAjACYAKwAsACsAIwBAAGEAdwCrALUA",
          "dtype": "i2"
         }
        },
        {
         "hoverinfo": "text",
         "hovertext": [
          "<b>Topic 2</b><br>Words: compliance, risks, risk, business, conduct",
          "<b>Topic 2</b><br>Words: compliance, business, risks, risk, suppliers",
          "<b>Topic 2</b><br>Words: compliance, business, risks, risk, suppliers",
          "<b>Topic 2</b><br>Words: compliance, risk, risks, business, suppliers",
          "<b>Topic 2</b><br>Words: compliance, human, rights, risk, business",
          "<b>Topic 2</b><br>Words: compliance, human, rights, business, risk",
          "<b>Topic 2</b><br>Words: compliance, human, rights, business, risk",
          "<b>Topic 2</b><br>Words: compliance, human, rights, business, risk",
          "<b>Topic 2</b><br>Words: compliance, human, rights, risk, business",
          "<b>Topic 2</b><br>Words: compliance, human, rights, risk, business",
          "<b>Topic 2</b><br>Words: compliance, human, rights, risk, business",
          "<b>Topic 2</b><br>Words: human, compliance, rights, risk, suppliers"
         ],
         "marker": {
          "color": "#009E73"
         },
         "mode": "lines",
         "name": "2_compliance_human_rights_risk",
         "type": "scatter",
         "x": {
          "bdata": "3QfeB98H4AfhB+IH4wfkB+UH5gfnB+gH",
          "dtype": "i2"
         },
         "y": {
          "bdata": "Rzg8QT5OMTBFT1RM",
          "dtype": "i1"
         }
        },
        {
         "hoverinfo": "text",
         "hovertext": [
          "<b>Topic 3</b><br>Words: board, supervisory, siemens, chairman, ag",
          "<b>Topic 3</b><br>Words: board, supervisory, chairman, siemens, managing",
          "<b>Topic 3</b><br>Words: board, supervisory, siemens, chairman, managing",
          "<b>Topic 3</b><br>Words: board, supervisory, siemens, ag, chairman",
          "<b>Topic 3</b><br>Words: board, supervisory, siemens, 100, india",
          "<b>Topic 3</b><br>Words: board, supervisory, siemens, 100, company",
          "<b>Topic 3</b><br>Words: board, supervisory, 100, siemens, limited",
          "<b>Topic 3</b><br>Words: siemens, sidiaries, situated, digi, germany",
          "<b>Topic 3</b><br>Words: strategy, board, company, managing, advises"
         ],
         "marker": {
          "color": "#F0E442"
         },
         "mode": "lines",
         "name": "3_board_supervisory_siemens_chairman",
         "type": "scatter",
         "x": {
          "bdata": "3QfeB98H4AfhB+IH4wfkB+cH",
          "dtype": "i2"
         },
         "y": {
          "bdata": "hABZAC4ALABJAFoAVwABAAEA",
          "dtype": "i2"
         }
        },
        {
         "hoverinfo": "text",
         "hovertext": [
          "<b>Topic 4</b><br>Words: diversity, programs, employees, learning, people",
          "<b>Topic 4</b><br>Words: culture, people, diversity, company, siemens",
          "<b>Topic 4</b><br>Words: people, diversity, employees, learning, programs",
          "<b>Topic 4</b><br>Words: diversity, people, employees, siemens, citizenship",
          "<b>Topic 4</b><br>Words: people, diversity, employees, education, siemens",
          "<b>Topic 4</b><br>Words: people, diversity, employees, siemens, learning",
          "<b>Topic 4</b><br>Words: people, diversity, learning, women, siemens",
          "<b>Topic 4</b><br>Words: diversity, people, employees, learning, siemens",
          "<b>Topic 4</b><br>Words: people, diversity, learning, siemens, women",
          "<b>Topic 4</b><br>Words: people, learning, diversity, siemens, women",
          "<b>Topic 4</b><br>Words: people, learning, diversity, siemens, programs",
          "<b>Topic 4</b><br>Words: people, learning, diversity, siemens, programs"
         ],
         "marker": {
          "color": "#D55E00"
         },
         "mode": "lines",
         "name": "4_people_diversity_learning_siemens",
         "type": "scatter",
         "x": {
          "bdata": "3QfeB98H4AfhB+IH4wfkB+UH5gfnB+gH",
          "dtype": "i2"
         },
         "y": {
          "bdata": "JCIPChccDSM0LDs7",
          "dtype": "i1"
         }
        },
        {
         "hoverinfo": "text",
         "hovertext": [
          "<b>Topic 5</b><br>Words: compensation, benefit, board, managing, benefits",
          "<b>Topic 5</b><br>Words: compensation, board, managing, 000, benefit",
          "<b>Topic 5</b><br>Words: compensation, board, 2015, managing, benefits",
          "<b>Topic 5</b><br>Words: compensation, board, 2015, managing, 2016",
          "<b>Topic 5</b><br>Words: compensation, board, 2016, managing, 2017",
          "<b>Topic 5</b><br>Words: compensation, board, managing, pension, benefit",
          "<b>Topic 5</b><br>Words: compensation, board, managing, benefits, pension",
          "<b>Topic 5</b><br>Words: plans, defined, pension, benefit, contribution",
          "<b>Topic 5</b><br>Words: plans, defined, benefit, contributions, contribution"
         ],
         "marker": {
          "color": "#0072B2"
         },
         "mode": "lines",
         "name": "5_compensation_board_managing_benefit",
         "type": "scatter",
         "x": {
          "bdata": "3QfeB98H4AfhB+IH4wfkB+UH",
          "dtype": "i2"
         },
         "y": {
          "bdata": "SzclJC4oOQEB",
          "dtype": "i1"
         }
        },
        {
         "hoverinfo": "text",
         "hovertext": [
          "<b>Topic 6</b><br>Words: growth, markets, fiscal, year, 2013",
          "<b>Topic 6</b><br>Words: growth, markets, year, market, 2014",
          "<b>Topic 6</b><br>Words: growth, markets, division, revenue, year",
          "<b>Topic 6</b><br>Words: growth, orders, division, markets, market",
          "<b>Topic 6</b><br>Words: growth, markets, revenue, market, year",
          "<b>Topic 6</b><br>Words: growth, orders, revenue, year, fiscal",
          "<b>Topic 6</b><br>Words: growth, revenue, orders, year, fiscal",
          "<b>Topic 6</b><br>Words: 2020, patents, fiscal, held, approximately",
          "<b>Topic 6</b><br>Words: billion, expenditure, patents, compared, 2021",
          "<b>Topic 6</b><br>Words: expenses, billion, 2023, capitalized, rated",
          "<b>Topic 6</b><br>Words: commonwealth, independent, states, growth, markets"
         ],
         "marker": {
          "color": "#CC79A7"
         },
         "mode": "lines",
         "name": "6_growth_markets_year_revenue",
         "type": "scatter",
         "x": {
          "bdata": "3QfeB98H4AfhB+IH4wfkB+UH5wfoBw==",
          "dtype": "i2"
         },
         "y": {
          "bdata": "OywhJikjKwMCAQE=",
          "dtype": "i1"
         }
        },
        {
         "hoverinfo": "text",
         "hovertext": [
          "<b>Topic 7</b><br>Words: production, solutions, industry, industrial, manufacturing",
          "<b>Topic 7</b><br>Words: software, solutions, production, customers, business",
          "<b>Topic 7</b><br>Words: solutions, division, products, digital, investments",
          "<b>Topic 7</b><br>Words: solutions, digital, services, systems, process",
          "<b>Topic 7</b><br>Words: digital, solutions, customers, production, mindsphere",
          "<b>Topic 7</b><br>Words: digital, solutions, customers, new, products",
          "<b>Topic 7</b><br>Words: digital, industries, investments, solutions, new",
          "<b>Topic 7</b><br>Words: customers, new, digitalization, digital, technology",
          "<b>Topic 7</b><br>Words: customers, digital, technology, business, sustainable",
          "<b>Topic 7</b><br>Words: digital, customers, sustainable, solutions, technology",
          "<b>Topic 7</b><br>Words: digital, customers, sustainable, siemens, solutions",
          "<b>Topic 7</b><br>Words: digital, customers, technology, sustainable, siemens"
         ],
         "marker": {
          "color": "#E69F00"
         },
         "mode": "lines",
         "name": "7_digital_solutions_customers_production",
         "type": "scatter",
         "x": {
          "bdata": "3QfeB98H4AfhB+IH4wfkB+UH5gfnB+gH",
          "dtype": "i2"
         },
         "y": {
          "bdata": "QS8NER0YDxMMEBYV",
          "dtype": "i1"
         }
        },
        {
         "hoverinfo": "text",
         "hovertext": [
          "<b>Topic 8</b><br>Words: 100, gmbh, siemens, 10010, china",
          "<b>Topic 8</b><br>Words: 100, gmbh, siemens, 10011, grünwald",
          "<b>Topic 8</b><br>Words: 100, gmbh, siemens, spain, limited",
          "<b>Topic 8</b><br>Words: 100, gmbh, siemens, spain, china",
          "<b>Topic 8</b><br>Words: 100, gmbh, siemens, spain, limited",
          "<b>Topic 8</b><br>Words: 100, gmbh, siemens, spain, gamesa",
          "<b>Topic 8</b><br>Words: 100, gmbh, siemens, spain, gamesa"
         ],
         "marker": {
          "color": "#56B4E9"
         },
         "mode": "lines",
         "name": "8_100_gmbh_siemens_spain",
         "type": "scatter",
         "x": {
          "bdata": "3QfeB98H4AfhB+IH4wc=",
          "dtype": "i2"
         },
         "y": {
          "bdata": "CQUQC1JNTA==",
          "dtype": "i1"
         }
        },
        {
         "hoverinfo": "text",
         "hovertext": [
          "<b>Topic 9</b><br>Words: safety, health, occupational, work, employees",
          "<b>Topic 9</b><br>Words: safety, health, occupational, work, employees",
          "<b>Topic 9</b><br>Words: safety, health, occupational, contractors, work",
          "<b>Topic 9</b><br>Words: safety, fatalities, work, health, contractors",
          "<b>Topic 9</b><br>Words: safety, health, contractors, work, employees",
          "<b>Topic 9</b><br>Words: safety, health, work, occupational, contractors",
          "<b>Topic 9</b><br>Words: safety, health, work, occupational, employees",
          "<b>Topic 9</b><br>Words: health, safety, occupational, employees, work",
          "<b>Topic 9</b><br>Words: safety, health, work, healthy, occupational",
          "<b>Topic 9</b><br>Words: health, safety, work, occupational, healthy",
          "<b>Topic 9</b><br>Words: safety, health, work, occupational, healthy",
          "<b>Topic 9</b><br>Words: safety, health, work, occupational, employees"
         ],
         "marker": {
          "color": "#009E73"
         },
         "mode": "lines",
         "name": "9_safety_health_work_occupational",
         "type": "scatter",
         "x": {
          "bdata": "3QfeB98H4AfhB+IH4wfkB+UH5gfnB+gH",
          "dtype": "i2"
         },
         "y": {
          "bdata": "DgsKBwYMCxIUExIV",
          "dtype": "i1"
         }
        }
       ],
       "layout": {
        "height": 450,
        "hoverlabel": {
         "bgcolor": "white",
         "font": {
          "family": "Rockwell",
          "size": 16
         }
        },
        "legend": {
         "title": {
          "text": "<b>Global Topic Representation"
         }
        },
        "template": {
         "data": {
          "bar": [
           {
            "error_x": {
             "color": "rgb(36,36,36)"
            },
            "error_y": {
             "color": "rgb(36,36,36)"
            },
            "marker": {
             "line": {
              "color": "white",
              "width": 0.5
             },
             "pattern": {
              "fillmode": "overlay",
              "size": 10,
              "solidity": 0.2
             }
            },
            "type": "bar"
           }
          ],
          "barpolar": [
           {
            "marker": {
             "line": {
              "color": "white",
              "width": 0.5
             },
             "pattern": {
              "fillmode": "overlay",
              "size": 10,
              "solidity": 0.2
             }
            },
            "type": "barpolar"
           }
          ],
          "carpet": [
           {
            "aaxis": {
             "endlinecolor": "rgb(36,36,36)",
             "gridcolor": "white",
             "linecolor": "white",
             "minorgridcolor": "white",
             "startlinecolor": "rgb(36,36,36)"
            },
            "baxis": {
             "endlinecolor": "rgb(36,36,36)",
             "gridcolor": "white",
             "linecolor": "white",
             "minorgridcolor": "white",
             "startlinecolor": "rgb(36,36,36)"
            },
            "type": "carpet"
           }
          ],
          "choropleth": [
           {
            "colorbar": {
             "outlinewidth": 1,
             "tickcolor": "rgb(36,36,36)",
             "ticks": "outside"
            },
            "type": "choropleth"
           }
          ],
          "contour": [
           {
            "colorbar": {
             "outlinewidth": 1,
             "tickcolor": "rgb(36,36,36)",
             "ticks": "outside"
            },
            "colorscale": [
             [
              0,
              "#440154"
             ],
             [
              0.1111111111111111,
              "#482878"
             ],
             [
              0.2222222222222222,
              "#3e4989"
             ],
             [
              0.3333333333333333,
              "#31688e"
             ],
             [
              0.4444444444444444,
              "#26828e"
             ],
             [
              0.5555555555555556,
              "#1f9e89"
             ],
             [
              0.6666666666666666,
              "#35b779"
             ],
             [
              0.7777777777777778,
              "#6ece58"
             ],
             [
              0.8888888888888888,
              "#b5de2b"
             ],
             [
              1,
              "#fde725"
             ]
            ],
            "type": "contour"
           }
          ],
          "contourcarpet": [
           {
            "colorbar": {
             "outlinewidth": 1,
             "tickcolor": "rgb(36,36,36)",
             "ticks": "outside"
            },
            "type": "contourcarpet"
           }
          ],
          "heatmap": [
           {
            "colorbar": {
             "outlinewidth": 1,
             "tickcolor": "rgb(36,36,36)",
             "ticks": "outside"
            },
            "colorscale": [
             [
              0,
              "#440154"
             ],
             [
              0.1111111111111111,
              "#482878"
             ],
             [
              0.2222222222222222,
              "#3e4989"
             ],
             [
              0.3333333333333333,
              "#31688e"
             ],
             [
              0.4444444444444444,
              "#26828e"
             ],
             [
              0.5555555555555556,
              "#1f9e89"
             ],
             [
              0.6666666666666666,
              "#35b779"
             ],
             [
              0.7777777777777778,
              "#6ece58"
             ],
             [
              0.8888888888888888,
              "#b5de2b"
             ],
             [
              1,
              "#fde725"
             ]
            ],
            "type": "heatmap"
           }
          ],
          "histogram": [
           {
            "marker": {
             "line": {
              "color": "white",
              "width": 0.6
             }
            },
            "type": "histogram"
           }
          ],
          "histogram2d": [
           {
            "colorbar": {
             "outlinewidth": 1,
             "tickcolor": "rgb(36,36,36)",
             "ticks": "outside"
            },
            "colorscale": [
             [
              0,
              "#440154"
             ],
             [
              0.1111111111111111,
              "#482878"
             ],
             [
              0.2222222222222222,
              "#3e4989"
             ],
             [
              0.3333333333333333,
              "#31688e"
             ],
             [
              0.4444444444444444,
              "#26828e"
             ],
             [
              0.5555555555555556,
              "#1f9e89"
             ],
             [
              0.6666666666666666,
              "#35b779"
             ],
             [
              0.7777777777777778,
              "#6ece58"
             ],
             [
              0.8888888888888888,
              "#b5de2b"
             ],
             [
              1,
              "#fde725"
             ]
            ],
            "type": "histogram2d"
           }
          ],
          "histogram2dcontour": [
           {
            "colorbar": {
             "outlinewidth": 1,
             "tickcolor": "rgb(36,36,36)",
             "ticks": "outside"
            },
            "colorscale": [
             [
              0,
              "#440154"
             ],
             [
              0.1111111111111111,
              "#482878"
             ],
             [
              0.2222222222222222,
              "#3e4989"
             ],
             [
              0.3333333333333333,
              "#31688e"
             ],
             [
              0.4444444444444444,
              "#26828e"
             ],
             [
              0.5555555555555556,
              "#1f9e89"
             ],
             [
              0.6666666666666666,
              "#35b779"
             ],
             [
              0.7777777777777778,
              "#6ece58"
             ],
             [
              0.8888888888888888,
              "#b5de2b"
             ],
             [
              1,
              "#fde725"
             ]
            ],
            "type": "histogram2dcontour"
           }
          ],
          "mesh3d": [
           {
            "colorbar": {
             "outlinewidth": 1,
             "tickcolor": "rgb(36,36,36)",
             "ticks": "outside"
            },
            "type": "mesh3d"
           }
          ],
          "parcoords": [
           {
            "line": {
             "colorbar": {
              "outlinewidth": 1,
              "tickcolor": "rgb(36,36,36)",
              "ticks": "outside"
             }
            },
            "type": "parcoords"
           }
          ],
          "pie": [
           {
            "automargin": true,
            "type": "pie"
           }
          ],
          "scatter": [
           {
            "fillpattern": {
             "fillmode": "overlay",
             "size": 10,
             "solidity": 0.2
            },
            "type": "scatter"
           }
          ],
          "scatter3d": [
           {
            "line": {
             "colorbar": {
              "outlinewidth": 1,
              "tickcolor": "rgb(36,36,36)",
              "ticks": "outside"
             }
            },
            "marker": {
             "colorbar": {
              "outlinewidth": 1,
              "tickcolor": "rgb(36,36,36)",
              "ticks": "outside"
             }
            },
            "type": "scatter3d"
           }
          ],
          "scattercarpet": [
           {
            "marker": {
             "colorbar": {
              "outlinewidth": 1,
              "tickcolor": "rgb(36,36,36)",
              "ticks": "outside"
             }
            },
            "type": "scattercarpet"
           }
          ],
          "scattergeo": [
           {
            "marker": {
             "colorbar": {
              "outlinewidth": 1,
              "tickcolor": "rgb(36,36,36)",
              "ticks": "outside"
             }
            },
            "type": "scattergeo"
           }
          ],
          "scattergl": [
           {
            "marker": {
             "colorbar": {
              "outlinewidth": 1,
              "tickcolor": "rgb(36,36,36)",
              "ticks": "outside"
             }
            },
            "type": "scattergl"
           }
          ],
          "scattermap": [
           {
            "marker": {
             "colorbar": {
              "outlinewidth": 1,
              "tickcolor": "rgb(36,36,36)",
              "ticks": "outside"
             }
            },
            "type": "scattermap"
           }
          ],
          "scattermapbox": [
           {
            "marker": {
             "colorbar": {
              "outlinewidth": 1,
              "tickcolor": "rgb(36,36,36)",
              "ticks": "outside"
             }
            },
            "type": "scattermapbox"
           }
          ],
          "scatterpolar": [
           {
            "marker": {
             "colorbar": {
              "outlinewidth": 1,
              "tickcolor": "rgb(36,36,36)",
              "ticks": "outside"
             }
            },
            "type": "scatterpolar"
           }
          ],
          "scatterpolargl": [
           {
            "marker": {
             "colorbar": {
              "outlinewidth": 1,
              "tickcolor": "rgb(36,36,36)",
              "ticks": "outside"
             }
            },
            "type": "scatterpolargl"
           }
          ],
          "scatterternary": [
           {
            "marker": {
             "colorbar": {
              "outlinewidth": 1,
              "tickcolor": "rgb(36,36,36)",
              "ticks": "outside"
             }
            },
            "type": "scatterternary"
           }
          ],
          "surface": [
           {
            "colorbar": {
             "outlinewidth": 1,
             "tickcolor": "rgb(36,36,36)",
             "ticks": "outside"
            },
            "colorscale": [
             [
              0,
              "#440154"
             ],
             [
              0.1111111111111111,
              "#482878"
             ],
             [
              0.2222222222222222,
              "#3e4989"
             ],
             [
              0.3333333333333333,
              "#31688e"
             ],
             [
              0.4444444444444444,
              "#26828e"
             ],
             [
              0.5555555555555556,
              "#1f9e89"
             ],
             [
              0.6666666666666666,
              "#35b779"
             ],
             [
              0.7777777777777778,
              "#6ece58"
             ],
             [
              0.8888888888888888,
              "#b5de2b"
             ],
             [
              1,
              "#fde725"
             ]
            ],
            "type": "surface"
           }
          ],
          "table": [
           {
            "cells": {
             "fill": {
              "color": "rgb(237,237,237)"
             },
             "line": {
              "color": "white"
             }
            },
            "header": {
             "fill": {
              "color": "rgb(217,217,217)"
             },
             "line": {
              "color": "white"
             }
            },
            "type": "table"
           }
          ]
         },
         "layout": {
          "annotationdefaults": {
           "arrowhead": 0,
           "arrowwidth": 1
          },
          "autotypenumbers": "strict",
          "coloraxis": {
           "colorbar": {
            "outlinewidth": 1,
            "tickcolor": "rgb(36,36,36)",
            "ticks": "outside"
           }
          },
          "colorscale": {
           "diverging": [
            [
             0,
             "rgb(103,0,31)"
            ],
            [
             0.1,
             "rgb(178,24,43)"
            ],
            [
             0.2,
             "rgb(214,96,77)"
            ],
            [
             0.3,
             "rgb(244,165,130)"
            ],
            [
             0.4,
             "rgb(253,219,199)"
            ],
            [
             0.5,
             "rgb(247,247,247)"
            ],
            [
             0.6,
             "rgb(209,229,240)"
            ],
            [
             0.7,
             "rgb(146,197,222)"
            ],
            [
             0.8,
             "rgb(67,147,195)"
            ],
            [
             0.9,
             "rgb(33,102,172)"
            ],
            [
             1,
             "rgb(5,48,97)"
            ]
           ],
           "sequential": [
            [
             0,
             "#440154"
            ],
            [
             0.1111111111111111,
             "#482878"
            ],
            [
             0.2222222222222222,
             "#3e4989"
            ],
            [
             0.3333333333333333,
             "#31688e"
            ],
            [
             0.4444444444444444,
             "#26828e"
            ],
            [
             0.5555555555555556,
             "#1f9e89"
            ],
            [
             0.6666666666666666,
             "#35b779"
            ],
            [
             0.7777777777777778,
             "#6ece58"
            ],
            [
             0.8888888888888888,
             "#b5de2b"
            ],
            [
             1,
             "#fde725"
            ]
           ],
           "sequentialminus": [
            [
             0,
             "#440154"
            ],
            [
             0.1111111111111111,
             "#482878"
            ],
            [
             0.2222222222222222,
             "#3e4989"
            ],
            [
             0.3333333333333333,
             "#31688e"
            ],
            [
             0.4444444444444444,
             "#26828e"
            ],
            [
             0.5555555555555556,
             "#1f9e89"
            ],
            [
             0.6666666666666666,
             "#35b779"
            ],
            [
             0.7777777777777778,
             "#6ece58"
            ],
            [
             0.8888888888888888,
             "#b5de2b"
            ],
            [
             1,
             "#fde725"
            ]
           ]
          },
          "colorway": [
           "#1F77B4",
           "#FF7F0E",
           "#2CA02C",
           "#D62728",
           "#9467BD",
           "#8C564B",
           "#E377C2",
           "#7F7F7F",
           "#BCBD22",
           "#17BECF"
          ],
          "font": {
           "color": "rgb(36,36,36)"
          },
          "geo": {
           "bgcolor": "white",
           "lakecolor": "white",
           "landcolor": "white",
           "showlakes": true,
           "showland": true,
           "subunitcolor": "white"
          },
          "hoverlabel": {
           "align": "left"
          },
          "hovermode": "closest",
          "mapbox": {
           "style": "light"
          },
          "paper_bgcolor": "white",
          "plot_bgcolor": "white",
          "polar": {
           "angularaxis": {
            "gridcolor": "rgb(232,232,232)",
            "linecolor": "rgb(36,36,36)",
            "showgrid": false,
            "showline": true,
            "ticks": "outside"
           },
           "bgcolor": "white",
           "radialaxis": {
            "gridcolor": "rgb(232,232,232)",
            "linecolor": "rgb(36,36,36)",
            "showgrid": false,
            "showline": true,
            "ticks": "outside"
           }
          },
          "scene": {
           "xaxis": {
            "backgroundcolor": "white",
            "gridcolor": "rgb(232,232,232)",
            "gridwidth": 2,
            "linecolor": "rgb(36,36,36)",
            "showbackground": true,
            "showgrid": false,
            "showline": true,
            "ticks": "outside",
            "zeroline": false,
            "zerolinecolor": "rgb(36,36,36)"
           },
           "yaxis": {
            "backgroundcolor": "white",
            "gridcolor": "rgb(232,232,232)",
            "gridwidth": 2,
            "linecolor": "rgb(36,36,36)",
            "showbackground": true,
            "showgrid": false,
            "showline": true,
            "ticks": "outside",
            "zeroline": false,
            "zerolinecolor": "rgb(36,36,36)"
           },
           "zaxis": {
            "backgroundcolor": "white",
            "gridcolor": "rgb(232,232,232)",
            "gridwidth": 2,
            "linecolor": "rgb(36,36,36)",
            "showbackground": true,
            "showgrid": false,
            "showline": true,
            "ticks": "outside",
            "zeroline": false,
            "zerolinecolor": "rgb(36,36,36)"
           }
          },
          "shapedefaults": {
           "fillcolor": "black",
           "line": {
            "width": 0
           },
           "opacity": 0.3
          },
          "ternary": {
           "aaxis": {
            "gridcolor": "rgb(232,232,232)",
            "linecolor": "rgb(36,36,36)",
            "showgrid": false,
            "showline": true,
            "ticks": "outside"
           },
           "baxis": {
            "gridcolor": "rgb(232,232,232)",
            "linecolor": "rgb(36,36,36)",
            "showgrid": false,
            "showline": true,
            "ticks": "outside"
           },
           "bgcolor": "white",
           "caxis": {
            "gridcolor": "rgb(232,232,232)",
            "linecolor": "rgb(36,36,36)",
            "showgrid": false,
            "showline": true,
            "ticks": "outside"
           }
          },
          "title": {
           "x": 0.05
          },
          "xaxis": {
           "automargin": true,
           "gridcolor": "rgb(232,232,232)",
           "linecolor": "rgb(36,36,36)",
           "showgrid": false,
           "showline": true,
           "ticks": "outside",
           "title": {
            "standoff": 15
           },
           "zeroline": false,
           "zerolinecolor": "rgb(36,36,36)"
          },
          "yaxis": {
           "automargin": true,
           "gridcolor": "rgb(232,232,232)",
           "linecolor": "rgb(36,36,36)",
           "showgrid": false,
           "showline": true,
           "ticks": "outside",
           "title": {
            "standoff": 15
           },
           "zeroline": false,
           "zerolinecolor": "rgb(36,36,36)"
          }
         }
        },
        "title": {
         "font": {
          "color": "Black",
          "size": 22
         },
         "text": "<b>Topics over Time</b>",
         "x": 0.4,
         "xanchor": "center",
         "y": 0.95,
         "yanchor": "top"
        },
        "width": 1250,
        "xaxis": {
         "showgrid": true
        },
        "yaxis": {
         "showgrid": true,
         "title": {
          "text": "Frequency"
         }
        }
       }
      }
     },
     "metadata": {},
     "output_type": "display_data"
    }
   ],
   "source": [
    "topics_over_time = topic_model.topics_over_time(flat_chunks, years)\n",
    "topic_model.visualize_topics_over_time(topics_over_time, top_n_topics=10)"
   ]
  },
  {
   "cell_type": "code",
   "execution_count": 14,
   "id": "3f599015-7617-4d2c-9227-b81bb2f169f5",
   "metadata": {},
   "outputs": [
    {
     "data": {
      "text/html": [
       "<div>\n",
       "<style scoped>\n",
       "    .dataframe tbody tr th:only-of-type {\n",
       "        vertical-align: middle;\n",
       "    }\n",
       "\n",
       "    .dataframe tbody tr th {\n",
       "        vertical-align: top;\n",
       "    }\n",
       "\n",
       "    .dataframe thead th {\n",
       "        text-align: right;\n",
       "    }\n",
       "</style>\n",
       "<table border=\"1\" class=\"dataframe\">\n",
       "  <thead>\n",
       "    <tr style=\"text-align: right;\">\n",
       "      <th></th>\n",
       "      <th>Topic</th>\n",
       "      <th>Count</th>\n",
       "      <th>Name</th>\n",
       "      <th>Representation</th>\n",
       "      <th>Representative_Docs</th>\n",
       "    </tr>\n",
       "  </thead>\n",
       "  <tbody>\n",
       "    <tr>\n",
       "      <th>0</th>\n",
       "      <td>-1</td>\n",
       "      <td>2163</td>\n",
       "      <td>-1_siemens_fiscal_financial_year</td>\n",
       "      <td>[siemens, fiscal, financial, year, million, in...</td>\n",
       "      <td>[The largest equity instrument allocated to le...</td>\n",
       "    </tr>\n",
       "    <tr>\n",
       "      <th>1</th>\n",
       "      <td>0</td>\n",
       "      <td>1192</td>\n",
       "      <td>0_financial_cash_million_income</td>\n",
       "      <td>[financial, cash, million, income, shares, sta...</td>\n",
       "      <td>[The change in Income taxes  resulted from hig...</td>\n",
       "    </tr>\n",
       "    <tr>\n",
       "      <th>2</th>\n",
       "      <td>1</td>\n",
       "      <td>936</td>\n",
       "      <td>1_sustainability_environmental_gri_emissions</td>\n",
       "      <td>[sustainability, environmental, gri, emissions...</td>\n",
       "      <td>[For consistency reasons, we generally apply g...</td>\n",
       "    </tr>\n",
       "    <tr>\n",
       "      <th>3</th>\n",
       "      <td>2</td>\n",
       "      <td>797</td>\n",
       "      <td>2_compliance_human_rights_risk</td>\n",
       "      <td>[compliance, human, rights, risk, business, ri...</td>\n",
       "      <td>[Global agreements \\nSiemens has been an activ...</td>\n",
       "    </tr>\n",
       "    <tr>\n",
       "      <th>4</th>\n",
       "      <td>3</td>\n",
       "      <td>563</td>\n",
       "      <td>3_board_supervisory_siemens_chairman</td>\n",
       "      <td>[board, supervisory, siemens, chairman, ag, co...</td>\n",
       "      <td>[Details regarding the work of the Supervisory...</td>\n",
       "    </tr>\n",
       "    <tr>\n",
       "      <th>5</th>\n",
       "      <td>4</td>\n",
       "      <td>408</td>\n",
       "      <td>4_people_diversity_learning_siemens</td>\n",
       "      <td>[people, diversity, learning, siemens, program...</td>\n",
       "      <td>[5.1 Working at Siemens5.2 \\nDiversity, Equity...</td>\n",
       "    </tr>\n",
       "    <tr>\n",
       "      <th>6</th>\n",
       "      <td>5</td>\n",
       "      <td>348</td>\n",
       "      <td>5_compensation_board_managing_benefit</td>\n",
       "      <td>[compensation, board, managing, benefit, pensi...</td>\n",
       "      <td>[10\\n  Prof. Dr. Russwurm left the Managing Bo...</td>\n",
       "    </tr>\n",
       "    <tr>\n",
       "      <th>7</th>\n",
       "      <td>6</td>\n",
       "      <td>300</td>\n",
       "      <td>6_growth_markets_year_revenue</td>\n",
       "      <td>[growth, markets, year, revenue, orders, fisca...</td>\n",
       "      <td>[C.9.1.2  MARKET DEVEL OPMENT\\nIn fiscal 2015,...</td>\n",
       "    </tr>\n",
       "    <tr>\n",
       "      <th>8</th>\n",
       "      <td>7</td>\n",
       "      <td>300</td>\n",
       "      <td>7_digital_solutions_customers_production</td>\n",
       "      <td>[digital, solutions, customers, production, bu...</td>\n",
       "      <td>[→Innovation and development cycles have \\nsho...</td>\n",
       "    </tr>\n",
       "    <tr>\n",
       "      <th>9</th>\n",
       "      <td>8</td>\n",
       "      <td>276</td>\n",
       "      <td>8_100_gmbh_siemens_spain</td>\n",
       "      <td>[100, gmbh, siemens, spain, limited, healthcar...</td>\n",
       "      <td>[10\\n Ex\\nemption pursuant to Section 264 (3) ...</td>\n",
       "    </tr>\n",
       "    <tr>\n",
       "      <th>10</th>\n",
       "      <td>9</td>\n",
       "      <td>167</td>\n",
       "      <td>9_safety_health_work_occupational</td>\n",
       "      <td>[safety, health, work, occupational, employees...</td>\n",
       "      <td>[→ Managers and employees can take advantage o...</td>\n",
       "    </tr>\n",
       "    <tr>\n",
       "      <th>11</th>\n",
       "      <td>10</td>\n",
       "      <td>156</td>\n",
       "      <td>10_cybersecurity_data_security_privacy</td>\n",
       "      <td>[cybersecurity, data, security, privacy, ai, p...</td>\n",
       "      <td>[Proactively dealing with threats, \\nincidents...</td>\n",
       "    </tr>\n",
       "    <tr>\n",
       "      <th>12</th>\n",
       "      <td>11</td>\n",
       "      <td>122</td>\n",
       "      <td>11_rate_currency_financial_foreign</td>\n",
       "      <td>[rate, currency, financial, foreign, fair, ins...</td>\n",
       "      <td>[The Company had interest rate swap contracts ...</td>\n",
       "    </tr>\n",
       "    <tr>\n",
       "      <th>13</th>\n",
       "      <td>12</td>\n",
       "      <td>117</td>\n",
       "      <td>12_arrangements_contractual_ol_circumstances</td>\n",
       "      <td>[arrangements, contractual, ol, circumstances,...</td>\n",
       "      <td>[2 \\n Contr\\nol due to rights to appoint, reas...</td>\n",
       "    </tr>\n",
       "    <tr>\n",
       "      <th>14</th>\n",
       "      <td>13</td>\n",
       "      <td>115</td>\n",
       "      <td>13_emption_264_immateriality_pursuant</td>\n",
       "      <td>[emption, 264, immateriality, pursuant, sectio...</td>\n",
       "      <td>[6 Signif\\nicant influence due to contractual ...</td>\n",
       "    </tr>\n",
       "    <tr>\n",
       "      <th>15</th>\n",
       "      <td>14</td>\n",
       "      <td>109</td>\n",
       "      <td>14_healthcare_medical_care_imaging</td>\n",
       "      <td>[healthcare, medical, care, imaging, diagnosti...</td>\n",
       "      <td>[Under the new organizational structure report...</td>\n",
       "    </tr>\n",
       "    <tr>\n",
       "      <th>16</th>\n",
       "      <td>15</td>\n",
       "      <td>107</td>\n",
       "      <td>15_power_gas_energy_division</td>\n",
       "      <td>[power, gas, energy, division, consumption, tu...</td>\n",
       "      <td>[A.1.1.2  BUSINES S DESCRIPTION\\nThe Power and...</td>\n",
       "    </tr>\n",
       "    <tr>\n",
       "      <th>17</th>\n",
       "      <td>16</td>\n",
       "      <td>95</td>\n",
       "      <td>16_employees_turnover_percentage_asia</td>\n",
       "      <td>[employees, turnover, percentage, asia, common...</td>\n",
       "      <td>[Siemens employee hires (in thousands) 1\\nFisc...</td>\n",
       "    </tr>\n",
       "    <tr>\n",
       "      <th>18</th>\n",
       "      <td>17</td>\n",
       "      <td>80</td>\n",
       "      <td>17_water_drinking_use_wastewater</td>\n",
       "      <td>[water, drinking, use, wastewater, risks, loca...</td>\n",
       "      <td>[OUR OWN ACTIVITIES \\nFor more information abo...</td>\n",
       "    </tr>\n",
       "    <tr>\n",
       "      <th>19</th>\n",
       "      <td>18</td>\n",
       "      <td>40</td>\n",
       "      <td>18_vienna_city_häupl_michael</td>\n",
       "      <td>[vienna, city, häupl, michael, transportation,...</td>\n",
       "      <td>[What initiatives would you like to launch in ...</td>\n",
       "    </tr>\n",
       "    <tr>\n",
       "      <th>20</th>\n",
       "      <td>19</td>\n",
       "      <td>39</td>\n",
       "      <td>19_000_500_140_dr</td>\n",
       "      <td>[000, 500, 140, dr, 333, 150, 280, 667, 100, m...</td>\n",
       "      <td>[The compensation shown in the following table...</td>\n",
       "    </tr>\n",
       "    <tr>\n",
       "      <th>21</th>\n",
       "      <td>20</td>\n",
       "      <td>34</td>\n",
       "      <td>20_ozone_waste_r11_tons</td>\n",
       "      <td>[ozone, waste, r11, tons, organic, metric, emi...</td>\n",
       "      <td>[Emissions of air pollutants\\nIn addition to t...</td>\n",
       "    </tr>\n",
       "    <tr>\n",
       "      <th>22</th>\n",
       "      <td>21</td>\n",
       "      <td>30</td>\n",
       "      <td>21_waste_storage_final_hazardous</td>\n",
       "      <td>[waste, storage, final, hazardous, hanau, faci...</td>\n",
       "      <td>[Warranties mainly relate to products sold. Or...</td>\n",
       "    </tr>\n",
       "    <tr>\n",
       "      <th>23</th>\n",
       "      <td>22</td>\n",
       "      <td>27</td>\n",
       "      <td>22_customer_score_customers_key</td>\n",
       "      <td>[customer, score, customers, key, satisfaction...</td>\n",
       "      <td>[To meet these challenges, Siemens strives to ...</td>\n",
       "    </tr>\n",
       "    <tr>\n",
       "      <th>24</th>\n",
       "      <td>23</td>\n",
       "      <td>25</td>\n",
       "      <td>23_comparison_solution_reference_installed</td>\n",
       "      <td>[comparison, solution, reference, installed, r...</td>\n",
       "      <td>[Direct comparison with a reference technology...</td>\n",
       "    </tr>\n",
       "    <tr>\n",
       "      <th>25</th>\n",
       "      <td>24</td>\n",
       "      <td>22</td>\n",
       "      <td>24_iur_rer__</td>\n",
       "      <td>[iur, rer, , , , , , , , ]</td>\n",
       "      <td>[rer, iur, iur]</td>\n",
       "    </tr>\n",
       "    <tr>\n",
       "      <th>26</th>\n",
       "      <td>25</td>\n",
       "      <td>16</td>\n",
       "      <td>25_315_par_para_</td>\n",
       "      <td>[315, par, para, , , , , , , ]</td>\n",
       "      <td>[4 and 315 par\\na, 4 and 315 par\\na, 4 and 315...</td>\n",
       "    </tr>\n",
       "    <tr>\n",
       "      <th>27</th>\n",
       "      <td>26</td>\n",
       "      <td>15</td>\n",
       "      <td>26_precisely_percentages_totals_add</td>\n",
       "      <td>[precisely, percentages, totals, add, absolute...</td>\n",
       "      <td>[Due to rounding, numbers presented throughout...</td>\n",
       "    </tr>\n",
       "    <tr>\n",
       "      <th>28</th>\n",
       "      <td>27</td>\n",
       "      <td>12</td>\n",
       "      <td>27_leases_sep_30_millions</td>\n",
       "      <td>[leases, sep, 30, millions, current, receivabl...</td>\n",
       "      <td>[Minimum future lease payments under operating...</td>\n",
       "    </tr>\n",
       "    <tr>\n",
       "      <th>29</th>\n",
       "      <td>28</td>\n",
       "      <td>11</td>\n",
       "      <td>28_shs_siemens_bargaining_gbk</td>\n",
       "      <td>[shs, siemens, bargaining, gbk, brightly, coll...</td>\n",
       "      <td>[1 Siemens without SHS, 2 Siemens without SHS\\...</td>\n",
       "    </tr>\n",
       "  </tbody>\n",
       "</table>\n",
       "</div>"
      ],
      "text/plain": [
       "    Topic  Count                                          Name  \\\n",
       "0      -1   2163              -1_siemens_fiscal_financial_year   \n",
       "1       0   1192               0_financial_cash_million_income   \n",
       "2       1    936  1_sustainability_environmental_gri_emissions   \n",
       "3       2    797                2_compliance_human_rights_risk   \n",
       "4       3    563          3_board_supervisory_siemens_chairman   \n",
       "5       4    408           4_people_diversity_learning_siemens   \n",
       "6       5    348         5_compensation_board_managing_benefit   \n",
       "7       6    300                 6_growth_markets_year_revenue   \n",
       "8       7    300      7_digital_solutions_customers_production   \n",
       "9       8    276                      8_100_gmbh_siemens_spain   \n",
       "10      9    167             9_safety_health_work_occupational   \n",
       "11     10    156        10_cybersecurity_data_security_privacy   \n",
       "12     11    122            11_rate_currency_financial_foreign   \n",
       "13     12    117  12_arrangements_contractual_ol_circumstances   \n",
       "14     13    115         13_emption_264_immateriality_pursuant   \n",
       "15     14    109            14_healthcare_medical_care_imaging   \n",
       "16     15    107                  15_power_gas_energy_division   \n",
       "17     16     95         16_employees_turnover_percentage_asia   \n",
       "18     17     80              17_water_drinking_use_wastewater   \n",
       "19     18     40                  18_vienna_city_häupl_michael   \n",
       "20     19     39                             19_000_500_140_dr   \n",
       "21     20     34                       20_ozone_waste_r11_tons   \n",
       "22     21     30              21_waste_storage_final_hazardous   \n",
       "23     22     27               22_customer_score_customers_key   \n",
       "24     23     25    23_comparison_solution_reference_installed   \n",
       "25     24     22                                  24_iur_rer__   \n",
       "26     25     16                              25_315_par_para_   \n",
       "27     26     15           26_precisely_percentages_totals_add   \n",
       "28     27     12                     27_leases_sep_30_millions   \n",
       "29     28     11                 28_shs_siemens_bargaining_gbk   \n",
       "\n",
       "                                       Representation  \\\n",
       "0   [siemens, fiscal, financial, year, million, in...   \n",
       "1   [financial, cash, million, income, shares, sta...   \n",
       "2   [sustainability, environmental, gri, emissions...   \n",
       "3   [compliance, human, rights, risk, business, ri...   \n",
       "4   [board, supervisory, siemens, chairman, ag, co...   \n",
       "5   [people, diversity, learning, siemens, program...   \n",
       "6   [compensation, board, managing, benefit, pensi...   \n",
       "7   [growth, markets, year, revenue, orders, fisca...   \n",
       "8   [digital, solutions, customers, production, bu...   \n",
       "9   [100, gmbh, siemens, spain, limited, healthcar...   \n",
       "10  [safety, health, work, occupational, employees...   \n",
       "11  [cybersecurity, data, security, privacy, ai, p...   \n",
       "12  [rate, currency, financial, foreign, fair, ins...   \n",
       "13  [arrangements, contractual, ol, circumstances,...   \n",
       "14  [emption, 264, immateriality, pursuant, sectio...   \n",
       "15  [healthcare, medical, care, imaging, diagnosti...   \n",
       "16  [power, gas, energy, division, consumption, tu...   \n",
       "17  [employees, turnover, percentage, asia, common...   \n",
       "18  [water, drinking, use, wastewater, risks, loca...   \n",
       "19  [vienna, city, häupl, michael, transportation,...   \n",
       "20  [000, 500, 140, dr, 333, 150, 280, 667, 100, m...   \n",
       "21  [ozone, waste, r11, tons, organic, metric, emi...   \n",
       "22  [waste, storage, final, hazardous, hanau, faci...   \n",
       "23  [customer, score, customers, key, satisfaction...   \n",
       "24  [comparison, solution, reference, installed, r...   \n",
       "25                         [iur, rer, , , , , , , , ]   \n",
       "26                     [315, par, para, , , , , , , ]   \n",
       "27  [precisely, percentages, totals, add, absolute...   \n",
       "28  [leases, sep, 30, millions, current, receivabl...   \n",
       "29  [shs, siemens, bargaining, gbk, brightly, coll...   \n",
       "\n",
       "                                  Representative_Docs  \n",
       "0   [The largest equity instrument allocated to le...  \n",
       "1   [The change in Income taxes  resulted from hig...  \n",
       "2   [For consistency reasons, we generally apply g...  \n",
       "3   [Global agreements \\nSiemens has been an activ...  \n",
       "4   [Details regarding the work of the Supervisory...  \n",
       "5   [5.1 Working at Siemens5.2 \\nDiversity, Equity...  \n",
       "6   [10\\n  Prof. Dr. Russwurm left the Managing Bo...  \n",
       "7   [C.9.1.2  MARKET DEVEL OPMENT\\nIn fiscal 2015,...  \n",
       "8   [→Innovation and development cycles have \\nsho...  \n",
       "9   [10\\n Ex\\nemption pursuant to Section 264 (3) ...  \n",
       "10  [→ Managers and employees can take advantage o...  \n",
       "11  [Proactively dealing with threats, \\nincidents...  \n",
       "12  [The Company had interest rate swap contracts ...  \n",
       "13  [2 \\n Contr\\nol due to rights to appoint, reas...  \n",
       "14  [6 Signif\\nicant influence due to contractual ...  \n",
       "15  [Under the new organizational structure report...  \n",
       "16  [A.1.1.2  BUSINES S DESCRIPTION\\nThe Power and...  \n",
       "17  [Siemens employee hires (in thousands) 1\\nFisc...  \n",
       "18  [OUR OWN ACTIVITIES \\nFor more information abo...  \n",
       "19  [What initiatives would you like to launch in ...  \n",
       "20  [The compensation shown in the following table...  \n",
       "21  [Emissions of air pollutants\\nIn addition to t...  \n",
       "22  [Warranties mainly relate to products sold. Or...  \n",
       "23  [To meet these challenges, Siemens strives to ...  \n",
       "24  [Direct comparison with a reference technology...  \n",
       "25                                    [rer, iur, iur]  \n",
       "26  [4 and 315 par\\na, 4 and 315 par\\na, 4 and 315...  \n",
       "27  [Due to rounding, numbers presented throughout...  \n",
       "28  [Minimum future lease payments under operating...  \n",
       "29  [1 Siemens without SHS, 2 Siemens without SHS\\...  "
      ]
     },
     "execution_count": 14,
     "metadata": {},
     "output_type": "execute_result"
    }
   ],
   "source": [
    "df_topic_info=topic_model.get_topic_info()\n",
    "df_topic_info"
   ]
  },
  {
   "cell_type": "code",
   "execution_count": 15,
   "id": "f47d8b95-f3bf-4f0e-90e3-5a052dd05466",
   "metadata": {},
   "outputs": [
    {
     "name": "stdout",
     "output_type": "stream",
     "text": [
      "We have a total of 8622 documents.\n",
      "2163 are outliers.\n",
      "About 25.09% are outliers\n"
     ]
    }
   ],
   "source": [
    "total=df_topic_info[\"Count\"].sum()\n",
    "outliers=df_topic_info[\"Count\"].iloc[0]\n",
    "percentage_outliers=(outliers/total)*100\n",
    "print(f\"We have a total of {total} documents.\\n{outliers} are outliers.\\nAbout {round(percentage_outliers,2)}% are outliers\")"
   ]
  },
  {
   "cell_type": "code",
   "execution_count": 16,
   "id": "2f94e09f-ef3a-4274-a9f9-36823fa87b2c",
   "metadata": {},
   "outputs": [],
   "source": [
    "df_document_info=topic_model.get_document_info(flat_chunks)"
   ]
  },
  {
   "cell_type": "code",
   "execution_count": 17,
   "id": "7f3efff5",
   "metadata": {},
   "outputs": [
    {
     "data": {
      "text/html": [
       "<div>\n",
       "<style scoped>\n",
       "    .dataframe tbody tr th:only-of-type {\n",
       "        vertical-align: middle;\n",
       "    }\n",
       "\n",
       "    .dataframe tbody tr th {\n",
       "        vertical-align: top;\n",
       "    }\n",
       "\n",
       "    .dataframe thead th {\n",
       "        text-align: right;\n",
       "    }\n",
       "</style>\n",
       "<table border=\"1\" class=\"dataframe\">\n",
       "  <thead>\n",
       "    <tr style=\"text-align: right;\">\n",
       "      <th></th>\n",
       "      <th>Document</th>\n",
       "      <th>Topic</th>\n",
       "      <th>Name</th>\n",
       "      <th>Representation</th>\n",
       "      <th>Representative_Docs</th>\n",
       "      <th>Top_n_words</th>\n",
       "      <th>Probability</th>\n",
       "      <th>Representative_document</th>\n",
       "      <th>topic</th>\n",
       "    </tr>\n",
       "  </thead>\n",
       "  <tbody>\n",
       "    <tr>\n",
       "      <th>0</th>\n",
       "      <td>Industrial productivity\\nIntelligent infrastru...</td>\n",
       "      <td>7</td>\n",
       "      <td>7_digital_solutions_customers_production</td>\n",
       "      <td>[digital, solutions, customers, production, bu...</td>\n",
       "      <td>[→Innovation and development cycles have \\nsho...</td>\n",
       "      <td>digital - solutions - customers - production -...</td>\n",
       "      <td>0.723011</td>\n",
       "      <td>False</td>\n",
       "      <td>7</td>\n",
       "    </tr>\n",
       "    <tr>\n",
       "      <th>1</th>\n",
       "      <td>WWW.SIEMENS.COM/AR/REPORT-INDUSTRYWelcome to S...</td>\n",
       "      <td>14</td>\n",
       "      <td>14_healthcare_medical_care_imaging</td>\n",
       "      <td>[healthcare, medical, care, imaging, diagnosti...</td>\n",
       "      <td>[Under the new organizational structure report...</td>\n",
       "      <td>healthcare - medical - care - imaging - diagno...</td>\n",
       "      <td>0.559207</td>\n",
       "      <td>False</td>\n",
       "      <td>14</td>\n",
       "    </tr>\n",
       "    <tr>\n",
       "      <th>2</th>\n",
       "      <td>N\\naresh Trehan, founder of “Medanta  –\\n \\nTh...</td>\n",
       "      <td>14</td>\n",
       "      <td>14_healthcare_medical_care_imaging</td>\n",
       "      <td>[healthcare, medical, care, imaging, diagnosti...</td>\n",
       "      <td>[Under the new organizational structure report...</td>\n",
       "      <td>healthcare - medical - care - imaging - diagno...</td>\n",
       "      <td>1.000000</td>\n",
       "      <td>False</td>\n",
       "      <td>14</td>\n",
       "    </tr>\n",
       "    <tr>\n",
       "      <th>3</th>\n",
       "      <td>WWW.SIEMENS.COM/AR/REPORT-HEALTHCARE\\nWhat mak...</td>\n",
       "      <td>18</td>\n",
       "      <td>18_vienna_city_häupl_michael</td>\n",
       "      <td>[vienna, city, häupl, michael, transportation,...</td>\n",
       "      <td>[What initiatives would you like to launch in ...</td>\n",
       "      <td>vienna - city - häupl - michael - transportati...</td>\n",
       "      <td>1.000000</td>\n",
       "      <td>False</td>\n",
       "      <td>18</td>\n",
       "    </tr>\n",
       "    <tr>\n",
       "      <th>5</th>\n",
       "      <td>WWW.SIEMENS.COM/AR/STRATEGYGurgaon\\nVienna4Gen...</td>\n",
       "      <td>15</td>\n",
       "      <td>15_power_gas_energy_division</td>\n",
       "      <td>[power, gas, energy, division, consumption, tu...</td>\n",
       "      <td>[A.1.1.2  BUSINES S DESCRIPTION\\nThe Power and...</td>\n",
       "      <td>power - gas - energy - division - consumption ...</td>\n",
       "      <td>1.000000</td>\n",
       "      <td>False</td>\n",
       "      <td>15</td>\n",
       "    </tr>\n",
       "    <tr>\n",
       "      <th>...</th>\n",
       "      <td>...</td>\n",
       "      <td>...</td>\n",
       "      <td>...</td>\n",
       "      <td>...</td>\n",
       "      <td>...</td>\n",
       "      <td>...</td>\n",
       "      <td>...</td>\n",
       "      <td>...</td>\n",
       "      <td>...</td>\n",
       "    </tr>\n",
       "    <tr>\n",
       "      <th>8617</th>\n",
       "      <td>In a limited assurance engagement the assuranc...</td>\n",
       "      <td>2</td>\n",
       "      <td>2_compliance_human_rights_risk</td>\n",
       "      <td>[compliance, human, rights, risk, business, ri...</td>\n",
       "      <td>[Global agreements \\nSiemens has been an activ...</td>\n",
       "      <td>compliance - human - rights - risk - business ...</td>\n",
       "      <td>0.759931</td>\n",
       "      <td>False</td>\n",
       "      <td>2</td>\n",
       "    </tr>\n",
       "    <tr>\n",
       "      <th>8618</th>\n",
       "      <td>Within the scope of our assurance engagement, ...</td>\n",
       "      <td>2</td>\n",
       "      <td>2_compliance_human_rights_risk</td>\n",
       "      <td>[compliance, human, rights, risk, business, ri...</td>\n",
       "      <td>[Global agreements \\nSiemens has been an activ...</td>\n",
       "      <td>compliance - human - rights - risk - business ...</td>\n",
       "      <td>0.513443</td>\n",
       "      <td>False</td>\n",
       "      <td>2</td>\n",
       "    </tr>\n",
       "    <tr>\n",
       "      <th>8619</th>\n",
       "      <td>Intended Use of the Assurance Report\\nWe issue...</td>\n",
       "      <td>2</td>\n",
       "      <td>2_compliance_human_rights_risk</td>\n",
       "      <td>[compliance, human, rights, risk, business, ri...</td>\n",
       "      <td>[Global agreements \\nSiemens has been an activ...</td>\n",
       "      <td>compliance - human - rights - risk - business ...</td>\n",
       "      <td>0.908644</td>\n",
       "      <td>False</td>\n",
       "      <td>2</td>\n",
       "    </tr>\n",
       "    <tr>\n",
       "      <th>8620</th>\n",
       "      <td>Munich, 2 December 2024\\nPricewaterhouseCooper...</td>\n",
       "      <td>2</td>\n",
       "      <td>2_compliance_human_rights_risk</td>\n",
       "      <td>[compliance, human, rights, risk, business, ri...</td>\n",
       "      <td>[Global agreements \\nSiemens has been an activ...</td>\n",
       "      <td>compliance - human - rights - risk - business ...</td>\n",
       "      <td>1.000000</td>\n",
       "      <td>False</td>\n",
       "      <td>2</td>\n",
       "    </tr>\n",
       "    <tr>\n",
       "      <th>8621</th>\n",
       "      <td>SIEMENS SUSTAINABILITY REPORT 2024 1687.10 Not...</td>\n",
       "      <td>1</td>\n",
       "      <td>1_sustainability_environmental_gri_emissions</td>\n",
       "      <td>[sustainability, environmental, gri, emissions...</td>\n",
       "      <td>[For consistency reasons, we generally apply g...</td>\n",
       "      <td>sustainability - environmental - gri - emissio...</td>\n",
       "      <td>1.000000</td>\n",
       "      <td>False</td>\n",
       "      <td>1</td>\n",
       "    </tr>\n",
       "  </tbody>\n",
       "</table>\n",
       "<p>6459 rows × 9 columns</p>\n",
       "</div>"
      ],
      "text/plain": [
       "                                               Document  Topic  \\\n",
       "0     Industrial productivity\\nIntelligent infrastru...      7   \n",
       "1     WWW.SIEMENS.COM/AR/REPORT-INDUSTRYWelcome to S...     14   \n",
       "2     N\\naresh Trehan, founder of “Medanta  –\\n \\nTh...     14   \n",
       "3     WWW.SIEMENS.COM/AR/REPORT-HEALTHCARE\\nWhat mak...     18   \n",
       "5     WWW.SIEMENS.COM/AR/STRATEGYGurgaon\\nVienna4Gen...     15   \n",
       "...                                                 ...    ...   \n",
       "8617  In a limited assurance engagement the assuranc...      2   \n",
       "8618  Within the scope of our assurance engagement, ...      2   \n",
       "8619  Intended Use of the Assurance Report\\nWe issue...      2   \n",
       "8620  Munich, 2 December 2024\\nPricewaterhouseCooper...      2   \n",
       "8621  SIEMENS SUSTAINABILITY REPORT 2024 1687.10 Not...      1   \n",
       "\n",
       "                                              Name  \\\n",
       "0         7_digital_solutions_customers_production   \n",
       "1               14_healthcare_medical_care_imaging   \n",
       "2               14_healthcare_medical_care_imaging   \n",
       "3                     18_vienna_city_häupl_michael   \n",
       "5                     15_power_gas_energy_division   \n",
       "...                                            ...   \n",
       "8617                2_compliance_human_rights_risk   \n",
       "8618                2_compliance_human_rights_risk   \n",
       "8619                2_compliance_human_rights_risk   \n",
       "8620                2_compliance_human_rights_risk   \n",
       "8621  1_sustainability_environmental_gri_emissions   \n",
       "\n",
       "                                         Representation  \\\n",
       "0     [digital, solutions, customers, production, bu...   \n",
       "1     [healthcare, medical, care, imaging, diagnosti...   \n",
       "2     [healthcare, medical, care, imaging, diagnosti...   \n",
       "3     [vienna, city, häupl, michael, transportation,...   \n",
       "5     [power, gas, energy, division, consumption, tu...   \n",
       "...                                                 ...   \n",
       "8617  [compliance, human, rights, risk, business, ri...   \n",
       "8618  [compliance, human, rights, risk, business, ri...   \n",
       "8619  [compliance, human, rights, risk, business, ri...   \n",
       "8620  [compliance, human, rights, risk, business, ri...   \n",
       "8621  [sustainability, environmental, gri, emissions...   \n",
       "\n",
       "                                    Representative_Docs  \\\n",
       "0     [→Innovation and development cycles have \\nsho...   \n",
       "1     [Under the new organizational structure report...   \n",
       "2     [Under the new organizational structure report...   \n",
       "3     [What initiatives would you like to launch in ...   \n",
       "5     [A.1.1.2  BUSINES S DESCRIPTION\\nThe Power and...   \n",
       "...                                                 ...   \n",
       "8617  [Global agreements \\nSiemens has been an activ...   \n",
       "8618  [Global agreements \\nSiemens has been an activ...   \n",
       "8619  [Global agreements \\nSiemens has been an activ...   \n",
       "8620  [Global agreements \\nSiemens has been an activ...   \n",
       "8621  [For consistency reasons, we generally apply g...   \n",
       "\n",
       "                                            Top_n_words  Probability  \\\n",
       "0     digital - solutions - customers - production -...     0.723011   \n",
       "1     healthcare - medical - care - imaging - diagno...     0.559207   \n",
       "2     healthcare - medical - care - imaging - diagno...     1.000000   \n",
       "3     vienna - city - häupl - michael - transportati...     1.000000   \n",
       "5     power - gas - energy - division - consumption ...     1.000000   \n",
       "...                                                 ...          ...   \n",
       "8617  compliance - human - rights - risk - business ...     0.759931   \n",
       "8618  compliance - human - rights - risk - business ...     0.513443   \n",
       "8619  compliance - human - rights - risk - business ...     0.908644   \n",
       "8620  compliance - human - rights - risk - business ...     1.000000   \n",
       "8621  sustainability - environmental - gri - emissio...     1.000000   \n",
       "\n",
       "      Representative_document  topic  \n",
       "0                       False      7  \n",
       "1                       False     14  \n",
       "2                       False     14  \n",
       "3                       False     18  \n",
       "5                       False     15  \n",
       "...                       ...    ...  \n",
       "8617                    False      2  \n",
       "8618                    False      2  \n",
       "8619                    False      2  \n",
       "8620                    False      2  \n",
       "8621                    False      1  \n",
       "\n",
       "[6459 rows x 9 columns]"
      ]
     },
     "execution_count": 17,
     "metadata": {},
     "output_type": "execute_result"
    }
   ],
   "source": [
    "#Removed the outliers\n",
    "df_document_info[\"topic\"] = topics  # Add the topic assignments to the DataFrame\n",
    "df_clean = df_document_info[df_document_info[\"topic\"] != -1]  # Keep only documents with valid topics\n",
    "df_clean"
   ]
  },
  {
   "cell_type": "code",
   "execution_count": 18,
   "id": "a6166a2c-5366-482c-beef-522780dfc3ba",
   "metadata": {},
   "outputs": [],
   "source": [
    "def concatenate_documents_by_topic(df: pd.DataFrame, n_docs: int = 20) -> pd.DataFrame:\n",
    "    \"\"\"\n",
    "    Groups the DataFrame by 'Topic', and for each topic concatenates up to `n_docs`\n",
    "    documents into a single string like: \"Document 1: ... Document 2: ...\".\n",
    "\n",
    "    Parameters:\n",
    "        df (pd.DataFrame): DataFrame with 'Topic' and 'Document' columns.\n",
    "        n_docs (int): Number of documents to include per topic.\n",
    "\n",
    "    Returns:\n",
    "        pd.DataFrame: A DataFrame with columns ['Topic', 'ConcatenatedDocuments'].\n",
    "    \"\"\"\n",
    "    \n",
    "    result = []\n",
    "\n",
    "    for topic, group in df.groupby(\"Topic\"):\n",
    "        docs = group[\"Document\"].head(n_docs).tolist()\n",
    "        concatenated = \"\\n\\n\".join([f\"TextSample {i+1}: {doc}\" for i, doc in enumerate(docs)])\n",
    "        result.append({\"Topic\": topic, \"ConcatenatedDocuments\": concatenated})\n",
    "\n",
    "    return pd.DataFrame(result)"
   ]
  },
  {
   "cell_type": "code",
   "execution_count": 19,
   "id": "483c7fda-b340-46ae-8fd4-e364ddd4dd3c",
   "metadata": {},
   "outputs": [
    {
     "name": "stdout",
     "output_type": "stream",
     "text": [
      "    Topic                              ConcatenatedDocuments\n",
      "0       0  TextSample 1: Revenue growth  \\nThe most impor...\n",
      "1       1  TextSample 1: Is Siemens following a separate ...\n",
      "2       2  TextSample 1: Empower our diverse and \\nengage...\n",
      "3       3  TextSample 1: Ralf P\\n. Thomas a full member o...\n",
      "4       4  TextSample 1: I’m aware that you, our sharehol...\n",
      "5       5  TextSample 1: At our meeting on November 7, 20...\n",
      "6       6  TextSample 1: 2 Average number of employees in...\n",
      "7       7  TextSample 1: Industrial productivity\\nIntelli...\n",
      "8       8  TextSample 1: 10\\n Ex\\nemption pursuant to Sec...\n",
      "9       9  TextSample 1: Corpor\\nate  Go\\nvernance  155 C...\n",
      "10     10  TextSample 1: B.3.7 Transfer of responsibility...\n",
      "11     11  TextSample 1: SFS’ business is geared to the S...\n",
      "12     12  TextSample 1: 2\\n  Includes los\\ns of variable...\n",
      "13     13  TextSample 1: 9\\n Ex\\nemption pursuant to Sect...\n",
      "14     14  TextSample 1: WWW.SIEMENS.COM/AR/REPORT-INDUST...\n",
      "15     15  TextSample 1: WWW.SIEMENS.COM/AR/STRATEGYGurga...\n",
      "16     16  TextSample 1: 6 Continuing and discontinued op...\n",
      "17     17  TextSample 1: Recycling (in %, including const...\n",
      "18     18  TextSample 1: WWW.SIEMENS.COM/AR/REPORT-HEALTH...\n",
      "19     19  TextSample 1: 2\\n –\\n The beach and the countr...\n",
      "20     20  TextSample 1: Atmospheric pollutant emissions ...\n",
      "21     21  TextSample 1: Other – Siemens is subject to as...\n",
      "22     22  TextSample 1: Be a partner of choice for our c...\n",
      "23     23  TextSample 1: DETERMINING THE REFERENCE SOLUTI...\n",
      "24     24  TextSample 1: iur\\n\\nTextSample 2: iur\\n\\nText...\n",
      "25     25  TextSample 1: 4 and 315 par\\na\\n\\nTextSample 2...\n",
      "26     26  TextSample 1: Combined \\n Management Report Du...\n",
      "27     27  TextSample 1: In fiscal 2013 and 2012, governm...\n",
      "28     28  TextSample 1: 3 Siemens without SHS\\n\\nTextSam...\n"
     ]
    }
   ],
   "source": [
    "df_concatenated_docs=concatenate_documents_by_topic(df_clean)\n",
    "print(df_concatenated_docs)"
   ]
  },
  {
   "cell_type": "code",
   "execution_count": 20,
   "id": "e038d044-6f7e-4698-9183-fb53e3890e54",
   "metadata": {},
   "outputs": [
    {
     "data": {
      "text/html": [
       "<div>\n",
       "<style scoped>\n",
       "    .dataframe tbody tr th:only-of-type {\n",
       "        vertical-align: middle;\n",
       "    }\n",
       "\n",
       "    .dataframe tbody tr th {\n",
       "        vertical-align: top;\n",
       "    }\n",
       "\n",
       "    .dataframe thead th {\n",
       "        text-align: right;\n",
       "    }\n",
       "</style>\n",
       "<table border=\"1\" class=\"dataframe\">\n",
       "  <thead>\n",
       "    <tr style=\"text-align: right;\">\n",
       "      <th></th>\n",
       "      <th>Topic</th>\n",
       "      <th>ConcatenatedDocuments</th>\n",
       "      <th>Representation</th>\n",
       "    </tr>\n",
       "  </thead>\n",
       "  <tbody>\n",
       "    <tr>\n",
       "      <th>0</th>\n",
       "      <td>0</td>\n",
       "      <td>TextSample 1: Revenue growth  \\nThe most impor...</td>\n",
       "      <td>[financial, cash, million, income, shares, sta...</td>\n",
       "    </tr>\n",
       "    <tr>\n",
       "      <th>1</th>\n",
       "      <td>1</td>\n",
       "      <td>TextSample 1: Is Siemens following a separate ...</td>\n",
       "      <td>[sustainability, environmental, gri, emissions...</td>\n",
       "    </tr>\n",
       "    <tr>\n",
       "      <th>2</th>\n",
       "      <td>2</td>\n",
       "      <td>TextSample 1: Empower our diverse and \\nengage...</td>\n",
       "      <td>[compliance, human, rights, risk, business, ri...</td>\n",
       "    </tr>\n",
       "    <tr>\n",
       "      <th>3</th>\n",
       "      <td>3</td>\n",
       "      <td>TextSample 1: Ralf P\\n. Thomas a full member o...</td>\n",
       "      <td>[board, supervisory, siemens, chairman, ag, co...</td>\n",
       "    </tr>\n",
       "    <tr>\n",
       "      <th>4</th>\n",
       "      <td>4</td>\n",
       "      <td>TextSample 1: I’m aware that you, our sharehol...</td>\n",
       "      <td>[people, diversity, learning, siemens, program...</td>\n",
       "    </tr>\n",
       "    <tr>\n",
       "      <th>5</th>\n",
       "      <td>5</td>\n",
       "      <td>TextSample 1: At our meeting on November 7, 20...</td>\n",
       "      <td>[compensation, board, managing, benefit, pensi...</td>\n",
       "    </tr>\n",
       "    <tr>\n",
       "      <th>6</th>\n",
       "      <td>6</td>\n",
       "      <td>TextSample 1: 2 Average number of employees in...</td>\n",
       "      <td>[growth, markets, year, revenue, orders, fisca...</td>\n",
       "    </tr>\n",
       "    <tr>\n",
       "      <th>7</th>\n",
       "      <td>7</td>\n",
       "      <td>TextSample 1: Industrial productivity\\nIntelli...</td>\n",
       "      <td>[digital, solutions, customers, production, bu...</td>\n",
       "    </tr>\n",
       "    <tr>\n",
       "      <th>8</th>\n",
       "      <td>8</td>\n",
       "      <td>TextSample 1: 10\\n Ex\\nemption pursuant to Sec...</td>\n",
       "      <td>[100, gmbh, siemens, spain, limited, healthcar...</td>\n",
       "    </tr>\n",
       "    <tr>\n",
       "      <th>9</th>\n",
       "      <td>9</td>\n",
       "      <td>TextSample 1: Corpor\\nate  Go\\nvernance  155 C...</td>\n",
       "      <td>[safety, health, work, occupational, employees...</td>\n",
       "    </tr>\n",
       "    <tr>\n",
       "      <th>10</th>\n",
       "      <td>10</td>\n",
       "      <td>TextSample 1: B.3.7 Transfer of responsibility...</td>\n",
       "      <td>[cybersecurity, data, security, privacy, ai, p...</td>\n",
       "    </tr>\n",
       "    <tr>\n",
       "      <th>11</th>\n",
       "      <td>11</td>\n",
       "      <td>TextSample 1: SFS’ business is geared to the S...</td>\n",
       "      <td>[rate, currency, financial, foreign, fair, ins...</td>\n",
       "    </tr>\n",
       "    <tr>\n",
       "      <th>12</th>\n",
       "      <td>12</td>\n",
       "      <td>TextSample 1: 2\\n  Includes los\\ns of variable...</td>\n",
       "      <td>[arrangements, contractual, ol, circumstances,...</td>\n",
       "    </tr>\n",
       "    <tr>\n",
       "      <th>13</th>\n",
       "      <td>13</td>\n",
       "      <td>TextSample 1: 9\\n Ex\\nemption pursuant to Sect...</td>\n",
       "      <td>[emption, 264, immateriality, pursuant, sectio...</td>\n",
       "    </tr>\n",
       "    <tr>\n",
       "      <th>14</th>\n",
       "      <td>14</td>\n",
       "      <td>TextSample 1: WWW.SIEMENS.COM/AR/REPORT-INDUST...</td>\n",
       "      <td>[healthcare, medical, care, imaging, diagnosti...</td>\n",
       "    </tr>\n",
       "    <tr>\n",
       "      <th>15</th>\n",
       "      <td>15</td>\n",
       "      <td>TextSample 1: WWW.SIEMENS.COM/AR/STRATEGYGurga...</td>\n",
       "      <td>[power, gas, energy, division, consumption, tu...</td>\n",
       "    </tr>\n",
       "    <tr>\n",
       "      <th>16</th>\n",
       "      <td>16</td>\n",
       "      <td>TextSample 1: 6 Continuing and discontinued op...</td>\n",
       "      <td>[employees, turnover, percentage, asia, common...</td>\n",
       "    </tr>\n",
       "    <tr>\n",
       "      <th>17</th>\n",
       "      <td>17</td>\n",
       "      <td>TextSample 1: Recycling (in %, including const...</td>\n",
       "      <td>[water, drinking, use, wastewater, risks, loca...</td>\n",
       "    </tr>\n",
       "    <tr>\n",
       "      <th>18</th>\n",
       "      <td>18</td>\n",
       "      <td>TextSample 1: WWW.SIEMENS.COM/AR/REPORT-HEALTH...</td>\n",
       "      <td>[vienna, city, häupl, michael, transportation,...</td>\n",
       "    </tr>\n",
       "    <tr>\n",
       "      <th>19</th>\n",
       "      <td>19</td>\n",
       "      <td>TextSample 1: 2\\n –\\n The beach and the countr...</td>\n",
       "      <td>[000, 500, 140, dr, 333, 150, 280, 667, 100, m...</td>\n",
       "    </tr>\n",
       "    <tr>\n",
       "      <th>20</th>\n",
       "      <td>20</td>\n",
       "      <td>TextSample 1: Atmospheric pollutant emissions ...</td>\n",
       "      <td>[ozone, waste, r11, tons, organic, metric, emi...</td>\n",
       "    </tr>\n",
       "    <tr>\n",
       "      <th>21</th>\n",
       "      <td>21</td>\n",
       "      <td>TextSample 1: Other – Siemens is subject to as...</td>\n",
       "      <td>[waste, storage, final, hazardous, hanau, faci...</td>\n",
       "    </tr>\n",
       "    <tr>\n",
       "      <th>22</th>\n",
       "      <td>22</td>\n",
       "      <td>TextSample 1: Be a partner of choice for our c...</td>\n",
       "      <td>[customer, score, customers, key, satisfaction...</td>\n",
       "    </tr>\n",
       "    <tr>\n",
       "      <th>23</th>\n",
       "      <td>23</td>\n",
       "      <td>TextSample 1: DETERMINING THE REFERENCE SOLUTI...</td>\n",
       "      <td>[comparison, solution, reference, installed, r...</td>\n",
       "    </tr>\n",
       "    <tr>\n",
       "      <th>24</th>\n",
       "      <td>24</td>\n",
       "      <td>TextSample 1: iur\\n\\nTextSample 2: iur\\n\\nText...</td>\n",
       "      <td>[iur, rer, , , , , , , , ]</td>\n",
       "    </tr>\n",
       "    <tr>\n",
       "      <th>25</th>\n",
       "      <td>25</td>\n",
       "      <td>TextSample 1: 4 and 315 par\\na\\n\\nTextSample 2...</td>\n",
       "      <td>[315, par, para, , , , , , , ]</td>\n",
       "    </tr>\n",
       "    <tr>\n",
       "      <th>26</th>\n",
       "      <td>26</td>\n",
       "      <td>TextSample 1: Combined \\n Management Report Du...</td>\n",
       "      <td>[precisely, percentages, totals, add, absolute...</td>\n",
       "    </tr>\n",
       "    <tr>\n",
       "      <th>27</th>\n",
       "      <td>27</td>\n",
       "      <td>TextSample 1: In fiscal 2013 and 2012, governm...</td>\n",
       "      <td>[leases, sep, 30, millions, current, receivabl...</td>\n",
       "    </tr>\n",
       "    <tr>\n",
       "      <th>28</th>\n",
       "      <td>28</td>\n",
       "      <td>TextSample 1: 3 Siemens without SHS\\n\\nTextSam...</td>\n",
       "      <td>[shs, siemens, bargaining, gbk, brightly, coll...</td>\n",
       "    </tr>\n",
       "  </tbody>\n",
       "</table>\n",
       "</div>"
      ],
      "text/plain": [
       "    Topic                              ConcatenatedDocuments  \\\n",
       "0       0  TextSample 1: Revenue growth  \\nThe most impor...   \n",
       "1       1  TextSample 1: Is Siemens following a separate ...   \n",
       "2       2  TextSample 1: Empower our diverse and \\nengage...   \n",
       "3       3  TextSample 1: Ralf P\\n. Thomas a full member o...   \n",
       "4       4  TextSample 1: I’m aware that you, our sharehol...   \n",
       "5       5  TextSample 1: At our meeting on November 7, 20...   \n",
       "6       6  TextSample 1: 2 Average number of employees in...   \n",
       "7       7  TextSample 1: Industrial productivity\\nIntelli...   \n",
       "8       8  TextSample 1: 10\\n Ex\\nemption pursuant to Sec...   \n",
       "9       9  TextSample 1: Corpor\\nate  Go\\nvernance  155 C...   \n",
       "10     10  TextSample 1: B.3.7 Transfer of responsibility...   \n",
       "11     11  TextSample 1: SFS’ business is geared to the S...   \n",
       "12     12  TextSample 1: 2\\n  Includes los\\ns of variable...   \n",
       "13     13  TextSample 1: 9\\n Ex\\nemption pursuant to Sect...   \n",
       "14     14  TextSample 1: WWW.SIEMENS.COM/AR/REPORT-INDUST...   \n",
       "15     15  TextSample 1: WWW.SIEMENS.COM/AR/STRATEGYGurga...   \n",
       "16     16  TextSample 1: 6 Continuing and discontinued op...   \n",
       "17     17  TextSample 1: Recycling (in %, including const...   \n",
       "18     18  TextSample 1: WWW.SIEMENS.COM/AR/REPORT-HEALTH...   \n",
       "19     19  TextSample 1: 2\\n –\\n The beach and the countr...   \n",
       "20     20  TextSample 1: Atmospheric pollutant emissions ...   \n",
       "21     21  TextSample 1: Other – Siemens is subject to as...   \n",
       "22     22  TextSample 1: Be a partner of choice for our c...   \n",
       "23     23  TextSample 1: DETERMINING THE REFERENCE SOLUTI...   \n",
       "24     24  TextSample 1: iur\\n\\nTextSample 2: iur\\n\\nText...   \n",
       "25     25  TextSample 1: 4 and 315 par\\na\\n\\nTextSample 2...   \n",
       "26     26  TextSample 1: Combined \\n Management Report Du...   \n",
       "27     27  TextSample 1: In fiscal 2013 and 2012, governm...   \n",
       "28     28  TextSample 1: 3 Siemens without SHS\\n\\nTextSam...   \n",
       "\n",
       "                                       Representation  \n",
       "0   [financial, cash, million, income, shares, sta...  \n",
       "1   [sustainability, environmental, gri, emissions...  \n",
       "2   [compliance, human, rights, risk, business, ri...  \n",
       "3   [board, supervisory, siemens, chairman, ag, co...  \n",
       "4   [people, diversity, learning, siemens, program...  \n",
       "5   [compensation, board, managing, benefit, pensi...  \n",
       "6   [growth, markets, year, revenue, orders, fisca...  \n",
       "7   [digital, solutions, customers, production, bu...  \n",
       "8   [100, gmbh, siemens, spain, limited, healthcar...  \n",
       "9   [safety, health, work, occupational, employees...  \n",
       "10  [cybersecurity, data, security, privacy, ai, p...  \n",
       "11  [rate, currency, financial, foreign, fair, ins...  \n",
       "12  [arrangements, contractual, ol, circumstances,...  \n",
       "13  [emption, 264, immateriality, pursuant, sectio...  \n",
       "14  [healthcare, medical, care, imaging, diagnosti...  \n",
       "15  [power, gas, energy, division, consumption, tu...  \n",
       "16  [employees, turnover, percentage, asia, common...  \n",
       "17  [water, drinking, use, wastewater, risks, loca...  \n",
       "18  [vienna, city, häupl, michael, transportation,...  \n",
       "19  [000, 500, 140, dr, 333, 150, 280, 667, 100, m...  \n",
       "20  [ozone, waste, r11, tons, organic, metric, emi...  \n",
       "21  [waste, storage, final, hazardous, hanau, faci...  \n",
       "22  [customer, score, customers, key, satisfaction...  \n",
       "23  [comparison, solution, reference, installed, r...  \n",
       "24                         [iur, rer, , , , , , , , ]  \n",
       "25                     [315, par, para, , , , , , , ]  \n",
       "26  [precisely, percentages, totals, add, absolute...  \n",
       "27  [leases, sep, 30, millions, current, receivabl...  \n",
       "28  [shs, siemens, bargaining, gbk, brightly, coll...  "
      ]
     },
     "execution_count": 20,
     "metadata": {},
     "output_type": "execute_result"
    }
   ],
   "source": [
    "df_concatenated_docs_merge=pd.merge(df_concatenated_docs,df_topic_info[[\"Topic\",\"Representation\"]], on='Topic', how=\"left\")\n",
    "df_concatenated_docs_merge"
   ]
  },
  {
   "cell_type": "code",
   "execution_count": 21,
   "id": "f6509cac",
   "metadata": {},
   "outputs": [],
   "source": [
    "open_ai_key=os.getenv(\"OPENAI_API_KEY\")\n",
    "import openai\n",
    "import json"
   ]
  },
  {
   "cell_type": "code",
   "execution_count": 30,
   "id": "175b73a7-307a-4687-b200-4136e043d742",
   "metadata": {},
   "outputs": [
    {
     "name": "stdout",
     "output_type": "stream",
     "text": [
      "[\n",
      "  {\n",
      "    \"topic_id\": 0,\n",
      "    \"summary_data\": {\n",
      "      \"is_meaningful_topic\": false,\n",
      "      \"topic_label\": \"Financial Reporting Metrics\",\n",
      "      \"summary\": \"This cluster contains generic or administrative content and does not reflect a real sustainability trend.\",\n",
      "      \"primary_sdg\": {\n",
      "        \"number\": \"8\",\n",
      "        \"name\": \"Decent Work and Economic Growth\"\n",
      "      },\n",
      "      \"is_generic\": true,\n",
      "      \"justification\": \"The content of these samples centers almost entirely on financial results, metrics, accounting definitions, and shareholder-related information. There are no substantive discussions on sustainability impacts, ESG factors, or long-term environmental or societal concerns\\u2014just core business performance data (e.g., revenue, EBITDA, cash flow, stock, basic reporting). As such, this topic cluster is generic and administrative, providing background reporting figures but not addressing a meaningful sustainability topic or trend.\",\n",
      "      \"confidence_score\": 0.98\n",
      "    }\n",
      "  },\n",
      "  {\n",
      "    \"topic_id\": 1,\n",
      "    \"summary_data\": {\n",
      "      \"is_meaningful_topic\": true,\n",
      "      \"topic_label\": \"Environmental Portfolio and Emissions\",\n",
      "      \"summary\": \"This topic cluster centers on Siemens AG's Environmental Portfolio\\u2014its strategic development, reporting methodology, and quantified impact on emissions reduction as part of its integrated sustainability and corporate strategy. The cluster addresses portfolio qualification criteria, governance, and reporting standards (such as GRI, WEF, and GHG Protocol), as well as performance metrics on carbon dioxide emission reductions and related environmental efficiency improvements.\",\n",
      "      \"primary_sdg\": {\n",
      "        \"number\": \"13\",\n",
      "        \"name\": \"Climate Action\"\n",
      "      },\n",
      "      \"is_generic\": false,\n",
      "      \"justification\": \"The samples are focused on Siemens' extended efforts to align business activities with climate change mitigation through a formally managed Environmental Portfolio. The key content consistently emphasizes emissions reduction, energy efficiency, renewable energy, and related governance/reporting processes, which are central to SDG 13. Although some content includes general sustainability management, the recurring theme is Siemens\\u2019 targeted impact on emissions and environmentally beneficial products/services. This is specific (not generic or administrative) and aligns operationally and strategically with global climate action objectives.\",\n",
      "      \"confidence_score\": 0.95\n",
      "    }\n",
      "  },\n",
      "  {\n",
      "    \"topic_id\": 2,\n",
      "    \"summary_data\": {\n",
      "      \"is_meaningful_topic\": true,\n",
      "      \"topic_label\": \"Compliance and Human Rights in Supply Chain\",\n",
      "      \"summary\": \"This cluster focuses on Siemens\\u2019 commitment to compliance, anti-corruption, and the protection of human rights, both within the company and throughout its global supply chain. It details practices such as risk assessment, supplier codes of conduct, employee training, and partnerships for responsible business conduct.\",\n",
      "      \"primary_sdg\": {\n",
      "        \"number\": \"16\",\n",
      "        \"name\": \"Peace, Justice and Strong Institutions\"\n",
      "      },\n",
      "      \"is_generic\": false,\n",
      "      \"justification\": \"The recurring concepts across the samples\\u2014compliance, ethics, anti-corruption, risk management, and adherence to human rights standards in supply chains\\u2014reflect a cohesive and meaningful topic integral to modern corporate sustainability. The focus on due diligence, transparency, supplier engagement, legal adherence, and collaboration with global initiatives directly aligns with SDG 16, which promotes just, transparent, and accountable institutions. The content is not generic administrative text but thematically specific, with direct relevance to sustainability governance and responsibility.\",\n",
      "      \"confidence_score\": 0.95\n",
      "    }\n",
      "  },\n",
      "  {\n",
      "    \"topic_id\": 3,\n",
      "    \"summary_data\": {\n",
      "      \"is_meaningful_topic\": false,\n",
      "      \"topic_label\": \"Corporate Governance Structure\",\n",
      "      \"summary\": \"This cluster contains generic or administrative content and does not reflect a real sustainability trend.\",\n",
      "      \"primary_sdg\": {\n",
      "        \"number\": \"16\",\n",
      "        \"name\": \"Peace, Justice and Strong Institutions\"\n",
      "      },\n",
      "      \"is_generic\": true,\n",
      "      \"justification\": \"The topic cluster focuses on administrative procedures, board appointments, compliance with governance codes, and reporting structures within Siemens AG. While corporate governance is important for overall organizational integrity, these samples do not address specific environmental, social, or economic sustainability issues or highlight emerging sustainability trends. The content is routine and procedural rather than thematic around sustainability impact.\",\n",
      "      \"confidence_score\": 0.98\n",
      "    }\n",
      "  },\n",
      "  {\n",
      "    \"topic_id\": 4,\n",
      "    \"summary_data\": {\n",
      "      \"is_meaningful_topic\": true,\n",
      "      \"topic_label\": \"Diversity, Employee Development\",\n",
      "      \"summary\": \"This topic cluster is focused on Siemens' efforts to foster diversity, lifelong learning, employee engagement, and talent development throughout its global workforce. The passages emphasize diversity initiatives, women in leadership, talent acquisition, continuous education, and programs designed to empower employees and promote an inclusive work environment.\",\n",
      "      \"primary_sdg\": {\n",
      "        \"number\": \"4\",\n",
      "        \"name\": \"Quality Education\"\n",
      "      },\n",
      "      \"is_generic\": false,\n",
      "      \"justification\": \"The cluster is highly focused on human resources topics related to employee diversity, learning, and development, supported by evidence of programs, metrics, and global initiatives. While diversity relates to gender equality (SDG 5) and decent work (SDG 8), the strongest, recurring theme is on education, lifelong learning, and talent development, aligning best with SDG 4: Quality Education. The content is detailed and specific, clearly reflecting a meaningful sustainability strategy rather than generic content.\",\n",
      "      \"confidence_score\": 0.95\n",
      "    }\n",
      "  },\n",
      "  {\n",
      "    \"topic_id\": 5,\n",
      "    \"summary_data\": {\n",
      "      \"is_meaningful_topic\": true,\n",
      "      \"topic_label\": \"Managing Board Compensation\",\n",
      "      \"summary\": \"This topic cluster discusses the structure, governance, and specific details of compensation, benefits, and pension arrangements for Siemens AG Managing Board members, including both fixed and performance-based components. The cluster also covers the principles of fairness, transparency, and sustainability incorporated in executive pay policies and governance compliance.\",\n",
      "      \"primary_sdg\": {\n",
      "        \"number\": \"8\",\n",
      "        \"name\": \"Decent Work and Economic Growth\"\n",
      "      },\n",
      "      \"is_generic\": false,\n",
      "      \"justification\": \"The passages are highly specific to the governance, structure, and transparency of executive compensation and benefits for Siemens AG's top management, incorporating both regulatory compliance and best practices around performance metrics. The cluster shows a thorough process for setting, reviewing, and justifying board-level pay and benefits to attract, retain, and incentivize leadership while aligning with broader economic sustainability and fair work practices. The topic is not generic, as it directly relates to the company\\u2019s executive-level approach to economic sustainability and labor standards.\",\n",
      "      \"confidence_score\": 0.98\n",
      "    }\n",
      "  },\n",
      "  {\n",
      "    \"topic_id\": 6,\n",
      "    \"summary_data\": {\n",
      "      \"is_meaningful_topic\": true,\n",
      "      \"topic_label\": \"Global Market Growth Trends\",\n",
      "      \"summary\": \"This cluster analyzes global and regional market developments, growth rates, revenue shifts, and demand patterns for Siemens' major business divisions, emphasizing how macroeconomic and sector-specific factors impact fiscal performance, orders, and market positioning. It provides detailed breakdowns of sector and regional performance, underlying global economic trends, and the influence of investment cycles across energy, healthcare, industry, and infrastructure sectors.\",\n",
      "      \"primary_sdg\": {\n",
      "        \"number\": \"8\",\n",
      "        \"name\": \"Decent Work and Economic Growth\"\n",
      "      },\n",
      "      \"is_generic\": false,\n",
      "      \"justification\": \"The cluster provides an in-depth, data-driven discussion on how Siemens responds to macroeconomic trends, demand shifts, and regional market growth or contraction. While it touches on sustainability-adjacent themes (e.g., megatrends), the unifying thread across these samples is economic performance, market competition, and investment as related to business growth and sustainable development. It is not generic; the content specifically reveals real-world trends, challenges, and Siemens' strategies for navigating global markets. SDG 8 is most appropriate, as economic growth, decent work opportunities, and industry innovation are central to the analysis.\",\n",
      "      \"confidence_score\": 0.95\n",
      "    }\n",
      "  },\n",
      "  {\n",
      "    \"topic_id\": 7,\n",
      "    \"summary_data\": {\n",
      "      \"is_meaningful_topic\": true,\n",
      "      \"topic_label\": \"Digital Industrial Solutions\",\n",
      "      \"summary\": \"This cluster discusses Siemens' development and implementation of digital and software solutions to advance industrial productivity, flexible manufacturing, and efficiency, with a focus on Industry 4.0, smart production, and applications such as healthcare prosthetics. The content highlights the integration of digital technology across the product and production lifecycle, emphasizing cost-effectiveness, customization, and quality.\",\n",
      "      \"primary_sdg\": {\n",
      "        \"number\": \"9\",\n",
      "        \"name\": \"Industry, Innovation and Infrastructure\"\n",
      "      },\n",
      "      \"is_generic\": false,\n",
      "      \"justification\": \"The text samples consistently revolve around Siemens' digital and software-driven industrial innovations, with practical examples in manufacturing, healthcare (especially prosthetics), and automation. The narrative stresses end-to-end digitalization of manufacturing processes, industrial productivity, and the role of Industry 4.0. While environmental and social benefits (like efficiency and improved healthcare outcomes) are mentioned, the central, actionable intent is the transformation and modernization of industry and infrastructure\\u2014aligning most closely with SDG 9. There is minimal purely generic or administrative content.\",\n",
      "      \"confidence_score\": 0.95\n",
      "    }\n",
      "  },\n",
      "  {\n",
      "    \"topic_id\": 8,\n",
      "    \"summary_data\": {\n",
      "      \"is_meaningful_topic\": false,\n",
      "      \"topic_label\": \"Corporate Subsidiaries Listing\",\n",
      "      \"summary\": \"This cluster contains generic or administrative content and does not reflect a real sustainability trend.\",\n",
      "      \"primary_sdg\": {\n",
      "        \"number\": \"0\",\n",
      "        \"name\": \"Not applicable\"\n",
      "      },\n",
      "      \"is_generic\": true,\n",
      "      \"justification\": \"The text samples predominantly list corporate subsidiaries, joint ventures, and company ownership stakes across various geographies. There is no substantive discussion of sustainability topics, impacts, or themes aside from routine legal disclosure. The passages are administrative in nature and lack insight or narrative relevant to any specific Sustainable Development Goal.\",\n",
      "      \"confidence_score\": 1.0\n",
      "    }\n",
      "  },\n",
      "  {\n",
      "    \"topic_id\": 9,\n",
      "    \"summary_data\": {\n",
      "      \"is_meaningful_topic\": true,\n",
      "      \"topic_label\": \"Occupational Health and Safety\",\n",
      "      \"summary\": \"This topic focuses on Siemens\\u2019 systematic efforts to ensure occupational health and safety for employees and contractors, highlighting programs, standards, and performance metrics designed to reduce workplace accidents and promote well-being throughout the supply chain. The cluster emphasizes culture change, management systems, rigorous assessments, and the integration of health and safety in company policies and supplier requirements.\",\n",
      "      \"primary_sdg\": {\n",
      "        \"number\": \"8\",\n",
      "        \"name\": \"Decent Work and Economic Growth\"\n",
      "      },\n",
      "      \"is_generic\": false,\n",
      "      \"justification\": \"The cluster is highly focused on workplace safety, occupational health, and the introduction of structured programs for both employees and contractors\\u2014including international initiatives, audits, and outcome metrics like injury frequency rates and fatalities. The content aligns closely with SDG 8, especially its target to promote safe and secure working environments for all workers, including those in global supply chains. The granularity and repeated reference to standards, culture, and data confirm this is a meaningful and specific sustainability topic.\",\n",
      "      \"confidence_score\": 0.98\n",
      "    }\n",
      "  },\n",
      "  {\n",
      "    \"topic_id\": 10,\n",
      "    \"summary_data\": {\n",
      "      \"is_meaningful_topic\": true,\n",
      "      \"topic_label\": \"Cybersecurity and Data Privacy\",\n",
      "      \"summary\": \"This cluster focuses on Siemens AG\\u2019s efforts to address rising cybersecurity threats, ensure data privacy, and protect personal and industrial data across digital products, infrastructure, and business operations. It highlights governance structures, compliance processes, risk mitigation, and Siemens' strategic investments in cybersecurity to support digital transformation and societal trust.\",\n",
      "      \"primary_sdg\": {\n",
      "        \"number\": \"9\",\n",
      "        \"name\": \"Industry, Innovation and Infrastructure\"\n",
      "      },\n",
      "      \"is_generic\": false,\n",
      "      \"justification\": \"The cluster is highly focused around cybersecurity, data protection, and privacy in the context of Siemens\\u2019 digital transformation and product portfolio. The texts discuss technical, organizational, and governance responses to cyber risks\\u2014core sustainability considerations for modern industries. SDG 9 is most relevant, as it includes building resilient infrastructure and fostering innovation (cybersecurity being foundational for both). While there are nods to other SDGs (such as SDG 16 on institutions), the centrality of secure, innovative infrastructure makes SDG 9 the best fit. There is consistent evidence across all samples, making this a meaningful, non-generic sustainability topic.\",\n",
      "      \"confidence_score\": 0.98\n",
      "    }\n",
      "  },\n",
      "  {\n",
      "    \"topic_id\": 11,\n",
      "    \"summary_data\": {\n",
      "      \"is_meaningful_topic\": true,\n",
      "      \"topic_label\": \"Financial Risk Management\",\n",
      "      \"summary\": \"This cluster addresses Siemens' approach to managing financial risks, specifically those related to foreign currency exchange rates, interest rates, and the use of derivative financial instruments to hedge these risks. The texts detail accounting methods, risk mitigation strategies, and the impact of financial market volatility on company performance.\",\n",
      "      \"primary_sdg\": {\n",
      "        \"number\": \"8\",\n",
      "        \"name\": \"Decent Work and Economic Growth\"\n",
      "      },\n",
      "      \"is_generic\": false,\n",
      "      \"justification\": \"The content is focused around Siemens' management of financial risks arising from currency and interest rate fluctuations, and how these are addressed through comprehensive risk management systems and financial instruments such as hedges and derivatives. This is directly relevant to corporate governance, economic sustainability, and stable financial performance, underpinning SDG 8 (Decent Work and Economic Growth) by supporting resilient economic strategies and risk-aware financial operations that protect jobs and long-term growth. The topic is not generic, as it delves into specific practices crucial for multinational industrial sustainability.\",\n",
      "      \"confidence_score\": 0.95\n",
      "    }\n",
      "  },\n",
      "  {\n",
      "    \"topic_id\": 12,\n",
      "    \"summary_data\": {\n",
      "      \"is_meaningful_topic\": false,\n",
      "      \"topic_label\": \"Consolidation Criteria & Legal Arrangements\",\n",
      "      \"summary\": \"This cluster contains generic or administrative content and does not reflect a real sustainability trend.\",\n",
      "      \"primary_sdg\": {\n",
      "        \"number\": \"N/A\",\n",
      "        \"name\": \"Not Applicable\"\n",
      "      },\n",
      "      \"is_generic\": true,\n",
      "      \"justification\": \"The samples and keywords primarily refer to financial consolidation rules, legal influence, and control arrangements common to financial reporting and accounting standards. There is no substantive link to sustainability issues, and the text does not indicate any SDG-targeted action, impact, or strategy. The repetition and formality further highlight its generic, administrative nature.\",\n",
      "      \"confidence_score\": 1.0\n",
      "    }\n",
      "  },\n",
      "  {\n",
      "    \"topic_id\": 13,\n",
      "    \"summary_data\": {\n",
      "      \"is_meaningful_topic\": false,\n",
      "      \"topic_label\": \"Administrative Accounting Exemptions\",\n",
      "      \"summary\": \"This cluster contains generic or administrative content and does not reflect a real sustainability trend.\",\n",
      "      \"primary_sdg\": {\n",
      "        \"number\": \"N/A\",\n",
      "        \"name\": \"Not Applicable\"\n",
      "      },\n",
      "      \"is_generic\": true,\n",
      "      \"justification\": \"The repeated references to 'exemption pursuant to Section 264 b German Commercial Code' and terms like 'immateriality' clearly indicate that this cluster is focused on legal or accounting disclosures required by German law. These passages do not provide insight into a tangible sustainability issue, trend, or initiative, but rather address routine financial or legal reporting requirements.\",\n",
      "      \"confidence_score\": 1.0\n",
      "    }\n",
      "  },\n",
      "  {\n",
      "    \"topic_id\": 14,\n",
      "    \"summary_data\": {\n",
      "      \"is_meaningful_topic\": true,\n",
      "      \"topic_label\": \"Healthcare Access & Medical Technology\",\n",
      "      \"summary\": \"This topic cluster discusses Siemens' efforts to make high-quality healthcare accessible and affordable through advanced medical technology, particularly in partnership with hospitals like Medanta in India. It highlights innovations in imaging and diagnostics, integration of healthcare IT, and the impact on both urban and rural health outcomes.\",\n",
      "      \"primary_sdg\": {\n",
      "        \"number\": \"3\",\n",
      "        \"name\": \"Good Health and Well-being\"\n",
      "      },\n",
      "      \"is_generic\": false,\n",
      "      \"justification\": \"The cluster is focused on actionable themes within healthcare, such as improving medical technology, optimizing hospital workflows, and increasing access\\u2014particularly for underserved and rural areas. These passages are not generic or merely administrative; they detail substantive solutions and measurable impacts aligned with SDG 3 (Good Health and Well-being), from using Siemens devices for millions of patients to partnering with Medanta for affordable, state-of-the-art care. The specificity and real-world examples strongly support the relevance and meaningfulness of the topic.\",\n",
      "      \"confidence_score\": 0.98\n",
      "    }\n",
      "  },\n",
      "  {\n",
      "    \"topic_id\": 15,\n",
      "    \"summary_data\": {\n",
      "      \"is_meaningful_topic\": true,\n",
      "      \"topic_label\": \"Efficient Gas Power Generation\",\n",
      "      \"summary\": \"This cluster focuses on the modernization of conventional power plants in Russia, especially Kirishi, by Siemens to employ advanced combined cycle gas turbine technology. The central theme is to improve energy efficiency, reduce natural gas consumption, and minimize environmental impact by upgrading turbines and plant operations.\",\n",
      "      \"primary_sdg\": {\n",
      "        \"number\": \"7\",\n",
      "        \"name\": \"Affordable and Clean Energy\"\n",
      "      },\n",
      "      \"is_generic\": false,\n",
      "      \"justification\": \"The content is highly focused on Siemens' engineering solutions for efficient power generation using natural gas, specifically through combined cycle technology and plant upgrades. Recurrent elements include discussions of energy consumption reduction, improvement of turbine efficiency, and associated environmental benefits such as reduced emissions and elimination of heavy oil use. These themes are directly aligned with SDG 7\\u2014Affordable and Clean Energy\\u2014due to their emphasis on reliable, efficient, and cleaner energy production. The topic is clearly not generic; it reflects a real, concrete sustainability trend tackled by Siemens and its partners.\",\n",
      "      \"confidence_score\": 0.94\n",
      "    }\n",
      "  },\n",
      "  {\n",
      "    \"topic_id\": 16,\n",
      "    \"summary_data\": {\n",
      "      \"is_meaningful_topic\": true,\n",
      "      \"topic_label\": \"Employee Turnover and Diversity\",\n",
      "      \"summary\": \"This cluster focuses on Siemens AG's employee demographics, turnover rates, exits by region, gender diversity, and management representation from 2011 to 2014. It tracks trends in employee exits, proportion of women, age structure, and working conditions across different geographic regions.\",\n",
      "      \"primary_sdg\": {\n",
      "        \"number\": \"8\",\n",
      "        \"name\": \"Decent Work and Economic Growth\"\n",
      "      },\n",
      "      \"is_generic\": false,\n",
      "      \"justification\": \"The cluster centers on key human resources metrics such as turnover rates, employee exits, gender diversity, and regional and managerial breakdowns. These are significant for understanding workforce stability, inclusiveness, and working conditions at Siemens AG. The emphasis on gender, management representation, and geographical employee distribution aligns most strongly with SDG 8, which seeks to promote sustained, inclusive employment and decent work for all. The repetitive but substantial nature of the content underlines a meaningful sustainability trend rather than administrative filler.\",\n",
      "      \"confidence_score\": 0.97\n",
      "    }\n",
      "  },\n",
      "  {\n",
      "    \"topic_id\": 17,\n",
      "    \"summary_data\": {\n",
      "      \"is_meaningful_topic\": true,\n",
      "      \"topic_label\": \"Corporate Water Stewardship\",\n",
      "      \"summary\": \"This topic cluster details Siemens AG's approach to sustainable water management, including internal consumption metrics, local risk adaptation, community water access projects, supplier requirements, and participation in global water initiatives such as the UN CEO Water Mandate. Siemens monitors its water use, seeks reductions, provides water-related technologies, and supports safe drinking water projects in underserved regions.\",\n",
      "      \"primary_sdg\": {\n",
      "        \"number\": \"6\",\n",
      "        \"name\": \"Clean Water and Sanitation\"\n",
      "      },\n",
      "      \"is_generic\": false,\n",
      "      \"justification\": \"The passages focus specifically on water use efficiency, risk management, community involvement in water access, and alignment with global water sustainability frameworks. These themes reflect a substantive effort towards SDG 6 (Clean Water and Sanitation), addressing both operational and community dimensions and providing clear, concrete examples of activities and outcomes. The cluster is neither generic nor administrative, as it presents quantifiable metrics, strategic actions, and meaningful participation in water-related sustainability initiatives.\",\n",
      "      \"confidence_score\": 0.98\n",
      "    }\n",
      "  },\n",
      "  {\n",
      "    \"topic_id\": 18,\n",
      "    \"summary_data\": {\n",
      "      \"is_meaningful_topic\": true,\n",
      "      \"topic_label\": \"Smart Urban Infrastructure in Vienna\",\n",
      "      \"summary\": \"This topic cluster centers on Vienna's approach to enhancing livability and sustainability through intelligent urban infrastructure, especially focused on public transportation, energy efficiency, and climate-friendly technologies. It highlights Siemens' role in partnering with the city to implement innovative solutions that improve quality of life while supporting economic growth.\",\n",
      "      \"primary_sdg\": {\n",
      "        \"number\": \"11\",\n",
      "        \"name\": \"Sustainable Cities and Communities\"\n",
      "      },\n",
      "      \"is_generic\": false,\n",
      "      \"justification\": \"The content repeatedly references concrete examples of technology-driven infrastructure improvements in Vienna\\u2014such as advanced public transit, smart grids, energy-efficient buildings, and integrated climate protection plans\\u2014directly linking these initiatives to quality of urban life and environmental sustainability. The focus on sustainable urban development with measurable outcomes corresponds closely to SDG 11: Sustainable Cities and Communities, which emphasizes making cities inclusive, safe, resilient, and sustainable. There is substantial contextual and topical specificity; the passages are not administrative or generic, but highlight real sustainability trends and impact.\",\n",
      "      \"confidence_score\": 0.98\n",
      "    }\n",
      "  },\n",
      "  {\n",
      "    \"topic_id\": 19,\n",
      "    \"summary_data\": {\n",
      "      \"is_meaningful_topic\": false,\n",
      "      \"topic_label\": \"Executive Compensation Reporting\",\n",
      "      \"summary\": \"This cluster contains generic or administrative content and does not reflect a real sustainability trend.\",\n",
      "      \"primary_sdg\": {\n",
      "        \"number\": \"16\",\n",
      "        \"name\": \"Peace, Justice and Strong Institutions\"\n",
      "      },\n",
      "      \"is_generic\": true,\n",
      "      \"justification\": \"The vast majority of text samples in this cluster are lists of executive and supervisory board compensation figures, committee work details, and names of executives. There is no recurring theme connected with sustainability actions, impact, strategy, or outcomes; rather, the cluster is focused on administrative disclosures required for governance transparency. This content is generic to company reporting and unrelated to the core themes of sustainability performance or initiatives.\",\n",
      "      \"confidence_score\": 0.98\n",
      "    }\n",
      "  },\n",
      "  {\n",
      "    \"topic_id\": 20,\n",
      "    \"summary_data\": {\n",
      "      \"is_meaningful_topic\": true,\n",
      "      \"topic_label\": \"Atmospheric Pollutant Emissions\",\n",
      "      \"summary\": \"This cluster covers Siemens AG's management, reporting, and phased reduction of atmospheric pollutant emissions, particularly volatile organic compounds (VOC) and ozone-depleting substances (ODS), in accordance with environmental regulations such as the Montreal Protocol. The data also includes waste management and highlights ongoing efforts to reduce emissions through new processes and greater awareness.\",\n",
      "      \"primary_sdg\": {\n",
      "        \"number\": \"12\",\n",
      "        \"name\": \"Responsible Consumption and Production\"\n",
      "      },\n",
      "      \"is_generic\": false,\n",
      "      \"justification\": \"The topic is focused and meaningful, consistently discussing Siemens AG\\u2019s systematic approach and performance regarding industrial emissions into the atmosphere, especially VOCs and ODS. There are repeated references to measurements, year-on-year trends, compliance with the Montreal Protocol, and plans for phasing out harmful chemicals. This directly relates to SDG 12, which targets responsible production, hazardous chemical management, and reducing negative environmental impacts. The topic is not generic, as it shows real trends and strategic responses tied to sustainability goals.\",\n",
      "      \"confidence_score\": 0.95\n",
      "    }\n",
      "  },\n",
      "  {\n",
      "    \"topic_id\": 21,\n",
      "    \"summary_data\": {\n",
      "      \"is_meaningful_topic\": true,\n",
      "      \"topic_label\": \"Nuclear Waste Management\",\n",
      "      \"summary\": \"This cluster centers on Siemens' responsibilities and actions regarding the decommissioning of nuclear facilities in Hanau and Karlstein, Germany. It details financial provisions, processes, and regulatory compliance for the handling, intermediate and final storage, and disposal of radioactive and other hazardous waste, emphasizing long-term environmental protection obligations.\",\n",
      "      \"primary_sdg\": {\n",
      "        \"number\": \"12\",\n",
      "        \"name\": \"Responsible Consumption and Production\"\n",
      "      },\n",
      "      \"is_generic\": false,\n",
      "      \"justification\": \"The cluster consistently involves detailed discussions of asset retirement obligations, nuclear facility decommissioning, radioactive waste storage, and related financial and regulatory aspects, particularly focusing on the safe and responsible management of hazardous and radioactive waste. These passages are highly specific, track a distinct aspect of Siemens\\u2019 environmental and sustainability commitments, and clearly tie to SDG 12 (Target 12.4: environmentally sound management of chemicals and wastes). While financial terminology is present, the content is not generic or merely administrative; it reflects an important and ongoing sustainability challenge.\",\n",
      "      \"confidence_score\": 0.98\n",
      "    }\n",
      "  },\n",
      "  {\n",
      "    \"topic_id\": 22,\n",
      "    \"summary_data\": {\n",
      "      \"is_meaningful_topic\": true,\n",
      "      \"topic_label\": \"Customer Satisfaction and Key Account Management\",\n",
      "      \"summary\": \"This topic cluster centers on Siemens\\u2019 systematic approach to measuring and improving customer satisfaction through the Net Promoter Score (NPS), the use of annual surveys, and the development of long-term relationships with key customers via Key Account Management. It highlights the integration of customer-centric practices and digital tools into broader sustainability and ESG goals.\",\n",
      "      \"primary_sdg\": {\n",
      "        \"number\": \"12\",\n",
      "        \"name\": \"Responsible Consumption and Production\"\n",
      "      },\n",
      "      \"is_generic\": false,\n",
      "      \"justification\": \"The passages consistently refer to structured processes for customer feedback, loyalty, and satisfaction as measured by the NPS, as well as strategic account management practices to foster long-term, sustainable customer relationships. These practices align most closely with SDG 12, which encourages sustainable business practices and the responsible provision of products and solutions. The topic is distinct, focused, and reflects a real trend in sustainability linked to responsible business conduct.\",\n",
      "      \"confidence_score\": 0.93\n",
      "    }\n",
      "  },\n",
      "  {\n",
      "    \"topic_id\": 23,\n",
      "    \"summary_data\": {\n",
      "      \"is_meaningful_topic\": true,\n",
      "      \"topic_label\": \"Baseline Methods for Emissions Reduction\",\n",
      "      \"summary\": \"This topic cluster provides detailed methodologies on how Siemens measures the environmental impact\\u2014especially carbon dioxide emissions reductions\\u2014of its products, solutions, and services, using baseline comparisons such as before-and-after, reference technology, and installed base scenarios. The discussion includes application of global and local emission factors, calculation approaches, and reporting principles for environmental portfolio elements.\",\n",
      "      \"primary_sdg\": {\n",
      "        \"number\": \"13\",\n",
      "        \"name\": \"Climate Action\"\n",
      "      },\n",
      "      \"is_generic\": false,\n",
      "      \"justification\": \"The cluster is focused on the technical and methodological frameworks Siemens uses to quantitatively demonstrate how its offerings reduce greenhouse gas emissions, a critical theme in corporate sustainability reporting. The recurring references to emissions, baseline comparisons, and alignment with recognized standards (e.g., IEA, IPCC) denote a specialized and actionable focus on climate-related outcomes, well aligned with SDG 13 (Climate Action). While there is some repetition, the content is not generic or administrative, but rather directed toward robust, comparable emissions tracking\\u2014a meaningful topic for both internal management and external stakeholders.\",\n",
      "      \"confidence_score\": 0.98\n",
      "    }\n",
      "  },\n",
      "  {\n",
      "    \"topic_id\": 24,\n",
      "    \"summary_data\": {\n",
      "      \"is_meaningful_topic\": false,\n",
      "      \"topic_label\": \"Generic/Administrative Content\",\n",
      "      \"summary\": \"This cluster contains generic or administrative content and does not reflect a real sustainability trend.\",\n",
      "      \"primary_sdg\": {\n",
      "        \"number\": \"0\",\n",
      "        \"name\": \"None\"\n",
      "      },\n",
      "      \"is_generic\": true,\n",
      "      \"justification\": \"The text samples and keywords in this cluster are either single letters, short fragments, or meaningless acronyms with no clear context or connection to recognized sustainability concepts, measures, or SDGs. There is no meaningful, actionable information or coherent sustainability trend apparent, so this likely represents either placeholder text, section headers, or data parsing errors instead of substantive content.\",\n",
      "      \"confidence_score\": 1.0\n",
      "    }\n",
      "  },\n",
      "  {\n",
      "    \"topic_id\": 25,\n",
      "    \"summary_data\": {\n",
      "      \"is_meaningful_topic\": false,\n",
      "      \"topic_label\": \"Generic Report References\",\n",
      "      \"summary\": \"This cluster contains generic or administrative content and does not reflect a real sustainability trend.\",\n",
      "      \"primary_sdg\": {\n",
      "        \"number\": \"0\",\n",
      "        \"name\": \"Not Applicable\"\n",
      "      },\n",
      "      \"is_generic\": true,\n",
      "      \"justification\": \"The keywords and text samples consist solely of references to report sections or paragraphs, and do not provide substantive content related to sustainability themes. No specific topic, sustainability issue, or SDG-relevant discussion can be inferred from this cluster.\",\n",
      "      \"confidence_score\": 1.0\n",
      "    }\n",
      "  },\n",
      "  {\n",
      "    \"topic_id\": 26,\n",
      "    \"summary_data\": {\n",
      "      \"is_meaningful_topic\": false,\n",
      "      \"topic_label\": \"Administrative Rounding Notes\",\n",
      "      \"summary\": \"This cluster contains generic or administrative content and does not reflect a real sustainability trend.\",\n",
      "      \"primary_sdg\": {\n",
      "        \"number\": \"0\",\n",
      "        \"name\": \"Not applicable\"\n",
      "      },\n",
      "      \"is_generic\": true,\n",
      "      \"justification\": \"The text samples are repeated administrative disclaimers about rounding of numerical figures in reports, which are standard in financial and sustainability reporting. There is no substantive sustainability topic, trend, strategy, or SDG-related issue in these texts. The keywords reinforce that this is about calculation and presentation, not content.\",\n",
      "      \"confidence_score\": 1.0\n",
      "    }\n",
      "  },\n",
      "  {\n",
      "    \"topic_id\": 27,\n",
      "    \"summary_data\": {\n",
      "      \"is_meaningful_topic\": false,\n",
      "      \"topic_label\": \"Financial Lease Disclosures\",\n",
      "      \"summary\": \"This cluster contains generic or administrative content and does not reflect a real sustainability trend.\",\n",
      "      \"primary_sdg\": {\n",
      "        \"number\": \"0\",\n",
      "        \"name\": \"No relevant SDG\"\n",
      "      },\n",
      "      \"is_generic\": true,\n",
      "      \"justification\": \"The text samples almost exclusively describe detailed financial disclosures regarding leases, loans, receivables, and related accounting positions across several fiscal years. There is no evidence of trend analysis, sustainability strategy, or impact; rather, they represent statutory reporting requirements found in any corporate financial statement. The language, focus, and repeated structure indicate this cluster is about administrative disclosures, not a meaningful sustainability issue.\",\n",
      "      \"confidence_score\": 0.97\n",
      "    }\n",
      "  },\n",
      "  {\n",
      "    \"topic_id\": 28,\n",
      "    \"summary_data\": {\n",
      "      \"is_meaningful_topic\": false,\n",
      "      \"topic_label\": \"Administrative Listings\",\n",
      "      \"summary\": \"This cluster contains generic or administrative content and does not reflect a real sustainability trend.\",\n",
      "      \"primary_sdg\": {\n",
      "        \"number\": \"0\",\n",
      "        \"name\": \"Not applicable\"\n",
      "      },\n",
      "      \"is_generic\": true,\n",
      "      \"justification\": \"The samples are repetitive, primarily list Siemens entities, refer to SHS status, and mention collective bargaining in passing without substantive discussion or thematic context. The content is largely administrative\\u2014detailing company divisions, compliance wavelengths, and geographical operations\\u2014without conveying a sustainability-related trend or clear focus relevant to the SDGs.\",\n",
      "      \"confidence_score\": 0.98\n",
      "    }\n",
      "  }\n",
      "]\n"
     ]
    }
   ],
   "source": [
    "nano_model='gpt-4.1-nano'\n",
    "mini_model='gpt-4.1-mini'\n",
    "full_model='gpt-4.1'\n",
    "#use full model for your thesis results\n",
    "\n",
    "def summarize_documents(documents, representations, model=full_model):\n",
    "    prompt = f\"\"\"Below are 20 text samples and corresponding keywords from a single topic cluster derived from Siemens AG sustainability reports between 2013 and 2024. \n",
    "    These are representative passages in the cluster.\n",
    "Please provide your analysis in JSON format with the following structure:\n",
    "{{\n",
    "    \"is_meaningful_topic\": true/false,\n",
    "    \"topic_label\": \"short label (3-6 words)\",\n",
    "    \"summary\": \"1-2 sentence summary\",\n",
    "    \"primary_sdg\": {{\"number\": \"X\", \"name\": \"SDG name\"}},\n",
    "    \"is_generic\": true/false,\n",
    "    \"justification\": \"2-3 sentences explaining your rationale for the choices made\",\n",
    "    \"confidence_score\": X.X (a number between 0.0-1.0 indicating your confidence in this analysis)\n",
    "}}\n",
    "\n",
    "If the topic is generic, set \"is_meaningful_topic\" to false, \"is_generic\" to true, and include \"summary\": \"This cluster contains generic or administrative content and does not reflect a real sustainability trend.\"\n",
    "\n",
    "Note: Please select only ONE primary SDG that best matches the topic.\n",
    "    \n",
    "    <Keywords>{representations}</Keywords>\n",
    "    <TextSamples>{documents}</TextSamples>\n",
    "\"\"\"\n",
    "\n",
    "    response = openai.responses.create(\n",
    "        model=model,\n",
    "        input=[\n",
    "            {\"role\": \"user\", \"content\": prompt}\n",
    "        ]\n",
    "    )\n",
    "    \n",
    "    # Extract the text from the response\n",
    "    response_text = response.output[0].content[0].text\n",
    "    \n",
    "    # Try to parse the JSON from the response\n",
    "    try:\n",
    "        # Remove any potential markdown code block formatting\n",
    "        if \"```json\" in response_text:\n",
    "            response_text = response_text.split(\"```json\")[1].split(\"```\")[0].strip()\n",
    "        elif \"```\" in response_text:\n",
    "            response_text = response_text.split(\"```\")[1].split(\"```\")[0].strip()\n",
    "        \n",
    "        # Parse the JSON\n",
    "        summary_json = json.loads(response_text)\n",
    "        return summary_json\n",
    "    except json.JSONDecodeError:\n",
    "        # If parsing fails, return a structured error message\n",
    "        return {\n",
    "            \"error\": True,\n",
    "            \"message\": \"Failed to parse JSON from model response\",\n",
    "            \"raw_response\": response_text\n",
    "        }\n",
    "\n",
    "# Create JSON output for all topics\n",
    "topics_json = []\n",
    "for index, row in df_concatenated_docs_merge.iterrows():\n",
    "    topic_data = {\n",
    "        \"topic_id\": row.get('Topic', f\"Topic_{index}\"),\n",
    "        \"summary_data\": summarize_documents(row['ConcatenatedDocuments'], row['Representation'])\n",
    "    }\n",
    "    topics_json.append(topic_data)\n",
    "\n",
    "# Convert to JSON string\n",
    "json_output = json.dumps(topics_json, indent=2)\n",
    "\n",
    "# Print or save the JSON\n",
    "print(json_output)\n",
    "\n",
    "# Optionally save to file\n",
    "# with open(\"sustainability_topics_summary.json\", \"w\") as f:\n",
    "#     f.write(json_output)"
   ]
  },
  {
   "cell_type": "code",
   "execution_count": 31,
   "id": "df489399-e3f1-49d0-a437-3b40111366b9",
   "metadata": {},
   "outputs": [
    {
     "data": {
      "text/html": [
       "<div>\n",
       "<style scoped>\n",
       "    .dataframe tbody tr th:only-of-type {\n",
       "        vertical-align: middle;\n",
       "    }\n",
       "\n",
       "    .dataframe tbody tr th {\n",
       "        vertical-align: top;\n",
       "    }\n",
       "\n",
       "    .dataframe thead th {\n",
       "        text-align: right;\n",
       "    }\n",
       "</style>\n",
       "<table border=\"1\" class=\"dataframe\">\n",
       "  <thead>\n",
       "    <tr style=\"text-align: right;\">\n",
       "      <th></th>\n",
       "      <th>Topic</th>\n",
       "      <th>is_meaningful_topic</th>\n",
       "      <th>topic_label</th>\n",
       "      <th>summary</th>\n",
       "      <th>is_generic</th>\n",
       "      <th>justification</th>\n",
       "      <th>confidence_score</th>\n",
       "      <th>sdg_number</th>\n",
       "      <th>sdg_name</th>\n",
       "    </tr>\n",
       "  </thead>\n",
       "  <tbody>\n",
       "    <tr>\n",
       "      <th>0</th>\n",
       "      <td>0</td>\n",
       "      <td>False</td>\n",
       "      <td>Financial Reporting Metrics</td>\n",
       "      <td>This cluster contains generic or administrativ...</td>\n",
       "      <td>True</td>\n",
       "      <td>The content of these samples centers almost en...</td>\n",
       "      <td>0.98</td>\n",
       "      <td>8</td>\n",
       "      <td>Decent Work and Economic Growth</td>\n",
       "    </tr>\n",
       "    <tr>\n",
       "      <th>1</th>\n",
       "      <td>1</td>\n",
       "      <td>True</td>\n",
       "      <td>Environmental Portfolio and Emissions</td>\n",
       "      <td>This topic cluster centers on Siemens AG's Env...</td>\n",
       "      <td>False</td>\n",
       "      <td>The samples are focused on Siemens' extended e...</td>\n",
       "      <td>0.95</td>\n",
       "      <td>13</td>\n",
       "      <td>Climate Action</td>\n",
       "    </tr>\n",
       "    <tr>\n",
       "      <th>2</th>\n",
       "      <td>2</td>\n",
       "      <td>True</td>\n",
       "      <td>Compliance and Human Rights in Supply Chain</td>\n",
       "      <td>This cluster focuses on Siemens’ commitment to...</td>\n",
       "      <td>False</td>\n",
       "      <td>The recurring concepts across the samples—comp...</td>\n",
       "      <td>0.95</td>\n",
       "      <td>16</td>\n",
       "      <td>Peace, Justice and Strong Institutions</td>\n",
       "    </tr>\n",
       "    <tr>\n",
       "      <th>3</th>\n",
       "      <td>3</td>\n",
       "      <td>False</td>\n",
       "      <td>Corporate Governance Structure</td>\n",
       "      <td>This cluster contains generic or administrativ...</td>\n",
       "      <td>True</td>\n",
       "      <td>The topic cluster focuses on administrative pr...</td>\n",
       "      <td>0.98</td>\n",
       "      <td>16</td>\n",
       "      <td>Peace, Justice and Strong Institutions</td>\n",
       "    </tr>\n",
       "    <tr>\n",
       "      <th>4</th>\n",
       "      <td>4</td>\n",
       "      <td>True</td>\n",
       "      <td>Diversity, Employee Development</td>\n",
       "      <td>This topic cluster is focused on Siemens' effo...</td>\n",
       "      <td>False</td>\n",
       "      <td>The cluster is highly focused on human resourc...</td>\n",
       "      <td>0.95</td>\n",
       "      <td>4</td>\n",
       "      <td>Quality Education</td>\n",
       "    </tr>\n",
       "    <tr>\n",
       "      <th>5</th>\n",
       "      <td>5</td>\n",
       "      <td>True</td>\n",
       "      <td>Managing Board Compensation</td>\n",
       "      <td>This topic cluster discusses the structure, go...</td>\n",
       "      <td>False</td>\n",
       "      <td>The passages are highly specific to the govern...</td>\n",
       "      <td>0.98</td>\n",
       "      <td>8</td>\n",
       "      <td>Decent Work and Economic Growth</td>\n",
       "    </tr>\n",
       "    <tr>\n",
       "      <th>6</th>\n",
       "      <td>6</td>\n",
       "      <td>True</td>\n",
       "      <td>Global Market Growth Trends</td>\n",
       "      <td>This cluster analyzes global and regional mark...</td>\n",
       "      <td>False</td>\n",
       "      <td>The cluster provides an in-depth, data-driven ...</td>\n",
       "      <td>0.95</td>\n",
       "      <td>8</td>\n",
       "      <td>Decent Work and Economic Growth</td>\n",
       "    </tr>\n",
       "    <tr>\n",
       "      <th>7</th>\n",
       "      <td>7</td>\n",
       "      <td>True</td>\n",
       "      <td>Digital Industrial Solutions</td>\n",
       "      <td>This cluster discusses Siemens' development an...</td>\n",
       "      <td>False</td>\n",
       "      <td>The text samples consistently revolve around S...</td>\n",
       "      <td>0.95</td>\n",
       "      <td>9</td>\n",
       "      <td>Industry, Innovation and Infrastructure</td>\n",
       "    </tr>\n",
       "    <tr>\n",
       "      <th>8</th>\n",
       "      <td>8</td>\n",
       "      <td>False</td>\n",
       "      <td>Corporate Subsidiaries Listing</td>\n",
       "      <td>This cluster contains generic or administrativ...</td>\n",
       "      <td>True</td>\n",
       "      <td>The text samples predominantly list corporate ...</td>\n",
       "      <td>1.00</td>\n",
       "      <td>0</td>\n",
       "      <td>Not applicable</td>\n",
       "    </tr>\n",
       "    <tr>\n",
       "      <th>9</th>\n",
       "      <td>9</td>\n",
       "      <td>True</td>\n",
       "      <td>Occupational Health and Safety</td>\n",
       "      <td>This topic focuses on Siemens’ systematic effo...</td>\n",
       "      <td>False</td>\n",
       "      <td>The cluster is highly focused on workplace saf...</td>\n",
       "      <td>0.98</td>\n",
       "      <td>8</td>\n",
       "      <td>Decent Work and Economic Growth</td>\n",
       "    </tr>\n",
       "    <tr>\n",
       "      <th>10</th>\n",
       "      <td>10</td>\n",
       "      <td>True</td>\n",
       "      <td>Cybersecurity and Data Privacy</td>\n",
       "      <td>This cluster focuses on Siemens AG’s efforts t...</td>\n",
       "      <td>False</td>\n",
       "      <td>The cluster is highly focused around cybersecu...</td>\n",
       "      <td>0.98</td>\n",
       "      <td>9</td>\n",
       "      <td>Industry, Innovation and Infrastructure</td>\n",
       "    </tr>\n",
       "    <tr>\n",
       "      <th>11</th>\n",
       "      <td>11</td>\n",
       "      <td>True</td>\n",
       "      <td>Financial Risk Management</td>\n",
       "      <td>This cluster addresses Siemens' approach to ma...</td>\n",
       "      <td>False</td>\n",
       "      <td>The content is focused around Siemens' managem...</td>\n",
       "      <td>0.95</td>\n",
       "      <td>8</td>\n",
       "      <td>Decent Work and Economic Growth</td>\n",
       "    </tr>\n",
       "    <tr>\n",
       "      <th>12</th>\n",
       "      <td>12</td>\n",
       "      <td>False</td>\n",
       "      <td>Consolidation Criteria &amp; Legal Arrangements</td>\n",
       "      <td>This cluster contains generic or administrativ...</td>\n",
       "      <td>True</td>\n",
       "      <td>The samples and keywords primarily refer to fi...</td>\n",
       "      <td>1.00</td>\n",
       "      <td>N/A</td>\n",
       "      <td>Not Applicable</td>\n",
       "    </tr>\n",
       "    <tr>\n",
       "      <th>13</th>\n",
       "      <td>13</td>\n",
       "      <td>False</td>\n",
       "      <td>Administrative Accounting Exemptions</td>\n",
       "      <td>This cluster contains generic or administrativ...</td>\n",
       "      <td>True</td>\n",
       "      <td>The repeated references to 'exemption pursuant...</td>\n",
       "      <td>1.00</td>\n",
       "      <td>N/A</td>\n",
       "      <td>Not Applicable</td>\n",
       "    </tr>\n",
       "    <tr>\n",
       "      <th>14</th>\n",
       "      <td>14</td>\n",
       "      <td>True</td>\n",
       "      <td>Healthcare Access &amp; Medical Technology</td>\n",
       "      <td>This topic cluster discusses Siemens' efforts ...</td>\n",
       "      <td>False</td>\n",
       "      <td>The cluster is focused on actionable themes wi...</td>\n",
       "      <td>0.98</td>\n",
       "      <td>3</td>\n",
       "      <td>Good Health and Well-being</td>\n",
       "    </tr>\n",
       "    <tr>\n",
       "      <th>15</th>\n",
       "      <td>15</td>\n",
       "      <td>True</td>\n",
       "      <td>Efficient Gas Power Generation</td>\n",
       "      <td>This cluster focuses on the modernization of c...</td>\n",
       "      <td>False</td>\n",
       "      <td>The content is highly focused on Siemens' engi...</td>\n",
       "      <td>0.94</td>\n",
       "      <td>7</td>\n",
       "      <td>Affordable and Clean Energy</td>\n",
       "    </tr>\n",
       "    <tr>\n",
       "      <th>16</th>\n",
       "      <td>16</td>\n",
       "      <td>True</td>\n",
       "      <td>Employee Turnover and Diversity</td>\n",
       "      <td>This cluster focuses on Siemens AG's employee ...</td>\n",
       "      <td>False</td>\n",
       "      <td>The cluster centers on key human resources met...</td>\n",
       "      <td>0.97</td>\n",
       "      <td>8</td>\n",
       "      <td>Decent Work and Economic Growth</td>\n",
       "    </tr>\n",
       "    <tr>\n",
       "      <th>17</th>\n",
       "      <td>17</td>\n",
       "      <td>True</td>\n",
       "      <td>Corporate Water Stewardship</td>\n",
       "      <td>This topic cluster details Siemens AG's approa...</td>\n",
       "      <td>False</td>\n",
       "      <td>The passages focus specifically on water use e...</td>\n",
       "      <td>0.98</td>\n",
       "      <td>6</td>\n",
       "      <td>Clean Water and Sanitation</td>\n",
       "    </tr>\n",
       "    <tr>\n",
       "      <th>18</th>\n",
       "      <td>18</td>\n",
       "      <td>True</td>\n",
       "      <td>Smart Urban Infrastructure in Vienna</td>\n",
       "      <td>This topic cluster centers on Vienna's approac...</td>\n",
       "      <td>False</td>\n",
       "      <td>The content repeatedly references concrete exa...</td>\n",
       "      <td>0.98</td>\n",
       "      <td>11</td>\n",
       "      <td>Sustainable Cities and Communities</td>\n",
       "    </tr>\n",
       "    <tr>\n",
       "      <th>19</th>\n",
       "      <td>19</td>\n",
       "      <td>False</td>\n",
       "      <td>Executive Compensation Reporting</td>\n",
       "      <td>This cluster contains generic or administrativ...</td>\n",
       "      <td>True</td>\n",
       "      <td>The vast majority of text samples in this clus...</td>\n",
       "      <td>0.98</td>\n",
       "      <td>16</td>\n",
       "      <td>Peace, Justice and Strong Institutions</td>\n",
       "    </tr>\n",
       "    <tr>\n",
       "      <th>20</th>\n",
       "      <td>20</td>\n",
       "      <td>True</td>\n",
       "      <td>Atmospheric Pollutant Emissions</td>\n",
       "      <td>This cluster covers Siemens AG's management, r...</td>\n",
       "      <td>False</td>\n",
       "      <td>The topic is focused and meaningful, consisten...</td>\n",
       "      <td>0.95</td>\n",
       "      <td>12</td>\n",
       "      <td>Responsible Consumption and Production</td>\n",
       "    </tr>\n",
       "    <tr>\n",
       "      <th>21</th>\n",
       "      <td>21</td>\n",
       "      <td>True</td>\n",
       "      <td>Nuclear Waste Management</td>\n",
       "      <td>This cluster centers on Siemens' responsibilit...</td>\n",
       "      <td>False</td>\n",
       "      <td>The cluster consistently involves detailed dis...</td>\n",
       "      <td>0.98</td>\n",
       "      <td>12</td>\n",
       "      <td>Responsible Consumption and Production</td>\n",
       "    </tr>\n",
       "    <tr>\n",
       "      <th>22</th>\n",
       "      <td>22</td>\n",
       "      <td>True</td>\n",
       "      <td>Customer Satisfaction and Key Account Management</td>\n",
       "      <td>This topic cluster centers on Siemens’ systema...</td>\n",
       "      <td>False</td>\n",
       "      <td>The passages consistently refer to structured ...</td>\n",
       "      <td>0.93</td>\n",
       "      <td>12</td>\n",
       "      <td>Responsible Consumption and Production</td>\n",
       "    </tr>\n",
       "    <tr>\n",
       "      <th>23</th>\n",
       "      <td>23</td>\n",
       "      <td>True</td>\n",
       "      <td>Baseline Methods for Emissions Reduction</td>\n",
       "      <td>This topic cluster provides detailed methodolo...</td>\n",
       "      <td>False</td>\n",
       "      <td>The cluster is focused on the technical and me...</td>\n",
       "      <td>0.98</td>\n",
       "      <td>13</td>\n",
       "      <td>Climate Action</td>\n",
       "    </tr>\n",
       "    <tr>\n",
       "      <th>24</th>\n",
       "      <td>24</td>\n",
       "      <td>False</td>\n",
       "      <td>Generic/Administrative Content</td>\n",
       "      <td>This cluster contains generic or administrativ...</td>\n",
       "      <td>True</td>\n",
       "      <td>The text samples and keywords in this cluster ...</td>\n",
       "      <td>1.00</td>\n",
       "      <td>0</td>\n",
       "      <td>None</td>\n",
       "    </tr>\n",
       "    <tr>\n",
       "      <th>25</th>\n",
       "      <td>25</td>\n",
       "      <td>False</td>\n",
       "      <td>Generic Report References</td>\n",
       "      <td>This cluster contains generic or administrativ...</td>\n",
       "      <td>True</td>\n",
       "      <td>The keywords and text samples consist solely o...</td>\n",
       "      <td>1.00</td>\n",
       "      <td>0</td>\n",
       "      <td>Not Applicable</td>\n",
       "    </tr>\n",
       "    <tr>\n",
       "      <th>26</th>\n",
       "      <td>26</td>\n",
       "      <td>False</td>\n",
       "      <td>Administrative Rounding Notes</td>\n",
       "      <td>This cluster contains generic or administrativ...</td>\n",
       "      <td>True</td>\n",
       "      <td>The text samples are repeated administrative d...</td>\n",
       "      <td>1.00</td>\n",
       "      <td>0</td>\n",
       "      <td>Not applicable</td>\n",
       "    </tr>\n",
       "    <tr>\n",
       "      <th>27</th>\n",
       "      <td>27</td>\n",
       "      <td>False</td>\n",
       "      <td>Financial Lease Disclosures</td>\n",
       "      <td>This cluster contains generic or administrativ...</td>\n",
       "      <td>True</td>\n",
       "      <td>The text samples almost exclusively describe d...</td>\n",
       "      <td>0.97</td>\n",
       "      <td>0</td>\n",
       "      <td>No relevant SDG</td>\n",
       "    </tr>\n",
       "    <tr>\n",
       "      <th>28</th>\n",
       "      <td>28</td>\n",
       "      <td>False</td>\n",
       "      <td>Administrative Listings</td>\n",
       "      <td>This cluster contains generic or administrativ...</td>\n",
       "      <td>True</td>\n",
       "      <td>The samples are repetitive, primarily list Sie...</td>\n",
       "      <td>0.98</td>\n",
       "      <td>0</td>\n",
       "      <td>Not applicable</td>\n",
       "    </tr>\n",
       "  </tbody>\n",
       "</table>\n",
       "</div>"
      ],
      "text/plain": [
       "    Topic  is_meaningful_topic  \\\n",
       "0       0                False   \n",
       "1       1                 True   \n",
       "2       2                 True   \n",
       "3       3                False   \n",
       "4       4                 True   \n",
       "5       5                 True   \n",
       "6       6                 True   \n",
       "7       7                 True   \n",
       "8       8                False   \n",
       "9       9                 True   \n",
       "10     10                 True   \n",
       "11     11                 True   \n",
       "12     12                False   \n",
       "13     13                False   \n",
       "14     14                 True   \n",
       "15     15                 True   \n",
       "16     16                 True   \n",
       "17     17                 True   \n",
       "18     18                 True   \n",
       "19     19                False   \n",
       "20     20                 True   \n",
       "21     21                 True   \n",
       "22     22                 True   \n",
       "23     23                 True   \n",
       "24     24                False   \n",
       "25     25                False   \n",
       "26     26                False   \n",
       "27     27                False   \n",
       "28     28                False   \n",
       "\n",
       "                                         topic_label  \\\n",
       "0                        Financial Reporting Metrics   \n",
       "1              Environmental Portfolio and Emissions   \n",
       "2        Compliance and Human Rights in Supply Chain   \n",
       "3                     Corporate Governance Structure   \n",
       "4                    Diversity, Employee Development   \n",
       "5                        Managing Board Compensation   \n",
       "6                        Global Market Growth Trends   \n",
       "7                       Digital Industrial Solutions   \n",
       "8                     Corporate Subsidiaries Listing   \n",
       "9                     Occupational Health and Safety   \n",
       "10                    Cybersecurity and Data Privacy   \n",
       "11                         Financial Risk Management   \n",
       "12       Consolidation Criteria & Legal Arrangements   \n",
       "13              Administrative Accounting Exemptions   \n",
       "14            Healthcare Access & Medical Technology   \n",
       "15                    Efficient Gas Power Generation   \n",
       "16                   Employee Turnover and Diversity   \n",
       "17                       Corporate Water Stewardship   \n",
       "18              Smart Urban Infrastructure in Vienna   \n",
       "19                  Executive Compensation Reporting   \n",
       "20                   Atmospheric Pollutant Emissions   \n",
       "21                          Nuclear Waste Management   \n",
       "22  Customer Satisfaction and Key Account Management   \n",
       "23          Baseline Methods for Emissions Reduction   \n",
       "24                    Generic/Administrative Content   \n",
       "25                         Generic Report References   \n",
       "26                     Administrative Rounding Notes   \n",
       "27                       Financial Lease Disclosures   \n",
       "28                           Administrative Listings   \n",
       "\n",
       "                                              summary  is_generic  \\\n",
       "0   This cluster contains generic or administrativ...        True   \n",
       "1   This topic cluster centers on Siemens AG's Env...       False   \n",
       "2   This cluster focuses on Siemens’ commitment to...       False   \n",
       "3   This cluster contains generic or administrativ...        True   \n",
       "4   This topic cluster is focused on Siemens' effo...       False   \n",
       "5   This topic cluster discusses the structure, go...       False   \n",
       "6   This cluster analyzes global and regional mark...       False   \n",
       "7   This cluster discusses Siemens' development an...       False   \n",
       "8   This cluster contains generic or administrativ...        True   \n",
       "9   This topic focuses on Siemens’ systematic effo...       False   \n",
       "10  This cluster focuses on Siemens AG’s efforts t...       False   \n",
       "11  This cluster addresses Siemens' approach to ma...       False   \n",
       "12  This cluster contains generic or administrativ...        True   \n",
       "13  This cluster contains generic or administrativ...        True   \n",
       "14  This topic cluster discusses Siemens' efforts ...       False   \n",
       "15  This cluster focuses on the modernization of c...       False   \n",
       "16  This cluster focuses on Siemens AG's employee ...       False   \n",
       "17  This topic cluster details Siemens AG's approa...       False   \n",
       "18  This topic cluster centers on Vienna's approac...       False   \n",
       "19  This cluster contains generic or administrativ...        True   \n",
       "20  This cluster covers Siemens AG's management, r...       False   \n",
       "21  This cluster centers on Siemens' responsibilit...       False   \n",
       "22  This topic cluster centers on Siemens’ systema...       False   \n",
       "23  This topic cluster provides detailed methodolo...       False   \n",
       "24  This cluster contains generic or administrativ...        True   \n",
       "25  This cluster contains generic or administrativ...        True   \n",
       "26  This cluster contains generic or administrativ...        True   \n",
       "27  This cluster contains generic or administrativ...        True   \n",
       "28  This cluster contains generic or administrativ...        True   \n",
       "\n",
       "                                        justification  confidence_score  \\\n",
       "0   The content of these samples centers almost en...              0.98   \n",
       "1   The samples are focused on Siemens' extended e...              0.95   \n",
       "2   The recurring concepts across the samples—comp...              0.95   \n",
       "3   The topic cluster focuses on administrative pr...              0.98   \n",
       "4   The cluster is highly focused on human resourc...              0.95   \n",
       "5   The passages are highly specific to the govern...              0.98   \n",
       "6   The cluster provides an in-depth, data-driven ...              0.95   \n",
       "7   The text samples consistently revolve around S...              0.95   \n",
       "8   The text samples predominantly list corporate ...              1.00   \n",
       "9   The cluster is highly focused on workplace saf...              0.98   \n",
       "10  The cluster is highly focused around cybersecu...              0.98   \n",
       "11  The content is focused around Siemens' managem...              0.95   \n",
       "12  The samples and keywords primarily refer to fi...              1.00   \n",
       "13  The repeated references to 'exemption pursuant...              1.00   \n",
       "14  The cluster is focused on actionable themes wi...              0.98   \n",
       "15  The content is highly focused on Siemens' engi...              0.94   \n",
       "16  The cluster centers on key human resources met...              0.97   \n",
       "17  The passages focus specifically on water use e...              0.98   \n",
       "18  The content repeatedly references concrete exa...              0.98   \n",
       "19  The vast majority of text samples in this clus...              0.98   \n",
       "20  The topic is focused and meaningful, consisten...              0.95   \n",
       "21  The cluster consistently involves detailed dis...              0.98   \n",
       "22  The passages consistently refer to structured ...              0.93   \n",
       "23  The cluster is focused on the technical and me...              0.98   \n",
       "24  The text samples and keywords in this cluster ...              1.00   \n",
       "25  The keywords and text samples consist solely o...              1.00   \n",
       "26  The text samples are repeated administrative d...              1.00   \n",
       "27  The text samples almost exclusively describe d...              0.97   \n",
       "28  The samples are repetitive, primarily list Sie...              0.98   \n",
       "\n",
       "   sdg_number                                 sdg_name  \n",
       "0           8          Decent Work and Economic Growth  \n",
       "1          13                           Climate Action  \n",
       "2          16   Peace, Justice and Strong Institutions  \n",
       "3          16   Peace, Justice and Strong Institutions  \n",
       "4           4                        Quality Education  \n",
       "5           8          Decent Work and Economic Growth  \n",
       "6           8          Decent Work and Economic Growth  \n",
       "7           9  Industry, Innovation and Infrastructure  \n",
       "8           0                           Not applicable  \n",
       "9           8          Decent Work and Economic Growth  \n",
       "10          9  Industry, Innovation and Infrastructure  \n",
       "11          8          Decent Work and Economic Growth  \n",
       "12        N/A                           Not Applicable  \n",
       "13        N/A                           Not Applicable  \n",
       "14          3               Good Health and Well-being  \n",
       "15          7              Affordable and Clean Energy  \n",
       "16          8          Decent Work and Economic Growth  \n",
       "17          6               Clean Water and Sanitation  \n",
       "18         11       Sustainable Cities and Communities  \n",
       "19         16   Peace, Justice and Strong Institutions  \n",
       "20         12   Responsible Consumption and Production  \n",
       "21         12   Responsible Consumption and Production  \n",
       "22         12   Responsible Consumption and Production  \n",
       "23         13                           Climate Action  \n",
       "24          0                                     None  \n",
       "25          0                           Not Applicable  \n",
       "26          0                           Not applicable  \n",
       "27          0                          No relevant SDG  \n",
       "28          0                           Not applicable  "
      ]
     },
     "metadata": {},
     "output_type": "display_data"
    }
   ],
   "source": [
    "# Create a DataFrame from the JSON output\n",
    "\n",
    "# If the JSON is still in the topics_json variable from the previous cell\n",
    "# If not, you can uncomment the file loading code below\n",
    "# with open(\"sustainability_topics_summary.json\", \"r\") as f:\n",
    "#     topics_data = json.load(f)\n",
    "topics_data = topics_json\n",
    "\n",
    "# Initialize an empty list to store flattened data\n",
    "flattened_data = []\n",
    "\n",
    "# Process each topic entry\n",
    "for topic_entry in topics_data:\n",
    "    topic_id = topic_entry[\"topic_id\"]\n",
    "    summary_data = topic_entry[\"summary_data\"]\n",
    "    \n",
    "    # Create a dictionary with topic_id and flattened summary data\n",
    "    topic_dict = {\"Topic\": topic_id}\n",
    "    \n",
    "    # Check if there was an error parsing JSON\n",
    "    if \"error\" in summary_data:\n",
    "        topic_dict[\"error\"] = summary_data[\"error\"]\n",
    "        topic_dict[\"error_message\"] = summary_data[\"message\"]\n",
    "        topic_dict[\"raw_response\"] = summary_data[\"raw_response\"]\n",
    "    else:\n",
    "        # Add all the summary fields to the dictionary\n",
    "        topic_dict[\"is_meaningful_topic\"] = summary_data.get(\"is_meaningful_topic\")\n",
    "        topic_dict[\"topic_label\"] = summary_data.get(\"topic_label\")\n",
    "        topic_dict[\"summary\"] = summary_data.get(\"summary\")\n",
    "        topic_dict[\"is_generic\"] = summary_data.get(\"is_generic\")\n",
    "        topic_dict[\"justification\"] = summary_data.get(\"justification\", \"\")\n",
    "        topic_dict[\"confidence_score\"] = summary_data.get(\"confidence_score\")\n",
    "        \n",
    "        # Handle primary SDG\n",
    "        if \"primary_sdg\" in summary_data and summary_data[\"primary_sdg\"]:\n",
    "            sdg = summary_data[\"primary_sdg\"]\n",
    "            topic_dict[\"sdg_number\"] = sdg.get(\"number\", \"\")\n",
    "            topic_dict[\"sdg_name\"] = sdg.get(\"name\", \"\")\n",
    "        else:\n",
    "            topic_dict[\"sdg_number\"] = \"\"\n",
    "            topic_dict[\"sdg_name\"] = \"\"\n",
    "    \n",
    "    flattened_data.append(topic_dict)\n",
    "\n",
    "# Create a DataFrame from the flattened data\n",
    "df_summary_results = pd.DataFrame(flattened_data)\n",
    "\n",
    "# Display the DataFrame\n",
    "display(df_summary_results)\n",
    "\n",
    "# Optional: Save to CSV for further analysis\n",
    "# df_summary_results.to_csv(\"sustainability_topics_analysis.csv\", index=False)\n",
    "\n",
    "# You can also group by Topic if needed\n",
    "# df_summary_by_topic = df_summary_results.groupby('Topic').first().reset_index()\n",
    "# display(df_summary_by_topic)"
   ]
  },
  {
   "cell_type": "code",
   "execution_count": 32,
   "id": "a4c3def8",
   "metadata": {},
   "outputs": [
    {
     "name": "stdout",
     "output_type": "stream",
     "text": [
      "The content of these samples centers almost entirely on financial results, metrics, accounting definitions, and shareholder-related information. There are no substantive discussions on sustainability impacts, ESG factors, or long-term environmental or societal concerns—just core business performance data (e.g., revenue, EBITDA, cash flow, stock, basic reporting). As such, this topic cluster is generic and administrative, providing background reporting figures but not addressing a meaningful sustainability topic or trend.\n"
     ]
    }
   ],
   "source": [
    "print(df_summary_results.loc[0]['justification'])"
   ]
  },
  {
   "cell_type": "code",
   "execution_count": 33,
   "id": "9a4adde9",
   "metadata": {},
   "outputs": [
    {
     "data": {
      "text/html": [
       "<div>\n",
       "<style scoped>\n",
       "    .dataframe tbody tr th:only-of-type {\n",
       "        vertical-align: middle;\n",
       "    }\n",
       "\n",
       "    .dataframe tbody tr th {\n",
       "        vertical-align: top;\n",
       "    }\n",
       "\n",
       "    .dataframe thead th {\n",
       "        text-align: right;\n",
       "    }\n",
       "</style>\n",
       "<table border=\"1\" class=\"dataframe\">\n",
       "  <thead>\n",
       "    <tr style=\"text-align: right;\">\n",
       "      <th></th>\n",
       "      <th>Topic</th>\n",
       "      <th>Count</th>\n",
       "      <th>Name</th>\n",
       "      <th>Representation</th>\n",
       "      <th>Representative_Docs</th>\n",
       "      <th>is_meaningful_topic</th>\n",
       "      <th>topic_label</th>\n",
       "      <th>summary</th>\n",
       "      <th>is_generic</th>\n",
       "      <th>justification</th>\n",
       "      <th>confidence_score</th>\n",
       "      <th>sdg_number</th>\n",
       "      <th>sdg_name</th>\n",
       "    </tr>\n",
       "  </thead>\n",
       "  <tbody>\n",
       "    <tr>\n",
       "      <th>0</th>\n",
       "      <td>-1</td>\n",
       "      <td>2163</td>\n",
       "      <td>-1_siemens_fiscal_financial_year</td>\n",
       "      <td>[siemens, fiscal, financial, year, million, in...</td>\n",
       "      <td>[The largest equity instrument allocated to le...</td>\n",
       "      <td>NaN</td>\n",
       "      <td>NaN</td>\n",
       "      <td>NaN</td>\n",
       "      <td>NaN</td>\n",
       "      <td>NaN</td>\n",
       "      <td>NaN</td>\n",
       "      <td>NaN</td>\n",
       "      <td>NaN</td>\n",
       "    </tr>\n",
       "    <tr>\n",
       "      <th>1</th>\n",
       "      <td>0</td>\n",
       "      <td>1192</td>\n",
       "      <td>0_financial_cash_million_income</td>\n",
       "      <td>[financial, cash, million, income, shares, sta...</td>\n",
       "      <td>[The change in Income taxes  resulted from hig...</td>\n",
       "      <td>False</td>\n",
       "      <td>Financial Reporting Metrics</td>\n",
       "      <td>This cluster contains generic or administrativ...</td>\n",
       "      <td>True</td>\n",
       "      <td>The content of these samples centers almost en...</td>\n",
       "      <td>0.98</td>\n",
       "      <td>8</td>\n",
       "      <td>Decent Work and Economic Growth</td>\n",
       "    </tr>\n",
       "    <tr>\n",
       "      <th>2</th>\n",
       "      <td>1</td>\n",
       "      <td>936</td>\n",
       "      <td>1_sustainability_environmental_gri_emissions</td>\n",
       "      <td>[sustainability, environmental, gri, emissions...</td>\n",
       "      <td>[For consistency reasons, we generally apply g...</td>\n",
       "      <td>True</td>\n",
       "      <td>Environmental Portfolio and Emissions</td>\n",
       "      <td>This topic cluster centers on Siemens AG's Env...</td>\n",
       "      <td>False</td>\n",
       "      <td>The samples are focused on Siemens' extended e...</td>\n",
       "      <td>0.95</td>\n",
       "      <td>13</td>\n",
       "      <td>Climate Action</td>\n",
       "    </tr>\n",
       "    <tr>\n",
       "      <th>3</th>\n",
       "      <td>2</td>\n",
       "      <td>797</td>\n",
       "      <td>2_compliance_human_rights_risk</td>\n",
       "      <td>[compliance, human, rights, risk, business, ri...</td>\n",
       "      <td>[Global agreements \\nSiemens has been an activ...</td>\n",
       "      <td>True</td>\n",
       "      <td>Compliance and Human Rights in Supply Chain</td>\n",
       "      <td>This cluster focuses on Siemens’ commitment to...</td>\n",
       "      <td>False</td>\n",
       "      <td>The recurring concepts across the samples—comp...</td>\n",
       "      <td>0.95</td>\n",
       "      <td>16</td>\n",
       "      <td>Peace, Justice and Strong Institutions</td>\n",
       "    </tr>\n",
       "    <tr>\n",
       "      <th>4</th>\n",
       "      <td>3</td>\n",
       "      <td>563</td>\n",
       "      <td>3_board_supervisory_siemens_chairman</td>\n",
       "      <td>[board, supervisory, siemens, chairman, ag, co...</td>\n",
       "      <td>[Details regarding the work of the Supervisory...</td>\n",
       "      <td>False</td>\n",
       "      <td>Corporate Governance Structure</td>\n",
       "      <td>This cluster contains generic or administrativ...</td>\n",
       "      <td>True</td>\n",
       "      <td>The topic cluster focuses on administrative pr...</td>\n",
       "      <td>0.98</td>\n",
       "      <td>16</td>\n",
       "      <td>Peace, Justice and Strong Institutions</td>\n",
       "    </tr>\n",
       "    <tr>\n",
       "      <th>5</th>\n",
       "      <td>4</td>\n",
       "      <td>408</td>\n",
       "      <td>4_people_diversity_learning_siemens</td>\n",
       "      <td>[people, diversity, learning, siemens, program...</td>\n",
       "      <td>[5.1 Working at Siemens5.2 \\nDiversity, Equity...</td>\n",
       "      <td>True</td>\n",
       "      <td>Diversity, Employee Development</td>\n",
       "      <td>This topic cluster is focused on Siemens' effo...</td>\n",
       "      <td>False</td>\n",
       "      <td>The cluster is highly focused on human resourc...</td>\n",
       "      <td>0.95</td>\n",
       "      <td>4</td>\n",
       "      <td>Quality Education</td>\n",
       "    </tr>\n",
       "    <tr>\n",
       "      <th>6</th>\n",
       "      <td>5</td>\n",
       "      <td>348</td>\n",
       "      <td>5_compensation_board_managing_benefit</td>\n",
       "      <td>[compensation, board, managing, benefit, pensi...</td>\n",
       "      <td>[10\\n  Prof. Dr. Russwurm left the Managing Bo...</td>\n",
       "      <td>True</td>\n",
       "      <td>Managing Board Compensation</td>\n",
       "      <td>This topic cluster discusses the structure, go...</td>\n",
       "      <td>False</td>\n",
       "      <td>The passages are highly specific to the govern...</td>\n",
       "      <td>0.98</td>\n",
       "      <td>8</td>\n",
       "      <td>Decent Work and Economic Growth</td>\n",
       "    </tr>\n",
       "    <tr>\n",
       "      <th>7</th>\n",
       "      <td>6</td>\n",
       "      <td>300</td>\n",
       "      <td>6_growth_markets_year_revenue</td>\n",
       "      <td>[growth, markets, year, revenue, orders, fisca...</td>\n",
       "      <td>[C.9.1.2  MARKET DEVEL OPMENT\\nIn fiscal 2015,...</td>\n",
       "      <td>True</td>\n",
       "      <td>Global Market Growth Trends</td>\n",
       "      <td>This cluster analyzes global and regional mark...</td>\n",
       "      <td>False</td>\n",
       "      <td>The cluster provides an in-depth, data-driven ...</td>\n",
       "      <td>0.95</td>\n",
       "      <td>8</td>\n",
       "      <td>Decent Work and Economic Growth</td>\n",
       "    </tr>\n",
       "    <tr>\n",
       "      <th>8</th>\n",
       "      <td>7</td>\n",
       "      <td>300</td>\n",
       "      <td>7_digital_solutions_customers_production</td>\n",
       "      <td>[digital, solutions, customers, production, bu...</td>\n",
       "      <td>[→Innovation and development cycles have \\nsho...</td>\n",
       "      <td>True</td>\n",
       "      <td>Digital Industrial Solutions</td>\n",
       "      <td>This cluster discusses Siemens' development an...</td>\n",
       "      <td>False</td>\n",
       "      <td>The text samples consistently revolve around S...</td>\n",
       "      <td>0.95</td>\n",
       "      <td>9</td>\n",
       "      <td>Industry, Innovation and Infrastructure</td>\n",
       "    </tr>\n",
       "    <tr>\n",
       "      <th>9</th>\n",
       "      <td>8</td>\n",
       "      <td>276</td>\n",
       "      <td>8_100_gmbh_siemens_spain</td>\n",
       "      <td>[100, gmbh, siemens, spain, limited, healthcar...</td>\n",
       "      <td>[10\\n Ex\\nemption pursuant to Section 264 (3) ...</td>\n",
       "      <td>False</td>\n",
       "      <td>Corporate Subsidiaries Listing</td>\n",
       "      <td>This cluster contains generic or administrativ...</td>\n",
       "      <td>True</td>\n",
       "      <td>The text samples predominantly list corporate ...</td>\n",
       "      <td>1.00</td>\n",
       "      <td>0</td>\n",
       "      <td>Not applicable</td>\n",
       "    </tr>\n",
       "    <tr>\n",
       "      <th>10</th>\n",
       "      <td>9</td>\n",
       "      <td>167</td>\n",
       "      <td>9_safety_health_work_occupational</td>\n",
       "      <td>[safety, health, work, occupational, employees...</td>\n",
       "      <td>[→ Managers and employees can take advantage o...</td>\n",
       "      <td>True</td>\n",
       "      <td>Occupational Health and Safety</td>\n",
       "      <td>This topic focuses on Siemens’ systematic effo...</td>\n",
       "      <td>False</td>\n",
       "      <td>The cluster is highly focused on workplace saf...</td>\n",
       "      <td>0.98</td>\n",
       "      <td>8</td>\n",
       "      <td>Decent Work and Economic Growth</td>\n",
       "    </tr>\n",
       "    <tr>\n",
       "      <th>11</th>\n",
       "      <td>10</td>\n",
       "      <td>156</td>\n",
       "      <td>10_cybersecurity_data_security_privacy</td>\n",
       "      <td>[cybersecurity, data, security, privacy, ai, p...</td>\n",
       "      <td>[Proactively dealing with threats, \\nincidents...</td>\n",
       "      <td>True</td>\n",
       "      <td>Cybersecurity and Data Privacy</td>\n",
       "      <td>This cluster focuses on Siemens AG’s efforts t...</td>\n",
       "      <td>False</td>\n",
       "      <td>The cluster is highly focused around cybersecu...</td>\n",
       "      <td>0.98</td>\n",
       "      <td>9</td>\n",
       "      <td>Industry, Innovation and Infrastructure</td>\n",
       "    </tr>\n",
       "    <tr>\n",
       "      <th>12</th>\n",
       "      <td>11</td>\n",
       "      <td>122</td>\n",
       "      <td>11_rate_currency_financial_foreign</td>\n",
       "      <td>[rate, currency, financial, foreign, fair, ins...</td>\n",
       "      <td>[The Company had interest rate swap contracts ...</td>\n",
       "      <td>True</td>\n",
       "      <td>Financial Risk Management</td>\n",
       "      <td>This cluster addresses Siemens' approach to ma...</td>\n",
       "      <td>False</td>\n",
       "      <td>The content is focused around Siemens' managem...</td>\n",
       "      <td>0.95</td>\n",
       "      <td>8</td>\n",
       "      <td>Decent Work and Economic Growth</td>\n",
       "    </tr>\n",
       "    <tr>\n",
       "      <th>13</th>\n",
       "      <td>12</td>\n",
       "      <td>117</td>\n",
       "      <td>12_arrangements_contractual_ol_circumstances</td>\n",
       "      <td>[arrangements, contractual, ol, circumstances,...</td>\n",
       "      <td>[2 \\n Contr\\nol due to rights to appoint, reas...</td>\n",
       "      <td>False</td>\n",
       "      <td>Consolidation Criteria &amp; Legal Arrangements</td>\n",
       "      <td>This cluster contains generic or administrativ...</td>\n",
       "      <td>True</td>\n",
       "      <td>The samples and keywords primarily refer to fi...</td>\n",
       "      <td>1.00</td>\n",
       "      <td>N/A</td>\n",
       "      <td>Not Applicable</td>\n",
       "    </tr>\n",
       "    <tr>\n",
       "      <th>14</th>\n",
       "      <td>13</td>\n",
       "      <td>115</td>\n",
       "      <td>13_emption_264_immateriality_pursuant</td>\n",
       "      <td>[emption, 264, immateriality, pursuant, sectio...</td>\n",
       "      <td>[6 Signif\\nicant influence due to contractual ...</td>\n",
       "      <td>False</td>\n",
       "      <td>Administrative Accounting Exemptions</td>\n",
       "      <td>This cluster contains generic or administrativ...</td>\n",
       "      <td>True</td>\n",
       "      <td>The repeated references to 'exemption pursuant...</td>\n",
       "      <td>1.00</td>\n",
       "      <td>N/A</td>\n",
       "      <td>Not Applicable</td>\n",
       "    </tr>\n",
       "    <tr>\n",
       "      <th>15</th>\n",
       "      <td>14</td>\n",
       "      <td>109</td>\n",
       "      <td>14_healthcare_medical_care_imaging</td>\n",
       "      <td>[healthcare, medical, care, imaging, diagnosti...</td>\n",
       "      <td>[Under the new organizational structure report...</td>\n",
       "      <td>True</td>\n",
       "      <td>Healthcare Access &amp; Medical Technology</td>\n",
       "      <td>This topic cluster discusses Siemens' efforts ...</td>\n",
       "      <td>False</td>\n",
       "      <td>The cluster is focused on actionable themes wi...</td>\n",
       "      <td>0.98</td>\n",
       "      <td>3</td>\n",
       "      <td>Good Health and Well-being</td>\n",
       "    </tr>\n",
       "    <tr>\n",
       "      <th>16</th>\n",
       "      <td>15</td>\n",
       "      <td>107</td>\n",
       "      <td>15_power_gas_energy_division</td>\n",
       "      <td>[power, gas, energy, division, consumption, tu...</td>\n",
       "      <td>[A.1.1.2  BUSINES S DESCRIPTION\\nThe Power and...</td>\n",
       "      <td>True</td>\n",
       "      <td>Efficient Gas Power Generation</td>\n",
       "      <td>This cluster focuses on the modernization of c...</td>\n",
       "      <td>False</td>\n",
       "      <td>The content is highly focused on Siemens' engi...</td>\n",
       "      <td>0.94</td>\n",
       "      <td>7</td>\n",
       "      <td>Affordable and Clean Energy</td>\n",
       "    </tr>\n",
       "    <tr>\n",
       "      <th>17</th>\n",
       "      <td>16</td>\n",
       "      <td>95</td>\n",
       "      <td>16_employees_turnover_percentage_asia</td>\n",
       "      <td>[employees, turnover, percentage, asia, common...</td>\n",
       "      <td>[Siemens employee hires (in thousands) 1\\nFisc...</td>\n",
       "      <td>True</td>\n",
       "      <td>Employee Turnover and Diversity</td>\n",
       "      <td>This cluster focuses on Siemens AG's employee ...</td>\n",
       "      <td>False</td>\n",
       "      <td>The cluster centers on key human resources met...</td>\n",
       "      <td>0.97</td>\n",
       "      <td>8</td>\n",
       "      <td>Decent Work and Economic Growth</td>\n",
       "    </tr>\n",
       "    <tr>\n",
       "      <th>18</th>\n",
       "      <td>17</td>\n",
       "      <td>80</td>\n",
       "      <td>17_water_drinking_use_wastewater</td>\n",
       "      <td>[water, drinking, use, wastewater, risks, loca...</td>\n",
       "      <td>[OUR OWN ACTIVITIES \\nFor more information abo...</td>\n",
       "      <td>True</td>\n",
       "      <td>Corporate Water Stewardship</td>\n",
       "      <td>This topic cluster details Siemens AG's approa...</td>\n",
       "      <td>False</td>\n",
       "      <td>The passages focus specifically on water use e...</td>\n",
       "      <td>0.98</td>\n",
       "      <td>6</td>\n",
       "      <td>Clean Water and Sanitation</td>\n",
       "    </tr>\n",
       "    <tr>\n",
       "      <th>19</th>\n",
       "      <td>18</td>\n",
       "      <td>40</td>\n",
       "      <td>18_vienna_city_häupl_michael</td>\n",
       "      <td>[vienna, city, häupl, michael, transportation,...</td>\n",
       "      <td>[What initiatives would you like to launch in ...</td>\n",
       "      <td>True</td>\n",
       "      <td>Smart Urban Infrastructure in Vienna</td>\n",
       "      <td>This topic cluster centers on Vienna's approac...</td>\n",
       "      <td>False</td>\n",
       "      <td>The content repeatedly references concrete exa...</td>\n",
       "      <td>0.98</td>\n",
       "      <td>11</td>\n",
       "      <td>Sustainable Cities and Communities</td>\n",
       "    </tr>\n",
       "    <tr>\n",
       "      <th>20</th>\n",
       "      <td>19</td>\n",
       "      <td>39</td>\n",
       "      <td>19_000_500_140_dr</td>\n",
       "      <td>[000, 500, 140, dr, 333, 150, 280, 667, 100, m...</td>\n",
       "      <td>[The compensation shown in the following table...</td>\n",
       "      <td>False</td>\n",
       "      <td>Executive Compensation Reporting</td>\n",
       "      <td>This cluster contains generic or administrativ...</td>\n",
       "      <td>True</td>\n",
       "      <td>The vast majority of text samples in this clus...</td>\n",
       "      <td>0.98</td>\n",
       "      <td>16</td>\n",
       "      <td>Peace, Justice and Strong Institutions</td>\n",
       "    </tr>\n",
       "    <tr>\n",
       "      <th>21</th>\n",
       "      <td>20</td>\n",
       "      <td>34</td>\n",
       "      <td>20_ozone_waste_r11_tons</td>\n",
       "      <td>[ozone, waste, r11, tons, organic, metric, emi...</td>\n",
       "      <td>[Emissions of air pollutants\\nIn addition to t...</td>\n",
       "      <td>True</td>\n",
       "      <td>Atmospheric Pollutant Emissions</td>\n",
       "      <td>This cluster covers Siemens AG's management, r...</td>\n",
       "      <td>False</td>\n",
       "      <td>The topic is focused and meaningful, consisten...</td>\n",
       "      <td>0.95</td>\n",
       "      <td>12</td>\n",
       "      <td>Responsible Consumption and Production</td>\n",
       "    </tr>\n",
       "    <tr>\n",
       "      <th>22</th>\n",
       "      <td>21</td>\n",
       "      <td>30</td>\n",
       "      <td>21_waste_storage_final_hazardous</td>\n",
       "      <td>[waste, storage, final, hazardous, hanau, faci...</td>\n",
       "      <td>[Warranties mainly relate to products sold. Or...</td>\n",
       "      <td>True</td>\n",
       "      <td>Nuclear Waste Management</td>\n",
       "      <td>This cluster centers on Siemens' responsibilit...</td>\n",
       "      <td>False</td>\n",
       "      <td>The cluster consistently involves detailed dis...</td>\n",
       "      <td>0.98</td>\n",
       "      <td>12</td>\n",
       "      <td>Responsible Consumption and Production</td>\n",
       "    </tr>\n",
       "    <tr>\n",
       "      <th>23</th>\n",
       "      <td>22</td>\n",
       "      <td>27</td>\n",
       "      <td>22_customer_score_customers_key</td>\n",
       "      <td>[customer, score, customers, key, satisfaction...</td>\n",
       "      <td>[To meet these challenges, Siemens strives to ...</td>\n",
       "      <td>True</td>\n",
       "      <td>Customer Satisfaction and Key Account Management</td>\n",
       "      <td>This topic cluster centers on Siemens’ systema...</td>\n",
       "      <td>False</td>\n",
       "      <td>The passages consistently refer to structured ...</td>\n",
       "      <td>0.93</td>\n",
       "      <td>12</td>\n",
       "      <td>Responsible Consumption and Production</td>\n",
       "    </tr>\n",
       "    <tr>\n",
       "      <th>24</th>\n",
       "      <td>23</td>\n",
       "      <td>25</td>\n",
       "      <td>23_comparison_solution_reference_installed</td>\n",
       "      <td>[comparison, solution, reference, installed, r...</td>\n",
       "      <td>[Direct comparison with a reference technology...</td>\n",
       "      <td>True</td>\n",
       "      <td>Baseline Methods for Emissions Reduction</td>\n",
       "      <td>This topic cluster provides detailed methodolo...</td>\n",
       "      <td>False</td>\n",
       "      <td>The cluster is focused on the technical and me...</td>\n",
       "      <td>0.98</td>\n",
       "      <td>13</td>\n",
       "      <td>Climate Action</td>\n",
       "    </tr>\n",
       "    <tr>\n",
       "      <th>25</th>\n",
       "      <td>24</td>\n",
       "      <td>22</td>\n",
       "      <td>24_iur_rer__</td>\n",
       "      <td>[iur, rer, , , , , , , , ]</td>\n",
       "      <td>[rer, iur, iur]</td>\n",
       "      <td>False</td>\n",
       "      <td>Generic/Administrative Content</td>\n",
       "      <td>This cluster contains generic or administrativ...</td>\n",
       "      <td>True</td>\n",
       "      <td>The text samples and keywords in this cluster ...</td>\n",
       "      <td>1.00</td>\n",
       "      <td>0</td>\n",
       "      <td>None</td>\n",
       "    </tr>\n",
       "    <tr>\n",
       "      <th>26</th>\n",
       "      <td>25</td>\n",
       "      <td>16</td>\n",
       "      <td>25_315_par_para_</td>\n",
       "      <td>[315, par, para, , , , , , , ]</td>\n",
       "      <td>[4 and 315 par\\na, 4 and 315 par\\na, 4 and 315...</td>\n",
       "      <td>False</td>\n",
       "      <td>Generic Report References</td>\n",
       "      <td>This cluster contains generic or administrativ...</td>\n",
       "      <td>True</td>\n",
       "      <td>The keywords and text samples consist solely o...</td>\n",
       "      <td>1.00</td>\n",
       "      <td>0</td>\n",
       "      <td>Not Applicable</td>\n",
       "    </tr>\n",
       "    <tr>\n",
       "      <th>27</th>\n",
       "      <td>26</td>\n",
       "      <td>15</td>\n",
       "      <td>26_precisely_percentages_totals_add</td>\n",
       "      <td>[precisely, percentages, totals, add, absolute...</td>\n",
       "      <td>[Due to rounding, numbers presented throughout...</td>\n",
       "      <td>False</td>\n",
       "      <td>Administrative Rounding Notes</td>\n",
       "      <td>This cluster contains generic or administrativ...</td>\n",
       "      <td>True</td>\n",
       "      <td>The text samples are repeated administrative d...</td>\n",
       "      <td>1.00</td>\n",
       "      <td>0</td>\n",
       "      <td>Not applicable</td>\n",
       "    </tr>\n",
       "    <tr>\n",
       "      <th>28</th>\n",
       "      <td>27</td>\n",
       "      <td>12</td>\n",
       "      <td>27_leases_sep_30_millions</td>\n",
       "      <td>[leases, sep, 30, millions, current, receivabl...</td>\n",
       "      <td>[Minimum future lease payments under operating...</td>\n",
       "      <td>False</td>\n",
       "      <td>Financial Lease Disclosures</td>\n",
       "      <td>This cluster contains generic or administrativ...</td>\n",
       "      <td>True</td>\n",
       "      <td>The text samples almost exclusively describe d...</td>\n",
       "      <td>0.97</td>\n",
       "      <td>0</td>\n",
       "      <td>No relevant SDG</td>\n",
       "    </tr>\n",
       "    <tr>\n",
       "      <th>29</th>\n",
       "      <td>28</td>\n",
       "      <td>11</td>\n",
       "      <td>28_shs_siemens_bargaining_gbk</td>\n",
       "      <td>[shs, siemens, bargaining, gbk, brightly, coll...</td>\n",
       "      <td>[1 Siemens without SHS, 2 Siemens without SHS\\...</td>\n",
       "      <td>False</td>\n",
       "      <td>Administrative Listings</td>\n",
       "      <td>This cluster contains generic or administrativ...</td>\n",
       "      <td>True</td>\n",
       "      <td>The samples are repetitive, primarily list Sie...</td>\n",
       "      <td>0.98</td>\n",
       "      <td>0</td>\n",
       "      <td>Not applicable</td>\n",
       "    </tr>\n",
       "  </tbody>\n",
       "</table>\n",
       "</div>"
      ],
      "text/plain": [
       "    Topic  Count                                          Name  \\\n",
       "0      -1   2163              -1_siemens_fiscal_financial_year   \n",
       "1       0   1192               0_financial_cash_million_income   \n",
       "2       1    936  1_sustainability_environmental_gri_emissions   \n",
       "3       2    797                2_compliance_human_rights_risk   \n",
       "4       3    563          3_board_supervisory_siemens_chairman   \n",
       "5       4    408           4_people_diversity_learning_siemens   \n",
       "6       5    348         5_compensation_board_managing_benefit   \n",
       "7       6    300                 6_growth_markets_year_revenue   \n",
       "8       7    300      7_digital_solutions_customers_production   \n",
       "9       8    276                      8_100_gmbh_siemens_spain   \n",
       "10      9    167             9_safety_health_work_occupational   \n",
       "11     10    156        10_cybersecurity_data_security_privacy   \n",
       "12     11    122            11_rate_currency_financial_foreign   \n",
       "13     12    117  12_arrangements_contractual_ol_circumstances   \n",
       "14     13    115         13_emption_264_immateriality_pursuant   \n",
       "15     14    109            14_healthcare_medical_care_imaging   \n",
       "16     15    107                  15_power_gas_energy_division   \n",
       "17     16     95         16_employees_turnover_percentage_asia   \n",
       "18     17     80              17_water_drinking_use_wastewater   \n",
       "19     18     40                  18_vienna_city_häupl_michael   \n",
       "20     19     39                             19_000_500_140_dr   \n",
       "21     20     34                       20_ozone_waste_r11_tons   \n",
       "22     21     30              21_waste_storage_final_hazardous   \n",
       "23     22     27               22_customer_score_customers_key   \n",
       "24     23     25    23_comparison_solution_reference_installed   \n",
       "25     24     22                                  24_iur_rer__   \n",
       "26     25     16                              25_315_par_para_   \n",
       "27     26     15           26_precisely_percentages_totals_add   \n",
       "28     27     12                     27_leases_sep_30_millions   \n",
       "29     28     11                 28_shs_siemens_bargaining_gbk   \n",
       "\n",
       "                                       Representation  \\\n",
       "0   [siemens, fiscal, financial, year, million, in...   \n",
       "1   [financial, cash, million, income, shares, sta...   \n",
       "2   [sustainability, environmental, gri, emissions...   \n",
       "3   [compliance, human, rights, risk, business, ri...   \n",
       "4   [board, supervisory, siemens, chairman, ag, co...   \n",
       "5   [people, diversity, learning, siemens, program...   \n",
       "6   [compensation, board, managing, benefit, pensi...   \n",
       "7   [growth, markets, year, revenue, orders, fisca...   \n",
       "8   [digital, solutions, customers, production, bu...   \n",
       "9   [100, gmbh, siemens, spain, limited, healthcar...   \n",
       "10  [safety, health, work, occupational, employees...   \n",
       "11  [cybersecurity, data, security, privacy, ai, p...   \n",
       "12  [rate, currency, financial, foreign, fair, ins...   \n",
       "13  [arrangements, contractual, ol, circumstances,...   \n",
       "14  [emption, 264, immateriality, pursuant, sectio...   \n",
       "15  [healthcare, medical, care, imaging, diagnosti...   \n",
       "16  [power, gas, energy, division, consumption, tu...   \n",
       "17  [employees, turnover, percentage, asia, common...   \n",
       "18  [water, drinking, use, wastewater, risks, loca...   \n",
       "19  [vienna, city, häupl, michael, transportation,...   \n",
       "20  [000, 500, 140, dr, 333, 150, 280, 667, 100, m...   \n",
       "21  [ozone, waste, r11, tons, organic, metric, emi...   \n",
       "22  [waste, storage, final, hazardous, hanau, faci...   \n",
       "23  [customer, score, customers, key, satisfaction...   \n",
       "24  [comparison, solution, reference, installed, r...   \n",
       "25                         [iur, rer, , , , , , , , ]   \n",
       "26                     [315, par, para, , , , , , , ]   \n",
       "27  [precisely, percentages, totals, add, absolute...   \n",
       "28  [leases, sep, 30, millions, current, receivabl...   \n",
       "29  [shs, siemens, bargaining, gbk, brightly, coll...   \n",
       "\n",
       "                                  Representative_Docs is_meaningful_topic  \\\n",
       "0   [The largest equity instrument allocated to le...                 NaN   \n",
       "1   [The change in Income taxes  resulted from hig...               False   \n",
       "2   [For consistency reasons, we generally apply g...                True   \n",
       "3   [Global agreements \\nSiemens has been an activ...                True   \n",
       "4   [Details regarding the work of the Supervisory...               False   \n",
       "5   [5.1 Working at Siemens5.2 \\nDiversity, Equity...                True   \n",
       "6   [10\\n  Prof. Dr. Russwurm left the Managing Bo...                True   \n",
       "7   [C.9.1.2  MARKET DEVEL OPMENT\\nIn fiscal 2015,...                True   \n",
       "8   [→Innovation and development cycles have \\nsho...                True   \n",
       "9   [10\\n Ex\\nemption pursuant to Section 264 (3) ...               False   \n",
       "10  [→ Managers and employees can take advantage o...                True   \n",
       "11  [Proactively dealing with threats, \\nincidents...                True   \n",
       "12  [The Company had interest rate swap contracts ...                True   \n",
       "13  [2 \\n Contr\\nol due to rights to appoint, reas...               False   \n",
       "14  [6 Signif\\nicant influence due to contractual ...               False   \n",
       "15  [Under the new organizational structure report...                True   \n",
       "16  [A.1.1.2  BUSINES S DESCRIPTION\\nThe Power and...                True   \n",
       "17  [Siemens employee hires (in thousands) 1\\nFisc...                True   \n",
       "18  [OUR OWN ACTIVITIES \\nFor more information abo...                True   \n",
       "19  [What initiatives would you like to launch in ...                True   \n",
       "20  [The compensation shown in the following table...               False   \n",
       "21  [Emissions of air pollutants\\nIn addition to t...                True   \n",
       "22  [Warranties mainly relate to products sold. Or...                True   \n",
       "23  [To meet these challenges, Siemens strives to ...                True   \n",
       "24  [Direct comparison with a reference technology...                True   \n",
       "25                                    [rer, iur, iur]               False   \n",
       "26  [4 and 315 par\\na, 4 and 315 par\\na, 4 and 315...               False   \n",
       "27  [Due to rounding, numbers presented throughout...               False   \n",
       "28  [Minimum future lease payments under operating...               False   \n",
       "29  [1 Siemens without SHS, 2 Siemens without SHS\\...               False   \n",
       "\n",
       "                                         topic_label  \\\n",
       "0                                                NaN   \n",
       "1                        Financial Reporting Metrics   \n",
       "2              Environmental Portfolio and Emissions   \n",
       "3        Compliance and Human Rights in Supply Chain   \n",
       "4                     Corporate Governance Structure   \n",
       "5                    Diversity, Employee Development   \n",
       "6                        Managing Board Compensation   \n",
       "7                        Global Market Growth Trends   \n",
       "8                       Digital Industrial Solutions   \n",
       "9                     Corporate Subsidiaries Listing   \n",
       "10                    Occupational Health and Safety   \n",
       "11                    Cybersecurity and Data Privacy   \n",
       "12                         Financial Risk Management   \n",
       "13       Consolidation Criteria & Legal Arrangements   \n",
       "14              Administrative Accounting Exemptions   \n",
       "15            Healthcare Access & Medical Technology   \n",
       "16                    Efficient Gas Power Generation   \n",
       "17                   Employee Turnover and Diversity   \n",
       "18                       Corporate Water Stewardship   \n",
       "19              Smart Urban Infrastructure in Vienna   \n",
       "20                  Executive Compensation Reporting   \n",
       "21                   Atmospheric Pollutant Emissions   \n",
       "22                          Nuclear Waste Management   \n",
       "23  Customer Satisfaction and Key Account Management   \n",
       "24          Baseline Methods for Emissions Reduction   \n",
       "25                    Generic/Administrative Content   \n",
       "26                         Generic Report References   \n",
       "27                     Administrative Rounding Notes   \n",
       "28                       Financial Lease Disclosures   \n",
       "29                           Administrative Listings   \n",
       "\n",
       "                                              summary is_generic  \\\n",
       "0                                                 NaN        NaN   \n",
       "1   This cluster contains generic or administrativ...       True   \n",
       "2   This topic cluster centers on Siemens AG's Env...      False   \n",
       "3   This cluster focuses on Siemens’ commitment to...      False   \n",
       "4   This cluster contains generic or administrativ...       True   \n",
       "5   This topic cluster is focused on Siemens' effo...      False   \n",
       "6   This topic cluster discusses the structure, go...      False   \n",
       "7   This cluster analyzes global and regional mark...      False   \n",
       "8   This cluster discusses Siemens' development an...      False   \n",
       "9   This cluster contains generic or administrativ...       True   \n",
       "10  This topic focuses on Siemens’ systematic effo...      False   \n",
       "11  This cluster focuses on Siemens AG’s efforts t...      False   \n",
       "12  This cluster addresses Siemens' approach to ma...      False   \n",
       "13  This cluster contains generic or administrativ...       True   \n",
       "14  This cluster contains generic or administrativ...       True   \n",
       "15  This topic cluster discusses Siemens' efforts ...      False   \n",
       "16  This cluster focuses on the modernization of c...      False   \n",
       "17  This cluster focuses on Siemens AG's employee ...      False   \n",
       "18  This topic cluster details Siemens AG's approa...      False   \n",
       "19  This topic cluster centers on Vienna's approac...      False   \n",
       "20  This cluster contains generic or administrativ...       True   \n",
       "21  This cluster covers Siemens AG's management, r...      False   \n",
       "22  This cluster centers on Siemens' responsibilit...      False   \n",
       "23  This topic cluster centers on Siemens’ systema...      False   \n",
       "24  This topic cluster provides detailed methodolo...      False   \n",
       "25  This cluster contains generic or administrativ...       True   \n",
       "26  This cluster contains generic or administrativ...       True   \n",
       "27  This cluster contains generic or administrativ...       True   \n",
       "28  This cluster contains generic or administrativ...       True   \n",
       "29  This cluster contains generic or administrativ...       True   \n",
       "\n",
       "                                        justification  confidence_score  \\\n",
       "0                                                 NaN               NaN   \n",
       "1   The content of these samples centers almost en...              0.98   \n",
       "2   The samples are focused on Siemens' extended e...              0.95   \n",
       "3   The recurring concepts across the samples—comp...              0.95   \n",
       "4   The topic cluster focuses on administrative pr...              0.98   \n",
       "5   The cluster is highly focused on human resourc...              0.95   \n",
       "6   The passages are highly specific to the govern...              0.98   \n",
       "7   The cluster provides an in-depth, data-driven ...              0.95   \n",
       "8   The text samples consistently revolve around S...              0.95   \n",
       "9   The text samples predominantly list corporate ...              1.00   \n",
       "10  The cluster is highly focused on workplace saf...              0.98   \n",
       "11  The cluster is highly focused around cybersecu...              0.98   \n",
       "12  The content is focused around Siemens' managem...              0.95   \n",
       "13  The samples and keywords primarily refer to fi...              1.00   \n",
       "14  The repeated references to 'exemption pursuant...              1.00   \n",
       "15  The cluster is focused on actionable themes wi...              0.98   \n",
       "16  The content is highly focused on Siemens' engi...              0.94   \n",
       "17  The cluster centers on key human resources met...              0.97   \n",
       "18  The passages focus specifically on water use e...              0.98   \n",
       "19  The content repeatedly references concrete exa...              0.98   \n",
       "20  The vast majority of text samples in this clus...              0.98   \n",
       "21  The topic is focused and meaningful, consisten...              0.95   \n",
       "22  The cluster consistently involves detailed dis...              0.98   \n",
       "23  The passages consistently refer to structured ...              0.93   \n",
       "24  The cluster is focused on the technical and me...              0.98   \n",
       "25  The text samples and keywords in this cluster ...              1.00   \n",
       "26  The keywords and text samples consist solely o...              1.00   \n",
       "27  The text samples are repeated administrative d...              1.00   \n",
       "28  The text samples almost exclusively describe d...              0.97   \n",
       "29  The samples are repetitive, primarily list Sie...              0.98   \n",
       "\n",
       "   sdg_number                                 sdg_name  \n",
       "0         NaN                                      NaN  \n",
       "1           8          Decent Work and Economic Growth  \n",
       "2          13                           Climate Action  \n",
       "3          16   Peace, Justice and Strong Institutions  \n",
       "4          16   Peace, Justice and Strong Institutions  \n",
       "5           4                        Quality Education  \n",
       "6           8          Decent Work and Economic Growth  \n",
       "7           8          Decent Work and Economic Growth  \n",
       "8           9  Industry, Innovation and Infrastructure  \n",
       "9           0                           Not applicable  \n",
       "10          8          Decent Work and Economic Growth  \n",
       "11          9  Industry, Innovation and Infrastructure  \n",
       "12          8          Decent Work and Economic Growth  \n",
       "13        N/A                           Not Applicable  \n",
       "14        N/A                           Not Applicable  \n",
       "15          3               Good Health and Well-being  \n",
       "16          7              Affordable and Clean Energy  \n",
       "17          8          Decent Work and Economic Growth  \n",
       "18          6               Clean Water and Sanitation  \n",
       "19         11       Sustainable Cities and Communities  \n",
       "20         16   Peace, Justice and Strong Institutions  \n",
       "21         12   Responsible Consumption and Production  \n",
       "22         12   Responsible Consumption and Production  \n",
       "23         12   Responsible Consumption and Production  \n",
       "24         13                           Climate Action  \n",
       "25          0                                     None  \n",
       "26          0                           Not Applicable  \n",
       "27          0                           Not applicable  \n",
       "28          0                          No relevant SDG  \n",
       "29          0                           Not applicable  "
      ]
     },
     "metadata": {},
     "output_type": "display_data"
    }
   ],
   "source": [
    "# Merge df_summary_results with df_topic_info on the Topic field\n",
    "# Assuming the column in df_topic_info that corresponds to Topic is also named \"Topic\"\n",
    "merged_df = df_topic_info.merge(df_summary_results, on=\"Topic\", how=\"left\")\n",
    "\n",
    "# Display the merged DataFrame\n",
    "display(merged_df)\n",
    "\n",
    "# Optional: Save to CSV if needed\n",
    "# merged_df.to_csv(\"merged_sustainability_topics.csv\", index=False)"
   ]
  },
  {
   "cell_type": "code",
   "execution_count": 34,
   "id": "eb1f1c48",
   "metadata": {},
   "outputs": [
    {
     "name": "stdout",
     "output_type": "stream",
     "text": [
      "Total topics: 30\n",
      "Meaningful topics: 18\n"
     ]
    },
    {
     "data": {
      "text/html": [
       "<div>\n",
       "<style scoped>\n",
       "    .dataframe tbody tr th:only-of-type {\n",
       "        vertical-align: middle;\n",
       "    }\n",
       "\n",
       "    .dataframe tbody tr th {\n",
       "        vertical-align: top;\n",
       "    }\n",
       "\n",
       "    .dataframe thead th {\n",
       "        text-align: right;\n",
       "    }\n",
       "</style>\n",
       "<table border=\"1\" class=\"dataframe\">\n",
       "  <thead>\n",
       "    <tr style=\"text-align: right;\">\n",
       "      <th></th>\n",
       "      <th>Topic</th>\n",
       "      <th>Count</th>\n",
       "      <th>Name</th>\n",
       "      <th>Representation</th>\n",
       "      <th>Representative_Docs</th>\n",
       "      <th>is_meaningful_topic</th>\n",
       "      <th>topic_label</th>\n",
       "      <th>summary</th>\n",
       "      <th>is_generic</th>\n",
       "      <th>justification</th>\n",
       "      <th>confidence_score</th>\n",
       "      <th>sdg_number</th>\n",
       "      <th>sdg_name</th>\n",
       "    </tr>\n",
       "  </thead>\n",
       "  <tbody>\n",
       "    <tr>\n",
       "      <th>2</th>\n",
       "      <td>1</td>\n",
       "      <td>936</td>\n",
       "      <td>1_sustainability_environmental_gri_emissions</td>\n",
       "      <td>[sustainability, environmental, gri, emissions...</td>\n",
       "      <td>[For consistency reasons, we generally apply g...</td>\n",
       "      <td>True</td>\n",
       "      <td>Environmental Portfolio and Emissions</td>\n",
       "      <td>This topic cluster centers on Siemens AG's Env...</td>\n",
       "      <td>False</td>\n",
       "      <td>The samples are focused on Siemens' extended e...</td>\n",
       "      <td>0.95</td>\n",
       "      <td>13</td>\n",
       "      <td>Climate Action</td>\n",
       "    </tr>\n",
       "    <tr>\n",
       "      <th>3</th>\n",
       "      <td>2</td>\n",
       "      <td>797</td>\n",
       "      <td>2_compliance_human_rights_risk</td>\n",
       "      <td>[compliance, human, rights, risk, business, ri...</td>\n",
       "      <td>[Global agreements \\nSiemens has been an activ...</td>\n",
       "      <td>True</td>\n",
       "      <td>Compliance and Human Rights in Supply Chain</td>\n",
       "      <td>This cluster focuses on Siemens’ commitment to...</td>\n",
       "      <td>False</td>\n",
       "      <td>The recurring concepts across the samples—comp...</td>\n",
       "      <td>0.95</td>\n",
       "      <td>16</td>\n",
       "      <td>Peace, Justice and Strong Institutions</td>\n",
       "    </tr>\n",
       "    <tr>\n",
       "      <th>5</th>\n",
       "      <td>4</td>\n",
       "      <td>408</td>\n",
       "      <td>4_people_diversity_learning_siemens</td>\n",
       "      <td>[people, diversity, learning, siemens, program...</td>\n",
       "      <td>[5.1 Working at Siemens5.2 \\nDiversity, Equity...</td>\n",
       "      <td>True</td>\n",
       "      <td>Diversity, Employee Development</td>\n",
       "      <td>This topic cluster is focused on Siemens' effo...</td>\n",
       "      <td>False</td>\n",
       "      <td>The cluster is highly focused on human resourc...</td>\n",
       "      <td>0.95</td>\n",
       "      <td>4</td>\n",
       "      <td>Quality Education</td>\n",
       "    </tr>\n",
       "    <tr>\n",
       "      <th>6</th>\n",
       "      <td>5</td>\n",
       "      <td>348</td>\n",
       "      <td>5_compensation_board_managing_benefit</td>\n",
       "      <td>[compensation, board, managing, benefit, pensi...</td>\n",
       "      <td>[10\\n  Prof. Dr. Russwurm left the Managing Bo...</td>\n",
       "      <td>True</td>\n",
       "      <td>Managing Board Compensation</td>\n",
       "      <td>This topic cluster discusses the structure, go...</td>\n",
       "      <td>False</td>\n",
       "      <td>The passages are highly specific to the govern...</td>\n",
       "      <td>0.98</td>\n",
       "      <td>8</td>\n",
       "      <td>Decent Work and Economic Growth</td>\n",
       "    </tr>\n",
       "    <tr>\n",
       "      <th>7</th>\n",
       "      <td>6</td>\n",
       "      <td>300</td>\n",
       "      <td>6_growth_markets_year_revenue</td>\n",
       "      <td>[growth, markets, year, revenue, orders, fisca...</td>\n",
       "      <td>[C.9.1.2  MARKET DEVEL OPMENT\\nIn fiscal 2015,...</td>\n",
       "      <td>True</td>\n",
       "      <td>Global Market Growth Trends</td>\n",
       "      <td>This cluster analyzes global and regional mark...</td>\n",
       "      <td>False</td>\n",
       "      <td>The cluster provides an in-depth, data-driven ...</td>\n",
       "      <td>0.95</td>\n",
       "      <td>8</td>\n",
       "      <td>Decent Work and Economic Growth</td>\n",
       "    </tr>\n",
       "    <tr>\n",
       "      <th>8</th>\n",
       "      <td>7</td>\n",
       "      <td>300</td>\n",
       "      <td>7_digital_solutions_customers_production</td>\n",
       "      <td>[digital, solutions, customers, production, bu...</td>\n",
       "      <td>[→Innovation and development cycles have \\nsho...</td>\n",
       "      <td>True</td>\n",
       "      <td>Digital Industrial Solutions</td>\n",
       "      <td>This cluster discusses Siemens' development an...</td>\n",
       "      <td>False</td>\n",
       "      <td>The text samples consistently revolve around S...</td>\n",
       "      <td>0.95</td>\n",
       "      <td>9</td>\n",
       "      <td>Industry, Innovation and Infrastructure</td>\n",
       "    </tr>\n",
       "    <tr>\n",
       "      <th>10</th>\n",
       "      <td>9</td>\n",
       "      <td>167</td>\n",
       "      <td>9_safety_health_work_occupational</td>\n",
       "      <td>[safety, health, work, occupational, employees...</td>\n",
       "      <td>[→ Managers and employees can take advantage o...</td>\n",
       "      <td>True</td>\n",
       "      <td>Occupational Health and Safety</td>\n",
       "      <td>This topic focuses on Siemens’ systematic effo...</td>\n",
       "      <td>False</td>\n",
       "      <td>The cluster is highly focused on workplace saf...</td>\n",
       "      <td>0.98</td>\n",
       "      <td>8</td>\n",
       "      <td>Decent Work and Economic Growth</td>\n",
       "    </tr>\n",
       "    <tr>\n",
       "      <th>11</th>\n",
       "      <td>10</td>\n",
       "      <td>156</td>\n",
       "      <td>10_cybersecurity_data_security_privacy</td>\n",
       "      <td>[cybersecurity, data, security, privacy, ai, p...</td>\n",
       "      <td>[Proactively dealing with threats, \\nincidents...</td>\n",
       "      <td>True</td>\n",
       "      <td>Cybersecurity and Data Privacy</td>\n",
       "      <td>This cluster focuses on Siemens AG’s efforts t...</td>\n",
       "      <td>False</td>\n",
       "      <td>The cluster is highly focused around cybersecu...</td>\n",
       "      <td>0.98</td>\n",
       "      <td>9</td>\n",
       "      <td>Industry, Innovation and Infrastructure</td>\n",
       "    </tr>\n",
       "    <tr>\n",
       "      <th>12</th>\n",
       "      <td>11</td>\n",
       "      <td>122</td>\n",
       "      <td>11_rate_currency_financial_foreign</td>\n",
       "      <td>[rate, currency, financial, foreign, fair, ins...</td>\n",
       "      <td>[The Company had interest rate swap contracts ...</td>\n",
       "      <td>True</td>\n",
       "      <td>Financial Risk Management</td>\n",
       "      <td>This cluster addresses Siemens' approach to ma...</td>\n",
       "      <td>False</td>\n",
       "      <td>The content is focused around Siemens' managem...</td>\n",
       "      <td>0.95</td>\n",
       "      <td>8</td>\n",
       "      <td>Decent Work and Economic Growth</td>\n",
       "    </tr>\n",
       "    <tr>\n",
       "      <th>15</th>\n",
       "      <td>14</td>\n",
       "      <td>109</td>\n",
       "      <td>14_healthcare_medical_care_imaging</td>\n",
       "      <td>[healthcare, medical, care, imaging, diagnosti...</td>\n",
       "      <td>[Under the new organizational structure report...</td>\n",
       "      <td>True</td>\n",
       "      <td>Healthcare Access &amp; Medical Technology</td>\n",
       "      <td>This topic cluster discusses Siemens' efforts ...</td>\n",
       "      <td>False</td>\n",
       "      <td>The cluster is focused on actionable themes wi...</td>\n",
       "      <td>0.98</td>\n",
       "      <td>3</td>\n",
       "      <td>Good Health and Well-being</td>\n",
       "    </tr>\n",
       "    <tr>\n",
       "      <th>16</th>\n",
       "      <td>15</td>\n",
       "      <td>107</td>\n",
       "      <td>15_power_gas_energy_division</td>\n",
       "      <td>[power, gas, energy, division, consumption, tu...</td>\n",
       "      <td>[A.1.1.2  BUSINES S DESCRIPTION\\nThe Power and...</td>\n",
       "      <td>True</td>\n",
       "      <td>Efficient Gas Power Generation</td>\n",
       "      <td>This cluster focuses on the modernization of c...</td>\n",
       "      <td>False</td>\n",
       "      <td>The content is highly focused on Siemens' engi...</td>\n",
       "      <td>0.94</td>\n",
       "      <td>7</td>\n",
       "      <td>Affordable and Clean Energy</td>\n",
       "    </tr>\n",
       "    <tr>\n",
       "      <th>17</th>\n",
       "      <td>16</td>\n",
       "      <td>95</td>\n",
       "      <td>16_employees_turnover_percentage_asia</td>\n",
       "      <td>[employees, turnover, percentage, asia, common...</td>\n",
       "      <td>[Siemens employee hires (in thousands) 1\\nFisc...</td>\n",
       "      <td>True</td>\n",
       "      <td>Employee Turnover and Diversity</td>\n",
       "      <td>This cluster focuses on Siemens AG's employee ...</td>\n",
       "      <td>False</td>\n",
       "      <td>The cluster centers on key human resources met...</td>\n",
       "      <td>0.97</td>\n",
       "      <td>8</td>\n",
       "      <td>Decent Work and Economic Growth</td>\n",
       "    </tr>\n",
       "    <tr>\n",
       "      <th>18</th>\n",
       "      <td>17</td>\n",
       "      <td>80</td>\n",
       "      <td>17_water_drinking_use_wastewater</td>\n",
       "      <td>[water, drinking, use, wastewater, risks, loca...</td>\n",
       "      <td>[OUR OWN ACTIVITIES \\nFor more information abo...</td>\n",
       "      <td>True</td>\n",
       "      <td>Corporate Water Stewardship</td>\n",
       "      <td>This topic cluster details Siemens AG's approa...</td>\n",
       "      <td>False</td>\n",
       "      <td>The passages focus specifically on water use e...</td>\n",
       "      <td>0.98</td>\n",
       "      <td>6</td>\n",
       "      <td>Clean Water and Sanitation</td>\n",
       "    </tr>\n",
       "    <tr>\n",
       "      <th>19</th>\n",
       "      <td>18</td>\n",
       "      <td>40</td>\n",
       "      <td>18_vienna_city_häupl_michael</td>\n",
       "      <td>[vienna, city, häupl, michael, transportation,...</td>\n",
       "      <td>[What initiatives would you like to launch in ...</td>\n",
       "      <td>True</td>\n",
       "      <td>Smart Urban Infrastructure in Vienna</td>\n",
       "      <td>This topic cluster centers on Vienna's approac...</td>\n",
       "      <td>False</td>\n",
       "      <td>The content repeatedly references concrete exa...</td>\n",
       "      <td>0.98</td>\n",
       "      <td>11</td>\n",
       "      <td>Sustainable Cities and Communities</td>\n",
       "    </tr>\n",
       "    <tr>\n",
       "      <th>21</th>\n",
       "      <td>20</td>\n",
       "      <td>34</td>\n",
       "      <td>20_ozone_waste_r11_tons</td>\n",
       "      <td>[ozone, waste, r11, tons, organic, metric, emi...</td>\n",
       "      <td>[Emissions of air pollutants\\nIn addition to t...</td>\n",
       "      <td>True</td>\n",
       "      <td>Atmospheric Pollutant Emissions</td>\n",
       "      <td>This cluster covers Siemens AG's management, r...</td>\n",
       "      <td>False</td>\n",
       "      <td>The topic is focused and meaningful, consisten...</td>\n",
       "      <td>0.95</td>\n",
       "      <td>12</td>\n",
       "      <td>Responsible Consumption and Production</td>\n",
       "    </tr>\n",
       "    <tr>\n",
       "      <th>22</th>\n",
       "      <td>21</td>\n",
       "      <td>30</td>\n",
       "      <td>21_waste_storage_final_hazardous</td>\n",
       "      <td>[waste, storage, final, hazardous, hanau, faci...</td>\n",
       "      <td>[Warranties mainly relate to products sold. Or...</td>\n",
       "      <td>True</td>\n",
       "      <td>Nuclear Waste Management</td>\n",
       "      <td>This cluster centers on Siemens' responsibilit...</td>\n",
       "      <td>False</td>\n",
       "      <td>The cluster consistently involves detailed dis...</td>\n",
       "      <td>0.98</td>\n",
       "      <td>12</td>\n",
       "      <td>Responsible Consumption and Production</td>\n",
       "    </tr>\n",
       "    <tr>\n",
       "      <th>23</th>\n",
       "      <td>22</td>\n",
       "      <td>27</td>\n",
       "      <td>22_customer_score_customers_key</td>\n",
       "      <td>[customer, score, customers, key, satisfaction...</td>\n",
       "      <td>[To meet these challenges, Siemens strives to ...</td>\n",
       "      <td>True</td>\n",
       "      <td>Customer Satisfaction and Key Account Management</td>\n",
       "      <td>This topic cluster centers on Siemens’ systema...</td>\n",
       "      <td>False</td>\n",
       "      <td>The passages consistently refer to structured ...</td>\n",
       "      <td>0.93</td>\n",
       "      <td>12</td>\n",
       "      <td>Responsible Consumption and Production</td>\n",
       "    </tr>\n",
       "    <tr>\n",
       "      <th>24</th>\n",
       "      <td>23</td>\n",
       "      <td>25</td>\n",
       "      <td>23_comparison_solution_reference_installed</td>\n",
       "      <td>[comparison, solution, reference, installed, r...</td>\n",
       "      <td>[Direct comparison with a reference technology...</td>\n",
       "      <td>True</td>\n",
       "      <td>Baseline Methods for Emissions Reduction</td>\n",
       "      <td>This topic cluster provides detailed methodolo...</td>\n",
       "      <td>False</td>\n",
       "      <td>The cluster is focused on the technical and me...</td>\n",
       "      <td>0.98</td>\n",
       "      <td>13</td>\n",
       "      <td>Climate Action</td>\n",
       "    </tr>\n",
       "  </tbody>\n",
       "</table>\n",
       "</div>"
      ],
      "text/plain": [
       "    Topic  Count                                          Name  \\\n",
       "2       1    936  1_sustainability_environmental_gri_emissions   \n",
       "3       2    797                2_compliance_human_rights_risk   \n",
       "5       4    408           4_people_diversity_learning_siemens   \n",
       "6       5    348         5_compensation_board_managing_benefit   \n",
       "7       6    300                 6_growth_markets_year_revenue   \n",
       "8       7    300      7_digital_solutions_customers_production   \n",
       "10      9    167             9_safety_health_work_occupational   \n",
       "11     10    156        10_cybersecurity_data_security_privacy   \n",
       "12     11    122            11_rate_currency_financial_foreign   \n",
       "15     14    109            14_healthcare_medical_care_imaging   \n",
       "16     15    107                  15_power_gas_energy_division   \n",
       "17     16     95         16_employees_turnover_percentage_asia   \n",
       "18     17     80              17_water_drinking_use_wastewater   \n",
       "19     18     40                  18_vienna_city_häupl_michael   \n",
       "21     20     34                       20_ozone_waste_r11_tons   \n",
       "22     21     30              21_waste_storage_final_hazardous   \n",
       "23     22     27               22_customer_score_customers_key   \n",
       "24     23     25    23_comparison_solution_reference_installed   \n",
       "\n",
       "                                       Representation  \\\n",
       "2   [sustainability, environmental, gri, emissions...   \n",
       "3   [compliance, human, rights, risk, business, ri...   \n",
       "5   [people, diversity, learning, siemens, program...   \n",
       "6   [compensation, board, managing, benefit, pensi...   \n",
       "7   [growth, markets, year, revenue, orders, fisca...   \n",
       "8   [digital, solutions, customers, production, bu...   \n",
       "10  [safety, health, work, occupational, employees...   \n",
       "11  [cybersecurity, data, security, privacy, ai, p...   \n",
       "12  [rate, currency, financial, foreign, fair, ins...   \n",
       "15  [healthcare, medical, care, imaging, diagnosti...   \n",
       "16  [power, gas, energy, division, consumption, tu...   \n",
       "17  [employees, turnover, percentage, asia, common...   \n",
       "18  [water, drinking, use, wastewater, risks, loca...   \n",
       "19  [vienna, city, häupl, michael, transportation,...   \n",
       "21  [ozone, waste, r11, tons, organic, metric, emi...   \n",
       "22  [waste, storage, final, hazardous, hanau, faci...   \n",
       "23  [customer, score, customers, key, satisfaction...   \n",
       "24  [comparison, solution, reference, installed, r...   \n",
       "\n",
       "                                  Representative_Docs is_meaningful_topic  \\\n",
       "2   [For consistency reasons, we generally apply g...                True   \n",
       "3   [Global agreements \\nSiemens has been an activ...                True   \n",
       "5   [5.1 Working at Siemens5.2 \\nDiversity, Equity...                True   \n",
       "6   [10\\n  Prof. Dr. Russwurm left the Managing Bo...                True   \n",
       "7   [C.9.1.2  MARKET DEVEL OPMENT\\nIn fiscal 2015,...                True   \n",
       "8   [→Innovation and development cycles have \\nsho...                True   \n",
       "10  [→ Managers and employees can take advantage o...                True   \n",
       "11  [Proactively dealing with threats, \\nincidents...                True   \n",
       "12  [The Company had interest rate swap contracts ...                True   \n",
       "15  [Under the new organizational structure report...                True   \n",
       "16  [A.1.1.2  BUSINES S DESCRIPTION\\nThe Power and...                True   \n",
       "17  [Siemens employee hires (in thousands) 1\\nFisc...                True   \n",
       "18  [OUR OWN ACTIVITIES \\nFor more information abo...                True   \n",
       "19  [What initiatives would you like to launch in ...                True   \n",
       "21  [Emissions of air pollutants\\nIn addition to t...                True   \n",
       "22  [Warranties mainly relate to products sold. Or...                True   \n",
       "23  [To meet these challenges, Siemens strives to ...                True   \n",
       "24  [Direct comparison with a reference technology...                True   \n",
       "\n",
       "                                         topic_label  \\\n",
       "2              Environmental Portfolio and Emissions   \n",
       "3        Compliance and Human Rights in Supply Chain   \n",
       "5                    Diversity, Employee Development   \n",
       "6                        Managing Board Compensation   \n",
       "7                        Global Market Growth Trends   \n",
       "8                       Digital Industrial Solutions   \n",
       "10                    Occupational Health and Safety   \n",
       "11                    Cybersecurity and Data Privacy   \n",
       "12                         Financial Risk Management   \n",
       "15            Healthcare Access & Medical Technology   \n",
       "16                    Efficient Gas Power Generation   \n",
       "17                   Employee Turnover and Diversity   \n",
       "18                       Corporate Water Stewardship   \n",
       "19              Smart Urban Infrastructure in Vienna   \n",
       "21                   Atmospheric Pollutant Emissions   \n",
       "22                          Nuclear Waste Management   \n",
       "23  Customer Satisfaction and Key Account Management   \n",
       "24          Baseline Methods for Emissions Reduction   \n",
       "\n",
       "                                              summary is_generic  \\\n",
       "2   This topic cluster centers on Siemens AG's Env...      False   \n",
       "3   This cluster focuses on Siemens’ commitment to...      False   \n",
       "5   This topic cluster is focused on Siemens' effo...      False   \n",
       "6   This topic cluster discusses the structure, go...      False   \n",
       "7   This cluster analyzes global and regional mark...      False   \n",
       "8   This cluster discusses Siemens' development an...      False   \n",
       "10  This topic focuses on Siemens’ systematic effo...      False   \n",
       "11  This cluster focuses on Siemens AG’s efforts t...      False   \n",
       "12  This cluster addresses Siemens' approach to ma...      False   \n",
       "15  This topic cluster discusses Siemens' efforts ...      False   \n",
       "16  This cluster focuses on the modernization of c...      False   \n",
       "17  This cluster focuses on Siemens AG's employee ...      False   \n",
       "18  This topic cluster details Siemens AG's approa...      False   \n",
       "19  This topic cluster centers on Vienna's approac...      False   \n",
       "21  This cluster covers Siemens AG's management, r...      False   \n",
       "22  This cluster centers on Siemens' responsibilit...      False   \n",
       "23  This topic cluster centers on Siemens’ systema...      False   \n",
       "24  This topic cluster provides detailed methodolo...      False   \n",
       "\n",
       "                                        justification  confidence_score  \\\n",
       "2   The samples are focused on Siemens' extended e...              0.95   \n",
       "3   The recurring concepts across the samples—comp...              0.95   \n",
       "5   The cluster is highly focused on human resourc...              0.95   \n",
       "6   The passages are highly specific to the govern...              0.98   \n",
       "7   The cluster provides an in-depth, data-driven ...              0.95   \n",
       "8   The text samples consistently revolve around S...              0.95   \n",
       "10  The cluster is highly focused on workplace saf...              0.98   \n",
       "11  The cluster is highly focused around cybersecu...              0.98   \n",
       "12  The content is focused around Siemens' managem...              0.95   \n",
       "15  The cluster is focused on actionable themes wi...              0.98   \n",
       "16  The content is highly focused on Siemens' engi...              0.94   \n",
       "17  The cluster centers on key human resources met...              0.97   \n",
       "18  The passages focus specifically on water use e...              0.98   \n",
       "19  The content repeatedly references concrete exa...              0.98   \n",
       "21  The topic is focused and meaningful, consisten...              0.95   \n",
       "22  The cluster consistently involves detailed dis...              0.98   \n",
       "23  The passages consistently refer to structured ...              0.93   \n",
       "24  The cluster is focused on the technical and me...              0.98   \n",
       "\n",
       "   sdg_number                                 sdg_name  \n",
       "2          13                           Climate Action  \n",
       "3          16   Peace, Justice and Strong Institutions  \n",
       "5           4                        Quality Education  \n",
       "6           8          Decent Work and Economic Growth  \n",
       "7           8          Decent Work and Economic Growth  \n",
       "8           9  Industry, Innovation and Infrastructure  \n",
       "10          8          Decent Work and Economic Growth  \n",
       "11          9  Industry, Innovation and Infrastructure  \n",
       "12          8          Decent Work and Economic Growth  \n",
       "15          3               Good Health and Well-being  \n",
       "16          7              Affordable and Clean Energy  \n",
       "17          8          Decent Work and Economic Growth  \n",
       "18          6               Clean Water and Sanitation  \n",
       "19         11       Sustainable Cities and Communities  \n",
       "21         12   Responsible Consumption and Production  \n",
       "22         12   Responsible Consumption and Production  \n",
       "23         12   Responsible Consumption and Production  \n",
       "24         13                           Climate Action  "
      ]
     },
     "metadata": {},
     "output_type": "display_data"
    },
    {
     "name": "stdout",
     "output_type": "stream",
     "text": [
      "Meaningful topic numbers:\n",
      "[1, 2, 4, 5, 6, 7, 9, 10, 11, 14, 15, 16, 17, 18, 20, 21, 22, 23]\n",
      "\n",
      "Number of meaningful topics: 18\n",
      "\n",
      "Meaningful topic numbers (sorted):\n",
      "[1, 2, 4, 5, 6, 7, 9, 10, 11, 14, 15, 16, 17, 18, 20, 21, 22, 23]\n"
     ]
    }
   ],
   "source": [
    "# Filter out non-meaningful topics from the merged DataFrame\n",
    "filtered_df = merged_df[merged_df['is_meaningful_topic'] == True]\n",
    "\n",
    "# Display the count of meaningful topics vs all topics\n",
    "print(f\"Total topics: {len(merged_df)}\")\n",
    "print(f\"Meaningful topics: {len(filtered_df)}\")\n",
    "\n",
    "# Display the filtered DataFrame\n",
    "display(filtered_df)\n",
    "\n",
    "# Optional: Save to CSV if needed\n",
    "# filtered_df.to_csv(\"meaningful_sustainability_topics.csv\", index=False)\n",
    "\n",
    "# Print the topic numbers of meaningful topics\n",
    "meaningful_topics = filtered_df['Topic'].tolist()\n",
    "print(\"Meaningful topic numbers:\")\n",
    "print(meaningful_topics)\n",
    "\n",
    "# Count of meaningful topics\n",
    "print(f\"\\nNumber of meaningful topics: {len(meaningful_topics)}\")\n",
    "\n",
    "# Alternatively, display in a more readable format if there are many topics\n",
    "print(\"\\nMeaningful topic numbers (sorted):\")\n",
    "print(sorted(meaningful_topics))\n"
   ]
  },
  {
   "cell_type": "code",
   "execution_count": 41,
   "id": "3e02b8a6",
   "metadata": {},
   "outputs": [
    {
     "name": "stdout",
     "output_type": "stream",
     "text": [
      "['-1_siemens_fiscal_financial_year', '0_financial_cash_million_income', 'Environmental Portfolio and Emissions', 'Compliance and Human Rights in Supply Chain', 'SDG 16: Peace, Justice and Strong Institutions', 'Diversity, Employee Development', 'Managing Board Compensation', 'Global Market Growth Trends', 'Digital Industrial Solutions', 'SDG 16: Peace, justice and strong institutions', 'Occupational Health and Safety', 'Cybersecurity and Data Privacy', 'Financial Risk Management', 'SDG 16: Peace, Justice and Strong Institutions', '13_emption_264_immateriality_pursuant', 'Healthcare Access & Medical Technology', 'Efficient Gas Power Generation', 'Employee Turnover and Diversity', 'Corporate Water Stewardship', 'Smart Urban Infrastructure in Vienna', 'SDG 16: Peace, Justice and Strong Institutions', 'Atmospheric Pollutant Emissions', 'Nuclear Waste Management', 'Customer Satisfaction and Key Account Management', 'Baseline Methods for Emissions Reduction', '24_iur_rer__', '25_315_par_para_', '26_precisely_percentages_totals_add', 'SDG FSDG 12: Responsible Consumption and Production', 'SDG 8: Decent Work and Economic Growth']\n"
     ]
    }
   ],
   "source": [
    "#Option 1: Using topic_label as custom labels\n",
    "\n",
    "# Create a dictionary mapping from Topic ID to topic_label\n",
    "topic_label_mapping = {}\n",
    "\n",
    "# Loop through the filtered dataframe (or use merged_df if you want all topics)\n",
    "for index, row in filtered_df.iterrows():\n",
    "    topic_id = row['Topic']\n",
    "    if pd.notna(row['topic_label']):  # Ensure the topic_label is not NaN\n",
    "        topic_label_mapping[topic_id] = row['topic_label']\n",
    "\n",
    "# Set the custom labels in the topic model\n",
    "topic_model.set_topic_labels(topic_label_mapping)\n",
    "\n",
    "# View the custom labels\n",
    "print(topic_model.custom_labels_)"
   ]
  },
  {
   "cell_type": "code",
   "execution_count": 39,
   "id": "f41ae171",
   "metadata": {},
   "outputs": [
    {
     "name": "stdout",
     "output_type": "stream",
     "text": [
      "['-1_siemens_fiscal_financial_year', '0_financial_cash_million_income', 'SDG 13: Climate Action', 'SDG 16: Peace, Justice and Strong Institutions', 'SDG 16: Peace, Justice and Strong Institutions', 'SDG 4: Quality Education', 'SDG 8: Decent Work and Economic Growth', 'SDG 8: Decent Work and Economic Growth', 'SDG 9: Industry, Innovation and Infrastructure', 'SDG 16: Peace, justice and strong institutions', 'SDG 8: Decent Work and Economic Growth', 'SDG 9: Industry, Innovation and Infrastructure', 'SDG 8: Decent Work and Economic Growth', 'SDG 16: Peace, Justice and Strong Institutions', '13_emption_264_immateriality_pursuant', 'SDG 3: Good Health and Well-being', 'SDG 7: Affordable and Clean Energy', 'SDG 8: Decent Work and Economic Growth', 'SDG 6: Clean Water and Sanitation', 'SDG 11: Sustainable Cities and Communities', 'SDG 16: Peace, Justice and Strong Institutions', 'SDG 12: Responsible Consumption and Production', 'SDG 12: Responsible Consumption and Production', 'SDG 12: Responsible Consumption and Production', 'SDG 13: Climate Action', '24_iur_rer__', '25_315_par_para_', '26_precisely_percentages_totals_add', 'SDG FSDG 12: Responsible Consumption and Production', 'SDG 8: Decent Work and Economic Growth']\n"
     ]
    }
   ],
   "source": [
    "#Option 2: Using SDG number and name concatenated\n",
    "\n",
    "# Create a dictionary mapping from Topic ID to SDG info (number + name)\n",
    "sdg_label_mapping = {}\n",
    "\n",
    "# Loop through the filtered dataframe (or use merged_df if you want all topics)\n",
    "for index, row in filtered_df.iterrows():\n",
    "    topic_id = row['Topic']\n",
    "    sdg_number = row['sdg_number']\n",
    "    sdg_name = row['sdg_name']\n",
    "    \n",
    "    # Only create a label if both SDG number and name are available\n",
    "    if pd.notna(sdg_number) and pd.notna(sdg_name) and sdg_number != \"\" and sdg_name != \"\":\n",
    "        sdg_label = f\"SDG {sdg_number}: {sdg_name}\"\n",
    "        sdg_label_mapping[topic_id] = sdg_label\n",
    "    else:\n",
    "        # Optional: use topic_label as fallback if no SDG info is available\n",
    "        if pd.notna(row['topic_label']):\n",
    "            sdg_label_mapping[topic_id] = row['topic_label']\n",
    "\n",
    "# Set the custom labels in the topic model\n",
    "topic_model.set_topic_labels(sdg_label_mapping)\n",
    "\n",
    "# View the custom labels\n",
    "print(topic_model.custom_labels_)"
   ]
  },
  {
   "cell_type": "code",
   "execution_count": 42,
   "id": "efb67fc8",
   "metadata": {},
   "outputs": [
    {
     "data": {
      "application/vnd.plotly.v1+json": {
       "config": {
        "plotlyServerURL": "https://plot.ly"
       },
       "data": [
        {
         "hoverinfo": "text",
         "hovertext": [
          "<b>Topic 1</b><br>Words: environmental, sustainability, portfolio, emissions, siemens",
          "<b>Topic 1</b><br>Words: environmental, sustainability, portfolio, siemens, report",
          "<b>Topic 1</b><br>Words: environmental, portfolio, sustainability, emissions, carbon",
          "<b>Topic 1</b><br>Words: environmental, portfolio, sustainability, emissions, carbon",
          "<b>Topic 1</b><br>Words: environmental, portfolio, emissions, sustainability, gri",
          "<b>Topic 1</b><br>Words: environmental, portfolio, sustainability, emissions, carbon",
          "<b>Topic 1</b><br>Words: environmental, portfolio, emissions, sustainability, carbon",
          "<b>Topic 1</b><br>Words: sustainability, environmental, siemens, emissions, 2020",
          "<b>Topic 1</b><br>Words: sustainability, gri, wef, environmental, emissions",
          "<b>Topic 1</b><br>Words: gri, sustainability, wef, emissions, 2022",
          "<b>Topic 1</b><br>Words: gri, sustainability, wef, emissions, 30th",
          "<b>Topic 1</b><br>Words: sustainability, gri, emissions, wef, 2024"
         ],
         "marker": {
          "color": "#E69F00"
         },
         "mode": "lines",
         "name": "Environmental Portfolio and Emissions",
         "type": "scatter",
         "x": {
          "bdata": "3QfeB98H4AfhB+IH4wfkB+UH5gfnB+gH",
          "dtype": "i2"
         },
         "y": {
          "bdata": "QgAjACYAKwAsACsAIwBAAGEAdwCrALUA",
          "dtype": "i2"
         }
        },
        {
         "hoverinfo": "text",
         "hovertext": [
          "<b>Topic 2</b><br>Words: compliance, risks, risk, business, conduct",
          "<b>Topic 2</b><br>Words: compliance, business, risks, risk, suppliers",
          "<b>Topic 2</b><br>Words: compliance, business, risks, risk, suppliers",
          "<b>Topic 2</b><br>Words: compliance, risk, risks, business, suppliers",
          "<b>Topic 2</b><br>Words: compliance, human, rights, risk, business",
          "<b>Topic 2</b><br>Words: compliance, human, rights, business, risk",
          "<b>Topic 2</b><br>Words: compliance, human, rights, business, risk",
          "<b>Topic 2</b><br>Words: compliance, human, rights, business, risk",
          "<b>Topic 2</b><br>Words: compliance, human, rights, risk, business",
          "<b>Topic 2</b><br>Words: compliance, human, rights, risk, business",
          "<b>Topic 2</b><br>Words: compliance, human, rights, risk, business",
          "<b>Topic 2</b><br>Words: human, compliance, rights, risk, suppliers"
         ],
         "marker": {
          "color": "#56B4E9"
         },
         "mode": "lines",
         "name": "Compliance and Human Rights in Supply Chain",
         "type": "scatter",
         "x": {
          "bdata": "3QfeB98H4AfhB+IH4wfkB+UH5gfnB+gH",
          "dtype": "i2"
         },
         "y": {
          "bdata": "Rzg8QT5OMTBFT1RM",
          "dtype": "i1"
         }
        },
        {
         "hoverinfo": "text",
         "hovertext": [
          "<b>Topic 4</b><br>Words: diversity, programs, employees, learning, people",
          "<b>Topic 4</b><br>Words: culture, people, diversity, company, siemens",
          "<b>Topic 4</b><br>Words: people, diversity, employees, learning, programs",
          "<b>Topic 4</b><br>Words: diversity, people, employees, siemens, citizenship",
          "<b>Topic 4</b><br>Words: people, diversity, employees, education, siemens",
          "<b>Topic 4</b><br>Words: people, diversity, employees, siemens, learning",
          "<b>Topic 4</b><br>Words: people, diversity, learning, women, siemens",
          "<b>Topic 4</b><br>Words: diversity, people, employees, learning, siemens",
          "<b>Topic 4</b><br>Words: people, diversity, learning, siemens, women",
          "<b>Topic 4</b><br>Words: people, learning, diversity, siemens, women",
          "<b>Topic 4</b><br>Words: people, learning, diversity, siemens, programs",
          "<b>Topic 4</b><br>Words: people, learning, diversity, siemens, programs"
         ],
         "marker": {
          "color": "#009E73"
         },
         "mode": "lines",
         "name": "Diversity, Employee Development",
         "type": "scatter",
         "x": {
          "bdata": "3QfeB98H4AfhB+IH4wfkB+UH5gfnB+gH",
          "dtype": "i2"
         },
         "y": {
          "bdata": "JCIPChccDSM0LDs7",
          "dtype": "i1"
         }
        },
        {
         "hoverinfo": "text",
         "hovertext": [
          "<b>Topic 5</b><br>Words: compensation, benefit, board, managing, benefits",
          "<b>Topic 5</b><br>Words: compensation, board, managing, 000, benefit",
          "<b>Topic 5</b><br>Words: compensation, board, 2015, managing, benefits",
          "<b>Topic 5</b><br>Words: compensation, board, 2015, managing, 2016",
          "<b>Topic 5</b><br>Words: compensation, board, 2016, managing, 2017",
          "<b>Topic 5</b><br>Words: compensation, board, managing, pension, benefit",
          "<b>Topic 5</b><br>Words: compensation, board, managing, benefits, pension",
          "<b>Topic 5</b><br>Words: plans, defined, pension, benefit, contribution",
          "<b>Topic 5</b><br>Words: plans, defined, benefit, contributions, contribution"
         ],
         "marker": {
          "color": "#F0E442"
         },
         "mode": "lines",
         "name": "Managing Board Compensation",
         "type": "scatter",
         "x": {
          "bdata": "3QfeB98H4AfhB+IH4wfkB+UH",
          "dtype": "i2"
         },
         "y": {
          "bdata": "SzclJC4oOQEB",
          "dtype": "i1"
         }
        },
        {
         "hoverinfo": "text",
         "hovertext": [
          "<b>Topic 6</b><br>Words: growth, markets, fiscal, year, 2013",
          "<b>Topic 6</b><br>Words: growth, markets, year, market, 2014",
          "<b>Topic 6</b><br>Words: growth, markets, division, revenue, year",
          "<b>Topic 6</b><br>Words: growth, orders, division, markets, market",
          "<b>Topic 6</b><br>Words: growth, markets, revenue, market, year",
          "<b>Topic 6</b><br>Words: growth, orders, revenue, year, fiscal",
          "<b>Topic 6</b><br>Words: growth, revenue, orders, year, fiscal",
          "<b>Topic 6</b><br>Words: 2020, patents, fiscal, held, approximately",
          "<b>Topic 6</b><br>Words: billion, expenditure, patents, compared, 2021",
          "<b>Topic 6</b><br>Words: expenses, billion, 2023, capitalized, rated",
          "<b>Topic 6</b><br>Words: commonwealth, independent, states, growth, markets"
         ],
         "marker": {
          "color": "#D55E00"
         },
         "mode": "lines",
         "name": "Global Market Growth Trends",
         "type": "scatter",
         "x": {
          "bdata": "3QfeB98H4AfhB+IH4wfkB+UH5wfoBw==",
          "dtype": "i2"
         },
         "y": {
          "bdata": "OywhJikjKwMCAQE=",
          "dtype": "i1"
         }
        },
        {
         "hoverinfo": "text",
         "hovertext": [
          "<b>Topic 7</b><br>Words: production, solutions, industry, industrial, manufacturing",
          "<b>Topic 7</b><br>Words: software, solutions, production, customers, business",
          "<b>Topic 7</b><br>Words: solutions, division, products, digital, investments",
          "<b>Topic 7</b><br>Words: solutions, digital, services, systems, process",
          "<b>Topic 7</b><br>Words: digital, solutions, customers, production, mindsphere",
          "<b>Topic 7</b><br>Words: digital, solutions, customers, new, products",
          "<b>Topic 7</b><br>Words: digital, industries, investments, solutions, new",
          "<b>Topic 7</b><br>Words: customers, new, digitalization, digital, technology",
          "<b>Topic 7</b><br>Words: customers, digital, technology, business, sustainable",
          "<b>Topic 7</b><br>Words: digital, customers, sustainable, solutions, technology",
          "<b>Topic 7</b><br>Words: digital, customers, sustainable, siemens, solutions",
          "<b>Topic 7</b><br>Words: digital, customers, technology, sustainable, siemens"
         ],
         "marker": {
          "color": "#0072B2"
         },
         "mode": "lines",
         "name": "Digital Industrial Solutions",
         "type": "scatter",
         "x": {
          "bdata": "3QfeB98H4AfhB+IH4wfkB+UH5gfnB+gH",
          "dtype": "i2"
         },
         "y": {
          "bdata": "QS8NER0YDxMMEBYV",
          "dtype": "i1"
         }
        },
        {
         "hoverinfo": "text",
         "hovertext": [
          "<b>Topic 9</b><br>Words: safety, health, occupational, work, employees",
          "<b>Topic 9</b><br>Words: safety, health, occupational, work, employees",
          "<b>Topic 9</b><br>Words: safety, health, occupational, contractors, work",
          "<b>Topic 9</b><br>Words: safety, fatalities, work, health, contractors",
          "<b>Topic 9</b><br>Words: safety, health, contractors, work, employees",
          "<b>Topic 9</b><br>Words: safety, health, work, occupational, contractors",
          "<b>Topic 9</b><br>Words: safety, health, work, occupational, employees",
          "<b>Topic 9</b><br>Words: health, safety, occupational, employees, work",
          "<b>Topic 9</b><br>Words: safety, health, work, healthy, occupational",
          "<b>Topic 9</b><br>Words: health, safety, work, occupational, healthy",
          "<b>Topic 9</b><br>Words: safety, health, work, occupational, healthy",
          "<b>Topic 9</b><br>Words: safety, health, work, occupational, employees"
         ],
         "marker": {
          "color": "#CC79A7"
         },
         "mode": "lines",
         "name": "Occupational Health and Safety",
         "type": "scatter",
         "x": {
          "bdata": "3QfeB98H4AfhB+IH4wfkB+UH5gfnB+gH",
          "dtype": "i2"
         },
         "y": {
          "bdata": "DgsKBwYMCxIUExIV",
          "dtype": "i1"
         }
        },
        {
         "hoverinfo": "text",
         "hovertext": [
          "<b>Topic 10</b><br>Words: data, privacy, compliance, security, cybersecurity",
          "<b>Topic 10</b><br>Words: data, security, cybersecurity, compliance, protection",
          "<b>Topic 10</b><br>Words: security, systems, data, espionage, crime",
          "<b>Topic 10</b><br>Words: security, cyber, data, cybersecurity, systems",
          "<b>Topic 10</b><br>Words: security, data, threats, cyber, attacks",
          "<b>Topic 10</b><br>Words: security, cyber, data, threats, cybersecurity",
          "<b>Topic 10</b><br>Words: cybersecurity, data, security, protection, privacy",
          "<b>Topic 10</b><br>Words: cybersecurity, data, security, privacy, protection",
          "<b>Topic 10</b><br>Words: cybersecurity, data, security, privacy, protection",
          "<b>Topic 10</b><br>Words: data, cybersecurity, privacy, security, protection",
          "<b>Topic 10</b><br>Words: cybersecurity, data, ai, privacy, security"
         ],
         "marker": {
          "color": "#E69F00"
         },
         "mode": "lines",
         "name": "Cybersecurity and Data Privacy",
         "type": "scatter",
         "x": {
          "bdata": "3QfeB98H4QfiB+MH5AflB+YH5wfoBw==",
          "dtype": "i2"
         },
         "y": {
          "bdata": "AwMBAwIBEg4fIi4=",
          "dtype": "i1"
         }
        },
        {
         "hoverinfo": "text",
         "hovertext": [
          "<b>Topic 11</b><br>Words: rate, currency, foreign, financial, fair",
          "<b>Topic 11</b><br>Words: currency, rate, foreign, financial, fair",
          "<b>Topic 11</b><br>Words: rate, currency, financial, fair, foreign",
          "<b>Topic 11</b><br>Words: rate, currency, financial, fair, foreign",
          "<b>Topic 11</b><br>Words: rate, currency, financial, fair, foreign",
          "<b>Topic 11</b><br>Words: rate, currency, foreign, financial, fair",
          "<b>Topic 11</b><br>Words: rate, currency, financial, foreign, fair"
         ],
         "marker": {
          "color": "#56B4E9"
         },
         "mode": "lines",
         "name": "Financial Risk Management",
         "type": "scatter",
         "x": {
          "bdata": "3QfeB98H4AfhB+IH4wc=",
          "dtype": "i2"
         },
         "y": {
          "bdata": "GhYPDg8NEQ==",
          "dtype": "i1"
         }
        },
        {
         "hoverinfo": "text",
         "hovertext": [
          "<b>Topic 14</b><br>Words: healthcare, medical, medanta, patients, trehan",
          "<b>Topic 14</b><br>Words: healthcare, medical, hospital, rush, diagnostics",
          "<b>Topic 14</b><br>Words: healthcare, imaging, growth, medical, clinical",
          "<b>Topic 14</b><br>Words: healthcare, growth, diagnostics, imaging, medical",
          "<b>Topic 14</b><br>Words: healthcare, healthineers, diagnostics, services, medical",
          "<b>Topic 14</b><br>Words: healthcare, healthineers, markets, providers, medical",
          "<b>Topic 14</b><br>Words: healthcare, healthineers, care, markets, systems",
          "<b>Topic 14</b><br>Words: clinic, medical, clinics, baiji, local",
          "<b>Topic 14</b><br>Words: healthcare, medical, customers, technology, digital",
          "<b>Topic 14</b><br>Words: care, healthineers, medical, healthcare, cancer",
          "<b>Topic 14</b><br>Words: healthcare, healthineers, medical, care, technology"
         ],
         "marker": {
          "color": "#009E73"
         },
         "mode": "lines",
         "name": "Healthcare Access & Medical Technology",
         "type": "scatter",
         "x": {
          "bdata": "3QfeB98H4AfhB+IH4wfkB+YH5wfoBw==",
          "dtype": "i2"
         },
         "y": {
          "bdata": "KxcGBQYFBQIFBQQ=",
          "dtype": "i1"
         }
        },
        {
         "hoverinfo": "text",
         "hovertext": [
          "<b>Topic 15</b><br>Words: power, gas, energy, kirishi, plant",
          "<b>Topic 15</b><br>Words: power, energy, gas, division, turbines",
          "<b>Topic 15</b><br>Words: power, energy, gas, division, consumption",
          "<b>Topic 15</b><br>Words: power, division, energy, gas, solutions",
          "<b>Topic 15</b><br>Words: power, gas, energy, division, generation",
          "<b>Topic 15</b><br>Words: power, gas, division, energy, generation",
          "<b>Topic 15</b><br>Words: power, gas, oil, energy, generation",
          "<b>Topic 15</b><br>Words: consumption, energy, fiscal, gas, 20204",
          "<b>Topic 15</b><br>Words: consumption, gigajoules, energy, decreased, consumed",
          "<b>Topic 15</b><br>Words: fy, energy, 2022, consumption, 2021",
          "<b>Topic 15</b><br>Words: 130a, 302, sasb, rt, ee",
          "<b>Topic 15</b><br>Words: energy, consumption, fy, 2024, gigajoules"
         ],
         "marker": {
          "color": "#F0E442"
         },
         "mode": "lines",
         "name": "Efficient Gas Power Generation",
         "type": "scatter",
         "x": {
          "bdata": "3QfeB98H4AfhB+IH4wfkB+UH5gfnB+gH",
          "dtype": "i2"
         },
         "y": {
          "bdata": "KhcKBgcHAgICAwIB",
          "dtype": "i1"
         }
        },
        {
         "hoverinfo": "text",
         "hovertext": [
          "<b>Topic 16</b><br>Words: employees, turnover, exits, involuntary, percentage",
          "<b>Topic 16</b><br>Words: employees, turnover, percentage, thousands, page",
          "<b>Topic 16</b><br>Words: 41, employees, 27, africa, asia",
          "<b>Topic 16</b><br>Words: percentage, employees, 26, commonwealth, africa",
          "<b>Topic 16</b><br>Words: 26, commonwealth, percentage, africa, asia",
          "<b>Topic 16</b><br>Words: employees, percentage, asia, australia, 26",
          "<b>Topic 16</b><br>Words: employees, percentage, asia, australia, commonwealth",
          "<b>Topic 16</b><br>Words: employees, commonwealth, asia, africa, australia",
          "<b>Topic 16</b><br>Words: employees, commonwealth, asia, percentage, exits",
          "<b>Topic 16</b><br>Words: commonwealth, independent, age, employees, percentage",
          "<b>Topic 16</b><br>Words: turnover, employees, involuntary, employee, voluntary",
          "<b>Topic 16</b><br>Words: turnover, employees, involuntary, employee, voluntary"
         ],
         "marker": {
          "color": "#D55E00"
         },
         "mode": "lines",
         "name": "Employee Turnover and Diversity",
         "type": "scatter",
         "x": {
          "bdata": "3QfeB98H4AfhB+IH4wfkB+UH5gfnB+gH",
          "dtype": "i2"
         },
         "y": {
          "bdata": "DwoFBwUJCgUGBQkJ",
          "dtype": "i1"
         }
        },
        {
         "hoverinfo": "text",
         "hovertext": [
          "<b>Topic 17</b><br>Words: water, www, wastewater, website, mandate",
          "<b>Topic 17</b><br>Words: water, wastewater, mandate, www, forward",
          "<b>Topic 17</b><br>Words: water, hubs, safe, drinking, wastewater",
          "<b>Topic 17</b><br>Words: water, use, drinking, safe, cubic",
          "<b>Topic 17</b><br>Words: water, safe, use, drinking, wastewater",
          "<b>Topic 17</b><br>Words: water, drinking, use, safe, stress",
          "<b>Topic 17</b><br>Words: water, wastewater, cooling, drinking, stiftung",
          "<b>Topic 17</b><br>Words: water, supply, drinking, risks, consumption",
          "<b>Topic 17</b><br>Words: water, 2021, locations, kiosk, mandate",
          "<b>Topic 17</b><br>Words: water, locations, drinking, use, 2022",
          "<b>Topic 17</b><br>Words: water, drinking, sites, use, local",
          "<b>Topic 17</b><br>Words: water, drinking, local, sites, 2024"
         ],
         "marker": {
          "color": "#0072B2"
         },
         "mode": "lines",
         "name": "Corporate Water Stewardship",
         "type": "scatter",
         "x": {
          "bdata": "3QfeB98H4AfhB+IH4wfkB+UH5gfnB+gH",
          "dtype": "i2"
         },
         "y": {
          "bdata": "BgYEBwQFBQQHCQsM",
          "dtype": "i1"
         }
        },
        {
         "hoverinfo": "text",
         "hovertext": [
          "<b>Topic 18</b><br>Words: vienna, city, häupl, michael, transportation"
         ],
         "marker": {
          "color": "#CC79A7"
         },
         "mode": "lines",
         "name": "Smart Urban Infrastructure in Vienna",
         "type": "scatter",
         "x": {
          "bdata": "3Qc=",
          "dtype": "i2"
         },
         "y": {
          "bdata": "KA==",
          "dtype": "i1"
         }
        },
        {
         "hoverinfo": "text",
         "hovertext": [
          "<b>Topic 20</b><br>Words: ozone, organic, r11, depleting, metric",
          "<b>Topic 20</b><br>Words: ozone, emissions, organic, compounds, r11",
          "<b>Topic 20</b><br>Words: ozone, compounds, organic, surface, r11",
          "<b>Topic 20</b><br>Words: waste, ozone, hazardous, r11, organic",
          "<b>Topic 20</b><br>Words: waste, ozone, r11, hazardous, compounds",
          "<b>Topic 20</b><br>Words: waste, ozone, r11, compounds, organic",
          "<b>Topic 20</b><br>Words: r11, nitrogen, oxides, ods, figure",
          "<b>Topic 20</b><br>Words: ozone, r11, tons, emissions, metric",
          "<b>Topic 20</b><br>Words: ozone, r11, substances, compounds, emissions",
          "<b>Topic 20</b><br>Words: nitrogen, oxides, ozone, combustion, metric",
          "<b>Topic 20</b><br>Words: fy, ozone, metric, tons, 2023",
          "<b>Topic 20</b><br>Words: ozone, ods, metric, tons, r11"
         ],
         "marker": {
          "color": "#E69F00"
         },
         "mode": "lines",
         "name": "Atmospheric Pollutant Emissions",
         "type": "scatter",
         "x": {
          "bdata": "3QfeB98H4AfhB+IH4wfkB+UH5gfnB+gH",
          "dtype": "i2"
         },
         "y": {
          "bdata": "AwMCAwIDAgQDAgIF",
          "dtype": "i1"
         }
        },
        {
         "hoverinfo": "text",
         "hovertext": [
          "<b>Topic 21</b><br>Words: waste, storage, final, hanau, radioactive",
          "<b>Topic 21</b><br>Words: waste, storage, final, radioactive, hazardous",
          "<b>Topic 21</b><br>Words: waste, storage, final, hanau, facility",
          "<b>Topic 21</b><br>Words: waste, final, storage, hanau, facility",
          "<b>Topic 21</b><br>Words: waste, storage, final, hanau, facility",
          "<b>Topic 21</b><br>Words: waste, storage, final, hanau, facility",
          "<b>Topic 21</b><br>Words: waste, final, storage, facility, hanau",
          "<b>Topic 21</b><br>Words: waste, hazardous, construction, non, type",
          "<b>Topic 21</b><br>Words: waste, hazardous, shs, distinguish, demolition",
          "<b>Topic 21</b><br>Words: waste, hazardous, landfill, construction, demolition",
          "<b>Topic 21</b><br>Words: waste, hazardous, construction, volume, thermal",
          "<b>Topic 21</b><br>Words: waste, hazardous, construction, demolition, recycling"
         ],
         "marker": {
          "color": "#56B4E9"
         },
         "mode": "lines",
         "name": "Nuclear Waste Management",
         "type": "scatter",
         "x": {
          "bdata": "3QfeB98H4AfhB+IH4wfkB+UH5gfnB+gH",
          "dtype": "i2"
         },
         "y": {
          "bdata": "AwMDAQIEBQICAgEC",
          "dtype": "i1"
         }
        },
        {
         "hoverinfo": "text",
         "hovertext": [
          "<b>Topic 22</b><br>Words: score, choice, customer, survey, satisfac",
          "<b>Topic 22</b><br>Words: satisfaction, customer, score, customers, colleague",
          "<b>Topic 22</b><br>Words: customer, score, sales, key, customers",
          "<b>Topic 22</b><br>Words: score, customer, customers, key, sales",
          "<b>Topic 22</b><br>Words: customer, score, customers, key, approach",
          "<b>Topic 22</b><br>Words: key, customer, vertical, score, customers",
          "<b>Topic 22</b><br>Words: customer, score, customers, challenges, satisfaction",
          "<b>Topic 22</b><br>Words: customers, customer, score, key, approach",
          "<b>Topic 22</b><br>Words: score, customer, key, customers, satisfaction"
         ],
         "marker": {
          "color": "#009E73"
         },
         "mode": "lines",
         "name": "Customer Satisfaction and Key Account Management",
         "type": "scatter",
         "x": {
          "bdata": "3gfgB+EH4gfkB+UH5gfnB+gH",
          "dtype": "i2"
         },
         "y": {
          "bdata": "AgECAgQFAgUE",
          "dtype": "i1"
         }
        },
        {
         "hoverinfo": "text",
         "hovertext": [
          "<b>Topic 23</b><br>Words: comparison, solution, reference, installed, direct",
          "<b>Topic 23</b><br>Words: comparison, solution, installed, reference, direct",
          "<b>Topic 23</b><br>Words: comparison, solution, installed, reference, refers",
          "<b>Topic 23</b><br>Words: comparison, solution, installed, reference, direct",
          "<b>Topic 23</b><br>Words: comparison, emission, dioxide, solution, installed",
          "<b>Topic 23</b><br>Words: comparison, emission, installed, dioxide, reference",
          "<b>Topic 23</b><br>Words: comparison, refers, solution, offering, situation",
          "<b>Topic 23</b><br>Words: comparison, refers, solution, offering, situation",
          "<b>Topic 23</b><br>Words: comparison, counterfactual, refers, solution, offering"
         ],
         "marker": {
          "color": "#F0E442"
         },
         "mode": "lines",
         "name": "Baseline Methods for Emissions Reduction",
         "type": "scatter",
         "x": {
          "bdata": "3wfgB+EH4gfjB+UH5gfnB+gH",
          "dtype": "i2"
         },
         "y": {
          "bdata": "AgMDAwEBBAQE",
          "dtype": "i1"
         }
        }
       ],
       "layout": {
        "height": 450,
        "hoverlabel": {
         "bgcolor": "white",
         "font": {
          "family": "Rockwell",
          "size": 16
         }
        },
        "legend": {
         "title": {
          "text": "<b>Global Topic Representation"
         }
        },
        "template": {
         "data": {
          "bar": [
           {
            "error_x": {
             "color": "rgb(36,36,36)"
            },
            "error_y": {
             "color": "rgb(36,36,36)"
            },
            "marker": {
             "line": {
              "color": "white",
              "width": 0.5
             },
             "pattern": {
              "fillmode": "overlay",
              "size": 10,
              "solidity": 0.2
             }
            },
            "type": "bar"
           }
          ],
          "barpolar": [
           {
            "marker": {
             "line": {
              "color": "white",
              "width": 0.5
             },
             "pattern": {
              "fillmode": "overlay",
              "size": 10,
              "solidity": 0.2
             }
            },
            "type": "barpolar"
           }
          ],
          "carpet": [
           {
            "aaxis": {
             "endlinecolor": "rgb(36,36,36)",
             "gridcolor": "white",
             "linecolor": "white",
             "minorgridcolor": "white",
             "startlinecolor": "rgb(36,36,36)"
            },
            "baxis": {
             "endlinecolor": "rgb(36,36,36)",
             "gridcolor": "white",
             "linecolor": "white",
             "minorgridcolor": "white",
             "startlinecolor": "rgb(36,36,36)"
            },
            "type": "carpet"
           }
          ],
          "choropleth": [
           {
            "colorbar": {
             "outlinewidth": 1,
             "tickcolor": "rgb(36,36,36)",
             "ticks": "outside"
            },
            "type": "choropleth"
           }
          ],
          "contour": [
           {
            "colorbar": {
             "outlinewidth": 1,
             "tickcolor": "rgb(36,36,36)",
             "ticks": "outside"
            },
            "colorscale": [
             [
              0,
              "#440154"
             ],
             [
              0.1111111111111111,
              "#482878"
             ],
             [
              0.2222222222222222,
              "#3e4989"
             ],
             [
              0.3333333333333333,
              "#31688e"
             ],
             [
              0.4444444444444444,
              "#26828e"
             ],
             [
              0.5555555555555556,
              "#1f9e89"
             ],
             [
              0.6666666666666666,
              "#35b779"
             ],
             [
              0.7777777777777778,
              "#6ece58"
             ],
             [
              0.8888888888888888,
              "#b5de2b"
             ],
             [
              1,
              "#fde725"
             ]
            ],
            "type": "contour"
           }
          ],
          "contourcarpet": [
           {
            "colorbar": {
             "outlinewidth": 1,
             "tickcolor": "rgb(36,36,36)",
             "ticks": "outside"
            },
            "type": "contourcarpet"
           }
          ],
          "heatmap": [
           {
            "colorbar": {
             "outlinewidth": 1,
             "tickcolor": "rgb(36,36,36)",
             "ticks": "outside"
            },
            "colorscale": [
             [
              0,
              "#440154"
             ],
             [
              0.1111111111111111,
              "#482878"
             ],
             [
              0.2222222222222222,
              "#3e4989"
             ],
             [
              0.3333333333333333,
              "#31688e"
             ],
             [
              0.4444444444444444,
              "#26828e"
             ],
             [
              0.5555555555555556,
              "#1f9e89"
             ],
             [
              0.6666666666666666,
              "#35b779"
             ],
             [
              0.7777777777777778,
              "#6ece58"
             ],
             [
              0.8888888888888888,
              "#b5de2b"
             ],
             [
              1,
              "#fde725"
             ]
            ],
            "type": "heatmap"
           }
          ],
          "histogram": [
           {
            "marker": {
             "line": {
              "color": "white",
              "width": 0.6
             }
            },
            "type": "histogram"
           }
          ],
          "histogram2d": [
           {
            "colorbar": {
             "outlinewidth": 1,
             "tickcolor": "rgb(36,36,36)",
             "ticks": "outside"
            },
            "colorscale": [
             [
              0,
              "#440154"
             ],
             [
              0.1111111111111111,
              "#482878"
             ],
             [
              0.2222222222222222,
              "#3e4989"
             ],
             [
              0.3333333333333333,
              "#31688e"
             ],
             [
              0.4444444444444444,
              "#26828e"
             ],
             [
              0.5555555555555556,
              "#1f9e89"
             ],
             [
              0.6666666666666666,
              "#35b779"
             ],
             [
              0.7777777777777778,
              "#6ece58"
             ],
             [
              0.8888888888888888,
              "#b5de2b"
             ],
             [
              1,
              "#fde725"
             ]
            ],
            "type": "histogram2d"
           }
          ],
          "histogram2dcontour": [
           {
            "colorbar": {
             "outlinewidth": 1,
             "tickcolor": "rgb(36,36,36)",
             "ticks": "outside"
            },
            "colorscale": [
             [
              0,
              "#440154"
             ],
             [
              0.1111111111111111,
              "#482878"
             ],
             [
              0.2222222222222222,
              "#3e4989"
             ],
             [
              0.3333333333333333,
              "#31688e"
             ],
             [
              0.4444444444444444,
              "#26828e"
             ],
             [
              0.5555555555555556,
              "#1f9e89"
             ],
             [
              0.6666666666666666,
              "#35b779"
             ],
             [
              0.7777777777777778,
              "#6ece58"
             ],
             [
              0.8888888888888888,
              "#b5de2b"
             ],
             [
              1,
              "#fde725"
             ]
            ],
            "type": "histogram2dcontour"
           }
          ],
          "mesh3d": [
           {
            "colorbar": {
             "outlinewidth": 1,
             "tickcolor": "rgb(36,36,36)",
             "ticks": "outside"
            },
            "type": "mesh3d"
           }
          ],
          "parcoords": [
           {
            "line": {
             "colorbar": {
              "outlinewidth": 1,
              "tickcolor": "rgb(36,36,36)",
              "ticks": "outside"
             }
            },
            "type": "parcoords"
           }
          ],
          "pie": [
           {
            "automargin": true,
            "type": "pie"
           }
          ],
          "scatter": [
           {
            "fillpattern": {
             "fillmode": "overlay",
             "size": 10,
             "solidity": 0.2
            },
            "type": "scatter"
           }
          ],
          "scatter3d": [
           {
            "line": {
             "colorbar": {
              "outlinewidth": 1,
              "tickcolor": "rgb(36,36,36)",
              "ticks": "outside"
             }
            },
            "marker": {
             "colorbar": {
              "outlinewidth": 1,
              "tickcolor": "rgb(36,36,36)",
              "ticks": "outside"
             }
            },
            "type": "scatter3d"
           }
          ],
          "scattercarpet": [
           {
            "marker": {
             "colorbar": {
              "outlinewidth": 1,
              "tickcolor": "rgb(36,36,36)",
              "ticks": "outside"
             }
            },
            "type": "scattercarpet"
           }
          ],
          "scattergeo": [
           {
            "marker": {
             "colorbar": {
              "outlinewidth": 1,
              "tickcolor": "rgb(36,36,36)",
              "ticks": "outside"
             }
            },
            "type": "scattergeo"
           }
          ],
          "scattergl": [
           {
            "marker": {
             "colorbar": {
              "outlinewidth": 1,
              "tickcolor": "rgb(36,36,36)",
              "ticks": "outside"
             }
            },
            "type": "scattergl"
           }
          ],
          "scattermap": [
           {
            "marker": {
             "colorbar": {
              "outlinewidth": 1,
              "tickcolor": "rgb(36,36,36)",
              "ticks": "outside"
             }
            },
            "type": "scattermap"
           }
          ],
          "scattermapbox": [
           {
            "marker": {
             "colorbar": {
              "outlinewidth": 1,
              "tickcolor": "rgb(36,36,36)",
              "ticks": "outside"
             }
            },
            "type": "scattermapbox"
           }
          ],
          "scatterpolar": [
           {
            "marker": {
             "colorbar": {
              "outlinewidth": 1,
              "tickcolor": "rgb(36,36,36)",
              "ticks": "outside"
             }
            },
            "type": "scatterpolar"
           }
          ],
          "scatterpolargl": [
           {
            "marker": {
             "colorbar": {
              "outlinewidth": 1,
              "tickcolor": "rgb(36,36,36)",
              "ticks": "outside"
             }
            },
            "type": "scatterpolargl"
           }
          ],
          "scatterternary": [
           {
            "marker": {
             "colorbar": {
              "outlinewidth": 1,
              "tickcolor": "rgb(36,36,36)",
              "ticks": "outside"
             }
            },
            "type": "scatterternary"
           }
          ],
          "surface": [
           {
            "colorbar": {
             "outlinewidth": 1,
             "tickcolor": "rgb(36,36,36)",
             "ticks": "outside"
            },
            "colorscale": [
             [
              0,
              "#440154"
             ],
             [
              0.1111111111111111,
              "#482878"
             ],
             [
              0.2222222222222222,
              "#3e4989"
             ],
             [
              0.3333333333333333,
              "#31688e"
             ],
             [
              0.4444444444444444,
              "#26828e"
             ],
             [
              0.5555555555555556,
              "#1f9e89"
             ],
             [
              0.6666666666666666,
              "#35b779"
             ],
             [
              0.7777777777777778,
              "#6ece58"
             ],
             [
              0.8888888888888888,
              "#b5de2b"
             ],
             [
              1,
              "#fde725"
             ]
            ],
            "type": "surface"
           }
          ],
          "table": [
           {
            "cells": {
             "fill": {
              "color": "rgb(237,237,237)"
             },
             "line": {
              "color": "white"
             }
            },
            "header": {
             "fill": {
              "color": "rgb(217,217,217)"
             },
             "line": {
              "color": "white"
             }
            },
            "type": "table"
           }
          ]
         },
         "layout": {
          "annotationdefaults": {
           "arrowhead": 0,
           "arrowwidth": 1
          },
          "autotypenumbers": "strict",
          "coloraxis": {
           "colorbar": {
            "outlinewidth": 1,
            "tickcolor": "rgb(36,36,36)",
            "ticks": "outside"
           }
          },
          "colorscale": {
           "diverging": [
            [
             0,
             "rgb(103,0,31)"
            ],
            [
             0.1,
             "rgb(178,24,43)"
            ],
            [
             0.2,
             "rgb(214,96,77)"
            ],
            [
             0.3,
             "rgb(244,165,130)"
            ],
            [
             0.4,
             "rgb(253,219,199)"
            ],
            [
             0.5,
             "rgb(247,247,247)"
            ],
            [
             0.6,
             "rgb(209,229,240)"
            ],
            [
             0.7,
             "rgb(146,197,222)"
            ],
            [
             0.8,
             "rgb(67,147,195)"
            ],
            [
             0.9,
             "rgb(33,102,172)"
            ],
            [
             1,
             "rgb(5,48,97)"
            ]
           ],
           "sequential": [
            [
             0,
             "#440154"
            ],
            [
             0.1111111111111111,
             "#482878"
            ],
            [
             0.2222222222222222,
             "#3e4989"
            ],
            [
             0.3333333333333333,
             "#31688e"
            ],
            [
             0.4444444444444444,
             "#26828e"
            ],
            [
             0.5555555555555556,
             "#1f9e89"
            ],
            [
             0.6666666666666666,
             "#35b779"
            ],
            [
             0.7777777777777778,
             "#6ece58"
            ],
            [
             0.8888888888888888,
             "#b5de2b"
            ],
            [
             1,
             "#fde725"
            ]
           ],
           "sequentialminus": [
            [
             0,
             "#440154"
            ],
            [
             0.1111111111111111,
             "#482878"
            ],
            [
             0.2222222222222222,
             "#3e4989"
            ],
            [
             0.3333333333333333,
             "#31688e"
            ],
            [
             0.4444444444444444,
             "#26828e"
            ],
            [
             0.5555555555555556,
             "#1f9e89"
            ],
            [
             0.6666666666666666,
             "#35b779"
            ],
            [
             0.7777777777777778,
             "#6ece58"
            ],
            [
             0.8888888888888888,
             "#b5de2b"
            ],
            [
             1,
             "#fde725"
            ]
           ]
          },
          "colorway": [
           "#1F77B4",
           "#FF7F0E",
           "#2CA02C",
           "#D62728",
           "#9467BD",
           "#8C564B",
           "#E377C2",
           "#7F7F7F",
           "#BCBD22",
           "#17BECF"
          ],
          "font": {
           "color": "rgb(36,36,36)"
          },
          "geo": {
           "bgcolor": "white",
           "lakecolor": "white",
           "landcolor": "white",
           "showlakes": true,
           "showland": true,
           "subunitcolor": "white"
          },
          "hoverlabel": {
           "align": "left"
          },
          "hovermode": "closest",
          "mapbox": {
           "style": "light"
          },
          "paper_bgcolor": "white",
          "plot_bgcolor": "white",
          "polar": {
           "angularaxis": {
            "gridcolor": "rgb(232,232,232)",
            "linecolor": "rgb(36,36,36)",
            "showgrid": false,
            "showline": true,
            "ticks": "outside"
           },
           "bgcolor": "white",
           "radialaxis": {
            "gridcolor": "rgb(232,232,232)",
            "linecolor": "rgb(36,36,36)",
            "showgrid": false,
            "showline": true,
            "ticks": "outside"
           }
          },
          "scene": {
           "xaxis": {
            "backgroundcolor": "white",
            "gridcolor": "rgb(232,232,232)",
            "gridwidth": 2,
            "linecolor": "rgb(36,36,36)",
            "showbackground": true,
            "showgrid": false,
            "showline": true,
            "ticks": "outside",
            "zeroline": false,
            "zerolinecolor": "rgb(36,36,36)"
           },
           "yaxis": {
            "backgroundcolor": "white",
            "gridcolor": "rgb(232,232,232)",
            "gridwidth": 2,
            "linecolor": "rgb(36,36,36)",
            "showbackground": true,
            "showgrid": false,
            "showline": true,
            "ticks": "outside",
            "zeroline": false,
            "zerolinecolor": "rgb(36,36,36)"
           },
           "zaxis": {
            "backgroundcolor": "white",
            "gridcolor": "rgb(232,232,232)",
            "gridwidth": 2,
            "linecolor": "rgb(36,36,36)",
            "showbackground": true,
            "showgrid": false,
            "showline": true,
            "ticks": "outside",
            "zeroline": false,
            "zerolinecolor": "rgb(36,36,36)"
           }
          },
          "shapedefaults": {
           "fillcolor": "black",
           "line": {
            "width": 0
           },
           "opacity": 0.3
          },
          "ternary": {
           "aaxis": {
            "gridcolor": "rgb(232,232,232)",
            "linecolor": "rgb(36,36,36)",
            "showgrid": false,
            "showline": true,
            "ticks": "outside"
           },
           "baxis": {
            "gridcolor": "rgb(232,232,232)",
            "linecolor": "rgb(36,36,36)",
            "showgrid": false,
            "showline": true,
            "ticks": "outside"
           },
           "bgcolor": "white",
           "caxis": {
            "gridcolor": "rgb(232,232,232)",
            "linecolor": "rgb(36,36,36)",
            "showgrid": false,
            "showline": true,
            "ticks": "outside"
           }
          },
          "title": {
           "x": 0.05
          },
          "xaxis": {
           "automargin": true,
           "gridcolor": "rgb(232,232,232)",
           "linecolor": "rgb(36,36,36)",
           "showgrid": false,
           "showline": true,
           "ticks": "outside",
           "title": {
            "standoff": 15
           },
           "zeroline": false,
           "zerolinecolor": "rgb(36,36,36)"
          },
          "yaxis": {
           "automargin": true,
           "gridcolor": "rgb(232,232,232)",
           "linecolor": "rgb(36,36,36)",
           "showgrid": false,
           "showline": true,
           "ticks": "outside",
           "title": {
            "standoff": 15
           },
           "zeroline": false,
           "zerolinecolor": "rgb(36,36,36)"
          }
         }
        },
        "title": {
         "font": {
          "color": "Black",
          "size": 22
         },
         "text": "<b>Topics over Time</b>",
         "x": 0.4,
         "xanchor": "center",
         "y": 0.95,
         "yanchor": "top"
        },
        "width": 1250,
        "xaxis": {
         "showgrid": true
        },
        "yaxis": {
         "showgrid": true,
         "title": {
          "text": "Frequency"
         }
        }
       }
      }
     },
     "metadata": {},
     "output_type": "display_data"
    }
   ],
   "source": [
    "topics_over_time = topic_model.topics_over_time(flat_chunks, years)\n",
    "#we set custom labels to True to use the labels we set before\n",
    "topic_model.visualize_topics_over_time(topics_over_time, custom_labels=True, topics=meaningful_topics)"
   ]
  },
  {
   "cell_type": "code",
   "execution_count": null,
   "id": "4ef2a57f",
   "metadata": {},
   "outputs": [],
   "source": [
    "#If you have repeated SDGs, you could merge the topics for which the SDG is duplicate, and merge them, see docs below for how\n",
    "#https://maartengr.github.io/BERTopic/api/bertopic.html#bertopic._bertopic.BERTopic.merge_models\n",
    "\n",
    "#VISUALIZATIONS\n",
    "\n",
    "#you can try more visualizations, check out the docs:\n",
    "#https://maartengr.github.io/BERTopic/getting_started/visualization/visualization.html#visualize-probabilities-or-distribution"
   ]
  }
 ],
 "metadata": {
  "kernelspec": {
   "display_name": "venv",
   "language": "python",
   "name": "python3"
  },
  "language_info": {
   "codemirror_mode": {
    "name": "ipython",
    "version": 3
   },
   "file_extension": ".py",
   "mimetype": "text/x-python",
   "name": "python",
   "nbconvert_exporter": "python",
   "pygments_lexer": "ipython3",
   "version": "3.11.3"
  }
 },
 "nbformat": 4,
 "nbformat_minor": 5
}
