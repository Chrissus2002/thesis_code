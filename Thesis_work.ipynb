{
 "cells": [
  {
   "cell_type": "markdown",
   "id": "a380c88d-ba22-4668-84b5-0acd61099aec",
   "metadata": {},
   "source": [
    "_**Imports for document extraction, text processing, and writing the text into chunks**_"
   ]
  },
  {
   "cell_type": "code",
   "execution_count": 1,
   "id": "cfc87c49-68f4-4e03-b20c-cdb740c37910",
   "metadata": {},
   "outputs": [],
   "source": [
    "import os\n",
    "from pathlib import Path\n",
    "import re\n",
    "import PyPDF2\n",
    "import pandas as pd"
   ]
  },
  {
   "cell_type": "markdown",
   "id": "1548de45-d178-40cd-a923-212028382985",
   "metadata": {},
   "source": [
    "_**Necessary functions for the document preprocessing and text clean up**_"
   ]
  },
  {
   "cell_type": "code",
   "execution_count": 2,
   "id": "abde84f5",
   "metadata": {},
   "outputs": [],
   "source": [
    "def extract_text_from_pdf(pdf_path: Path) -> str:\n",
    "    \"\"\"\n",
    "    Extract text from a PDF file\n",
    "    \"\"\"\n",
    "    if pdf_path.suffix.lower() == \".pdf\":\n",
    "        text = \"\"\n",
    "        with pdf_path.open(\"rb\") as file:\n",
    "            reader = PyPDF2.PdfReader(file)\n",
    "            for page in reader.pages:\n",
    "                text += page.extract_text()\n",
    "        return text\n",
    "\n",
    "\n",
    "\n",
    "def clean_text(text: str) -> str:\n",
    "    \"\"\"\n",
    "    Clean the text by removing unnecesary sections\n",
    "    \"\"\"\n",
    "    match = re.search(r'Bibliography|Acknowledgements|Index|Contents|Carbon', text, re.IGNORECASE)\n",
    "    if match:\n",
    "        text = text[match.start():]\n",
    "    return text\n",
    "\n",
    "\n",
    "def chunk_text(text: str, max_token_size: int = 128) -> list[str]:\n",
    "    \"\"\"\n",
    "    Chunk the text into smaller chunks of approximately max_token_size tokens\n",
    "    Uses a simple estimation method where 1 token ≈ 4 characters\n",
    "    \"\"\"\n",
    "    paragraphs = text.split(\".\\n\")\n",
    "    chunks = []\n",
    "    current_chunk = \"\"\n",
    "    current_token_count = 0\n",
    "    \n",
    "    # Simple token estimation function\n",
    "    def estimate_tokens(text: str) -> int:\n",
    "        # Roughly 4 characters per token for English text\n",
    "        return len(text) // 4\n",
    "    \n",
    "    for paragraph in paragraphs:\n",
    "        paragraph_tokens = estimate_tokens(paragraph)\n",
    "        \n",
    "        # Check if adding this paragraph would exceed the token limit\n",
    "        if current_token_count + paragraph_tokens + 1 > max_token_size:\n",
    "            chunks.append(current_chunk.strip())\n",
    "            current_chunk = paragraph + \"\\n\\n\"\n",
    "            current_token_count = paragraph_tokens + 2  # +2 for the newlines\n",
    "        else:\n",
    "            current_chunk += paragraph + \"\\n\\n\"\n",
    "            current_token_count += paragraph_tokens + 2  # +2 for the newlines\n",
    "    \n",
    "    # Add the last chunk if it's not empty\n",
    "    if current_chunk:\n",
    "        chunks.append(current_chunk.strip())\n",
    "    \n",
    "    return chunks\n",
    "\n",
    "\n",
    "def remove_empty_strings_from_list(input_list: list[str]) -> list[str]:\n",
    "    \"\"\"\n",
    "    Removes all empty strings (e.g., \"\", \"   \") from a list of strings.\n",
    "    It also removes strings that are None.\n",
    "    \"\"\"\n",
    "    return [s for s in input_list if s and s.strip()]"
   ]
  },
  {
   "cell_type": "markdown",
   "id": "f9baba30-2e34-4d8a-80f8-be34616455fd",
   "metadata": {},
   "source": [
    "_**Adding document text to a list of chunks which will then be processed by BERTopic**_"
   ]
  },
  {
   "cell_type": "code",
   "execution_count": 3,
   "id": "21672b31-f7dd-4970-ac1f-6f6c0bd93c88",
   "metadata": {},
   "outputs": [],
   "source": [
    "folder_year_2013 = Path(\"ESG_reports/Siemens/2013\")\n",
    "folder_year_2014 = Path(\"ESG_reports/Siemens/2014\")\n",
    "folder_year_2015 = Path(\"ESG_reports/Siemens/2015\")\n",
    "folder_year_2016 = Path(\"ESG_reports/Siemens/2016\")\n",
    "folder_year_2017 = Path(\"ESG_reports/Siemens/2017\")\n",
    "folder_year_2018 = Path(\"ESG_reports/Siemens/2018\")\n",
    "folder_year_2019 = Path(\"ESG_reports/Siemens/2019\")\n",
    "folder_year_2020 = Path(\"ESG_reports/Siemens/2020\")\n",
    "folder_year_2021 = Path(\"ESG_reports/Siemens/2021\")\n",
    "folder_year_2022 = Path(\"ESG_reports/Siemens/2022\")\n",
    "folder_year_2023 = Path(\"ESG_reports/Siemens/2023\")\n",
    "folder_year_2024 = Path(\"ESG_reports/Siemens/2024\")\n",
    "document_text_2013 = []\n",
    "document_text_2014 = []\n",
    "document_text_2015 = []\n",
    "document_text_2016 = []\n",
    "document_text_2017 = []\n",
    "document_text_2018 = []\n",
    "document_text_2019 = []\n",
    "document_text_2020 = []\n",
    "document_text_2021 = []\n",
    "document_text_2022 = []\n",
    "document_text_2023 = []\n",
    "document_text_2024 = []"
   ]
  },
  {
   "cell_type": "code",
   "execution_count": 4,
   "id": "651b18fa-6e45-45d7-baac-23f5574220ff",
   "metadata": {},
   "outputs": [
    {
     "name": "stdout",
     "output_type": "stream",
     "text": [
      "1466\n",
      "995\n",
      "631\n",
      "612\n",
      "834\n",
      "872\n",
      "841\n",
      "324\n",
      "395\n",
      "462\n",
      "590\n",
      "611\n"
     ]
    }
   ],
   "source": [
    "def process_pdf_folder(folder_path: Path) -> list[str]:\n",
    "    document_chunks = []\n",
    "    for file in folder_path.glob(\"*.pdf\"):\n",
    "        text = extract_text_from_pdf(file)\n",
    "        #Disabling cleaning since I'm not sure if it's working properly, might be cutting too much text?\n",
    "        # since we are clustering chunks, then filtering the chunks, we don't need to clean \n",
    "        #cleaned_text = clean_text(text)\n",
    "        cleaned_text=text\n",
    "        chunks = chunk_text(cleaned_text)\n",
    "        document_chunks.extend(chunks)\n",
    "    print(len(document_chunks))\n",
    "    return document_chunks\n",
    "\n",
    "document_text_2013 = remove_empty_strings_from_list(process_pdf_folder(folder_year_2013))\n",
    "document_text_2014 = remove_empty_strings_from_list(process_pdf_folder(folder_year_2014))\n",
    "document_text_2015 = remove_empty_strings_from_list(process_pdf_folder(folder_year_2015))\n",
    "document_text_2016 = remove_empty_strings_from_list(process_pdf_folder(folder_year_2016))\n",
    "document_text_2017 = remove_empty_strings_from_list(process_pdf_folder(folder_year_2017))\n",
    "document_text_2018 = remove_empty_strings_from_list(process_pdf_folder(folder_year_2018))\n",
    "document_text_2019 = remove_empty_strings_from_list(process_pdf_folder(folder_year_2019))\n",
    "document_text_2020 = remove_empty_strings_from_list(process_pdf_folder(folder_year_2020))\n",
    "document_text_2021 = remove_empty_strings_from_list(process_pdf_folder(folder_year_2021))\n",
    "document_text_2022 = remove_empty_strings_from_list(process_pdf_folder(folder_year_2022))\n",
    "document_text_2023 = remove_empty_strings_from_list(process_pdf_folder(folder_year_2023))\n",
    "document_text_2024 = remove_empty_strings_from_list(process_pdf_folder(folder_year_2024))"
   ]
  },
  {
   "cell_type": "code",
   "execution_count": 5,
   "id": "a1f708c7",
   "metadata": {},
   "outputs": [
    {
     "data": {
      "text/html": [
       "<div>\n",
       "<style scoped>\n",
       "    .dataframe tbody tr th:only-of-type {\n",
       "        vertical-align: middle;\n",
       "    }\n",
       "\n",
       "    .dataframe tbody tr th {\n",
       "        vertical-align: top;\n",
       "    }\n",
       "\n",
       "    .dataframe thead th {\n",
       "        text-align: right;\n",
       "    }\n",
       "</style>\n",
       "<table border=\"1\" class=\"dataframe\">\n",
       "  <thead>\n",
       "    <tr style=\"text-align: right;\">\n",
       "      <th></th>\n",
       "      <th>Year</th>\n",
       "      <th>Chunk</th>\n",
       "    </tr>\n",
       "  </thead>\n",
       "  <tbody>\n",
       "    <tr>\n",
       "      <th>0</th>\n",
       "      <td>2013</td>\n",
       "      <td>[Industrial productivity\\nIntelligent infrastr...</td>\n",
       "    </tr>\n",
       "    <tr>\n",
       "      <th>1</th>\n",
       "      <td>2014</td>\n",
       "      <td>[siemens.comto the Siemens Annual Report 2014\\...</td>\n",
       "    </tr>\n",
       "    <tr>\n",
       "      <th>2</th>\n",
       "      <td>2015</td>\n",
       "      <td>[Sustainability  \\nInformation 2015\\n As adden...</td>\n",
       "    </tr>\n",
       "    <tr>\n",
       "      <th>3</th>\n",
       "      <td>2016</td>\n",
       "      <td>[Sustainability \\nInformation 2016\\nsiemens.co...</td>\n",
       "    </tr>\n",
       "    <tr>\n",
       "      <th>4</th>\n",
       "      <td>2017</td>\n",
       "      <td>[Sustainability \\nInformation 2017\\nsiemens.co...</td>\n",
       "    </tr>\n",
       "    <tr>\n",
       "      <th>5</th>\n",
       "      <td>2018</td>\n",
       "      <td>[Annual Report  \\n20\\n18\\nsiemens.com\\nA.1 p 2...</td>\n",
       "    </tr>\n",
       "    <tr>\n",
       "      <th>6</th>\n",
       "      <td>2019</td>\n",
       "      <td>[Sustainability \\nInformation 2019\\nsiemens.co...</td>\n",
       "    </tr>\n",
       "    <tr>\n",
       "      <th>7</th>\n",
       "      <td>2020</td>\n",
       "      <td>[Sustainability  \\ninformation \\n2020Foreword\\...</td>\n",
       "    </tr>\n",
       "    <tr>\n",
       "      <th>8</th>\n",
       "      <td>2021</td>\n",
       "      <td>[Sustainability  \\nreport\\n2021 Technology to ...</td>\n",
       "    </tr>\n",
       "    <tr>\n",
       "      <th>9</th>\n",
       "      <td>2022</td>\n",
       "      <td>[Sustainability  \\nreport\\n2022 Technology to ...</td>\n",
       "    </tr>\n",
       "    <tr>\n",
       "      <th>10</th>\n",
       "      <td>2023</td>\n",
       "      <td>[Sustainability  \\nreport  \\n2023Key figures \\...</td>\n",
       "    </tr>\n",
       "    <tr>\n",
       "      <th>11</th>\n",
       "      <td>2024</td>\n",
       "      <td>[Sustainability  \\nReport  \\n2024Key figures \\...</td>\n",
       "    </tr>\n",
       "  </tbody>\n",
       "</table>\n",
       "</div>"
      ],
      "text/plain": [
       "    Year                                              Chunk\n",
       "0   2013  [Industrial productivity\\nIntelligent infrastr...\n",
       "1   2014  [siemens.comto the Siemens Annual Report 2014\\...\n",
       "2   2015  [Sustainability  \\nInformation 2015\\n As adden...\n",
       "3   2016  [Sustainability \\nInformation 2016\\nsiemens.co...\n",
       "4   2017  [Sustainability \\nInformation 2017\\nsiemens.co...\n",
       "5   2018  [Annual Report  \\n20\\n18\\nsiemens.com\\nA.1 p 2...\n",
       "6   2019  [Sustainability \\nInformation 2019\\nsiemens.co...\n",
       "7   2020  [Sustainability  \\ninformation \\n2020Foreword\\...\n",
       "8   2021  [Sustainability  \\nreport\\n2021 Technology to ...\n",
       "9   2022  [Sustainability  \\nreport\\n2022 Technology to ...\n",
       "10  2023  [Sustainability  \\nreport  \\n2023Key figures \\...\n",
       "11  2024  [Sustainability  \\nReport  \\n2024Key figures \\..."
      ]
     },
     "execution_count": 5,
     "metadata": {},
     "output_type": "execute_result"
    }
   ],
   "source": [
    "dictionary_year_chunks = {\n",
    "    2013: document_text_2013,\n",
    "    2014: document_text_2014,\n",
    "    2015: document_text_2015,\n",
    "    2016: document_text_2016,\n",
    "    2017: document_text_2017,\n",
    "    2018: document_text_2018,\n",
    "    2019: document_text_2019,\n",
    "    2020: document_text_2020,\n",
    "    2021: document_text_2021,\n",
    "    2022: document_text_2022,\n",
    "    2023: document_text_2023,\n",
    "    2024: document_text_2024\n",
    "}\n",
    "\n",
    "years = []\n",
    "flat_chunks = []\n",
    "\n",
    "# Iterate through the dictionary in sorted order\n",
    "for year, chunks in sorted(dictionary_year_chunks.items()):\n",
    "    # For each string in the chunks list\n",
    "    for chunk in chunks:\n",
    "        # Add the year to years list\n",
    "        years.append(year)\n",
    "        # Add the chunk to flat_chunks list\n",
    "        flat_chunks.append(chunk)\n",
    "\n",
    "df_chunks = pd.DataFrame(dictionary_year_chunks.items(), columns=['Year', 'Chunk'])\n",
    "df_chunks"
   ]
  },
  {
   "cell_type": "markdown",
   "id": "0d6c7a36-1f14-4a6a-a8ec-62e2e8f450bb",
   "metadata": {},
   "source": [
    "_**Necessary imports for BERTopic**_"
   ]
  },
  {
   "cell_type": "code",
   "execution_count": 6,
   "id": "204d74c2-e132-41ea-8991-8682f3b29093",
   "metadata": {},
   "outputs": [
    {
     "name": "stderr",
     "output_type": "stream",
     "text": [
      "/Users/christianschipper/Desktop/University/thesis_work/venv/lib/python3.11/site-packages/tqdm/auto.py:21: TqdmWarning: IProgress not found. Please update jupyter and ipywidgets. See https://ipywidgets.readthedocs.io/en/stable/user_install.html\n",
      "  from .autonotebook import tqdm as notebook_tqdm\n"
     ]
    }
   ],
   "source": [
    "from sklearn.feature_extraction.text import CountVectorizer\n",
    "from umap import UMAP\n",
    "from bertopic import BERTopic"
   ]
  },
  {
   "cell_type": "markdown",
   "id": "24f52604-46ca-4d64-a833-58879df253ea",
   "metadata": {},
   "source": [
    "_**Configurations for the steps of BERTopic**_"
   ]
  },
  {
   "cell_type": "code",
   "execution_count": 7,
   "id": "6904249b-f8ec-40f7-9bab-c791033ee890",
   "metadata": {},
   "outputs": [],
   "source": [
    "umap_model = UMAP(random_state=42)\n",
    "vectorizer_model = CountVectorizer(stop_words='english')\n",
    "\n",
    "\n",
    "#https://maartengr.github.io/BERTopic/faq.html#which-embedding-model-should-i-choose\n",
    "#based on the doc above, we can try all-mpnet-base-v2 for better results\n",
    "#or we can try all-MiniLM-L6-v2 for faster results for development\n",
    "\n",
    "embedding_model = 'all-mpnet-base-v2'\n",
    "nr_topics = 30"
   ]
  },
  {
   "cell_type": "code",
   "execution_count": 8,
   "id": "c6288ae9-a069-4869-99d7-0360702c0560",
   "metadata": {},
   "outputs": [],
   "source": [
    "topic_model = BERTopic(embedding_model='all-MiniLM-L6-v2', nr_topics=nr_topics,\n",
    "                       umap_model=umap_model, vectorizer_model=vectorizer_model)\n",
    "topics, probabilities = topic_model.fit_transform(flat_chunks)\n",
    "\n"
   ]
  },
  {
   "cell_type": "code",
   "execution_count": 9,
   "id": "470a7373",
   "metadata": {},
   "outputs": [
    {
     "data": {
      "application/vnd.plotly.v1+json": {
       "config": {
        "plotlyServerURL": "https://plot.ly"
       },
       "data": [
        {
         "hoverinfo": "text",
         "hovertext": [
          "<b>Topic 0</b><br>Words: 2013, financial, cash, 2012, million",
          "<b>Topic 0</b><br>Words: 2014, financial, 2013, cash, statements",
          "<b>Topic 0</b><br>Words: cash, 2015, financial, million, income",
          "<b>Topic 0</b><br>Words: financial, 2016, cash, income, million",
          "<b>Topic 0</b><br>Words: financial, tax, cash, million, 2017",
          "<b>Topic 0</b><br>Words: financial, 2018, cash, tax, income",
          "<b>Topic 0</b><br>Words: financial, 2019, cash, tax, 2018",
          "<b>Topic 0</b><br>Words: shareholder, program, offered, siemens, 2020",
          "<b>Topic 0</b><br>Words: taxes, share, financial, document, program",
          "<b>Topic 0</b><br>Words: 2022, ff, share, taxes, ee",
          "<b>Topic 0</b><br>Words: ff, taxes, ee, 2023, sc",
          "<b>Topic 0</b><br>Words: ff, share, 2024, ee, calculations"
         ],
         "marker": {
          "color": "#E69F00"
         },
         "mode": "lines",
         "name": "0_financial_cash_million_income",
         "type": "scatter",
         "x": {
          "bdata": "3QfeB98H4AfhB+IH4wfkB+UH5gfnB+gH",
          "dtype": "i2"
         },
         "y": {
          "bdata": "HAG6AHwAegCXAKEAmQABAAMAAgACAAMA",
          "dtype": "i2"
         }
        },
        {
         "hoverinfo": "text",
         "hovertext": [
          "<b>Topic 1</b><br>Words: environmental, sustainability, portfolio, emissions, siemens",
          "<b>Topic 1</b><br>Words: environmental, sustainability, portfolio, siemens, report",
          "<b>Topic 1</b><br>Words: environmental, portfolio, sustainability, emissions, carbon",
          "<b>Topic 1</b><br>Words: environmental, portfolio, sustainability, emissions, carbon",
          "<b>Topic 1</b><br>Words: environmental, portfolio, emissions, sustainability, gri",
          "<b>Topic 1</b><br>Words: environmental, portfolio, sustainability, emissions, carbon",
          "<b>Topic 1</b><br>Words: environmental, portfolio, emissions, sustainability, carbon",
          "<b>Topic 1</b><br>Words: sustainability, environmental, siemens, emissions, 2020",
          "<b>Topic 1</b><br>Words: sustainability, gri, wef, environmental, emissions",
          "<b>Topic 1</b><br>Words: gri, sustainability, wef, emissions, 2022",
          "<b>Topic 1</b><br>Words: gri, sustainability, wef, emissions, 30th",
          "<b>Topic 1</b><br>Words: sustainability, gri, emissions, wef, 2024"
         ],
         "marker": {
          "color": "#56B4E9"
         },
         "mode": "lines",
         "name": "1_sustainability_environmental_gri_emiss...",
         "type": "scatter",
         "x": {
          "bdata": "3QfeB98H4AfhB+IH4wfkB+UH5gfnB+gH",
          "dtype": "i2"
         },
         "y": {
          "bdata": "QgAjACYAKwAsACsAIwBAAGEAdwCrALUA",
          "dtype": "i2"
         }
        },
        {
         "hoverinfo": "text",
         "hovertext": [
          "<b>Topic 2</b><br>Words: compliance, risks, risk, business, conduct",
          "<b>Topic 2</b><br>Words: compliance, business, risks, risk, suppliers",
          "<b>Topic 2</b><br>Words: compliance, business, risks, risk, suppliers",
          "<b>Topic 2</b><br>Words: compliance, risk, risks, business, suppliers",
          "<b>Topic 2</b><br>Words: compliance, human, rights, risk, business",
          "<b>Topic 2</b><br>Words: compliance, human, rights, business, risk",
          "<b>Topic 2</b><br>Words: compliance, human, rights, business, risk",
          "<b>Topic 2</b><br>Words: compliance, human, rights, business, risk",
          "<b>Topic 2</b><br>Words: compliance, human, rights, risk, business",
          "<b>Topic 2</b><br>Words: compliance, human, rights, risk, business",
          "<b>Topic 2</b><br>Words: compliance, human, rights, risk, business",
          "<b>Topic 2</b><br>Words: human, compliance, rights, risk, suppliers"
         ],
         "marker": {
          "color": "#009E73"
         },
         "mode": "lines",
         "name": "2_compliance_human_rights_risk",
         "type": "scatter",
         "x": {
          "bdata": "3QfeB98H4AfhB+IH4wfkB+UH5gfnB+gH",
          "dtype": "i2"
         },
         "y": {
          "bdata": "Rzg8QT5OMTBFT1RM",
          "dtype": "i1"
         }
        },
        {
         "hoverinfo": "text",
         "hovertext": [
          "<b>Topic 3</b><br>Words: board, supervisory, siemens, chairman, ag",
          "<b>Topic 3</b><br>Words: board, supervisory, chairman, siemens, managing",
          "<b>Topic 3</b><br>Words: board, supervisory, siemens, chairman, managing",
          "<b>Topic 3</b><br>Words: board, supervisory, siemens, ag, chairman",
          "<b>Topic 3</b><br>Words: board, supervisory, siemens, 100, india",
          "<b>Topic 3</b><br>Words: board, supervisory, siemens, 100, company",
          "<b>Topic 3</b><br>Words: board, supervisory, 100, siemens, limited",
          "<b>Topic 3</b><br>Words: siemens, sidiaries, situated, digi, germany",
          "<b>Topic 3</b><br>Words: strategy, board, company, managing, advises"
         ],
         "marker": {
          "color": "#F0E442"
         },
         "mode": "lines",
         "name": "3_board_supervisory_siemens_chairman",
         "type": "scatter",
         "x": {
          "bdata": "3QfeB98H4AfhB+IH4wfkB+cH",
          "dtype": "i2"
         },
         "y": {
          "bdata": "hABZAC4ALABJAFoAVwABAAEA",
          "dtype": "i2"
         }
        },
        {
         "hoverinfo": "text",
         "hovertext": [
          "<b>Topic 4</b><br>Words: diversity, programs, employees, learning, people",
          "<b>Topic 4</b><br>Words: culture, people, diversity, company, siemens",
          "<b>Topic 4</b><br>Words: people, diversity, employees, learning, programs",
          "<b>Topic 4</b><br>Words: diversity, people, employees, siemens, citizenship",
          "<b>Topic 4</b><br>Words: people, diversity, employees, education, siemens",
          "<b>Topic 4</b><br>Words: people, diversity, employees, siemens, learning",
          "<b>Topic 4</b><br>Words: people, diversity, learning, women, siemens",
          "<b>Topic 4</b><br>Words: diversity, people, employees, learning, siemens",
          "<b>Topic 4</b><br>Words: people, diversity, learning, siemens, women",
          "<b>Topic 4</b><br>Words: people, learning, diversity, siemens, women",
          "<b>Topic 4</b><br>Words: people, learning, diversity, siemens, programs",
          "<b>Topic 4</b><br>Words: people, learning, diversity, siemens, programs"
         ],
         "marker": {
          "color": "#D55E00"
         },
         "mode": "lines",
         "name": "4_people_diversity_learning_siemens",
         "type": "scatter",
         "x": {
          "bdata": "3QfeB98H4AfhB+IH4wfkB+UH5gfnB+gH",
          "dtype": "i2"
         },
         "y": {
          "bdata": "JCIPChccDSM0LDs7",
          "dtype": "i1"
         }
        },
        {
         "hoverinfo": "text",
         "hovertext": [
          "<b>Topic 5</b><br>Words: compensation, benefit, board, managing, benefits",
          "<b>Topic 5</b><br>Words: compensation, board, managing, 000, benefit",
          "<b>Topic 5</b><br>Words: compensation, board, 2015, managing, benefits",
          "<b>Topic 5</b><br>Words: compensation, board, 2015, managing, 2016",
          "<b>Topic 5</b><br>Words: compensation, board, 2016, managing, 2017",
          "<b>Topic 5</b><br>Words: compensation, board, managing, pension, benefit",
          "<b>Topic 5</b><br>Words: compensation, board, managing, benefits, pension",
          "<b>Topic 5</b><br>Words: plans, defined, pension, benefit, contribution",
          "<b>Topic 5</b><br>Words: plans, defined, benefit, contributions, contribution"
         ],
         "marker": {
          "color": "#0072B2"
         },
         "mode": "lines",
         "name": "5_compensation_board_managing_benefit",
         "type": "scatter",
         "x": {
          "bdata": "3QfeB98H4AfhB+IH4wfkB+UH",
          "dtype": "i2"
         },
         "y": {
          "bdata": "SzclJC4oOQEB",
          "dtype": "i1"
         }
        },
        {
         "hoverinfo": "text",
         "hovertext": [
          "<b>Topic 6</b><br>Words: growth, markets, fiscal, year, 2013",
          "<b>Topic 6</b><br>Words: growth, markets, year, market, 2014",
          "<b>Topic 6</b><br>Words: growth, markets, division, revenue, year",
          "<b>Topic 6</b><br>Words: growth, orders, division, markets, market",
          "<b>Topic 6</b><br>Words: growth, markets, revenue, market, year",
          "<b>Topic 6</b><br>Words: growth, orders, revenue, year, fiscal",
          "<b>Topic 6</b><br>Words: growth, revenue, orders, year, fiscal",
          "<b>Topic 6</b><br>Words: 2020, patents, fiscal, held, approximately",
          "<b>Topic 6</b><br>Words: billion, expenditure, patents, compared, 2021",
          "<b>Topic 6</b><br>Words: expenses, billion, 2023, capitalized, rated",
          "<b>Topic 6</b><br>Words: commonwealth, independent, states, growth, markets"
         ],
         "marker": {
          "color": "#CC79A7"
         },
         "mode": "lines",
         "name": "6_growth_markets_year_revenue",
         "type": "scatter",
         "x": {
          "bdata": "3QfeB98H4AfhB+IH4wfkB+UH5wfoBw==",
          "dtype": "i2"
         },
         "y": {
          "bdata": "OywhJikjKwMCAQE=",
          "dtype": "i1"
         }
        },
        {
         "hoverinfo": "text",
         "hovertext": [
          "<b>Topic 7</b><br>Words: production, solutions, industry, industrial, manufacturing",
          "<b>Topic 7</b><br>Words: software, solutions, production, customers, business",
          "<b>Topic 7</b><br>Words: solutions, division, products, digital, investments",
          "<b>Topic 7</b><br>Words: solutions, digital, services, systems, process",
          "<b>Topic 7</b><br>Words: digital, solutions, customers, production, mindsphere",
          "<b>Topic 7</b><br>Words: digital, solutions, customers, new, products",
          "<b>Topic 7</b><br>Words: digital, industries, investments, solutions, new",
          "<b>Topic 7</b><br>Words: customers, new, digitalization, digital, technology",
          "<b>Topic 7</b><br>Words: customers, digital, technology, business, sustainable",
          "<b>Topic 7</b><br>Words: digital, customers, sustainable, solutions, technology",
          "<b>Topic 7</b><br>Words: digital, customers, sustainable, siemens, solutions",
          "<b>Topic 7</b><br>Words: digital, customers, technology, sustainable, siemens"
         ],
         "marker": {
          "color": "#E69F00"
         },
         "mode": "lines",
         "name": "7_digital_solutions_customers_production",
         "type": "scatter",
         "x": {
          "bdata": "3QfeB98H4AfhB+IH4wfkB+UH5gfnB+gH",
          "dtype": "i2"
         },
         "y": {
          "bdata": "QS8NER0YDxMMEBYV",
          "dtype": "i1"
         }
        },
        {
         "hoverinfo": "text",
         "hovertext": [
          "<b>Topic 8</b><br>Words: 100, gmbh, siemens, 10010, china",
          "<b>Topic 8</b><br>Words: 100, gmbh, siemens, 10011, grünwald",
          "<b>Topic 8</b><br>Words: 100, gmbh, siemens, spain, limited",
          "<b>Topic 8</b><br>Words: 100, gmbh, siemens, spain, china",
          "<b>Topic 8</b><br>Words: 100, gmbh, siemens, spain, limited",
          "<b>Topic 8</b><br>Words: 100, gmbh, siemens, spain, gamesa",
          "<b>Topic 8</b><br>Words: 100, gmbh, siemens, spain, gamesa"
         ],
         "marker": {
          "color": "#56B4E9"
         },
         "mode": "lines",
         "name": "8_100_gmbh_siemens_spain",
         "type": "scatter",
         "x": {
          "bdata": "3QfeB98H4AfhB+IH4wc=",
          "dtype": "i2"
         },
         "y": {
          "bdata": "CQUQC1JNTA==",
          "dtype": "i1"
         }
        },
        {
         "hoverinfo": "text",
         "hovertext": [
          "<b>Topic 9</b><br>Words: safety, health, occupational, work, employees",
          "<b>Topic 9</b><br>Words: safety, health, occupational, work, employees",
          "<b>Topic 9</b><br>Words: safety, health, occupational, contractors, work",
          "<b>Topic 9</b><br>Words: safety, fatalities, work, health, contractors",
          "<b>Topic 9</b><br>Words: safety, health, contractors, work, employees",
          "<b>Topic 9</b><br>Words: safety, health, work, occupational, contractors",
          "<b>Topic 9</b><br>Words: safety, health, work, occupational, employees",
          "<b>Topic 9</b><br>Words: health, safety, occupational, employees, work",
          "<b>Topic 9</b><br>Words: safety, health, work, healthy, occupational",
          "<b>Topic 9</b><br>Words: health, safety, work, occupational, healthy",
          "<b>Topic 9</b><br>Words: safety, health, work, occupational, healthy",
          "<b>Topic 9</b><br>Words: safety, health, work, occupational, employees"
         ],
         "marker": {
          "color": "#009E73"
         },
         "mode": "lines",
         "name": "9_safety_health_work_occupational",
         "type": "scatter",
         "x": {
          "bdata": "3QfeB98H4AfhB+IH4wfkB+UH5gfnB+gH",
          "dtype": "i2"
         },
         "y": {
          "bdata": "DgsKBwYMCxIUExIV",
          "dtype": "i1"
         }
        }
       ],
       "layout": {
        "height": 450,
        "hoverlabel": {
         "bgcolor": "white",
         "font": {
          "family": "Rockwell",
          "size": 16
         }
        },
        "legend": {
         "title": {
          "text": "<b>Global Topic Representation"
         }
        },
        "template": {
         "data": {
          "bar": [
           {
            "error_x": {
             "color": "rgb(36,36,36)"
            },
            "error_y": {
             "color": "rgb(36,36,36)"
            },
            "marker": {
             "line": {
              "color": "white",
              "width": 0.5
             },
             "pattern": {
              "fillmode": "overlay",
              "size": 10,
              "solidity": 0.2
             }
            },
            "type": "bar"
           }
          ],
          "barpolar": [
           {
            "marker": {
             "line": {
              "color": "white",
              "width": 0.5
             },
             "pattern": {
              "fillmode": "overlay",
              "size": 10,
              "solidity": 0.2
             }
            },
            "type": "barpolar"
           }
          ],
          "carpet": [
           {
            "aaxis": {
             "endlinecolor": "rgb(36,36,36)",
             "gridcolor": "white",
             "linecolor": "white",
             "minorgridcolor": "white",
             "startlinecolor": "rgb(36,36,36)"
            },
            "baxis": {
             "endlinecolor": "rgb(36,36,36)",
             "gridcolor": "white",
             "linecolor": "white",
             "minorgridcolor": "white",
             "startlinecolor": "rgb(36,36,36)"
            },
            "type": "carpet"
           }
          ],
          "choropleth": [
           {
            "colorbar": {
             "outlinewidth": 1,
             "tickcolor": "rgb(36,36,36)",
             "ticks": "outside"
            },
            "type": "choropleth"
           }
          ],
          "contour": [
           {
            "colorbar": {
             "outlinewidth": 1,
             "tickcolor": "rgb(36,36,36)",
             "ticks": "outside"
            },
            "colorscale": [
             [
              0,
              "#440154"
             ],
             [
              0.1111111111111111,
              "#482878"
             ],
             [
              0.2222222222222222,
              "#3e4989"
             ],
             [
              0.3333333333333333,
              "#31688e"
             ],
             [
              0.4444444444444444,
              "#26828e"
             ],
             [
              0.5555555555555556,
              "#1f9e89"
             ],
             [
              0.6666666666666666,
              "#35b779"
             ],
             [
              0.7777777777777778,
              "#6ece58"
             ],
             [
              0.8888888888888888,
              "#b5de2b"
             ],
             [
              1,
              "#fde725"
             ]
            ],
            "type": "contour"
           }
          ],
          "contourcarpet": [
           {
            "colorbar": {
             "outlinewidth": 1,
             "tickcolor": "rgb(36,36,36)",
             "ticks": "outside"
            },
            "type": "contourcarpet"
           }
          ],
          "heatmap": [
           {
            "colorbar": {
             "outlinewidth": 1,
             "tickcolor": "rgb(36,36,36)",
             "ticks": "outside"
            },
            "colorscale": [
             [
              0,
              "#440154"
             ],
             [
              0.1111111111111111,
              "#482878"
             ],
             [
              0.2222222222222222,
              "#3e4989"
             ],
             [
              0.3333333333333333,
              "#31688e"
             ],
             [
              0.4444444444444444,
              "#26828e"
             ],
             [
              0.5555555555555556,
              "#1f9e89"
             ],
             [
              0.6666666666666666,
              "#35b779"
             ],
             [
              0.7777777777777778,
              "#6ece58"
             ],
             [
              0.8888888888888888,
              "#b5de2b"
             ],
             [
              1,
              "#fde725"
             ]
            ],
            "type": "heatmap"
           }
          ],
          "histogram": [
           {
            "marker": {
             "line": {
              "color": "white",
              "width": 0.6
             }
            },
            "type": "histogram"
           }
          ],
          "histogram2d": [
           {
            "colorbar": {
             "outlinewidth": 1,
             "tickcolor": "rgb(36,36,36)",
             "ticks": "outside"
            },
            "colorscale": [
             [
              0,
              "#440154"
             ],
             [
              0.1111111111111111,
              "#482878"
             ],
             [
              0.2222222222222222,
              "#3e4989"
             ],
             [
              0.3333333333333333,
              "#31688e"
             ],
             [
              0.4444444444444444,
              "#26828e"
             ],
             [
              0.5555555555555556,
              "#1f9e89"
             ],
             [
              0.6666666666666666,
              "#35b779"
             ],
             [
              0.7777777777777778,
              "#6ece58"
             ],
             [
              0.8888888888888888,
              "#b5de2b"
             ],
             [
              1,
              "#fde725"
             ]
            ],
            "type": "histogram2d"
           }
          ],
          "histogram2dcontour": [
           {
            "colorbar": {
             "outlinewidth": 1,
             "tickcolor": "rgb(36,36,36)",
             "ticks": "outside"
            },
            "colorscale": [
             [
              0,
              "#440154"
             ],
             [
              0.1111111111111111,
              "#482878"
             ],
             [
              0.2222222222222222,
              "#3e4989"
             ],
             [
              0.3333333333333333,
              "#31688e"
             ],
             [
              0.4444444444444444,
              "#26828e"
             ],
             [
              0.5555555555555556,
              "#1f9e89"
             ],
             [
              0.6666666666666666,
              "#35b779"
             ],
             [
              0.7777777777777778,
              "#6ece58"
             ],
             [
              0.8888888888888888,
              "#b5de2b"
             ],
             [
              1,
              "#fde725"
             ]
            ],
            "type": "histogram2dcontour"
           }
          ],
          "mesh3d": [
           {
            "colorbar": {
             "outlinewidth": 1,
             "tickcolor": "rgb(36,36,36)",
             "ticks": "outside"
            },
            "type": "mesh3d"
           }
          ],
          "parcoords": [
           {
            "line": {
             "colorbar": {
              "outlinewidth": 1,
              "tickcolor": "rgb(36,36,36)",
              "ticks": "outside"
             }
            },
            "type": "parcoords"
           }
          ],
          "pie": [
           {
            "automargin": true,
            "type": "pie"
           }
          ],
          "scatter": [
           {
            "fillpattern": {
             "fillmode": "overlay",
             "size": 10,
             "solidity": 0.2
            },
            "type": "scatter"
           }
          ],
          "scatter3d": [
           {
            "line": {
             "colorbar": {
              "outlinewidth": 1,
              "tickcolor": "rgb(36,36,36)",
              "ticks": "outside"
             }
            },
            "marker": {
             "colorbar": {
              "outlinewidth": 1,
              "tickcolor": "rgb(36,36,36)",
              "ticks": "outside"
             }
            },
            "type": "scatter3d"
           }
          ],
          "scattercarpet": [
           {
            "marker": {
             "colorbar": {
              "outlinewidth": 1,
              "tickcolor": "rgb(36,36,36)",
              "ticks": "outside"
             }
            },
            "type": "scattercarpet"
           }
          ],
          "scattergeo": [
           {
            "marker": {
             "colorbar": {
              "outlinewidth": 1,
              "tickcolor": "rgb(36,36,36)",
              "ticks": "outside"
             }
            },
            "type": "scattergeo"
           }
          ],
          "scattergl": [
           {
            "marker": {
             "colorbar": {
              "outlinewidth": 1,
              "tickcolor": "rgb(36,36,36)",
              "ticks": "outside"
             }
            },
            "type": "scattergl"
           }
          ],
          "scattermap": [
           {
            "marker": {
             "colorbar": {
              "outlinewidth": 1,
              "tickcolor": "rgb(36,36,36)",
              "ticks": "outside"
             }
            },
            "type": "scattermap"
           }
          ],
          "scattermapbox": [
           {
            "marker": {
             "colorbar": {
              "outlinewidth": 1,
              "tickcolor": "rgb(36,36,36)",
              "ticks": "outside"
             }
            },
            "type": "scattermapbox"
           }
          ],
          "scatterpolar": [
           {
            "marker": {
             "colorbar": {
              "outlinewidth": 1,
              "tickcolor": "rgb(36,36,36)",
              "ticks": "outside"
             }
            },
            "type": "scatterpolar"
           }
          ],
          "scatterpolargl": [
           {
            "marker": {
             "colorbar": {
              "outlinewidth": 1,
              "tickcolor": "rgb(36,36,36)",
              "ticks": "outside"
             }
            },
            "type": "scatterpolargl"
           }
          ],
          "scatterternary": [
           {
            "marker": {
             "colorbar": {
              "outlinewidth": 1,
              "tickcolor": "rgb(36,36,36)",
              "ticks": "outside"
             }
            },
            "type": "scatterternary"
           }
          ],
          "surface": [
           {
            "colorbar": {
             "outlinewidth": 1,
             "tickcolor": "rgb(36,36,36)",
             "ticks": "outside"
            },
            "colorscale": [
             [
              0,
              "#440154"
             ],
             [
              0.1111111111111111,
              "#482878"
             ],
             [
              0.2222222222222222,
              "#3e4989"
             ],
             [
              0.3333333333333333,
              "#31688e"
             ],
             [
              0.4444444444444444,
              "#26828e"
             ],
             [
              0.5555555555555556,
              "#1f9e89"
             ],
             [
              0.6666666666666666,
              "#35b779"
             ],
             [
              0.7777777777777778,
              "#6ece58"
             ],
             [
              0.8888888888888888,
              "#b5de2b"
             ],
             [
              1,
              "#fde725"
             ]
            ],
            "type": "surface"
           }
          ],
          "table": [
           {
            "cells": {
             "fill": {
              "color": "rgb(237,237,237)"
             },
             "line": {
              "color": "white"
             }
            },
            "header": {
             "fill": {
              "color": "rgb(217,217,217)"
             },
             "line": {
              "color": "white"
             }
            },
            "type": "table"
           }
          ]
         },
         "layout": {
          "annotationdefaults": {
           "arrowhead": 0,
           "arrowwidth": 1
          },
          "autotypenumbers": "strict",
          "coloraxis": {
           "colorbar": {
            "outlinewidth": 1,
            "tickcolor": "rgb(36,36,36)",
            "ticks": "outside"
           }
          },
          "colorscale": {
           "diverging": [
            [
             0,
             "rgb(103,0,31)"
            ],
            [
             0.1,
             "rgb(178,24,43)"
            ],
            [
             0.2,
             "rgb(214,96,77)"
            ],
            [
             0.3,
             "rgb(244,165,130)"
            ],
            [
             0.4,
             "rgb(253,219,199)"
            ],
            [
             0.5,
             "rgb(247,247,247)"
            ],
            [
             0.6,
             "rgb(209,229,240)"
            ],
            [
             0.7,
             "rgb(146,197,222)"
            ],
            [
             0.8,
             "rgb(67,147,195)"
            ],
            [
             0.9,
             "rgb(33,102,172)"
            ],
            [
             1,
             "rgb(5,48,97)"
            ]
           ],
           "sequential": [
            [
             0,
             "#440154"
            ],
            [
             0.1111111111111111,
             "#482878"
            ],
            [
             0.2222222222222222,
             "#3e4989"
            ],
            [
             0.3333333333333333,
             "#31688e"
            ],
            [
             0.4444444444444444,
             "#26828e"
            ],
            [
             0.5555555555555556,
             "#1f9e89"
            ],
            [
             0.6666666666666666,
             "#35b779"
            ],
            [
             0.7777777777777778,
             "#6ece58"
            ],
            [
             0.8888888888888888,
             "#b5de2b"
            ],
            [
             1,
             "#fde725"
            ]
           ],
           "sequentialminus": [
            [
             0,
             "#440154"
            ],
            [
             0.1111111111111111,
             "#482878"
            ],
            [
             0.2222222222222222,
             "#3e4989"
            ],
            [
             0.3333333333333333,
             "#31688e"
            ],
            [
             0.4444444444444444,
             "#26828e"
            ],
            [
             0.5555555555555556,
             "#1f9e89"
            ],
            [
             0.6666666666666666,
             "#35b779"
            ],
            [
             0.7777777777777778,
             "#6ece58"
            ],
            [
             0.8888888888888888,
             "#b5de2b"
            ],
            [
             1,
             "#fde725"
            ]
           ]
          },
          "colorway": [
           "#1F77B4",
           "#FF7F0E",
           "#2CA02C",
           "#D62728",
           "#9467BD",
           "#8C564B",
           "#E377C2",
           "#7F7F7F",
           "#BCBD22",
           "#17BECF"
          ],
          "font": {
           "color": "rgb(36,36,36)"
          },
          "geo": {
           "bgcolor": "white",
           "lakecolor": "white",
           "landcolor": "white",
           "showlakes": true,
           "showland": true,
           "subunitcolor": "white"
          },
          "hoverlabel": {
           "align": "left"
          },
          "hovermode": "closest",
          "mapbox": {
           "style": "light"
          },
          "paper_bgcolor": "white",
          "plot_bgcolor": "white",
          "polar": {
           "angularaxis": {
            "gridcolor": "rgb(232,232,232)",
            "linecolor": "rgb(36,36,36)",
            "showgrid": false,
            "showline": true,
            "ticks": "outside"
           },
           "bgcolor": "white",
           "radialaxis": {
            "gridcolor": "rgb(232,232,232)",
            "linecolor": "rgb(36,36,36)",
            "showgrid": false,
            "showline": true,
            "ticks": "outside"
           }
          },
          "scene": {
           "xaxis": {
            "backgroundcolor": "white",
            "gridcolor": "rgb(232,232,232)",
            "gridwidth": 2,
            "linecolor": "rgb(36,36,36)",
            "showbackground": true,
            "showgrid": false,
            "showline": true,
            "ticks": "outside",
            "zeroline": false,
            "zerolinecolor": "rgb(36,36,36)"
           },
           "yaxis": {
            "backgroundcolor": "white",
            "gridcolor": "rgb(232,232,232)",
            "gridwidth": 2,
            "linecolor": "rgb(36,36,36)",
            "showbackground": true,
            "showgrid": false,
            "showline": true,
            "ticks": "outside",
            "zeroline": false,
            "zerolinecolor": "rgb(36,36,36)"
           },
           "zaxis": {
            "backgroundcolor": "white",
            "gridcolor": "rgb(232,232,232)",
            "gridwidth": 2,
            "linecolor": "rgb(36,36,36)",
            "showbackground": true,
            "showgrid": false,
            "showline": true,
            "ticks": "outside",
            "zeroline": false,
            "zerolinecolor": "rgb(36,36,36)"
           }
          },
          "shapedefaults": {
           "fillcolor": "black",
           "line": {
            "width": 0
           },
           "opacity": 0.3
          },
          "ternary": {
           "aaxis": {
            "gridcolor": "rgb(232,232,232)",
            "linecolor": "rgb(36,36,36)",
            "showgrid": false,
            "showline": true,
            "ticks": "outside"
           },
           "baxis": {
            "gridcolor": "rgb(232,232,232)",
            "linecolor": "rgb(36,36,36)",
            "showgrid": false,
            "showline": true,
            "ticks": "outside"
           },
           "bgcolor": "white",
           "caxis": {
            "gridcolor": "rgb(232,232,232)",
            "linecolor": "rgb(36,36,36)",
            "showgrid": false,
            "showline": true,
            "ticks": "outside"
           }
          },
          "title": {
           "x": 0.05
          },
          "xaxis": {
           "automargin": true,
           "gridcolor": "rgb(232,232,232)",
           "linecolor": "rgb(36,36,36)",
           "showgrid": false,
           "showline": true,
           "ticks": "outside",
           "title": {
            "standoff": 15
           },
           "zeroline": false,
           "zerolinecolor": "rgb(36,36,36)"
          },
          "yaxis": {
           "automargin": true,
           "gridcolor": "rgb(232,232,232)",
           "linecolor": "rgb(36,36,36)",
           "showgrid": false,
           "showline": true,
           "ticks": "outside",
           "title": {
            "standoff": 15
           },
           "zeroline": false,
           "zerolinecolor": "rgb(36,36,36)"
          }
         }
        },
        "title": {
         "font": {
          "color": "Black",
          "size": 22
         },
         "text": "<b>Topics over Time</b>",
         "x": 0.4,
         "xanchor": "center",
         "y": 0.95,
         "yanchor": "top"
        },
        "width": 1250,
        "xaxis": {
         "showgrid": true
        },
        "yaxis": {
         "showgrid": true,
         "title": {
          "text": "Frequency"
         }
        }
       }
      }
     },
     "metadata": {},
     "output_type": "display_data"
    }
   ],
   "source": [
    "topics_over_time = topic_model.topics_over_time(flat_chunks, years)\n",
    "topic_model.visualize_topics_over_time(topics_over_time, top_n_topics=10)"
   ]
  },
  {
   "cell_type": "code",
   "execution_count": 10,
   "id": "3f599015-7617-4d2c-9227-b81bb2f169f5",
   "metadata": {},
   "outputs": [
    {
     "data": {
      "text/html": [
       "<div>\n",
       "<style scoped>\n",
       "    .dataframe tbody tr th:only-of-type {\n",
       "        vertical-align: middle;\n",
       "    }\n",
       "\n",
       "    .dataframe tbody tr th {\n",
       "        vertical-align: top;\n",
       "    }\n",
       "\n",
       "    .dataframe thead th {\n",
       "        text-align: right;\n",
       "    }\n",
       "</style>\n",
       "<table border=\"1\" class=\"dataframe\">\n",
       "  <thead>\n",
       "    <tr style=\"text-align: right;\">\n",
       "      <th></th>\n",
       "      <th>Topic</th>\n",
       "      <th>Count</th>\n",
       "      <th>Name</th>\n",
       "      <th>Representation</th>\n",
       "      <th>Representative_Docs</th>\n",
       "    </tr>\n",
       "  </thead>\n",
       "  <tbody>\n",
       "    <tr>\n",
       "      <th>0</th>\n",
       "      <td>-1</td>\n",
       "      <td>2163</td>\n",
       "      <td>-1_siemens_fiscal_financial_year</td>\n",
       "      <td>[siemens, fiscal, financial, year, million, in...</td>\n",
       "      <td>[The largest equity instrument allocated to le...</td>\n",
       "    </tr>\n",
       "    <tr>\n",
       "      <th>1</th>\n",
       "      <td>0</td>\n",
       "      <td>1192</td>\n",
       "      <td>0_financial_cash_million_income</td>\n",
       "      <td>[financial, cash, million, income, shares, sta...</td>\n",
       "      <td>[The change in Income taxes  resulted from hig...</td>\n",
       "    </tr>\n",
       "    <tr>\n",
       "      <th>2</th>\n",
       "      <td>1</td>\n",
       "      <td>936</td>\n",
       "      <td>1_sustainability_environmental_gri_emissions</td>\n",
       "      <td>[sustainability, environmental, gri, emissions...</td>\n",
       "      <td>[For consistency reasons, we generally apply g...</td>\n",
       "    </tr>\n",
       "    <tr>\n",
       "      <th>3</th>\n",
       "      <td>2</td>\n",
       "      <td>797</td>\n",
       "      <td>2_compliance_human_rights_risk</td>\n",
       "      <td>[compliance, human, rights, risk, business, ri...</td>\n",
       "      <td>[Global agreements \\nSiemens has been an activ...</td>\n",
       "    </tr>\n",
       "    <tr>\n",
       "      <th>4</th>\n",
       "      <td>3</td>\n",
       "      <td>563</td>\n",
       "      <td>3_board_supervisory_siemens_chairman</td>\n",
       "      <td>[board, supervisory, siemens, chairman, ag, co...</td>\n",
       "      <td>[Details regarding the work of the Supervisory...</td>\n",
       "    </tr>\n",
       "    <tr>\n",
       "      <th>5</th>\n",
       "      <td>4</td>\n",
       "      <td>408</td>\n",
       "      <td>4_people_diversity_learning_siemens</td>\n",
       "      <td>[people, diversity, learning, siemens, program...</td>\n",
       "      <td>[5.1 Working at Siemens5.2 \\nDiversity, Equity...</td>\n",
       "    </tr>\n",
       "    <tr>\n",
       "      <th>6</th>\n",
       "      <td>5</td>\n",
       "      <td>348</td>\n",
       "      <td>5_compensation_board_managing_benefit</td>\n",
       "      <td>[compensation, board, managing, benefit, pensi...</td>\n",
       "      <td>[10\\n  Prof. Dr. Russwurm left the Managing Bo...</td>\n",
       "    </tr>\n",
       "    <tr>\n",
       "      <th>7</th>\n",
       "      <td>6</td>\n",
       "      <td>300</td>\n",
       "      <td>6_growth_markets_year_revenue</td>\n",
       "      <td>[growth, markets, year, revenue, orders, fisca...</td>\n",
       "      <td>[C.9.1.2  MARKET DEVEL OPMENT\\nIn fiscal 2015,...</td>\n",
       "    </tr>\n",
       "    <tr>\n",
       "      <th>8</th>\n",
       "      <td>7</td>\n",
       "      <td>300</td>\n",
       "      <td>7_digital_solutions_customers_production</td>\n",
       "      <td>[digital, solutions, customers, production, bu...</td>\n",
       "      <td>[→Innovation and development cycles have \\nsho...</td>\n",
       "    </tr>\n",
       "    <tr>\n",
       "      <th>9</th>\n",
       "      <td>8</td>\n",
       "      <td>276</td>\n",
       "      <td>8_100_gmbh_siemens_spain</td>\n",
       "      <td>[100, gmbh, siemens, spain, limited, healthcar...</td>\n",
       "      <td>[10\\n Ex\\nemption pursuant to Section 264 (3) ...</td>\n",
       "    </tr>\n",
       "    <tr>\n",
       "      <th>10</th>\n",
       "      <td>9</td>\n",
       "      <td>167</td>\n",
       "      <td>9_safety_health_work_occupational</td>\n",
       "      <td>[safety, health, work, occupational, employees...</td>\n",
       "      <td>[→ Managers and employees can take advantage o...</td>\n",
       "    </tr>\n",
       "    <tr>\n",
       "      <th>11</th>\n",
       "      <td>10</td>\n",
       "      <td>156</td>\n",
       "      <td>10_cybersecurity_data_security_privacy</td>\n",
       "      <td>[cybersecurity, data, security, privacy, ai, p...</td>\n",
       "      <td>[Proactively dealing with threats, \\nincidents...</td>\n",
       "    </tr>\n",
       "    <tr>\n",
       "      <th>12</th>\n",
       "      <td>11</td>\n",
       "      <td>122</td>\n",
       "      <td>11_rate_currency_financial_foreign</td>\n",
       "      <td>[rate, currency, financial, foreign, fair, ins...</td>\n",
       "      <td>[The Company had interest rate swap contracts ...</td>\n",
       "    </tr>\n",
       "    <tr>\n",
       "      <th>13</th>\n",
       "      <td>12</td>\n",
       "      <td>117</td>\n",
       "      <td>12_arrangements_contractual_ol_circumstances</td>\n",
       "      <td>[arrangements, contractual, ol, circumstances,...</td>\n",
       "      <td>[2 \\n Contr\\nol due to rights to appoint, reas...</td>\n",
       "    </tr>\n",
       "    <tr>\n",
       "      <th>14</th>\n",
       "      <td>13</td>\n",
       "      <td>115</td>\n",
       "      <td>13_emption_264_immateriality_pursuant</td>\n",
       "      <td>[emption, 264, immateriality, pursuant, sectio...</td>\n",
       "      <td>[6 Signif\\nicant influence due to contractual ...</td>\n",
       "    </tr>\n",
       "    <tr>\n",
       "      <th>15</th>\n",
       "      <td>14</td>\n",
       "      <td>109</td>\n",
       "      <td>14_healthcare_medical_care_imaging</td>\n",
       "      <td>[healthcare, medical, care, imaging, diagnosti...</td>\n",
       "      <td>[Under the new organizational structure report...</td>\n",
       "    </tr>\n",
       "    <tr>\n",
       "      <th>16</th>\n",
       "      <td>15</td>\n",
       "      <td>107</td>\n",
       "      <td>15_power_gas_energy_division</td>\n",
       "      <td>[power, gas, energy, division, consumption, tu...</td>\n",
       "      <td>[A.1.1.2  BUSINES S DESCRIPTION\\nThe Power and...</td>\n",
       "    </tr>\n",
       "    <tr>\n",
       "      <th>17</th>\n",
       "      <td>16</td>\n",
       "      <td>95</td>\n",
       "      <td>16_employees_turnover_percentage_asia</td>\n",
       "      <td>[employees, turnover, percentage, asia, common...</td>\n",
       "      <td>[Siemens employee hires (in thousands) 1\\nFisc...</td>\n",
       "    </tr>\n",
       "    <tr>\n",
       "      <th>18</th>\n",
       "      <td>17</td>\n",
       "      <td>80</td>\n",
       "      <td>17_water_drinking_use_wastewater</td>\n",
       "      <td>[water, drinking, use, wastewater, risks, loca...</td>\n",
       "      <td>[OUR OWN ACTIVITIES \\nFor more information abo...</td>\n",
       "    </tr>\n",
       "    <tr>\n",
       "      <th>19</th>\n",
       "      <td>18</td>\n",
       "      <td>40</td>\n",
       "      <td>18_vienna_city_häupl_michael</td>\n",
       "      <td>[vienna, city, häupl, michael, transportation,...</td>\n",
       "      <td>[What initiatives would you like to launch in ...</td>\n",
       "    </tr>\n",
       "    <tr>\n",
       "      <th>20</th>\n",
       "      <td>19</td>\n",
       "      <td>39</td>\n",
       "      <td>19_000_500_140_dr</td>\n",
       "      <td>[000, 500, 140, dr, 333, 150, 280, 667, 100, m...</td>\n",
       "      <td>[The compensation shown in the following table...</td>\n",
       "    </tr>\n",
       "    <tr>\n",
       "      <th>21</th>\n",
       "      <td>20</td>\n",
       "      <td>34</td>\n",
       "      <td>20_ozone_waste_r11_tons</td>\n",
       "      <td>[ozone, waste, r11, tons, organic, metric, emi...</td>\n",
       "      <td>[Emissions of air pollutants\\nIn addition to t...</td>\n",
       "    </tr>\n",
       "    <tr>\n",
       "      <th>22</th>\n",
       "      <td>21</td>\n",
       "      <td>30</td>\n",
       "      <td>21_waste_storage_final_hazardous</td>\n",
       "      <td>[waste, storage, final, hazardous, hanau, faci...</td>\n",
       "      <td>[Warranties mainly relate to products sold. Or...</td>\n",
       "    </tr>\n",
       "    <tr>\n",
       "      <th>23</th>\n",
       "      <td>22</td>\n",
       "      <td>27</td>\n",
       "      <td>22_customer_score_customers_key</td>\n",
       "      <td>[customer, score, customers, key, satisfaction...</td>\n",
       "      <td>[To meet these challenges, Siemens strives to ...</td>\n",
       "    </tr>\n",
       "    <tr>\n",
       "      <th>24</th>\n",
       "      <td>23</td>\n",
       "      <td>25</td>\n",
       "      <td>23_comparison_solution_reference_installed</td>\n",
       "      <td>[comparison, solution, reference, installed, r...</td>\n",
       "      <td>[Direct comparison with a reference technology...</td>\n",
       "    </tr>\n",
       "    <tr>\n",
       "      <th>25</th>\n",
       "      <td>24</td>\n",
       "      <td>22</td>\n",
       "      <td>24_iur_rer__</td>\n",
       "      <td>[iur, rer, , , , , , , , ]</td>\n",
       "      <td>[rer, iur, iur]</td>\n",
       "    </tr>\n",
       "    <tr>\n",
       "      <th>26</th>\n",
       "      <td>25</td>\n",
       "      <td>16</td>\n",
       "      <td>25_315_par_para_</td>\n",
       "      <td>[315, par, para, , , , , , , ]</td>\n",
       "      <td>[4 and 315 par\\na, 4 and 315 par\\na, 4 and 315...</td>\n",
       "    </tr>\n",
       "    <tr>\n",
       "      <th>27</th>\n",
       "      <td>26</td>\n",
       "      <td>15</td>\n",
       "      <td>26_precisely_percentages_totals_add</td>\n",
       "      <td>[precisely, percentages, totals, add, absolute...</td>\n",
       "      <td>[Due to rounding, numbers presented throughout...</td>\n",
       "    </tr>\n",
       "    <tr>\n",
       "      <th>28</th>\n",
       "      <td>27</td>\n",
       "      <td>12</td>\n",
       "      <td>27_leases_sep_30_millions</td>\n",
       "      <td>[leases, sep, 30, millions, current, receivabl...</td>\n",
       "      <td>[Minimum future lease payments under operating...</td>\n",
       "    </tr>\n",
       "    <tr>\n",
       "      <th>29</th>\n",
       "      <td>28</td>\n",
       "      <td>11</td>\n",
       "      <td>28_shs_siemens_bargaining_gbk</td>\n",
       "      <td>[shs, siemens, bargaining, gbk, brightly, coll...</td>\n",
       "      <td>[1 Siemens without SHS, 2 Siemens without SHS\\...</td>\n",
       "    </tr>\n",
       "  </tbody>\n",
       "</table>\n",
       "</div>"
      ],
      "text/plain": [
       "    Topic  Count                                          Name  \\\n",
       "0      -1   2163              -1_siemens_fiscal_financial_year   \n",
       "1       0   1192               0_financial_cash_million_income   \n",
       "2       1    936  1_sustainability_environmental_gri_emissions   \n",
       "3       2    797                2_compliance_human_rights_risk   \n",
       "4       3    563          3_board_supervisory_siemens_chairman   \n",
       "5       4    408           4_people_diversity_learning_siemens   \n",
       "6       5    348         5_compensation_board_managing_benefit   \n",
       "7       6    300                 6_growth_markets_year_revenue   \n",
       "8       7    300      7_digital_solutions_customers_production   \n",
       "9       8    276                      8_100_gmbh_siemens_spain   \n",
       "10      9    167             9_safety_health_work_occupational   \n",
       "11     10    156        10_cybersecurity_data_security_privacy   \n",
       "12     11    122            11_rate_currency_financial_foreign   \n",
       "13     12    117  12_arrangements_contractual_ol_circumstances   \n",
       "14     13    115         13_emption_264_immateriality_pursuant   \n",
       "15     14    109            14_healthcare_medical_care_imaging   \n",
       "16     15    107                  15_power_gas_energy_division   \n",
       "17     16     95         16_employees_turnover_percentage_asia   \n",
       "18     17     80              17_water_drinking_use_wastewater   \n",
       "19     18     40                  18_vienna_city_häupl_michael   \n",
       "20     19     39                             19_000_500_140_dr   \n",
       "21     20     34                       20_ozone_waste_r11_tons   \n",
       "22     21     30              21_waste_storage_final_hazardous   \n",
       "23     22     27               22_customer_score_customers_key   \n",
       "24     23     25    23_comparison_solution_reference_installed   \n",
       "25     24     22                                  24_iur_rer__   \n",
       "26     25     16                              25_315_par_para_   \n",
       "27     26     15           26_precisely_percentages_totals_add   \n",
       "28     27     12                     27_leases_sep_30_millions   \n",
       "29     28     11                 28_shs_siemens_bargaining_gbk   \n",
       "\n",
       "                                       Representation  \\\n",
       "0   [siemens, fiscal, financial, year, million, in...   \n",
       "1   [financial, cash, million, income, shares, sta...   \n",
       "2   [sustainability, environmental, gri, emissions...   \n",
       "3   [compliance, human, rights, risk, business, ri...   \n",
       "4   [board, supervisory, siemens, chairman, ag, co...   \n",
       "5   [people, diversity, learning, siemens, program...   \n",
       "6   [compensation, board, managing, benefit, pensi...   \n",
       "7   [growth, markets, year, revenue, orders, fisca...   \n",
       "8   [digital, solutions, customers, production, bu...   \n",
       "9   [100, gmbh, siemens, spain, limited, healthcar...   \n",
       "10  [safety, health, work, occupational, employees...   \n",
       "11  [cybersecurity, data, security, privacy, ai, p...   \n",
       "12  [rate, currency, financial, foreign, fair, ins...   \n",
       "13  [arrangements, contractual, ol, circumstances,...   \n",
       "14  [emption, 264, immateriality, pursuant, sectio...   \n",
       "15  [healthcare, medical, care, imaging, diagnosti...   \n",
       "16  [power, gas, energy, division, consumption, tu...   \n",
       "17  [employees, turnover, percentage, asia, common...   \n",
       "18  [water, drinking, use, wastewater, risks, loca...   \n",
       "19  [vienna, city, häupl, michael, transportation,...   \n",
       "20  [000, 500, 140, dr, 333, 150, 280, 667, 100, m...   \n",
       "21  [ozone, waste, r11, tons, organic, metric, emi...   \n",
       "22  [waste, storage, final, hazardous, hanau, faci...   \n",
       "23  [customer, score, customers, key, satisfaction...   \n",
       "24  [comparison, solution, reference, installed, r...   \n",
       "25                         [iur, rer, , , , , , , , ]   \n",
       "26                     [315, par, para, , , , , , , ]   \n",
       "27  [precisely, percentages, totals, add, absolute...   \n",
       "28  [leases, sep, 30, millions, current, receivabl...   \n",
       "29  [shs, siemens, bargaining, gbk, brightly, coll...   \n",
       "\n",
       "                                  Representative_Docs  \n",
       "0   [The largest equity instrument allocated to le...  \n",
       "1   [The change in Income taxes  resulted from hig...  \n",
       "2   [For consistency reasons, we generally apply g...  \n",
       "3   [Global agreements \\nSiemens has been an activ...  \n",
       "4   [Details regarding the work of the Supervisory...  \n",
       "5   [5.1 Working at Siemens5.2 \\nDiversity, Equity...  \n",
       "6   [10\\n  Prof. Dr. Russwurm left the Managing Bo...  \n",
       "7   [C.9.1.2  MARKET DEVEL OPMENT\\nIn fiscal 2015,...  \n",
       "8   [→Innovation and development cycles have \\nsho...  \n",
       "9   [10\\n Ex\\nemption pursuant to Section 264 (3) ...  \n",
       "10  [→ Managers and employees can take advantage o...  \n",
       "11  [Proactively dealing with threats, \\nincidents...  \n",
       "12  [The Company had interest rate swap contracts ...  \n",
       "13  [2 \\n Contr\\nol due to rights to appoint, reas...  \n",
       "14  [6 Signif\\nicant influence due to contractual ...  \n",
       "15  [Under the new organizational structure report...  \n",
       "16  [A.1.1.2  BUSINES S DESCRIPTION\\nThe Power and...  \n",
       "17  [Siemens employee hires (in thousands) 1\\nFisc...  \n",
       "18  [OUR OWN ACTIVITIES \\nFor more information abo...  \n",
       "19  [What initiatives would you like to launch in ...  \n",
       "20  [The compensation shown in the following table...  \n",
       "21  [Emissions of air pollutants\\nIn addition to t...  \n",
       "22  [Warranties mainly relate to products sold. Or...  \n",
       "23  [To meet these challenges, Siemens strives to ...  \n",
       "24  [Direct comparison with a reference technology...  \n",
       "25                                    [rer, iur, iur]  \n",
       "26  [4 and 315 par\\na, 4 and 315 par\\na, 4 and 315...  \n",
       "27  [Due to rounding, numbers presented throughout...  \n",
       "28  [Minimum future lease payments under operating...  \n",
       "29  [1 Siemens without SHS, 2 Siemens without SHS\\...  "
      ]
     },
     "execution_count": 10,
     "metadata": {},
     "output_type": "execute_result"
    }
   ],
   "source": [
    "df_topic_info=topic_model.get_topic_info()\n",
    "df_topic_info"
   ]
  },
  {
   "cell_type": "code",
   "execution_count": 11,
   "id": "f47d8b95-f3bf-4f0e-90e3-5a052dd05466",
   "metadata": {},
   "outputs": [
    {
     "name": "stdout",
     "output_type": "stream",
     "text": [
      "We have a total of 8622 documents.\n",
      "2163 are outliers.\n",
      "About 25.09% are outliers\n"
     ]
    }
   ],
   "source": [
    "total=df_topic_info[\"Count\"].sum()\n",
    "outliers=df_topic_info[\"Count\"].iloc[0]\n",
    "percentage_outliers=(outliers/total)*100\n",
    "print(f\"We have a total of {total} documents.\\n{outliers} are outliers.\\nAbout {round(percentage_outliers,2)}% are outliers\")"
   ]
  },
  {
   "cell_type": "code",
   "execution_count": 12,
   "id": "2f94e09f-ef3a-4274-a9f9-36823fa87b2c",
   "metadata": {},
   "outputs": [],
   "source": [
    "df_document_info=topic_model.get_document_info(flat_chunks)"
   ]
  },
  {
   "cell_type": "code",
   "execution_count": 13,
   "id": "7f3efff5",
   "metadata": {},
   "outputs": [
    {
     "data": {
      "text/html": [
       "<div>\n",
       "<style scoped>\n",
       "    .dataframe tbody tr th:only-of-type {\n",
       "        vertical-align: middle;\n",
       "    }\n",
       "\n",
       "    .dataframe tbody tr th {\n",
       "        vertical-align: top;\n",
       "    }\n",
       "\n",
       "    .dataframe thead th {\n",
       "        text-align: right;\n",
       "    }\n",
       "</style>\n",
       "<table border=\"1\" class=\"dataframe\">\n",
       "  <thead>\n",
       "    <tr style=\"text-align: right;\">\n",
       "      <th></th>\n",
       "      <th>Document</th>\n",
       "      <th>Topic</th>\n",
       "      <th>Name</th>\n",
       "      <th>Representation</th>\n",
       "      <th>Representative_Docs</th>\n",
       "      <th>Top_n_words</th>\n",
       "      <th>Probability</th>\n",
       "      <th>Representative_document</th>\n",
       "      <th>topic</th>\n",
       "    </tr>\n",
       "  </thead>\n",
       "  <tbody>\n",
       "    <tr>\n",
       "      <th>0</th>\n",
       "      <td>Industrial productivity\\nIntelligent infrastru...</td>\n",
       "      <td>7</td>\n",
       "      <td>7_digital_solutions_customers_production</td>\n",
       "      <td>[digital, solutions, customers, production, bu...</td>\n",
       "      <td>[→Innovation and development cycles have \\nsho...</td>\n",
       "      <td>digital - solutions - customers - production -...</td>\n",
       "      <td>0.723011</td>\n",
       "      <td>False</td>\n",
       "      <td>7</td>\n",
       "    </tr>\n",
       "    <tr>\n",
       "      <th>1</th>\n",
       "      <td>WWW.SIEMENS.COM/AR/REPORT-INDUSTRYWelcome to S...</td>\n",
       "      <td>14</td>\n",
       "      <td>14_healthcare_medical_care_imaging</td>\n",
       "      <td>[healthcare, medical, care, imaging, diagnosti...</td>\n",
       "      <td>[Under the new organizational structure report...</td>\n",
       "      <td>healthcare - medical - care - imaging - diagno...</td>\n",
       "      <td>0.559207</td>\n",
       "      <td>False</td>\n",
       "      <td>14</td>\n",
       "    </tr>\n",
       "    <tr>\n",
       "      <th>2</th>\n",
       "      <td>N\\naresh Trehan, founder of “Medanta  –\\n \\nTh...</td>\n",
       "      <td>14</td>\n",
       "      <td>14_healthcare_medical_care_imaging</td>\n",
       "      <td>[healthcare, medical, care, imaging, diagnosti...</td>\n",
       "      <td>[Under the new organizational structure report...</td>\n",
       "      <td>healthcare - medical - care - imaging - diagno...</td>\n",
       "      <td>1.000000</td>\n",
       "      <td>False</td>\n",
       "      <td>14</td>\n",
       "    </tr>\n",
       "    <tr>\n",
       "      <th>3</th>\n",
       "      <td>WWW.SIEMENS.COM/AR/REPORT-HEALTHCARE\\nWhat mak...</td>\n",
       "      <td>18</td>\n",
       "      <td>18_vienna_city_häupl_michael</td>\n",
       "      <td>[vienna, city, häupl, michael, transportation,...</td>\n",
       "      <td>[What initiatives would you like to launch in ...</td>\n",
       "      <td>vienna - city - häupl - michael - transportati...</td>\n",
       "      <td>1.000000</td>\n",
       "      <td>False</td>\n",
       "      <td>18</td>\n",
       "    </tr>\n",
       "    <tr>\n",
       "      <th>5</th>\n",
       "      <td>WWW.SIEMENS.COM/AR/STRATEGYGurgaon\\nVienna4Gen...</td>\n",
       "      <td>15</td>\n",
       "      <td>15_power_gas_energy_division</td>\n",
       "      <td>[power, gas, energy, division, consumption, tu...</td>\n",
       "      <td>[A.1.1.2  BUSINES S DESCRIPTION\\nThe Power and...</td>\n",
       "      <td>power - gas - energy - division - consumption ...</td>\n",
       "      <td>1.000000</td>\n",
       "      <td>False</td>\n",
       "      <td>15</td>\n",
       "    </tr>\n",
       "    <tr>\n",
       "      <th>...</th>\n",
       "      <td>...</td>\n",
       "      <td>...</td>\n",
       "      <td>...</td>\n",
       "      <td>...</td>\n",
       "      <td>...</td>\n",
       "      <td>...</td>\n",
       "      <td>...</td>\n",
       "      <td>...</td>\n",
       "      <td>...</td>\n",
       "    </tr>\n",
       "    <tr>\n",
       "      <th>8617</th>\n",
       "      <td>In a limited assurance engagement the assuranc...</td>\n",
       "      <td>2</td>\n",
       "      <td>2_compliance_human_rights_risk</td>\n",
       "      <td>[compliance, human, rights, risk, business, ri...</td>\n",
       "      <td>[Global agreements \\nSiemens has been an activ...</td>\n",
       "      <td>compliance - human - rights - risk - business ...</td>\n",
       "      <td>0.759931</td>\n",
       "      <td>False</td>\n",
       "      <td>2</td>\n",
       "    </tr>\n",
       "    <tr>\n",
       "      <th>8618</th>\n",
       "      <td>Within the scope of our assurance engagement, ...</td>\n",
       "      <td>2</td>\n",
       "      <td>2_compliance_human_rights_risk</td>\n",
       "      <td>[compliance, human, rights, risk, business, ri...</td>\n",
       "      <td>[Global agreements \\nSiemens has been an activ...</td>\n",
       "      <td>compliance - human - rights - risk - business ...</td>\n",
       "      <td>0.513443</td>\n",
       "      <td>False</td>\n",
       "      <td>2</td>\n",
       "    </tr>\n",
       "    <tr>\n",
       "      <th>8619</th>\n",
       "      <td>Intended Use of the Assurance Report\\nWe issue...</td>\n",
       "      <td>2</td>\n",
       "      <td>2_compliance_human_rights_risk</td>\n",
       "      <td>[compliance, human, rights, risk, business, ri...</td>\n",
       "      <td>[Global agreements \\nSiemens has been an activ...</td>\n",
       "      <td>compliance - human - rights - risk - business ...</td>\n",
       "      <td>0.908644</td>\n",
       "      <td>False</td>\n",
       "      <td>2</td>\n",
       "    </tr>\n",
       "    <tr>\n",
       "      <th>8620</th>\n",
       "      <td>Munich, 2 December 2024\\nPricewaterhouseCooper...</td>\n",
       "      <td>2</td>\n",
       "      <td>2_compliance_human_rights_risk</td>\n",
       "      <td>[compliance, human, rights, risk, business, ri...</td>\n",
       "      <td>[Global agreements \\nSiemens has been an activ...</td>\n",
       "      <td>compliance - human - rights - risk - business ...</td>\n",
       "      <td>1.000000</td>\n",
       "      <td>False</td>\n",
       "      <td>2</td>\n",
       "    </tr>\n",
       "    <tr>\n",
       "      <th>8621</th>\n",
       "      <td>SIEMENS SUSTAINABILITY REPORT 2024 1687.10 Not...</td>\n",
       "      <td>1</td>\n",
       "      <td>1_sustainability_environmental_gri_emissions</td>\n",
       "      <td>[sustainability, environmental, gri, emissions...</td>\n",
       "      <td>[For consistency reasons, we generally apply g...</td>\n",
       "      <td>sustainability - environmental - gri - emissio...</td>\n",
       "      <td>1.000000</td>\n",
       "      <td>False</td>\n",
       "      <td>1</td>\n",
       "    </tr>\n",
       "  </tbody>\n",
       "</table>\n",
       "<p>6459 rows × 9 columns</p>\n",
       "</div>"
      ],
      "text/plain": [
       "                                               Document  Topic  \\\n",
       "0     Industrial productivity\\nIntelligent infrastru...      7   \n",
       "1     WWW.SIEMENS.COM/AR/REPORT-INDUSTRYWelcome to S...     14   \n",
       "2     N\\naresh Trehan, founder of “Medanta  –\\n \\nTh...     14   \n",
       "3     WWW.SIEMENS.COM/AR/REPORT-HEALTHCARE\\nWhat mak...     18   \n",
       "5     WWW.SIEMENS.COM/AR/STRATEGYGurgaon\\nVienna4Gen...     15   \n",
       "...                                                 ...    ...   \n",
       "8617  In a limited assurance engagement the assuranc...      2   \n",
       "8618  Within the scope of our assurance engagement, ...      2   \n",
       "8619  Intended Use of the Assurance Report\\nWe issue...      2   \n",
       "8620  Munich, 2 December 2024\\nPricewaterhouseCooper...      2   \n",
       "8621  SIEMENS SUSTAINABILITY REPORT 2024 1687.10 Not...      1   \n",
       "\n",
       "                                              Name  \\\n",
       "0         7_digital_solutions_customers_production   \n",
       "1               14_healthcare_medical_care_imaging   \n",
       "2               14_healthcare_medical_care_imaging   \n",
       "3                     18_vienna_city_häupl_michael   \n",
       "5                     15_power_gas_energy_division   \n",
       "...                                            ...   \n",
       "8617                2_compliance_human_rights_risk   \n",
       "8618                2_compliance_human_rights_risk   \n",
       "8619                2_compliance_human_rights_risk   \n",
       "8620                2_compliance_human_rights_risk   \n",
       "8621  1_sustainability_environmental_gri_emissions   \n",
       "\n",
       "                                         Representation  \\\n",
       "0     [digital, solutions, customers, production, bu...   \n",
       "1     [healthcare, medical, care, imaging, diagnosti...   \n",
       "2     [healthcare, medical, care, imaging, diagnosti...   \n",
       "3     [vienna, city, häupl, michael, transportation,...   \n",
       "5     [power, gas, energy, division, consumption, tu...   \n",
       "...                                                 ...   \n",
       "8617  [compliance, human, rights, risk, business, ri...   \n",
       "8618  [compliance, human, rights, risk, business, ri...   \n",
       "8619  [compliance, human, rights, risk, business, ri...   \n",
       "8620  [compliance, human, rights, risk, business, ri...   \n",
       "8621  [sustainability, environmental, gri, emissions...   \n",
       "\n",
       "                                    Representative_Docs  \\\n",
       "0     [→Innovation and development cycles have \\nsho...   \n",
       "1     [Under the new organizational structure report...   \n",
       "2     [Under the new organizational structure report...   \n",
       "3     [What initiatives would you like to launch in ...   \n",
       "5     [A.1.1.2  BUSINES S DESCRIPTION\\nThe Power and...   \n",
       "...                                                 ...   \n",
       "8617  [Global agreements \\nSiemens has been an activ...   \n",
       "8618  [Global agreements \\nSiemens has been an activ...   \n",
       "8619  [Global agreements \\nSiemens has been an activ...   \n",
       "8620  [Global agreements \\nSiemens has been an activ...   \n",
       "8621  [For consistency reasons, we generally apply g...   \n",
       "\n",
       "                                            Top_n_words  Probability  \\\n",
       "0     digital - solutions - customers - production -...     0.723011   \n",
       "1     healthcare - medical - care - imaging - diagno...     0.559207   \n",
       "2     healthcare - medical - care - imaging - diagno...     1.000000   \n",
       "3     vienna - city - häupl - michael - transportati...     1.000000   \n",
       "5     power - gas - energy - division - consumption ...     1.000000   \n",
       "...                                                 ...          ...   \n",
       "8617  compliance - human - rights - risk - business ...     0.759931   \n",
       "8618  compliance - human - rights - risk - business ...     0.513443   \n",
       "8619  compliance - human - rights - risk - business ...     0.908644   \n",
       "8620  compliance - human - rights - risk - business ...     1.000000   \n",
       "8621  sustainability - environmental - gri - emissio...     1.000000   \n",
       "\n",
       "      Representative_document  topic  \n",
       "0                       False      7  \n",
       "1                       False     14  \n",
       "2                       False     14  \n",
       "3                       False     18  \n",
       "5                       False     15  \n",
       "...                       ...    ...  \n",
       "8617                    False      2  \n",
       "8618                    False      2  \n",
       "8619                    False      2  \n",
       "8620                    False      2  \n",
       "8621                    False      1  \n",
       "\n",
       "[6459 rows x 9 columns]"
      ]
     },
     "execution_count": 13,
     "metadata": {},
     "output_type": "execute_result"
    }
   ],
   "source": [
    "#Removed the outliers\n",
    "df_document_info[\"topic\"] = topics  # Add the topic assignments to the DataFrame\n",
    "df_clean = df_document_info[df_document_info[\"topic\"] != -1]  # Keep only documents with valid topics\n",
    "df_clean"
   ]
  },
  {
   "cell_type": "code",
   "execution_count": 14,
   "id": "a6166a2c-5366-482c-beef-522780dfc3ba",
   "metadata": {},
   "outputs": [],
   "source": [
    "def concatenate_documents_by_topic(df: pd.DataFrame, n_docs: int = 20) -> pd.DataFrame:\n",
    "    \"\"\"\n",
    "    Groups the DataFrame by 'Topic', and for each topic concatenates up to `n_docs`\n",
    "    documents into a single string like: \"Document 1: ... Document 2: ...\".\n",
    "\n",
    "    Parameters:\n",
    "        df (pd.DataFrame): DataFrame with 'Topic' and 'Document' columns.\n",
    "        n_docs (int): Number of documents to include per topic.\n",
    "\n",
    "    Returns:\n",
    "        pd.DataFrame: A DataFrame with columns ['Topic', 'ConcatenatedDocuments'].\n",
    "    \"\"\"\n",
    "    \n",
    "    result = []\n",
    "\n",
    "    for topic, group in df.groupby(\"Topic\"):\n",
    "        docs = group[\"Document\"].head(n_docs).tolist()\n",
    "        concatenated = \"\\n\\n\".join([f\"TextSample {i+1}: {doc}\" for i, doc in enumerate(docs)])\n",
    "        result.append({\"Topic\": topic, \"ConcatenatedDocuments\": concatenated})\n",
    "\n",
    "    return pd.DataFrame(result)"
   ]
  },
  {
   "cell_type": "code",
   "execution_count": 15,
   "id": "483c7fda-b340-46ae-8fd4-e364ddd4dd3c",
   "metadata": {},
   "outputs": [
    {
     "name": "stdout",
     "output_type": "stream",
     "text": [
      "    Topic                              ConcatenatedDocuments\n",
      "0       0  TextSample 1: Revenue growth  \\nThe most impor...\n",
      "1       1  TextSample 1: Is Siemens following a separate ...\n",
      "2       2  TextSample 1: Empower our diverse and \\nengage...\n",
      "3       3  TextSample 1: Ralf P\\n. Thomas a full member o...\n",
      "4       4  TextSample 1: I’m aware that you, our sharehol...\n",
      "5       5  TextSample 1: At our meeting on November 7, 20...\n",
      "6       6  TextSample 1: 2 Average number of employees in...\n",
      "7       7  TextSample 1: Industrial productivity\\nIntelli...\n",
      "8       8  TextSample 1: 10\\n Ex\\nemption pursuant to Sec...\n",
      "9       9  TextSample 1: Corpor\\nate  Go\\nvernance  155 C...\n",
      "10     10  TextSample 1: B.3.7 Transfer of responsibility...\n",
      "11     11  TextSample 1: SFS’ business is geared to the S...\n",
      "12     12  TextSample 1: 2\\n  Includes los\\ns of variable...\n",
      "13     13  TextSample 1: 9\\n Ex\\nemption pursuant to Sect...\n",
      "14     14  TextSample 1: WWW.SIEMENS.COM/AR/REPORT-INDUST...\n",
      "15     15  TextSample 1: WWW.SIEMENS.COM/AR/STRATEGYGurga...\n",
      "16     16  TextSample 1: 6 Continuing and discontinued op...\n",
      "17     17  TextSample 1: Recycling (in %, including const...\n",
      "18     18  TextSample 1: WWW.SIEMENS.COM/AR/REPORT-HEALTH...\n",
      "19     19  TextSample 1: 2\\n –\\n The beach and the countr...\n",
      "20     20  TextSample 1: Atmospheric pollutant emissions ...\n",
      "21     21  TextSample 1: Other – Siemens is subject to as...\n",
      "22     22  TextSample 1: Be a partner of choice for our c...\n",
      "23     23  TextSample 1: DETERMINING THE REFERENCE SOLUTI...\n",
      "24     24  TextSample 1: iur\\n\\nTextSample 2: iur\\n\\nText...\n",
      "25     25  TextSample 1: 4 and 315 par\\na\\n\\nTextSample 2...\n",
      "26     26  TextSample 1: Combined \\n Management Report Du...\n",
      "27     27  TextSample 1: In fiscal 2013 and 2012, governm...\n",
      "28     28  TextSample 1: 3 Siemens without SHS\\n\\nTextSam...\n"
     ]
    }
   ],
   "source": [
    "df_concatenated_docs=concatenate_documents_by_topic(df_clean)\n",
    "print(df_concatenated_docs)"
   ]
  },
  {
   "cell_type": "code",
   "execution_count": 16,
   "id": "e038d044-6f7e-4698-9183-fb53e3890e54",
   "metadata": {},
   "outputs": [
    {
     "data": {
      "text/html": [
       "<div>\n",
       "<style scoped>\n",
       "    .dataframe tbody tr th:only-of-type {\n",
       "        vertical-align: middle;\n",
       "    }\n",
       "\n",
       "    .dataframe tbody tr th {\n",
       "        vertical-align: top;\n",
       "    }\n",
       "\n",
       "    .dataframe thead th {\n",
       "        text-align: right;\n",
       "    }\n",
       "</style>\n",
       "<table border=\"1\" class=\"dataframe\">\n",
       "  <thead>\n",
       "    <tr style=\"text-align: right;\">\n",
       "      <th></th>\n",
       "      <th>Topic</th>\n",
       "      <th>ConcatenatedDocuments</th>\n",
       "      <th>Representation</th>\n",
       "    </tr>\n",
       "  </thead>\n",
       "  <tbody>\n",
       "    <tr>\n",
       "      <th>0</th>\n",
       "      <td>0</td>\n",
       "      <td>TextSample 1: Revenue growth  \\nThe most impor...</td>\n",
       "      <td>[financial, cash, million, income, shares, sta...</td>\n",
       "    </tr>\n",
       "    <tr>\n",
       "      <th>1</th>\n",
       "      <td>1</td>\n",
       "      <td>TextSample 1: Is Siemens following a separate ...</td>\n",
       "      <td>[sustainability, environmental, gri, emissions...</td>\n",
       "    </tr>\n",
       "    <tr>\n",
       "      <th>2</th>\n",
       "      <td>2</td>\n",
       "      <td>TextSample 1: Empower our diverse and \\nengage...</td>\n",
       "      <td>[compliance, human, rights, risk, business, ri...</td>\n",
       "    </tr>\n",
       "    <tr>\n",
       "      <th>3</th>\n",
       "      <td>3</td>\n",
       "      <td>TextSample 1: Ralf P\\n. Thomas a full member o...</td>\n",
       "      <td>[board, supervisory, siemens, chairman, ag, co...</td>\n",
       "    </tr>\n",
       "    <tr>\n",
       "      <th>4</th>\n",
       "      <td>4</td>\n",
       "      <td>TextSample 1: I’m aware that you, our sharehol...</td>\n",
       "      <td>[people, diversity, learning, siemens, program...</td>\n",
       "    </tr>\n",
       "    <tr>\n",
       "      <th>5</th>\n",
       "      <td>5</td>\n",
       "      <td>TextSample 1: At our meeting on November 7, 20...</td>\n",
       "      <td>[compensation, board, managing, benefit, pensi...</td>\n",
       "    </tr>\n",
       "    <tr>\n",
       "      <th>6</th>\n",
       "      <td>6</td>\n",
       "      <td>TextSample 1: 2 Average number of employees in...</td>\n",
       "      <td>[growth, markets, year, revenue, orders, fisca...</td>\n",
       "    </tr>\n",
       "    <tr>\n",
       "      <th>7</th>\n",
       "      <td>7</td>\n",
       "      <td>TextSample 1: Industrial productivity\\nIntelli...</td>\n",
       "      <td>[digital, solutions, customers, production, bu...</td>\n",
       "    </tr>\n",
       "    <tr>\n",
       "      <th>8</th>\n",
       "      <td>8</td>\n",
       "      <td>TextSample 1: 10\\n Ex\\nemption pursuant to Sec...</td>\n",
       "      <td>[100, gmbh, siemens, spain, limited, healthcar...</td>\n",
       "    </tr>\n",
       "    <tr>\n",
       "      <th>9</th>\n",
       "      <td>9</td>\n",
       "      <td>TextSample 1: Corpor\\nate  Go\\nvernance  155 C...</td>\n",
       "      <td>[safety, health, work, occupational, employees...</td>\n",
       "    </tr>\n",
       "    <tr>\n",
       "      <th>10</th>\n",
       "      <td>10</td>\n",
       "      <td>TextSample 1: B.3.7 Transfer of responsibility...</td>\n",
       "      <td>[cybersecurity, data, security, privacy, ai, p...</td>\n",
       "    </tr>\n",
       "    <tr>\n",
       "      <th>11</th>\n",
       "      <td>11</td>\n",
       "      <td>TextSample 1: SFS’ business is geared to the S...</td>\n",
       "      <td>[rate, currency, financial, foreign, fair, ins...</td>\n",
       "    </tr>\n",
       "    <tr>\n",
       "      <th>12</th>\n",
       "      <td>12</td>\n",
       "      <td>TextSample 1: 2\\n  Includes los\\ns of variable...</td>\n",
       "      <td>[arrangements, contractual, ol, circumstances,...</td>\n",
       "    </tr>\n",
       "    <tr>\n",
       "      <th>13</th>\n",
       "      <td>13</td>\n",
       "      <td>TextSample 1: 9\\n Ex\\nemption pursuant to Sect...</td>\n",
       "      <td>[emption, 264, immateriality, pursuant, sectio...</td>\n",
       "    </tr>\n",
       "    <tr>\n",
       "      <th>14</th>\n",
       "      <td>14</td>\n",
       "      <td>TextSample 1: WWW.SIEMENS.COM/AR/REPORT-INDUST...</td>\n",
       "      <td>[healthcare, medical, care, imaging, diagnosti...</td>\n",
       "    </tr>\n",
       "    <tr>\n",
       "      <th>15</th>\n",
       "      <td>15</td>\n",
       "      <td>TextSample 1: WWW.SIEMENS.COM/AR/STRATEGYGurga...</td>\n",
       "      <td>[power, gas, energy, division, consumption, tu...</td>\n",
       "    </tr>\n",
       "    <tr>\n",
       "      <th>16</th>\n",
       "      <td>16</td>\n",
       "      <td>TextSample 1: 6 Continuing and discontinued op...</td>\n",
       "      <td>[employees, turnover, percentage, asia, common...</td>\n",
       "    </tr>\n",
       "    <tr>\n",
       "      <th>17</th>\n",
       "      <td>17</td>\n",
       "      <td>TextSample 1: Recycling (in %, including const...</td>\n",
       "      <td>[water, drinking, use, wastewater, risks, loca...</td>\n",
       "    </tr>\n",
       "    <tr>\n",
       "      <th>18</th>\n",
       "      <td>18</td>\n",
       "      <td>TextSample 1: WWW.SIEMENS.COM/AR/REPORT-HEALTH...</td>\n",
       "      <td>[vienna, city, häupl, michael, transportation,...</td>\n",
       "    </tr>\n",
       "    <tr>\n",
       "      <th>19</th>\n",
       "      <td>19</td>\n",
       "      <td>TextSample 1: 2\\n –\\n The beach and the countr...</td>\n",
       "      <td>[000, 500, 140, dr, 333, 150, 280, 667, 100, m...</td>\n",
       "    </tr>\n",
       "    <tr>\n",
       "      <th>20</th>\n",
       "      <td>20</td>\n",
       "      <td>TextSample 1: Atmospheric pollutant emissions ...</td>\n",
       "      <td>[ozone, waste, r11, tons, organic, metric, emi...</td>\n",
       "    </tr>\n",
       "    <tr>\n",
       "      <th>21</th>\n",
       "      <td>21</td>\n",
       "      <td>TextSample 1: Other – Siemens is subject to as...</td>\n",
       "      <td>[waste, storage, final, hazardous, hanau, faci...</td>\n",
       "    </tr>\n",
       "    <tr>\n",
       "      <th>22</th>\n",
       "      <td>22</td>\n",
       "      <td>TextSample 1: Be a partner of choice for our c...</td>\n",
       "      <td>[customer, score, customers, key, satisfaction...</td>\n",
       "    </tr>\n",
       "    <tr>\n",
       "      <th>23</th>\n",
       "      <td>23</td>\n",
       "      <td>TextSample 1: DETERMINING THE REFERENCE SOLUTI...</td>\n",
       "      <td>[comparison, solution, reference, installed, r...</td>\n",
       "    </tr>\n",
       "    <tr>\n",
       "      <th>24</th>\n",
       "      <td>24</td>\n",
       "      <td>TextSample 1: iur\\n\\nTextSample 2: iur\\n\\nText...</td>\n",
       "      <td>[iur, rer, , , , , , , , ]</td>\n",
       "    </tr>\n",
       "    <tr>\n",
       "      <th>25</th>\n",
       "      <td>25</td>\n",
       "      <td>TextSample 1: 4 and 315 par\\na\\n\\nTextSample 2...</td>\n",
       "      <td>[315, par, para, , , , , , , ]</td>\n",
       "    </tr>\n",
       "    <tr>\n",
       "      <th>26</th>\n",
       "      <td>26</td>\n",
       "      <td>TextSample 1: Combined \\n Management Report Du...</td>\n",
       "      <td>[precisely, percentages, totals, add, absolute...</td>\n",
       "    </tr>\n",
       "    <tr>\n",
       "      <th>27</th>\n",
       "      <td>27</td>\n",
       "      <td>TextSample 1: In fiscal 2013 and 2012, governm...</td>\n",
       "      <td>[leases, sep, 30, millions, current, receivabl...</td>\n",
       "    </tr>\n",
       "    <tr>\n",
       "      <th>28</th>\n",
       "      <td>28</td>\n",
       "      <td>TextSample 1: 3 Siemens without SHS\\n\\nTextSam...</td>\n",
       "      <td>[shs, siemens, bargaining, gbk, brightly, coll...</td>\n",
       "    </tr>\n",
       "  </tbody>\n",
       "</table>\n",
       "</div>"
      ],
      "text/plain": [
       "    Topic                              ConcatenatedDocuments  \\\n",
       "0       0  TextSample 1: Revenue growth  \\nThe most impor...   \n",
       "1       1  TextSample 1: Is Siemens following a separate ...   \n",
       "2       2  TextSample 1: Empower our diverse and \\nengage...   \n",
       "3       3  TextSample 1: Ralf P\\n. Thomas a full member o...   \n",
       "4       4  TextSample 1: I’m aware that you, our sharehol...   \n",
       "5       5  TextSample 1: At our meeting on November 7, 20...   \n",
       "6       6  TextSample 1: 2 Average number of employees in...   \n",
       "7       7  TextSample 1: Industrial productivity\\nIntelli...   \n",
       "8       8  TextSample 1: 10\\n Ex\\nemption pursuant to Sec...   \n",
       "9       9  TextSample 1: Corpor\\nate  Go\\nvernance  155 C...   \n",
       "10     10  TextSample 1: B.3.7 Transfer of responsibility...   \n",
       "11     11  TextSample 1: SFS’ business is geared to the S...   \n",
       "12     12  TextSample 1: 2\\n  Includes los\\ns of variable...   \n",
       "13     13  TextSample 1: 9\\n Ex\\nemption pursuant to Sect...   \n",
       "14     14  TextSample 1: WWW.SIEMENS.COM/AR/REPORT-INDUST...   \n",
       "15     15  TextSample 1: WWW.SIEMENS.COM/AR/STRATEGYGurga...   \n",
       "16     16  TextSample 1: 6 Continuing and discontinued op...   \n",
       "17     17  TextSample 1: Recycling (in %, including const...   \n",
       "18     18  TextSample 1: WWW.SIEMENS.COM/AR/REPORT-HEALTH...   \n",
       "19     19  TextSample 1: 2\\n –\\n The beach and the countr...   \n",
       "20     20  TextSample 1: Atmospheric pollutant emissions ...   \n",
       "21     21  TextSample 1: Other – Siemens is subject to as...   \n",
       "22     22  TextSample 1: Be a partner of choice for our c...   \n",
       "23     23  TextSample 1: DETERMINING THE REFERENCE SOLUTI...   \n",
       "24     24  TextSample 1: iur\\n\\nTextSample 2: iur\\n\\nText...   \n",
       "25     25  TextSample 1: 4 and 315 par\\na\\n\\nTextSample 2...   \n",
       "26     26  TextSample 1: Combined \\n Management Report Du...   \n",
       "27     27  TextSample 1: In fiscal 2013 and 2012, governm...   \n",
       "28     28  TextSample 1: 3 Siemens without SHS\\n\\nTextSam...   \n",
       "\n",
       "                                       Representation  \n",
       "0   [financial, cash, million, income, shares, sta...  \n",
       "1   [sustainability, environmental, gri, emissions...  \n",
       "2   [compliance, human, rights, risk, business, ri...  \n",
       "3   [board, supervisory, siemens, chairman, ag, co...  \n",
       "4   [people, diversity, learning, siemens, program...  \n",
       "5   [compensation, board, managing, benefit, pensi...  \n",
       "6   [growth, markets, year, revenue, orders, fisca...  \n",
       "7   [digital, solutions, customers, production, bu...  \n",
       "8   [100, gmbh, siemens, spain, limited, healthcar...  \n",
       "9   [safety, health, work, occupational, employees...  \n",
       "10  [cybersecurity, data, security, privacy, ai, p...  \n",
       "11  [rate, currency, financial, foreign, fair, ins...  \n",
       "12  [arrangements, contractual, ol, circumstances,...  \n",
       "13  [emption, 264, immateriality, pursuant, sectio...  \n",
       "14  [healthcare, medical, care, imaging, diagnosti...  \n",
       "15  [power, gas, energy, division, consumption, tu...  \n",
       "16  [employees, turnover, percentage, asia, common...  \n",
       "17  [water, drinking, use, wastewater, risks, loca...  \n",
       "18  [vienna, city, häupl, michael, transportation,...  \n",
       "19  [000, 500, 140, dr, 333, 150, 280, 667, 100, m...  \n",
       "20  [ozone, waste, r11, tons, organic, metric, emi...  \n",
       "21  [waste, storage, final, hazardous, hanau, faci...  \n",
       "22  [customer, score, customers, key, satisfaction...  \n",
       "23  [comparison, solution, reference, installed, r...  \n",
       "24                         [iur, rer, , , , , , , , ]  \n",
       "25                     [315, par, para, , , , , , , ]  \n",
       "26  [precisely, percentages, totals, add, absolute...  \n",
       "27  [leases, sep, 30, millions, current, receivabl...  \n",
       "28  [shs, siemens, bargaining, gbk, brightly, coll...  "
      ]
     },
     "execution_count": 16,
     "metadata": {},
     "output_type": "execute_result"
    }
   ],
   "source": [
    "df_concatenated_docs_merge=pd.merge(df_concatenated_docs,df_topic_info[[\"Topic\",\"Representation\"]], on='Topic', how=\"left\")\n",
    "df_concatenated_docs_merge"
   ]
  },
  {
   "cell_type": "code",
   "execution_count": 17,
   "id": "f6509cac",
   "metadata": {},
   "outputs": [],
   "source": [
    "open_ai_key=os.getenv(\"OPENAI_API_KEY\")\n",
    "import openai\n",
    "import json"
   ]
  },
  {
   "cell_type": "code",
   "execution_count": 19,
   "id": "175b73a7-307a-4687-b200-4136e043d742",
   "metadata": {},
   "outputs": [
    {
     "name": "stdout",
     "output_type": "stream",
     "text": [
      "[\n",
      "  {\n",
      "    \"topic_id\": 0,\n",
      "    \"summary_data\": {\n",
      "      \"is_meaningful_topic\": false,\n",
      "      \"topic_label\": \"Financial and Shareholder Reporting\",\n",
      "      \"summary\": \"This cluster mainly contains financial reporting data such as revenue, earnings, EBITDA, share statistics, dividends, and capital structure, with no distinct sustainability theme or trend.\",\n",
      "      \"primary_sdg\": null,\n",
      "      \"is_generic\": true,\n",
      "      \"justification\": \"The text samples are predominantly excerpts of financial statements, shareholder letters, and financial metrics. They focus on profitability, capital efficiency, revenue growth, dividends, and key performance indicators. These contents represent generic financial disclosure rather than sustainability-related topics, and thus do not map cleanly to any Sustainable Development Goal (SDG).\",\n",
      "      \"confidence_score\": 0.95\n",
      "    }\n",
      "  },\n",
      "  {\n",
      "    \"topic_id\": 1,\n",
      "    \"summary_data\": {\n",
      "      \"is_meaningful_topic\": true,\n",
      "      \"topic_label\": \"Siemens Environmental Portfolio and Sustainability\",\n",
      "      \"summary\": \"This topic cluster centers on Siemens AG's integration of sustainability into its corporate strategy, with a strong focus on the Environmental Portfolio that drives carbon emissions reduction, energy efficiency, and environmental technologies. The cluster highlights governance, reporting standards, financial impacts, and innovation in sustainable products and services aimed at achieving climate and environmental goals.\",\n",
      "      \"primary_sdg\": {\n",
      "        \"number\": \"13\",\n",
      "        \"name\": \"Climate Action\"\n",
      "      },\n",
      "      \"is_generic\": false,\n",
      "      \"justification\": \"The cluster consistently references Siemens' Environmental Portfolio and its measurable impact on reducing carbon dioxide emissions, energy efficiency improvements, and alignment with climate change mitigation. It also includes details on governance structures, sustainability reporting principles, and strategic innovation focused on environmental technologies. This specificity and the centrality of climate action link this topic to SDG 13. While the cluster includes some administrative content, the overall emphasis is thematic and substantive rather than generic or purely procedural.\",\n",
      "      \"confidence_score\": 0.95\n",
      "    }\n",
      "  },\n",
      "  {\n",
      "    \"topic_id\": 2,\n",
      "    \"summary_data\": {\n",
      "      \"is_meaningful_topic\": true,\n",
      "      \"topic_label\": \"Corporate Compliance and Ethics\",\n",
      "      \"summary\": \"This cluster focuses on Siemens\\u2019 comprehensive compliance framework, emphasizing ethical business conduct, anti-corruption measures, risk assessments, supplier standards, and ongoing training to uphold corporate integrity worldwide.\",\n",
      "      \"primary_sdg\": {\n",
      "        \"number\": \"16\",\n",
      "        \"name\": \"Peace, Justice and Strong Institutions\"\n",
      "      },\n",
      "      \"is_generic\": false,\n",
      "      \"justification\": \"The text samples and keywords consistently concentrate on topics related to legal compliance, anti-corruption, ethical behavior, risk management, and supplier conduct, reflecting a mature and specific sustainability trend. These elements align closely with SDG 16, which promotes effective, accountable, and transparent institutions. The coverage involves concrete policies, training, risk assessments, and collaboration efforts rather than generic corporate descriptions, making the cluster meaningful and focused rather than administrative or generic.\",\n",
      "      \"confidence_score\": 0.95\n",
      "    }\n",
      "  },\n",
      "  {\n",
      "    \"topic_id\": 3,\n",
      "    \"summary_data\": {\n",
      "      \"is_meaningful_topic\": false,\n",
      "      \"topic_label\": \"Corporate Governance and Board Management\",\n",
      "      \"summary\": \"This cluster contains information related to board appointments, supervisory board activities, committee meetings, corporate governance adherence, and internal company management processes. It focuses on organizational structure rather than explicit sustainability issues.\",\n",
      "      \"primary_sdg\": null,\n",
      "      \"is_generic\": true,\n",
      "      \"justification\": \"The text samples overwhelmingly cover administrative aspects such as appointments and changes in the supervisory and managing boards, committee structuring and meetings, compliance with corporate governance codes, and internal corporate controls. While these are important for overall corporate responsibility, they do not directly reflect sustainability trends or initiatives related to environmental, social, or economic sustainability goals. Therefore, this topic is generic and administrative in nature and does not align with a primary SDG focus.\",\n",
      "      \"confidence_score\": 0.95\n",
      "    }\n",
      "  },\n",
      "  {\n",
      "    \"topic_id\": 4,\n",
      "    \"summary_data\": {\n",
      "      \"error\": true,\n",
      "      \"message\": \"Failed to parse JSON from model response\",\n",
      "      \"raw_response\": \"{\\n  \\\"is_meaningful_topic\\\": true,\\n  \\\"topic_label\\\": \\\"Employee Diversity and Development\\\",\\n  \\\"summary\\\": \\\"This topic cluster centers on Siemens' commitment to fostering a diverse, skilled, and engaged workforce through lifelong learning, talent acquisition, inclusion programs, flexible work arrangements, and integrity standards to drive sustainable business success globally.\\\",\\n  \\\"primary_sdg\\\": {\\n    \\\"number\\\": \\\"8\\\",\\n    \\\"name\\\": \\\"Decent Work and Economic Growth\\\"\\n  },\\n  \\\"is_generic\\\": false,\\n  \\\"justification\\\": \\\"The keywords and text samples consistently emphasize themes of employee diversity, lifelong learning, talent management, and inclusive work environments. These topics directly relate to ensuring decent work conditions, promoting sustained economic growth, and fostering innovation through skilled employment. The focus on diversity and equal opportunities aligns well with SDG 8's goals of productive employment and decent work for all rather than generic corporate communications or unrelated administrative content.\\\",\\n  \\\"confidence_score\\\": 0. nine\\n}\"\n",
      "    }\n",
      "  },\n",
      "  {\n",
      "    \"topic_id\": 5,\n",
      "    \"summary_data\": {\n",
      "      \"is_meaningful_topic\": true,\n",
      "      \"topic_label\": \"Board Compensation and Benefits\",\n",
      "      \"summary\": \"This topic cluster focuses on the compensation system, benefits, and governance related to the Managing Board members at Siemens AG. It covers remuneration structure including base pay, bonuses, stock awards, pension plans, severance payments, and the administrative oversight ensuring alignment with corporate governance standards.\",\n",
      "      \"primary_sdg\": {\n",
      "        \"number\": \"16\",\n",
      "        \"name\": \"Peace, Justice and Strong Institutions\"\n",
      "      },\n",
      "      \"is_generic\": false,\n",
      "      \"justification\": \"The text samples consistently discuss details about compensation policies, target-based bonuses, pension schemes, severance caps, and supervisory control committees, which indicate a focused theme on executive remuneration and governance practices. The coverage of compliance with laws and codes and the emphasis on long-term sustainable management highlight accountability and strong institutional governance, aligning best with SDG 16. This is not a generic or administrative cluster since it conveys substantive content on governance and executive compensation as part of corporate sustainability.\",\n",
      "      \"confidence_score\": 0.95\n",
      "    }\n",
      "  },\n",
      "  {\n",
      "    \"topic_id\": 6,\n",
      "    \"summary_data\": {\n",
      "      \"is_meaningful_topic\": true,\n",
      "      \"topic_label\": \"Global Market and Economic Growth\",\n",
      "      \"summary\": \"This topic cluster discusses Siemens AG's market and economic growth trends across various sectors and geographies, highlighting fiscal year performance, regional developments, competitive landscape, and macroeconomic influences on demand and revenue.\",\n",
      "      \"primary_sdg\": {\n",
      "        \"number\": \"8\",\n",
      "        \"name\": \"Decent Work and Economic Growth\"\n",
      "      },\n",
      "      \"is_generic\": false,\n",
      "      \"justification\": \"The cluster predominantly contains economic and market development data, including growth rates, regional economic conditions, sector-specific market dynamics, and company orders and revenue. These insights align closely with SDG 8, which focuses on sustained economic growth and productive employment. The content is specific to Siemens' business context and not generic or administrative, showing concrete sustainability-related market trends rather than vague corporate statements.\",\n",
      "      \"confidence_score\": 0.9\n",
      "    }\n",
      "  },\n",
      "  {\n",
      "    \"topic_id\": 7,\n",
      "    \"summary_data\": {\n",
      "      \"is_meaningful_topic\": true,\n",
      "      \"topic_label\": \"Industrial Digital Manufacturing Solutions\",\n",
      "      \"summary\": \"This topic cluster focuses on Siemens' use of digital and software solutions to enhance industrial productivity and manufacturing efficiency, particularly through Industry 4.0 technologies such as integrated automation, virtual simulation, and personalized manufacturing processes like production of prosthetic implants. The cluster highlights Siemens' strategic role in driving flexible, cost-effective, and quality-centric manufacturing innovations that also improve healthcare outcomes.\",\n",
      "      \"primary_sdg\": {\n",
      "        \"number\": \"9\",\n",
      "        \"name\": \"Industry, Innovation and Infrastructure\"\n",
      "      },\n",
      "      \"is_generic\": false,\n",
      "      \"justification\": \"The cluster centers explicitly on digital and software solutions, automation, and manufacturing efficiency, which are concrete sustainability trends related to advancing industrial innovation and infrastructure. It is not generic or administrative content. The focus on production efficiencies, end-to-end process integration, and Industry 4.0 aligns strongly with SDG 9, which promotes resilient infrastructure, sustainable industrialization, and innovation. While healthcare applications appear, they serve as use cases illustrating advances in industrial production rather than primarily addressing health SDGs. The detailed examples, expert insights, and future visions demonstrate a meaningful and coherent sustainability topic.\",\n",
      "      \"confidence_score\": 0.95\n",
      "    }\n",
      "  },\n",
      "  {\n",
      "    \"topic_id\": 8,\n",
      "    \"summary_data\": {\n",
      "      \"is_meaningful_topic\": false,\n",
      "      \"topic_label\": \"Subsidiaries and Corporate Structure\",\n",
      "      \"summary\": \"This cluster predominantly lists subsidiaries, equity interests, and corporate entities associated with Siemens AG across various countries and regions without substantive sustainability content or thematic discussion.\",\n",
      "      \"primary_sdg\": null,\n",
      "      \"is_generic\": true,\n",
      "      \"justification\": \"The text samples largely consist of detailed listings of company names, locations, and ownership stakes, primarily reflecting corporate governance and organizational structure. There is an absence of meaningful discussion on sustainability initiatives, environmental or social responsibility, or specific Sustainable Development Goals (SDGs). Therefore, this cluster represents generic administrative content rather than a focused sustainability topic.\",\n",
      "      \"confidence_score\": 0.95\n",
      "    }\n",
      "  },\n",
      "  {\n",
      "    \"topic_id\": 9,\n",
      "    \"summary_data\": {\n",
      "      \"is_meaningful_topic\": true,\n",
      "      \"topic_label\": \"Occupational Health and Safety\",\n",
      "      \"summary\": \"This cluster focuses on Siemens AG's commitment to occupational health and safety, emphasizing safety management systems, reduction of workplace fatalities and injuries, promotion of a safety culture, and collaboration with contractors to ensure safe working conditions globally.\",\n",
      "      \"primary_sdg\": {\n",
      "        \"number\": \"8\",\n",
      "        \"name\": \"Decent Work and Economic Growth\"\n",
      "      },\n",
      "      \"is_generic\": false,\n",
      "      \"justification\": \"The cluster is focused specifically on health and safety issues at work, including management processes, safety culture, incident rates, fatalities, and health promotion among employees and contractors. This indicates a substantive and consistent sustainability trend centered on worker well-being and safe working environments, which aligns strongly with SDG 8's goal of promoting sustained, inclusive economic growth and decent work conditions. It is not generic because the content repeatedly describes concrete initiatives, metrics, and goals rather than broad or administrative statements.\",\n",
      "      \"confidence_score\": 0.95\n",
      "    }\n",
      "  },\n",
      "  {\n",
      "    \"topic_id\": 10,\n",
      "    \"summary_data\": {\n",
      "      \"is_meaningful_topic\": true,\n",
      "      \"topic_label\": \"Corporate Cybersecurity and Data Privacy\",\n",
      "      \"summary\": \"The cluster focuses on Siemens' comprehensive strategies, governance, and operational risks related to cybersecurity and data privacy, emphasizing proactive threat mitigation, compliance integration, and protecting digital assets and critical infrastructures.\",\n",
      "      \"primary_sdg\": {\n",
      "        \"number\": \"9\",\n",
      "        \"name\": \"Industry, Innovation and Infrastructure\"\n",
      "      },\n",
      "      \"is_generic\": false,\n",
      "      \"justification\": \"The cluster contains detailed references to cybersecurity risks, responses, compliance frameworks, governance structures, and technology-driven industrial digitalization efforts at Siemens. These represent a specific and meaningful sustainability topic centered on secure digital transformation and trust in infrastructure rather than generic content. The content closely aligns with SDG 9, which focuses on resilient infrastructure, innovation, and sustainable industrialization, given the emphasis on protecting industrial and digital infrastructures and fostering innovation through cybersecurity. The consistent and specific focus across multiple years and organizational levels further substantiates a meaningful corporate sustainability topic.\",\n",
      "      \"confidence_score\": 0.95\n",
      "    }\n",
      "  },\n",
      "  {\n",
      "    \"topic_id\": 11,\n",
      "    \"summary_data\": {\n",
      "      \"is_meaningful_topic\": true,\n",
      "      \"topic_label\": \"Currency & Financial Risk Management\",\n",
      "      \"summary\": \"This topic cluster centers on Siemens AG's management of foreign currency exchange rate risks and financial risks, including interest rate and derivative instruments usage. The texts detail risk exposures, hedging strategies, fair value measurement, and accounting treatments aimed at mitigating earnings and cash flow volatility.\",\n",
      "      \"primary_sdg\": {\n",
      "        \"number\": \"9\",\n",
      "        \"name\": \"Industry, Innovation and Infrastructure\"\n",
      "      },\n",
      "      \"is_generic\": false,\n",
      "      \"justification\": \"The cluster is clearly focused on specific content related to managing financial risks arising from currency and interest rate fluctuations, including detailed descriptions of hedging tools, accounting methods, and risk management guidelines. While primarily financial in nature and somewhat technical, it reflects important sustainability practices related to maintaining economic resilience and operational stability, which is linked to SDG 9 on sustainable industry and infrastructure. The topic is not generic or administrative; it represents an identifiable and substantial sustainability dimension of Siemens' business practices.\",\n",
      "      \"confidence_score\": 0.92\n",
      "    }\n",
      "  },\n",
      "  {\n",
      "    \"topic_id\": 12,\n",
      "    \"summary_data\": {\n",
      "      \"is_meaningful_topic\": false,\n",
      "      \"topic_label\": \"contractual and control arrangements\",\n",
      "      \"summary\": \"This cluster centers on contractual control, influence, and legal arrangements related to consolidated financial statements, voting rights, and management appointments without addressing specific sustainability issues.\",\n",
      "      \"primary_sdg\": null,\n",
      "      \"is_generic\": true,\n",
      "      \"justification\": \"The text samples repeatedly discuss control due to contractual or legal arrangements, economic circumstances, and immateriality in consolidation, reflecting administrative or reporting mechanics rather than substantive sustainability topics. There is no meaningful linkage to environmental, social, or governance goals or broader sustainability themes. Therefore, this cluster is better characterized as generic, focusing on internal control and accounting classifications rather than a sustainability trend.\",\n",
      "      \"confidence_score\": 0.9\n",
      "    }\n",
      "  },\n",
      "  {\n",
      "    \"topic_id\": 13,\n",
      "    \"summary_data\": {\n",
      "      \"is_meaningful_topic\": false,\n",
      "      \"topic_label\": \"Accounting exemptions and legal notes\",\n",
      "      \"summary\": \"This cluster contains generic or administrative content and does not reflect a real sustainability trend.\",\n",
      "      \"primary_sdg\": null,\n",
      "      \"is_generic\": true,\n",
      "      \"justification\": \"The text samples predominantly refer to exemptions pursuant to a specific section of the German Commercial Code along with immateriality and contractual arrangements related to accounting or legal reporting. There is no substantive discussion or linkage to sustainability issues, impacts, or goals. Therefore, the cluster does not represent a meaningful sustainability topic but rather standard legal and accounting disclosures.\",\n",
      "      \"confidence_score\": 0.95\n",
      "    }\n",
      "  },\n",
      "  {\n",
      "    \"topic_id\": 14,\n",
      "    \"summary_data\": {\n",
      "      \"is_meaningful_topic\": true,\n",
      "      \"topic_label\": \"Affordable High-Quality Healthcare Solutions\",\n",
      "      \"summary\": \"The cluster focuses on Siemens\\u2019 contributions to improving access to affordable, high-quality healthcare primarily through advanced medical technologies and partnerships, exemplified by collaborations with Medanta hospital in India. It highlights innovations in healthcare imaging, diagnostics, and IT infrastructure that enhance care efficiency and outcomes while addressing healthcare challenges in emerging markets.\",\n",
      "      \"primary_sdg\": {\n",
      "        \"number\": \"3\",\n",
      "        \"name\": \"Good Health and Well-being\"\n",
      "      },\n",
      "      \"is_generic\": false,\n",
      "      \"justification\": \"The collection of texts clearly revolves around healthcare delivery improvements, specifically emphasizing affordable access, advanced medical technologies (e.g., imaging, diagnostics), and partnerships with healthcare providers like Medanta and Healthineers. The recurring themes relate to quality healthcare services, combating major diseases, expanding reach to rural populations, and leveraging digital health records and equipment from Siemens to improve patient outcomes. These topics align strongly with SDG 3 on ensuring healthy lives and promoting well-being for all at all ages. The cluster is clearly focused and specific rather than generic or administrative content.\",\n",
      "      \"confidence_score\": 0.95\n",
      "    }\n",
      "  },\n",
      "  {\n",
      "    \"topic_id\": 15,\n",
      "    \"summary_data\": {\n",
      "      \"is_meaningful_topic\": true,\n",
      "      \"topic_label\": \"Efficient Power Plant Modernization\",\n",
      "      \"summary\": \"This cluster discusses Siemens\\u2019 efforts to modernize and upgrade the Kirishi power plant in Russia, focusing on increasing efficiency, reducing natural gas consumption, and lowering emissions through advanced combined cycle turbine technology. It highlights the plant\\u2019s enhanced capacity, operational reliability, and positive environmental impact as part of sustainable energy generation.\",\n",
      "      \"primary_sdg\": {\n",
      "        \"number\": \"7\",\n",
      "        \"name\": \"Affordable and Clean Energy\"\n",
      "      },\n",
      "      \"is_generic\": false,\n",
      "      \"justification\": \"The content centers on improving energy efficiency and environmental sustainability in power generation using Siemens\\u2019 technology in a specific, concrete project (Kirishi power plant). This is a specialized sustainability trend directly linked to SDG 7 on clean and affordable energy. It is not administrative or generic content, but rather detailed and focused on tangible advancements in energy generation with clear environmental benefits.\",\n",
      "      \"confidence_score\": 0.95\n",
      "    }\n",
      "  },\n",
      "  {\n",
      "    \"topic_id\": 16,\n",
      "    \"summary_data\": {\n",
      "      \"is_meaningful_topic\": true,\n",
      "      \"topic_label\": \"Employee Turnover and Diversity\",\n",
      "      \"summary\": \"This cluster focuses on workforce metrics such as employee turnover rates, composition of employees by region and age, female representation in management, hiring and exit statistics, and continuing education expenses within Siemens. It highlights human resource sustainability aspects, including workforce stability, gender diversity, and employee development.\",\n",
      "      \"primary_sdg\": {\n",
      "        \"number\": \"8\",\n",
      "        \"name\": \"Decent Work and Economic Growth\"\n",
      "      },\n",
      "      \"is_generic\": false,\n",
      "      \"justification\": \"The cluster contains detailed, specific data related to employee turnover, diversity, management representation, and workforce demographics rather than general or administrative information. These metrics are relevant to promoting sustained, inclusive economic growth and decent work conditions, directly linking to SDG 8. The repeated focus on factors like female employment percentages, turnover by region, and continuing education underscores a meaningful sustainability topic on workforce management.\",\n",
      "      \"confidence_score\": 0.9\n",
      "    }\n",
      "  },\n",
      "  {\n",
      "    \"topic_id\": 17,\n",
      "    \"summary_data\": {\n",
      "      \"is_meaningful_topic\": true,\n",
      "      \"topic_label\": \"Water Management and Sustainability\",\n",
      "      \"summary\": \"This topic cluster centers on Siemens' water use, wastewater management, water-related risk mitigation, and water sustainability initiatives. It highlights Siemens\\u2019 commitment to efficient water use in operations, innovative water treatment solutions, community water projects, and adherence to international water mandates.\",\n",
      "      \"primary_sdg\": {\n",
      "        \"number\": \"6\",\n",
      "        \"name\": \"Clean Water and Sanitation\"\n",
      "      },\n",
      "      \"is_generic\": false,\n",
      "      \"justification\": \"The cluster clearly focuses on specific sustainability aspects related to water consumption, wastewater, and water-related risks, supported by concrete data and examples of community engagement and technology solutions. It references Siemens\\u2019 participation in the United Nations CEO Water Mandate and details their strategies for mitigating water risks and enhancing water efficiency. This specificity and relevance to water resource management align strongly with SDG 6, distinguishing the cluster from generic sustainability or administrative reporting.\",\n",
      "      \"confidence_score\": 0.95\n",
      "    }\n",
      "  },\n",
      "  {\n",
      "    \"topic_id\": 18,\n",
      "    \"summary_data\": {\n",
      "      \"is_meaningful_topic\": true,\n",
      "      \"topic_label\": \"Smart Sustainable Urban Infrastructure\",\n",
      "      \"summary\": \"This cluster highlights Vienna\\u2019s development as a sustainable and livable city through smart infrastructure, focusing on intelligent public transportation, energy efficiency, and climate-conscious urban planning. Siemens\\u2019 technology supports innovations like low-floor trams, smart grids, and energy-saving public facilities to enhance residents\\u2019 quality of life while fostering economic growth.\",\n",
      "      \"primary_sdg\": {\n",
      "        \"number\": \"11\",\n",
      "        \"name\": \"Sustainable Cities and Communities\"\n",
      "      },\n",
      "      \"is_generic\": false,\n",
      "      \"justification\": \"The cluster\\u2019s recurring emphasis on smart and integrated infrastructure solutions, energy-efficient buildings, and optimized public transit directly address sustainable urban living and environmental quality. Frequent mentions of Vienna\\u2019s policies and Siemens technologies make it a focused topic on urban sustainability, which aligns strongly with SDG 11 rather than generic corporate sustainability or unrelated topics. The specificity about technology-driven public transportation, energy management, and urban planning justifies a meaningful, non-generic classification.\",\n",
      "      \"confidence_score\": 0.95\n",
      "    }\n",
      "  },\n",
      "  {\n",
      "    \"topic_id\": 19,\n",
      "    \"summary_data\": {\n",
      "      \"is_meaningful_topic\": false,\n",
      "      \"topic_label\": \"Executive Compensation and Governance\",\n",
      "      \"summary\": \"This cluster primarily contains numeric data, names, and financial figures related to management and supervisory board compensation at Siemens AG over multiple years, with occasional non-related narrative passages. It reflects administrative reporting details rather than a coherent sustainability topic or trend.\",\n",
      "      \"primary_sdg\": null,\n",
      "      \"is_generic\": true,\n",
      "      \"justification\": \"The majority of text samples list monetary amounts, names of board members, and compensation details, rather than discussing sustainability initiatives, impacts, or strategies tied to a specific SDG. While a couple of narrative texts appear unrelated and possibly inserted by error, the dominant content is financial disclosure of executive pay, which is generic administrative information rather than a meaningful sustainability theme. Hence, the cluster does not reflect a real sustainability trend and is generic in nature.\",\n",
      "      \"confidence_score\": 0.95\n",
      "    }\n",
      "  },\n",
      "  {\n",
      "    \"topic_id\": 20,\n",
      "    \"summary_data\": {\n",
      "      \"is_meaningful_topic\": true,\n",
      "      \"topic_label\": \"Atmospheric Pollutant Emissions Management\",\n",
      "      \"summary\": \"This topic cluster focuses on Siemens AG's monitoring, reduction, and phase-out plans for atmospheric pollutants including volatile organic compounds (VOCs) and ozone-depleting substances (ODS), with continuous efforts to comply with international agreements like the Montreal Protocol and reduce environmental impact. It also covers waste management related to pollutant emissions and nitrogen oxides from thermal processes.\",\n",
      "      \"primary_sdg\": {\n",
      "        \"number\": \"13\",\n",
      "        \"name\": \"Climate Action\"\n",
      "      },\n",
      "      \"is_generic\": false,\n",
      "      \"justification\": \"The cluster provides specific, detailed data on pollutant emissions, including VOCs, ODS, and nitrogen oxides, as well as strategies to reduce them and adhere to international protocols. It is not generic administrative content but a focused sustainability trend related to air quality and emission control, which primarily aligns with SDG 13 on Climate Action due to its emphasis on atmospheric emissions and environmental protection. Waste management is complementary but secondary here, reinforcing the environmental scope.\",\n",
      "      \"confidence_score\": 0.95\n",
      "    }\n",
      "  },\n",
      "  {\n",
      "    \"topic_id\": 21,\n",
      "    \"summary_data\": {\n",
      "      \"is_meaningful_topic\": true,\n",
      "      \"topic_label\": \"Nuclear Facility Decommissioning & Waste Management\",\n",
      "      \"summary\": \"This topic cluster centers on Siemens AG's liabilities and processes related to the environmental remediation, decommissioning, and management of radioactive waste from their nuclear facilities in Hanau and Karlstein, Germany, including regulatory compliance, cost provisions, and radioactive waste storage plans according to the German Atomic Energy Act.\",\n",
      "      \"primary_sdg\": {\n",
      "        \"number\": \"12\",\n",
      "        \"name\": \"Responsible Consumption and Production\"\n",
      "      },\n",
      "      \"is_generic\": false,\n",
      "      \"justification\": \"The cluster contains detailed discussion on environmental clean-up obligations, radioactive waste handling, and long-term liabilities associated with nuclear facility decommissioning, which are specific sustainability issues rather than generic content. The focus on waste treatment, hazardous material management, and regulatory compliance ties directly to SDG 12, which aims at sustainable consumption and production patterns, including environmentally sound management of waste. The extensive referencing of legislative frameworks, cost estimations, and technical processes reflects a meaningful and specialized sustainability topic.\",\n",
      "      \"confidence_score\": 0.95\n",
      "    }\n",
      "  },\n",
      "  {\n",
      "    \"topic_id\": 22,\n",
      "    \"summary_data\": {\n",
      "      \"is_meaningful_topic\": true,\n",
      "      \"topic_label\": \"Customer Satisfaction & Key Account Mgmt\",\n",
      "      \"summary\": \"This topic cluster centers on Siemens' systematic efforts to enhance customer satisfaction and loyalty through annual Net Promoter Score (NPS) surveys and a structured Key Account Management program. Siemens aims to strengthen long-term partnerships, streamline sales processes, and adapt to evolving market demands by integrating customer feedback and fostering close collaboration with key customers worldwide.\",\n",
      "      \"primary_sdg\": {\n",
      "        \"number\": \"9\",\n",
      "        \"name\": \"Industry, Innovation and Infrastructure\"\n",
      "      },\n",
      "      \"is_generic\": false,\n",
      "      \"justification\": \"The cluster clearly reflects a meaningful sustainability trend focused on building resilient, innovative customer relationships and improving service delivery through advanced sales approaches and robust feedback mechanisms. It is specific enough to exclude generic or administrative content, emphasizing customer-centric innovation aligned with business sustainability. SDG 9 is chosen as primary because the content highlights innovation in sales models, digital solutions, and infrastructure for improved customer relations and business growth.\",\n",
      "      \"confidence_score\": 0.92\n",
      "    }\n",
      "  },\n",
      "  {\n",
      "    \"topic_id\": 23,\n",
      "    \"summary_data\": {\n",
      "      \"is_meaningful_topic\": true,\n",
      "      \"topic_label\": \"Baseline comparison for CO2 reduction\",\n",
      "      \"summary\": \"This topic cluster focuses on methodologies used by Siemens to measure energy efficiency and carbon dioxide emission reductions through baseline comparisons. It elaborates on three primary baseline approaches\\u2014before-and-after comparisons, direct comparison with reference technologies, and comparison with an installed base\\u2014to quantify environmental benefits of Siemens products and solutions.\",\n",
      "      \"primary_sdg\": {\n",
      "        \"number\": \"13\",\n",
      "        \"name\": \"Climate Action\"\n",
      "      },\n",
      "      \"is_generic\": false,\n",
      "      \"justification\": \"The cluster content repeatedly and consistently addresses a specific sustainability theme: quantifying emission reductions using defined baseline methods relevant to Siemens technologies. The detailed explanation of three recognized comparison approaches and use of emission factors linked to greenhouse gas reductions show a concrete and meaningful sustainability trend. The predominant focus on emission measurement and reduction closely aligns with SDG 13, Climate Action. Thus, the topic is neither generic nor administrative in nature, but a substantive theme related to climate impact measurement in sustainability reporting.\",\n",
      "      \"confidence_score\": 0.95\n",
      "    }\n",
      "  },\n",
      "  {\n",
      "    \"topic_id\": 24,\n",
      "    \"summary_data\": {\n",
      "      \"is_meaningful_topic\": false,\n",
      "      \"topic_label\": \"N/A\",\n",
      "      \"summary\": \"This cluster contains generic or administrative content and does not reflect a real sustainability trend.\",\n",
      "      \"primary_sdg\": null,\n",
      "      \"is_generic\": true,\n",
      "      \"justification\": \"The provided keywords and text samples are either nonsensical, incomplete, or do not convey any meaningful or coherent information related to sustainability or Siemens AG's activities. There is no identifiable theme, topic, or concept that can be analyzed or mapped to any sustainable development goal.\",\n",
      "      \"confidence_score\": 0.95\n",
      "    }\n",
      "  },\n",
      "  {\n",
      "    \"topic_id\": 25,\n",
      "    \"summary_data\": {\n",
      "      \"is_meaningful_topic\": false,\n",
      "      \"topic_label\": \"Non-meaningful placeholder text\",\n",
      "      \"summary\": \"This cluster contains generic or administrative content and does not reflect a real sustainability trend.\",\n",
      "      \"primary_sdg\": null,\n",
      "      \"is_generic\": true,\n",
      "      \"justification\": \"The cluster predominantly consists of repetitive, non-contextual placeholder text without meaningful content or clear thematic relevance. The presence of irrelevant strings such as '4 and 315 par a' repeated across samples indicates it is not representative of a coherent sustainability topic.\",\n",
      "      \"confidence_score\": 0.95\n",
      "    }\n",
      "  },\n",
      "  {\n",
      "    \"topic_id\": 26,\n",
      "    \"summary_data\": {\n",
      "      \"is_meaningful_topic\": false,\n",
      "      \"topic_label\": \"Rounding disclaimer text\",\n",
      "      \"summary\": \"This cluster contains repetitive disclaimer text about rounding errors in figures and percentages across various report documents.\",\n",
      "      \"primary_sdg\": null,\n",
      "      \"is_generic\": true,\n",
      "      \"justification\": \"The text samples are nearly identical and only communicate a general rounding disclaimer, which is a generic administrative note rather than substantive content on sustainability. The keywords reflect numerical accuracy disclaimers and do not indicate any concrete sustainability topic or trend. Therefore, this cluster is generic and not meaningful for SDG mapping.\",\n",
      "      \"confidence_score\": 0.95\n",
      "    }\n",
      "  },\n",
      "  {\n",
      "    \"topic_id\": 27,\n",
      "    \"summary_data\": {\n",
      "      \"is_meaningful_topic\": false,\n",
      "      \"topic_label\": \"Financial Reporting and Lease Accounting\",\n",
      "      \"summary\": \"This cluster primarily contains financial data and accounting disclosures related to leases, loans, receivables, and debt obligations, focusing on monetary amounts, due dates, interest expenses, and compliance reporting.\",\n",
      "      \"primary_sdg\": null,\n",
      "      \"is_generic\": true,\n",
      "      \"justification\": \"The text samples mainly consist of tabulated financial figures and notes from Siemens' consolidated financial statements, covering operating leases, finance leases, loan receivables, debt structures, and related financial metrics. There is no thematic focus on sustainability strategy, environmental or social initiatives, or impact outcomes that would align with an SDG. Instead, the content reflects standard financial accounting and governance documentation rather than a substantive sustainability topic.\",\n",
      "      \"confidence_score\": 0.95\n",
      "    }\n",
      "  },\n",
      "  {\n",
      "    \"topic_id\": 28,\n",
      "    \"summary_data\": {\n",
      "      \"is_meaningful_topic\": false,\n",
      "      \"topic_label\": \"Generic Siemens Corporate Mentions\",\n",
      "      \"summary\": \"This cluster contains generic or administrative content and does not reflect a real sustainability trend.\",\n",
      "      \"primary_sdg\": null,\n",
      "      \"is_generic\": true,\n",
      "      \"justification\": \"The text samples predominantly consist of repeated generic phrases about Siemens without substantive content or thematic focus. There are mentions of collective bargaining, geographic units, and company names but without a coherent sustainability-related narrative or trend. Thus, the theme is generic corporate details, not a meaningful sustainability topic.\",\n",
      "      \"confidence_score\": 0.95\n",
      "    }\n",
      "  }\n",
      "]\n"
     ]
    }
   ],
   "source": [
    "nano_model='gpt-4.1-nano'\n",
    "mini_model='gpt-4.1-mini'\n",
    "full_model='gpt-4.1'\n",
    "#use full model for your thesis results\n",
    "\n",
    "def summarize_documents(documents, representations, model=mini_model):\n",
    "    prompt = f\"\"\"Below are 20 text samples and corresponding keywords from a single topic cluster derived from Siemens AG sustainability reports between 2013 and 2024. \n",
    "    These are representative passages in the cluster.\n",
    "Please provide your analysis in JSON format with the following structure:\n",
    "{{\n",
    "    \"is_meaningful_topic\": true/false,\n",
    "    \"topic_label\": \"short label (3-6 words)\",\n",
    "    \"summary\": \"1-2 sentence summary\",\n",
    "    \"primary_sdg\": {{\"number\": \"X\", \"name\": \"SDG name\"}},\n",
    "    \"is_generic\": true/false,\n",
    "    \"justification\": \"2-3 sentences explaining your rationale for the choices made\",\n",
    "    \"confidence_score\": X.X (a number between 0.0-1.0 indicating your confidence in this analysis)\n",
    "}}\n",
    "\n",
    "If the topic is generic, set \"is_meaningful_topic\" to false, \"is_generic\" to true, and include \"summary\": \"This cluster contains generic or administrative content and does not reflect a real sustainability trend.\"\n",
    "\n",
    "If \"is_meaningful_topic\" is true, set \"primary_sdg\" to {{\"number\": \"X\", \"name\": \"SDG name\"}}. If \"is_meaningful_topic\" is false, set \"primary_sdg\" to null.\n",
    "\n",
    "Note: Please select only ONE primary SDG that best matches the topic.\n",
    "    \n",
    "    <Keywords>{representations}</Keywords>\n",
    "    <TextSamples>{documents}</TextSamples>\n",
    "\"\"\"\n",
    "\n",
    "    response = openai.responses.create(\n",
    "        model=model,\n",
    "        input=[\n",
    "            {\"role\": \"user\", \"content\": prompt}\n",
    "        ]\n",
    "    )\n",
    "    \n",
    "    # Extract the text from the response\n",
    "    response_text = response.output[0].content[0].text\n",
    "    \n",
    "    # Try to parse the JSON from the response\n",
    "    try:\n",
    "        # Remove any potential markdown code block formatting\n",
    "        if \"```json\" in response_text:\n",
    "            response_text = response_text.split(\"```json\")[1].split(\"```\")[0].strip()\n",
    "        elif \"```\" in response_text:\n",
    "            response_text = response_text.split(\"```\")[1].split(\"```\")[0].strip()\n",
    "        \n",
    "        # Parse the JSON\n",
    "        summary_json = json.loads(response_text)\n",
    "        return summary_json\n",
    "    except json.JSONDecodeError:\n",
    "        # If parsing fails, return a structured error message\n",
    "        return {\n",
    "            \"error\": True,\n",
    "            \"message\": \"Failed to parse JSON from model response\",\n",
    "            \"raw_response\": response_text\n",
    "        }\n",
    "\n",
    "# Create JSON output for all topics\n",
    "topics_json = []\n",
    "for index, row in df_concatenated_docs_merge.iterrows():\n",
    "    topic_data = {\n",
    "        \"topic_id\": row.get('Topic', f\"Topic_{index}\"),\n",
    "        \"summary_data\": summarize_documents(row['ConcatenatedDocuments'], row['Representation'])\n",
    "    }\n",
    "    topics_json.append(topic_data)\n",
    "\n",
    "# Convert to JSON string\n",
    "json_output = json.dumps(topics_json, indent=2)\n",
    "\n",
    "# Print or save the JSON\n",
    "print(json_output)\n",
    "\n",
    "# Optionally save to file\n",
    "# with open(\"sustainability_topics_summary.json\", \"w\") as f:\n",
    "#     f.write(json_output)"
   ]
  },
  {
   "cell_type": "code",
   "execution_count": 20,
   "id": "df489399-e3f1-49d0-a437-3b40111366b9",
   "metadata": {},
   "outputs": [
    {
     "data": {
      "text/html": [
       "<div>\n",
       "<style scoped>\n",
       "    .dataframe tbody tr th:only-of-type {\n",
       "        vertical-align: middle;\n",
       "    }\n",
       "\n",
       "    .dataframe tbody tr th {\n",
       "        vertical-align: top;\n",
       "    }\n",
       "\n",
       "    .dataframe thead th {\n",
       "        text-align: right;\n",
       "    }\n",
       "</style>\n",
       "<table border=\"1\" class=\"dataframe\">\n",
       "  <thead>\n",
       "    <tr style=\"text-align: right;\">\n",
       "      <th></th>\n",
       "      <th>Topic</th>\n",
       "      <th>is_meaningful_topic</th>\n",
       "      <th>topic_label</th>\n",
       "      <th>summary</th>\n",
       "      <th>is_generic</th>\n",
       "      <th>justification</th>\n",
       "      <th>confidence_score</th>\n",
       "      <th>sdg_number</th>\n",
       "      <th>sdg_name</th>\n",
       "      <th>error</th>\n",
       "      <th>error_message</th>\n",
       "      <th>raw_response</th>\n",
       "    </tr>\n",
       "  </thead>\n",
       "  <tbody>\n",
       "    <tr>\n",
       "      <th>0</th>\n",
       "      <td>0</td>\n",
       "      <td>False</td>\n",
       "      <td>Financial and Shareholder Reporting</td>\n",
       "      <td>This cluster mainly contains financial reporti...</td>\n",
       "      <td>True</td>\n",
       "      <td>The text samples are predominantly excerpts of...</td>\n",
       "      <td>0.95</td>\n",
       "      <td></td>\n",
       "      <td></td>\n",
       "      <td>NaN</td>\n",
       "      <td>NaN</td>\n",
       "      <td>NaN</td>\n",
       "    </tr>\n",
       "    <tr>\n",
       "      <th>1</th>\n",
       "      <td>1</td>\n",
       "      <td>True</td>\n",
       "      <td>Siemens Environmental Portfolio and Sustainabi...</td>\n",
       "      <td>This topic cluster centers on Siemens AG's int...</td>\n",
       "      <td>False</td>\n",
       "      <td>The cluster consistently references Siemens' E...</td>\n",
       "      <td>0.95</td>\n",
       "      <td>13</td>\n",
       "      <td>Climate Action</td>\n",
       "      <td>NaN</td>\n",
       "      <td>NaN</td>\n",
       "      <td>NaN</td>\n",
       "    </tr>\n",
       "    <tr>\n",
       "      <th>2</th>\n",
       "      <td>2</td>\n",
       "      <td>True</td>\n",
       "      <td>Corporate Compliance and Ethics</td>\n",
       "      <td>This cluster focuses on Siemens’ comprehensive...</td>\n",
       "      <td>False</td>\n",
       "      <td>The text samples and keywords consistently con...</td>\n",
       "      <td>0.95</td>\n",
       "      <td>16</td>\n",
       "      <td>Peace, Justice and Strong Institutions</td>\n",
       "      <td>NaN</td>\n",
       "      <td>NaN</td>\n",
       "      <td>NaN</td>\n",
       "    </tr>\n",
       "    <tr>\n",
       "      <th>3</th>\n",
       "      <td>3</td>\n",
       "      <td>False</td>\n",
       "      <td>Corporate Governance and Board Management</td>\n",
       "      <td>This cluster contains information related to b...</td>\n",
       "      <td>True</td>\n",
       "      <td>The text samples overwhelmingly cover administ...</td>\n",
       "      <td>0.95</td>\n",
       "      <td></td>\n",
       "      <td></td>\n",
       "      <td>NaN</td>\n",
       "      <td>NaN</td>\n",
       "      <td>NaN</td>\n",
       "    </tr>\n",
       "    <tr>\n",
       "      <th>4</th>\n",
       "      <td>4</td>\n",
       "      <td>NaN</td>\n",
       "      <td>NaN</td>\n",
       "      <td>NaN</td>\n",
       "      <td>NaN</td>\n",
       "      <td>NaN</td>\n",
       "      <td>NaN</td>\n",
       "      <td>NaN</td>\n",
       "      <td>NaN</td>\n",
       "      <td>True</td>\n",
       "      <td>Failed to parse JSON from model response</td>\n",
       "      <td>{\\n  \"is_meaningful_topic\": true,\\n  \"topic_la...</td>\n",
       "    </tr>\n",
       "    <tr>\n",
       "      <th>5</th>\n",
       "      <td>5</td>\n",
       "      <td>True</td>\n",
       "      <td>Board Compensation and Benefits</td>\n",
       "      <td>This topic cluster focuses on the compensation...</td>\n",
       "      <td>False</td>\n",
       "      <td>The text samples consistently discuss details ...</td>\n",
       "      <td>0.95</td>\n",
       "      <td>16</td>\n",
       "      <td>Peace, Justice and Strong Institutions</td>\n",
       "      <td>NaN</td>\n",
       "      <td>NaN</td>\n",
       "      <td>NaN</td>\n",
       "    </tr>\n",
       "    <tr>\n",
       "      <th>6</th>\n",
       "      <td>6</td>\n",
       "      <td>True</td>\n",
       "      <td>Global Market and Economic Growth</td>\n",
       "      <td>This topic cluster discusses Siemens AG's mark...</td>\n",
       "      <td>False</td>\n",
       "      <td>The cluster predominantly contains economic an...</td>\n",
       "      <td>0.90</td>\n",
       "      <td>8</td>\n",
       "      <td>Decent Work and Economic Growth</td>\n",
       "      <td>NaN</td>\n",
       "      <td>NaN</td>\n",
       "      <td>NaN</td>\n",
       "    </tr>\n",
       "    <tr>\n",
       "      <th>7</th>\n",
       "      <td>7</td>\n",
       "      <td>True</td>\n",
       "      <td>Industrial Digital Manufacturing Solutions</td>\n",
       "      <td>This topic cluster focuses on Siemens' use of ...</td>\n",
       "      <td>False</td>\n",
       "      <td>The cluster centers explicitly on digital and ...</td>\n",
       "      <td>0.95</td>\n",
       "      <td>9</td>\n",
       "      <td>Industry, Innovation and Infrastructure</td>\n",
       "      <td>NaN</td>\n",
       "      <td>NaN</td>\n",
       "      <td>NaN</td>\n",
       "    </tr>\n",
       "    <tr>\n",
       "      <th>8</th>\n",
       "      <td>8</td>\n",
       "      <td>False</td>\n",
       "      <td>Subsidiaries and Corporate Structure</td>\n",
       "      <td>This cluster predominantly lists subsidiaries,...</td>\n",
       "      <td>True</td>\n",
       "      <td>The text samples largely consist of detailed l...</td>\n",
       "      <td>0.95</td>\n",
       "      <td></td>\n",
       "      <td></td>\n",
       "      <td>NaN</td>\n",
       "      <td>NaN</td>\n",
       "      <td>NaN</td>\n",
       "    </tr>\n",
       "    <tr>\n",
       "      <th>9</th>\n",
       "      <td>9</td>\n",
       "      <td>True</td>\n",
       "      <td>Occupational Health and Safety</td>\n",
       "      <td>This cluster focuses on Siemens AG's commitmen...</td>\n",
       "      <td>False</td>\n",
       "      <td>The cluster is focused specifically on health ...</td>\n",
       "      <td>0.95</td>\n",
       "      <td>8</td>\n",
       "      <td>Decent Work and Economic Growth</td>\n",
       "      <td>NaN</td>\n",
       "      <td>NaN</td>\n",
       "      <td>NaN</td>\n",
       "    </tr>\n",
       "    <tr>\n",
       "      <th>10</th>\n",
       "      <td>10</td>\n",
       "      <td>True</td>\n",
       "      <td>Corporate Cybersecurity and Data Privacy</td>\n",
       "      <td>The cluster focuses on Siemens' comprehensive ...</td>\n",
       "      <td>False</td>\n",
       "      <td>The cluster contains detailed references to cy...</td>\n",
       "      <td>0.95</td>\n",
       "      <td>9</td>\n",
       "      <td>Industry, Innovation and Infrastructure</td>\n",
       "      <td>NaN</td>\n",
       "      <td>NaN</td>\n",
       "      <td>NaN</td>\n",
       "    </tr>\n",
       "    <tr>\n",
       "      <th>11</th>\n",
       "      <td>11</td>\n",
       "      <td>True</td>\n",
       "      <td>Currency &amp; Financial Risk Management</td>\n",
       "      <td>This topic cluster centers on Siemens AG's man...</td>\n",
       "      <td>False</td>\n",
       "      <td>The cluster is clearly focused on specific con...</td>\n",
       "      <td>0.92</td>\n",
       "      <td>9</td>\n",
       "      <td>Industry, Innovation and Infrastructure</td>\n",
       "      <td>NaN</td>\n",
       "      <td>NaN</td>\n",
       "      <td>NaN</td>\n",
       "    </tr>\n",
       "    <tr>\n",
       "      <th>12</th>\n",
       "      <td>12</td>\n",
       "      <td>False</td>\n",
       "      <td>contractual and control arrangements</td>\n",
       "      <td>This cluster centers on contractual control, i...</td>\n",
       "      <td>True</td>\n",
       "      <td>The text samples repeatedly discuss control du...</td>\n",
       "      <td>0.90</td>\n",
       "      <td></td>\n",
       "      <td></td>\n",
       "      <td>NaN</td>\n",
       "      <td>NaN</td>\n",
       "      <td>NaN</td>\n",
       "    </tr>\n",
       "    <tr>\n",
       "      <th>13</th>\n",
       "      <td>13</td>\n",
       "      <td>False</td>\n",
       "      <td>Accounting exemptions and legal notes</td>\n",
       "      <td>This cluster contains generic or administrativ...</td>\n",
       "      <td>True</td>\n",
       "      <td>The text samples predominantly refer to exempt...</td>\n",
       "      <td>0.95</td>\n",
       "      <td></td>\n",
       "      <td></td>\n",
       "      <td>NaN</td>\n",
       "      <td>NaN</td>\n",
       "      <td>NaN</td>\n",
       "    </tr>\n",
       "    <tr>\n",
       "      <th>14</th>\n",
       "      <td>14</td>\n",
       "      <td>True</td>\n",
       "      <td>Affordable High-Quality Healthcare Solutions</td>\n",
       "      <td>The cluster focuses on Siemens’ contributions ...</td>\n",
       "      <td>False</td>\n",
       "      <td>The collection of texts clearly revolves aroun...</td>\n",
       "      <td>0.95</td>\n",
       "      <td>3</td>\n",
       "      <td>Good Health and Well-being</td>\n",
       "      <td>NaN</td>\n",
       "      <td>NaN</td>\n",
       "      <td>NaN</td>\n",
       "    </tr>\n",
       "    <tr>\n",
       "      <th>15</th>\n",
       "      <td>15</td>\n",
       "      <td>True</td>\n",
       "      <td>Efficient Power Plant Modernization</td>\n",
       "      <td>This cluster discusses Siemens’ efforts to mod...</td>\n",
       "      <td>False</td>\n",
       "      <td>The content centers on improving energy effici...</td>\n",
       "      <td>0.95</td>\n",
       "      <td>7</td>\n",
       "      <td>Affordable and Clean Energy</td>\n",
       "      <td>NaN</td>\n",
       "      <td>NaN</td>\n",
       "      <td>NaN</td>\n",
       "    </tr>\n",
       "    <tr>\n",
       "      <th>16</th>\n",
       "      <td>16</td>\n",
       "      <td>True</td>\n",
       "      <td>Employee Turnover and Diversity</td>\n",
       "      <td>This cluster focuses on workforce metrics such...</td>\n",
       "      <td>False</td>\n",
       "      <td>The cluster contains detailed, specific data r...</td>\n",
       "      <td>0.90</td>\n",
       "      <td>8</td>\n",
       "      <td>Decent Work and Economic Growth</td>\n",
       "      <td>NaN</td>\n",
       "      <td>NaN</td>\n",
       "      <td>NaN</td>\n",
       "    </tr>\n",
       "    <tr>\n",
       "      <th>17</th>\n",
       "      <td>17</td>\n",
       "      <td>True</td>\n",
       "      <td>Water Management and Sustainability</td>\n",
       "      <td>This topic cluster centers on Siemens' water u...</td>\n",
       "      <td>False</td>\n",
       "      <td>The cluster clearly focuses on specific sustai...</td>\n",
       "      <td>0.95</td>\n",
       "      <td>6</td>\n",
       "      <td>Clean Water and Sanitation</td>\n",
       "      <td>NaN</td>\n",
       "      <td>NaN</td>\n",
       "      <td>NaN</td>\n",
       "    </tr>\n",
       "    <tr>\n",
       "      <th>18</th>\n",
       "      <td>18</td>\n",
       "      <td>True</td>\n",
       "      <td>Smart Sustainable Urban Infrastructure</td>\n",
       "      <td>This cluster highlights Vienna’s development a...</td>\n",
       "      <td>False</td>\n",
       "      <td>The cluster’s recurring emphasis on smart and ...</td>\n",
       "      <td>0.95</td>\n",
       "      <td>11</td>\n",
       "      <td>Sustainable Cities and Communities</td>\n",
       "      <td>NaN</td>\n",
       "      <td>NaN</td>\n",
       "      <td>NaN</td>\n",
       "    </tr>\n",
       "    <tr>\n",
       "      <th>19</th>\n",
       "      <td>19</td>\n",
       "      <td>False</td>\n",
       "      <td>Executive Compensation and Governance</td>\n",
       "      <td>This cluster primarily contains numeric data, ...</td>\n",
       "      <td>True</td>\n",
       "      <td>The majority of text samples list monetary amo...</td>\n",
       "      <td>0.95</td>\n",
       "      <td></td>\n",
       "      <td></td>\n",
       "      <td>NaN</td>\n",
       "      <td>NaN</td>\n",
       "      <td>NaN</td>\n",
       "    </tr>\n",
       "    <tr>\n",
       "      <th>20</th>\n",
       "      <td>20</td>\n",
       "      <td>True</td>\n",
       "      <td>Atmospheric Pollutant Emissions Management</td>\n",
       "      <td>This topic cluster focuses on Siemens AG's mon...</td>\n",
       "      <td>False</td>\n",
       "      <td>The cluster provides specific, detailed data o...</td>\n",
       "      <td>0.95</td>\n",
       "      <td>13</td>\n",
       "      <td>Climate Action</td>\n",
       "      <td>NaN</td>\n",
       "      <td>NaN</td>\n",
       "      <td>NaN</td>\n",
       "    </tr>\n",
       "    <tr>\n",
       "      <th>21</th>\n",
       "      <td>21</td>\n",
       "      <td>True</td>\n",
       "      <td>Nuclear Facility Decommissioning &amp; Waste Manag...</td>\n",
       "      <td>This topic cluster centers on Siemens AG's lia...</td>\n",
       "      <td>False</td>\n",
       "      <td>The cluster contains detailed discussion on en...</td>\n",
       "      <td>0.95</td>\n",
       "      <td>12</td>\n",
       "      <td>Responsible Consumption and Production</td>\n",
       "      <td>NaN</td>\n",
       "      <td>NaN</td>\n",
       "      <td>NaN</td>\n",
       "    </tr>\n",
       "    <tr>\n",
       "      <th>22</th>\n",
       "      <td>22</td>\n",
       "      <td>True</td>\n",
       "      <td>Customer Satisfaction &amp; Key Account Mgmt</td>\n",
       "      <td>This topic cluster centers on Siemens' systema...</td>\n",
       "      <td>False</td>\n",
       "      <td>The cluster clearly reflects a meaningful sust...</td>\n",
       "      <td>0.92</td>\n",
       "      <td>9</td>\n",
       "      <td>Industry, Innovation and Infrastructure</td>\n",
       "      <td>NaN</td>\n",
       "      <td>NaN</td>\n",
       "      <td>NaN</td>\n",
       "    </tr>\n",
       "    <tr>\n",
       "      <th>23</th>\n",
       "      <td>23</td>\n",
       "      <td>True</td>\n",
       "      <td>Baseline comparison for CO2 reduction</td>\n",
       "      <td>This topic cluster focuses on methodologies us...</td>\n",
       "      <td>False</td>\n",
       "      <td>The cluster content repeatedly and consistentl...</td>\n",
       "      <td>0.95</td>\n",
       "      <td>13</td>\n",
       "      <td>Climate Action</td>\n",
       "      <td>NaN</td>\n",
       "      <td>NaN</td>\n",
       "      <td>NaN</td>\n",
       "    </tr>\n",
       "    <tr>\n",
       "      <th>24</th>\n",
       "      <td>24</td>\n",
       "      <td>False</td>\n",
       "      <td>N/A</td>\n",
       "      <td>This cluster contains generic or administrativ...</td>\n",
       "      <td>True</td>\n",
       "      <td>The provided keywords and text samples are eit...</td>\n",
       "      <td>0.95</td>\n",
       "      <td></td>\n",
       "      <td></td>\n",
       "      <td>NaN</td>\n",
       "      <td>NaN</td>\n",
       "      <td>NaN</td>\n",
       "    </tr>\n",
       "    <tr>\n",
       "      <th>25</th>\n",
       "      <td>25</td>\n",
       "      <td>False</td>\n",
       "      <td>Non-meaningful placeholder text</td>\n",
       "      <td>This cluster contains generic or administrativ...</td>\n",
       "      <td>True</td>\n",
       "      <td>The cluster predominantly consists of repetiti...</td>\n",
       "      <td>0.95</td>\n",
       "      <td></td>\n",
       "      <td></td>\n",
       "      <td>NaN</td>\n",
       "      <td>NaN</td>\n",
       "      <td>NaN</td>\n",
       "    </tr>\n",
       "    <tr>\n",
       "      <th>26</th>\n",
       "      <td>26</td>\n",
       "      <td>False</td>\n",
       "      <td>Rounding disclaimer text</td>\n",
       "      <td>This cluster contains repetitive disclaimer te...</td>\n",
       "      <td>True</td>\n",
       "      <td>The text samples are nearly identical and only...</td>\n",
       "      <td>0.95</td>\n",
       "      <td></td>\n",
       "      <td></td>\n",
       "      <td>NaN</td>\n",
       "      <td>NaN</td>\n",
       "      <td>NaN</td>\n",
       "    </tr>\n",
       "    <tr>\n",
       "      <th>27</th>\n",
       "      <td>27</td>\n",
       "      <td>False</td>\n",
       "      <td>Financial Reporting and Lease Accounting</td>\n",
       "      <td>This cluster primarily contains financial data...</td>\n",
       "      <td>True</td>\n",
       "      <td>The text samples mainly consist of tabulated f...</td>\n",
       "      <td>0.95</td>\n",
       "      <td></td>\n",
       "      <td></td>\n",
       "      <td>NaN</td>\n",
       "      <td>NaN</td>\n",
       "      <td>NaN</td>\n",
       "    </tr>\n",
       "    <tr>\n",
       "      <th>28</th>\n",
       "      <td>28</td>\n",
       "      <td>False</td>\n",
       "      <td>Generic Siemens Corporate Mentions</td>\n",
       "      <td>This cluster contains generic or administrativ...</td>\n",
       "      <td>True</td>\n",
       "      <td>The text samples predominantly consist of repe...</td>\n",
       "      <td>0.95</td>\n",
       "      <td></td>\n",
       "      <td></td>\n",
       "      <td>NaN</td>\n",
       "      <td>NaN</td>\n",
       "      <td>NaN</td>\n",
       "    </tr>\n",
       "  </tbody>\n",
       "</table>\n",
       "</div>"
      ],
      "text/plain": [
       "    Topic is_meaningful_topic  \\\n",
       "0       0               False   \n",
       "1       1                True   \n",
       "2       2                True   \n",
       "3       3               False   \n",
       "4       4                 NaN   \n",
       "5       5                True   \n",
       "6       6                True   \n",
       "7       7                True   \n",
       "8       8               False   \n",
       "9       9                True   \n",
       "10     10                True   \n",
       "11     11                True   \n",
       "12     12               False   \n",
       "13     13               False   \n",
       "14     14                True   \n",
       "15     15                True   \n",
       "16     16                True   \n",
       "17     17                True   \n",
       "18     18                True   \n",
       "19     19               False   \n",
       "20     20                True   \n",
       "21     21                True   \n",
       "22     22                True   \n",
       "23     23                True   \n",
       "24     24               False   \n",
       "25     25               False   \n",
       "26     26               False   \n",
       "27     27               False   \n",
       "28     28               False   \n",
       "\n",
       "                                          topic_label  \\\n",
       "0                 Financial and Shareholder Reporting   \n",
       "1   Siemens Environmental Portfolio and Sustainabi...   \n",
       "2                     Corporate Compliance and Ethics   \n",
       "3           Corporate Governance and Board Management   \n",
       "4                                                 NaN   \n",
       "5                     Board Compensation and Benefits   \n",
       "6                   Global Market and Economic Growth   \n",
       "7          Industrial Digital Manufacturing Solutions   \n",
       "8                Subsidiaries and Corporate Structure   \n",
       "9                      Occupational Health and Safety   \n",
       "10           Corporate Cybersecurity and Data Privacy   \n",
       "11               Currency & Financial Risk Management   \n",
       "12               contractual and control arrangements   \n",
       "13              Accounting exemptions and legal notes   \n",
       "14       Affordable High-Quality Healthcare Solutions   \n",
       "15                Efficient Power Plant Modernization   \n",
       "16                    Employee Turnover and Diversity   \n",
       "17                Water Management and Sustainability   \n",
       "18             Smart Sustainable Urban Infrastructure   \n",
       "19              Executive Compensation and Governance   \n",
       "20         Atmospheric Pollutant Emissions Management   \n",
       "21  Nuclear Facility Decommissioning & Waste Manag...   \n",
       "22           Customer Satisfaction & Key Account Mgmt   \n",
       "23              Baseline comparison for CO2 reduction   \n",
       "24                                                N/A   \n",
       "25                    Non-meaningful placeholder text   \n",
       "26                           Rounding disclaimer text   \n",
       "27           Financial Reporting and Lease Accounting   \n",
       "28                 Generic Siemens Corporate Mentions   \n",
       "\n",
       "                                              summary is_generic  \\\n",
       "0   This cluster mainly contains financial reporti...       True   \n",
       "1   This topic cluster centers on Siemens AG's int...      False   \n",
       "2   This cluster focuses on Siemens’ comprehensive...      False   \n",
       "3   This cluster contains information related to b...       True   \n",
       "4                                                 NaN        NaN   \n",
       "5   This topic cluster focuses on the compensation...      False   \n",
       "6   This topic cluster discusses Siemens AG's mark...      False   \n",
       "7   This topic cluster focuses on Siemens' use of ...      False   \n",
       "8   This cluster predominantly lists subsidiaries,...       True   \n",
       "9   This cluster focuses on Siemens AG's commitmen...      False   \n",
       "10  The cluster focuses on Siemens' comprehensive ...      False   \n",
       "11  This topic cluster centers on Siemens AG's man...      False   \n",
       "12  This cluster centers on contractual control, i...       True   \n",
       "13  This cluster contains generic or administrativ...       True   \n",
       "14  The cluster focuses on Siemens’ contributions ...      False   \n",
       "15  This cluster discusses Siemens’ efforts to mod...      False   \n",
       "16  This cluster focuses on workforce metrics such...      False   \n",
       "17  This topic cluster centers on Siemens' water u...      False   \n",
       "18  This cluster highlights Vienna’s development a...      False   \n",
       "19  This cluster primarily contains numeric data, ...       True   \n",
       "20  This topic cluster focuses on Siemens AG's mon...      False   \n",
       "21  This topic cluster centers on Siemens AG's lia...      False   \n",
       "22  This topic cluster centers on Siemens' systema...      False   \n",
       "23  This topic cluster focuses on methodologies us...      False   \n",
       "24  This cluster contains generic or administrativ...       True   \n",
       "25  This cluster contains generic or administrativ...       True   \n",
       "26  This cluster contains repetitive disclaimer te...       True   \n",
       "27  This cluster primarily contains financial data...       True   \n",
       "28  This cluster contains generic or administrativ...       True   \n",
       "\n",
       "                                        justification  confidence_score  \\\n",
       "0   The text samples are predominantly excerpts of...              0.95   \n",
       "1   The cluster consistently references Siemens' E...              0.95   \n",
       "2   The text samples and keywords consistently con...              0.95   \n",
       "3   The text samples overwhelmingly cover administ...              0.95   \n",
       "4                                                 NaN               NaN   \n",
       "5   The text samples consistently discuss details ...              0.95   \n",
       "6   The cluster predominantly contains economic an...              0.90   \n",
       "7   The cluster centers explicitly on digital and ...              0.95   \n",
       "8   The text samples largely consist of detailed l...              0.95   \n",
       "9   The cluster is focused specifically on health ...              0.95   \n",
       "10  The cluster contains detailed references to cy...              0.95   \n",
       "11  The cluster is clearly focused on specific con...              0.92   \n",
       "12  The text samples repeatedly discuss control du...              0.90   \n",
       "13  The text samples predominantly refer to exempt...              0.95   \n",
       "14  The collection of texts clearly revolves aroun...              0.95   \n",
       "15  The content centers on improving energy effici...              0.95   \n",
       "16  The cluster contains detailed, specific data r...              0.90   \n",
       "17  The cluster clearly focuses on specific sustai...              0.95   \n",
       "18  The cluster’s recurring emphasis on smart and ...              0.95   \n",
       "19  The majority of text samples list monetary amo...              0.95   \n",
       "20  The cluster provides specific, detailed data o...              0.95   \n",
       "21  The cluster contains detailed discussion on en...              0.95   \n",
       "22  The cluster clearly reflects a meaningful sust...              0.92   \n",
       "23  The cluster content repeatedly and consistentl...              0.95   \n",
       "24  The provided keywords and text samples are eit...              0.95   \n",
       "25  The cluster predominantly consists of repetiti...              0.95   \n",
       "26  The text samples are nearly identical and only...              0.95   \n",
       "27  The text samples mainly consist of tabulated f...              0.95   \n",
       "28  The text samples predominantly consist of repe...              0.95   \n",
       "\n",
       "   sdg_number                                 sdg_name error  \\\n",
       "0                                                        NaN   \n",
       "1          13                           Climate Action   NaN   \n",
       "2          16   Peace, Justice and Strong Institutions   NaN   \n",
       "3                                                        NaN   \n",
       "4         NaN                                      NaN  True   \n",
       "5          16   Peace, Justice and Strong Institutions   NaN   \n",
       "6           8          Decent Work and Economic Growth   NaN   \n",
       "7           9  Industry, Innovation and Infrastructure   NaN   \n",
       "8                                                        NaN   \n",
       "9           8          Decent Work and Economic Growth   NaN   \n",
       "10          9  Industry, Innovation and Infrastructure   NaN   \n",
       "11          9  Industry, Innovation and Infrastructure   NaN   \n",
       "12                                                       NaN   \n",
       "13                                                       NaN   \n",
       "14          3               Good Health and Well-being   NaN   \n",
       "15          7              Affordable and Clean Energy   NaN   \n",
       "16          8          Decent Work and Economic Growth   NaN   \n",
       "17          6               Clean Water and Sanitation   NaN   \n",
       "18         11       Sustainable Cities and Communities   NaN   \n",
       "19                                                       NaN   \n",
       "20         13                           Climate Action   NaN   \n",
       "21         12   Responsible Consumption and Production   NaN   \n",
       "22          9  Industry, Innovation and Infrastructure   NaN   \n",
       "23         13                           Climate Action   NaN   \n",
       "24                                                       NaN   \n",
       "25                                                       NaN   \n",
       "26                                                       NaN   \n",
       "27                                                       NaN   \n",
       "28                                                       NaN   \n",
       "\n",
       "                               error_message  \\\n",
       "0                                        NaN   \n",
       "1                                        NaN   \n",
       "2                                        NaN   \n",
       "3                                        NaN   \n",
       "4   Failed to parse JSON from model response   \n",
       "5                                        NaN   \n",
       "6                                        NaN   \n",
       "7                                        NaN   \n",
       "8                                        NaN   \n",
       "9                                        NaN   \n",
       "10                                       NaN   \n",
       "11                                       NaN   \n",
       "12                                       NaN   \n",
       "13                                       NaN   \n",
       "14                                       NaN   \n",
       "15                                       NaN   \n",
       "16                                       NaN   \n",
       "17                                       NaN   \n",
       "18                                       NaN   \n",
       "19                                       NaN   \n",
       "20                                       NaN   \n",
       "21                                       NaN   \n",
       "22                                       NaN   \n",
       "23                                       NaN   \n",
       "24                                       NaN   \n",
       "25                                       NaN   \n",
       "26                                       NaN   \n",
       "27                                       NaN   \n",
       "28                                       NaN   \n",
       "\n",
       "                                         raw_response  \n",
       "0                                                 NaN  \n",
       "1                                                 NaN  \n",
       "2                                                 NaN  \n",
       "3                                                 NaN  \n",
       "4   {\\n  \"is_meaningful_topic\": true,\\n  \"topic_la...  \n",
       "5                                                 NaN  \n",
       "6                                                 NaN  \n",
       "7                                                 NaN  \n",
       "8                                                 NaN  \n",
       "9                                                 NaN  \n",
       "10                                                NaN  \n",
       "11                                                NaN  \n",
       "12                                                NaN  \n",
       "13                                                NaN  \n",
       "14                                                NaN  \n",
       "15                                                NaN  \n",
       "16                                                NaN  \n",
       "17                                                NaN  \n",
       "18                                                NaN  \n",
       "19                                                NaN  \n",
       "20                                                NaN  \n",
       "21                                                NaN  \n",
       "22                                                NaN  \n",
       "23                                                NaN  \n",
       "24                                                NaN  \n",
       "25                                                NaN  \n",
       "26                                                NaN  \n",
       "27                                                NaN  \n",
       "28                                                NaN  "
      ]
     },
     "metadata": {},
     "output_type": "display_data"
    }
   ],
   "source": [
    "# Create a DataFrame from the JSON output\n",
    "\n",
    "# If the JSON is still in the topics_json variable from the previous cell\n",
    "# If not, you can uncomment the file loading code below\n",
    "# with open(\"sustainability_topics_summary.json\", \"r\") as f:\n",
    "#     topics_data = json.load(f)\n",
    "topics_data = topics_json\n",
    "\n",
    "# Initialize an empty list to store flattened data\n",
    "flattened_data = []\n",
    "\n",
    "# Process each topic entry\n",
    "for topic_entry in topics_data:\n",
    "    topic_id = topic_entry[\"topic_id\"]\n",
    "    summary_data = topic_entry[\"summary_data\"]\n",
    "    \n",
    "    # Create a dictionary with topic_id and flattened summary data\n",
    "    topic_dict = {\"Topic\": topic_id}\n",
    "    \n",
    "    # Check if there was an error parsing JSON\n",
    "    if \"error\" in summary_data:\n",
    "        topic_dict[\"error\"] = summary_data[\"error\"]\n",
    "        topic_dict[\"error_message\"] = summary_data[\"message\"]\n",
    "        topic_dict[\"raw_response\"] = summary_data[\"raw_response\"]\n",
    "    else:\n",
    "        # Add all the summary fields to the dictionary\n",
    "        topic_dict[\"is_meaningful_topic\"] = summary_data.get(\"is_meaningful_topic\")\n",
    "        topic_dict[\"topic_label\"] = summary_data.get(\"topic_label\")\n",
    "        topic_dict[\"summary\"] = summary_data.get(\"summary\")\n",
    "        topic_dict[\"is_generic\"] = summary_data.get(\"is_generic\")\n",
    "        topic_dict[\"justification\"] = summary_data.get(\"justification\", \"\")\n",
    "        topic_dict[\"confidence_score\"] = summary_data.get(\"confidence_score\")\n",
    "        \n",
    "        # Handle primary SDG\n",
    "        if \"primary_sdg\" in summary_data and summary_data[\"primary_sdg\"]:\n",
    "            sdg = summary_data[\"primary_sdg\"]\n",
    "            topic_dict[\"sdg_number\"] = sdg.get(\"number\", \"\")\n",
    "            topic_dict[\"sdg_name\"] = sdg.get(\"name\", \"\")\n",
    "        else:\n",
    "            topic_dict[\"sdg_number\"] = \"\"\n",
    "            topic_dict[\"sdg_name\"] = \"\"\n",
    "    \n",
    "    flattened_data.append(topic_dict)\n",
    "\n",
    "# Create a DataFrame from the flattened data\n",
    "df_summary_results = pd.DataFrame(flattened_data)\n",
    "\n",
    "# Display the DataFrame\n",
    "display(df_summary_results)\n",
    "\n",
    "# Optional: Save to CSV for further analysis\n",
    "# df_summary_results.to_csv(\"sustainability_topics_analysis.csv\", index=False)\n",
    "\n",
    "# You can also group by Topic if needed\n",
    "# df_summary_by_topic = df_summary_results.groupby('Topic').first().reset_index()\n",
    "# display(df_summary_by_topic)"
   ]
  },
  {
   "cell_type": "code",
   "execution_count": 21,
   "id": "a4c3def8",
   "metadata": {},
   "outputs": [
    {
     "name": "stdout",
     "output_type": "stream",
     "text": [
      "The text samples are predominantly excerpts of financial statements, shareholder letters, and financial metrics. They focus on profitability, capital efficiency, revenue growth, dividends, and key performance indicators. These contents represent generic financial disclosure rather than sustainability-related topics, and thus do not map cleanly to any Sustainable Development Goal (SDG).\n"
     ]
    }
   ],
   "source": [
    "print(df_summary_results.loc[0]['justification'])"
   ]
  },
  {
   "cell_type": "code",
   "execution_count": 22,
   "id": "9a4adde9",
   "metadata": {},
   "outputs": [
    {
     "data": {
      "text/html": [
       "<div>\n",
       "<style scoped>\n",
       "    .dataframe tbody tr th:only-of-type {\n",
       "        vertical-align: middle;\n",
       "    }\n",
       "\n",
       "    .dataframe tbody tr th {\n",
       "        vertical-align: top;\n",
       "    }\n",
       "\n",
       "    .dataframe thead th {\n",
       "        text-align: right;\n",
       "    }\n",
       "</style>\n",
       "<table border=\"1\" class=\"dataframe\">\n",
       "  <thead>\n",
       "    <tr style=\"text-align: right;\">\n",
       "      <th></th>\n",
       "      <th>Topic</th>\n",
       "      <th>Count</th>\n",
       "      <th>Name</th>\n",
       "      <th>Representation</th>\n",
       "      <th>Representative_Docs</th>\n",
       "      <th>is_meaningful_topic</th>\n",
       "      <th>topic_label</th>\n",
       "      <th>summary</th>\n",
       "      <th>is_generic</th>\n",
       "      <th>justification</th>\n",
       "      <th>confidence_score</th>\n",
       "      <th>sdg_number</th>\n",
       "      <th>sdg_name</th>\n",
       "      <th>error</th>\n",
       "      <th>error_message</th>\n",
       "      <th>raw_response</th>\n",
       "    </tr>\n",
       "  </thead>\n",
       "  <tbody>\n",
       "    <tr>\n",
       "      <th>0</th>\n",
       "      <td>-1</td>\n",
       "      <td>2163</td>\n",
       "      <td>-1_siemens_fiscal_financial_year</td>\n",
       "      <td>[siemens, fiscal, financial, year, million, in...</td>\n",
       "      <td>[The largest equity instrument allocated to le...</td>\n",
       "      <td>NaN</td>\n",
       "      <td>NaN</td>\n",
       "      <td>NaN</td>\n",
       "      <td>NaN</td>\n",
       "      <td>NaN</td>\n",
       "      <td>NaN</td>\n",
       "      <td>NaN</td>\n",
       "      <td>NaN</td>\n",
       "      <td>NaN</td>\n",
       "      <td>NaN</td>\n",
       "      <td>NaN</td>\n",
       "    </tr>\n",
       "    <tr>\n",
       "      <th>1</th>\n",
       "      <td>0</td>\n",
       "      <td>1192</td>\n",
       "      <td>0_financial_cash_million_income</td>\n",
       "      <td>[financial, cash, million, income, shares, sta...</td>\n",
       "      <td>[The change in Income taxes  resulted from hig...</td>\n",
       "      <td>False</td>\n",
       "      <td>Financial and Shareholder Reporting</td>\n",
       "      <td>This cluster mainly contains financial reporti...</td>\n",
       "      <td>True</td>\n",
       "      <td>The text samples are predominantly excerpts of...</td>\n",
       "      <td>0.95</td>\n",
       "      <td></td>\n",
       "      <td></td>\n",
       "      <td>NaN</td>\n",
       "      <td>NaN</td>\n",
       "      <td>NaN</td>\n",
       "    </tr>\n",
       "    <tr>\n",
       "      <th>2</th>\n",
       "      <td>1</td>\n",
       "      <td>936</td>\n",
       "      <td>1_sustainability_environmental_gri_emissions</td>\n",
       "      <td>[sustainability, environmental, gri, emissions...</td>\n",
       "      <td>[For consistency reasons, we generally apply g...</td>\n",
       "      <td>True</td>\n",
       "      <td>Siemens Environmental Portfolio and Sustainabi...</td>\n",
       "      <td>This topic cluster centers on Siemens AG's int...</td>\n",
       "      <td>False</td>\n",
       "      <td>The cluster consistently references Siemens' E...</td>\n",
       "      <td>0.95</td>\n",
       "      <td>13</td>\n",
       "      <td>Climate Action</td>\n",
       "      <td>NaN</td>\n",
       "      <td>NaN</td>\n",
       "      <td>NaN</td>\n",
       "    </tr>\n",
       "    <tr>\n",
       "      <th>3</th>\n",
       "      <td>2</td>\n",
       "      <td>797</td>\n",
       "      <td>2_compliance_human_rights_risk</td>\n",
       "      <td>[compliance, human, rights, risk, business, ri...</td>\n",
       "      <td>[Global agreements \\nSiemens has been an activ...</td>\n",
       "      <td>True</td>\n",
       "      <td>Corporate Compliance and Ethics</td>\n",
       "      <td>This cluster focuses on Siemens’ comprehensive...</td>\n",
       "      <td>False</td>\n",
       "      <td>The text samples and keywords consistently con...</td>\n",
       "      <td>0.95</td>\n",
       "      <td>16</td>\n",
       "      <td>Peace, Justice and Strong Institutions</td>\n",
       "      <td>NaN</td>\n",
       "      <td>NaN</td>\n",
       "      <td>NaN</td>\n",
       "    </tr>\n",
       "    <tr>\n",
       "      <th>4</th>\n",
       "      <td>3</td>\n",
       "      <td>563</td>\n",
       "      <td>3_board_supervisory_siemens_chairman</td>\n",
       "      <td>[board, supervisory, siemens, chairman, ag, co...</td>\n",
       "      <td>[Details regarding the work of the Supervisory...</td>\n",
       "      <td>False</td>\n",
       "      <td>Corporate Governance and Board Management</td>\n",
       "      <td>This cluster contains information related to b...</td>\n",
       "      <td>True</td>\n",
       "      <td>The text samples overwhelmingly cover administ...</td>\n",
       "      <td>0.95</td>\n",
       "      <td></td>\n",
       "      <td></td>\n",
       "      <td>NaN</td>\n",
       "      <td>NaN</td>\n",
       "      <td>NaN</td>\n",
       "    </tr>\n",
       "    <tr>\n",
       "      <th>5</th>\n",
       "      <td>4</td>\n",
       "      <td>408</td>\n",
       "      <td>4_people_diversity_learning_siemens</td>\n",
       "      <td>[people, diversity, learning, siemens, program...</td>\n",
       "      <td>[5.1 Working at Siemens5.2 \\nDiversity, Equity...</td>\n",
       "      <td>NaN</td>\n",
       "      <td>NaN</td>\n",
       "      <td>NaN</td>\n",
       "      <td>NaN</td>\n",
       "      <td>NaN</td>\n",
       "      <td>NaN</td>\n",
       "      <td>NaN</td>\n",
       "      <td>NaN</td>\n",
       "      <td>True</td>\n",
       "      <td>Failed to parse JSON from model response</td>\n",
       "      <td>{\\n  \"is_meaningful_topic\": true,\\n  \"topic_la...</td>\n",
       "    </tr>\n",
       "    <tr>\n",
       "      <th>6</th>\n",
       "      <td>5</td>\n",
       "      <td>348</td>\n",
       "      <td>5_compensation_board_managing_benefit</td>\n",
       "      <td>[compensation, board, managing, benefit, pensi...</td>\n",
       "      <td>[10\\n  Prof. Dr. Russwurm left the Managing Bo...</td>\n",
       "      <td>True</td>\n",
       "      <td>Board Compensation and Benefits</td>\n",
       "      <td>This topic cluster focuses on the compensation...</td>\n",
       "      <td>False</td>\n",
       "      <td>The text samples consistently discuss details ...</td>\n",
       "      <td>0.95</td>\n",
       "      <td>16</td>\n",
       "      <td>Peace, Justice and Strong Institutions</td>\n",
       "      <td>NaN</td>\n",
       "      <td>NaN</td>\n",
       "      <td>NaN</td>\n",
       "    </tr>\n",
       "    <tr>\n",
       "      <th>7</th>\n",
       "      <td>6</td>\n",
       "      <td>300</td>\n",
       "      <td>6_growth_markets_year_revenue</td>\n",
       "      <td>[growth, markets, year, revenue, orders, fisca...</td>\n",
       "      <td>[C.9.1.2  MARKET DEVEL OPMENT\\nIn fiscal 2015,...</td>\n",
       "      <td>True</td>\n",
       "      <td>Global Market and Economic Growth</td>\n",
       "      <td>This topic cluster discusses Siemens AG's mark...</td>\n",
       "      <td>False</td>\n",
       "      <td>The cluster predominantly contains economic an...</td>\n",
       "      <td>0.90</td>\n",
       "      <td>8</td>\n",
       "      <td>Decent Work and Economic Growth</td>\n",
       "      <td>NaN</td>\n",
       "      <td>NaN</td>\n",
       "      <td>NaN</td>\n",
       "    </tr>\n",
       "    <tr>\n",
       "      <th>8</th>\n",
       "      <td>7</td>\n",
       "      <td>300</td>\n",
       "      <td>7_digital_solutions_customers_production</td>\n",
       "      <td>[digital, solutions, customers, production, bu...</td>\n",
       "      <td>[→Innovation and development cycles have \\nsho...</td>\n",
       "      <td>True</td>\n",
       "      <td>Industrial Digital Manufacturing Solutions</td>\n",
       "      <td>This topic cluster focuses on Siemens' use of ...</td>\n",
       "      <td>False</td>\n",
       "      <td>The cluster centers explicitly on digital and ...</td>\n",
       "      <td>0.95</td>\n",
       "      <td>9</td>\n",
       "      <td>Industry, Innovation and Infrastructure</td>\n",
       "      <td>NaN</td>\n",
       "      <td>NaN</td>\n",
       "      <td>NaN</td>\n",
       "    </tr>\n",
       "    <tr>\n",
       "      <th>9</th>\n",
       "      <td>8</td>\n",
       "      <td>276</td>\n",
       "      <td>8_100_gmbh_siemens_spain</td>\n",
       "      <td>[100, gmbh, siemens, spain, limited, healthcar...</td>\n",
       "      <td>[10\\n Ex\\nemption pursuant to Section 264 (3) ...</td>\n",
       "      <td>False</td>\n",
       "      <td>Subsidiaries and Corporate Structure</td>\n",
       "      <td>This cluster predominantly lists subsidiaries,...</td>\n",
       "      <td>True</td>\n",
       "      <td>The text samples largely consist of detailed l...</td>\n",
       "      <td>0.95</td>\n",
       "      <td></td>\n",
       "      <td></td>\n",
       "      <td>NaN</td>\n",
       "      <td>NaN</td>\n",
       "      <td>NaN</td>\n",
       "    </tr>\n",
       "    <tr>\n",
       "      <th>10</th>\n",
       "      <td>9</td>\n",
       "      <td>167</td>\n",
       "      <td>9_safety_health_work_occupational</td>\n",
       "      <td>[safety, health, work, occupational, employees...</td>\n",
       "      <td>[→ Managers and employees can take advantage o...</td>\n",
       "      <td>True</td>\n",
       "      <td>Occupational Health and Safety</td>\n",
       "      <td>This cluster focuses on Siemens AG's commitmen...</td>\n",
       "      <td>False</td>\n",
       "      <td>The cluster is focused specifically on health ...</td>\n",
       "      <td>0.95</td>\n",
       "      <td>8</td>\n",
       "      <td>Decent Work and Economic Growth</td>\n",
       "      <td>NaN</td>\n",
       "      <td>NaN</td>\n",
       "      <td>NaN</td>\n",
       "    </tr>\n",
       "    <tr>\n",
       "      <th>11</th>\n",
       "      <td>10</td>\n",
       "      <td>156</td>\n",
       "      <td>10_cybersecurity_data_security_privacy</td>\n",
       "      <td>[cybersecurity, data, security, privacy, ai, p...</td>\n",
       "      <td>[Proactively dealing with threats, \\nincidents...</td>\n",
       "      <td>True</td>\n",
       "      <td>Corporate Cybersecurity and Data Privacy</td>\n",
       "      <td>The cluster focuses on Siemens' comprehensive ...</td>\n",
       "      <td>False</td>\n",
       "      <td>The cluster contains detailed references to cy...</td>\n",
       "      <td>0.95</td>\n",
       "      <td>9</td>\n",
       "      <td>Industry, Innovation and Infrastructure</td>\n",
       "      <td>NaN</td>\n",
       "      <td>NaN</td>\n",
       "      <td>NaN</td>\n",
       "    </tr>\n",
       "    <tr>\n",
       "      <th>12</th>\n",
       "      <td>11</td>\n",
       "      <td>122</td>\n",
       "      <td>11_rate_currency_financial_foreign</td>\n",
       "      <td>[rate, currency, financial, foreign, fair, ins...</td>\n",
       "      <td>[The Company had interest rate swap contracts ...</td>\n",
       "      <td>True</td>\n",
       "      <td>Currency &amp; Financial Risk Management</td>\n",
       "      <td>This topic cluster centers on Siemens AG's man...</td>\n",
       "      <td>False</td>\n",
       "      <td>The cluster is clearly focused on specific con...</td>\n",
       "      <td>0.92</td>\n",
       "      <td>9</td>\n",
       "      <td>Industry, Innovation and Infrastructure</td>\n",
       "      <td>NaN</td>\n",
       "      <td>NaN</td>\n",
       "      <td>NaN</td>\n",
       "    </tr>\n",
       "    <tr>\n",
       "      <th>13</th>\n",
       "      <td>12</td>\n",
       "      <td>117</td>\n",
       "      <td>12_arrangements_contractual_ol_circumstances</td>\n",
       "      <td>[arrangements, contractual, ol, circumstances,...</td>\n",
       "      <td>[2 \\n Contr\\nol due to rights to appoint, reas...</td>\n",
       "      <td>False</td>\n",
       "      <td>contractual and control arrangements</td>\n",
       "      <td>This cluster centers on contractual control, i...</td>\n",
       "      <td>True</td>\n",
       "      <td>The text samples repeatedly discuss control du...</td>\n",
       "      <td>0.90</td>\n",
       "      <td></td>\n",
       "      <td></td>\n",
       "      <td>NaN</td>\n",
       "      <td>NaN</td>\n",
       "      <td>NaN</td>\n",
       "    </tr>\n",
       "    <tr>\n",
       "      <th>14</th>\n",
       "      <td>13</td>\n",
       "      <td>115</td>\n",
       "      <td>13_emption_264_immateriality_pursuant</td>\n",
       "      <td>[emption, 264, immateriality, pursuant, sectio...</td>\n",
       "      <td>[6 Signif\\nicant influence due to contractual ...</td>\n",
       "      <td>False</td>\n",
       "      <td>Accounting exemptions and legal notes</td>\n",
       "      <td>This cluster contains generic or administrativ...</td>\n",
       "      <td>True</td>\n",
       "      <td>The text samples predominantly refer to exempt...</td>\n",
       "      <td>0.95</td>\n",
       "      <td></td>\n",
       "      <td></td>\n",
       "      <td>NaN</td>\n",
       "      <td>NaN</td>\n",
       "      <td>NaN</td>\n",
       "    </tr>\n",
       "    <tr>\n",
       "      <th>15</th>\n",
       "      <td>14</td>\n",
       "      <td>109</td>\n",
       "      <td>14_healthcare_medical_care_imaging</td>\n",
       "      <td>[healthcare, medical, care, imaging, diagnosti...</td>\n",
       "      <td>[Under the new organizational structure report...</td>\n",
       "      <td>True</td>\n",
       "      <td>Affordable High-Quality Healthcare Solutions</td>\n",
       "      <td>The cluster focuses on Siemens’ contributions ...</td>\n",
       "      <td>False</td>\n",
       "      <td>The collection of texts clearly revolves aroun...</td>\n",
       "      <td>0.95</td>\n",
       "      <td>3</td>\n",
       "      <td>Good Health and Well-being</td>\n",
       "      <td>NaN</td>\n",
       "      <td>NaN</td>\n",
       "      <td>NaN</td>\n",
       "    </tr>\n",
       "    <tr>\n",
       "      <th>16</th>\n",
       "      <td>15</td>\n",
       "      <td>107</td>\n",
       "      <td>15_power_gas_energy_division</td>\n",
       "      <td>[power, gas, energy, division, consumption, tu...</td>\n",
       "      <td>[A.1.1.2  BUSINES S DESCRIPTION\\nThe Power and...</td>\n",
       "      <td>True</td>\n",
       "      <td>Efficient Power Plant Modernization</td>\n",
       "      <td>This cluster discusses Siemens’ efforts to mod...</td>\n",
       "      <td>False</td>\n",
       "      <td>The content centers on improving energy effici...</td>\n",
       "      <td>0.95</td>\n",
       "      <td>7</td>\n",
       "      <td>Affordable and Clean Energy</td>\n",
       "      <td>NaN</td>\n",
       "      <td>NaN</td>\n",
       "      <td>NaN</td>\n",
       "    </tr>\n",
       "    <tr>\n",
       "      <th>17</th>\n",
       "      <td>16</td>\n",
       "      <td>95</td>\n",
       "      <td>16_employees_turnover_percentage_asia</td>\n",
       "      <td>[employees, turnover, percentage, asia, common...</td>\n",
       "      <td>[Siemens employee hires (in thousands) 1\\nFisc...</td>\n",
       "      <td>True</td>\n",
       "      <td>Employee Turnover and Diversity</td>\n",
       "      <td>This cluster focuses on workforce metrics such...</td>\n",
       "      <td>False</td>\n",
       "      <td>The cluster contains detailed, specific data r...</td>\n",
       "      <td>0.90</td>\n",
       "      <td>8</td>\n",
       "      <td>Decent Work and Economic Growth</td>\n",
       "      <td>NaN</td>\n",
       "      <td>NaN</td>\n",
       "      <td>NaN</td>\n",
       "    </tr>\n",
       "    <tr>\n",
       "      <th>18</th>\n",
       "      <td>17</td>\n",
       "      <td>80</td>\n",
       "      <td>17_water_drinking_use_wastewater</td>\n",
       "      <td>[water, drinking, use, wastewater, risks, loca...</td>\n",
       "      <td>[OUR OWN ACTIVITIES \\nFor more information abo...</td>\n",
       "      <td>True</td>\n",
       "      <td>Water Management and Sustainability</td>\n",
       "      <td>This topic cluster centers on Siemens' water u...</td>\n",
       "      <td>False</td>\n",
       "      <td>The cluster clearly focuses on specific sustai...</td>\n",
       "      <td>0.95</td>\n",
       "      <td>6</td>\n",
       "      <td>Clean Water and Sanitation</td>\n",
       "      <td>NaN</td>\n",
       "      <td>NaN</td>\n",
       "      <td>NaN</td>\n",
       "    </tr>\n",
       "    <tr>\n",
       "      <th>19</th>\n",
       "      <td>18</td>\n",
       "      <td>40</td>\n",
       "      <td>18_vienna_city_häupl_michael</td>\n",
       "      <td>[vienna, city, häupl, michael, transportation,...</td>\n",
       "      <td>[What initiatives would you like to launch in ...</td>\n",
       "      <td>True</td>\n",
       "      <td>Smart Sustainable Urban Infrastructure</td>\n",
       "      <td>This cluster highlights Vienna’s development a...</td>\n",
       "      <td>False</td>\n",
       "      <td>The cluster’s recurring emphasis on smart and ...</td>\n",
       "      <td>0.95</td>\n",
       "      <td>11</td>\n",
       "      <td>Sustainable Cities and Communities</td>\n",
       "      <td>NaN</td>\n",
       "      <td>NaN</td>\n",
       "      <td>NaN</td>\n",
       "    </tr>\n",
       "    <tr>\n",
       "      <th>20</th>\n",
       "      <td>19</td>\n",
       "      <td>39</td>\n",
       "      <td>19_000_500_140_dr</td>\n",
       "      <td>[000, 500, 140, dr, 333, 150, 280, 667, 100, m...</td>\n",
       "      <td>[The compensation shown in the following table...</td>\n",
       "      <td>False</td>\n",
       "      <td>Executive Compensation and Governance</td>\n",
       "      <td>This cluster primarily contains numeric data, ...</td>\n",
       "      <td>True</td>\n",
       "      <td>The majority of text samples list monetary amo...</td>\n",
       "      <td>0.95</td>\n",
       "      <td></td>\n",
       "      <td></td>\n",
       "      <td>NaN</td>\n",
       "      <td>NaN</td>\n",
       "      <td>NaN</td>\n",
       "    </tr>\n",
       "    <tr>\n",
       "      <th>21</th>\n",
       "      <td>20</td>\n",
       "      <td>34</td>\n",
       "      <td>20_ozone_waste_r11_tons</td>\n",
       "      <td>[ozone, waste, r11, tons, organic, metric, emi...</td>\n",
       "      <td>[Emissions of air pollutants\\nIn addition to t...</td>\n",
       "      <td>True</td>\n",
       "      <td>Atmospheric Pollutant Emissions Management</td>\n",
       "      <td>This topic cluster focuses on Siemens AG's mon...</td>\n",
       "      <td>False</td>\n",
       "      <td>The cluster provides specific, detailed data o...</td>\n",
       "      <td>0.95</td>\n",
       "      <td>13</td>\n",
       "      <td>Climate Action</td>\n",
       "      <td>NaN</td>\n",
       "      <td>NaN</td>\n",
       "      <td>NaN</td>\n",
       "    </tr>\n",
       "    <tr>\n",
       "      <th>22</th>\n",
       "      <td>21</td>\n",
       "      <td>30</td>\n",
       "      <td>21_waste_storage_final_hazardous</td>\n",
       "      <td>[waste, storage, final, hazardous, hanau, faci...</td>\n",
       "      <td>[Warranties mainly relate to products sold. Or...</td>\n",
       "      <td>True</td>\n",
       "      <td>Nuclear Facility Decommissioning &amp; Waste Manag...</td>\n",
       "      <td>This topic cluster centers on Siemens AG's lia...</td>\n",
       "      <td>False</td>\n",
       "      <td>The cluster contains detailed discussion on en...</td>\n",
       "      <td>0.95</td>\n",
       "      <td>12</td>\n",
       "      <td>Responsible Consumption and Production</td>\n",
       "      <td>NaN</td>\n",
       "      <td>NaN</td>\n",
       "      <td>NaN</td>\n",
       "    </tr>\n",
       "    <tr>\n",
       "      <th>23</th>\n",
       "      <td>22</td>\n",
       "      <td>27</td>\n",
       "      <td>22_customer_score_customers_key</td>\n",
       "      <td>[customer, score, customers, key, satisfaction...</td>\n",
       "      <td>[To meet these challenges, Siemens strives to ...</td>\n",
       "      <td>True</td>\n",
       "      <td>Customer Satisfaction &amp; Key Account Mgmt</td>\n",
       "      <td>This topic cluster centers on Siemens' systema...</td>\n",
       "      <td>False</td>\n",
       "      <td>The cluster clearly reflects a meaningful sust...</td>\n",
       "      <td>0.92</td>\n",
       "      <td>9</td>\n",
       "      <td>Industry, Innovation and Infrastructure</td>\n",
       "      <td>NaN</td>\n",
       "      <td>NaN</td>\n",
       "      <td>NaN</td>\n",
       "    </tr>\n",
       "    <tr>\n",
       "      <th>24</th>\n",
       "      <td>23</td>\n",
       "      <td>25</td>\n",
       "      <td>23_comparison_solution_reference_installed</td>\n",
       "      <td>[comparison, solution, reference, installed, r...</td>\n",
       "      <td>[Direct comparison with a reference technology...</td>\n",
       "      <td>True</td>\n",
       "      <td>Baseline comparison for CO2 reduction</td>\n",
       "      <td>This topic cluster focuses on methodologies us...</td>\n",
       "      <td>False</td>\n",
       "      <td>The cluster content repeatedly and consistentl...</td>\n",
       "      <td>0.95</td>\n",
       "      <td>13</td>\n",
       "      <td>Climate Action</td>\n",
       "      <td>NaN</td>\n",
       "      <td>NaN</td>\n",
       "      <td>NaN</td>\n",
       "    </tr>\n",
       "    <tr>\n",
       "      <th>25</th>\n",
       "      <td>24</td>\n",
       "      <td>22</td>\n",
       "      <td>24_iur_rer__</td>\n",
       "      <td>[iur, rer, , , , , , , , ]</td>\n",
       "      <td>[rer, iur, iur]</td>\n",
       "      <td>False</td>\n",
       "      <td>N/A</td>\n",
       "      <td>This cluster contains generic or administrativ...</td>\n",
       "      <td>True</td>\n",
       "      <td>The provided keywords and text samples are eit...</td>\n",
       "      <td>0.95</td>\n",
       "      <td></td>\n",
       "      <td></td>\n",
       "      <td>NaN</td>\n",
       "      <td>NaN</td>\n",
       "      <td>NaN</td>\n",
       "    </tr>\n",
       "    <tr>\n",
       "      <th>26</th>\n",
       "      <td>25</td>\n",
       "      <td>16</td>\n",
       "      <td>25_315_par_para_</td>\n",
       "      <td>[315, par, para, , , , , , , ]</td>\n",
       "      <td>[4 and 315 par\\na, 4 and 315 par\\na, 4 and 315...</td>\n",
       "      <td>False</td>\n",
       "      <td>Non-meaningful placeholder text</td>\n",
       "      <td>This cluster contains generic or administrativ...</td>\n",
       "      <td>True</td>\n",
       "      <td>The cluster predominantly consists of repetiti...</td>\n",
       "      <td>0.95</td>\n",
       "      <td></td>\n",
       "      <td></td>\n",
       "      <td>NaN</td>\n",
       "      <td>NaN</td>\n",
       "      <td>NaN</td>\n",
       "    </tr>\n",
       "    <tr>\n",
       "      <th>27</th>\n",
       "      <td>26</td>\n",
       "      <td>15</td>\n",
       "      <td>26_precisely_percentages_totals_add</td>\n",
       "      <td>[precisely, percentages, totals, add, absolute...</td>\n",
       "      <td>[Due to rounding, numbers presented throughout...</td>\n",
       "      <td>False</td>\n",
       "      <td>Rounding disclaimer text</td>\n",
       "      <td>This cluster contains repetitive disclaimer te...</td>\n",
       "      <td>True</td>\n",
       "      <td>The text samples are nearly identical and only...</td>\n",
       "      <td>0.95</td>\n",
       "      <td></td>\n",
       "      <td></td>\n",
       "      <td>NaN</td>\n",
       "      <td>NaN</td>\n",
       "      <td>NaN</td>\n",
       "    </tr>\n",
       "    <tr>\n",
       "      <th>28</th>\n",
       "      <td>27</td>\n",
       "      <td>12</td>\n",
       "      <td>27_leases_sep_30_millions</td>\n",
       "      <td>[leases, sep, 30, millions, current, receivabl...</td>\n",
       "      <td>[Minimum future lease payments under operating...</td>\n",
       "      <td>False</td>\n",
       "      <td>Financial Reporting and Lease Accounting</td>\n",
       "      <td>This cluster primarily contains financial data...</td>\n",
       "      <td>True</td>\n",
       "      <td>The text samples mainly consist of tabulated f...</td>\n",
       "      <td>0.95</td>\n",
       "      <td></td>\n",
       "      <td></td>\n",
       "      <td>NaN</td>\n",
       "      <td>NaN</td>\n",
       "      <td>NaN</td>\n",
       "    </tr>\n",
       "    <tr>\n",
       "      <th>29</th>\n",
       "      <td>28</td>\n",
       "      <td>11</td>\n",
       "      <td>28_shs_siemens_bargaining_gbk</td>\n",
       "      <td>[shs, siemens, bargaining, gbk, brightly, coll...</td>\n",
       "      <td>[1 Siemens without SHS, 2 Siemens without SHS\\...</td>\n",
       "      <td>False</td>\n",
       "      <td>Generic Siemens Corporate Mentions</td>\n",
       "      <td>This cluster contains generic or administrativ...</td>\n",
       "      <td>True</td>\n",
       "      <td>The text samples predominantly consist of repe...</td>\n",
       "      <td>0.95</td>\n",
       "      <td></td>\n",
       "      <td></td>\n",
       "      <td>NaN</td>\n",
       "      <td>NaN</td>\n",
       "      <td>NaN</td>\n",
       "    </tr>\n",
       "  </tbody>\n",
       "</table>\n",
       "</div>"
      ],
      "text/plain": [
       "    Topic  Count                                          Name  \\\n",
       "0      -1   2163              -1_siemens_fiscal_financial_year   \n",
       "1       0   1192               0_financial_cash_million_income   \n",
       "2       1    936  1_sustainability_environmental_gri_emissions   \n",
       "3       2    797                2_compliance_human_rights_risk   \n",
       "4       3    563          3_board_supervisory_siemens_chairman   \n",
       "5       4    408           4_people_diversity_learning_siemens   \n",
       "6       5    348         5_compensation_board_managing_benefit   \n",
       "7       6    300                 6_growth_markets_year_revenue   \n",
       "8       7    300      7_digital_solutions_customers_production   \n",
       "9       8    276                      8_100_gmbh_siemens_spain   \n",
       "10      9    167             9_safety_health_work_occupational   \n",
       "11     10    156        10_cybersecurity_data_security_privacy   \n",
       "12     11    122            11_rate_currency_financial_foreign   \n",
       "13     12    117  12_arrangements_contractual_ol_circumstances   \n",
       "14     13    115         13_emption_264_immateriality_pursuant   \n",
       "15     14    109            14_healthcare_medical_care_imaging   \n",
       "16     15    107                  15_power_gas_energy_division   \n",
       "17     16     95         16_employees_turnover_percentage_asia   \n",
       "18     17     80              17_water_drinking_use_wastewater   \n",
       "19     18     40                  18_vienna_city_häupl_michael   \n",
       "20     19     39                             19_000_500_140_dr   \n",
       "21     20     34                       20_ozone_waste_r11_tons   \n",
       "22     21     30              21_waste_storage_final_hazardous   \n",
       "23     22     27               22_customer_score_customers_key   \n",
       "24     23     25    23_comparison_solution_reference_installed   \n",
       "25     24     22                                  24_iur_rer__   \n",
       "26     25     16                              25_315_par_para_   \n",
       "27     26     15           26_precisely_percentages_totals_add   \n",
       "28     27     12                     27_leases_sep_30_millions   \n",
       "29     28     11                 28_shs_siemens_bargaining_gbk   \n",
       "\n",
       "                                       Representation  \\\n",
       "0   [siemens, fiscal, financial, year, million, in...   \n",
       "1   [financial, cash, million, income, shares, sta...   \n",
       "2   [sustainability, environmental, gri, emissions...   \n",
       "3   [compliance, human, rights, risk, business, ri...   \n",
       "4   [board, supervisory, siemens, chairman, ag, co...   \n",
       "5   [people, diversity, learning, siemens, program...   \n",
       "6   [compensation, board, managing, benefit, pensi...   \n",
       "7   [growth, markets, year, revenue, orders, fisca...   \n",
       "8   [digital, solutions, customers, production, bu...   \n",
       "9   [100, gmbh, siemens, spain, limited, healthcar...   \n",
       "10  [safety, health, work, occupational, employees...   \n",
       "11  [cybersecurity, data, security, privacy, ai, p...   \n",
       "12  [rate, currency, financial, foreign, fair, ins...   \n",
       "13  [arrangements, contractual, ol, circumstances,...   \n",
       "14  [emption, 264, immateriality, pursuant, sectio...   \n",
       "15  [healthcare, medical, care, imaging, diagnosti...   \n",
       "16  [power, gas, energy, division, consumption, tu...   \n",
       "17  [employees, turnover, percentage, asia, common...   \n",
       "18  [water, drinking, use, wastewater, risks, loca...   \n",
       "19  [vienna, city, häupl, michael, transportation,...   \n",
       "20  [000, 500, 140, dr, 333, 150, 280, 667, 100, m...   \n",
       "21  [ozone, waste, r11, tons, organic, metric, emi...   \n",
       "22  [waste, storage, final, hazardous, hanau, faci...   \n",
       "23  [customer, score, customers, key, satisfaction...   \n",
       "24  [comparison, solution, reference, installed, r...   \n",
       "25                         [iur, rer, , , , , , , , ]   \n",
       "26                     [315, par, para, , , , , , , ]   \n",
       "27  [precisely, percentages, totals, add, absolute...   \n",
       "28  [leases, sep, 30, millions, current, receivabl...   \n",
       "29  [shs, siemens, bargaining, gbk, brightly, coll...   \n",
       "\n",
       "                                  Representative_Docs is_meaningful_topic  \\\n",
       "0   [The largest equity instrument allocated to le...                 NaN   \n",
       "1   [The change in Income taxes  resulted from hig...               False   \n",
       "2   [For consistency reasons, we generally apply g...                True   \n",
       "3   [Global agreements \\nSiemens has been an activ...                True   \n",
       "4   [Details regarding the work of the Supervisory...               False   \n",
       "5   [5.1 Working at Siemens5.2 \\nDiversity, Equity...                 NaN   \n",
       "6   [10\\n  Prof. Dr. Russwurm left the Managing Bo...                True   \n",
       "7   [C.9.1.2  MARKET DEVEL OPMENT\\nIn fiscal 2015,...                True   \n",
       "8   [→Innovation and development cycles have \\nsho...                True   \n",
       "9   [10\\n Ex\\nemption pursuant to Section 264 (3) ...               False   \n",
       "10  [→ Managers and employees can take advantage o...                True   \n",
       "11  [Proactively dealing with threats, \\nincidents...                True   \n",
       "12  [The Company had interest rate swap contracts ...                True   \n",
       "13  [2 \\n Contr\\nol due to rights to appoint, reas...               False   \n",
       "14  [6 Signif\\nicant influence due to contractual ...               False   \n",
       "15  [Under the new organizational structure report...                True   \n",
       "16  [A.1.1.2  BUSINES S DESCRIPTION\\nThe Power and...                True   \n",
       "17  [Siemens employee hires (in thousands) 1\\nFisc...                True   \n",
       "18  [OUR OWN ACTIVITIES \\nFor more information abo...                True   \n",
       "19  [What initiatives would you like to launch in ...                True   \n",
       "20  [The compensation shown in the following table...               False   \n",
       "21  [Emissions of air pollutants\\nIn addition to t...                True   \n",
       "22  [Warranties mainly relate to products sold. Or...                True   \n",
       "23  [To meet these challenges, Siemens strives to ...                True   \n",
       "24  [Direct comparison with a reference technology...                True   \n",
       "25                                    [rer, iur, iur]               False   \n",
       "26  [4 and 315 par\\na, 4 and 315 par\\na, 4 and 315...               False   \n",
       "27  [Due to rounding, numbers presented throughout...               False   \n",
       "28  [Minimum future lease payments under operating...               False   \n",
       "29  [1 Siemens without SHS, 2 Siemens without SHS\\...               False   \n",
       "\n",
       "                                          topic_label  \\\n",
       "0                                                 NaN   \n",
       "1                 Financial and Shareholder Reporting   \n",
       "2   Siemens Environmental Portfolio and Sustainabi...   \n",
       "3                     Corporate Compliance and Ethics   \n",
       "4           Corporate Governance and Board Management   \n",
       "5                                                 NaN   \n",
       "6                     Board Compensation and Benefits   \n",
       "7                   Global Market and Economic Growth   \n",
       "8          Industrial Digital Manufacturing Solutions   \n",
       "9                Subsidiaries and Corporate Structure   \n",
       "10                     Occupational Health and Safety   \n",
       "11           Corporate Cybersecurity and Data Privacy   \n",
       "12               Currency & Financial Risk Management   \n",
       "13               contractual and control arrangements   \n",
       "14              Accounting exemptions and legal notes   \n",
       "15       Affordable High-Quality Healthcare Solutions   \n",
       "16                Efficient Power Plant Modernization   \n",
       "17                    Employee Turnover and Diversity   \n",
       "18                Water Management and Sustainability   \n",
       "19             Smart Sustainable Urban Infrastructure   \n",
       "20              Executive Compensation and Governance   \n",
       "21         Atmospheric Pollutant Emissions Management   \n",
       "22  Nuclear Facility Decommissioning & Waste Manag...   \n",
       "23           Customer Satisfaction & Key Account Mgmt   \n",
       "24              Baseline comparison for CO2 reduction   \n",
       "25                                                N/A   \n",
       "26                    Non-meaningful placeholder text   \n",
       "27                           Rounding disclaimer text   \n",
       "28           Financial Reporting and Lease Accounting   \n",
       "29                 Generic Siemens Corporate Mentions   \n",
       "\n",
       "                                              summary is_generic  \\\n",
       "0                                                 NaN        NaN   \n",
       "1   This cluster mainly contains financial reporti...       True   \n",
       "2   This topic cluster centers on Siemens AG's int...      False   \n",
       "3   This cluster focuses on Siemens’ comprehensive...      False   \n",
       "4   This cluster contains information related to b...       True   \n",
       "5                                                 NaN        NaN   \n",
       "6   This topic cluster focuses on the compensation...      False   \n",
       "7   This topic cluster discusses Siemens AG's mark...      False   \n",
       "8   This topic cluster focuses on Siemens' use of ...      False   \n",
       "9   This cluster predominantly lists subsidiaries,...       True   \n",
       "10  This cluster focuses on Siemens AG's commitmen...      False   \n",
       "11  The cluster focuses on Siemens' comprehensive ...      False   \n",
       "12  This topic cluster centers on Siemens AG's man...      False   \n",
       "13  This cluster centers on contractual control, i...       True   \n",
       "14  This cluster contains generic or administrativ...       True   \n",
       "15  The cluster focuses on Siemens’ contributions ...      False   \n",
       "16  This cluster discusses Siemens’ efforts to mod...      False   \n",
       "17  This cluster focuses on workforce metrics such...      False   \n",
       "18  This topic cluster centers on Siemens' water u...      False   \n",
       "19  This cluster highlights Vienna’s development a...      False   \n",
       "20  This cluster primarily contains numeric data, ...       True   \n",
       "21  This topic cluster focuses on Siemens AG's mon...      False   \n",
       "22  This topic cluster centers on Siemens AG's lia...      False   \n",
       "23  This topic cluster centers on Siemens' systema...      False   \n",
       "24  This topic cluster focuses on methodologies us...      False   \n",
       "25  This cluster contains generic or administrativ...       True   \n",
       "26  This cluster contains generic or administrativ...       True   \n",
       "27  This cluster contains repetitive disclaimer te...       True   \n",
       "28  This cluster primarily contains financial data...       True   \n",
       "29  This cluster contains generic or administrativ...       True   \n",
       "\n",
       "                                        justification  confidence_score  \\\n",
       "0                                                 NaN               NaN   \n",
       "1   The text samples are predominantly excerpts of...              0.95   \n",
       "2   The cluster consistently references Siemens' E...              0.95   \n",
       "3   The text samples and keywords consistently con...              0.95   \n",
       "4   The text samples overwhelmingly cover administ...              0.95   \n",
       "5                                                 NaN               NaN   \n",
       "6   The text samples consistently discuss details ...              0.95   \n",
       "7   The cluster predominantly contains economic an...              0.90   \n",
       "8   The cluster centers explicitly on digital and ...              0.95   \n",
       "9   The text samples largely consist of detailed l...              0.95   \n",
       "10  The cluster is focused specifically on health ...              0.95   \n",
       "11  The cluster contains detailed references to cy...              0.95   \n",
       "12  The cluster is clearly focused on specific con...              0.92   \n",
       "13  The text samples repeatedly discuss control du...              0.90   \n",
       "14  The text samples predominantly refer to exempt...              0.95   \n",
       "15  The collection of texts clearly revolves aroun...              0.95   \n",
       "16  The content centers on improving energy effici...              0.95   \n",
       "17  The cluster contains detailed, specific data r...              0.90   \n",
       "18  The cluster clearly focuses on specific sustai...              0.95   \n",
       "19  The cluster’s recurring emphasis on smart and ...              0.95   \n",
       "20  The majority of text samples list monetary amo...              0.95   \n",
       "21  The cluster provides specific, detailed data o...              0.95   \n",
       "22  The cluster contains detailed discussion on en...              0.95   \n",
       "23  The cluster clearly reflects a meaningful sust...              0.92   \n",
       "24  The cluster content repeatedly and consistentl...              0.95   \n",
       "25  The provided keywords and text samples are eit...              0.95   \n",
       "26  The cluster predominantly consists of repetiti...              0.95   \n",
       "27  The text samples are nearly identical and only...              0.95   \n",
       "28  The text samples mainly consist of tabulated f...              0.95   \n",
       "29  The text samples predominantly consist of repe...              0.95   \n",
       "\n",
       "   sdg_number                                 sdg_name error  \\\n",
       "0         NaN                                      NaN   NaN   \n",
       "1                                                        NaN   \n",
       "2          13                           Climate Action   NaN   \n",
       "3          16   Peace, Justice and Strong Institutions   NaN   \n",
       "4                                                        NaN   \n",
       "5         NaN                                      NaN  True   \n",
       "6          16   Peace, Justice and Strong Institutions   NaN   \n",
       "7           8          Decent Work and Economic Growth   NaN   \n",
       "8           9  Industry, Innovation and Infrastructure   NaN   \n",
       "9                                                        NaN   \n",
       "10          8          Decent Work and Economic Growth   NaN   \n",
       "11          9  Industry, Innovation and Infrastructure   NaN   \n",
       "12          9  Industry, Innovation and Infrastructure   NaN   \n",
       "13                                                       NaN   \n",
       "14                                                       NaN   \n",
       "15          3               Good Health and Well-being   NaN   \n",
       "16          7              Affordable and Clean Energy   NaN   \n",
       "17          8          Decent Work and Economic Growth   NaN   \n",
       "18          6               Clean Water and Sanitation   NaN   \n",
       "19         11       Sustainable Cities and Communities   NaN   \n",
       "20                                                       NaN   \n",
       "21         13                           Climate Action   NaN   \n",
       "22         12   Responsible Consumption and Production   NaN   \n",
       "23          9  Industry, Innovation and Infrastructure   NaN   \n",
       "24         13                           Climate Action   NaN   \n",
       "25                                                       NaN   \n",
       "26                                                       NaN   \n",
       "27                                                       NaN   \n",
       "28                                                       NaN   \n",
       "29                                                       NaN   \n",
       "\n",
       "                               error_message  \\\n",
       "0                                        NaN   \n",
       "1                                        NaN   \n",
       "2                                        NaN   \n",
       "3                                        NaN   \n",
       "4                                        NaN   \n",
       "5   Failed to parse JSON from model response   \n",
       "6                                        NaN   \n",
       "7                                        NaN   \n",
       "8                                        NaN   \n",
       "9                                        NaN   \n",
       "10                                       NaN   \n",
       "11                                       NaN   \n",
       "12                                       NaN   \n",
       "13                                       NaN   \n",
       "14                                       NaN   \n",
       "15                                       NaN   \n",
       "16                                       NaN   \n",
       "17                                       NaN   \n",
       "18                                       NaN   \n",
       "19                                       NaN   \n",
       "20                                       NaN   \n",
       "21                                       NaN   \n",
       "22                                       NaN   \n",
       "23                                       NaN   \n",
       "24                                       NaN   \n",
       "25                                       NaN   \n",
       "26                                       NaN   \n",
       "27                                       NaN   \n",
       "28                                       NaN   \n",
       "29                                       NaN   \n",
       "\n",
       "                                         raw_response  \n",
       "0                                                 NaN  \n",
       "1                                                 NaN  \n",
       "2                                                 NaN  \n",
       "3                                                 NaN  \n",
       "4                                                 NaN  \n",
       "5   {\\n  \"is_meaningful_topic\": true,\\n  \"topic_la...  \n",
       "6                                                 NaN  \n",
       "7                                                 NaN  \n",
       "8                                                 NaN  \n",
       "9                                                 NaN  \n",
       "10                                                NaN  \n",
       "11                                                NaN  \n",
       "12                                                NaN  \n",
       "13                                                NaN  \n",
       "14                                                NaN  \n",
       "15                                                NaN  \n",
       "16                                                NaN  \n",
       "17                                                NaN  \n",
       "18                                                NaN  \n",
       "19                                                NaN  \n",
       "20                                                NaN  \n",
       "21                                                NaN  \n",
       "22                                                NaN  \n",
       "23                                                NaN  \n",
       "24                                                NaN  \n",
       "25                                                NaN  \n",
       "26                                                NaN  \n",
       "27                                                NaN  \n",
       "28                                                NaN  \n",
       "29                                                NaN  "
      ]
     },
     "metadata": {},
     "output_type": "display_data"
    }
   ],
   "source": [
    "# Merge df_summary_results with df_topic_info on the Topic field\n",
    "# Assuming the column in df_topic_info that corresponds to Topic is also named \"Topic\"\n",
    "merged_df = df_topic_info.merge(df_summary_results, on=\"Topic\", how=\"left\")\n",
    "\n",
    "# Display the merged DataFrame\n",
    "display(merged_df)\n",
    "\n",
    "# Optional: Save to CSV if needed\n",
    "# merged_df.to_csv(\"merged_sustainability_topics.csv\", index=False)"
   ]
  },
  {
   "cell_type": "code",
   "execution_count": 23,
   "id": "eb1f1c48",
   "metadata": {},
   "outputs": [
    {
     "name": "stdout",
     "output_type": "stream",
     "text": [
      "Total topics: 30\n",
      "Meaningful topics: 17\n"
     ]
    },
    {
     "data": {
      "text/html": [
       "<div>\n",
       "<style scoped>\n",
       "    .dataframe tbody tr th:only-of-type {\n",
       "        vertical-align: middle;\n",
       "    }\n",
       "\n",
       "    .dataframe tbody tr th {\n",
       "        vertical-align: top;\n",
       "    }\n",
       "\n",
       "    .dataframe thead th {\n",
       "        text-align: right;\n",
       "    }\n",
       "</style>\n",
       "<table border=\"1\" class=\"dataframe\">\n",
       "  <thead>\n",
       "    <tr style=\"text-align: right;\">\n",
       "      <th></th>\n",
       "      <th>Topic</th>\n",
       "      <th>Count</th>\n",
       "      <th>Name</th>\n",
       "      <th>Representation</th>\n",
       "      <th>Representative_Docs</th>\n",
       "      <th>is_meaningful_topic</th>\n",
       "      <th>topic_label</th>\n",
       "      <th>summary</th>\n",
       "      <th>is_generic</th>\n",
       "      <th>justification</th>\n",
       "      <th>confidence_score</th>\n",
       "      <th>sdg_number</th>\n",
       "      <th>sdg_name</th>\n",
       "      <th>error</th>\n",
       "      <th>error_message</th>\n",
       "      <th>raw_response</th>\n",
       "    </tr>\n",
       "  </thead>\n",
       "  <tbody>\n",
       "    <tr>\n",
       "      <th>2</th>\n",
       "      <td>1</td>\n",
       "      <td>936</td>\n",
       "      <td>1_sustainability_environmental_gri_emissions</td>\n",
       "      <td>[sustainability, environmental, gri, emissions...</td>\n",
       "      <td>[For consistency reasons, we generally apply g...</td>\n",
       "      <td>True</td>\n",
       "      <td>Siemens Environmental Portfolio and Sustainabi...</td>\n",
       "      <td>This topic cluster centers on Siemens AG's int...</td>\n",
       "      <td>False</td>\n",
       "      <td>The cluster consistently references Siemens' E...</td>\n",
       "      <td>0.95</td>\n",
       "      <td>13</td>\n",
       "      <td>Climate Action</td>\n",
       "      <td>NaN</td>\n",
       "      <td>NaN</td>\n",
       "      <td>NaN</td>\n",
       "    </tr>\n",
       "    <tr>\n",
       "      <th>3</th>\n",
       "      <td>2</td>\n",
       "      <td>797</td>\n",
       "      <td>2_compliance_human_rights_risk</td>\n",
       "      <td>[compliance, human, rights, risk, business, ri...</td>\n",
       "      <td>[Global agreements \\nSiemens has been an activ...</td>\n",
       "      <td>True</td>\n",
       "      <td>Corporate Compliance and Ethics</td>\n",
       "      <td>This cluster focuses on Siemens’ comprehensive...</td>\n",
       "      <td>False</td>\n",
       "      <td>The text samples and keywords consistently con...</td>\n",
       "      <td>0.95</td>\n",
       "      <td>16</td>\n",
       "      <td>Peace, Justice and Strong Institutions</td>\n",
       "      <td>NaN</td>\n",
       "      <td>NaN</td>\n",
       "      <td>NaN</td>\n",
       "    </tr>\n",
       "    <tr>\n",
       "      <th>6</th>\n",
       "      <td>5</td>\n",
       "      <td>348</td>\n",
       "      <td>5_compensation_board_managing_benefit</td>\n",
       "      <td>[compensation, board, managing, benefit, pensi...</td>\n",
       "      <td>[10\\n  Prof. Dr. Russwurm left the Managing Bo...</td>\n",
       "      <td>True</td>\n",
       "      <td>Board Compensation and Benefits</td>\n",
       "      <td>This topic cluster focuses on the compensation...</td>\n",
       "      <td>False</td>\n",
       "      <td>The text samples consistently discuss details ...</td>\n",
       "      <td>0.95</td>\n",
       "      <td>16</td>\n",
       "      <td>Peace, Justice and Strong Institutions</td>\n",
       "      <td>NaN</td>\n",
       "      <td>NaN</td>\n",
       "      <td>NaN</td>\n",
       "    </tr>\n",
       "    <tr>\n",
       "      <th>7</th>\n",
       "      <td>6</td>\n",
       "      <td>300</td>\n",
       "      <td>6_growth_markets_year_revenue</td>\n",
       "      <td>[growth, markets, year, revenue, orders, fisca...</td>\n",
       "      <td>[C.9.1.2  MARKET DEVEL OPMENT\\nIn fiscal 2015,...</td>\n",
       "      <td>True</td>\n",
       "      <td>Global Market and Economic Growth</td>\n",
       "      <td>This topic cluster discusses Siemens AG's mark...</td>\n",
       "      <td>False</td>\n",
       "      <td>The cluster predominantly contains economic an...</td>\n",
       "      <td>0.90</td>\n",
       "      <td>8</td>\n",
       "      <td>Decent Work and Economic Growth</td>\n",
       "      <td>NaN</td>\n",
       "      <td>NaN</td>\n",
       "      <td>NaN</td>\n",
       "    </tr>\n",
       "    <tr>\n",
       "      <th>8</th>\n",
       "      <td>7</td>\n",
       "      <td>300</td>\n",
       "      <td>7_digital_solutions_customers_production</td>\n",
       "      <td>[digital, solutions, customers, production, bu...</td>\n",
       "      <td>[→Innovation and development cycles have \\nsho...</td>\n",
       "      <td>True</td>\n",
       "      <td>Industrial Digital Manufacturing Solutions</td>\n",
       "      <td>This topic cluster focuses on Siemens' use of ...</td>\n",
       "      <td>False</td>\n",
       "      <td>The cluster centers explicitly on digital and ...</td>\n",
       "      <td>0.95</td>\n",
       "      <td>9</td>\n",
       "      <td>Industry, Innovation and Infrastructure</td>\n",
       "      <td>NaN</td>\n",
       "      <td>NaN</td>\n",
       "      <td>NaN</td>\n",
       "    </tr>\n",
       "    <tr>\n",
       "      <th>10</th>\n",
       "      <td>9</td>\n",
       "      <td>167</td>\n",
       "      <td>9_safety_health_work_occupational</td>\n",
       "      <td>[safety, health, work, occupational, employees...</td>\n",
       "      <td>[→ Managers and employees can take advantage o...</td>\n",
       "      <td>True</td>\n",
       "      <td>Occupational Health and Safety</td>\n",
       "      <td>This cluster focuses on Siemens AG's commitmen...</td>\n",
       "      <td>False</td>\n",
       "      <td>The cluster is focused specifically on health ...</td>\n",
       "      <td>0.95</td>\n",
       "      <td>8</td>\n",
       "      <td>Decent Work and Economic Growth</td>\n",
       "      <td>NaN</td>\n",
       "      <td>NaN</td>\n",
       "      <td>NaN</td>\n",
       "    </tr>\n",
       "    <tr>\n",
       "      <th>11</th>\n",
       "      <td>10</td>\n",
       "      <td>156</td>\n",
       "      <td>10_cybersecurity_data_security_privacy</td>\n",
       "      <td>[cybersecurity, data, security, privacy, ai, p...</td>\n",
       "      <td>[Proactively dealing with threats, \\nincidents...</td>\n",
       "      <td>True</td>\n",
       "      <td>Corporate Cybersecurity and Data Privacy</td>\n",
       "      <td>The cluster focuses on Siemens' comprehensive ...</td>\n",
       "      <td>False</td>\n",
       "      <td>The cluster contains detailed references to cy...</td>\n",
       "      <td>0.95</td>\n",
       "      <td>9</td>\n",
       "      <td>Industry, Innovation and Infrastructure</td>\n",
       "      <td>NaN</td>\n",
       "      <td>NaN</td>\n",
       "      <td>NaN</td>\n",
       "    </tr>\n",
       "    <tr>\n",
       "      <th>12</th>\n",
       "      <td>11</td>\n",
       "      <td>122</td>\n",
       "      <td>11_rate_currency_financial_foreign</td>\n",
       "      <td>[rate, currency, financial, foreign, fair, ins...</td>\n",
       "      <td>[The Company had interest rate swap contracts ...</td>\n",
       "      <td>True</td>\n",
       "      <td>Currency &amp; Financial Risk Management</td>\n",
       "      <td>This topic cluster centers on Siemens AG's man...</td>\n",
       "      <td>False</td>\n",
       "      <td>The cluster is clearly focused on specific con...</td>\n",
       "      <td>0.92</td>\n",
       "      <td>9</td>\n",
       "      <td>Industry, Innovation and Infrastructure</td>\n",
       "      <td>NaN</td>\n",
       "      <td>NaN</td>\n",
       "      <td>NaN</td>\n",
       "    </tr>\n",
       "    <tr>\n",
       "      <th>15</th>\n",
       "      <td>14</td>\n",
       "      <td>109</td>\n",
       "      <td>14_healthcare_medical_care_imaging</td>\n",
       "      <td>[healthcare, medical, care, imaging, diagnosti...</td>\n",
       "      <td>[Under the new organizational structure report...</td>\n",
       "      <td>True</td>\n",
       "      <td>Affordable High-Quality Healthcare Solutions</td>\n",
       "      <td>The cluster focuses on Siemens’ contributions ...</td>\n",
       "      <td>False</td>\n",
       "      <td>The collection of texts clearly revolves aroun...</td>\n",
       "      <td>0.95</td>\n",
       "      <td>3</td>\n",
       "      <td>Good Health and Well-being</td>\n",
       "      <td>NaN</td>\n",
       "      <td>NaN</td>\n",
       "      <td>NaN</td>\n",
       "    </tr>\n",
       "    <tr>\n",
       "      <th>16</th>\n",
       "      <td>15</td>\n",
       "      <td>107</td>\n",
       "      <td>15_power_gas_energy_division</td>\n",
       "      <td>[power, gas, energy, division, consumption, tu...</td>\n",
       "      <td>[A.1.1.2  BUSINES S DESCRIPTION\\nThe Power and...</td>\n",
       "      <td>True</td>\n",
       "      <td>Efficient Power Plant Modernization</td>\n",
       "      <td>This cluster discusses Siemens’ efforts to mod...</td>\n",
       "      <td>False</td>\n",
       "      <td>The content centers on improving energy effici...</td>\n",
       "      <td>0.95</td>\n",
       "      <td>7</td>\n",
       "      <td>Affordable and Clean Energy</td>\n",
       "      <td>NaN</td>\n",
       "      <td>NaN</td>\n",
       "      <td>NaN</td>\n",
       "    </tr>\n",
       "    <tr>\n",
       "      <th>17</th>\n",
       "      <td>16</td>\n",
       "      <td>95</td>\n",
       "      <td>16_employees_turnover_percentage_asia</td>\n",
       "      <td>[employees, turnover, percentage, asia, common...</td>\n",
       "      <td>[Siemens employee hires (in thousands) 1\\nFisc...</td>\n",
       "      <td>True</td>\n",
       "      <td>Employee Turnover and Diversity</td>\n",
       "      <td>This cluster focuses on workforce metrics such...</td>\n",
       "      <td>False</td>\n",
       "      <td>The cluster contains detailed, specific data r...</td>\n",
       "      <td>0.90</td>\n",
       "      <td>8</td>\n",
       "      <td>Decent Work and Economic Growth</td>\n",
       "      <td>NaN</td>\n",
       "      <td>NaN</td>\n",
       "      <td>NaN</td>\n",
       "    </tr>\n",
       "    <tr>\n",
       "      <th>18</th>\n",
       "      <td>17</td>\n",
       "      <td>80</td>\n",
       "      <td>17_water_drinking_use_wastewater</td>\n",
       "      <td>[water, drinking, use, wastewater, risks, loca...</td>\n",
       "      <td>[OUR OWN ACTIVITIES \\nFor more information abo...</td>\n",
       "      <td>True</td>\n",
       "      <td>Water Management and Sustainability</td>\n",
       "      <td>This topic cluster centers on Siemens' water u...</td>\n",
       "      <td>False</td>\n",
       "      <td>The cluster clearly focuses on specific sustai...</td>\n",
       "      <td>0.95</td>\n",
       "      <td>6</td>\n",
       "      <td>Clean Water and Sanitation</td>\n",
       "      <td>NaN</td>\n",
       "      <td>NaN</td>\n",
       "      <td>NaN</td>\n",
       "    </tr>\n",
       "    <tr>\n",
       "      <th>19</th>\n",
       "      <td>18</td>\n",
       "      <td>40</td>\n",
       "      <td>18_vienna_city_häupl_michael</td>\n",
       "      <td>[vienna, city, häupl, michael, transportation,...</td>\n",
       "      <td>[What initiatives would you like to launch in ...</td>\n",
       "      <td>True</td>\n",
       "      <td>Smart Sustainable Urban Infrastructure</td>\n",
       "      <td>This cluster highlights Vienna’s development a...</td>\n",
       "      <td>False</td>\n",
       "      <td>The cluster’s recurring emphasis on smart and ...</td>\n",
       "      <td>0.95</td>\n",
       "      <td>11</td>\n",
       "      <td>Sustainable Cities and Communities</td>\n",
       "      <td>NaN</td>\n",
       "      <td>NaN</td>\n",
       "      <td>NaN</td>\n",
       "    </tr>\n",
       "    <tr>\n",
       "      <th>21</th>\n",
       "      <td>20</td>\n",
       "      <td>34</td>\n",
       "      <td>20_ozone_waste_r11_tons</td>\n",
       "      <td>[ozone, waste, r11, tons, organic, metric, emi...</td>\n",
       "      <td>[Emissions of air pollutants\\nIn addition to t...</td>\n",
       "      <td>True</td>\n",
       "      <td>Atmospheric Pollutant Emissions Management</td>\n",
       "      <td>This topic cluster focuses on Siemens AG's mon...</td>\n",
       "      <td>False</td>\n",
       "      <td>The cluster provides specific, detailed data o...</td>\n",
       "      <td>0.95</td>\n",
       "      <td>13</td>\n",
       "      <td>Climate Action</td>\n",
       "      <td>NaN</td>\n",
       "      <td>NaN</td>\n",
       "      <td>NaN</td>\n",
       "    </tr>\n",
       "    <tr>\n",
       "      <th>22</th>\n",
       "      <td>21</td>\n",
       "      <td>30</td>\n",
       "      <td>21_waste_storage_final_hazardous</td>\n",
       "      <td>[waste, storage, final, hazardous, hanau, faci...</td>\n",
       "      <td>[Warranties mainly relate to products sold. Or...</td>\n",
       "      <td>True</td>\n",
       "      <td>Nuclear Facility Decommissioning &amp; Waste Manag...</td>\n",
       "      <td>This topic cluster centers on Siemens AG's lia...</td>\n",
       "      <td>False</td>\n",
       "      <td>The cluster contains detailed discussion on en...</td>\n",
       "      <td>0.95</td>\n",
       "      <td>12</td>\n",
       "      <td>Responsible Consumption and Production</td>\n",
       "      <td>NaN</td>\n",
       "      <td>NaN</td>\n",
       "      <td>NaN</td>\n",
       "    </tr>\n",
       "    <tr>\n",
       "      <th>23</th>\n",
       "      <td>22</td>\n",
       "      <td>27</td>\n",
       "      <td>22_customer_score_customers_key</td>\n",
       "      <td>[customer, score, customers, key, satisfaction...</td>\n",
       "      <td>[To meet these challenges, Siemens strives to ...</td>\n",
       "      <td>True</td>\n",
       "      <td>Customer Satisfaction &amp; Key Account Mgmt</td>\n",
       "      <td>This topic cluster centers on Siemens' systema...</td>\n",
       "      <td>False</td>\n",
       "      <td>The cluster clearly reflects a meaningful sust...</td>\n",
       "      <td>0.92</td>\n",
       "      <td>9</td>\n",
       "      <td>Industry, Innovation and Infrastructure</td>\n",
       "      <td>NaN</td>\n",
       "      <td>NaN</td>\n",
       "      <td>NaN</td>\n",
       "    </tr>\n",
       "    <tr>\n",
       "      <th>24</th>\n",
       "      <td>23</td>\n",
       "      <td>25</td>\n",
       "      <td>23_comparison_solution_reference_installed</td>\n",
       "      <td>[comparison, solution, reference, installed, r...</td>\n",
       "      <td>[Direct comparison with a reference technology...</td>\n",
       "      <td>True</td>\n",
       "      <td>Baseline comparison for CO2 reduction</td>\n",
       "      <td>This topic cluster focuses on methodologies us...</td>\n",
       "      <td>False</td>\n",
       "      <td>The cluster content repeatedly and consistentl...</td>\n",
       "      <td>0.95</td>\n",
       "      <td>13</td>\n",
       "      <td>Climate Action</td>\n",
       "      <td>NaN</td>\n",
       "      <td>NaN</td>\n",
       "      <td>NaN</td>\n",
       "    </tr>\n",
       "  </tbody>\n",
       "</table>\n",
       "</div>"
      ],
      "text/plain": [
       "    Topic  Count                                          Name  \\\n",
       "2       1    936  1_sustainability_environmental_gri_emissions   \n",
       "3       2    797                2_compliance_human_rights_risk   \n",
       "6       5    348         5_compensation_board_managing_benefit   \n",
       "7       6    300                 6_growth_markets_year_revenue   \n",
       "8       7    300      7_digital_solutions_customers_production   \n",
       "10      9    167             9_safety_health_work_occupational   \n",
       "11     10    156        10_cybersecurity_data_security_privacy   \n",
       "12     11    122            11_rate_currency_financial_foreign   \n",
       "15     14    109            14_healthcare_medical_care_imaging   \n",
       "16     15    107                  15_power_gas_energy_division   \n",
       "17     16     95         16_employees_turnover_percentage_asia   \n",
       "18     17     80              17_water_drinking_use_wastewater   \n",
       "19     18     40                  18_vienna_city_häupl_michael   \n",
       "21     20     34                       20_ozone_waste_r11_tons   \n",
       "22     21     30              21_waste_storage_final_hazardous   \n",
       "23     22     27               22_customer_score_customers_key   \n",
       "24     23     25    23_comparison_solution_reference_installed   \n",
       "\n",
       "                                       Representation  \\\n",
       "2   [sustainability, environmental, gri, emissions...   \n",
       "3   [compliance, human, rights, risk, business, ri...   \n",
       "6   [compensation, board, managing, benefit, pensi...   \n",
       "7   [growth, markets, year, revenue, orders, fisca...   \n",
       "8   [digital, solutions, customers, production, bu...   \n",
       "10  [safety, health, work, occupational, employees...   \n",
       "11  [cybersecurity, data, security, privacy, ai, p...   \n",
       "12  [rate, currency, financial, foreign, fair, ins...   \n",
       "15  [healthcare, medical, care, imaging, diagnosti...   \n",
       "16  [power, gas, energy, division, consumption, tu...   \n",
       "17  [employees, turnover, percentage, asia, common...   \n",
       "18  [water, drinking, use, wastewater, risks, loca...   \n",
       "19  [vienna, city, häupl, michael, transportation,...   \n",
       "21  [ozone, waste, r11, tons, organic, metric, emi...   \n",
       "22  [waste, storage, final, hazardous, hanau, faci...   \n",
       "23  [customer, score, customers, key, satisfaction...   \n",
       "24  [comparison, solution, reference, installed, r...   \n",
       "\n",
       "                                  Representative_Docs is_meaningful_topic  \\\n",
       "2   [For consistency reasons, we generally apply g...                True   \n",
       "3   [Global agreements \\nSiemens has been an activ...                True   \n",
       "6   [10\\n  Prof. Dr. Russwurm left the Managing Bo...                True   \n",
       "7   [C.9.1.2  MARKET DEVEL OPMENT\\nIn fiscal 2015,...                True   \n",
       "8   [→Innovation and development cycles have \\nsho...                True   \n",
       "10  [→ Managers and employees can take advantage o...                True   \n",
       "11  [Proactively dealing with threats, \\nincidents...                True   \n",
       "12  [The Company had interest rate swap contracts ...                True   \n",
       "15  [Under the new organizational structure report...                True   \n",
       "16  [A.1.1.2  BUSINES S DESCRIPTION\\nThe Power and...                True   \n",
       "17  [Siemens employee hires (in thousands) 1\\nFisc...                True   \n",
       "18  [OUR OWN ACTIVITIES \\nFor more information abo...                True   \n",
       "19  [What initiatives would you like to launch in ...                True   \n",
       "21  [Emissions of air pollutants\\nIn addition to t...                True   \n",
       "22  [Warranties mainly relate to products sold. Or...                True   \n",
       "23  [To meet these challenges, Siemens strives to ...                True   \n",
       "24  [Direct comparison with a reference technology...                True   \n",
       "\n",
       "                                          topic_label  \\\n",
       "2   Siemens Environmental Portfolio and Sustainabi...   \n",
       "3                     Corporate Compliance and Ethics   \n",
       "6                     Board Compensation and Benefits   \n",
       "7                   Global Market and Economic Growth   \n",
       "8          Industrial Digital Manufacturing Solutions   \n",
       "10                     Occupational Health and Safety   \n",
       "11           Corporate Cybersecurity and Data Privacy   \n",
       "12               Currency & Financial Risk Management   \n",
       "15       Affordable High-Quality Healthcare Solutions   \n",
       "16                Efficient Power Plant Modernization   \n",
       "17                    Employee Turnover and Diversity   \n",
       "18                Water Management and Sustainability   \n",
       "19             Smart Sustainable Urban Infrastructure   \n",
       "21         Atmospheric Pollutant Emissions Management   \n",
       "22  Nuclear Facility Decommissioning & Waste Manag...   \n",
       "23           Customer Satisfaction & Key Account Mgmt   \n",
       "24              Baseline comparison for CO2 reduction   \n",
       "\n",
       "                                              summary is_generic  \\\n",
       "2   This topic cluster centers on Siemens AG's int...      False   \n",
       "3   This cluster focuses on Siemens’ comprehensive...      False   \n",
       "6   This topic cluster focuses on the compensation...      False   \n",
       "7   This topic cluster discusses Siemens AG's mark...      False   \n",
       "8   This topic cluster focuses on Siemens' use of ...      False   \n",
       "10  This cluster focuses on Siemens AG's commitmen...      False   \n",
       "11  The cluster focuses on Siemens' comprehensive ...      False   \n",
       "12  This topic cluster centers on Siemens AG's man...      False   \n",
       "15  The cluster focuses on Siemens’ contributions ...      False   \n",
       "16  This cluster discusses Siemens’ efforts to mod...      False   \n",
       "17  This cluster focuses on workforce metrics such...      False   \n",
       "18  This topic cluster centers on Siemens' water u...      False   \n",
       "19  This cluster highlights Vienna’s development a...      False   \n",
       "21  This topic cluster focuses on Siemens AG's mon...      False   \n",
       "22  This topic cluster centers on Siemens AG's lia...      False   \n",
       "23  This topic cluster centers on Siemens' systema...      False   \n",
       "24  This topic cluster focuses on methodologies us...      False   \n",
       "\n",
       "                                        justification  confidence_score  \\\n",
       "2   The cluster consistently references Siemens' E...              0.95   \n",
       "3   The text samples and keywords consistently con...              0.95   \n",
       "6   The text samples consistently discuss details ...              0.95   \n",
       "7   The cluster predominantly contains economic an...              0.90   \n",
       "8   The cluster centers explicitly on digital and ...              0.95   \n",
       "10  The cluster is focused specifically on health ...              0.95   \n",
       "11  The cluster contains detailed references to cy...              0.95   \n",
       "12  The cluster is clearly focused on specific con...              0.92   \n",
       "15  The collection of texts clearly revolves aroun...              0.95   \n",
       "16  The content centers on improving energy effici...              0.95   \n",
       "17  The cluster contains detailed, specific data r...              0.90   \n",
       "18  The cluster clearly focuses on specific sustai...              0.95   \n",
       "19  The cluster’s recurring emphasis on smart and ...              0.95   \n",
       "21  The cluster provides specific, detailed data o...              0.95   \n",
       "22  The cluster contains detailed discussion on en...              0.95   \n",
       "23  The cluster clearly reflects a meaningful sust...              0.92   \n",
       "24  The cluster content repeatedly and consistentl...              0.95   \n",
       "\n",
       "   sdg_number                                 sdg_name error error_message  \\\n",
       "2          13                           Climate Action   NaN           NaN   \n",
       "3          16   Peace, Justice and Strong Institutions   NaN           NaN   \n",
       "6          16   Peace, Justice and Strong Institutions   NaN           NaN   \n",
       "7           8          Decent Work and Economic Growth   NaN           NaN   \n",
       "8           9  Industry, Innovation and Infrastructure   NaN           NaN   \n",
       "10          8          Decent Work and Economic Growth   NaN           NaN   \n",
       "11          9  Industry, Innovation and Infrastructure   NaN           NaN   \n",
       "12          9  Industry, Innovation and Infrastructure   NaN           NaN   \n",
       "15          3               Good Health and Well-being   NaN           NaN   \n",
       "16          7              Affordable and Clean Energy   NaN           NaN   \n",
       "17          8          Decent Work and Economic Growth   NaN           NaN   \n",
       "18          6               Clean Water and Sanitation   NaN           NaN   \n",
       "19         11       Sustainable Cities and Communities   NaN           NaN   \n",
       "21         13                           Climate Action   NaN           NaN   \n",
       "22         12   Responsible Consumption and Production   NaN           NaN   \n",
       "23          9  Industry, Innovation and Infrastructure   NaN           NaN   \n",
       "24         13                           Climate Action   NaN           NaN   \n",
       "\n",
       "   raw_response  \n",
       "2           NaN  \n",
       "3           NaN  \n",
       "6           NaN  \n",
       "7           NaN  \n",
       "8           NaN  \n",
       "10          NaN  \n",
       "11          NaN  \n",
       "12          NaN  \n",
       "15          NaN  \n",
       "16          NaN  \n",
       "17          NaN  \n",
       "18          NaN  \n",
       "19          NaN  \n",
       "21          NaN  \n",
       "22          NaN  \n",
       "23          NaN  \n",
       "24          NaN  "
      ]
     },
     "metadata": {},
     "output_type": "display_data"
    },
    {
     "name": "stdout",
     "output_type": "stream",
     "text": [
      "Meaningful topic numbers:\n",
      "[1, 2, 5, 6, 7, 9, 10, 11, 14, 15, 16, 17, 18, 20, 21, 22, 23]\n",
      "\n",
      "Number of meaningful topics: 17\n",
      "\n",
      "Meaningful topic numbers (sorted):\n",
      "[1, 2, 5, 6, 7, 9, 10, 11, 14, 15, 16, 17, 18, 20, 21, 22, 23]\n"
     ]
    }
   ],
   "source": [
    "# Filter out non-meaningful topics from the merged DataFrame\n",
    "filtered_df = merged_df[merged_df['is_meaningful_topic'] == True]\n",
    "\n",
    "# Display the count of meaningful topics vs all topics\n",
    "print(f\"Total topics: {len(merged_df)}\")\n",
    "print(f\"Meaningful topics: {len(filtered_df)}\")\n",
    "\n",
    "# Display the filtered DataFrame\n",
    "display(filtered_df)\n",
    "\n",
    "# Optional: Save to CSV if needed\n",
    "# filtered_df.to_csv(\"meaningful_sustainability_topics.csv\", index=False)\n",
    "\n",
    "# Print the topic numbers of meaningful topics\n",
    "meaningful_topics = filtered_df['Topic'].tolist()\n",
    "print(\"Meaningful topic numbers:\")\n",
    "print(meaningful_topics)\n",
    "\n",
    "# Count of meaningful topics\n",
    "print(f\"\\nNumber of meaningful topics: {len(meaningful_topics)}\")\n",
    "\n",
    "# Alternatively, display in a more readable format if there are many topics\n",
    "print(\"\\nMeaningful topic numbers (sorted):\")\n",
    "print(sorted(meaningful_topics))\n"
   ]
  },
  {
   "cell_type": "code",
   "execution_count": 24,
   "id": "3e02b8a6",
   "metadata": {},
   "outputs": [
    {
     "name": "stdout",
     "output_type": "stream",
     "text": [
      "['-1_siemens_fiscal_financial_year', '0_financial_cash_million_income', 'Siemens Environmental Portfolio and Sustainability', 'Corporate Compliance and Ethics', '3_board_supervisory_siemens_chairman', '4_people_diversity_learning_siemens', 'Board Compensation and Benefits', 'Global Market and Economic Growth', 'Industrial Digital Manufacturing Solutions', '8_100_gmbh_siemens_spain', 'Occupational Health and Safety', 'Corporate Cybersecurity and Data Privacy', 'Currency & Financial Risk Management', '12_arrangements_contractual_ol_circumstances', '13_emption_264_immateriality_pursuant', 'Affordable High-Quality Healthcare Solutions', 'Efficient Power Plant Modernization', 'Employee Turnover and Diversity', 'Water Management and Sustainability', 'Smart Sustainable Urban Infrastructure', '19_000_500_140_dr', 'Atmospheric Pollutant Emissions Management', 'Nuclear Facility Decommissioning & Waste Management', 'Customer Satisfaction & Key Account Mgmt', 'Baseline comparison for CO2 reduction', '24_iur_rer__', '25_315_par_para_', '26_precisely_percentages_totals_add', '27_leases_sep_30_millions', '28_shs_siemens_bargaining_gbk']\n"
     ]
    }
   ],
   "source": [
    "#Option 1: Using topic_label as custom labels\n",
    "\n",
    "# Create a dictionary mapping from Topic ID to topic_label\n",
    "topic_label_mapping = {}\n",
    "\n",
    "# Loop through the filtered dataframe (or use merged_df if you want all topics)\n",
    "for index, row in filtered_df.iterrows():\n",
    "    topic_id = row['Topic']\n",
    "    if pd.notna(row['topic_label']):  # Ensure the topic_label is not NaN\n",
    "        topic_label_mapping[topic_id] = row['topic_label']\n",
    "\n",
    "# Set the custom labels in the topic model\n",
    "topic_model.set_topic_labels(topic_label_mapping)\n",
    "\n",
    "# View the custom labels\n",
    "print(topic_model.custom_labels_)"
   ]
  },
  {
   "cell_type": "code",
   "execution_count": 25,
   "id": "f41ae171",
   "metadata": {},
   "outputs": [
    {
     "name": "stdout",
     "output_type": "stream",
     "text": [
      "['-1_siemens_fiscal_financial_year', '0_financial_cash_million_income', 'SDG 13: Climate Action', 'SDG 16: Peace, Justice and Strong Institutions', '3_board_supervisory_siemens_chairman', '4_people_diversity_learning_siemens', 'SDG 16: Peace, Justice and Strong Institutions', 'SDG 8: Decent Work and Economic Growth', 'SDG 9: Industry, Innovation and Infrastructure', '8_100_gmbh_siemens_spain', 'SDG 8: Decent Work and Economic Growth', 'SDG 9: Industry, Innovation and Infrastructure', 'SDG 9: Industry, Innovation and Infrastructure', '12_arrangements_contractual_ol_circumstances', '13_emption_264_immateriality_pursuant', 'SDG 3: Good Health and Well-being', 'SDG 7: Affordable and Clean Energy', 'SDG 8: Decent Work and Economic Growth', 'SDG 6: Clean Water and Sanitation', 'SDG 11: Sustainable Cities and Communities', '19_000_500_140_dr', 'SDG 13: Climate Action', 'SDG 12: Responsible Consumption and Production', 'SDG 9: Industry, Innovation and Infrastructure', 'SDG 13: Climate Action', '24_iur_rer__', '25_315_par_para_', '26_precisely_percentages_totals_add', '27_leases_sep_30_millions', '28_shs_siemens_bargaining_gbk']\n"
     ]
    }
   ],
   "source": [
    "#Option 2: Using SDG number and name concatenated\n",
    "\n",
    "# Create a dictionary mapping from Topic ID to SDG info (number + name)\n",
    "sdg_label_mapping = {}\n",
    "\n",
    "# Loop through the filtered dataframe (or use merged_df if you want all topics)\n",
    "for index, row in filtered_df.iterrows():\n",
    "    topic_id = row['Topic']\n",
    "    sdg_number = row['sdg_number']\n",
    "    sdg_name = row['sdg_name']\n",
    "    \n",
    "    # Only create a label if both SDG number and name are available\n",
    "    if pd.notna(sdg_number) and pd.notna(sdg_name) and sdg_number != \"\" and sdg_name != \"\":\n",
    "        sdg_label = f\"SDG {sdg_number}: {sdg_name}\"\n",
    "        sdg_label_mapping[topic_id] = sdg_label\n",
    "    else:\n",
    "        # Optional: use topic_label as fallback if no SDG info is available\n",
    "        if pd.notna(row['topic_label']):\n",
    "            sdg_label_mapping[topic_id] = row['topic_label']\n",
    "\n",
    "# Set the custom labels in the topic model\n",
    "topic_model.set_topic_labels(sdg_label_mapping)\n",
    "\n",
    "# View the custom labels\n",
    "print(topic_model.custom_labels_)"
   ]
  },
  {
   "cell_type": "code",
   "execution_count": 26,
   "id": "154af33b",
   "metadata": {},
   "outputs": [
    {
     "name": "stdout",
     "output_type": "stream",
     "text": [
      "['-1_siemens_fiscal_financial_year', '0_financial_cash_million_income', 'SDG 13: Climate Action - Siemens Environmental Portfolio and Sustainability', 'SDG 16: Peace, Justice and Strong Institutions - Corporate Compliance and Ethics', '3_board_supervisory_siemens_chairman', '4_people_diversity_learning_siemens', 'SDG 16: Peace, Justice and Strong Institutions - Board Compensation and Benefits', 'SDG 8: Decent Work and Economic Growth - Global Market and Economic Growth', 'SDG 9: Industry, Innovation and Infrastructure - Industrial Digital Manufacturing Solutions', '8_100_gmbh_siemens_spain', 'SDG 8: Decent Work and Economic Growth - Occupational Health and Safety', 'SDG 9: Industry, Innovation and Infrastructure - Corporate Cybersecurity and Data Privacy', 'SDG 9: Industry, Innovation and Infrastructure - Currency & Financial Risk Management', '12_arrangements_contractual_ol_circumstances', '13_emption_264_immateriality_pursuant', 'SDG 3: Good Health and Well-being - Affordable High-Quality Healthcare Solutions', 'SDG 7: Affordable and Clean Energy - Efficient Power Plant Modernization', 'SDG 8: Decent Work and Economic Growth - Employee Turnover and Diversity', 'SDG 6: Clean Water and Sanitation - Water Management and Sustainability', 'SDG 11: Sustainable Cities and Communities - Smart Sustainable Urban Infrastructure', '19_000_500_140_dr', 'SDG 13: Climate Action - Atmospheric Pollutant Emissions Management', 'SDG 12: Responsible Consumption and Production - Nuclear Facility Decommissioning & Waste Management', 'SDG 9: Industry, Innovation and Infrastructure - Customer Satisfaction & Key Account Mgmt', 'SDG 13: Climate Action - Baseline comparison for CO2 reduction', '24_iur_rer__', '25_315_par_para_', '26_precisely_percentages_totals_add', '27_leases_sep_30_millions', '28_shs_siemens_bargaining_gbk']\n"
     ]
    }
   ],
   "source": [
    "#Option 3: Combining SDG information with topic labels\n",
    "\n",
    "# Create a dictionary mapping from Topic ID to combined labels\n",
    "combined_label_mapping = {}\n",
    "\n",
    "# Loop through the filtered dataframe (or use merged_df if you want all topics)\n",
    "for index, row in filtered_df.iterrows():\n",
    "    topic_id = row['Topic']\n",
    "    sdg_number = row['sdg_number']\n",
    "    sdg_name = row['sdg_name']\n",
    "    topic_label = row['topic_label']\n",
    "    \n",
    "    # Start with an empty label\n",
    "    combined_label = \"\"\n",
    "    \n",
    "    # Add SDG info if available\n",
    "    if pd.notna(sdg_number) and pd.notna(sdg_name) and sdg_number != \"\" and sdg_name != \"\":\n",
    "        combined_label += f\"SDG {sdg_number}: {sdg_name}\"\n",
    "    \n",
    "    # Add topic label if available\n",
    "    if pd.notna(topic_label) and topic_label != \"\":\n",
    "        # Add a separator if we already have SDG info\n",
    "        if combined_label:\n",
    "            combined_label += \" - \"\n",
    "        combined_label += f\"{topic_label}\"\n",
    "    \n",
    "    # Only add to mapping if we have some label content\n",
    "    if combined_label:\n",
    "        combined_label_mapping[topic_id] = combined_label\n",
    "    \n",
    "# Set the custom labels in the topic model\n",
    "topic_model.set_topic_labels(combined_label_mapping)\n",
    "\n",
    "# View the custom labels\n",
    "print(topic_model.custom_labels_)"
   ]
  },
  {
   "cell_type": "code",
   "execution_count": 27,
   "id": "efb67fc8",
   "metadata": {},
   "outputs": [
    {
     "data": {
      "application/vnd.plotly.v1+json": {
       "config": {
        "plotlyServerURL": "https://plot.ly"
       },
       "data": [
        {
         "hoverinfo": "text",
         "hovertext": [
          "<b>Topic 1</b><br>Words: environmental, sustainability, portfolio, emissions, siemens",
          "<b>Topic 1</b><br>Words: environmental, sustainability, portfolio, siemens, report",
          "<b>Topic 1</b><br>Words: environmental, portfolio, sustainability, emissions, carbon",
          "<b>Topic 1</b><br>Words: environmental, portfolio, sustainability, emissions, carbon",
          "<b>Topic 1</b><br>Words: environmental, portfolio, emissions, sustainability, gri",
          "<b>Topic 1</b><br>Words: environmental, portfolio, sustainability, emissions, carbon",
          "<b>Topic 1</b><br>Words: environmental, portfolio, emissions, sustainability, carbon",
          "<b>Topic 1</b><br>Words: sustainability, environmental, siemens, emissions, 2020",
          "<b>Topic 1</b><br>Words: sustainability, gri, wef, environmental, emissions",
          "<b>Topic 1</b><br>Words: gri, sustainability, wef, emissions, 2022",
          "<b>Topic 1</b><br>Words: gri, sustainability, wef, emissions, 30th",
          "<b>Topic 1</b><br>Words: sustainability, gri, emissions, wef, 2024"
         ],
         "marker": {
          "color": "#E69F00"
         },
         "mode": "lines",
         "name": "SDG 13: Climate Action - Siemens Environmental Portfolio and Sustainability",
         "type": "scatter",
         "x": {
          "bdata": "3QfeB98H4AfhB+IH4wfkB+UH5gfnB+gH",
          "dtype": "i2"
         },
         "y": {
          "bdata": "QgAjACYAKwAsACsAIwBAAGEAdwCrALUA",
          "dtype": "i2"
         }
        },
        {
         "hoverinfo": "text",
         "hovertext": [
          "<b>Topic 2</b><br>Words: compliance, risks, risk, business, conduct",
          "<b>Topic 2</b><br>Words: compliance, business, risks, risk, suppliers",
          "<b>Topic 2</b><br>Words: compliance, business, risks, risk, suppliers",
          "<b>Topic 2</b><br>Words: compliance, risk, risks, business, suppliers",
          "<b>Topic 2</b><br>Words: compliance, human, rights, risk, business",
          "<b>Topic 2</b><br>Words: compliance, human, rights, business, risk",
          "<b>Topic 2</b><br>Words: compliance, human, rights, business, risk",
          "<b>Topic 2</b><br>Words: compliance, human, rights, business, risk",
          "<b>Topic 2</b><br>Words: compliance, human, rights, risk, business",
          "<b>Topic 2</b><br>Words: compliance, human, rights, risk, business",
          "<b>Topic 2</b><br>Words: compliance, human, rights, risk, business",
          "<b>Topic 2</b><br>Words: human, compliance, rights, risk, suppliers"
         ],
         "marker": {
          "color": "#56B4E9"
         },
         "mode": "lines",
         "name": "SDG 16: Peace, Justice and Strong Institutions - Corporate Compliance and Ethics",
         "type": "scatter",
         "x": {
          "bdata": "3QfeB98H4AfhB+IH4wfkB+UH5gfnB+gH",
          "dtype": "i2"
         },
         "y": {
          "bdata": "Rzg8QT5OMTBFT1RM",
          "dtype": "i1"
         }
        },
        {
         "hoverinfo": "text",
         "hovertext": [
          "<b>Topic 5</b><br>Words: compensation, benefit, board, managing, benefits",
          "<b>Topic 5</b><br>Words: compensation, board, managing, 000, benefit",
          "<b>Topic 5</b><br>Words: compensation, board, 2015, managing, benefits",
          "<b>Topic 5</b><br>Words: compensation, board, 2015, managing, 2016",
          "<b>Topic 5</b><br>Words: compensation, board, 2016, managing, 2017",
          "<b>Topic 5</b><br>Words: compensation, board, managing, pension, benefit",
          "<b>Topic 5</b><br>Words: compensation, board, managing, benefits, pension",
          "<b>Topic 5</b><br>Words: plans, defined, pension, benefit, contribution",
          "<b>Topic 5</b><br>Words: plans, defined, benefit, contributions, contribution"
         ],
         "marker": {
          "color": "#009E73"
         },
         "mode": "lines",
         "name": "SDG 16: Peace, Justice and Strong Institutions - Board Compensation and Benefits",
         "type": "scatter",
         "x": {
          "bdata": "3QfeB98H4AfhB+IH4wfkB+UH",
          "dtype": "i2"
         },
         "y": {
          "bdata": "SzclJC4oOQEB",
          "dtype": "i1"
         }
        },
        {
         "hoverinfo": "text",
         "hovertext": [
          "<b>Topic 6</b><br>Words: growth, markets, fiscal, year, 2013",
          "<b>Topic 6</b><br>Words: growth, markets, year, market, 2014",
          "<b>Topic 6</b><br>Words: growth, markets, division, revenue, year",
          "<b>Topic 6</b><br>Words: growth, orders, division, markets, market",
          "<b>Topic 6</b><br>Words: growth, markets, revenue, market, year",
          "<b>Topic 6</b><br>Words: growth, orders, revenue, year, fiscal",
          "<b>Topic 6</b><br>Words: growth, revenue, orders, year, fiscal",
          "<b>Topic 6</b><br>Words: 2020, patents, fiscal, held, approximately",
          "<b>Topic 6</b><br>Words: billion, expenditure, patents, compared, 2021",
          "<b>Topic 6</b><br>Words: expenses, billion, 2023, capitalized, rated",
          "<b>Topic 6</b><br>Words: commonwealth, independent, states, growth, markets"
         ],
         "marker": {
          "color": "#F0E442"
         },
         "mode": "lines",
         "name": "SDG 8: Decent Work and Economic Growth - Global Market and Economic Growth",
         "type": "scatter",
         "x": {
          "bdata": "3QfeB98H4AfhB+IH4wfkB+UH5wfoBw==",
          "dtype": "i2"
         },
         "y": {
          "bdata": "OywhJikjKwMCAQE=",
          "dtype": "i1"
         }
        },
        {
         "hoverinfo": "text",
         "hovertext": [
          "<b>Topic 7</b><br>Words: production, solutions, industry, industrial, manufacturing",
          "<b>Topic 7</b><br>Words: software, solutions, production, customers, business",
          "<b>Topic 7</b><br>Words: solutions, division, products, digital, investments",
          "<b>Topic 7</b><br>Words: solutions, digital, services, systems, process",
          "<b>Topic 7</b><br>Words: digital, solutions, customers, production, mindsphere",
          "<b>Topic 7</b><br>Words: digital, solutions, customers, new, products",
          "<b>Topic 7</b><br>Words: digital, industries, investments, solutions, new",
          "<b>Topic 7</b><br>Words: customers, new, digitalization, digital, technology",
          "<b>Topic 7</b><br>Words: customers, digital, technology, business, sustainable",
          "<b>Topic 7</b><br>Words: digital, customers, sustainable, solutions, technology",
          "<b>Topic 7</b><br>Words: digital, customers, sustainable, siemens, solutions",
          "<b>Topic 7</b><br>Words: digital, customers, technology, sustainable, siemens"
         ],
         "marker": {
          "color": "#D55E00"
         },
         "mode": "lines",
         "name": "SDG 9: Industry, Innovation and Infrastructure - Industrial Digital Manufacturing Solutions",
         "type": "scatter",
         "x": {
          "bdata": "3QfeB98H4AfhB+IH4wfkB+UH5gfnB+gH",
          "dtype": "i2"
         },
         "y": {
          "bdata": "QS8NER0YDxMMEBYV",
          "dtype": "i1"
         }
        },
        {
         "hoverinfo": "text",
         "hovertext": [
          "<b>Topic 9</b><br>Words: safety, health, occupational, work, employees",
          "<b>Topic 9</b><br>Words: safety, health, occupational, work, employees",
          "<b>Topic 9</b><br>Words: safety, health, occupational, contractors, work",
          "<b>Topic 9</b><br>Words: safety, fatalities, work, health, contractors",
          "<b>Topic 9</b><br>Words: safety, health, contractors, work, employees",
          "<b>Topic 9</b><br>Words: safety, health, work, occupational, contractors",
          "<b>Topic 9</b><br>Words: safety, health, work, occupational, employees",
          "<b>Topic 9</b><br>Words: health, safety, occupational, employees, work",
          "<b>Topic 9</b><br>Words: safety, health, work, healthy, occupational",
          "<b>Topic 9</b><br>Words: health, safety, work, occupational, healthy",
          "<b>Topic 9</b><br>Words: safety, health, work, occupational, healthy",
          "<b>Topic 9</b><br>Words: safety, health, work, occupational, employees"
         ],
         "marker": {
          "color": "#0072B2"
         },
         "mode": "lines",
         "name": "SDG 8: Decent Work and Economic Growth - Occupational Health and Safety",
         "type": "scatter",
         "x": {
          "bdata": "3QfeB98H4AfhB+IH4wfkB+UH5gfnB+gH",
          "dtype": "i2"
         },
         "y": {
          "bdata": "DgsKBwYMCxIUExIV",
          "dtype": "i1"
         }
        },
        {
         "hoverinfo": "text",
         "hovertext": [
          "<b>Topic 10</b><br>Words: data, privacy, compliance, security, cybersecurity",
          "<b>Topic 10</b><br>Words: data, security, cybersecurity, compliance, protection",
          "<b>Topic 10</b><br>Words: security, systems, data, espionage, crime",
          "<b>Topic 10</b><br>Words: security, cyber, data, cybersecurity, systems",
          "<b>Topic 10</b><br>Words: security, data, threats, cyber, attacks",
          "<b>Topic 10</b><br>Words: security, cyber, data, threats, cybersecurity",
          "<b>Topic 10</b><br>Words: cybersecurity, data, security, protection, privacy",
          "<b>Topic 10</b><br>Words: cybersecurity, data, security, privacy, protection",
          "<b>Topic 10</b><br>Words: cybersecurity, data, security, privacy, protection",
          "<b>Topic 10</b><br>Words: data, cybersecurity, privacy, security, protection",
          "<b>Topic 10</b><br>Words: cybersecurity, data, ai, privacy, security"
         ],
         "marker": {
          "color": "#CC79A7"
         },
         "mode": "lines",
         "name": "SDG 9: Industry, Innovation and Infrastructure - Corporate Cybersecurity and Data Privacy",
         "type": "scatter",
         "x": {
          "bdata": "3QfeB98H4QfiB+MH5AflB+YH5wfoBw==",
          "dtype": "i2"
         },
         "y": {
          "bdata": "AwMBAwIBEg4fIi4=",
          "dtype": "i1"
         }
        },
        {
         "hoverinfo": "text",
         "hovertext": [
          "<b>Topic 11</b><br>Words: rate, currency, foreign, financial, fair",
          "<b>Topic 11</b><br>Words: currency, rate, foreign, financial, fair",
          "<b>Topic 11</b><br>Words: rate, currency, financial, fair, foreign",
          "<b>Topic 11</b><br>Words: rate, currency, financial, fair, foreign",
          "<b>Topic 11</b><br>Words: rate, currency, financial, fair, foreign",
          "<b>Topic 11</b><br>Words: rate, currency, foreign, financial, fair",
          "<b>Topic 11</b><br>Words: rate, currency, financial, foreign, fair"
         ],
         "marker": {
          "color": "#E69F00"
         },
         "mode": "lines",
         "name": "SDG 9: Industry, Innovation and Infrastructure - Currency & Financial Risk Management",
         "type": "scatter",
         "x": {
          "bdata": "3QfeB98H4AfhB+IH4wc=",
          "dtype": "i2"
         },
         "y": {
          "bdata": "GhYPDg8NEQ==",
          "dtype": "i1"
         }
        },
        {
         "hoverinfo": "text",
         "hovertext": [
          "<b>Topic 14</b><br>Words: healthcare, medical, medanta, patients, trehan",
          "<b>Topic 14</b><br>Words: healthcare, medical, hospital, rush, diagnostics",
          "<b>Topic 14</b><br>Words: healthcare, imaging, growth, medical, clinical",
          "<b>Topic 14</b><br>Words: healthcare, growth, diagnostics, imaging, medical",
          "<b>Topic 14</b><br>Words: healthcare, healthineers, diagnostics, services, medical",
          "<b>Topic 14</b><br>Words: healthcare, healthineers, markets, providers, medical",
          "<b>Topic 14</b><br>Words: healthcare, healthineers, care, markets, systems",
          "<b>Topic 14</b><br>Words: clinic, medical, clinics, baiji, local",
          "<b>Topic 14</b><br>Words: healthcare, medical, customers, technology, digital",
          "<b>Topic 14</b><br>Words: care, healthineers, medical, healthcare, cancer",
          "<b>Topic 14</b><br>Words: healthcare, healthineers, medical, care, technology"
         ],
         "marker": {
          "color": "#56B4E9"
         },
         "mode": "lines",
         "name": "SDG 3: Good Health and Well-being - Affordable High-Quality Healthcare Solutions",
         "type": "scatter",
         "x": {
          "bdata": "3QfeB98H4AfhB+IH4wfkB+YH5wfoBw==",
          "dtype": "i2"
         },
         "y": {
          "bdata": "KxcGBQYFBQIFBQQ=",
          "dtype": "i1"
         }
        },
        {
         "hoverinfo": "text",
         "hovertext": [
          "<b>Topic 15</b><br>Words: power, gas, energy, kirishi, plant",
          "<b>Topic 15</b><br>Words: power, energy, gas, division, turbines",
          "<b>Topic 15</b><br>Words: power, energy, gas, division, consumption",
          "<b>Topic 15</b><br>Words: power, division, energy, gas, solutions",
          "<b>Topic 15</b><br>Words: power, gas, energy, division, generation",
          "<b>Topic 15</b><br>Words: power, gas, division, energy, generation",
          "<b>Topic 15</b><br>Words: power, gas, oil, energy, generation",
          "<b>Topic 15</b><br>Words: consumption, energy, fiscal, gas, 20204",
          "<b>Topic 15</b><br>Words: consumption, gigajoules, energy, decreased, consumed",
          "<b>Topic 15</b><br>Words: fy, energy, 2022, consumption, 2021",
          "<b>Topic 15</b><br>Words: 130a, 302, sasb, rt, ee",
          "<b>Topic 15</b><br>Words: energy, consumption, fy, 2024, gigajoules"
         ],
         "marker": {
          "color": "#009E73"
         },
         "mode": "lines",
         "name": "SDG 7: Affordable and Clean Energy - Efficient Power Plant Modernization",
         "type": "scatter",
         "x": {
          "bdata": "3QfeB98H4AfhB+IH4wfkB+UH5gfnB+gH",
          "dtype": "i2"
         },
         "y": {
          "bdata": "KhcKBgcHAgICAwIB",
          "dtype": "i1"
         }
        },
        {
         "hoverinfo": "text",
         "hovertext": [
          "<b>Topic 16</b><br>Words: employees, turnover, exits, involuntary, percentage",
          "<b>Topic 16</b><br>Words: employees, turnover, percentage, thousands, page",
          "<b>Topic 16</b><br>Words: 41, employees, 27, africa, asia",
          "<b>Topic 16</b><br>Words: percentage, employees, 26, commonwealth, africa",
          "<b>Topic 16</b><br>Words: 26, commonwealth, percentage, africa, asia",
          "<b>Topic 16</b><br>Words: employees, percentage, asia, australia, 26",
          "<b>Topic 16</b><br>Words: employees, percentage, asia, australia, commonwealth",
          "<b>Topic 16</b><br>Words: employees, commonwealth, asia, africa, australia",
          "<b>Topic 16</b><br>Words: employees, commonwealth, asia, percentage, exits",
          "<b>Topic 16</b><br>Words: commonwealth, independent, age, employees, percentage",
          "<b>Topic 16</b><br>Words: turnover, employees, involuntary, employee, voluntary",
          "<b>Topic 16</b><br>Words: turnover, employees, involuntary, employee, voluntary"
         ],
         "marker": {
          "color": "#F0E442"
         },
         "mode": "lines",
         "name": "SDG 8: Decent Work and Economic Growth - Employee Turnover and Diversity",
         "type": "scatter",
         "x": {
          "bdata": "3QfeB98H4AfhB+IH4wfkB+UH5gfnB+gH",
          "dtype": "i2"
         },
         "y": {
          "bdata": "DwoFBwUJCgUGBQkJ",
          "dtype": "i1"
         }
        },
        {
         "hoverinfo": "text",
         "hovertext": [
          "<b>Topic 17</b><br>Words: water, www, wastewater, website, mandate",
          "<b>Topic 17</b><br>Words: water, wastewater, mandate, www, forward",
          "<b>Topic 17</b><br>Words: water, hubs, safe, drinking, wastewater",
          "<b>Topic 17</b><br>Words: water, use, drinking, safe, cubic",
          "<b>Topic 17</b><br>Words: water, safe, use, drinking, wastewater",
          "<b>Topic 17</b><br>Words: water, drinking, use, safe, stress",
          "<b>Topic 17</b><br>Words: water, wastewater, cooling, drinking, stiftung",
          "<b>Topic 17</b><br>Words: water, supply, drinking, risks, consumption",
          "<b>Topic 17</b><br>Words: water, 2021, locations, kiosk, mandate",
          "<b>Topic 17</b><br>Words: water, locations, drinking, use, 2022",
          "<b>Topic 17</b><br>Words: water, drinking, sites, use, local",
          "<b>Topic 17</b><br>Words: water, drinking, local, sites, 2024"
         ],
         "marker": {
          "color": "#D55E00"
         },
         "mode": "lines",
         "name": "SDG 6: Clean Water and Sanitation - Water Management and Sustainability",
         "type": "scatter",
         "x": {
          "bdata": "3QfeB98H4AfhB+IH4wfkB+UH5gfnB+gH",
          "dtype": "i2"
         },
         "y": {
          "bdata": "BgYEBwQFBQQHCQsM",
          "dtype": "i1"
         }
        },
        {
         "hoverinfo": "text",
         "hovertext": [
          "<b>Topic 18</b><br>Words: vienna, city, häupl, michael, transportation"
         ],
         "marker": {
          "color": "#0072B2"
         },
         "mode": "lines",
         "name": "SDG 11: Sustainable Cities and Communities - Smart Sustainable Urban Infrastructure",
         "type": "scatter",
         "x": {
          "bdata": "3Qc=",
          "dtype": "i2"
         },
         "y": {
          "bdata": "KA==",
          "dtype": "i1"
         }
        },
        {
         "hoverinfo": "text",
         "hovertext": [
          "<b>Topic 20</b><br>Words: ozone, organic, r11, depleting, metric",
          "<b>Topic 20</b><br>Words: ozone, emissions, organic, compounds, r11",
          "<b>Topic 20</b><br>Words: ozone, compounds, organic, surface, r11",
          "<b>Topic 20</b><br>Words: waste, ozone, hazardous, r11, organic",
          "<b>Topic 20</b><br>Words: waste, ozone, r11, hazardous, compounds",
          "<b>Topic 20</b><br>Words: waste, ozone, r11, compounds, organic",
          "<b>Topic 20</b><br>Words: r11, nitrogen, oxides, ods, figure",
          "<b>Topic 20</b><br>Words: ozone, r11, tons, emissions, metric",
          "<b>Topic 20</b><br>Words: ozone, r11, substances, compounds, emissions",
          "<b>Topic 20</b><br>Words: nitrogen, oxides, ozone, combustion, metric",
          "<b>Topic 20</b><br>Words: fy, ozone, metric, tons, 2023",
          "<b>Topic 20</b><br>Words: ozone, ods, metric, tons, r11"
         ],
         "marker": {
          "color": "#CC79A7"
         },
         "mode": "lines",
         "name": "SDG 13: Climate Action - Atmospheric Pollutant Emissions Management",
         "type": "scatter",
         "x": {
          "bdata": "3QfeB98H4AfhB+IH4wfkB+UH5gfnB+gH",
          "dtype": "i2"
         },
         "y": {
          "bdata": "AwMCAwIDAgQDAgIF",
          "dtype": "i1"
         }
        },
        {
         "hoverinfo": "text",
         "hovertext": [
          "<b>Topic 21</b><br>Words: waste, storage, final, hanau, radioactive",
          "<b>Topic 21</b><br>Words: waste, storage, final, radioactive, hazardous",
          "<b>Topic 21</b><br>Words: waste, storage, final, hanau, facility",
          "<b>Topic 21</b><br>Words: waste, final, storage, hanau, facility",
          "<b>Topic 21</b><br>Words: waste, storage, final, hanau, facility",
          "<b>Topic 21</b><br>Words: waste, storage, final, hanau, facility",
          "<b>Topic 21</b><br>Words: waste, final, storage, facility, hanau",
          "<b>Topic 21</b><br>Words: waste, hazardous, construction, non, type",
          "<b>Topic 21</b><br>Words: waste, hazardous, shs, distinguish, demolition",
          "<b>Topic 21</b><br>Words: waste, hazardous, landfill, construction, demolition",
          "<b>Topic 21</b><br>Words: waste, hazardous, construction, volume, thermal",
          "<b>Topic 21</b><br>Words: waste, hazardous, construction, demolition, recycling"
         ],
         "marker": {
          "color": "#E69F00"
         },
         "mode": "lines",
         "name": "SDG 12: Responsible Consumption and Production - Nuclear Facility Decommissioning & Waste Management",
         "type": "scatter",
         "x": {
          "bdata": "3QfeB98H4AfhB+IH4wfkB+UH5gfnB+gH",
          "dtype": "i2"
         },
         "y": {
          "bdata": "AwMDAQIEBQICAgEC",
          "dtype": "i1"
         }
        },
        {
         "hoverinfo": "text",
         "hovertext": [
          "<b>Topic 22</b><br>Words: score, choice, customer, survey, satisfac",
          "<b>Topic 22</b><br>Words: satisfaction, customer, score, customers, colleague",
          "<b>Topic 22</b><br>Words: customer, score, sales, key, customers",
          "<b>Topic 22</b><br>Words: score, customer, customers, key, sales",
          "<b>Topic 22</b><br>Words: customer, score, customers, key, approach",
          "<b>Topic 22</b><br>Words: key, customer, vertical, score, customers",
          "<b>Topic 22</b><br>Words: customer, score, customers, challenges, satisfaction",
          "<b>Topic 22</b><br>Words: customers, customer, score, key, approach",
          "<b>Topic 22</b><br>Words: score, customer, key, customers, satisfaction"
         ],
         "marker": {
          "color": "#56B4E9"
         },
         "mode": "lines",
         "name": "SDG 9: Industry, Innovation and Infrastructure - Customer Satisfaction & Key Account Mgmt",
         "type": "scatter",
         "x": {
          "bdata": "3gfgB+EH4gfkB+UH5gfnB+gH",
          "dtype": "i2"
         },
         "y": {
          "bdata": "AgECAgQFAgUE",
          "dtype": "i1"
         }
        },
        {
         "hoverinfo": "text",
         "hovertext": [
          "<b>Topic 23</b><br>Words: comparison, solution, reference, installed, direct",
          "<b>Topic 23</b><br>Words: comparison, solution, installed, reference, direct",
          "<b>Topic 23</b><br>Words: comparison, solution, installed, reference, refers",
          "<b>Topic 23</b><br>Words: comparison, solution, installed, reference, direct",
          "<b>Topic 23</b><br>Words: comparison, emission, dioxide, solution, installed",
          "<b>Topic 23</b><br>Words: comparison, emission, installed, dioxide, reference",
          "<b>Topic 23</b><br>Words: comparison, refers, solution, offering, situation",
          "<b>Topic 23</b><br>Words: comparison, refers, solution, offering, situation",
          "<b>Topic 23</b><br>Words: comparison, counterfactual, refers, solution, offering"
         ],
         "marker": {
          "color": "#009E73"
         },
         "mode": "lines",
         "name": "SDG 13: Climate Action - Baseline comparison for CO2 reduction",
         "type": "scatter",
         "x": {
          "bdata": "3wfgB+EH4gfjB+UH5gfnB+gH",
          "dtype": "i2"
         },
         "y": {
          "bdata": "AgMDAwEBBAQE",
          "dtype": "i1"
         }
        }
       ],
       "layout": {
        "height": 450,
        "hoverlabel": {
         "bgcolor": "white",
         "font": {
          "family": "Rockwell",
          "size": 16
         }
        },
        "legend": {
         "title": {
          "text": "<b>Global Topic Representation"
         }
        },
        "template": {
         "data": {
          "bar": [
           {
            "error_x": {
             "color": "rgb(36,36,36)"
            },
            "error_y": {
             "color": "rgb(36,36,36)"
            },
            "marker": {
             "line": {
              "color": "white",
              "width": 0.5
             },
             "pattern": {
              "fillmode": "overlay",
              "size": 10,
              "solidity": 0.2
             }
            },
            "type": "bar"
           }
          ],
          "barpolar": [
           {
            "marker": {
             "line": {
              "color": "white",
              "width": 0.5
             },
             "pattern": {
              "fillmode": "overlay",
              "size": 10,
              "solidity": 0.2
             }
            },
            "type": "barpolar"
           }
          ],
          "carpet": [
           {
            "aaxis": {
             "endlinecolor": "rgb(36,36,36)",
             "gridcolor": "white",
             "linecolor": "white",
             "minorgridcolor": "white",
             "startlinecolor": "rgb(36,36,36)"
            },
            "baxis": {
             "endlinecolor": "rgb(36,36,36)",
             "gridcolor": "white",
             "linecolor": "white",
             "minorgridcolor": "white",
             "startlinecolor": "rgb(36,36,36)"
            },
            "type": "carpet"
           }
          ],
          "choropleth": [
           {
            "colorbar": {
             "outlinewidth": 1,
             "tickcolor": "rgb(36,36,36)",
             "ticks": "outside"
            },
            "type": "choropleth"
           }
          ],
          "contour": [
           {
            "colorbar": {
             "outlinewidth": 1,
             "tickcolor": "rgb(36,36,36)",
             "ticks": "outside"
            },
            "colorscale": [
             [
              0,
              "#440154"
             ],
             [
              0.1111111111111111,
              "#482878"
             ],
             [
              0.2222222222222222,
              "#3e4989"
             ],
             [
              0.3333333333333333,
              "#31688e"
             ],
             [
              0.4444444444444444,
              "#26828e"
             ],
             [
              0.5555555555555556,
              "#1f9e89"
             ],
             [
              0.6666666666666666,
              "#35b779"
             ],
             [
              0.7777777777777778,
              "#6ece58"
             ],
             [
              0.8888888888888888,
              "#b5de2b"
             ],
             [
              1,
              "#fde725"
             ]
            ],
            "type": "contour"
           }
          ],
          "contourcarpet": [
           {
            "colorbar": {
             "outlinewidth": 1,
             "tickcolor": "rgb(36,36,36)",
             "ticks": "outside"
            },
            "type": "contourcarpet"
           }
          ],
          "heatmap": [
           {
            "colorbar": {
             "outlinewidth": 1,
             "tickcolor": "rgb(36,36,36)",
             "ticks": "outside"
            },
            "colorscale": [
             [
              0,
              "#440154"
             ],
             [
              0.1111111111111111,
              "#482878"
             ],
             [
              0.2222222222222222,
              "#3e4989"
             ],
             [
              0.3333333333333333,
              "#31688e"
             ],
             [
              0.4444444444444444,
              "#26828e"
             ],
             [
              0.5555555555555556,
              "#1f9e89"
             ],
             [
              0.6666666666666666,
              "#35b779"
             ],
             [
              0.7777777777777778,
              "#6ece58"
             ],
             [
              0.8888888888888888,
              "#b5de2b"
             ],
             [
              1,
              "#fde725"
             ]
            ],
            "type": "heatmap"
           }
          ],
          "histogram": [
           {
            "marker": {
             "line": {
              "color": "white",
              "width": 0.6
             }
            },
            "type": "histogram"
           }
          ],
          "histogram2d": [
           {
            "colorbar": {
             "outlinewidth": 1,
             "tickcolor": "rgb(36,36,36)",
             "ticks": "outside"
            },
            "colorscale": [
             [
              0,
              "#440154"
             ],
             [
              0.1111111111111111,
              "#482878"
             ],
             [
              0.2222222222222222,
              "#3e4989"
             ],
             [
              0.3333333333333333,
              "#31688e"
             ],
             [
              0.4444444444444444,
              "#26828e"
             ],
             [
              0.5555555555555556,
              "#1f9e89"
             ],
             [
              0.6666666666666666,
              "#35b779"
             ],
             [
              0.7777777777777778,
              "#6ece58"
             ],
             [
              0.8888888888888888,
              "#b5de2b"
             ],
             [
              1,
              "#fde725"
             ]
            ],
            "type": "histogram2d"
           }
          ],
          "histogram2dcontour": [
           {
            "colorbar": {
             "outlinewidth": 1,
             "tickcolor": "rgb(36,36,36)",
             "ticks": "outside"
            },
            "colorscale": [
             [
              0,
              "#440154"
             ],
             [
              0.1111111111111111,
              "#482878"
             ],
             [
              0.2222222222222222,
              "#3e4989"
             ],
             [
              0.3333333333333333,
              "#31688e"
             ],
             [
              0.4444444444444444,
              "#26828e"
             ],
             [
              0.5555555555555556,
              "#1f9e89"
             ],
             [
              0.6666666666666666,
              "#35b779"
             ],
             [
              0.7777777777777778,
              "#6ece58"
             ],
             [
              0.8888888888888888,
              "#b5de2b"
             ],
             [
              1,
              "#fde725"
             ]
            ],
            "type": "histogram2dcontour"
           }
          ],
          "mesh3d": [
           {
            "colorbar": {
             "outlinewidth": 1,
             "tickcolor": "rgb(36,36,36)",
             "ticks": "outside"
            },
            "type": "mesh3d"
           }
          ],
          "parcoords": [
           {
            "line": {
             "colorbar": {
              "outlinewidth": 1,
              "tickcolor": "rgb(36,36,36)",
              "ticks": "outside"
             }
            },
            "type": "parcoords"
           }
          ],
          "pie": [
           {
            "automargin": true,
            "type": "pie"
           }
          ],
          "scatter": [
           {
            "fillpattern": {
             "fillmode": "overlay",
             "size": 10,
             "solidity": 0.2
            },
            "type": "scatter"
           }
          ],
          "scatter3d": [
           {
            "line": {
             "colorbar": {
              "outlinewidth": 1,
              "tickcolor": "rgb(36,36,36)",
              "ticks": "outside"
             }
            },
            "marker": {
             "colorbar": {
              "outlinewidth": 1,
              "tickcolor": "rgb(36,36,36)",
              "ticks": "outside"
             }
            },
            "type": "scatter3d"
           }
          ],
          "scattercarpet": [
           {
            "marker": {
             "colorbar": {
              "outlinewidth": 1,
              "tickcolor": "rgb(36,36,36)",
              "ticks": "outside"
             }
            },
            "type": "scattercarpet"
           }
          ],
          "scattergeo": [
           {
            "marker": {
             "colorbar": {
              "outlinewidth": 1,
              "tickcolor": "rgb(36,36,36)",
              "ticks": "outside"
             }
            },
            "type": "scattergeo"
           }
          ],
          "scattergl": [
           {
            "marker": {
             "colorbar": {
              "outlinewidth": 1,
              "tickcolor": "rgb(36,36,36)",
              "ticks": "outside"
             }
            },
            "type": "scattergl"
           }
          ],
          "scattermap": [
           {
            "marker": {
             "colorbar": {
              "outlinewidth": 1,
              "tickcolor": "rgb(36,36,36)",
              "ticks": "outside"
             }
            },
            "type": "scattermap"
           }
          ],
          "scattermapbox": [
           {
            "marker": {
             "colorbar": {
              "outlinewidth": 1,
              "tickcolor": "rgb(36,36,36)",
              "ticks": "outside"
             }
            },
            "type": "scattermapbox"
           }
          ],
          "scatterpolar": [
           {
            "marker": {
             "colorbar": {
              "outlinewidth": 1,
              "tickcolor": "rgb(36,36,36)",
              "ticks": "outside"
             }
            },
            "type": "scatterpolar"
           }
          ],
          "scatterpolargl": [
           {
            "marker": {
             "colorbar": {
              "outlinewidth": 1,
              "tickcolor": "rgb(36,36,36)",
              "ticks": "outside"
             }
            },
            "type": "scatterpolargl"
           }
          ],
          "scatterternary": [
           {
            "marker": {
             "colorbar": {
              "outlinewidth": 1,
              "tickcolor": "rgb(36,36,36)",
              "ticks": "outside"
             }
            },
            "type": "scatterternary"
           }
          ],
          "surface": [
           {
            "colorbar": {
             "outlinewidth": 1,
             "tickcolor": "rgb(36,36,36)",
             "ticks": "outside"
            },
            "colorscale": [
             [
              0,
              "#440154"
             ],
             [
              0.1111111111111111,
              "#482878"
             ],
             [
              0.2222222222222222,
              "#3e4989"
             ],
             [
              0.3333333333333333,
              "#31688e"
             ],
             [
              0.4444444444444444,
              "#26828e"
             ],
             [
              0.5555555555555556,
              "#1f9e89"
             ],
             [
              0.6666666666666666,
              "#35b779"
             ],
             [
              0.7777777777777778,
              "#6ece58"
             ],
             [
              0.8888888888888888,
              "#b5de2b"
             ],
             [
              1,
              "#fde725"
             ]
            ],
            "type": "surface"
           }
          ],
          "table": [
           {
            "cells": {
             "fill": {
              "color": "rgb(237,237,237)"
             },
             "line": {
              "color": "white"
             }
            },
            "header": {
             "fill": {
              "color": "rgb(217,217,217)"
             },
             "line": {
              "color": "white"
             }
            },
            "type": "table"
           }
          ]
         },
         "layout": {
          "annotationdefaults": {
           "arrowhead": 0,
           "arrowwidth": 1
          },
          "autotypenumbers": "strict",
          "coloraxis": {
           "colorbar": {
            "outlinewidth": 1,
            "tickcolor": "rgb(36,36,36)",
            "ticks": "outside"
           }
          },
          "colorscale": {
           "diverging": [
            [
             0,
             "rgb(103,0,31)"
            ],
            [
             0.1,
             "rgb(178,24,43)"
            ],
            [
             0.2,
             "rgb(214,96,77)"
            ],
            [
             0.3,
             "rgb(244,165,130)"
            ],
            [
             0.4,
             "rgb(253,219,199)"
            ],
            [
             0.5,
             "rgb(247,247,247)"
            ],
            [
             0.6,
             "rgb(209,229,240)"
            ],
            [
             0.7,
             "rgb(146,197,222)"
            ],
            [
             0.8,
             "rgb(67,147,195)"
            ],
            [
             0.9,
             "rgb(33,102,172)"
            ],
            [
             1,
             "rgb(5,48,97)"
            ]
           ],
           "sequential": [
            [
             0,
             "#440154"
            ],
            [
             0.1111111111111111,
             "#482878"
            ],
            [
             0.2222222222222222,
             "#3e4989"
            ],
            [
             0.3333333333333333,
             "#31688e"
            ],
            [
             0.4444444444444444,
             "#26828e"
            ],
            [
             0.5555555555555556,
             "#1f9e89"
            ],
            [
             0.6666666666666666,
             "#35b779"
            ],
            [
             0.7777777777777778,
             "#6ece58"
            ],
            [
             0.8888888888888888,
             "#b5de2b"
            ],
            [
             1,
             "#fde725"
            ]
           ],
           "sequentialminus": [
            [
             0,
             "#440154"
            ],
            [
             0.1111111111111111,
             "#482878"
            ],
            [
             0.2222222222222222,
             "#3e4989"
            ],
            [
             0.3333333333333333,
             "#31688e"
            ],
            [
             0.4444444444444444,
             "#26828e"
            ],
            [
             0.5555555555555556,
             "#1f9e89"
            ],
            [
             0.6666666666666666,
             "#35b779"
            ],
            [
             0.7777777777777778,
             "#6ece58"
            ],
            [
             0.8888888888888888,
             "#b5de2b"
            ],
            [
             1,
             "#fde725"
            ]
           ]
          },
          "colorway": [
           "#1F77B4",
           "#FF7F0E",
           "#2CA02C",
           "#D62728",
           "#9467BD",
           "#8C564B",
           "#E377C2",
           "#7F7F7F",
           "#BCBD22",
           "#17BECF"
          ],
          "font": {
           "color": "rgb(36,36,36)"
          },
          "geo": {
           "bgcolor": "white",
           "lakecolor": "white",
           "landcolor": "white",
           "showlakes": true,
           "showland": true,
           "subunitcolor": "white"
          },
          "hoverlabel": {
           "align": "left"
          },
          "hovermode": "closest",
          "mapbox": {
           "style": "light"
          },
          "paper_bgcolor": "white",
          "plot_bgcolor": "white",
          "polar": {
           "angularaxis": {
            "gridcolor": "rgb(232,232,232)",
            "linecolor": "rgb(36,36,36)",
            "showgrid": false,
            "showline": true,
            "ticks": "outside"
           },
           "bgcolor": "white",
           "radialaxis": {
            "gridcolor": "rgb(232,232,232)",
            "linecolor": "rgb(36,36,36)",
            "showgrid": false,
            "showline": true,
            "ticks": "outside"
           }
          },
          "scene": {
           "xaxis": {
            "backgroundcolor": "white",
            "gridcolor": "rgb(232,232,232)",
            "gridwidth": 2,
            "linecolor": "rgb(36,36,36)",
            "showbackground": true,
            "showgrid": false,
            "showline": true,
            "ticks": "outside",
            "zeroline": false,
            "zerolinecolor": "rgb(36,36,36)"
           },
           "yaxis": {
            "backgroundcolor": "white",
            "gridcolor": "rgb(232,232,232)",
            "gridwidth": 2,
            "linecolor": "rgb(36,36,36)",
            "showbackground": true,
            "showgrid": false,
            "showline": true,
            "ticks": "outside",
            "zeroline": false,
            "zerolinecolor": "rgb(36,36,36)"
           },
           "zaxis": {
            "backgroundcolor": "white",
            "gridcolor": "rgb(232,232,232)",
            "gridwidth": 2,
            "linecolor": "rgb(36,36,36)",
            "showbackground": true,
            "showgrid": false,
            "showline": true,
            "ticks": "outside",
            "zeroline": false,
            "zerolinecolor": "rgb(36,36,36)"
           }
          },
          "shapedefaults": {
           "fillcolor": "black",
           "line": {
            "width": 0
           },
           "opacity": 0.3
          },
          "ternary": {
           "aaxis": {
            "gridcolor": "rgb(232,232,232)",
            "linecolor": "rgb(36,36,36)",
            "showgrid": false,
            "showline": true,
            "ticks": "outside"
           },
           "baxis": {
            "gridcolor": "rgb(232,232,232)",
            "linecolor": "rgb(36,36,36)",
            "showgrid": false,
            "showline": true,
            "ticks": "outside"
           },
           "bgcolor": "white",
           "caxis": {
            "gridcolor": "rgb(232,232,232)",
            "linecolor": "rgb(36,36,36)",
            "showgrid": false,
            "showline": true,
            "ticks": "outside"
           }
          },
          "title": {
           "x": 0.05
          },
          "xaxis": {
           "automargin": true,
           "gridcolor": "rgb(232,232,232)",
           "linecolor": "rgb(36,36,36)",
           "showgrid": false,
           "showline": true,
           "ticks": "outside",
           "title": {
            "standoff": 15
           },
           "zeroline": false,
           "zerolinecolor": "rgb(36,36,36)"
          },
          "yaxis": {
           "automargin": true,
           "gridcolor": "rgb(232,232,232)",
           "linecolor": "rgb(36,36,36)",
           "showgrid": false,
           "showline": true,
           "ticks": "outside",
           "title": {
            "standoff": 15
           },
           "zeroline": false,
           "zerolinecolor": "rgb(36,36,36)"
          }
         }
        },
        "title": {
         "font": {
          "color": "Black",
          "size": 22
         },
         "text": "<b>Topics over Time</b>",
         "x": 0.4,
         "xanchor": "center",
         "y": 0.95,
         "yanchor": "top"
        },
        "width": 1250,
        "xaxis": {
         "showgrid": true
        },
        "yaxis": {
         "showgrid": true,
         "title": {
          "text": "Frequency"
         }
        }
       }
      }
     },
     "metadata": {},
     "output_type": "display_data"
    }
   ],
   "source": [
    "topics_over_time = topic_model.topics_over_time(flat_chunks, years)\n",
    "#we set custom labels to True to use the labels we set before\n",
    "topic_model.visualize_topics_over_time(topics_over_time, custom_labels=True, topics=meaningful_topics)"
   ]
  },
  {
   "cell_type": "code",
   "execution_count": 28,
   "id": "38cff195",
   "metadata": {},
   "outputs": [
    {
     "name": "stdout",
     "output_type": "stream",
     "text": [
      "     Topic                                              Words  Frequency  \\\n",
      "0       -1             2013, siemens, financial, fiscal, 2012        418   \n",
      "1        0               2013, financial, cash, 2012, million        284   \n",
      "2        1  environmental, sustainability, portfolio, emis...         66   \n",
      "3        2         compliance, risks, risk, business, conduct         71   \n",
      "4        3          board, supervisory, siemens, chairman, ag        132   \n",
      "..     ...                                                ...        ...   \n",
      "269     20                      ozone, ods, metric, tons, r11          5   \n",
      "270     21  waste, hazardous, construction, demolition, re...          2   \n",
      "271     22      score, customer, key, customers, satisfaction          4   \n",
      "272     23  comparison, counterfactual, refers, solution, ...          4   \n",
      "273     28            shs, siemens, bargaining, gbk, brightly          8   \n",
      "\n",
      "     Timestamp                                               Name  \n",
      "0         2013                   -1_siemens_fiscal_financial_year  \n",
      "1         2013                    0_financial_cash_million_income  \n",
      "2         2013  SDG 13: Climate Action - Siemens Environmental...  \n",
      "3         2013  SDG 16: Peace, Justice and Strong Institutions...  \n",
      "4         2013               3_board_supervisory_siemens_chairman  \n",
      "..         ...                                                ...  \n",
      "269       2024  SDG 13: Climate Action - Atmospheric Pollutant...  \n",
      "270       2024  SDG 12: Responsible Consumption and Production...  \n",
      "271       2024  SDG 9: Industry, Innovation and Infrastructure...  \n",
      "272       2024  SDG 13: Climate Action - Baseline comparison f...  \n",
      "273       2024                      28_shs_siemens_bargaining_gbk  \n",
      "\n",
      "[274 rows x 5 columns]\n"
     ]
    }
   ],
   "source": [
    "print(topics_over_time)"
   ]
  },
  {
   "cell_type": "code",
   "execution_count": 29,
   "id": "4ef2a57f",
   "metadata": {},
   "outputs": [],
   "source": [
    "#If you have repeated SDGs, you could merge the topics for which the SDG is duplicate, and merge them, see docs below for how\n",
    "#https://maartengr.github.io/BERTopic/api/bertopic.html#bertopic._bertopic.BERTopic.merge_models\n",
    "\n",
    "#VISUALIZATIONS\n",
    "\n",
    "#you can try more visualizations, check out the docs:\n",
    "#https://maartengr.github.io/BERTopic/getting_started/visualization/visualization.html#visualize-probabilities-or-distribution"
   ]
  },
  {
   "cell_type": "code",
   "execution_count": 30,
   "id": "64806bce",
   "metadata": {},
   "outputs": [
    {
     "name": "stdout",
     "output_type": "stream",
     "text": [
      "Found 9 distinct SDG groups\n",
      "Group 1: SDG 11 - Sustainable Cities and Communities\n",
      "  Topics: [18]\n",
      "\n",
      "Group 2: SDG 12 - Responsible Consumption and Production\n",
      "  Topics: [21]\n",
      "\n",
      "Group 3: SDG 13 - Climate Action\n",
      "  Topics: [1, 20, 23]\n",
      "\n",
      "Group 4: SDG 16 - Peace, Justice and Strong Institutions\n",
      "  Topics: [2, 5]\n",
      "\n",
      "Group 5: SDG 3 - Good Health and Well-being\n",
      "  Topics: [14]\n",
      "\n",
      "Group 6: SDG 6 - Clean Water and Sanitation\n",
      "  Topics: [17]\n",
      "\n",
      "Group 7: SDG 7 - Affordable and Clean Energy\n",
      "  Topics: [15]\n",
      "\n",
      "Group 8: SDG 8 - Decent Work and Economic Growth\n",
      "  Topics: [6, 9, 16]\n",
      "\n",
      "Group 9: SDG 9 - Industry, Innovation and Infrastructure\n",
      "  Topics: [7, 10, 11, 22]\n",
      "\n",
      "[[18], [21], [1, 20, 23], [2, 5], [14], [17], [15], [6, 9, 16], [7, 10, 11, 22]]\n",
      "[1, 2, 5, 6, 7, 9, 10, 11, 14, 15, 16, 17, 18, 20, 21, 22, 23]\n"
     ]
    }
   ],
   "source": [
    "# Group topics by both sdg_number and sdg_name, collecting actual topic values\n",
    "grouped_topics = filtered_df.groupby(['sdg_number', 'sdg_name'])['Topic'].apply(list).tolist()\n",
    "\n",
    "# Review the result\n",
    "print(f\"Found {len(grouped_topics)} distinct SDG groups\")\n",
    "for i, group_idx in enumerate(filtered_df.groupby(['sdg_number', 'sdg_name']).groups):\n",
    "    sdg_number, sdg_name = group_idx\n",
    "    topics = filtered_df[\n",
    "        (filtered_df['sdg_number'] == sdg_number) & \n",
    "        (filtered_df['sdg_name'] == sdg_name)\n",
    "    ]['Topic'].tolist()\n",
    "    \n",
    "    print(f\"Group {i+1}: SDG {sdg_number} - {sdg_name}\")\n",
    "    print(f\"  Topics: {topics}\")\n",
    "    print()\n",
    "\n",
    "print(grouped_topics)\n",
    "print(meaningful_topics)"
   ]
  },
  {
   "cell_type": "code",
   "execution_count": 31,
   "id": "d3aa2557",
   "metadata": {},
   "outputs": [
    {
     "data": {
      "text/html": [
       "<div>\n",
       "<style scoped>\n",
       "    .dataframe tbody tr th:only-of-type {\n",
       "        vertical-align: middle;\n",
       "    }\n",
       "\n",
       "    .dataframe tbody tr th {\n",
       "        vertical-align: top;\n",
       "    }\n",
       "\n",
       "    .dataframe thead th {\n",
       "        text-align: right;\n",
       "    }\n",
       "</style>\n",
       "<table border=\"1\" class=\"dataframe\">\n",
       "  <thead>\n",
       "    <tr style=\"text-align: right;\">\n",
       "      <th></th>\n",
       "      <th>Document</th>\n",
       "      <th>Topic_x</th>\n",
       "      <th>Name</th>\n",
       "      <th>Representation</th>\n",
       "      <th>Representative_Docs</th>\n",
       "      <th>Top_n_words</th>\n",
       "      <th>Probability</th>\n",
       "      <th>Representative_document</th>\n",
       "      <th>topic</th>\n",
       "      <th>Topic_y</th>\n",
       "      <th>...</th>\n",
       "      <th>summary</th>\n",
       "      <th>is_generic</th>\n",
       "      <th>justification</th>\n",
       "      <th>confidence_score</th>\n",
       "      <th>sdg_number</th>\n",
       "      <th>sdg_name</th>\n",
       "      <th>error</th>\n",
       "      <th>error_message</th>\n",
       "      <th>raw_response</th>\n",
       "      <th>Year</th>\n",
       "    </tr>\n",
       "  </thead>\n",
       "  <tbody>\n",
       "    <tr>\n",
       "      <th>0</th>\n",
       "      <td>Industrial productivity\\nIntelligent infrastru...</td>\n",
       "      <td>7</td>\n",
       "      <td>7_digital_solutions_customers_production</td>\n",
       "      <td>[digital, solutions, customers, production, bu...</td>\n",
       "      <td>[→Innovation and development cycles have \\nsho...</td>\n",
       "      <td>digital - solutions - customers - production -...</td>\n",
       "      <td>0.723011</td>\n",
       "      <td>False</td>\n",
       "      <td>7</td>\n",
       "      <td>7</td>\n",
       "      <td>...</td>\n",
       "      <td>This topic cluster focuses on Siemens' use of ...</td>\n",
       "      <td>False</td>\n",
       "      <td>The cluster centers explicitly on digital and ...</td>\n",
       "      <td>0.95</td>\n",
       "      <td>9</td>\n",
       "      <td>Industry, Innovation and Infrastructure</td>\n",
       "      <td>NaN</td>\n",
       "      <td>NaN</td>\n",
       "      <td>NaN</td>\n",
       "      <td>2013</td>\n",
       "    </tr>\n",
       "    <tr>\n",
       "      <th>1</th>\n",
       "      <td>WWW.SIEMENS.COM/AR/REPORT-INDUSTRYWelcome to S...</td>\n",
       "      <td>14</td>\n",
       "      <td>14_healthcare_medical_care_imaging</td>\n",
       "      <td>[healthcare, medical, care, imaging, diagnosti...</td>\n",
       "      <td>[Under the new organizational structure report...</td>\n",
       "      <td>healthcare - medical - care - imaging - diagno...</td>\n",
       "      <td>0.559207</td>\n",
       "      <td>False</td>\n",
       "      <td>14</td>\n",
       "      <td>14</td>\n",
       "      <td>...</td>\n",
       "      <td>The cluster focuses on Siemens’ contributions ...</td>\n",
       "      <td>False</td>\n",
       "      <td>The collection of texts clearly revolves aroun...</td>\n",
       "      <td>0.95</td>\n",
       "      <td>3</td>\n",
       "      <td>Good Health and Well-being</td>\n",
       "      <td>NaN</td>\n",
       "      <td>NaN</td>\n",
       "      <td>NaN</td>\n",
       "      <td>2013</td>\n",
       "    </tr>\n",
       "    <tr>\n",
       "      <th>2</th>\n",
       "      <td>N\\naresh Trehan, founder of “Medanta  –\\n \\nTh...</td>\n",
       "      <td>14</td>\n",
       "      <td>14_healthcare_medical_care_imaging</td>\n",
       "      <td>[healthcare, medical, care, imaging, diagnosti...</td>\n",
       "      <td>[Under the new organizational structure report...</td>\n",
       "      <td>healthcare - medical - care - imaging - diagno...</td>\n",
       "      <td>1.000000</td>\n",
       "      <td>False</td>\n",
       "      <td>14</td>\n",
       "      <td>14</td>\n",
       "      <td>...</td>\n",
       "      <td>The cluster focuses on Siemens’ contributions ...</td>\n",
       "      <td>False</td>\n",
       "      <td>The collection of texts clearly revolves aroun...</td>\n",
       "      <td>0.95</td>\n",
       "      <td>3</td>\n",
       "      <td>Good Health and Well-being</td>\n",
       "      <td>NaN</td>\n",
       "      <td>NaN</td>\n",
       "      <td>NaN</td>\n",
       "      <td>2013</td>\n",
       "    </tr>\n",
       "    <tr>\n",
       "      <th>3</th>\n",
       "      <td>WWW.SIEMENS.COM/AR/REPORT-HEALTHCARE\\nWhat mak...</td>\n",
       "      <td>18</td>\n",
       "      <td>18_vienna_city_häupl_michael</td>\n",
       "      <td>[vienna, city, häupl, michael, transportation,...</td>\n",
       "      <td>[What initiatives would you like to launch in ...</td>\n",
       "      <td>vienna - city - häupl - michael - transportati...</td>\n",
       "      <td>1.000000</td>\n",
       "      <td>False</td>\n",
       "      <td>18</td>\n",
       "      <td>18</td>\n",
       "      <td>...</td>\n",
       "      <td>This cluster highlights Vienna’s development a...</td>\n",
       "      <td>False</td>\n",
       "      <td>The cluster’s recurring emphasis on smart and ...</td>\n",
       "      <td>0.95</td>\n",
       "      <td>11</td>\n",
       "      <td>Sustainable Cities and Communities</td>\n",
       "      <td>NaN</td>\n",
       "      <td>NaN</td>\n",
       "      <td>NaN</td>\n",
       "      <td>2013</td>\n",
       "    </tr>\n",
       "    <tr>\n",
       "      <th>4</th>\n",
       "      <td>WWW.SIEMENS.COM/AR/STRATEGYGurgaon\\nVienna4Gen...</td>\n",
       "      <td>15</td>\n",
       "      <td>15_power_gas_energy_division</td>\n",
       "      <td>[power, gas, energy, division, consumption, tu...</td>\n",
       "      <td>[A.1.1.2  BUSINES S DESCRIPTION\\nThe Power and...</td>\n",
       "      <td>power - gas - energy - division - consumption ...</td>\n",
       "      <td>1.000000</td>\n",
       "      <td>False</td>\n",
       "      <td>15</td>\n",
       "      <td>15</td>\n",
       "      <td>...</td>\n",
       "      <td>This cluster discusses Siemens’ efforts to mod...</td>\n",
       "      <td>False</td>\n",
       "      <td>The content centers on improving energy effici...</td>\n",
       "      <td>0.95</td>\n",
       "      <td>7</td>\n",
       "      <td>Affordable and Clean Energy</td>\n",
       "      <td>NaN</td>\n",
       "      <td>NaN</td>\n",
       "      <td>NaN</td>\n",
       "      <td>2013</td>\n",
       "    </tr>\n",
       "    <tr>\n",
       "      <th>...</th>\n",
       "      <td>...</td>\n",
       "      <td>...</td>\n",
       "      <td>...</td>\n",
       "      <td>...</td>\n",
       "      <td>...</td>\n",
       "      <td>...</td>\n",
       "      <td>...</td>\n",
       "      <td>...</td>\n",
       "      <td>...</td>\n",
       "      <td>...</td>\n",
       "      <td>...</td>\n",
       "      <td>...</td>\n",
       "      <td>...</td>\n",
       "      <td>...</td>\n",
       "      <td>...</td>\n",
       "      <td>...</td>\n",
       "      <td>...</td>\n",
       "      <td>...</td>\n",
       "      <td>...</td>\n",
       "      <td>...</td>\n",
       "      <td>...</td>\n",
       "    </tr>\n",
       "    <tr>\n",
       "      <th>8898</th>\n",
       "      <td>In a limited assurance engagement the assuranc...</td>\n",
       "      <td>2</td>\n",
       "      <td>2_compliance_human_rights_risk</td>\n",
       "      <td>[compliance, human, rights, risk, business, ri...</td>\n",
       "      <td>[Global agreements \\nSiemens has been an activ...</td>\n",
       "      <td>compliance - human - rights - risk - business ...</td>\n",
       "      <td>0.759931</td>\n",
       "      <td>False</td>\n",
       "      <td>2</td>\n",
       "      <td>2</td>\n",
       "      <td>...</td>\n",
       "      <td>This cluster focuses on Siemens’ comprehensive...</td>\n",
       "      <td>False</td>\n",
       "      <td>The text samples and keywords consistently con...</td>\n",
       "      <td>0.95</td>\n",
       "      <td>16</td>\n",
       "      <td>Peace, Justice and Strong Institutions</td>\n",
       "      <td>NaN</td>\n",
       "      <td>NaN</td>\n",
       "      <td>NaN</td>\n",
       "      <td>2024</td>\n",
       "    </tr>\n",
       "    <tr>\n",
       "      <th>8899</th>\n",
       "      <td>Within the scope of our assurance engagement, ...</td>\n",
       "      <td>2</td>\n",
       "      <td>2_compliance_human_rights_risk</td>\n",
       "      <td>[compliance, human, rights, risk, business, ri...</td>\n",
       "      <td>[Global agreements \\nSiemens has been an activ...</td>\n",
       "      <td>compliance - human - rights - risk - business ...</td>\n",
       "      <td>0.513443</td>\n",
       "      <td>False</td>\n",
       "      <td>2</td>\n",
       "      <td>2</td>\n",
       "      <td>...</td>\n",
       "      <td>This cluster focuses on Siemens’ comprehensive...</td>\n",
       "      <td>False</td>\n",
       "      <td>The text samples and keywords consistently con...</td>\n",
       "      <td>0.95</td>\n",
       "      <td>16</td>\n",
       "      <td>Peace, Justice and Strong Institutions</td>\n",
       "      <td>NaN</td>\n",
       "      <td>NaN</td>\n",
       "      <td>NaN</td>\n",
       "      <td>2024</td>\n",
       "    </tr>\n",
       "    <tr>\n",
       "      <th>8900</th>\n",
       "      <td>Intended Use of the Assurance Report\\nWe issue...</td>\n",
       "      <td>2</td>\n",
       "      <td>2_compliance_human_rights_risk</td>\n",
       "      <td>[compliance, human, rights, risk, business, ri...</td>\n",
       "      <td>[Global agreements \\nSiemens has been an activ...</td>\n",
       "      <td>compliance - human - rights - risk - business ...</td>\n",
       "      <td>0.908644</td>\n",
       "      <td>False</td>\n",
       "      <td>2</td>\n",
       "      <td>2</td>\n",
       "      <td>...</td>\n",
       "      <td>This cluster focuses on Siemens’ comprehensive...</td>\n",
       "      <td>False</td>\n",
       "      <td>The text samples and keywords consistently con...</td>\n",
       "      <td>0.95</td>\n",
       "      <td>16</td>\n",
       "      <td>Peace, Justice and Strong Institutions</td>\n",
       "      <td>NaN</td>\n",
       "      <td>NaN</td>\n",
       "      <td>NaN</td>\n",
       "      <td>2024</td>\n",
       "    </tr>\n",
       "    <tr>\n",
       "      <th>8901</th>\n",
       "      <td>Munich, 2 December 2024\\nPricewaterhouseCooper...</td>\n",
       "      <td>2</td>\n",
       "      <td>2_compliance_human_rights_risk</td>\n",
       "      <td>[compliance, human, rights, risk, business, ri...</td>\n",
       "      <td>[Global agreements \\nSiemens has been an activ...</td>\n",
       "      <td>compliance - human - rights - risk - business ...</td>\n",
       "      <td>1.000000</td>\n",
       "      <td>False</td>\n",
       "      <td>2</td>\n",
       "      <td>2</td>\n",
       "      <td>...</td>\n",
       "      <td>This cluster focuses on Siemens’ comprehensive...</td>\n",
       "      <td>False</td>\n",
       "      <td>The text samples and keywords consistently con...</td>\n",
       "      <td>0.95</td>\n",
       "      <td>16</td>\n",
       "      <td>Peace, Justice and Strong Institutions</td>\n",
       "      <td>NaN</td>\n",
       "      <td>NaN</td>\n",
       "      <td>NaN</td>\n",
       "      <td>2024</td>\n",
       "    </tr>\n",
       "    <tr>\n",
       "      <th>8902</th>\n",
       "      <td>SIEMENS SUSTAINABILITY REPORT 2024 1687.10 Not...</td>\n",
       "      <td>1</td>\n",
       "      <td>1_sustainability_environmental_gri_emissions</td>\n",
       "      <td>[sustainability, environmental, gri, emissions...</td>\n",
       "      <td>[For consistency reasons, we generally apply g...</td>\n",
       "      <td>sustainability - environmental - gri - emissio...</td>\n",
       "      <td>1.000000</td>\n",
       "      <td>False</td>\n",
       "      <td>1</td>\n",
       "      <td>1</td>\n",
       "      <td>...</td>\n",
       "      <td>This topic cluster centers on Siemens AG's int...</td>\n",
       "      <td>False</td>\n",
       "      <td>The cluster consistently references Siemens' E...</td>\n",
       "      <td>0.95</td>\n",
       "      <td>13</td>\n",
       "      <td>Climate Action</td>\n",
       "      <td>NaN</td>\n",
       "      <td>NaN</td>\n",
       "      <td>NaN</td>\n",
       "      <td>2024</td>\n",
       "    </tr>\n",
       "  </tbody>\n",
       "</table>\n",
       "<p>8903 rows × 22 columns</p>\n",
       "</div>"
      ],
      "text/plain": [
       "                                               Document  Topic_x  \\\n",
       "0     Industrial productivity\\nIntelligent infrastru...        7   \n",
       "1     WWW.SIEMENS.COM/AR/REPORT-INDUSTRYWelcome to S...       14   \n",
       "2     N\\naresh Trehan, founder of “Medanta  –\\n \\nTh...       14   \n",
       "3     WWW.SIEMENS.COM/AR/REPORT-HEALTHCARE\\nWhat mak...       18   \n",
       "4     WWW.SIEMENS.COM/AR/STRATEGYGurgaon\\nVienna4Gen...       15   \n",
       "...                                                 ...      ...   \n",
       "8898  In a limited assurance engagement the assuranc...        2   \n",
       "8899  Within the scope of our assurance engagement, ...        2   \n",
       "8900  Intended Use of the Assurance Report\\nWe issue...        2   \n",
       "8901  Munich, 2 December 2024\\nPricewaterhouseCooper...        2   \n",
       "8902  SIEMENS SUSTAINABILITY REPORT 2024 1687.10 Not...        1   \n",
       "\n",
       "                                              Name  \\\n",
       "0         7_digital_solutions_customers_production   \n",
       "1               14_healthcare_medical_care_imaging   \n",
       "2               14_healthcare_medical_care_imaging   \n",
       "3                     18_vienna_city_häupl_michael   \n",
       "4                     15_power_gas_energy_division   \n",
       "...                                            ...   \n",
       "8898                2_compliance_human_rights_risk   \n",
       "8899                2_compliance_human_rights_risk   \n",
       "8900                2_compliance_human_rights_risk   \n",
       "8901                2_compliance_human_rights_risk   \n",
       "8902  1_sustainability_environmental_gri_emissions   \n",
       "\n",
       "                                         Representation  \\\n",
       "0     [digital, solutions, customers, production, bu...   \n",
       "1     [healthcare, medical, care, imaging, diagnosti...   \n",
       "2     [healthcare, medical, care, imaging, diagnosti...   \n",
       "3     [vienna, city, häupl, michael, transportation,...   \n",
       "4     [power, gas, energy, division, consumption, tu...   \n",
       "...                                                 ...   \n",
       "8898  [compliance, human, rights, risk, business, ri...   \n",
       "8899  [compliance, human, rights, risk, business, ri...   \n",
       "8900  [compliance, human, rights, risk, business, ri...   \n",
       "8901  [compliance, human, rights, risk, business, ri...   \n",
       "8902  [sustainability, environmental, gri, emissions...   \n",
       "\n",
       "                                    Representative_Docs  \\\n",
       "0     [→Innovation and development cycles have \\nsho...   \n",
       "1     [Under the new organizational structure report...   \n",
       "2     [Under the new organizational structure report...   \n",
       "3     [What initiatives would you like to launch in ...   \n",
       "4     [A.1.1.2  BUSINES S DESCRIPTION\\nThe Power and...   \n",
       "...                                                 ...   \n",
       "8898  [Global agreements \\nSiemens has been an activ...   \n",
       "8899  [Global agreements \\nSiemens has been an activ...   \n",
       "8900  [Global agreements \\nSiemens has been an activ...   \n",
       "8901  [Global agreements \\nSiemens has been an activ...   \n",
       "8902  [For consistency reasons, we generally apply g...   \n",
       "\n",
       "                                            Top_n_words  Probability  \\\n",
       "0     digital - solutions - customers - production -...     0.723011   \n",
       "1     healthcare - medical - care - imaging - diagno...     0.559207   \n",
       "2     healthcare - medical - care - imaging - diagno...     1.000000   \n",
       "3     vienna - city - häupl - michael - transportati...     1.000000   \n",
       "4     power - gas - energy - division - consumption ...     1.000000   \n",
       "...                                                 ...          ...   \n",
       "8898  compliance - human - rights - risk - business ...     0.759931   \n",
       "8899  compliance - human - rights - risk - business ...     0.513443   \n",
       "8900  compliance - human - rights - risk - business ...     0.908644   \n",
       "8901  compliance - human - rights - risk - business ...     1.000000   \n",
       "8902  sustainability - environmental - gri - emissio...     1.000000   \n",
       "\n",
       "      Representative_document  topic  Topic_y  ...  \\\n",
       "0                       False      7        7  ...   \n",
       "1                       False     14       14  ...   \n",
       "2                       False     14       14  ...   \n",
       "3                       False     18       18  ...   \n",
       "4                       False     15       15  ...   \n",
       "...                       ...    ...      ...  ...   \n",
       "8898                    False      2        2  ...   \n",
       "8899                    False      2        2  ...   \n",
       "8900                    False      2        2  ...   \n",
       "8901                    False      2        2  ...   \n",
       "8902                    False      1        1  ...   \n",
       "\n",
       "                                                summary is_generic  \\\n",
       "0     This topic cluster focuses on Siemens' use of ...      False   \n",
       "1     The cluster focuses on Siemens’ contributions ...      False   \n",
       "2     The cluster focuses on Siemens’ contributions ...      False   \n",
       "3     This cluster highlights Vienna’s development a...      False   \n",
       "4     This cluster discusses Siemens’ efforts to mod...      False   \n",
       "...                                                 ...        ...   \n",
       "8898  This cluster focuses on Siemens’ comprehensive...      False   \n",
       "8899  This cluster focuses on Siemens’ comprehensive...      False   \n",
       "8900  This cluster focuses on Siemens’ comprehensive...      False   \n",
       "8901  This cluster focuses on Siemens’ comprehensive...      False   \n",
       "8902  This topic cluster centers on Siemens AG's int...      False   \n",
       "\n",
       "                                          justification confidence_score  \\\n",
       "0     The cluster centers explicitly on digital and ...             0.95   \n",
       "1     The collection of texts clearly revolves aroun...             0.95   \n",
       "2     The collection of texts clearly revolves aroun...             0.95   \n",
       "3     The cluster’s recurring emphasis on smart and ...             0.95   \n",
       "4     The content centers on improving energy effici...             0.95   \n",
       "...                                                 ...              ...   \n",
       "8898  The text samples and keywords consistently con...             0.95   \n",
       "8899  The text samples and keywords consistently con...             0.95   \n",
       "8900  The text samples and keywords consistently con...             0.95   \n",
       "8901  The text samples and keywords consistently con...             0.95   \n",
       "8902  The cluster consistently references Siemens' E...             0.95   \n",
       "\n",
       "     sdg_number                                 sdg_name error error_message  \\\n",
       "0             9  Industry, Innovation and Infrastructure   NaN           NaN   \n",
       "1             3               Good Health and Well-being   NaN           NaN   \n",
       "2             3               Good Health and Well-being   NaN           NaN   \n",
       "3            11       Sustainable Cities and Communities   NaN           NaN   \n",
       "4             7              Affordable and Clean Energy   NaN           NaN   \n",
       "...         ...                                      ...   ...           ...   \n",
       "8898         16   Peace, Justice and Strong Institutions   NaN           NaN   \n",
       "8899         16   Peace, Justice and Strong Institutions   NaN           NaN   \n",
       "8900         16   Peace, Justice and Strong Institutions   NaN           NaN   \n",
       "8901         16   Peace, Justice and Strong Institutions   NaN           NaN   \n",
       "8902         13                           Climate Action   NaN           NaN   \n",
       "\n",
       "     raw_response  Year  \n",
       "0             NaN  2013  \n",
       "1             NaN  2013  \n",
       "2             NaN  2013  \n",
       "3             NaN  2013  \n",
       "4             NaN  2013  \n",
       "...           ...   ...  \n",
       "8898          NaN  2024  \n",
       "8899          NaN  2024  \n",
       "8900          NaN  2024  \n",
       "8901          NaN  2024  \n",
       "8902          NaN  2024  \n",
       "\n",
       "[8903 rows x 22 columns]"
      ]
     },
     "metadata": {},
     "output_type": "display_data"
    },
    {
     "name": "stdout",
     "output_type": "stream",
     "text": [
      "Number of rows with missing years: 0\n"
     ]
    }
   ],
   "source": [
    "# Create a DataFrame with document-year mapping\n",
    "years_list = []\n",
    "chunks_list = []\n",
    "\n",
    "# Flattening the dictionary into two lists\n",
    "for year, chunks in sorted(dictionary_year_chunks.items()):\n",
    "    for chunk in chunks:\n",
    "        years_list.append(year)\n",
    "        chunks_list.append(chunk)\n",
    "\n",
    "# Create a simple dataframe with document-year mapping\n",
    "df_years = pd.DataFrame({\n",
    "    'Document': chunks_list,\n",
    "    'Year': years_list\n",
    "})\n",
    "\n",
    "# Join df_clean with df_summary_results on the Topic column\n",
    "# This adds all the LLM-generated analysis to your document data\n",
    "df_with_llm = pd.merge(df_clean, df_summary_results, left_on='topic', right_on='Topic', how='left')\n",
    "\n",
    "# Now join with the year information\n",
    "# This assumes document text in df_with_llm matches exactly with chunks_list\n",
    "document_info_with_llm_data = pd.merge(df_with_llm, df_years, on='Document', how='left')\n",
    "\n",
    "# Optional: Drop duplicate Topic column if needed (since we joined on 'topic' and 'Topic')\n",
    "if 'Topic' in document_info_with_llm_data.columns and 'topic' in document_info_with_llm_data.columns:\n",
    "    document_info_with_llm_data = document_info_with_llm_data.drop(columns=['Topic'])\n",
    "\n",
    "# Display the first few rows to verify\n",
    "display(document_info_with_llm_data)\n",
    "\n",
    "# Check if we have any NaN values in the Year column\n",
    "missing_years = document_info_with_llm_data['Year'].isna().sum()\n",
    "print(f\"Number of rows with missing years: {missing_years}\")\n",
    "\n",
    "# Optional if button doesn't show"
   ]
  },
  {
   "cell_type": "code",
   "execution_count": 34,
   "id": "0d973eee",
   "metadata": {},
   "outputs": [
    {
     "data": {
      "application/vnd.plotly.v1+json": {
       "config": {
        "plotlyServerURL": "https://plot.ly"
       },
       "data": [
        {
         "hovertemplate": "Year: %{x}<br>Count: %{y}<extra></extra>",
         "mode": "lines+markers",
         "name": "SDG 11: Sustainable Cities and Communities",
         "type": "scatter",
         "x": [
          2013,
          2014,
          2015,
          2016,
          2017,
          2018,
          2019,
          2020,
          2021,
          2022,
          2023,
          2024
         ],
         "y": {
          "bdata": "AAAAAAAAS0AAAAAAAAAAAAAAAAAAAAAAAAAAAAAAAAAAAAAAAAAAAAAAAAAAAAAAAAAAAAAAAAAAAAAAAAAAAAAAAAAAAAAAAAAAAAAAAAAAAAAAAAAAAAAAAAAAAAAA",
          "dtype": "f8"
         }
        },
        {
         "hovertemplate": "Year: %{x}<br>Count: %{y}<extra></extra>",
         "mode": "lines+markers",
         "name": "SDG 12: Responsible Consumption and Production",
         "type": "scatter",
         "x": [
          2013,
          2014,
          2015,
          2016,
          2017,
          2018,
          2019,
          2020,
          2021,
          2022,
          2023,
          2024
         ],
         "y": {
          "bdata": "AAAAAAAACEAAAAAAAAAIQAAAAAAAAAhAAAAAAAAA8D8AAAAAAAAAQAAAAAAAABBAAAAAAAAAFEAAAAAAAAAAQAAAAAAAAABAAAAAAAAAAEAAAAAAAADwPwAAAAAAAABA",
          "dtype": "f8"
         }
        },
        {
         "hovertemplate": "Year: %{x}<br>Count: %{y}<extra></extra>",
         "mode": "lines+markers",
         "name": "SDG 13: Climate Action",
         "type": "scatter",
         "x": [
          2013,
          2014,
          2015,
          2016,
          2017,
          2018,
          2019,
          2020,
          2021,
          2022,
          2023,
          2024
         ],
         "y": {
          "bdata": "AAAAAADAUUAAAAAAAABDQAAAAAAAAEVAAAAAAACASEAAAAAAAABJQAAAAAAAAElAAAAAAAAAQ0AAAAAAAABRQAAAAAAAgFlAAAAAAACAX0AAAAAAAGBnQAAAAAAAwGhA",
          "dtype": "f8"
         }
        },
        {
         "hovertemplate": "Year: %{x}<br>Count: %{y}<extra></extra>",
         "mode": "lines+markers",
         "name": "SDG 16: Peace, Justice and Strong Institutions",
         "type": "scatter",
         "x": [
          2013,
          2014,
          2015,
          2016,
          2017,
          2018,
          2019,
          2020,
          2021,
          2022,
          2023,
          2024
         ],
         "y": {
          "bdata": "AAAAAABgYkAAAAAAAEBcQAAAAAAAgFhAAAAAAACAWUAAAAAAAEBcQAAAAAAAwF5AAAAAAADAWkAAAAAAAIBIQAAAAAAAgFFAAAAAAADAU0AAAAAAAABWQAAAAAAAAFRA",
          "dtype": "f8"
         }
        },
        {
         "hovertemplate": "Year: %{x}<br>Count: %{y}<extra></extra>",
         "mode": "lines+markers",
         "name": "SDG 3: Good Health and Well-being",
         "type": "scatter",
         "x": [
          2013,
          2014,
          2015,
          2016,
          2017,
          2018,
          2019,
          2020,
          2021,
          2022,
          2023,
          2024
         ],
         "y": {
          "bdata": "AAAAAACAR0AAAAAAAAA5QAAAAAAAABhAAAAAAAAAFEAAAAAAAAAYQAAAAAAAABRAAAAAAAAAFEAAAAAAAAAAQAAAAAAAAAAAAAAAAAAAFEAAAAAAAAAUQAAAAAAAABBA",
          "dtype": "f8"
         }
        },
        {
         "hovertemplate": "Year: %{x}<br>Count: %{y}<extra></extra>",
         "mode": "lines+markers",
         "name": "SDG 6: Clean Water and Sanitation",
         "type": "scatter",
         "x": [
          2013,
          2014,
          2015,
          2016,
          2017,
          2018,
          2019,
          2020,
          2021,
          2022,
          2023,
          2024
         ],
         "y": {
          "bdata": "AAAAAAAAGEAAAAAAAAAYQAAAAAAAABBAAAAAAAAAHEAAAAAAAAAQQAAAAAAAABRAAAAAAAAAFEAAAAAAAAAQQAAAAAAAABxAAAAAAAAAIkAAAAAAAAAmQAAAAAAAAChA",
          "dtype": "f8"
         }
        },
        {
         "hovertemplate": "Year: %{x}<br>Count: %{y}<extra></extra>",
         "mode": "lines+markers",
         "name": "SDG 7: Affordable and Clean Energy",
         "type": "scatter",
         "x": [
          2013,
          2014,
          2015,
          2016,
          2017,
          2018,
          2019,
          2020,
          2021,
          2022,
          2023,
          2024
         ],
         "y": {
          "bdata": "AAAAAAAASEAAAAAAAAA3QAAAAAAAACRAAAAAAAAAGEAAAAAAAAAcQAAAAAAAABxAAAAAAAAAAEAAAAAAAAAAQAAAAAAAAABAAAAAAAAACEAAAAAAAAAAQAAAAAAAAPA/",
          "dtype": "f8"
         }
        },
        {
         "hovertemplate": "Year: %{x}<br>Count: %{y}<extra></extra>",
         "mode": "lines+markers",
         "name": "SDG 8: Decent Work and Economic Growth",
         "type": "scatter",
         "x": [
          2013,
          2014,
          2015,
          2016,
          2017,
          2018,
          2019,
          2020,
          2021,
          2022,
          2023,
          2024
         ],
         "y": {
          "bdata": "AAAAAACAWEAAAAAAAEBQQAAAAAAAAEhAAAAAAAAAS0AAAAAAAABKQAAAAAAAAE9AAAAAAACAWkAAAAAAAAA8QAAAAAAAADxAAAAAAAAAOEAAAAAAAAA9QAAAAAAAAEFA",
          "dtype": "f8"
         }
        },
        {
         "hovertemplate": "Year: %{x}<br>Count: %{y}<extra></extra>",
         "mode": "lines+markers",
         "name": "SDG 9: Industry, Innovation and Infrastructure",
         "type": "scatter",
         "x": [
          2013,
          2014,
          2015,
          2016,
          2017,
          2018,
          2019,
          2020,
          2021,
          2022,
          2023,
          2024
         ],
         "y": {
          "bdata": "AAAAAACAWEAAAAAAAABTQAAAAAAAAD1AAAAAAAAAQEAAAAAAAABJQAAAAAAAgERAAAAAAAAAQUAAAAAAAIBEQAAAAAAAAD9AAAAAAACASEAAAAAAAABPQAAAAAAAAFJA",
          "dtype": "f8"
         }
        }
       ],
       "layout": {
        "height": 600,
        "hovermode": "closest",
        "legend": {
         "title": {
          "text": "SDG"
         }
        },
        "template": {
         "data": {
          "bar": [
           {
            "error_x": {
             "color": "#2a3f5f"
            },
            "error_y": {
             "color": "#2a3f5f"
            },
            "marker": {
             "line": {
              "color": "#E5ECF6",
              "width": 0.5
             },
             "pattern": {
              "fillmode": "overlay",
              "size": 10,
              "solidity": 0.2
             }
            },
            "type": "bar"
           }
          ],
          "barpolar": [
           {
            "marker": {
             "line": {
              "color": "#E5ECF6",
              "width": 0.5
             },
             "pattern": {
              "fillmode": "overlay",
              "size": 10,
              "solidity": 0.2
             }
            },
            "type": "barpolar"
           }
          ],
          "carpet": [
           {
            "aaxis": {
             "endlinecolor": "#2a3f5f",
             "gridcolor": "white",
             "linecolor": "white",
             "minorgridcolor": "white",
             "startlinecolor": "#2a3f5f"
            },
            "baxis": {
             "endlinecolor": "#2a3f5f",
             "gridcolor": "white",
             "linecolor": "white",
             "minorgridcolor": "white",
             "startlinecolor": "#2a3f5f"
            },
            "type": "carpet"
           }
          ],
          "choropleth": [
           {
            "colorbar": {
             "outlinewidth": 0,
             "ticks": ""
            },
            "type": "choropleth"
           }
          ],
          "contour": [
           {
            "colorbar": {
             "outlinewidth": 0,
             "ticks": ""
            },
            "colorscale": [
             [
              0,
              "#0d0887"
             ],
             [
              0.1111111111111111,
              "#46039f"
             ],
             [
              0.2222222222222222,
              "#7201a8"
             ],
             [
              0.3333333333333333,
              "#9c179e"
             ],
             [
              0.4444444444444444,
              "#bd3786"
             ],
             [
              0.5555555555555556,
              "#d8576b"
             ],
             [
              0.6666666666666666,
              "#ed7953"
             ],
             [
              0.7777777777777778,
              "#fb9f3a"
             ],
             [
              0.8888888888888888,
              "#fdca26"
             ],
             [
              1,
              "#f0f921"
             ]
            ],
            "type": "contour"
           }
          ],
          "contourcarpet": [
           {
            "colorbar": {
             "outlinewidth": 0,
             "ticks": ""
            },
            "type": "contourcarpet"
           }
          ],
          "heatmap": [
           {
            "colorbar": {
             "outlinewidth": 0,
             "ticks": ""
            },
            "colorscale": [
             [
              0,
              "#0d0887"
             ],
             [
              0.1111111111111111,
              "#46039f"
             ],
             [
              0.2222222222222222,
              "#7201a8"
             ],
             [
              0.3333333333333333,
              "#9c179e"
             ],
             [
              0.4444444444444444,
              "#bd3786"
             ],
             [
              0.5555555555555556,
              "#d8576b"
             ],
             [
              0.6666666666666666,
              "#ed7953"
             ],
             [
              0.7777777777777778,
              "#fb9f3a"
             ],
             [
              0.8888888888888888,
              "#fdca26"
             ],
             [
              1,
              "#f0f921"
             ]
            ],
            "type": "heatmap"
           }
          ],
          "histogram": [
           {
            "marker": {
             "pattern": {
              "fillmode": "overlay",
              "size": 10,
              "solidity": 0.2
             }
            },
            "type": "histogram"
           }
          ],
          "histogram2d": [
           {
            "colorbar": {
             "outlinewidth": 0,
             "ticks": ""
            },
            "colorscale": [
             [
              0,
              "#0d0887"
             ],
             [
              0.1111111111111111,
              "#46039f"
             ],
             [
              0.2222222222222222,
              "#7201a8"
             ],
             [
              0.3333333333333333,
              "#9c179e"
             ],
             [
              0.4444444444444444,
              "#bd3786"
             ],
             [
              0.5555555555555556,
              "#d8576b"
             ],
             [
              0.6666666666666666,
              "#ed7953"
             ],
             [
              0.7777777777777778,
              "#fb9f3a"
             ],
             [
              0.8888888888888888,
              "#fdca26"
             ],
             [
              1,
              "#f0f921"
             ]
            ],
            "type": "histogram2d"
           }
          ],
          "histogram2dcontour": [
           {
            "colorbar": {
             "outlinewidth": 0,
             "ticks": ""
            },
            "colorscale": [
             [
              0,
              "#0d0887"
             ],
             [
              0.1111111111111111,
              "#46039f"
             ],
             [
              0.2222222222222222,
              "#7201a8"
             ],
             [
              0.3333333333333333,
              "#9c179e"
             ],
             [
              0.4444444444444444,
              "#bd3786"
             ],
             [
              0.5555555555555556,
              "#d8576b"
             ],
             [
              0.6666666666666666,
              "#ed7953"
             ],
             [
              0.7777777777777778,
              "#fb9f3a"
             ],
             [
              0.8888888888888888,
              "#fdca26"
             ],
             [
              1,
              "#f0f921"
             ]
            ],
            "type": "histogram2dcontour"
           }
          ],
          "mesh3d": [
           {
            "colorbar": {
             "outlinewidth": 0,
             "ticks": ""
            },
            "type": "mesh3d"
           }
          ],
          "parcoords": [
           {
            "line": {
             "colorbar": {
              "outlinewidth": 0,
              "ticks": ""
             }
            },
            "type": "parcoords"
           }
          ],
          "pie": [
           {
            "automargin": true,
            "type": "pie"
           }
          ],
          "scatter": [
           {
            "fillpattern": {
             "fillmode": "overlay",
             "size": 10,
             "solidity": 0.2
            },
            "type": "scatter"
           }
          ],
          "scatter3d": [
           {
            "line": {
             "colorbar": {
              "outlinewidth": 0,
              "ticks": ""
             }
            },
            "marker": {
             "colorbar": {
              "outlinewidth": 0,
              "ticks": ""
             }
            },
            "type": "scatter3d"
           }
          ],
          "scattercarpet": [
           {
            "marker": {
             "colorbar": {
              "outlinewidth": 0,
              "ticks": ""
             }
            },
            "type": "scattercarpet"
           }
          ],
          "scattergeo": [
           {
            "marker": {
             "colorbar": {
              "outlinewidth": 0,
              "ticks": ""
             }
            },
            "type": "scattergeo"
           }
          ],
          "scattergl": [
           {
            "marker": {
             "colorbar": {
              "outlinewidth": 0,
              "ticks": ""
             }
            },
            "type": "scattergl"
           }
          ],
          "scattermap": [
           {
            "marker": {
             "colorbar": {
              "outlinewidth": 0,
              "ticks": ""
             }
            },
            "type": "scattermap"
           }
          ],
          "scattermapbox": [
           {
            "marker": {
             "colorbar": {
              "outlinewidth": 0,
              "ticks": ""
             }
            },
            "type": "scattermapbox"
           }
          ],
          "scatterpolar": [
           {
            "marker": {
             "colorbar": {
              "outlinewidth": 0,
              "ticks": ""
             }
            },
            "type": "scatterpolar"
           }
          ],
          "scatterpolargl": [
           {
            "marker": {
             "colorbar": {
              "outlinewidth": 0,
              "ticks": ""
             }
            },
            "type": "scatterpolargl"
           }
          ],
          "scatterternary": [
           {
            "marker": {
             "colorbar": {
              "outlinewidth": 0,
              "ticks": ""
             }
            },
            "type": "scatterternary"
           }
          ],
          "surface": [
           {
            "colorbar": {
             "outlinewidth": 0,
             "ticks": ""
            },
            "colorscale": [
             [
              0,
              "#0d0887"
             ],
             [
              0.1111111111111111,
              "#46039f"
             ],
             [
              0.2222222222222222,
              "#7201a8"
             ],
             [
              0.3333333333333333,
              "#9c179e"
             ],
             [
              0.4444444444444444,
              "#bd3786"
             ],
             [
              0.5555555555555556,
              "#d8576b"
             ],
             [
              0.6666666666666666,
              "#ed7953"
             ],
             [
              0.7777777777777778,
              "#fb9f3a"
             ],
             [
              0.8888888888888888,
              "#fdca26"
             ],
             [
              1,
              "#f0f921"
             ]
            ],
            "type": "surface"
           }
          ],
          "table": [
           {
            "cells": {
             "fill": {
              "color": "#EBF0F8"
             },
             "line": {
              "color": "white"
             }
            },
            "header": {
             "fill": {
              "color": "#C8D4E3"
             },
             "line": {
              "color": "white"
             }
            },
            "type": "table"
           }
          ]
         },
         "layout": {
          "annotationdefaults": {
           "arrowcolor": "#2a3f5f",
           "arrowhead": 0,
           "arrowwidth": 1
          },
          "autotypenumbers": "strict",
          "coloraxis": {
           "colorbar": {
            "outlinewidth": 0,
            "ticks": ""
           }
          },
          "colorscale": {
           "diverging": [
            [
             0,
             "#8e0152"
            ],
            [
             0.1,
             "#c51b7d"
            ],
            [
             0.2,
             "#de77ae"
            ],
            [
             0.3,
             "#f1b6da"
            ],
            [
             0.4,
             "#fde0ef"
            ],
            [
             0.5,
             "#f7f7f7"
            ],
            [
             0.6,
             "#e6f5d0"
            ],
            [
             0.7,
             "#b8e186"
            ],
            [
             0.8,
             "#7fbc41"
            ],
            [
             0.9,
             "#4d9221"
            ],
            [
             1,
             "#276419"
            ]
           ],
           "sequential": [
            [
             0,
             "#0d0887"
            ],
            [
             0.1111111111111111,
             "#46039f"
            ],
            [
             0.2222222222222222,
             "#7201a8"
            ],
            [
             0.3333333333333333,
             "#9c179e"
            ],
            [
             0.4444444444444444,
             "#bd3786"
            ],
            [
             0.5555555555555556,
             "#d8576b"
            ],
            [
             0.6666666666666666,
             "#ed7953"
            ],
            [
             0.7777777777777778,
             "#fb9f3a"
            ],
            [
             0.8888888888888888,
             "#fdca26"
            ],
            [
             1,
             "#f0f921"
            ]
           ],
           "sequentialminus": [
            [
             0,
             "#0d0887"
            ],
            [
             0.1111111111111111,
             "#46039f"
            ],
            [
             0.2222222222222222,
             "#7201a8"
            ],
            [
             0.3333333333333333,
             "#9c179e"
            ],
            [
             0.4444444444444444,
             "#bd3786"
            ],
            [
             0.5555555555555556,
             "#d8576b"
            ],
            [
             0.6666666666666666,
             "#ed7953"
            ],
            [
             0.7777777777777778,
             "#fb9f3a"
            ],
            [
             0.8888888888888888,
             "#fdca26"
            ],
            [
             1,
             "#f0f921"
            ]
           ]
          },
          "colorway": [
           "#636efa",
           "#EF553B",
           "#00cc96",
           "#ab63fa",
           "#FFA15A",
           "#19d3f3",
           "#FF6692",
           "#B6E880",
           "#FF97FF",
           "#FECB52"
          ],
          "font": {
           "color": "#2a3f5f"
          },
          "geo": {
           "bgcolor": "white",
           "lakecolor": "white",
           "landcolor": "#E5ECF6",
           "showlakes": true,
           "showland": true,
           "subunitcolor": "white"
          },
          "hoverlabel": {
           "align": "left"
          },
          "hovermode": "closest",
          "mapbox": {
           "style": "light"
          },
          "paper_bgcolor": "white",
          "plot_bgcolor": "#E5ECF6",
          "polar": {
           "angularaxis": {
            "gridcolor": "white",
            "linecolor": "white",
            "ticks": ""
           },
           "bgcolor": "#E5ECF6",
           "radialaxis": {
            "gridcolor": "white",
            "linecolor": "white",
            "ticks": ""
           }
          },
          "scene": {
           "xaxis": {
            "backgroundcolor": "#E5ECF6",
            "gridcolor": "white",
            "gridwidth": 2,
            "linecolor": "white",
            "showbackground": true,
            "ticks": "",
            "zerolinecolor": "white"
           },
           "yaxis": {
            "backgroundcolor": "#E5ECF6",
            "gridcolor": "white",
            "gridwidth": 2,
            "linecolor": "white",
            "showbackground": true,
            "ticks": "",
            "zerolinecolor": "white"
           },
           "zaxis": {
            "backgroundcolor": "#E5ECF6",
            "gridcolor": "white",
            "gridwidth": 2,
            "linecolor": "white",
            "showbackground": true,
            "ticks": "",
            "zerolinecolor": "white"
           }
          },
          "shapedefaults": {
           "line": {
            "color": "#2a3f5f"
           }
          },
          "ternary": {
           "aaxis": {
            "gridcolor": "white",
            "linecolor": "white",
            "ticks": ""
           },
           "baxis": {
            "gridcolor": "white",
            "linecolor": "white",
            "ticks": ""
           },
           "bgcolor": "#E5ECF6",
           "caxis": {
            "gridcolor": "white",
            "linecolor": "white",
            "ticks": ""
           }
          },
          "title": {
           "x": 0.05
          },
          "xaxis": {
           "automargin": true,
           "gridcolor": "white",
           "linecolor": "white",
           "ticks": "",
           "title": {
            "standoff": 15
           },
           "zerolinecolor": "white",
           "zerolinewidth": 2
          },
          "yaxis": {
           "automargin": true,
           "gridcolor": "white",
           "linecolor": "white",
           "ticks": "",
           "title": {
            "standoff": 15
           },
           "zerolinecolor": "white",
           "zerolinewidth": 2
          }
         }
        },
        "title": {
         "text": "SDG Trends Over Time (2013-2024)"
        },
        "width": 1000,
        "xaxis": {
         "title": {
          "text": "Year"
         }
        },
        "yaxis": {
         "title": {
          "text": "Number of Document Chunks"
         }
        }
       }
      }
     },
     "metadata": {},
     "output_type": "display_data"
    },
    {
     "data": {
      "application/vnd.plotly.v1+json": {
       "config": {
        "plotlyServerURL": "https://plot.ly"
       },
       "data": [
        {
         "hovertemplate": "Year: %{x}<br>Percentage: %{y:.1f}%<extra></extra>",
         "mode": "lines",
         "name": "SDG 11: Sustainable Cities and Communities",
         "stackgroup": "one",
         "type": "scatter",
         "x": [
          2013,
          2014,
          2015,
          2016,
          2017,
          2018,
          2019,
          2020,
          2021,
          2022,
          2023,
          2024
         ],
         "y": {
          "bdata": "MEvKAZHhIkAAAAAAAAAAAAAAAAAAAAAAAAAAAAAAAAAAAAAAAAAAAAAAAAAAAAAAAAAAAAAAAAAAAAAAAAAAAAAAAAAAAAAAAAAAAAAAAAAAAAAAAAAAAAAAAAAAAAAA",
          "dtype": "f8"
         }
        },
        {
         "hovertemplate": "Year: %{x}<br>Percentage: %{y:.1f}%<extra></extra>",
         "mode": "lines",
         "name": "SDG 12: Responsible Consumption and Production",
         "stackgroup": "one",
         "type": "scatter",
         "x": [
          2013,
          2014,
          2015,
          2016,
          2017,
          2018,
          2019,
          2020,
          2021,
          2022,
          2023,
          2024
         ],
         "y": {
          "bdata": "K5gl5YDI4D8YYKF01YHrPwAAAAAAAPQ/AAAAAAAA2T8h0QqbA4nmP1OHq5F/jPU/1PXp+nR9+j8VvJyCl1PwP6FUmHg/cuo/U4erkX+M5T9WfkKclZ/QP5ypV3IEw98/",
          "dtype": "f8"
         }
        },
        {
         "hovertemplate": "Year: %{x}<br>Percentage: %{y:.1f}%<extra></extra>",
         "mode": "lines",
         "name": "SDG 13: Climate Action",
         "stackgroup": "one",
         "type": "scatter",
         "x": [
          2013,
          2014,
          2015,
          2016,
          2017,
          2018,
          2019,
          2020,
          2021,
          2022,
          2023,
          2024
         ],
         "y": {
          "bdata": "wJtHqD7TKEC+FlX8yMYlQAAAAAAAgDFAAAAAAAAkM0BhcyDRCpsxQLoBzqnD1TBAiqnEVGIqKUDWh8b60FhBQHBjGZQKE0VANtlkk002RUCSJEmSJElIQC7Nb3DVkEhA",
          "dtype": "f8"
         }
        },
        {
         "hovertemplate": "Year: %{x}<br>Percentage: %{y:.1f}%<extra></extra>",
         "mode": "lines",
         "name": "SDG 16: Peace, Justice and Strong Institutions",
         "stackgroup": "one",
         "type": "scatter",
         "x": [
          2013,
          2014,
          2015,
          2016,
          2017,
          2018,
          2019,
          2020,
          2021,
          2022,
          2023,
          2024
         ],
         "y": {
          "bdata": "AZHhXgWzOUA5T6SgaTBAQKuqqqqqakRAAAAAAADsQ0CfjN8u9eRDQArU+pUCtURAZdwybhm3QUAAAAAAAAA5QI+c5mv17DxADLvPd22ZOkC3bdu2bds2QALKdsfi2TNA",
          "dtype": "f8"
         }
        },
        {
         "hovertemplate": "Year: %{x}<br>Percentage: %{y:.1f}%<extra></extra>",
         "mode": "lines",
         "name": "SDG 3: Good Health and Well-being",
         "stackgroup": "one",
         "type": "scatter",
         "x": [
          2013,
          2014,
          2015,
          2016,
          2017,
          2018,
          2019,
          2020,
          2021,
          2022,
          2023,
          2024
         ],
         "y": {
          "bdata": "qs+0Nf5uIEDDbn1ZPqccQAAAAAAAAARAAAAAAABA/z/YHEi0wuYAQChpFnaf7/o/1PXp+nR9+j8VvJyCl1PwPwAAAAAAAAAAKGkWdp/v+j/sHVMDe8f0P5ypV3IEw+8/",
          "dtype": "f8"
         }
        },
        {
         "hovertemplate": "Year: %{x}<br>Percentage: %{y:.1f}%<extra></extra>",
         "mode": "lines",
         "name": "SDG 6: Clean Water and Sanitation",
         "stackgroup": "one",
         "type": "scatter",
         "x": [
          2013,
          2014,
          2015,
          2016,
          2017,
          2018,
          2019,
          2020,
          2021,
          2022,
          2023,
          2024
         ],
         "y": {
          "bdata": "K5gl5YDI8D8YYKF01YH7P6uqqqqqqvo/AAAAAADgBUAh0QqbA4n2PyhpFnaf7/o/1PXp+nR9+j8VvJyCl1MAQA1KhYn3IwdAPvjggw8+CEC3bdu2bdsGQDW/wVVD0gdA",
          "dtype": "f8"
         }
        },
        {
         "hovertemplate": "Year: %{x}<br>Percentage: %{y:.1f}%<extra></extra>",
         "mode": "lines",
         "name": "SDG 7: Affordable and Clean Energy",
         "stackgroup": "one",
         "type": "scatter",
         "x": [
          2013,
          2014,
          2015,
          2016,
          2017,
          2018,
          2019,
          2020,
          2021,
          2022,
          2023,
          2024
         ],
         "y": {
          "bdata": "K5gl5YDIIEBrUcWPbFwaQKqqqqqqqhBAAAAAAADAAkD8dqkn47cDQGkWdp/v2gJAqsRUYiox5T8VvJyCl1PwP6FUmHg/cuo/f6VArV8p8D9WfkKclZ/gP5ypV3IEw88/",
          "dtype": "f8"
         }
        },
        {
         "hovertemplate": "Year: %{x}<br>Percentage: %{y:.1f}%<extra></extra>",
         "mode": "lines",
         "name": "SDG 8: Decent Work and Economic Growth",
         "stackgroup": "one",
         "type": "scatter",
         "x": [
          2013,
          2014,
          2015,
          2016,
          2017,
          2018,
          2019,
          2020,
          2021,
          2022,
          2023,
          2024
         ],
         "y": {
          "bdata": "rGCWlAMiMUBl7veG6J8yQAAAAAAAADRAAAAAAAAYNUDryfjtUk8yQBkrHpUb4DRA3TJuGbeMQUAkSZIkSZIsQA1KhYn3IydAf6VArV8pIED8hDgrPyEeQBuSvlya3yBA",
          "dtype": "f8"
         }
        },
        {
         "hovertemplate": "Year: %{x}<br>Percentage: %{y:.1f}%<extra></extra>",
         "mode": "lines",
         "name": "SDG 9: Industry, Innovation and Infrastructure",
         "stackgroup": "one",
         "type": "scatter",
         "x": [
          2013,
          2014,
          2015,
          2016,
          2017,
          2018,
          2019,
          2020,
          2021,
          2022,
          2023,
          2024
         ],
         "y": {
          "bdata": "rGCWlAMiMUC+FlX8yMY1QKuqqqqqKihAAAAAAAAAKUBhcyDRCpsxQGTFo3IDnCtA9BB6CD2EJkD70FgfGus0QPuR03ytnilAnFOHq5F/MEBkamDvmBowQGdPUYCy3TFA",
          "dtype": "f8"
         }
        }
       ],
       "layout": {
        "height": 600,
        "hovermode": "closest",
        "legend": {
         "title": {
          "text": "SDG"
         }
        },
        "template": {
         "data": {
          "bar": [
           {
            "error_x": {
             "color": "#2a3f5f"
            },
            "error_y": {
             "color": "#2a3f5f"
            },
            "marker": {
             "line": {
              "color": "#E5ECF6",
              "width": 0.5
             },
             "pattern": {
              "fillmode": "overlay",
              "size": 10,
              "solidity": 0.2
             }
            },
            "type": "bar"
           }
          ],
          "barpolar": [
           {
            "marker": {
             "line": {
              "color": "#E5ECF6",
              "width": 0.5
             },
             "pattern": {
              "fillmode": "overlay",
              "size": 10,
              "solidity": 0.2
             }
            },
            "type": "barpolar"
           }
          ],
          "carpet": [
           {
            "aaxis": {
             "endlinecolor": "#2a3f5f",
             "gridcolor": "white",
             "linecolor": "white",
             "minorgridcolor": "white",
             "startlinecolor": "#2a3f5f"
            },
            "baxis": {
             "endlinecolor": "#2a3f5f",
             "gridcolor": "white",
             "linecolor": "white",
             "minorgridcolor": "white",
             "startlinecolor": "#2a3f5f"
            },
            "type": "carpet"
           }
          ],
          "choropleth": [
           {
            "colorbar": {
             "outlinewidth": 0,
             "ticks": ""
            },
            "type": "choropleth"
           }
          ],
          "contour": [
           {
            "colorbar": {
             "outlinewidth": 0,
             "ticks": ""
            },
            "colorscale": [
             [
              0,
              "#0d0887"
             ],
             [
              0.1111111111111111,
              "#46039f"
             ],
             [
              0.2222222222222222,
              "#7201a8"
             ],
             [
              0.3333333333333333,
              "#9c179e"
             ],
             [
              0.4444444444444444,
              "#bd3786"
             ],
             [
              0.5555555555555556,
              "#d8576b"
             ],
             [
              0.6666666666666666,
              "#ed7953"
             ],
             [
              0.7777777777777778,
              "#fb9f3a"
             ],
             [
              0.8888888888888888,
              "#fdca26"
             ],
             [
              1,
              "#f0f921"
             ]
            ],
            "type": "contour"
           }
          ],
          "contourcarpet": [
           {
            "colorbar": {
             "outlinewidth": 0,
             "ticks": ""
            },
            "type": "contourcarpet"
           }
          ],
          "heatmap": [
           {
            "colorbar": {
             "outlinewidth": 0,
             "ticks": ""
            },
            "colorscale": [
             [
              0,
              "#0d0887"
             ],
             [
              0.1111111111111111,
              "#46039f"
             ],
             [
              0.2222222222222222,
              "#7201a8"
             ],
             [
              0.3333333333333333,
              "#9c179e"
             ],
             [
              0.4444444444444444,
              "#bd3786"
             ],
             [
              0.5555555555555556,
              "#d8576b"
             ],
             [
              0.6666666666666666,
              "#ed7953"
             ],
             [
              0.7777777777777778,
              "#fb9f3a"
             ],
             [
              0.8888888888888888,
              "#fdca26"
             ],
             [
              1,
              "#f0f921"
             ]
            ],
            "type": "heatmap"
           }
          ],
          "histogram": [
           {
            "marker": {
             "pattern": {
              "fillmode": "overlay",
              "size": 10,
              "solidity": 0.2
             }
            },
            "type": "histogram"
           }
          ],
          "histogram2d": [
           {
            "colorbar": {
             "outlinewidth": 0,
             "ticks": ""
            },
            "colorscale": [
             [
              0,
              "#0d0887"
             ],
             [
              0.1111111111111111,
              "#46039f"
             ],
             [
              0.2222222222222222,
              "#7201a8"
             ],
             [
              0.3333333333333333,
              "#9c179e"
             ],
             [
              0.4444444444444444,
              "#bd3786"
             ],
             [
              0.5555555555555556,
              "#d8576b"
             ],
             [
              0.6666666666666666,
              "#ed7953"
             ],
             [
              0.7777777777777778,
              "#fb9f3a"
             ],
             [
              0.8888888888888888,
              "#fdca26"
             ],
             [
              1,
              "#f0f921"
             ]
            ],
            "type": "histogram2d"
           }
          ],
          "histogram2dcontour": [
           {
            "colorbar": {
             "outlinewidth": 0,
             "ticks": ""
            },
            "colorscale": [
             [
              0,
              "#0d0887"
             ],
             [
              0.1111111111111111,
              "#46039f"
             ],
             [
              0.2222222222222222,
              "#7201a8"
             ],
             [
              0.3333333333333333,
              "#9c179e"
             ],
             [
              0.4444444444444444,
              "#bd3786"
             ],
             [
              0.5555555555555556,
              "#d8576b"
             ],
             [
              0.6666666666666666,
              "#ed7953"
             ],
             [
              0.7777777777777778,
              "#fb9f3a"
             ],
             [
              0.8888888888888888,
              "#fdca26"
             ],
             [
              1,
              "#f0f921"
             ]
            ],
            "type": "histogram2dcontour"
           }
          ],
          "mesh3d": [
           {
            "colorbar": {
             "outlinewidth": 0,
             "ticks": ""
            },
            "type": "mesh3d"
           }
          ],
          "parcoords": [
           {
            "line": {
             "colorbar": {
              "outlinewidth": 0,
              "ticks": ""
             }
            },
            "type": "parcoords"
           }
          ],
          "pie": [
           {
            "automargin": true,
            "type": "pie"
           }
          ],
          "scatter": [
           {
            "fillpattern": {
             "fillmode": "overlay",
             "size": 10,
             "solidity": 0.2
            },
            "type": "scatter"
           }
          ],
          "scatter3d": [
           {
            "line": {
             "colorbar": {
              "outlinewidth": 0,
              "ticks": ""
             }
            },
            "marker": {
             "colorbar": {
              "outlinewidth": 0,
              "ticks": ""
             }
            },
            "type": "scatter3d"
           }
          ],
          "scattercarpet": [
           {
            "marker": {
             "colorbar": {
              "outlinewidth": 0,
              "ticks": ""
             }
            },
            "type": "scattercarpet"
           }
          ],
          "scattergeo": [
           {
            "marker": {
             "colorbar": {
              "outlinewidth": 0,
              "ticks": ""
             }
            },
            "type": "scattergeo"
           }
          ],
          "scattergl": [
           {
            "marker": {
             "colorbar": {
              "outlinewidth": 0,
              "ticks": ""
             }
            },
            "type": "scattergl"
           }
          ],
          "scattermap": [
           {
            "marker": {
             "colorbar": {
              "outlinewidth": 0,
              "ticks": ""
             }
            },
            "type": "scattermap"
           }
          ],
          "scattermapbox": [
           {
            "marker": {
             "colorbar": {
              "outlinewidth": 0,
              "ticks": ""
             }
            },
            "type": "scattermapbox"
           }
          ],
          "scatterpolar": [
           {
            "marker": {
             "colorbar": {
              "outlinewidth": 0,
              "ticks": ""
             }
            },
            "type": "scatterpolar"
           }
          ],
          "scatterpolargl": [
           {
            "marker": {
             "colorbar": {
              "outlinewidth": 0,
              "ticks": ""
             }
            },
            "type": "scatterpolargl"
           }
          ],
          "scatterternary": [
           {
            "marker": {
             "colorbar": {
              "outlinewidth": 0,
              "ticks": ""
             }
            },
            "type": "scatterternary"
           }
          ],
          "surface": [
           {
            "colorbar": {
             "outlinewidth": 0,
             "ticks": ""
            },
            "colorscale": [
             [
              0,
              "#0d0887"
             ],
             [
              0.1111111111111111,
              "#46039f"
             ],
             [
              0.2222222222222222,
              "#7201a8"
             ],
             [
              0.3333333333333333,
              "#9c179e"
             ],
             [
              0.4444444444444444,
              "#bd3786"
             ],
             [
              0.5555555555555556,
              "#d8576b"
             ],
             [
              0.6666666666666666,
              "#ed7953"
             ],
             [
              0.7777777777777778,
              "#fb9f3a"
             ],
             [
              0.8888888888888888,
              "#fdca26"
             ],
             [
              1,
              "#f0f921"
             ]
            ],
            "type": "surface"
           }
          ],
          "table": [
           {
            "cells": {
             "fill": {
              "color": "#EBF0F8"
             },
             "line": {
              "color": "white"
             }
            },
            "header": {
             "fill": {
              "color": "#C8D4E3"
             },
             "line": {
              "color": "white"
             }
            },
            "type": "table"
           }
          ]
         },
         "layout": {
          "annotationdefaults": {
           "arrowcolor": "#2a3f5f",
           "arrowhead": 0,
           "arrowwidth": 1
          },
          "autotypenumbers": "strict",
          "coloraxis": {
           "colorbar": {
            "outlinewidth": 0,
            "ticks": ""
           }
          },
          "colorscale": {
           "diverging": [
            [
             0,
             "#8e0152"
            ],
            [
             0.1,
             "#c51b7d"
            ],
            [
             0.2,
             "#de77ae"
            ],
            [
             0.3,
             "#f1b6da"
            ],
            [
             0.4,
             "#fde0ef"
            ],
            [
             0.5,
             "#f7f7f7"
            ],
            [
             0.6,
             "#e6f5d0"
            ],
            [
             0.7,
             "#b8e186"
            ],
            [
             0.8,
             "#7fbc41"
            ],
            [
             0.9,
             "#4d9221"
            ],
            [
             1,
             "#276419"
            ]
           ],
           "sequential": [
            [
             0,
             "#0d0887"
            ],
            [
             0.1111111111111111,
             "#46039f"
            ],
            [
             0.2222222222222222,
             "#7201a8"
            ],
            [
             0.3333333333333333,
             "#9c179e"
            ],
            [
             0.4444444444444444,
             "#bd3786"
            ],
            [
             0.5555555555555556,
             "#d8576b"
            ],
            [
             0.6666666666666666,
             "#ed7953"
            ],
            [
             0.7777777777777778,
             "#fb9f3a"
            ],
            [
             0.8888888888888888,
             "#fdca26"
            ],
            [
             1,
             "#f0f921"
            ]
           ],
           "sequentialminus": [
            [
             0,
             "#0d0887"
            ],
            [
             0.1111111111111111,
             "#46039f"
            ],
            [
             0.2222222222222222,
             "#7201a8"
            ],
            [
             0.3333333333333333,
             "#9c179e"
            ],
            [
             0.4444444444444444,
             "#bd3786"
            ],
            [
             0.5555555555555556,
             "#d8576b"
            ],
            [
             0.6666666666666666,
             "#ed7953"
            ],
            [
             0.7777777777777778,
             "#fb9f3a"
            ],
            [
             0.8888888888888888,
             "#fdca26"
            ],
            [
             1,
             "#f0f921"
            ]
           ]
          },
          "colorway": [
           "#636efa",
           "#EF553B",
           "#00cc96",
           "#ab63fa",
           "#FFA15A",
           "#19d3f3",
           "#FF6692",
           "#B6E880",
           "#FF97FF",
           "#FECB52"
          ],
          "font": {
           "color": "#2a3f5f"
          },
          "geo": {
           "bgcolor": "white",
           "lakecolor": "white",
           "landcolor": "#E5ECF6",
           "showlakes": true,
           "showland": true,
           "subunitcolor": "white"
          },
          "hoverlabel": {
           "align": "left"
          },
          "hovermode": "closest",
          "mapbox": {
           "style": "light"
          },
          "paper_bgcolor": "white",
          "plot_bgcolor": "#E5ECF6",
          "polar": {
           "angularaxis": {
            "gridcolor": "white",
            "linecolor": "white",
            "ticks": ""
           },
           "bgcolor": "#E5ECF6",
           "radialaxis": {
            "gridcolor": "white",
            "linecolor": "white",
            "ticks": ""
           }
          },
          "scene": {
           "xaxis": {
            "backgroundcolor": "#E5ECF6",
            "gridcolor": "white",
            "gridwidth": 2,
            "linecolor": "white",
            "showbackground": true,
            "ticks": "",
            "zerolinecolor": "white"
           },
           "yaxis": {
            "backgroundcolor": "#E5ECF6",
            "gridcolor": "white",
            "gridwidth": 2,
            "linecolor": "white",
            "showbackground": true,
            "ticks": "",
            "zerolinecolor": "white"
           },
           "zaxis": {
            "backgroundcolor": "#E5ECF6",
            "gridcolor": "white",
            "gridwidth": 2,
            "linecolor": "white",
            "showbackground": true,
            "ticks": "",
            "zerolinecolor": "white"
           }
          },
          "shapedefaults": {
           "line": {
            "color": "#2a3f5f"
           }
          },
          "ternary": {
           "aaxis": {
            "gridcolor": "white",
            "linecolor": "white",
            "ticks": ""
           },
           "baxis": {
            "gridcolor": "white",
            "linecolor": "white",
            "ticks": ""
           },
           "bgcolor": "#E5ECF6",
           "caxis": {
            "gridcolor": "white",
            "linecolor": "white",
            "ticks": ""
           }
          },
          "title": {
           "x": 0.05
          },
          "xaxis": {
           "automargin": true,
           "gridcolor": "white",
           "linecolor": "white",
           "ticks": "",
           "title": {
            "standoff": 15
           },
           "zerolinecolor": "white",
           "zerolinewidth": 2
          },
          "yaxis": {
           "automargin": true,
           "gridcolor": "white",
           "linecolor": "white",
           "ticks": "",
           "title": {
            "standoff": 15
           },
           "zerolinecolor": "white",
           "zerolinewidth": 2
          }
         }
        },
        "title": {
         "text": "Relative Proportion of SDGs Over Time"
        },
        "width": 1000,
        "xaxis": {
         "title": {
          "text": "Year"
         }
        },
        "yaxis": {
         "title": {
          "text": "Percentage of Document Chunks (%)"
         }
        }
       }
      }
     },
     "metadata": {},
     "output_type": "display_data"
    },
    {
     "data": {
      "application/vnd.plotly.v1+json": {
       "config": {
        "plotlyServerURL": "https://plot.ly"
       },
       "data": [
        {
         "coloraxis": "coloraxis",
         "hovertemplate": "Year: %{x}<br>SDG: %{y}<br>Count: %{z}<extra></extra>",
         "name": "0",
         "type": "heatmap",
         "x": [
          2013,
          2014,
          2015,
          2016,
          2017,
          2018,
          2019,
          2020,
          2021,
          2022,
          2023,
          2024
         ],
         "xaxis": "x",
         "y": [
          "SDG 11: Sustainable Cities and Communities",
          "SDG 12: Responsible Consumption and Production",
          "SDG 13: Climate Action",
          "SDG 16: Peace, Justice and Strong Institutions",
          "SDG 3: Good Health and Well-being",
          "SDG 6: Clean Water and Sanitation",
          "SDG 7: Affordable and Clean Energy",
          "SDG 8: Decent Work and Economic Growth",
          "SDG 9: Industry, Innovation and Infrastructure"
         ],
         "yaxis": "y",
         "z": {
          "bdata": "AAAAAAAAS0AAAAAAAAAAAAAAAAAAAAAAAAAAAAAAAAAAAAAAAAAAAAAAAAAAAAAAAAAAAAAAAAAAAAAAAAAAAAAAAAAAAAAAAAAAAAAAAAAAAAAAAAAAAAAAAAAAAAAAAAAAAAAACEAAAAAAAAAIQAAAAAAAAAhAAAAAAAAA8D8AAAAAAAAAQAAAAAAAABBAAAAAAAAAFEAAAAAAAAAAQAAAAAAAAABAAAAAAAAAAEAAAAAAAADwPwAAAAAAAABAAAAAAADAUUAAAAAAAABDQAAAAAAAAEVAAAAAAACASEAAAAAAAABJQAAAAAAAAElAAAAAAAAAQ0AAAAAAAABRQAAAAAAAgFlAAAAAAACAX0AAAAAAAGBnQAAAAAAAwGhAAAAAAABgYkAAAAAAAEBcQAAAAAAAgFhAAAAAAACAWUAAAAAAAEBcQAAAAAAAwF5AAAAAAADAWkAAAAAAAIBIQAAAAAAAgFFAAAAAAADAU0AAAAAAAABWQAAAAAAAAFRAAAAAAACAR0AAAAAAAAA5QAAAAAAAABhAAAAAAAAAFEAAAAAAAAAYQAAAAAAAABRAAAAAAAAAFEAAAAAAAAAAQAAAAAAAAAAAAAAAAAAAFEAAAAAAAAAUQAAAAAAAABBAAAAAAAAAGEAAAAAAAAAYQAAAAAAAABBAAAAAAAAAHEAAAAAAAAAQQAAAAAAAABRAAAAAAAAAFEAAAAAAAAAQQAAAAAAAABxAAAAAAAAAIkAAAAAAAAAmQAAAAAAAAChAAAAAAAAASEAAAAAAAAA3QAAAAAAAACRAAAAAAAAAGEAAAAAAAAAcQAAAAAAAABxAAAAAAAAAAEAAAAAAAAAAQAAAAAAAAABAAAAAAAAACEAAAAAAAAAAQAAAAAAAAPA/AAAAAACAWEAAAAAAAEBQQAAAAAAAAEhAAAAAAAAAS0AAAAAAAABKQAAAAAAAAE9AAAAAAACAWkAAAAAAAAA8QAAAAAAAADxAAAAAAAAAOEAAAAAAAAA9QAAAAAAAAEFAAAAAAACAWEAAAAAAAABTQAAAAAAAAD1AAAAAAAAAQEAAAAAAAABJQAAAAAAAgERAAAAAAAAAQUAAAAAAAIBEQAAAAAAAAD9AAAAAAACASEAAAAAAAABPQAAAAAAAAFJA",
          "dtype": "f8",
          "shape": "9, 12"
         }
        }
       ],
       "layout": {
        "annotations": [
         {
          "font": {
           "color": "black"
          },
          "showarrow": false,
          "text": "54",
          "x": 2013,
          "y": "SDG 11: Sustainable Cities and Communities"
         },
         {
          "font": {
           "color": "black"
          },
          "showarrow": false,
          "text": "3",
          "x": 2013,
          "y": "SDG 12: Responsible Consumption and Production"
         },
         {
          "font": {
           "color": "black"
          },
          "showarrow": false,
          "text": "3",
          "x": 2014,
          "y": "SDG 12: Responsible Consumption and Production"
         },
         {
          "font": {
           "color": "black"
          },
          "showarrow": false,
          "text": "3",
          "x": 2015,
          "y": "SDG 12: Responsible Consumption and Production"
         },
         {
          "font": {
           "color": "black"
          },
          "showarrow": false,
          "text": "1",
          "x": 2016,
          "y": "SDG 12: Responsible Consumption and Production"
         },
         {
          "font": {
           "color": "black"
          },
          "showarrow": false,
          "text": "2",
          "x": 2017,
          "y": "SDG 12: Responsible Consumption and Production"
         },
         {
          "font": {
           "color": "black"
          },
          "showarrow": false,
          "text": "4",
          "x": 2018,
          "y": "SDG 12: Responsible Consumption and Production"
         },
         {
          "font": {
           "color": "black"
          },
          "showarrow": false,
          "text": "5",
          "x": 2019,
          "y": "SDG 12: Responsible Consumption and Production"
         },
         {
          "font": {
           "color": "black"
          },
          "showarrow": false,
          "text": "2",
          "x": 2020,
          "y": "SDG 12: Responsible Consumption and Production"
         },
         {
          "font": {
           "color": "black"
          },
          "showarrow": false,
          "text": "2",
          "x": 2021,
          "y": "SDG 12: Responsible Consumption and Production"
         },
         {
          "font": {
           "color": "black"
          },
          "showarrow": false,
          "text": "2",
          "x": 2022,
          "y": "SDG 12: Responsible Consumption and Production"
         },
         {
          "font": {
           "color": "black"
          },
          "showarrow": false,
          "text": "1",
          "x": 2023,
          "y": "SDG 12: Responsible Consumption and Production"
         },
         {
          "font": {
           "color": "black"
          },
          "showarrow": false,
          "text": "2",
          "x": 2024,
          "y": "SDG 12: Responsible Consumption and Production"
         },
         {
          "font": {
           "color": "black"
          },
          "showarrow": false,
          "text": "71",
          "x": 2013,
          "y": "SDG 13: Climate Action"
         },
         {
          "font": {
           "color": "black"
          },
          "showarrow": false,
          "text": "38",
          "x": 2014,
          "y": "SDG 13: Climate Action"
         },
         {
          "font": {
           "color": "black"
          },
          "showarrow": false,
          "text": "42",
          "x": 2015,
          "y": "SDG 13: Climate Action"
         },
         {
          "font": {
           "color": "black"
          },
          "showarrow": false,
          "text": "49",
          "x": 2016,
          "y": "SDG 13: Climate Action"
         },
         {
          "font": {
           "color": "black"
          },
          "showarrow": false,
          "text": "50",
          "x": 2017,
          "y": "SDG 13: Climate Action"
         },
         {
          "font": {
           "color": "black"
          },
          "showarrow": false,
          "text": "50",
          "x": 2018,
          "y": "SDG 13: Climate Action"
         },
         {
          "font": {
           "color": "black"
          },
          "showarrow": false,
          "text": "38",
          "x": 2019,
          "y": "SDG 13: Climate Action"
         },
         {
          "font": {
           "color": "black"
          },
          "showarrow": false,
          "text": "68",
          "x": 2020,
          "y": "SDG 13: Climate Action"
         },
         {
          "font": {
           "color": "white"
          },
          "showarrow": false,
          "text": "102",
          "x": 2021,
          "y": "SDG 13: Climate Action"
         },
         {
          "font": {
           "color": "white"
          },
          "showarrow": false,
          "text": "126",
          "x": 2022,
          "y": "SDG 13: Climate Action"
         },
         {
          "font": {
           "color": "white"
          },
          "showarrow": false,
          "text": "187",
          "x": 2023,
          "y": "SDG 13: Climate Action"
         },
         {
          "font": {
           "color": "white"
          },
          "showarrow": false,
          "text": "198",
          "x": 2024,
          "y": "SDG 13: Climate Action"
         },
         {
          "font": {
           "color": "white"
          },
          "showarrow": false,
          "text": "147",
          "x": 2013,
          "y": "SDG 16: Peace, Justice and Strong Institutions"
         },
         {
          "font": {
           "color": "white"
          },
          "showarrow": false,
          "text": "113",
          "x": 2014,
          "y": "SDG 16: Peace, Justice and Strong Institutions"
         },
         {
          "font": {
           "color": "black"
          },
          "showarrow": false,
          "text": "98",
          "x": 2015,
          "y": "SDG 16: Peace, Justice and Strong Institutions"
         },
         {
          "font": {
           "color": "white"
          },
          "showarrow": false,
          "text": "102",
          "x": 2016,
          "y": "SDG 16: Peace, Justice and Strong Institutions"
         },
         {
          "font": {
           "color": "white"
          },
          "showarrow": false,
          "text": "113",
          "x": 2017,
          "y": "SDG 16: Peace, Justice and Strong Institutions"
         },
         {
          "font": {
           "color": "white"
          },
          "showarrow": false,
          "text": "123",
          "x": 2018,
          "y": "SDG 16: Peace, Justice and Strong Institutions"
         },
         {
          "font": {
           "color": "white"
          },
          "showarrow": false,
          "text": "107",
          "x": 2019,
          "y": "SDG 16: Peace, Justice and Strong Institutions"
         },
         {
          "font": {
           "color": "black"
          },
          "showarrow": false,
          "text": "49",
          "x": 2020,
          "y": "SDG 16: Peace, Justice and Strong Institutions"
         },
         {
          "font": {
           "color": "black"
          },
          "showarrow": false,
          "text": "70",
          "x": 2021,
          "y": "SDG 16: Peace, Justice and Strong Institutions"
         },
         {
          "font": {
           "color": "black"
          },
          "showarrow": false,
          "text": "79",
          "x": 2022,
          "y": "SDG 16: Peace, Justice and Strong Institutions"
         },
         {
          "font": {
           "color": "black"
          },
          "showarrow": false,
          "text": "88",
          "x": 2023,
          "y": "SDG 16: Peace, Justice and Strong Institutions"
         },
         {
          "font": {
           "color": "black"
          },
          "showarrow": false,
          "text": "80",
          "x": 2024,
          "y": "SDG 16: Peace, Justice and Strong Institutions"
         },
         {
          "font": {
           "color": "black"
          },
          "showarrow": false,
          "text": "47",
          "x": 2013,
          "y": "SDG 3: Good Health and Well-being"
         },
         {
          "font": {
           "color": "black"
          },
          "showarrow": false,
          "text": "25",
          "x": 2014,
          "y": "SDG 3: Good Health and Well-being"
         },
         {
          "font": {
           "color": "black"
          },
          "showarrow": false,
          "text": "6",
          "x": 2015,
          "y": "SDG 3: Good Health and Well-being"
         },
         {
          "font": {
           "color": "black"
          },
          "showarrow": false,
          "text": "5",
          "x": 2016,
          "y": "SDG 3: Good Health and Well-being"
         },
         {
          "font": {
           "color": "black"
          },
          "showarrow": false,
          "text": "6",
          "x": 2017,
          "y": "SDG 3: Good Health and Well-being"
         },
         {
          "font": {
           "color": "black"
          },
          "showarrow": false,
          "text": "5",
          "x": 2018,
          "y": "SDG 3: Good Health and Well-being"
         },
         {
          "font": {
           "color": "black"
          },
          "showarrow": false,
          "text": "5",
          "x": 2019,
          "y": "SDG 3: Good Health and Well-being"
         },
         {
          "font": {
           "color": "black"
          },
          "showarrow": false,
          "text": "2",
          "x": 2020,
          "y": "SDG 3: Good Health and Well-being"
         },
         {
          "font": {
           "color": "black"
          },
          "showarrow": false,
          "text": "5",
          "x": 2022,
          "y": "SDG 3: Good Health and Well-being"
         },
         {
          "font": {
           "color": "black"
          },
          "showarrow": false,
          "text": "5",
          "x": 2023,
          "y": "SDG 3: Good Health and Well-being"
         },
         {
          "font": {
           "color": "black"
          },
          "showarrow": false,
          "text": "4",
          "x": 2024,
          "y": "SDG 3: Good Health and Well-being"
         },
         {
          "font": {
           "color": "black"
          },
          "showarrow": false,
          "text": "6",
          "x": 2013,
          "y": "SDG 6: Clean Water and Sanitation"
         },
         {
          "font": {
           "color": "black"
          },
          "showarrow": false,
          "text": "6",
          "x": 2014,
          "y": "SDG 6: Clean Water and Sanitation"
         },
         {
          "font": {
           "color": "black"
          },
          "showarrow": false,
          "text": "4",
          "x": 2015,
          "y": "SDG 6: Clean Water and Sanitation"
         },
         {
          "font": {
           "color": "black"
          },
          "showarrow": false,
          "text": "7",
          "x": 2016,
          "y": "SDG 6: Clean Water and Sanitation"
         },
         {
          "font": {
           "color": "black"
          },
          "showarrow": false,
          "text": "4",
          "x": 2017,
          "y": "SDG 6: Clean Water and Sanitation"
         },
         {
          "font": {
           "color": "black"
          },
          "showarrow": false,
          "text": "5",
          "x": 2018,
          "y": "SDG 6: Clean Water and Sanitation"
         },
         {
          "font": {
           "color": "black"
          },
          "showarrow": false,
          "text": "5",
          "x": 2019,
          "y": "SDG 6: Clean Water and Sanitation"
         },
         {
          "font": {
           "color": "black"
          },
          "showarrow": false,
          "text": "4",
          "x": 2020,
          "y": "SDG 6: Clean Water and Sanitation"
         },
         {
          "font": {
           "color": "black"
          },
          "showarrow": false,
          "text": "7",
          "x": 2021,
          "y": "SDG 6: Clean Water and Sanitation"
         },
         {
          "font": {
           "color": "black"
          },
          "showarrow": false,
          "text": "9",
          "x": 2022,
          "y": "SDG 6: Clean Water and Sanitation"
         },
         {
          "font": {
           "color": "black"
          },
          "showarrow": false,
          "text": "11",
          "x": 2023,
          "y": "SDG 6: Clean Water and Sanitation"
         },
         {
          "font": {
           "color": "black"
          },
          "showarrow": false,
          "text": "12",
          "x": 2024,
          "y": "SDG 6: Clean Water and Sanitation"
         },
         {
          "font": {
           "color": "black"
          },
          "showarrow": false,
          "text": "48",
          "x": 2013,
          "y": "SDG 7: Affordable and Clean Energy"
         },
         {
          "font": {
           "color": "black"
          },
          "showarrow": false,
          "text": "23",
          "x": 2014,
          "y": "SDG 7: Affordable and Clean Energy"
         },
         {
          "font": {
           "color": "black"
          },
          "showarrow": false,
          "text": "10",
          "x": 2015,
          "y": "SDG 7: Affordable and Clean Energy"
         },
         {
          "font": {
           "color": "black"
          },
          "showarrow": false,
          "text": "6",
          "x": 2016,
          "y": "SDG 7: Affordable and Clean Energy"
         },
         {
          "font": {
           "color": "black"
          },
          "showarrow": false,
          "text": "7",
          "x": 2017,
          "y": "SDG 7: Affordable and Clean Energy"
         },
         {
          "font": {
           "color": "black"
          },
          "showarrow": false,
          "text": "7",
          "x": 2018,
          "y": "SDG 7: Affordable and Clean Energy"
         },
         {
          "font": {
           "color": "black"
          },
          "showarrow": false,
          "text": "2",
          "x": 2019,
          "y": "SDG 7: Affordable and Clean Energy"
         },
         {
          "font": {
           "color": "black"
          },
          "showarrow": false,
          "text": "2",
          "x": 2020,
          "y": "SDG 7: Affordable and Clean Energy"
         },
         {
          "font": {
           "color": "black"
          },
          "showarrow": false,
          "text": "2",
          "x": 2021,
          "y": "SDG 7: Affordable and Clean Energy"
         },
         {
          "font": {
           "color": "black"
          },
          "showarrow": false,
          "text": "3",
          "x": 2022,
          "y": "SDG 7: Affordable and Clean Energy"
         },
         {
          "font": {
           "color": "black"
          },
          "showarrow": false,
          "text": "2",
          "x": 2023,
          "y": "SDG 7: Affordable and Clean Energy"
         },
         {
          "font": {
           "color": "black"
          },
          "showarrow": false,
          "text": "1",
          "x": 2024,
          "y": "SDG 7: Affordable and Clean Energy"
         },
         {
          "font": {
           "color": "black"
          },
          "showarrow": false,
          "text": "98",
          "x": 2013,
          "y": "SDG 8: Decent Work and Economic Growth"
         },
         {
          "font": {
           "color": "black"
          },
          "showarrow": false,
          "text": "65",
          "x": 2014,
          "y": "SDG 8: Decent Work and Economic Growth"
         },
         {
          "font": {
           "color": "black"
          },
          "showarrow": false,
          "text": "48",
          "x": 2015,
          "y": "SDG 8: Decent Work and Economic Growth"
         },
         {
          "font": {
           "color": "black"
          },
          "showarrow": false,
          "text": "54",
          "x": 2016,
          "y": "SDG 8: Decent Work and Economic Growth"
         },
         {
          "font": {
           "color": "black"
          },
          "showarrow": false,
          "text": "52",
          "x": 2017,
          "y": "SDG 8: Decent Work and Economic Growth"
         },
         {
          "font": {
           "color": "black"
          },
          "showarrow": false,
          "text": "62",
          "x": 2018,
          "y": "SDG 8: Decent Work and Economic Growth"
         },
         {
          "font": {
           "color": "white"
          },
          "showarrow": false,
          "text": "106",
          "x": 2019,
          "y": "SDG 8: Decent Work and Economic Growth"
         },
         {
          "font": {
           "color": "black"
          },
          "showarrow": false,
          "text": "28",
          "x": 2020,
          "y": "SDG 8: Decent Work and Economic Growth"
         },
         {
          "font": {
           "color": "black"
          },
          "showarrow": false,
          "text": "28",
          "x": 2021,
          "y": "SDG 8: Decent Work and Economic Growth"
         },
         {
          "font": {
           "color": "black"
          },
          "showarrow": false,
          "text": "24",
          "x": 2022,
          "y": "SDG 8: Decent Work and Economic Growth"
         },
         {
          "font": {
           "color": "black"
          },
          "showarrow": false,
          "text": "29",
          "x": 2023,
          "y": "SDG 8: Decent Work and Economic Growth"
         },
         {
          "font": {
           "color": "black"
          },
          "showarrow": false,
          "text": "34",
          "x": 2024,
          "y": "SDG 8: Decent Work and Economic Growth"
         },
         {
          "font": {
           "color": "black"
          },
          "showarrow": false,
          "text": "98",
          "x": 2013,
          "y": "SDG 9: Industry, Innovation and Infrastructure"
         },
         {
          "font": {
           "color": "black"
          },
          "showarrow": false,
          "text": "76",
          "x": 2014,
          "y": "SDG 9: Industry, Innovation and Infrastructure"
         },
         {
          "font": {
           "color": "black"
          },
          "showarrow": false,
          "text": "29",
          "x": 2015,
          "y": "SDG 9: Industry, Innovation and Infrastructure"
         },
         {
          "font": {
           "color": "black"
          },
          "showarrow": false,
          "text": "32",
          "x": 2016,
          "y": "SDG 9: Industry, Innovation and Infrastructure"
         },
         {
          "font": {
           "color": "black"
          },
          "showarrow": false,
          "text": "50",
          "x": 2017,
          "y": "SDG 9: Industry, Innovation and Infrastructure"
         },
         {
          "font": {
           "color": "black"
          },
          "showarrow": false,
          "text": "41",
          "x": 2018,
          "y": "SDG 9: Industry, Innovation and Infrastructure"
         },
         {
          "font": {
           "color": "black"
          },
          "showarrow": false,
          "text": "34",
          "x": 2019,
          "y": "SDG 9: Industry, Innovation and Infrastructure"
         },
         {
          "font": {
           "color": "black"
          },
          "showarrow": false,
          "text": "41",
          "x": 2020,
          "y": "SDG 9: Industry, Innovation and Infrastructure"
         },
         {
          "font": {
           "color": "black"
          },
          "showarrow": false,
          "text": "31",
          "x": 2021,
          "y": "SDG 9: Industry, Innovation and Infrastructure"
         },
         {
          "font": {
           "color": "black"
          },
          "showarrow": false,
          "text": "49",
          "x": 2022,
          "y": "SDG 9: Industry, Innovation and Infrastructure"
         },
         {
          "font": {
           "color": "black"
          },
          "showarrow": false,
          "text": "62",
          "x": 2023,
          "y": "SDG 9: Industry, Innovation and Infrastructure"
         },
         {
          "font": {
           "color": "black"
          },
          "showarrow": false,
          "text": "72",
          "x": 2024,
          "y": "SDG 9: Industry, Innovation and Infrastructure"
         }
        ],
        "coloraxis": {
         "colorbar": {
          "title": {
           "text": "Count"
          }
         },
         "colorscale": [
          [
           0,
           "rgb(255,255,217)"
          ],
          [
           0.125,
           "rgb(237,248,177)"
          ],
          [
           0.25,
           "rgb(199,233,180)"
          ],
          [
           0.375,
           "rgb(127,205,187)"
          ],
          [
           0.5,
           "rgb(65,182,196)"
          ],
          [
           0.625,
           "rgb(29,145,192)"
          ],
          [
           0.75,
           "rgb(34,94,168)"
          ],
          [
           0.875,
           "rgb(37,52,148)"
          ],
          [
           1,
           "rgb(8,29,88)"
          ]
         ]
        },
        "height": 600,
        "margin": {
         "t": 60
        },
        "template": {
         "data": {
          "bar": [
           {
            "error_x": {
             "color": "#2a3f5f"
            },
            "error_y": {
             "color": "#2a3f5f"
            },
            "marker": {
             "line": {
              "color": "#E5ECF6",
              "width": 0.5
             },
             "pattern": {
              "fillmode": "overlay",
              "size": 10,
              "solidity": 0.2
             }
            },
            "type": "bar"
           }
          ],
          "barpolar": [
           {
            "marker": {
             "line": {
              "color": "#E5ECF6",
              "width": 0.5
             },
             "pattern": {
              "fillmode": "overlay",
              "size": 10,
              "solidity": 0.2
             }
            },
            "type": "barpolar"
           }
          ],
          "carpet": [
           {
            "aaxis": {
             "endlinecolor": "#2a3f5f",
             "gridcolor": "white",
             "linecolor": "white",
             "minorgridcolor": "white",
             "startlinecolor": "#2a3f5f"
            },
            "baxis": {
             "endlinecolor": "#2a3f5f",
             "gridcolor": "white",
             "linecolor": "white",
             "minorgridcolor": "white",
             "startlinecolor": "#2a3f5f"
            },
            "type": "carpet"
           }
          ],
          "choropleth": [
           {
            "colorbar": {
             "outlinewidth": 0,
             "ticks": ""
            },
            "type": "choropleth"
           }
          ],
          "contour": [
           {
            "colorbar": {
             "outlinewidth": 0,
             "ticks": ""
            },
            "colorscale": [
             [
              0,
              "#0d0887"
             ],
             [
              0.1111111111111111,
              "#46039f"
             ],
             [
              0.2222222222222222,
              "#7201a8"
             ],
             [
              0.3333333333333333,
              "#9c179e"
             ],
             [
              0.4444444444444444,
              "#bd3786"
             ],
             [
              0.5555555555555556,
              "#d8576b"
             ],
             [
              0.6666666666666666,
              "#ed7953"
             ],
             [
              0.7777777777777778,
              "#fb9f3a"
             ],
             [
              0.8888888888888888,
              "#fdca26"
             ],
             [
              1,
              "#f0f921"
             ]
            ],
            "type": "contour"
           }
          ],
          "contourcarpet": [
           {
            "colorbar": {
             "outlinewidth": 0,
             "ticks": ""
            },
            "type": "contourcarpet"
           }
          ],
          "heatmap": [
           {
            "colorbar": {
             "outlinewidth": 0,
             "ticks": ""
            },
            "colorscale": [
             [
              0,
              "#0d0887"
             ],
             [
              0.1111111111111111,
              "#46039f"
             ],
             [
              0.2222222222222222,
              "#7201a8"
             ],
             [
              0.3333333333333333,
              "#9c179e"
             ],
             [
              0.4444444444444444,
              "#bd3786"
             ],
             [
              0.5555555555555556,
              "#d8576b"
             ],
             [
              0.6666666666666666,
              "#ed7953"
             ],
             [
              0.7777777777777778,
              "#fb9f3a"
             ],
             [
              0.8888888888888888,
              "#fdca26"
             ],
             [
              1,
              "#f0f921"
             ]
            ],
            "type": "heatmap"
           }
          ],
          "histogram": [
           {
            "marker": {
             "pattern": {
              "fillmode": "overlay",
              "size": 10,
              "solidity": 0.2
             }
            },
            "type": "histogram"
           }
          ],
          "histogram2d": [
           {
            "colorbar": {
             "outlinewidth": 0,
             "ticks": ""
            },
            "colorscale": [
             [
              0,
              "#0d0887"
             ],
             [
              0.1111111111111111,
              "#46039f"
             ],
             [
              0.2222222222222222,
              "#7201a8"
             ],
             [
              0.3333333333333333,
              "#9c179e"
             ],
             [
              0.4444444444444444,
              "#bd3786"
             ],
             [
              0.5555555555555556,
              "#d8576b"
             ],
             [
              0.6666666666666666,
              "#ed7953"
             ],
             [
              0.7777777777777778,
              "#fb9f3a"
             ],
             [
              0.8888888888888888,
              "#fdca26"
             ],
             [
              1,
              "#f0f921"
             ]
            ],
            "type": "histogram2d"
           }
          ],
          "histogram2dcontour": [
           {
            "colorbar": {
             "outlinewidth": 0,
             "ticks": ""
            },
            "colorscale": [
             [
              0,
              "#0d0887"
             ],
             [
              0.1111111111111111,
              "#46039f"
             ],
             [
              0.2222222222222222,
              "#7201a8"
             ],
             [
              0.3333333333333333,
              "#9c179e"
             ],
             [
              0.4444444444444444,
              "#bd3786"
             ],
             [
              0.5555555555555556,
              "#d8576b"
             ],
             [
              0.6666666666666666,
              "#ed7953"
             ],
             [
              0.7777777777777778,
              "#fb9f3a"
             ],
             [
              0.8888888888888888,
              "#fdca26"
             ],
             [
              1,
              "#f0f921"
             ]
            ],
            "type": "histogram2dcontour"
           }
          ],
          "mesh3d": [
           {
            "colorbar": {
             "outlinewidth": 0,
             "ticks": ""
            },
            "type": "mesh3d"
           }
          ],
          "parcoords": [
           {
            "line": {
             "colorbar": {
              "outlinewidth": 0,
              "ticks": ""
             }
            },
            "type": "parcoords"
           }
          ],
          "pie": [
           {
            "automargin": true,
            "type": "pie"
           }
          ],
          "scatter": [
           {
            "fillpattern": {
             "fillmode": "overlay",
             "size": 10,
             "solidity": 0.2
            },
            "type": "scatter"
           }
          ],
          "scatter3d": [
           {
            "line": {
             "colorbar": {
              "outlinewidth": 0,
              "ticks": ""
             }
            },
            "marker": {
             "colorbar": {
              "outlinewidth": 0,
              "ticks": ""
             }
            },
            "type": "scatter3d"
           }
          ],
          "scattercarpet": [
           {
            "marker": {
             "colorbar": {
              "outlinewidth": 0,
              "ticks": ""
             }
            },
            "type": "scattercarpet"
           }
          ],
          "scattergeo": [
           {
            "marker": {
             "colorbar": {
              "outlinewidth": 0,
              "ticks": ""
             }
            },
            "type": "scattergeo"
           }
          ],
          "scattergl": [
           {
            "marker": {
             "colorbar": {
              "outlinewidth": 0,
              "ticks": ""
             }
            },
            "type": "scattergl"
           }
          ],
          "scattermap": [
           {
            "marker": {
             "colorbar": {
              "outlinewidth": 0,
              "ticks": ""
             }
            },
            "type": "scattermap"
           }
          ],
          "scattermapbox": [
           {
            "marker": {
             "colorbar": {
              "outlinewidth": 0,
              "ticks": ""
             }
            },
            "type": "scattermapbox"
           }
          ],
          "scatterpolar": [
           {
            "marker": {
             "colorbar": {
              "outlinewidth": 0,
              "ticks": ""
             }
            },
            "type": "scatterpolar"
           }
          ],
          "scatterpolargl": [
           {
            "marker": {
             "colorbar": {
              "outlinewidth": 0,
              "ticks": ""
             }
            },
            "type": "scatterpolargl"
           }
          ],
          "scatterternary": [
           {
            "marker": {
             "colorbar": {
              "outlinewidth": 0,
              "ticks": ""
             }
            },
            "type": "scatterternary"
           }
          ],
          "surface": [
           {
            "colorbar": {
             "outlinewidth": 0,
             "ticks": ""
            },
            "colorscale": [
             [
              0,
              "#0d0887"
             ],
             [
              0.1111111111111111,
              "#46039f"
             ],
             [
              0.2222222222222222,
              "#7201a8"
             ],
             [
              0.3333333333333333,
              "#9c179e"
             ],
             [
              0.4444444444444444,
              "#bd3786"
             ],
             [
              0.5555555555555556,
              "#d8576b"
             ],
             [
              0.6666666666666666,
              "#ed7953"
             ],
             [
              0.7777777777777778,
              "#fb9f3a"
             ],
             [
              0.8888888888888888,
              "#fdca26"
             ],
             [
              1,
              "#f0f921"
             ]
            ],
            "type": "surface"
           }
          ],
          "table": [
           {
            "cells": {
             "fill": {
              "color": "#EBF0F8"
             },
             "line": {
              "color": "white"
             }
            },
            "header": {
             "fill": {
              "color": "#C8D4E3"
             },
             "line": {
              "color": "white"
             }
            },
            "type": "table"
           }
          ]
         },
         "layout": {
          "annotationdefaults": {
           "arrowcolor": "#2a3f5f",
           "arrowhead": 0,
           "arrowwidth": 1
          },
          "autotypenumbers": "strict",
          "coloraxis": {
           "colorbar": {
            "outlinewidth": 0,
            "ticks": ""
           }
          },
          "colorscale": {
           "diverging": [
            [
             0,
             "#8e0152"
            ],
            [
             0.1,
             "#c51b7d"
            ],
            [
             0.2,
             "#de77ae"
            ],
            [
             0.3,
             "#f1b6da"
            ],
            [
             0.4,
             "#fde0ef"
            ],
            [
             0.5,
             "#f7f7f7"
            ],
            [
             0.6,
             "#e6f5d0"
            ],
            [
             0.7,
             "#b8e186"
            ],
            [
             0.8,
             "#7fbc41"
            ],
            [
             0.9,
             "#4d9221"
            ],
            [
             1,
             "#276419"
            ]
           ],
           "sequential": [
            [
             0,
             "#0d0887"
            ],
            [
             0.1111111111111111,
             "#46039f"
            ],
            [
             0.2222222222222222,
             "#7201a8"
            ],
            [
             0.3333333333333333,
             "#9c179e"
            ],
            [
             0.4444444444444444,
             "#bd3786"
            ],
            [
             0.5555555555555556,
             "#d8576b"
            ],
            [
             0.6666666666666666,
             "#ed7953"
            ],
            [
             0.7777777777777778,
             "#fb9f3a"
            ],
            [
             0.8888888888888888,
             "#fdca26"
            ],
            [
             1,
             "#f0f921"
            ]
           ],
           "sequentialminus": [
            [
             0,
             "#0d0887"
            ],
            [
             0.1111111111111111,
             "#46039f"
            ],
            [
             0.2222222222222222,
             "#7201a8"
            ],
            [
             0.3333333333333333,
             "#9c179e"
            ],
            [
             0.4444444444444444,
             "#bd3786"
            ],
            [
             0.5555555555555556,
             "#d8576b"
            ],
            [
             0.6666666666666666,
             "#ed7953"
            ],
            [
             0.7777777777777778,
             "#fb9f3a"
            ],
            [
             0.8888888888888888,
             "#fdca26"
            ],
            [
             1,
             "#f0f921"
            ]
           ]
          },
          "colorway": [
           "#636efa",
           "#EF553B",
           "#00cc96",
           "#ab63fa",
           "#FFA15A",
           "#19d3f3",
           "#FF6692",
           "#B6E880",
           "#FF97FF",
           "#FECB52"
          ],
          "font": {
           "color": "#2a3f5f"
          },
          "geo": {
           "bgcolor": "white",
           "lakecolor": "white",
           "landcolor": "#E5ECF6",
           "showlakes": true,
           "showland": true,
           "subunitcolor": "white"
          },
          "hoverlabel": {
           "align": "left"
          },
          "hovermode": "closest",
          "mapbox": {
           "style": "light"
          },
          "paper_bgcolor": "white",
          "plot_bgcolor": "#E5ECF6",
          "polar": {
           "angularaxis": {
            "gridcolor": "white",
            "linecolor": "white",
            "ticks": ""
           },
           "bgcolor": "#E5ECF6",
           "radialaxis": {
            "gridcolor": "white",
            "linecolor": "white",
            "ticks": ""
           }
          },
          "scene": {
           "xaxis": {
            "backgroundcolor": "#E5ECF6",
            "gridcolor": "white",
            "gridwidth": 2,
            "linecolor": "white",
            "showbackground": true,
            "ticks": "",
            "zerolinecolor": "white"
           },
           "yaxis": {
            "backgroundcolor": "#E5ECF6",
            "gridcolor": "white",
            "gridwidth": 2,
            "linecolor": "white",
            "showbackground": true,
            "ticks": "",
            "zerolinecolor": "white"
           },
           "zaxis": {
            "backgroundcolor": "#E5ECF6",
            "gridcolor": "white",
            "gridwidth": 2,
            "linecolor": "white",
            "showbackground": true,
            "ticks": "",
            "zerolinecolor": "white"
           }
          },
          "shapedefaults": {
           "line": {
            "color": "#2a3f5f"
           }
          },
          "ternary": {
           "aaxis": {
            "gridcolor": "white",
            "linecolor": "white",
            "ticks": ""
           },
           "baxis": {
            "gridcolor": "white",
            "linecolor": "white",
            "ticks": ""
           },
           "bgcolor": "#E5ECF6",
           "caxis": {
            "gridcolor": "white",
            "linecolor": "white",
            "ticks": ""
           }
          },
          "title": {
           "x": 0.05
          },
          "xaxis": {
           "automargin": true,
           "gridcolor": "white",
           "linecolor": "white",
           "ticks": "",
           "title": {
            "standoff": 15
           },
           "zerolinecolor": "white",
           "zerolinewidth": 2
          },
          "yaxis": {
           "automargin": true,
           "gridcolor": "white",
           "linecolor": "white",
           "ticks": "",
           "title": {
            "standoff": 15
           },
           "zerolinecolor": "white",
           "zerolinewidth": 2
          }
         }
        },
        "title": {
         "text": "SDG Occurrence Heatmap by Year"
        },
        "width": 1000,
        "xaxis": {
         "anchor": "y",
         "domain": [
          0,
          1
         ],
         "title": {
          "text": "Year"
         }
        },
        "yaxis": {
         "anchor": "x",
         "autorange": "reversed",
         "domain": [
          0,
          1
         ],
         "title": {
          "text": "SDG"
         }
        }
       }
      }
     },
     "metadata": {},
     "output_type": "display_data"
    }
   ],
   "source": [
    "import pandas as pd\n",
    "import plotly.graph_objects as go\n",
    "import plotly.express as px\n",
    "\n",
    "# Create a combined SDG label for better visualization\n",
    "document_info_with_llm_data['sdg_label'] = document_info_with_llm_data.apply(\n",
    "    lambda x: f\"SDG {x['sdg_number']}: {x['sdg_name']}\" if pd.notna(x['sdg_number']) and x['sdg_number'] != \"\" else \"No SDG\", \n",
    "    axis=1\n",
    ")\n",
    "\n",
    "# Clean up the SDG labels to standardize them (without dropping rows)\n",
    "# Extract the SDG number to help with matching duplicates\n",
    "document_info_with_llm_data['sdg_number_clean'] = document_info_with_llm_data['sdg_number'].astype(str).str.strip()\n",
    "\n",
    "# Create a standardized label for visualization (keep original data intact)\n",
    "# This will be used only for grouping in the visualization\n",
    "document_info_with_llm_data['sdg_viz_label'] = document_info_with_llm_data.apply(\n",
    "    lambda x: f\"SDG {x['sdg_number_clean']}: {x['sdg_name']}\" \n",
    "    if pd.notna(x['sdg_number']) and x['sdg_number'] != \"\" else \"No SDG\", \n",
    "    axis=1\n",
    ")\n",
    "\n",
    "# Filter to include only meaningful sustainability topics with SDG assignments\n",
    "sdg_data = document_info_with_llm_data[\n",
    "    (document_info_with_llm_data['sdg_label'] != \"No SDG\") & \n",
    "    (document_info_with_llm_data['is_meaningful_topic'] == True)\n",
    "].copy()\n",
    "\n",
    "# Count document chunks by SDG and Year, using the standardized visualization label\n",
    "sdg_counts = sdg_data.groupby(['sdg_viz_label', 'Year']).size().reset_index(name='count')\n",
    "\n",
    "# Pivot the data for plotting\n",
    "sdg_pivot = sdg_counts.pivot(index='Year', columns='sdg_viz_label', values='count').fillna(0)\n",
    "\n",
    "# Get unique SDG labels and years for plotting\n",
    "sdg_labels = sdg_pivot.columns.tolist()\n",
    "years = sdg_pivot.index.tolist()\n",
    "\n",
    "# Create line chart with Plotly\n",
    "fig_line = go.Figure()\n",
    "\n",
    "# Add traces for each SDG\n",
    "for sdg in sdg_labels:\n",
    "    fig_line.add_trace(go.Scatter(\n",
    "        x=years,\n",
    "        y=sdg_pivot[sdg],\n",
    "        mode='lines+markers',\n",
    "        name=sdg,\n",
    "        hovertemplate='Year: %{x}<br>Count: %{y}<extra></extra>'\n",
    "    ))\n",
    "\n",
    "# Update layout\n",
    "fig_line.update_layout(\n",
    "    title='SDG Trends Over Time (2013-2024)',\n",
    "    xaxis_title='Year',\n",
    "    yaxis_title='Number of Document Chunks',\n",
    "    legend_title='SDG',\n",
    "    hovermode='closest',\n",
    "    height=600,\n",
    "    width=1000\n",
    ")\n",
    "\n",
    "# Display the line chart\n",
    "fig_line.show()\n",
    "\n",
    "# Create a stacked area chart for relative proportions\n",
    "# Calculate percentages for each year\n",
    "sdg_pivot_pct = sdg_pivot.div(sdg_pivot.sum(axis=1), axis=0) * 100\n",
    "\n",
    "# Create stacked area chart\n",
    "fig_area = go.Figure()\n",
    "\n",
    "# Add traces for each SDG\n",
    "for sdg in sdg_labels:\n",
    "    fig_area.add_trace(go.Scatter(\n",
    "        x=years,\n",
    "        y=sdg_pivot_pct[sdg],\n",
    "        mode='lines',\n",
    "        name=sdg,\n",
    "        stackgroup='one',  # This makes it a stacked area chart\n",
    "        hovertemplate='Year: %{x}<br>Percentage: %{y:.1f}%<extra></extra>'\n",
    "    ))\n",
    "\n",
    "# Update layout\n",
    "fig_area.update_layout(\n",
    "    title='Relative Proportion of SDGs Over Time',\n",
    "    xaxis_title='Year',\n",
    "    yaxis_title='Percentage of Document Chunks (%)',\n",
    "    legend_title='SDG',\n",
    "    hovermode='closest',\n",
    "    height=600,\n",
    "    width=1000\n",
    ")\n",
    "\n",
    "# Display the stacked area chart\n",
    "fig_area.show()\n",
    "\n",
    "# Create a heatmap to visualize SDG intensity by year\n",
    "pivot_for_heatmap = sdg_counts.pivot(index='sdg_viz_label', columns='Year', values='count').fillna(0)\n",
    "\n",
    "# Create heatmap\n",
    "fig_heatmap = px.imshow(\n",
    "    pivot_for_heatmap,\n",
    "    labels=dict(x=\"Year\", y=\"SDG\", color=\"Count\"),\n",
    "    x=years,\n",
    "    y=sdg_labels,\n",
    "    color_continuous_scale=\"YlGnBu\",\n",
    "    aspect=\"auto\"\n",
    ")\n",
    "\n",
    "# Update layout\n",
    "fig_heatmap.update_layout(\n",
    "    title='SDG Occurrence Heatmap by Year',\n",
    "    xaxis_title='Year',\n",
    "    yaxis_title='SDG',\n",
    "    height=600,\n",
    "    width=1000\n",
    ")\n",
    "\n",
    "# Add text annotations on the heatmap\n",
    "for i, sdg in enumerate(sdg_labels):\n",
    "    for j, year in enumerate(years):\n",
    "        value = pivot_for_heatmap.loc[sdg, year]\n",
    "        if value > 0:  # Only show values greater than 0\n",
    "            fig_heatmap.add_annotation(\n",
    "                x=year,\n",
    "                y=sdg,\n",
    "                text=str(int(value)),\n",
    "                showarrow=False,\n",
    "                font=dict(color=\"black\" if value < pivot_for_heatmap.max().max()/2 else \"white\")\n",
    "            )\n",
    "\n",
    "# Display the heatmap\n",
    "fig_heatmap.show()"
   ]
  }
 ],
 "metadata": {
  "kernelspec": {
   "display_name": "venv",
   "language": "python",
   "name": "python3"
  },
  "language_info": {
   "codemirror_mode": {
    "name": "ipython",
    "version": 3
   },
   "file_extension": ".py",
   "mimetype": "text/x-python",
   "name": "python",
   "nbconvert_exporter": "python",
   "pygments_lexer": "ipython3",
   "version": "3.11.3"
  }
 },
 "nbformat": 4,
 "nbformat_minor": 5
}
