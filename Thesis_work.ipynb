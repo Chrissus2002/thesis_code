{
 "cells": [
  {
   "cell_type": "markdown",
   "id": "a380c88d-ba22-4668-84b5-0acd61099aec",
   "metadata": {},
   "source": [
    "_**Imports for document extraction, text processing, and writing the text into chunks**_"
   ]
  },
  {
   "cell_type": "code",
   "execution_count": 95,
   "id": "2d541df6",
   "metadata": {},
   "outputs": [
    {
     "name": "stderr",
     "output_type": "stream",
     "text": [
      "Error while downloading from https://cdn-lfs.hf.co/repos/99/30/9930a5f938d94a0e280918c741b627e2951e95b397da975ed97b7642e379cab5/d0d559c47d5f71b1d280b13b62a2657f3e3bc70c0786f9ab91a36545e6a8f693?response-content-disposition=inline%3B+filename*%3DUTF-8%27%27model.safetensors%3B+filename%3D%22model.safetensors%22%3B&Expires=1746904088&Policy=eyJTdGF0ZW1lbnQiOlt7IkNvbmRpdGlvbiI6eyJEYXRlTGVzc1RoYW4iOnsiQVdTOkVwb2NoVGltZSI6MTc0NjkwNDA4OH19LCJSZXNvdXJjZSI6Imh0dHBzOi8vY2RuLWxmcy5oZi5jby9yZXBvcy85OS8zMC85OTMwYTVmOTM4ZDk0YTBlMjgwOTE4Yzc0MWI2MjdlMjk1MWU5NWIzOTdkYTk3NWVkOTdiNzY0MmUzNzljYWI1L2QwZDU1OWM0N2Q1ZjcxYjFkMjgwYjEzYjYyYTI2NTdmM2UzYmM3MGMwNzg2ZjlhYjkxYTM2NTQ1ZTZhOGY2OTM%7EcmVzcG9uc2UtY29udGVudC1kaXNwb3NpdGlvbj0qIn1dfQ__&Signature=TqAfk8JD-jkrBGbc4EaXo4lCETwmhYKp66NJHiqG5f850Ig3XCIc2vZWygB-4YWOPWJVKM8VCjvXAxwjUTBipy7O1YaNvI9hHi4rdPAmiD-9dmShEZ%7E1casd-qr6dxyqDkDm3ReLuLpErE4jUBCKbDH8D8lvrjrO58LLRST%7EpsBkAZC1MB7c2L7uCtKygLLU6ScRvKiF7-g7tIlmRvz9c1Y7CCbxTsXHBPF2mofhV9zJh8uFJ8Keo%7EWGrIOL-y5wNALLEKhft0VpWIa86%7EgO9G2nx0x5jWBLg-Tiypfg6eqlOBqQAlOQs-pm7If8q6AvmeBQLtjQqfv8HgO3%7EyMDnA__&Key-Pair-Id=K3RPWS32NSSJCE: HTTPSConnectionPool(host='cdn-lfs.hf.co', port=443): Read timed out.\n",
      "Trying to resume download...\n"
     ]
    },
    {
     "ename": "OSError",
     "evalue": "intfloat/e5-base-v2 does not appear to have a file named pytorch_model.bin, model.safetensors, tf_model.h5, model.ckpt or flax_model.msgpack.",
     "output_type": "error",
     "traceback": [
      "\u001b[31m---------------------------------------------------------------------------\u001b[39m",
      "\u001b[31mOSError\u001b[39m                                   Traceback (most recent call last)",
      "\u001b[36mCell\u001b[39m\u001b[36m \u001b[39m\u001b[32mIn[95]\u001b[39m\u001b[32m, line 2\u001b[39m\n\u001b[32m      1\u001b[39m \u001b[38;5;28;01mfrom\u001b[39;00m\u001b[38;5;250m \u001b[39m\u001b[34;01msentence_transformers\u001b[39;00m\u001b[38;5;250m \u001b[39m\u001b[38;5;28;01mimport\u001b[39;00m SentenceTransformer\n\u001b[32m----> \u001b[39m\u001b[32m2\u001b[39m model = \u001b[43mSentenceTransformer\u001b[49m\u001b[43m(\u001b[49m\u001b[33;43m'\u001b[39;49m\u001b[33;43mintfloat/e5-base-v2\u001b[39;49m\u001b[33;43m'\u001b[39;49m\u001b[43m)\u001b[49m\n\u001b[32m      3\u001b[39m input_texts = [\n\u001b[32m      4\u001b[39m     \u001b[33m'\u001b[39m\u001b[33mquery: how much protein should a female eat\u001b[39m\u001b[33m'\u001b[39m,\n\u001b[32m      5\u001b[39m     \u001b[33m'\u001b[39m\u001b[33mquery: summit define\u001b[39m\u001b[33m'\u001b[39m,\n\u001b[32m      6\u001b[39m     \u001b[33m\"\u001b[39m\u001b[33mpassage: As a general guideline, the CDC\u001b[39m\u001b[33m'\u001b[39m\u001b[33ms average requirement of protein for women ages 19 to 70 is 46 grams per day. But, as you can see from this chart, you\u001b[39m\u001b[33m'\u001b[39m\u001b[33mll need to increase that if you\u001b[39m\u001b[33m'\u001b[39m\u001b[33mre expecting or training for a marathon. Check out the chart below to see how much protein you should be eating each day.\u001b[39m\u001b[33m\"\u001b[39m,\n\u001b[32m      7\u001b[39m     \u001b[33m\"\u001b[39m\u001b[33mpassage: Definition of summit for English Language Learners. : 1  the highest point of a mountain : the top of a mountain. : 2  the highest level. : 3  a meeting or series of meetings between the leaders of two or more governments.\u001b[39m\u001b[33m\"\u001b[39m\n\u001b[32m      8\u001b[39m ]\n\u001b[32m      9\u001b[39m embeddings = model.encode(input_texts, normalize_embeddings=\u001b[38;5;28;01mTrue\u001b[39;00m)\n",
      "\u001b[36mFile \u001b[39m\u001b[32m~/Desktop/University/thesis_work/venv/lib/python3.11/site-packages/sentence_transformers/SentenceTransformer.py:309\u001b[39m, in \u001b[36mSentenceTransformer.__init__\u001b[39m\u001b[34m(self, model_name_or_path, modules, device, prompts, default_prompt_name, similarity_fn_name, cache_folder, trust_remote_code, revision, local_files_only, token, use_auth_token, truncate_dim, model_kwargs, tokenizer_kwargs, config_kwargs, model_card_data, backend)\u001b[39m\n\u001b[32m    300\u001b[39m         model_name_or_path = __MODEL_HUB_ORGANIZATION__ + \u001b[33m\"\u001b[39m\u001b[33m/\u001b[39m\u001b[33m\"\u001b[39m + model_name_or_path\n\u001b[32m    302\u001b[39m \u001b[38;5;28;01mif\u001b[39;00m is_sentence_transformer_model(\n\u001b[32m    303\u001b[39m     model_name_or_path,\n\u001b[32m    304\u001b[39m     token,\n\u001b[32m   (...)\u001b[39m\u001b[32m    307\u001b[39m     local_files_only=local_files_only,\n\u001b[32m    308\u001b[39m ):\n\u001b[32m--> \u001b[39m\u001b[32m309\u001b[39m     modules, \u001b[38;5;28mself\u001b[39m.module_kwargs = \u001b[38;5;28;43mself\u001b[39;49m\u001b[43m.\u001b[49m\u001b[43m_load_sbert_model\u001b[49m\u001b[43m(\u001b[49m\n\u001b[32m    310\u001b[39m \u001b[43m        \u001b[49m\u001b[43mmodel_name_or_path\u001b[49m\u001b[43m,\u001b[49m\n\u001b[32m    311\u001b[39m \u001b[43m        \u001b[49m\u001b[43mtoken\u001b[49m\u001b[43m=\u001b[49m\u001b[43mtoken\u001b[49m\u001b[43m,\u001b[49m\n\u001b[32m    312\u001b[39m \u001b[43m        \u001b[49m\u001b[43mcache_folder\u001b[49m\u001b[43m=\u001b[49m\u001b[43mcache_folder\u001b[49m\u001b[43m,\u001b[49m\n\u001b[32m    313\u001b[39m \u001b[43m        \u001b[49m\u001b[43mrevision\u001b[49m\u001b[43m=\u001b[49m\u001b[43mrevision\u001b[49m\u001b[43m,\u001b[49m\n\u001b[32m    314\u001b[39m \u001b[43m        \u001b[49m\u001b[43mtrust_remote_code\u001b[49m\u001b[43m=\u001b[49m\u001b[43mtrust_remote_code\u001b[49m\u001b[43m,\u001b[49m\n\u001b[32m    315\u001b[39m \u001b[43m        \u001b[49m\u001b[43mlocal_files_only\u001b[49m\u001b[43m=\u001b[49m\u001b[43mlocal_files_only\u001b[49m\u001b[43m,\u001b[49m\n\u001b[32m    316\u001b[39m \u001b[43m        \u001b[49m\u001b[43mmodel_kwargs\u001b[49m\u001b[43m=\u001b[49m\u001b[43mmodel_kwargs\u001b[49m\u001b[43m,\u001b[49m\n\u001b[32m    317\u001b[39m \u001b[43m        \u001b[49m\u001b[43mtokenizer_kwargs\u001b[49m\u001b[43m=\u001b[49m\u001b[43mtokenizer_kwargs\u001b[49m\u001b[43m,\u001b[49m\n\u001b[32m    318\u001b[39m \u001b[43m        \u001b[49m\u001b[43mconfig_kwargs\u001b[49m\u001b[43m=\u001b[49m\u001b[43mconfig_kwargs\u001b[49m\u001b[43m,\u001b[49m\n\u001b[32m    319\u001b[39m \u001b[43m    \u001b[49m\u001b[43m)\u001b[49m\n\u001b[32m    320\u001b[39m \u001b[38;5;28;01melse\u001b[39;00m:\n\u001b[32m    321\u001b[39m     modules = \u001b[38;5;28mself\u001b[39m._load_auto_model(\n\u001b[32m    322\u001b[39m         model_name_or_path,\n\u001b[32m    323\u001b[39m         token=token,\n\u001b[32m   (...)\u001b[39m\u001b[32m    330\u001b[39m         config_kwargs=config_kwargs,\n\u001b[32m    331\u001b[39m     )\n",
      "\u001b[36mFile \u001b[39m\u001b[32m~/Desktop/University/thesis_work/venv/lib/python3.11/site-packages/sentence_transformers/SentenceTransformer.py:1808\u001b[39m, in \u001b[36mSentenceTransformer._load_sbert_model\u001b[39m\u001b[34m(self, model_name_or_path, token, cache_folder, revision, trust_remote_code, local_files_only, model_kwargs, tokenizer_kwargs, config_kwargs)\u001b[39m\n\u001b[32m   1805\u001b[39m \u001b[38;5;66;03m# Try to initialize the module with a lot of kwargs, but only if the module supports them\u001b[39;00m\n\u001b[32m   1806\u001b[39m \u001b[38;5;66;03m# Otherwise we fall back to the load method\u001b[39;00m\n\u001b[32m   1807\u001b[39m \u001b[38;5;28;01mtry\u001b[39;00m:\n\u001b[32m-> \u001b[39m\u001b[32m1808\u001b[39m     module = \u001b[43mmodule_class\u001b[49m\u001b[43m(\u001b[49m\u001b[43mmodel_name_or_path\u001b[49m\u001b[43m,\u001b[49m\u001b[43m \u001b[49m\u001b[43mcache_dir\u001b[49m\u001b[43m=\u001b[49m\u001b[43mcache_folder\u001b[49m\u001b[43m,\u001b[49m\u001b[43m \u001b[49m\u001b[43mbackend\u001b[49m\u001b[43m=\u001b[49m\u001b[38;5;28;43mself\u001b[39;49m\u001b[43m.\u001b[49m\u001b[43mbackend\u001b[49m\u001b[43m,\u001b[49m\u001b[43m \u001b[49m\u001b[43m*\u001b[49m\u001b[43m*\u001b[49m\u001b[43mkwargs\u001b[49m\u001b[43m)\u001b[49m\n\u001b[32m   1809\u001b[39m \u001b[38;5;28;01mexcept\u001b[39;00m \u001b[38;5;167;01mTypeError\u001b[39;00m:\n\u001b[32m   1810\u001b[39m     module = module_class.load(model_name_or_path)\n",
      "\u001b[36mFile \u001b[39m\u001b[32m~/Desktop/University/thesis_work/venv/lib/python3.11/site-packages/sentence_transformers/models/Transformer.py:81\u001b[39m, in \u001b[36mTransformer.__init__\u001b[39m\u001b[34m(self, model_name_or_path, max_seq_length, model_args, tokenizer_args, config_args, cache_dir, do_lower_case, tokenizer_name_or_path, backend)\u001b[39m\n\u001b[32m     78\u001b[39m     config_args = {}\n\u001b[32m     80\u001b[39m config, is_peft_model = \u001b[38;5;28mself\u001b[39m._load_config(model_name_or_path, cache_dir, backend, config_args)\n\u001b[32m---> \u001b[39m\u001b[32m81\u001b[39m \u001b[38;5;28;43mself\u001b[39;49m\u001b[43m.\u001b[49m\u001b[43m_load_model\u001b[49m\u001b[43m(\u001b[49m\u001b[43mmodel_name_or_path\u001b[49m\u001b[43m,\u001b[49m\u001b[43m \u001b[49m\u001b[43mconfig\u001b[49m\u001b[43m,\u001b[49m\u001b[43m \u001b[49m\u001b[43mcache_dir\u001b[49m\u001b[43m,\u001b[49m\u001b[43m \u001b[49m\u001b[43mbackend\u001b[49m\u001b[43m,\u001b[49m\u001b[43m \u001b[49m\u001b[43mis_peft_model\u001b[49m\u001b[43m,\u001b[49m\u001b[43m \u001b[49m\u001b[43m*\u001b[49m\u001b[43m*\u001b[49m\u001b[43mmodel_args\u001b[49m\u001b[43m)\u001b[49m\n\u001b[32m     83\u001b[39m \u001b[38;5;28;01mif\u001b[39;00m max_seq_length \u001b[38;5;129;01mis\u001b[39;00m \u001b[38;5;129;01mnot\u001b[39;00m \u001b[38;5;28;01mNone\u001b[39;00m \u001b[38;5;129;01mand\u001b[39;00m \u001b[33m\"\u001b[39m\u001b[33mmodel_max_length\u001b[39m\u001b[33m\"\u001b[39m \u001b[38;5;129;01mnot\u001b[39;00m \u001b[38;5;129;01min\u001b[39;00m tokenizer_args:\n\u001b[32m     84\u001b[39m     tokenizer_args[\u001b[33m\"\u001b[39m\u001b[33mmodel_max_length\u001b[39m\u001b[33m\"\u001b[39m] = max_seq_length\n",
      "\u001b[36mFile \u001b[39m\u001b[32m~/Desktop/University/thesis_work/venv/lib/python3.11/site-packages/sentence_transformers/models/Transformer.py:181\u001b[39m, in \u001b[36mTransformer._load_model\u001b[39m\u001b[34m(self, model_name_or_path, config, cache_dir, backend, is_peft_model, **model_args)\u001b[39m\n\u001b[32m    179\u001b[39m     \u001b[38;5;28mself\u001b[39m._load_mt5_model(model_name_or_path, config, cache_dir, **model_args)\n\u001b[32m    180\u001b[39m \u001b[38;5;28;01melse\u001b[39;00m:\n\u001b[32m--> \u001b[39m\u001b[32m181\u001b[39m     \u001b[38;5;28mself\u001b[39m.auto_model = \u001b[43mAutoModel\u001b[49m\u001b[43m.\u001b[49m\u001b[43mfrom_pretrained\u001b[49m\u001b[43m(\u001b[49m\n\u001b[32m    182\u001b[39m \u001b[43m        \u001b[49m\u001b[43mmodel_name_or_path\u001b[49m\u001b[43m,\u001b[49m\u001b[43m \u001b[49m\u001b[43mconfig\u001b[49m\u001b[43m=\u001b[49m\u001b[43mconfig\u001b[49m\u001b[43m,\u001b[49m\u001b[43m \u001b[49m\u001b[43mcache_dir\u001b[49m\u001b[43m=\u001b[49m\u001b[43mcache_dir\u001b[49m\u001b[43m,\u001b[49m\u001b[43m \u001b[49m\u001b[43m*\u001b[49m\u001b[43m*\u001b[49m\u001b[43mmodel_args\u001b[49m\n\u001b[32m    183\u001b[39m \u001b[43m    \u001b[49m\u001b[43m)\u001b[49m\n\u001b[32m    185\u001b[39m \u001b[38;5;28;01mif\u001b[39;00m is_peft_model:\n\u001b[32m    186\u001b[39m     \u001b[38;5;28mself\u001b[39m._load_peft_model(model_name_or_path, config, cache_dir, **model_args, **adapter_only_kwargs)\n",
      "\u001b[36mFile \u001b[39m\u001b[32m~/Desktop/University/thesis_work/venv/lib/python3.11/site-packages/transformers/models/auto/auto_factory.py:571\u001b[39m, in \u001b[36m_BaseAutoModelClass.from_pretrained\u001b[39m\u001b[34m(cls, pretrained_model_name_or_path, *model_args, **kwargs)\u001b[39m\n\u001b[32m    569\u001b[39m     \u001b[38;5;28;01mif\u001b[39;00m model_class.config_class == config.sub_configs.get(\u001b[33m\"\u001b[39m\u001b[33mtext_config\u001b[39m\u001b[33m\"\u001b[39m, \u001b[38;5;28;01mNone\u001b[39;00m):\n\u001b[32m    570\u001b[39m         config = config.get_text_config()\n\u001b[32m--> \u001b[39m\u001b[32m571\u001b[39m     \u001b[38;5;28;01mreturn\u001b[39;00m \u001b[43mmodel_class\u001b[49m\u001b[43m.\u001b[49m\u001b[43mfrom_pretrained\u001b[49m\u001b[43m(\u001b[49m\n\u001b[32m    572\u001b[39m \u001b[43m        \u001b[49m\u001b[43mpretrained_model_name_or_path\u001b[49m\u001b[43m,\u001b[49m\u001b[43m \u001b[49m\u001b[43m*\u001b[49m\u001b[43mmodel_args\u001b[49m\u001b[43m,\u001b[49m\u001b[43m \u001b[49m\u001b[43mconfig\u001b[49m\u001b[43m=\u001b[49m\u001b[43mconfig\u001b[49m\u001b[43m,\u001b[49m\u001b[43m \u001b[49m\u001b[43m*\u001b[49m\u001b[43m*\u001b[49m\u001b[43mhub_kwargs\u001b[49m\u001b[43m,\u001b[49m\u001b[43m \u001b[49m\u001b[43m*\u001b[49m\u001b[43m*\u001b[49m\u001b[43mkwargs\u001b[49m\n\u001b[32m    573\u001b[39m \u001b[43m    \u001b[49m\u001b[43m)\u001b[49m\n\u001b[32m    574\u001b[39m \u001b[38;5;28;01mraise\u001b[39;00m \u001b[38;5;167;01mValueError\u001b[39;00m(\n\u001b[32m    575\u001b[39m     \u001b[33mf\u001b[39m\u001b[33m\"\u001b[39m\u001b[33mUnrecognized configuration class \u001b[39m\u001b[38;5;132;01m{\u001b[39;00mconfig.\u001b[34m__class__\u001b[39m\u001b[38;5;132;01m}\u001b[39;00m\u001b[33m for this kind of AutoModel: \u001b[39m\u001b[38;5;132;01m{\u001b[39;00m\u001b[38;5;28mcls\u001b[39m.\u001b[34m__name__\u001b[39m\u001b[38;5;132;01m}\u001b[39;00m\u001b[33m.\u001b[39m\u001b[38;5;130;01m\\n\u001b[39;00m\u001b[33m\"\u001b[39m\n\u001b[32m    576\u001b[39m     \u001b[33mf\u001b[39m\u001b[33m\"\u001b[39m\u001b[33mModel type should be one of \u001b[39m\u001b[38;5;132;01m{\u001b[39;00m\u001b[33m'\u001b[39m\u001b[33m, \u001b[39m\u001b[33m'\u001b[39m.join(c.\u001b[34m__name__\u001b[39m\u001b[38;5;250m \u001b[39m\u001b[38;5;28;01mfor\u001b[39;00m\u001b[38;5;250m \u001b[39mc\u001b[38;5;250m \u001b[39m\u001b[38;5;129;01min\u001b[39;00m\u001b[38;5;250m \u001b[39m\u001b[38;5;28mcls\u001b[39m._model_mapping.keys())\u001b[38;5;132;01m}\u001b[39;00m\u001b[33m.\u001b[39m\u001b[33m\"\u001b[39m\n\u001b[32m    577\u001b[39m )\n",
      "\u001b[36mFile \u001b[39m\u001b[32m~/Desktop/University/thesis_work/venv/lib/python3.11/site-packages/transformers/modeling_utils.py:279\u001b[39m, in \u001b[36mrestore_default_torch_dtype.<locals>._wrapper\u001b[39m\u001b[34m(*args, **kwargs)\u001b[39m\n\u001b[32m    277\u001b[39m old_dtype = torch.get_default_dtype()\n\u001b[32m    278\u001b[39m \u001b[38;5;28;01mtry\u001b[39;00m:\n\u001b[32m--> \u001b[39m\u001b[32m279\u001b[39m     \u001b[38;5;28;01mreturn\u001b[39;00m \u001b[43mfunc\u001b[49m\u001b[43m(\u001b[49m\u001b[43m*\u001b[49m\u001b[43margs\u001b[49m\u001b[43m,\u001b[49m\u001b[43m \u001b[49m\u001b[43m*\u001b[49m\u001b[43m*\u001b[49m\u001b[43mkwargs\u001b[49m\u001b[43m)\u001b[49m\n\u001b[32m    280\u001b[39m \u001b[38;5;28;01mfinally\u001b[39;00m:\n\u001b[32m    281\u001b[39m     torch.set_default_dtype(old_dtype)\n",
      "\u001b[36mFile \u001b[39m\u001b[32m~/Desktop/University/thesis_work/venv/lib/python3.11/site-packages/transformers/modeling_utils.py:4260\u001b[39m, in \u001b[36mPreTrainedModel.from_pretrained\u001b[39m\u001b[34m(cls, pretrained_model_name_or_path, config, cache_dir, ignore_mismatched_sizes, force_download, local_files_only, token, revision, use_safetensors, weights_only, *model_args, **kwargs)\u001b[39m\n\u001b[32m   4250\u001b[39m \u001b[38;5;28;01mif\u001b[39;00m (\n\u001b[32m   4251\u001b[39m     gguf_file\n\u001b[32m   4252\u001b[39m     \u001b[38;5;129;01mand\u001b[39;00m device_map \u001b[38;5;129;01mis\u001b[39;00m \u001b[38;5;129;01mnot\u001b[39;00m \u001b[38;5;28;01mNone\u001b[39;00m\n\u001b[32m   4253\u001b[39m     \u001b[38;5;129;01mand\u001b[39;00m ((\u001b[38;5;28misinstance\u001b[39m(device_map, \u001b[38;5;28mdict\u001b[39m) \u001b[38;5;129;01mand\u001b[39;00m \u001b[33m\"\u001b[39m\u001b[33mdisk\u001b[39m\u001b[33m\"\u001b[39m \u001b[38;5;129;01min\u001b[39;00m device_map.values()) \u001b[38;5;129;01mor\u001b[39;00m \u001b[33m\"\u001b[39m\u001b[33mdisk\u001b[39m\u001b[33m\"\u001b[39m \u001b[38;5;129;01min\u001b[39;00m device_map)\n\u001b[32m   4254\u001b[39m ):\n\u001b[32m   4255\u001b[39m     \u001b[38;5;28;01mraise\u001b[39;00m \u001b[38;5;167;01mRuntimeError\u001b[39;00m(\n\u001b[32m   4256\u001b[39m         \u001b[33m\"\u001b[39m\u001b[33mOne or more modules is configured to be mapped to disk. Disk offload is not supported for models \u001b[39m\u001b[33m\"\u001b[39m\n\u001b[32m   4257\u001b[39m         \u001b[33m\"\u001b[39m\u001b[33mloaded from GGUF files.\u001b[39m\u001b[33m\"\u001b[39m\n\u001b[32m   4258\u001b[39m     )\n\u001b[32m-> \u001b[39m\u001b[32m4260\u001b[39m checkpoint_files, sharded_metadata = \u001b[43m_get_resolved_checkpoint_files\u001b[49m\u001b[43m(\u001b[49m\n\u001b[32m   4261\u001b[39m \u001b[43m    \u001b[49m\u001b[43mpretrained_model_name_or_path\u001b[49m\u001b[43m=\u001b[49m\u001b[43mpretrained_model_name_or_path\u001b[49m\u001b[43m,\u001b[49m\n\u001b[32m   4262\u001b[39m \u001b[43m    \u001b[49m\u001b[43msubfolder\u001b[49m\u001b[43m=\u001b[49m\u001b[43msubfolder\u001b[49m\u001b[43m,\u001b[49m\n\u001b[32m   4263\u001b[39m \u001b[43m    \u001b[49m\u001b[43mvariant\u001b[49m\u001b[43m=\u001b[49m\u001b[43mvariant\u001b[49m\u001b[43m,\u001b[49m\n\u001b[32m   4264\u001b[39m \u001b[43m    \u001b[49m\u001b[43mgguf_file\u001b[49m\u001b[43m=\u001b[49m\u001b[43mgguf_file\u001b[49m\u001b[43m,\u001b[49m\n\u001b[32m   4265\u001b[39m \u001b[43m    \u001b[49m\u001b[43mfrom_tf\u001b[49m\u001b[43m=\u001b[49m\u001b[43mfrom_tf\u001b[49m\u001b[43m,\u001b[49m\n\u001b[32m   4266\u001b[39m \u001b[43m    \u001b[49m\u001b[43mfrom_flax\u001b[49m\u001b[43m=\u001b[49m\u001b[43mfrom_flax\u001b[49m\u001b[43m,\u001b[49m\n\u001b[32m   4267\u001b[39m \u001b[43m    \u001b[49m\u001b[43muse_safetensors\u001b[49m\u001b[43m=\u001b[49m\u001b[43muse_safetensors\u001b[49m\u001b[43m,\u001b[49m\n\u001b[32m   4268\u001b[39m \u001b[43m    \u001b[49m\u001b[43mcache_dir\u001b[49m\u001b[43m=\u001b[49m\u001b[43mcache_dir\u001b[49m\u001b[43m,\u001b[49m\n\u001b[32m   4269\u001b[39m \u001b[43m    \u001b[49m\u001b[43mforce_download\u001b[49m\u001b[43m=\u001b[49m\u001b[43mforce_download\u001b[49m\u001b[43m,\u001b[49m\n\u001b[32m   4270\u001b[39m \u001b[43m    \u001b[49m\u001b[43mproxies\u001b[49m\u001b[43m=\u001b[49m\u001b[43mproxies\u001b[49m\u001b[43m,\u001b[49m\n\u001b[32m   4271\u001b[39m \u001b[43m    \u001b[49m\u001b[43mlocal_files_only\u001b[49m\u001b[43m=\u001b[49m\u001b[43mlocal_files_only\u001b[49m\u001b[43m,\u001b[49m\n\u001b[32m   4272\u001b[39m \u001b[43m    \u001b[49m\u001b[43mtoken\u001b[49m\u001b[43m=\u001b[49m\u001b[43mtoken\u001b[49m\u001b[43m,\u001b[49m\n\u001b[32m   4273\u001b[39m \u001b[43m    \u001b[49m\u001b[43muser_agent\u001b[49m\u001b[43m=\u001b[49m\u001b[43muser_agent\u001b[49m\u001b[43m,\u001b[49m\n\u001b[32m   4274\u001b[39m \u001b[43m    \u001b[49m\u001b[43mrevision\u001b[49m\u001b[43m=\u001b[49m\u001b[43mrevision\u001b[49m\u001b[43m,\u001b[49m\n\u001b[32m   4275\u001b[39m \u001b[43m    \u001b[49m\u001b[43mcommit_hash\u001b[49m\u001b[43m=\u001b[49m\u001b[43mcommit_hash\u001b[49m\u001b[43m,\u001b[49m\n\u001b[32m   4276\u001b[39m \u001b[43m\u001b[49m\u001b[43m)\u001b[49m\n\u001b[32m   4278\u001b[39m is_sharded = sharded_metadata \u001b[38;5;129;01mis\u001b[39;00m \u001b[38;5;129;01mnot\u001b[39;00m \u001b[38;5;28;01mNone\u001b[39;00m\n\u001b[32m   4279\u001b[39m is_quantized = hf_quantizer \u001b[38;5;129;01mis\u001b[39;00m \u001b[38;5;129;01mnot\u001b[39;00m \u001b[38;5;28;01mNone\u001b[39;00m\n",
      "\u001b[36mFile \u001b[39m\u001b[32m~/Desktop/University/thesis_work/venv/lib/python3.11/site-packages/transformers/modeling_utils.py:1100\u001b[39m, in \u001b[36m_get_resolved_checkpoint_files\u001b[39m\u001b[34m(pretrained_model_name_or_path, subfolder, variant, gguf_file, from_tf, from_flax, use_safetensors, cache_dir, force_download, proxies, local_files_only, token, user_agent, revision, commit_hash)\u001b[39m\n\u001b[32m   1094\u001b[39m                 \u001b[38;5;28;01mraise\u001b[39;00m \u001b[38;5;167;01mEnvironmentError\u001b[39;00m(\n\u001b[32m   1095\u001b[39m                     \u001b[33mf\u001b[39m\u001b[33m\"\u001b[39m\u001b[38;5;132;01m{\u001b[39;00mpretrained_model_name_or_path\u001b[38;5;132;01m}\u001b[39;00m\u001b[33m does not appear to have a file named\u001b[39m\u001b[33m\"\u001b[39m\n\u001b[32m   1096\u001b[39m                     \u001b[33mf\u001b[39m\u001b[33m\"\u001b[39m\u001b[33m \u001b[39m\u001b[38;5;132;01m{\u001b[39;00m_add_variant(WEIGHTS_NAME,\u001b[38;5;250m \u001b[39mvariant)\u001b[38;5;132;01m}\u001b[39;00m\u001b[33m but there is a file without the variant\u001b[39m\u001b[33m\"\u001b[39m\n\u001b[32m   1097\u001b[39m                     \u001b[33mf\u001b[39m\u001b[33m\"\u001b[39m\u001b[33m \u001b[39m\u001b[38;5;132;01m{\u001b[39;00mvariant\u001b[38;5;132;01m}\u001b[39;00m\u001b[33m. Use `variant=None` to load this model from those weights.\u001b[39m\u001b[33m\"\u001b[39m\n\u001b[32m   1098\u001b[39m                 )\n\u001b[32m   1099\u001b[39m             \u001b[38;5;28;01melse\u001b[39;00m:\n\u001b[32m-> \u001b[39m\u001b[32m1100\u001b[39m                 \u001b[38;5;28;01mraise\u001b[39;00m \u001b[38;5;167;01mEnvironmentError\u001b[39;00m(\n\u001b[32m   1101\u001b[39m                     \u001b[33mf\u001b[39m\u001b[33m\"\u001b[39m\u001b[38;5;132;01m{\u001b[39;00mpretrained_model_name_or_path\u001b[38;5;132;01m}\u001b[39;00m\u001b[33m does not appear to have a file named\u001b[39m\u001b[33m\"\u001b[39m\n\u001b[32m   1102\u001b[39m                     \u001b[33mf\u001b[39m\u001b[33m\"\u001b[39m\u001b[33m \u001b[39m\u001b[38;5;132;01m{\u001b[39;00m_add_variant(WEIGHTS_NAME,\u001b[38;5;250m \u001b[39mvariant)\u001b[38;5;132;01m}\u001b[39;00m\u001b[33m, \u001b[39m\u001b[38;5;132;01m{\u001b[39;00m_add_variant(SAFE_WEIGHTS_NAME,\u001b[38;5;250m \u001b[39mvariant)\u001b[38;5;132;01m}\u001b[39;00m\u001b[33m,\u001b[39m\u001b[33m\"\u001b[39m\n\u001b[32m   1103\u001b[39m                     \u001b[33mf\u001b[39m\u001b[33m\"\u001b[39m\u001b[33m \u001b[39m\u001b[38;5;132;01m{\u001b[39;00mTF2_WEIGHTS_NAME\u001b[38;5;132;01m}\u001b[39;00m\u001b[33m, \u001b[39m\u001b[38;5;132;01m{\u001b[39;00mTF_WEIGHTS_NAME\u001b[38;5;132;01m}\u001b[39;00m\u001b[33m or \u001b[39m\u001b[38;5;132;01m{\u001b[39;00mFLAX_WEIGHTS_NAME\u001b[38;5;132;01m}\u001b[39;00m\u001b[33m.\u001b[39m\u001b[33m\"\u001b[39m\n\u001b[32m   1104\u001b[39m                 )\n\u001b[32m   1106\u001b[39m \u001b[38;5;28;01mexcept\u001b[39;00m \u001b[38;5;167;01mEnvironmentError\u001b[39;00m:\n\u001b[32m   1107\u001b[39m     \u001b[38;5;66;03m# Raise any environment error raise by `cached_file`. It will have a helpful error message adapted\u001b[39;00m\n\u001b[32m   1108\u001b[39m     \u001b[38;5;66;03m# to the original exception.\u001b[39;00m\n\u001b[32m   1109\u001b[39m     \u001b[38;5;28;01mraise\u001b[39;00m\n",
      "\u001b[31mOSError\u001b[39m: intfloat/e5-base-v2 does not appear to have a file named pytorch_model.bin, model.safetensors, tf_model.h5, model.ckpt or flax_model.msgpack."
     ]
    }
   ],
   "source": [
    "from sentence_transformers import SentenceTransformer\n",
    "model = SentenceTransformer('intfloat/e5-base-v2')\n",
    "input_texts = [\n",
    "    'query: how much protein should a female eat',\n",
    "    'query: summit define',\n",
    "    \"passage: As a general guideline, the CDC's average requirement of protein for women ages 19 to 70 is 46 grams per day. But, as you can see from this chart, you'll need to increase that if you're expecting or training for a marathon. Check out the chart below to see how much protein you should be eating each day.\",\n",
    "    \"passage: Definition of summit for English Language Learners. : 1  the highest point of a mountain : the top of a mountain. : 2  the highest level. : 3  a meeting or series of meetings between the leaders of two or more governments.\"\n",
    "]\n",
    "embeddings = model.encode(input_texts, normalize_embeddings=True)\n",
    "print(embeddings)\n",
    "\n"
   ]
  },
  {
   "cell_type": "code",
   "execution_count": 1,
   "id": "cfc87c49-68f4-4e03-b20c-cdb740c37910",
   "metadata": {},
   "outputs": [],
   "source": [
    "import os\n",
    "from pathlib import Path\n",
    "import re\n",
    "import PyPDF2\n",
    "import pandas as pd"
   ]
  },
  {
   "cell_type": "markdown",
   "id": "1548de45-d178-40cd-a923-212028382985",
   "metadata": {},
   "source": [
    "_**Necessary functions for the document preprocessing and text clean up**_"
   ]
  },
  {
   "cell_type": "code",
   "execution_count": 39,
   "id": "abde84f5",
   "metadata": {},
   "outputs": [],
   "source": [
    "def extract_text_from_pdf(pdf_path: Path) -> str:\n",
    "    \"\"\"\n",
    "    Extract text from a PDF file\n",
    "    \"\"\"\n",
    "    if pdf_path.suffix.lower() == \".pdf\":\n",
    "        text = \"\"\n",
    "        with pdf_path.open(\"rb\") as file:\n",
    "            reader = PyPDF2.PdfReader(file)\n",
    "            for page in reader.pages:\n",
    "                text += page.extract_text()\n",
    "        return text\n",
    "\n",
    "\n",
    "\n",
    "def clean_text(text: str) -> str:\n",
    "    \"\"\"\n",
    "    Clean the text by removing unnecesary sections\n",
    "    \"\"\"\n",
    "    match = re.search(r'Bibliography|Acknowledgements|Index|Contents|Carbon', text, re.IGNORECASE)\n",
    "    if match:\n",
    "        text = text[match.start():]\n",
    "    return text\n",
    "\n",
    "\n",
    "def chunk_text(text: str, max_token_size: int = 128) -> list[str]:\n",
    "    \"\"\"\n",
    "    Chunk the text into smaller chunks of approximately max_token_size tokens\n",
    "    Uses a simple estimation method where 1 token ≈ 4 characters\n",
    "    \"\"\"\n",
    "    paragraphs = text.split(\".\\n\")\n",
    "    chunks = []\n",
    "    current_chunk = \"\"\n",
    "    current_token_count = 0\n",
    "    \n",
    "    # Simple token estimation function\n",
    "    def estimate_tokens(text: str) -> int:\n",
    "        # Roughly 4 characters per token for English text\n",
    "        return len(text) // 4\n",
    "    \n",
    "    for paragraph in paragraphs:\n",
    "        paragraph_tokens = estimate_tokens(paragraph)\n",
    "        \n",
    "        # Check if adding this paragraph would exceed the token limit\n",
    "        if current_token_count + paragraph_tokens + 1 > max_token_size:\n",
    "            chunks.append(current_chunk.strip())\n",
    "            current_chunk = paragraph + \"\\n\\n\"\n",
    "            current_token_count = paragraph_tokens + 2  # +2 for the newlines\n",
    "        else:\n",
    "            current_chunk += paragraph + \"\\n\\n\"\n",
    "            current_token_count += paragraph_tokens + 2  # +2 for the newlines\n",
    "    \n",
    "    # Add the last chunk if it's not empty\n",
    "    if current_chunk:\n",
    "        chunks.append(current_chunk.strip())\n",
    "    \n",
    "    return chunks\n",
    "\n",
    "\n",
    "def remove_empty_strings_from_list(input_list: list[str]) -> list[str]:\n",
    "    \"\"\"\n",
    "    Removes all empty strings (e.g., \"\", \"   \") from a list of strings.\n",
    "    It also removes strings that are None.\n",
    "    \"\"\"\n",
    "    return [s for s in input_list if s and s.strip()]"
   ]
  },
  {
   "cell_type": "markdown",
   "id": "f9baba30-2e34-4d8a-80f8-be34616455fd",
   "metadata": {},
   "source": [
    "_**Adding document text to a list of chunks which will then be processed by BERTopic**_"
   ]
  },
  {
   "cell_type": "code",
   "execution_count": 3,
   "id": "21672b31-f7dd-4970-ac1f-6f6c0bd93c88",
   "metadata": {},
   "outputs": [],
   "source": [
    "folder_year_2013 = Path(\"ESG_reports/Siemens/2013\")\n",
    "folder_year_2014 = Path(\"ESG_reports/Siemens/2014\")\n",
    "folder_year_2015 = Path(\"ESG_reports/Siemens/2015\")\n",
    "folder_year_2016 = Path(\"ESG_reports/Siemens/2016\")\n",
    "folder_year_2017 = Path(\"ESG_reports/Siemens/2017\")\n",
    "folder_year_2018 = Path(\"ESG_reports/Siemens/2018\")\n",
    "folder_year_2019 = Path(\"ESG_reports/Siemens/2019\")\n",
    "folder_year_2020 = Path(\"ESG_reports/Siemens/2020\")\n",
    "folder_year_2021 = Path(\"ESG_reports/Siemens/2021\")\n",
    "folder_year_2022 = Path(\"ESG_reports/Siemens/2022\")\n",
    "folder_year_2023 = Path(\"ESG_reports/Siemens/2023\")\n",
    "folder_year_2024 = Path(\"ESG_reports/Siemens/2024\")\n",
    "document_text_2013 = []\n",
    "document_text_2014 = []\n",
    "document_text_2015 = []\n",
    "document_text_2016 = []\n",
    "document_text_2017 = []\n",
    "document_text_2018 = []\n",
    "document_text_2019 = []\n",
    "document_text_2020 = []\n",
    "document_text_2021 = []\n",
    "document_text_2022 = []\n",
    "document_text_2023 = []\n",
    "document_text_2024 = []"
   ]
  },
  {
   "cell_type": "code",
   "execution_count": 41,
   "id": "651b18fa-6e45-45d7-baac-23f5574220ff",
   "metadata": {},
   "outputs": [
    {
     "name": "stdout",
     "output_type": "stream",
     "text": [
      "1453\n",
      "994\n",
      "628\n",
      "609\n",
      "832\n",
      "869\n",
      "840\n",
      "317\n",
      "394\n",
      "462\n",
      "590\n",
      "611\n"
     ]
    }
   ],
   "source": [
    "def process_pdf_folder(folder_path: Path) -> list[str]:\n",
    "    document_chunks = []\n",
    "    for file in folder_path.glob(\"*.pdf\"):\n",
    "        text = extract_text_from_pdf(file)\n",
    "        cleaned_text = clean_text(text)\n",
    "        chunks = chunk_text(cleaned_text)\n",
    "        document_chunks.extend(chunks)\n",
    "    print(len(document_chunks))\n",
    "    return document_chunks\n",
    "\n",
    "document_text_2013 = remove_empty_strings_from_list(process_pdf_folder(folder_year_2013))\n",
    "document_text_2014 = remove_empty_strings_from_list(process_pdf_folder(folder_year_2014))\n",
    "document_text_2015 = remove_empty_strings_from_list(process_pdf_folder(folder_year_2015))\n",
    "document_text_2016 = remove_empty_strings_from_list(process_pdf_folder(folder_year_2016))\n",
    "document_text_2017 = remove_empty_strings_from_list(process_pdf_folder(folder_year_2017))\n",
    "document_text_2018 = remove_empty_strings_from_list(process_pdf_folder(folder_year_2018))\n",
    "document_text_2019 = remove_empty_strings_from_list(process_pdf_folder(folder_year_2019))\n",
    "document_text_2020 = remove_empty_strings_from_list(process_pdf_folder(folder_year_2020))\n",
    "document_text_2021 = remove_empty_strings_from_list(process_pdf_folder(folder_year_2021))\n",
    "document_text_2022 = remove_empty_strings_from_list(process_pdf_folder(folder_year_2022))\n",
    "document_text_2023 = remove_empty_strings_from_list(process_pdf_folder(folder_year_2023))\n",
    "document_text_2024 = remove_empty_strings_from_list(process_pdf_folder(folder_year_2024))"
   ]
  },
  {
   "cell_type": "code",
   "execution_count": 50,
   "id": "a1f708c7",
   "metadata": {},
   "outputs": [],
   "source": [
    "dictionary_year_chunks = {\n",
    "    2013: document_text_2013,\n",
    "    2014: document_text_2014,\n",
    "    2015: document_text_2015,\n",
    "    2016: document_text_2016,\n",
    "    2017: document_text_2017,\n",
    "    2018: document_text_2018,\n",
    "    2019: document_text_2019,\n",
    "    2020: document_text_2020,\n",
    "    2021: document_text_2021,\n",
    "    2022: document_text_2022,\n",
    "    2023: document_text_2023,\n",
    "    2024: document_text_2024\n",
    "}\n",
    "\n",
    "years = []\n",
    "flat_chunks = []\n",
    "\n",
    "# Iterate through the dictionary in sorted order\n",
    "for year, chunks in sorted(dictionary_year_chunks.items()):\n",
    "    # For each string in the chunks list\n",
    "    for chunk in chunks:\n",
    "        # Add the year to years list\n",
    "        years.append(year)\n",
    "        # Add the chunk to flat_chunks list\n",
    "        flat_chunks.append(chunk)\n",
    "\n",
    "df_chunks = pd.DataFrame(dictionary_year_chunks.items(), columns=['Year', 'Chunk'])"
   ]
  },
  {
   "cell_type": "code",
   "execution_count": null,
   "id": "2ac441f0",
   "metadata": {},
   "outputs": [
    {
     "name": "stdout",
     "output_type": "stream",
     "text": [
      "carbon \n",
      " dioxide per kilo\n",
      "watt-hour,” notes Kirill \n",
      "Gamburger.   PAGE 211\n",
      "2Protecting the environment Generating power more efficiently12Lots of electricity from  \n",
      "hot exhaust gases \n",
      "The retrofitted Unit  6 at the Kir ishi facility \n",
      "is a state-of-the-art combined cycle power \n",
      "plant of the kind that Siemens has installed \n",
      "in many parts of the world over the last few \n",
      "years. Our advanced techno  logy enables \n",
      "the highly efficient use of fuel (natural gas \n",
      "in Kirishi’s case). When the fuel is burned, thermal energy is converted into mechani -\n",
      "cal energy, which drives a gas turbine – as in \n",
      "a jet engine. The gas turbine is connected via a shaft to a generator, which produces electricity. When emitted, the turbine’s ex -\n",
      "haust gases have a temperature of  be-\n",
      "tween 500°C and 600°C. At Kirishi, these gases no long\n",
      "er go unused but are har -\n",
      "nessed to produce steam, which is then \n",
      "used to generate additional energy. Thanks \n",
      "to this technology, combined cycle power \n",
      "plants are the most efficient type of con-\n",
      "ventional power plant\n"
     ]
    }
   ],
   "source": [
    "print(flat_chunks[0])\n"
   ]
  },
  {
   "cell_type": "markdown",
   "id": "0d6c7a36-1f14-4a6a-a8ec-62e2e8f450bb",
   "metadata": {},
   "source": [
    "_**Necessary imports for BERTopic**_"
   ]
  },
  {
   "cell_type": "code",
   "execution_count": 26,
   "id": "204d74c2-e132-41ea-8991-8682f3b29093",
   "metadata": {},
   "outputs": [],
   "source": [
    "from sklearn.feature_extraction.text import CountVectorizer\n",
    "from hdbscan import HDBSCAN\n",
    "from umap import UMAP\n",
    "from bertopic import BERTopic"
   ]
  },
  {
   "cell_type": "markdown",
   "id": "24f52604-46ca-4d64-a833-58879df253ea",
   "metadata": {},
   "source": [
    "_**Configurations for the steps of BERTopic**_"
   ]
  },
  {
   "cell_type": "code",
   "execution_count": 27,
   "id": "6904249b-f8ec-40f7-9bab-c791033ee890",
   "metadata": {},
   "outputs": [],
   "source": [
    "cluster_model = HDBSCAN()\n",
    "umap_model = UMAP(random_state=42)\n",
    "vectorizer_model = CountVectorizer(stop_words='english')"
   ]
  },
  {
   "cell_type": "code",
   "execution_count": 63,
   "id": "c6288ae9-a069-4869-99d7-0360702c0560",
   "metadata": {},
   "outputs": [],
   "source": [
    "topic_model = BERTopic(embedding_model='all-MiniLM-L6-v2', nr_topics=30,\n",
    "                       umap_model=umap_model, vectorizer_model=vectorizer_model)\n",
    "topics, probabilities = topic_model.fit_transform(flat_chunks)\n",
    "\n"
   ]
  },
  {
   "cell_type": "code",
   "execution_count": 65,
   "id": "470a7373",
   "metadata": {},
   "outputs": [
    {
     "data": {
      "application/vnd.plotly.v1+json": {
       "config": {
        "plotlyServerURL": "https://plot.ly"
       },
       "data": [
        {
         "hoverinfo": "text",
         "hovertext": [
          "<b>Topic 0</b><br>Words: environmental, sustainability, portfolio, water, siemens",
          "<b>Topic 0</b><br>Words: environmental, sustainability, water, report, siemens",
          "<b>Topic 0</b><br>Words: environmental, portfolio, sustainability, emissions, carbon",
          "<b>Topic 0</b><br>Words: environmental, water, sustainability, portfolio, emissions",
          "<b>Topic 0</b><br>Words: environmental, water, sustainability, portfolio, emissions",
          "<b>Topic 0</b><br>Words: environmental, sustainability, human, water, rights",
          "<b>Topic 0</b><br>Words: environmental, sustainability, water, human, siemens",
          "<b>Topic 0</b><br>Words: sustainability, environmental, siemens, 2020, water",
          "<b>Topic 0</b><br>Words: sustainability, gri, environmental, 2021, fiscal",
          "<b>Topic 0</b><br>Words: sustainability, gri, wef, emissions, 2022",
          "<b>Topic 0</b><br>Words: gri, sustainability, wef, emissions, fiscal",
          "<b>Topic 0</b><br>Words: sustainability, gri, emissions, siemens, water"
         ],
         "marker": {
          "color": "#E69F00"
         },
         "mode": "lines",
         "name": "0_sustainability_environmental_gri_emiss...",
         "type": "scatter",
         "x": {
          "bdata": "3QfeB98H4AfhB+IH4wfkB+UH5gfnB+gH",
          "dtype": "i2"
         },
         "y": {
          "bdata": "TAA2ADUAOAA+AE4AOwBVAI4AmwDlAN8A",
          "dtype": "i2"
         }
        },
        {
         "hoverinfo": "text",
         "hovertext": [
          "<b>Topic 1</b><br>Words: board, stock, 2013, managing, supervisory",
          "<b>Topic 1</b><br>Words: board, stock, managing, 2014, compensation",
          "<b>Topic 1</b><br>Words: board, stock, managing, 2015, compensation",
          "<b>Topic 1</b><br>Words: board, stock, compensation, managing, 2015",
          "<b>Topic 1</b><br>Words: board, stock, managing, compensation, supervisory",
          "<b>Topic 1</b><br>Words: board, stock, managing, supervisory, compensation",
          "<b>Topic 1</b><br>Words: board, managing, compensation, stock, supervisory",
          "<b>Topic 1</b><br>Words: germa, mium, workforces, pensioners, spf",
          "<b>Topic 1</b><br>Words: strategy, board, company, managing, advises"
         ],
         "marker": {
          "color": "#56B4E9"
         },
         "mode": "lines",
         "name": "1_board_stock_managing_compensation",
         "type": "scatter",
         "x": {
          "bdata": "3QfeB98H4AfhB+IH4wfkB+cH",
          "dtype": "i2"
         },
         "y": {
          "bdata": "uACKAFcATQBwAIAAigABAAEA",
          "dtype": "i2"
         }
        },
        {
         "hoverinfo": "text",
         "hovertext": [
          "<b>Topic 2</b><br>Words: million, assets, income, tax, cash",
          "<b>Topic 2</b><br>Words: income, million, tax, cash, 2014",
          "<b>Topic 2</b><br>Words: assets, million, income, cash, tax",
          "<b>Topic 2</b><br>Words: assets, million, tax, 2016, cash",
          "<b>Topic 2</b><br>Words: tax, million, assets, income, cash",
          "<b>Topic 2</b><br>Words: tax, assets, income, cash, financial",
          "<b>Topic 2</b><br>Words: tax, assets, 2019, million, cash",
          "<b>Topic 2</b><br>Words: plans, defined, pension, benefit, contribution",
          "<b>Topic 2</b><br>Words: plans, defined, benefit, contributions, contribution"
         ],
         "marker": {
          "color": "#009E73"
         },
         "mode": "lines",
         "name": "2_assets_tax_million_income",
         "type": "scatter",
         "x": {
          "bdata": "3QfeB98H4AfhB+IH4wfkB+UH",
          "dtype": "i2"
         },
         "y": {
          "bdata": "jwBlAE4AVgBOAFMAWAABAAEA",
          "dtype": "i2"
         }
        },
        {
         "hoverinfo": "text",
         "hovertext": [
          "<b>Topic 3</b><br>Words: employees, diversity, programs, employee, siemens",
          "<b>Topic 3</b><br>Words: culture, employees, diversity, siemens, people",
          "<b>Topic 3</b><br>Words: employees, employee, diversity, people, learning",
          "<b>Topic 3</b><br>Words: employees, diversity, employee, siemens, women",
          "<b>Topic 3</b><br>Words: diversity, employees, people, siemens, employee",
          "<b>Topic 3</b><br>Words: employees, diversity, people, siemens, women",
          "<b>Topic 3</b><br>Words: employees, diversity, people, learning, siemens",
          "<b>Topic 3</b><br>Words: employees, diversity, siemens, learning, people",
          "<b>Topic 3</b><br>Words: diversity, people, employees, learning, women",
          "<b>Topic 3</b><br>Words: people, employees, learning, diversity, women",
          "<b>Topic 3</b><br>Words: people, learning, diversity, employees, siemens",
          "<b>Topic 3</b><br>Words: learning, people, employees, siemens, diversity"
         ],
         "marker": {
          "color": "#F0E442"
         },
         "mode": "lines",
         "name": "3_employees_diversity_people_learning",
         "type": "scatter",
         "x": {
          "bdata": "3QfeB98H4AfhB+IH4wfkB+UH5gfnB+gH",
          "dtype": "i2"
         },
         "y": {
          "bdata": "MSwODhcbEiU0MEJH",
          "dtype": "i1"
         }
        },
        {
         "hoverinfo": "text",
         "hovertext": [
          "<b>Topic 4</b><br>Words: compliance, business, integrity, corruption, conduct",
          "<b>Topic 4</b><br>Words: compliance, integrity, business, corruption, training",
          "<b>Topic 4</b><br>Words: compliance, business, integrity, corruption, suppliers",
          "<b>Topic 4</b><br>Words: compliance, integrity, business, corruption, risk",
          "<b>Topic 4</b><br>Words: compliance, corruption, integrity, business, risk",
          "<b>Topic 4</b><br>Words: compliance, integrity, corruption, business, conduct",
          "<b>Topic 4</b><br>Words: compliance, business, corruption, integrity, risk",
          "<b>Topic 4</b><br>Words: compliance, business, corruption, integrity, fiscal",
          "<b>Topic 4</b><br>Words: compliance, business, 2021, corruption, integrity",
          "<b>Topic 4</b><br>Words: compliance, audits, business, corruption, 2022",
          "<b>Topic 4</b><br>Words: compliance, business, risk, integrity, audits",
          "<b>Topic 4</b><br>Words: compliance, business, audits, risk, corruption"
         ],
         "marker": {
          "color": "#D55E00"
         },
         "mode": "lines",
         "name": "4_compliance_business_integrity_corrupti...",
         "type": "scatter",
         "x": {
          "bdata": "3QfeB98H4AfhB+IH4wfkB+UH5gfnB+gH",
          "dtype": "i2"
         },
         "y": {
          "bdata": "KB0nIxsjERccLSQh",
          "dtype": "i1"
         }
        },
        {
         "hoverinfo": "text",
         "hovertext": [
          "<b>Topic 5</b><br>Words: financial, audit, statements, consolidated, risk",
          "<b>Topic 5</b><br>Words: financial, statements, audit, risk, management",
          "<b>Topic 5</b><br>Words: financial, audit, statements, management, risk",
          "<b>Topic 5</b><br>Words: financial, audit, statements, risk, group",
          "<b>Topic 5</b><br>Words: financial, audit, statements, group, risk",
          "<b>Topic 5</b><br>Words: financial, audit, statements, group, management",
          "<b>Topic 5</b><br>Words: financial, audit, statements, group, risk",
          "<b>Topic 5</b><br>Words: assurance, financial, engagement, statements, report",
          "<b>Topic 5</b><br>Words: assurance, engagement, report, statements, financial",
          "<b>Topic 5</b><br>Words: assurance, engagement, report, statements, financial",
          "<b>Topic 5</b><br>Words: assurance, report, engagement, statements, financial",
          "<b>Topic 5</b><br>Words: assurance, report, engagement, financial, risks"
         ],
         "marker": {
          "color": "#0072B2"
         },
         "mode": "lines",
         "name": "5_financial_audit_statements_risk",
         "type": "scatter",
         "x": {
          "bdata": "3QfeB98H4AfhB+IH4wfkB+UH5gfnB+gH",
          "dtype": "i2"
         },
         "y": {
          "bdata": "SjQhJC03OQIGCAoI",
          "dtype": "i1"
         }
        },
        {
         "hoverinfo": "text",
         "hovertext": [
          "<b>Topic 6</b><br>Words: growth, millions, page, markets, adjusted",
          "<b>Topic 6</b><br>Words: growth, markets, year, 2014, fiscal",
          "<b>Topic 6</b><br>Words: growth, division, markets, fiscal, year",
          "<b>Topic 6</b><br>Words: growth, orders, fiscal, division, markets",
          "<b>Topic 6</b><br>Words: growth, markets, fiscal, year, market",
          "<b>Topic 6</b><br>Words: growth, orders, year, fiscal, revenue",
          "<b>Topic 6</b><br>Words: growth, year, orders, fiscal, revenue",
          "<b>Topic 6</b><br>Words: commonwealth, independent, states, growth, markets",
          "<b>Topic 6</b><br>Words: commonwealth, independent, states, growth, markets",
          "<b>Topic 6</b><br>Words: commonwealth, independent, states, growth, markets"
         ],
         "marker": {
          "color": "#CC79A7"
         },
         "mode": "lines",
         "name": "6_growth_markets_year_fiscal",
         "type": "scatter",
         "x": {
          "bdata": "3QfeB98H4AfhB+IH4wfkB+UH6Ac=",
          "dtype": "i2"
         },
         "y": {
          "bdata": "UDorKjErMwEBAQ==",
          "dtype": "i1"
         }
        },
        {
         "hoverinfo": "text",
         "hovertext": [
          "<b>Topic 7</b><br>Words: siemens, ag, million, warrants, 2013",
          "<b>Topic 7</b><br>Words: siemens, damages, court, reported, financial",
          "<b>Topic 7</b><br>Words: siemens, warrants, court, 2015, damages",
          "<b>Topic 7</b><br>Words: siemens, ag, proceedings, 2016, damages",
          "<b>Topic 7</b><br>Words: india, siemens, 100, chennai, private",
          "<b>Topic 7</b><br>Words: siemens, india, private, chennai, 100",
          "<b>Topic 7</b><br>Words: siemens, 100, ag, unlimited, india",
          "<b>Topic 7</b><br>Words: gdp, siemens, contribution, induced, 2020",
          "<b>Topic 7</b><br>Words: ai, induced, siemens, supported, 2021",
          "<b>Topic 7</b><br>Words: patent, 2022, sdg, development, billion",
          "<b>Topic 7</b><br>Words: expenses, billion, 2023, capitalized, rated"
         ],
         "marker": {
          "color": "#E69F00"
         },
         "mode": "lines",
         "name": "7_siemens_100_ag_india",
         "type": "scatter",
         "x": {
          "bdata": "3QfeB98H4AfhB+IH4wfkB+UH5gfnBw==",
          "dtype": "i2"
         },
         "y": {
          "bdata": "WiQcEiUlIQQCAQE=",
          "dtype": "i1"
         }
        },
        {
         "hoverinfo": "text",
         "hovertext": [
          "<b>Topic 8</b><br>Words: 100, gmbh, siemens, limited, 10010",
          "<b>Topic 8</b><br>Words: 100, gmbh, siemens, 10011, grünwald",
          "<b>Topic 8</b><br>Words: 100, gmbh, siemens, limited, healthcare",
          "<b>Topic 8</b><br>Words: 100, gmbh, siemens, limited, healthcare",
          "<b>Topic 8</b><br>Words: 100, gmbh, siemens, limited, healthcare",
          "<b>Topic 8</b><br>Words: 100, gmbh, siemens, limited, gamesa",
          "<b>Topic 8</b><br>Words: 100, gmbh, siemens, gamesa, limited"
         ],
         "marker": {
          "color": "#56B4E9"
         },
         "mode": "lines",
         "name": "8_100_gmbh_siemens_limited",
         "type": "scatter",
         "x": {
          "bdata": "3QfeB98H4AfhB+IH4wc=",
          "dtype": "i2"
         },
         "y": {
          "bdata": "CwURCkVERg==",
          "dtype": "i1"
         }
        },
        {
         "hoverinfo": "text",
         "hovertext": [
          "<b>Topic 9</b><br>Words: production, solutions, industry, software, industrial",
          "<b>Topic 9</b><br>Words: industry, solutions, production, software, drive",
          "<b>Topic 9</b><br>Words: mobility, division, solutions, rail, digital",
          "<b>Topic 9</b><br>Words: mobility, solutions, rail, systems, services",
          "<b>Topic 9</b><br>Words: digital, mobility, mindsphere, solutions, systems",
          "<b>Topic 9</b><br>Words: digital, mobility, solutions, production, research",
          "<b>Topic 9</b><br>Words: mobility, digital, systems, solutions, technology",
          "<b>Topic 9</b><br>Words: digital, technology, cvcc, digitalization, customer",
          "<b>Topic 9</b><br>Words: digital, customers, technology, siemens, business",
          "<b>Topic 9</b><br>Words: digital, sustainable, customers, technology, solutions",
          "<b>Topic 9</b><br>Words: digital, customers, technology, mobility, solutions",
          "<b>Topic 9</b><br>Words: digital, customers, technology, siemens, sustainable"
         ],
         "marker": {
          "color": "#009E73"
         },
         "mode": "lines",
         "name": "9_digital_solutions_production_mobility",
         "type": "scatter",
         "x": {
          "bdata": "3QfeB98H4AfhB+IH4wfkB+UH5gfnB+gH",
          "dtype": "i2"
         },
         "y": {
          "bdata": "NikIBhENCwwGCxQV",
          "dtype": "i1"
         }
        }
       ],
       "layout": {
        "height": 450,
        "hoverlabel": {
         "bgcolor": "white",
         "font": {
          "family": "Rockwell",
          "size": 16
         }
        },
        "legend": {
         "title": {
          "text": "<b>Global Topic Representation"
         }
        },
        "template": {
         "data": {
          "bar": [
           {
            "error_x": {
             "color": "rgb(36,36,36)"
            },
            "error_y": {
             "color": "rgb(36,36,36)"
            },
            "marker": {
             "line": {
              "color": "white",
              "width": 0.5
             },
             "pattern": {
              "fillmode": "overlay",
              "size": 10,
              "solidity": 0.2
             }
            },
            "type": "bar"
           }
          ],
          "barpolar": [
           {
            "marker": {
             "line": {
              "color": "white",
              "width": 0.5
             },
             "pattern": {
              "fillmode": "overlay",
              "size": 10,
              "solidity": 0.2
             }
            },
            "type": "barpolar"
           }
          ],
          "carpet": [
           {
            "aaxis": {
             "endlinecolor": "rgb(36,36,36)",
             "gridcolor": "white",
             "linecolor": "white",
             "minorgridcolor": "white",
             "startlinecolor": "rgb(36,36,36)"
            },
            "baxis": {
             "endlinecolor": "rgb(36,36,36)",
             "gridcolor": "white",
             "linecolor": "white",
             "minorgridcolor": "white",
             "startlinecolor": "rgb(36,36,36)"
            },
            "type": "carpet"
           }
          ],
          "choropleth": [
           {
            "colorbar": {
             "outlinewidth": 1,
             "tickcolor": "rgb(36,36,36)",
             "ticks": "outside"
            },
            "type": "choropleth"
           }
          ],
          "contour": [
           {
            "colorbar": {
             "outlinewidth": 1,
             "tickcolor": "rgb(36,36,36)",
             "ticks": "outside"
            },
            "colorscale": [
             [
              0,
              "#440154"
             ],
             [
              0.1111111111111111,
              "#482878"
             ],
             [
              0.2222222222222222,
              "#3e4989"
             ],
             [
              0.3333333333333333,
              "#31688e"
             ],
             [
              0.4444444444444444,
              "#26828e"
             ],
             [
              0.5555555555555556,
              "#1f9e89"
             ],
             [
              0.6666666666666666,
              "#35b779"
             ],
             [
              0.7777777777777778,
              "#6ece58"
             ],
             [
              0.8888888888888888,
              "#b5de2b"
             ],
             [
              1,
              "#fde725"
             ]
            ],
            "type": "contour"
           }
          ],
          "contourcarpet": [
           {
            "colorbar": {
             "outlinewidth": 1,
             "tickcolor": "rgb(36,36,36)",
             "ticks": "outside"
            },
            "type": "contourcarpet"
           }
          ],
          "heatmap": [
           {
            "colorbar": {
             "outlinewidth": 1,
             "tickcolor": "rgb(36,36,36)",
             "ticks": "outside"
            },
            "colorscale": [
             [
              0,
              "#440154"
             ],
             [
              0.1111111111111111,
              "#482878"
             ],
             [
              0.2222222222222222,
              "#3e4989"
             ],
             [
              0.3333333333333333,
              "#31688e"
             ],
             [
              0.4444444444444444,
              "#26828e"
             ],
             [
              0.5555555555555556,
              "#1f9e89"
             ],
             [
              0.6666666666666666,
              "#35b779"
             ],
             [
              0.7777777777777778,
              "#6ece58"
             ],
             [
              0.8888888888888888,
              "#b5de2b"
             ],
             [
              1,
              "#fde725"
             ]
            ],
            "type": "heatmap"
           }
          ],
          "histogram": [
           {
            "marker": {
             "line": {
              "color": "white",
              "width": 0.6
             }
            },
            "type": "histogram"
           }
          ],
          "histogram2d": [
           {
            "colorbar": {
             "outlinewidth": 1,
             "tickcolor": "rgb(36,36,36)",
             "ticks": "outside"
            },
            "colorscale": [
             [
              0,
              "#440154"
             ],
             [
              0.1111111111111111,
              "#482878"
             ],
             [
              0.2222222222222222,
              "#3e4989"
             ],
             [
              0.3333333333333333,
              "#31688e"
             ],
             [
              0.4444444444444444,
              "#26828e"
             ],
             [
              0.5555555555555556,
              "#1f9e89"
             ],
             [
              0.6666666666666666,
              "#35b779"
             ],
             [
              0.7777777777777778,
              "#6ece58"
             ],
             [
              0.8888888888888888,
              "#b5de2b"
             ],
             [
              1,
              "#fde725"
             ]
            ],
            "type": "histogram2d"
           }
          ],
          "histogram2dcontour": [
           {
            "colorbar": {
             "outlinewidth": 1,
             "tickcolor": "rgb(36,36,36)",
             "ticks": "outside"
            },
            "colorscale": [
             [
              0,
              "#440154"
             ],
             [
              0.1111111111111111,
              "#482878"
             ],
             [
              0.2222222222222222,
              "#3e4989"
             ],
             [
              0.3333333333333333,
              "#31688e"
             ],
             [
              0.4444444444444444,
              "#26828e"
             ],
             [
              0.5555555555555556,
              "#1f9e89"
             ],
             [
              0.6666666666666666,
              "#35b779"
             ],
             [
              0.7777777777777778,
              "#6ece58"
             ],
             [
              0.8888888888888888,
              "#b5de2b"
             ],
             [
              1,
              "#fde725"
             ]
            ],
            "type": "histogram2dcontour"
           }
          ],
          "mesh3d": [
           {
            "colorbar": {
             "outlinewidth": 1,
             "tickcolor": "rgb(36,36,36)",
             "ticks": "outside"
            },
            "type": "mesh3d"
           }
          ],
          "parcoords": [
           {
            "line": {
             "colorbar": {
              "outlinewidth": 1,
              "tickcolor": "rgb(36,36,36)",
              "ticks": "outside"
             }
            },
            "type": "parcoords"
           }
          ],
          "pie": [
           {
            "automargin": true,
            "type": "pie"
           }
          ],
          "scatter": [
           {
            "fillpattern": {
             "fillmode": "overlay",
             "size": 10,
             "solidity": 0.2
            },
            "type": "scatter"
           }
          ],
          "scatter3d": [
           {
            "line": {
             "colorbar": {
              "outlinewidth": 1,
              "tickcolor": "rgb(36,36,36)",
              "ticks": "outside"
             }
            },
            "marker": {
             "colorbar": {
              "outlinewidth": 1,
              "tickcolor": "rgb(36,36,36)",
              "ticks": "outside"
             }
            },
            "type": "scatter3d"
           }
          ],
          "scattercarpet": [
           {
            "marker": {
             "colorbar": {
              "outlinewidth": 1,
              "tickcolor": "rgb(36,36,36)",
              "ticks": "outside"
             }
            },
            "type": "scattercarpet"
           }
          ],
          "scattergeo": [
           {
            "marker": {
             "colorbar": {
              "outlinewidth": 1,
              "tickcolor": "rgb(36,36,36)",
              "ticks": "outside"
             }
            },
            "type": "scattergeo"
           }
          ],
          "scattergl": [
           {
            "marker": {
             "colorbar": {
              "outlinewidth": 1,
              "tickcolor": "rgb(36,36,36)",
              "ticks": "outside"
             }
            },
            "type": "scattergl"
           }
          ],
          "scattermap": [
           {
            "marker": {
             "colorbar": {
              "outlinewidth": 1,
              "tickcolor": "rgb(36,36,36)",
              "ticks": "outside"
             }
            },
            "type": "scattermap"
           }
          ],
          "scattermapbox": [
           {
            "marker": {
             "colorbar": {
              "outlinewidth": 1,
              "tickcolor": "rgb(36,36,36)",
              "ticks": "outside"
             }
            },
            "type": "scattermapbox"
           }
          ],
          "scatterpolar": [
           {
            "marker": {
             "colorbar": {
              "outlinewidth": 1,
              "tickcolor": "rgb(36,36,36)",
              "ticks": "outside"
             }
            },
            "type": "scatterpolar"
           }
          ],
          "scatterpolargl": [
           {
            "marker": {
             "colorbar": {
              "outlinewidth": 1,
              "tickcolor": "rgb(36,36,36)",
              "ticks": "outside"
             }
            },
            "type": "scatterpolargl"
           }
          ],
          "scatterternary": [
           {
            "marker": {
             "colorbar": {
              "outlinewidth": 1,
              "tickcolor": "rgb(36,36,36)",
              "ticks": "outside"
             }
            },
            "type": "scatterternary"
           }
          ],
          "surface": [
           {
            "colorbar": {
             "outlinewidth": 1,
             "tickcolor": "rgb(36,36,36)",
             "ticks": "outside"
            },
            "colorscale": [
             [
              0,
              "#440154"
             ],
             [
              0.1111111111111111,
              "#482878"
             ],
             [
              0.2222222222222222,
              "#3e4989"
             ],
             [
              0.3333333333333333,
              "#31688e"
             ],
             [
              0.4444444444444444,
              "#26828e"
             ],
             [
              0.5555555555555556,
              "#1f9e89"
             ],
             [
              0.6666666666666666,
              "#35b779"
             ],
             [
              0.7777777777777778,
              "#6ece58"
             ],
             [
              0.8888888888888888,
              "#b5de2b"
             ],
             [
              1,
              "#fde725"
             ]
            ],
            "type": "surface"
           }
          ],
          "table": [
           {
            "cells": {
             "fill": {
              "color": "rgb(237,237,237)"
             },
             "line": {
              "color": "white"
             }
            },
            "header": {
             "fill": {
              "color": "rgb(217,217,217)"
             },
             "line": {
              "color": "white"
             }
            },
            "type": "table"
           }
          ]
         },
         "layout": {
          "annotationdefaults": {
           "arrowhead": 0,
           "arrowwidth": 1
          },
          "autotypenumbers": "strict",
          "coloraxis": {
           "colorbar": {
            "outlinewidth": 1,
            "tickcolor": "rgb(36,36,36)",
            "ticks": "outside"
           }
          },
          "colorscale": {
           "diverging": [
            [
             0,
             "rgb(103,0,31)"
            ],
            [
             0.1,
             "rgb(178,24,43)"
            ],
            [
             0.2,
             "rgb(214,96,77)"
            ],
            [
             0.3,
             "rgb(244,165,130)"
            ],
            [
             0.4,
             "rgb(253,219,199)"
            ],
            [
             0.5,
             "rgb(247,247,247)"
            ],
            [
             0.6,
             "rgb(209,229,240)"
            ],
            [
             0.7,
             "rgb(146,197,222)"
            ],
            [
             0.8,
             "rgb(67,147,195)"
            ],
            [
             0.9,
             "rgb(33,102,172)"
            ],
            [
             1,
             "rgb(5,48,97)"
            ]
           ],
           "sequential": [
            [
             0,
             "#440154"
            ],
            [
             0.1111111111111111,
             "#482878"
            ],
            [
             0.2222222222222222,
             "#3e4989"
            ],
            [
             0.3333333333333333,
             "#31688e"
            ],
            [
             0.4444444444444444,
             "#26828e"
            ],
            [
             0.5555555555555556,
             "#1f9e89"
            ],
            [
             0.6666666666666666,
             "#35b779"
            ],
            [
             0.7777777777777778,
             "#6ece58"
            ],
            [
             0.8888888888888888,
             "#b5de2b"
            ],
            [
             1,
             "#fde725"
            ]
           ],
           "sequentialminus": [
            [
             0,
             "#440154"
            ],
            [
             0.1111111111111111,
             "#482878"
            ],
            [
             0.2222222222222222,
             "#3e4989"
            ],
            [
             0.3333333333333333,
             "#31688e"
            ],
            [
             0.4444444444444444,
             "#26828e"
            ],
            [
             0.5555555555555556,
             "#1f9e89"
            ],
            [
             0.6666666666666666,
             "#35b779"
            ],
            [
             0.7777777777777778,
             "#6ece58"
            ],
            [
             0.8888888888888888,
             "#b5de2b"
            ],
            [
             1,
             "#fde725"
            ]
           ]
          },
          "colorway": [
           "#1F77B4",
           "#FF7F0E",
           "#2CA02C",
           "#D62728",
           "#9467BD",
           "#8C564B",
           "#E377C2",
           "#7F7F7F",
           "#BCBD22",
           "#17BECF"
          ],
          "font": {
           "color": "rgb(36,36,36)"
          },
          "geo": {
           "bgcolor": "white",
           "lakecolor": "white",
           "landcolor": "white",
           "showlakes": true,
           "showland": true,
           "subunitcolor": "white"
          },
          "hoverlabel": {
           "align": "left"
          },
          "hovermode": "closest",
          "mapbox": {
           "style": "light"
          },
          "paper_bgcolor": "white",
          "plot_bgcolor": "white",
          "polar": {
           "angularaxis": {
            "gridcolor": "rgb(232,232,232)",
            "linecolor": "rgb(36,36,36)",
            "showgrid": false,
            "showline": true,
            "ticks": "outside"
           },
           "bgcolor": "white",
           "radialaxis": {
            "gridcolor": "rgb(232,232,232)",
            "linecolor": "rgb(36,36,36)",
            "showgrid": false,
            "showline": true,
            "ticks": "outside"
           }
          },
          "scene": {
           "xaxis": {
            "backgroundcolor": "white",
            "gridcolor": "rgb(232,232,232)",
            "gridwidth": 2,
            "linecolor": "rgb(36,36,36)",
            "showbackground": true,
            "showgrid": false,
            "showline": true,
            "ticks": "outside",
            "zeroline": false,
            "zerolinecolor": "rgb(36,36,36)"
           },
           "yaxis": {
            "backgroundcolor": "white",
            "gridcolor": "rgb(232,232,232)",
            "gridwidth": 2,
            "linecolor": "rgb(36,36,36)",
            "showbackground": true,
            "showgrid": false,
            "showline": true,
            "ticks": "outside",
            "zeroline": false,
            "zerolinecolor": "rgb(36,36,36)"
           },
           "zaxis": {
            "backgroundcolor": "white",
            "gridcolor": "rgb(232,232,232)",
            "gridwidth": 2,
            "linecolor": "rgb(36,36,36)",
            "showbackground": true,
            "showgrid": false,
            "showline": true,
            "ticks": "outside",
            "zeroline": false,
            "zerolinecolor": "rgb(36,36,36)"
           }
          },
          "shapedefaults": {
           "fillcolor": "black",
           "line": {
            "width": 0
           },
           "opacity": 0.3
          },
          "ternary": {
           "aaxis": {
            "gridcolor": "rgb(232,232,232)",
            "linecolor": "rgb(36,36,36)",
            "showgrid": false,
            "showline": true,
            "ticks": "outside"
           },
           "baxis": {
            "gridcolor": "rgb(232,232,232)",
            "linecolor": "rgb(36,36,36)",
            "showgrid": false,
            "showline": true,
            "ticks": "outside"
           },
           "bgcolor": "white",
           "caxis": {
            "gridcolor": "rgb(232,232,232)",
            "linecolor": "rgb(36,36,36)",
            "showgrid": false,
            "showline": true,
            "ticks": "outside"
           }
          },
          "title": {
           "x": 0.05
          },
          "xaxis": {
           "automargin": true,
           "gridcolor": "rgb(232,232,232)",
           "linecolor": "rgb(36,36,36)",
           "showgrid": false,
           "showline": true,
           "ticks": "outside",
           "title": {
            "standoff": 15
           },
           "zeroline": false,
           "zerolinecolor": "rgb(36,36,36)"
          },
          "yaxis": {
           "automargin": true,
           "gridcolor": "rgb(232,232,232)",
           "linecolor": "rgb(36,36,36)",
           "showgrid": false,
           "showline": true,
           "ticks": "outside",
           "title": {
            "standoff": 15
           },
           "zeroline": false,
           "zerolinecolor": "rgb(36,36,36)"
          }
         }
        },
        "title": {
         "font": {
          "color": "Black",
          "size": 22
         },
         "text": "<b>Topics over Time</b>",
         "x": 0.4,
         "xanchor": "center",
         "y": 0.95,
         "yanchor": "top"
        },
        "width": 1250,
        "xaxis": {
         "showgrid": true
        },
        "yaxis": {
         "showgrid": true,
         "title": {
          "text": "Frequency"
         }
        }
       }
      }
     },
     "metadata": {},
     "output_type": "display_data"
    }
   ],
   "source": [
    "topics_over_time = topic_model.topics_over_time(flat_chunks, years)\n",
    "topic_model.visualize_topics_over_time(topics_over_time, top_n_topics=10)"
   ]
  },
  {
   "cell_type": "code",
   "execution_count": 64,
   "id": "3f599015-7617-4d2c-9227-b81bb2f169f5",
   "metadata": {},
   "outputs": [
    {
     "data": {
      "text/html": [
       "<div>\n",
       "<style scoped>\n",
       "    .dataframe tbody tr th:only-of-type {\n",
       "        vertical-align: middle;\n",
       "    }\n",
       "\n",
       "    .dataframe tbody tr th {\n",
       "        vertical-align: top;\n",
       "    }\n",
       "\n",
       "    .dataframe thead th {\n",
       "        text-align: right;\n",
       "    }\n",
       "</style>\n",
       "<table border=\"1\" class=\"dataframe\">\n",
       "  <thead>\n",
       "    <tr style=\"text-align: right;\">\n",
       "      <th></th>\n",
       "      <th>Topic</th>\n",
       "      <th>Count</th>\n",
       "      <th>Name</th>\n",
       "      <th>Representation</th>\n",
       "      <th>Representative_Docs</th>\n",
       "    </tr>\n",
       "  </thead>\n",
       "  <tbody>\n",
       "    <tr>\n",
       "      <th>0</th>\n",
       "      <td>-1</td>\n",
       "      <td>2099</td>\n",
       "      <td>-1_siemens_fiscal_board_business</td>\n",
       "      <td>[siemens, fiscal, board, business, financial, ...</td>\n",
       "      <td>[Year ended September  30,\\n(in millions of €)...</td>\n",
       "    </tr>\n",
       "    <tr>\n",
       "      <th>1</th>\n",
       "      <td>0</td>\n",
       "      <td>1272</td>\n",
       "      <td>0_sustainability_environmental_gri_emissions</td>\n",
       "      <td>[sustainability, environmental, gri, emissions...</td>\n",
       "      <td>[So far, with regards to project business, cus...</td>\n",
       "    </tr>\n",
       "    <tr>\n",
       "      <th>2</th>\n",
       "      <td>1</td>\n",
       "      <td>866</td>\n",
       "      <td>1_board_stock_managing_compensation</td>\n",
       "      <td>[board, stock, managing, compensation, supervi...</td>\n",
       "      <td>[14  Peter Y. Solmssen resigned from the Manag...</td>\n",
       "    </tr>\n",
       "    <tr>\n",
       "      <th>3</th>\n",
       "      <td>2</td>\n",
       "      <td>659</td>\n",
       "      <td>2_assets_tax_million_income</td>\n",
       "      <td>[assets, tax, million, income, cash, financial...</td>\n",
       "      <td>[The determination of the recoverable amount o...</td>\n",
       "    </tr>\n",
       "    <tr>\n",
       "      <th>4</th>\n",
       "      <td>3</td>\n",
       "      <td>463</td>\n",
       "      <td>3_employees_diversity_people_learning</td>\n",
       "      <td>[employees, diversity, people, learning, sieme...</td>\n",
       "      <td>[Siemens employee exits (in thousands)\\nFiscal...</td>\n",
       "    </tr>\n",
       "    <tr>\n",
       "      <th>5</th>\n",
       "      <td>4</td>\n",
       "      <td>387</td>\n",
       "      <td>4_compliance_business_integrity_corruption</td>\n",
       "      <td>[compliance, business, integrity, corruption, ...</td>\n",
       "      <td>[Compliance indicators and \\nwhistle-blowing\\n...</td>\n",
       "    </tr>\n",
       "    <tr>\n",
       "      <th>6</th>\n",
       "      <td>5</td>\n",
       "      <td>386</td>\n",
       "      <td>5_financial_audit_statements_risk</td>\n",
       "      <td>[financial, audit, statements, risk, report, m...</td>\n",
       "      <td>[The Audit Committee  met six times. In the pr...</td>\n",
       "    </tr>\n",
       "    <tr>\n",
       "      <th>7</th>\n",
       "      <td>6</td>\n",
       "      <td>369</td>\n",
       "      <td>6_growth_markets_year_fiscal</td>\n",
       "      <td>[growth, markets, year, fiscal, orders, revenu...</td>\n",
       "      <td>[Profit and Profit margin by Business\\nProfit ...</td>\n",
       "    </tr>\n",
       "    <tr>\n",
       "      <th>8</th>\n",
       "      <td>7</td>\n",
       "      <td>287</td>\n",
       "      <td>7_siemens_100_ag_india</td>\n",
       "      <td>[siemens, 100, ag, india, company, private, li...</td>\n",
       "      <td>[PROCEEDINGS OUT OF OR IN CONNECTION \\nWITH  A...</td>\n",
       "    </tr>\n",
       "    <tr>\n",
       "      <th>9</th>\n",
       "      <td>8</td>\n",
       "      <td>250</td>\n",
       "      <td>8_100_gmbh_siemens_limited</td>\n",
       "      <td>[100, gmbh, siemens, limited, healthcare, grün...</td>\n",
       "      <td>[10\\n Ex\\nemption pursuant to Section 264 (3) ...</td>\n",
       "    </tr>\n",
       "    <tr>\n",
       "      <th>10</th>\n",
       "      <td>9</td>\n",
       "      <td>220</td>\n",
       "      <td>9_digital_solutions_production_mobility</td>\n",
       "      <td>[digital, solutions, production, mobility, tec...</td>\n",
       "      <td>[R &amp; D activities at the Digital Factory  Divi...</td>\n",
       "    </tr>\n",
       "    <tr>\n",
       "      <th>11</th>\n",
       "      <td>10</td>\n",
       "      <td>191</td>\n",
       "      <td>10_safety_health_work_occupational</td>\n",
       "      <td>[safety, health, work, occupational, employees...</td>\n",
       "      <td>[→ Managers and employees can take advantage o...</td>\n",
       "    </tr>\n",
       "    <tr>\n",
       "      <th>12</th>\n",
       "      <td>11</td>\n",
       "      <td>137</td>\n",
       "      <td>11_data_cybersecurity_privacy_security</td>\n",
       "      <td>[data, cybersecurity, privacy, security, prote...</td>\n",
       "      <td>[Proactively dealing with threats, \\nincidents...</td>\n",
       "    </tr>\n",
       "    <tr>\n",
       "      <th>13</th>\n",
       "      <td>12</td>\n",
       "      <td>124</td>\n",
       "      <td>12_immateriality_arrangements_circumstances_co...</td>\n",
       "      <td>[immateriality, arrangements, circumstances, c...</td>\n",
       "      <td>[4 No contr\\nol due to contractual arrangement...</td>\n",
       "    </tr>\n",
       "    <tr>\n",
       "      <th>14</th>\n",
       "      <td>13</td>\n",
       "      <td>123</td>\n",
       "      <td>13_rate_currency_foreign_financial</td>\n",
       "      <td>[rate, currency, foreign, financial, fair, exc...</td>\n",
       "      <td>[Cash flo\\nw hedges – As of September 30, 2013...</td>\n",
       "    </tr>\n",
       "    <tr>\n",
       "      <th>15</th>\n",
       "      <td>14</td>\n",
       "      <td>120</td>\n",
       "      <td>14_minerals_business_supply_conflict</td>\n",
       "      <td>[minerals, business, supply, conflict, chain, ...</td>\n",
       "      <td>[Environmental and other governmental regulati...</td>\n",
       "    </tr>\n",
       "    <tr>\n",
       "      <th>16</th>\n",
       "      <td>15</td>\n",
       "      <td>119</td>\n",
       "      <td>15_power_energy_gas_consumption</td>\n",
       "      <td>[power, energy, gas, consumption, division, tu...</td>\n",
       "      <td>[A.1.1.2  BUSINES S DESCRIPTION\\nThe Power and...</td>\n",
       "    </tr>\n",
       "    <tr>\n",
       "      <th>17</th>\n",
       "      <td>16</td>\n",
       "      <td>101</td>\n",
       "      <td>16_healthcare_medical_care_imaging</td>\n",
       "      <td>[healthcare, medical, care, imaging, diagnosti...</td>\n",
       "      <td>[Under the new organizational structure report...</td>\n",
       "    </tr>\n",
       "    <tr>\n",
       "      <th>18</th>\n",
       "      <td>17</td>\n",
       "      <td>83</td>\n",
       "      <td>17_arrangements_contractual_ol_contr</td>\n",
       "      <td>[arrangements, contractual, ol, contr, circums...</td>\n",
       "      <td>[2 \\n Contr\\nol due to rights to appoint, reas...</td>\n",
       "    </tr>\n",
       "    <tr>\n",
       "      <th>19</th>\n",
       "      <td>18</td>\n",
       "      <td>63</td>\n",
       "      <td>18_000_500_140_dr</td>\n",
       "      <td>[000, 500, 140, dr, 333, 280, 150, michael, 66...</td>\n",
       "      <td>[The compensation shown in the following table...</td>\n",
       "    </tr>\n",
       "    <tr>\n",
       "      <th>20</th>\n",
       "      <td>19</td>\n",
       "      <td>41</td>\n",
       "      <td>19_spain_energéticos_unipersonal_sistemas</td>\n",
       "      <td>[spain, energéticos, unipersonal, sistemas, 10...</td>\n",
       "      <td>[A\\n. Unipersonal,  \\nSantiago de Compostela\\n...</td>\n",
       "    </tr>\n",
       "    <tr>\n",
       "      <th>21</th>\n",
       "      <td>20</td>\n",
       "      <td>40</td>\n",
       "      <td>20_vienna_city_häupl_michael</td>\n",
       "      <td>[vienna, city, häupl, michael, transportation,...</td>\n",
       "      <td>[What initiatives would you like to launch in ...</td>\n",
       "    </tr>\n",
       "    <tr>\n",
       "      <th>22</th>\n",
       "      <td>21</td>\n",
       "      <td>34</td>\n",
       "      <td>21_ozone_waste_r11_tons</td>\n",
       "      <td>[ozone, waste, r11, tons, organic, metric, emi...</td>\n",
       "      <td>[Emissions of air pollutants\\nIn addition to t...</td>\n",
       "    </tr>\n",
       "    <tr>\n",
       "      <th>23</th>\n",
       "      <td>22</td>\n",
       "      <td>30</td>\n",
       "      <td>22_customer_score_customers_key</td>\n",
       "      <td>[customer, score, customers, key, satisfaction...</td>\n",
       "      <td>[To meet these challenges, Siemens strives to ...</td>\n",
       "    </tr>\n",
       "    <tr>\n",
       "      <th>24</th>\n",
       "      <td>23</td>\n",
       "      <td>29</td>\n",
       "      <td>23_emption_264_pursuant_code</td>\n",
       "      <td>[emption, 264, pursuant, code, ex, german, sec...</td>\n",
       "      <td>[9\\n  Ex\\nemption pursuant to Section\\n \\n264\\...</td>\n",
       "    </tr>\n",
       "    <tr>\n",
       "      <th>25</th>\n",
       "      <td>24</td>\n",
       "      <td>25</td>\n",
       "      <td>24_comparison_solution_reference_installed</td>\n",
       "      <td>[comparison, solution, reference, installed, r...</td>\n",
       "      <td>[Direct comparison with a reference technology...</td>\n",
       "    </tr>\n",
       "    <tr>\n",
       "      <th>26</th>\n",
       "      <td>25</td>\n",
       "      <td>23</td>\n",
       "      <td>25_iur_contentsa_rer_</td>\n",
       "      <td>[iur, contentsa, rer, , , , , , , ]</td>\n",
       "      <td>[contentsA, iur, iur]</td>\n",
       "    </tr>\n",
       "    <tr>\n",
       "      <th>27</th>\n",
       "      <td>26</td>\n",
       "      <td>16</td>\n",
       "      <td>26_315_par_para_</td>\n",
       "      <td>[315, par, para, , , , , , , ]</td>\n",
       "      <td>[4 and 315 par\\na, 4 and 315 par\\na, 4 and 315...</td>\n",
       "    </tr>\n",
       "    <tr>\n",
       "      <th>28</th>\n",
       "      <td>27</td>\n",
       "      <td>15</td>\n",
       "      <td>27_precisely_percentages_totals_add</td>\n",
       "      <td>[precisely, percentages, totals, add, absolute...</td>\n",
       "      <td>[Due to rounding, numbers presented throughout...</td>\n",
       "    </tr>\n",
       "    <tr>\n",
       "      <th>29</th>\n",
       "      <td>28</td>\n",
       "      <td>13</td>\n",
       "      <td>28_articles_association_majority_section</td>\n",
       "      <td>[articles, association, majority, section, res...</td>\n",
       "      <td>[According to Section\\n 1\\n79 of the German St...</td>\n",
       "    </tr>\n",
       "  </tbody>\n",
       "</table>\n",
       "</div>"
      ],
      "text/plain": [
       "    Topic  Count                                               Name  \\\n",
       "0      -1   2099                   -1_siemens_fiscal_board_business   \n",
       "1       0   1272       0_sustainability_environmental_gri_emissions   \n",
       "2       1    866                1_board_stock_managing_compensation   \n",
       "3       2    659                        2_assets_tax_million_income   \n",
       "4       3    463              3_employees_diversity_people_learning   \n",
       "5       4    387         4_compliance_business_integrity_corruption   \n",
       "6       5    386                  5_financial_audit_statements_risk   \n",
       "7       6    369                       6_growth_markets_year_fiscal   \n",
       "8       7    287                             7_siemens_100_ag_india   \n",
       "9       8    250                         8_100_gmbh_siemens_limited   \n",
       "10      9    220            9_digital_solutions_production_mobility   \n",
       "11     10    191                 10_safety_health_work_occupational   \n",
       "12     11    137             11_data_cybersecurity_privacy_security   \n",
       "13     12    124  12_immateriality_arrangements_circumstances_co...   \n",
       "14     13    123                 13_rate_currency_foreign_financial   \n",
       "15     14    120               14_minerals_business_supply_conflict   \n",
       "16     15    119                    15_power_energy_gas_consumption   \n",
       "17     16    101                 16_healthcare_medical_care_imaging   \n",
       "18     17     83               17_arrangements_contractual_ol_contr   \n",
       "19     18     63                                  18_000_500_140_dr   \n",
       "20     19     41          19_spain_energéticos_unipersonal_sistemas   \n",
       "21     20     40                       20_vienna_city_häupl_michael   \n",
       "22     21     34                            21_ozone_waste_r11_tons   \n",
       "23     22     30                    22_customer_score_customers_key   \n",
       "24     23     29                       23_emption_264_pursuant_code   \n",
       "25     24     25         24_comparison_solution_reference_installed   \n",
       "26     25     23                              25_iur_contentsa_rer_   \n",
       "27     26     16                                   26_315_par_para_   \n",
       "28     27     15                27_precisely_percentages_totals_add   \n",
       "29     28     13           28_articles_association_majority_section   \n",
       "\n",
       "                                       Representation  \\\n",
       "0   [siemens, fiscal, board, business, financial, ...   \n",
       "1   [sustainability, environmental, gri, emissions...   \n",
       "2   [board, stock, managing, compensation, supervi...   \n",
       "3   [assets, tax, million, income, cash, financial...   \n",
       "4   [employees, diversity, people, learning, sieme...   \n",
       "5   [compliance, business, integrity, corruption, ...   \n",
       "6   [financial, audit, statements, risk, report, m...   \n",
       "7   [growth, markets, year, fiscal, orders, revenu...   \n",
       "8   [siemens, 100, ag, india, company, private, li...   \n",
       "9   [100, gmbh, siemens, limited, healthcare, grün...   \n",
       "10  [digital, solutions, production, mobility, tec...   \n",
       "11  [safety, health, work, occupational, employees...   \n",
       "12  [data, cybersecurity, privacy, security, prote...   \n",
       "13  [immateriality, arrangements, circumstances, c...   \n",
       "14  [rate, currency, foreign, financial, fair, exc...   \n",
       "15  [minerals, business, supply, conflict, chain, ...   \n",
       "16  [power, energy, gas, consumption, division, tu...   \n",
       "17  [healthcare, medical, care, imaging, diagnosti...   \n",
       "18  [arrangements, contractual, ol, contr, circums...   \n",
       "19  [000, 500, 140, dr, 333, 280, 150, michael, 66...   \n",
       "20  [spain, energéticos, unipersonal, sistemas, 10...   \n",
       "21  [vienna, city, häupl, michael, transportation,...   \n",
       "22  [ozone, waste, r11, tons, organic, metric, emi...   \n",
       "23  [customer, score, customers, key, satisfaction...   \n",
       "24  [emption, 264, pursuant, code, ex, german, sec...   \n",
       "25  [comparison, solution, reference, installed, r...   \n",
       "26                [iur, contentsa, rer, , , , , , , ]   \n",
       "27                     [315, par, para, , , , , , , ]   \n",
       "28  [precisely, percentages, totals, add, absolute...   \n",
       "29  [articles, association, majority, section, res...   \n",
       "\n",
       "                                  Representative_Docs  \n",
       "0   [Year ended September  30,\\n(in millions of €)...  \n",
       "1   [So far, with regards to project business, cus...  \n",
       "2   [14  Peter Y. Solmssen resigned from the Manag...  \n",
       "3   [The determination of the recoverable amount o...  \n",
       "4   [Siemens employee exits (in thousands)\\nFiscal...  \n",
       "5   [Compliance indicators and \\nwhistle-blowing\\n...  \n",
       "6   [The Audit Committee  met six times. In the pr...  \n",
       "7   [Profit and Profit margin by Business\\nProfit ...  \n",
       "8   [PROCEEDINGS OUT OF OR IN CONNECTION \\nWITH  A...  \n",
       "9   [10\\n Ex\\nemption pursuant to Section 264 (3) ...  \n",
       "10  [R & D activities at the Digital Factory  Divi...  \n",
       "11  [→ Managers and employees can take advantage o...  \n",
       "12  [Proactively dealing with threats, \\nincidents...  \n",
       "13  [4 No contr\\nol due to contractual arrangement...  \n",
       "14  [Cash flo\\nw hedges – As of September 30, 2013...  \n",
       "15  [Environmental and other governmental regulati...  \n",
       "16  [A.1.1.2  BUSINES S DESCRIPTION\\nThe Power and...  \n",
       "17  [Under the new organizational structure report...  \n",
       "18  [2 \\n Contr\\nol due to rights to appoint, reas...  \n",
       "19  [The compensation shown in the following table...  \n",
       "20  [A\\n. Unipersonal,  \\nSantiago de Compostela\\n...  \n",
       "21  [What initiatives would you like to launch in ...  \n",
       "22  [Emissions of air pollutants\\nIn addition to t...  \n",
       "23  [To meet these challenges, Siemens strives to ...  \n",
       "24  [9\\n  Ex\\nemption pursuant to Section\\n \\n264\\...  \n",
       "25  [Direct comparison with a reference technology...  \n",
       "26                              [contentsA, iur, iur]  \n",
       "27  [4 and 315 par\\na, 4 and 315 par\\na, 4 and 315...  \n",
       "28  [Due to rounding, numbers presented throughout...  \n",
       "29  [According to Section\\n 1\\n79 of the German St...  "
      ]
     },
     "execution_count": 64,
     "metadata": {},
     "output_type": "execute_result"
    }
   ],
   "source": [
    "df_topic_info=topic_model.get_topic_info()\n",
    "df_topic_info"
   ]
  },
  {
   "cell_type": "code",
   "execution_count": 67,
   "id": "f47d8b95-f3bf-4f0e-90e3-5a052dd05466",
   "metadata": {},
   "outputs": [
    {
     "name": "stdout",
     "output_type": "stream",
     "text": [
      "We have a total of 8585 documents.\n",
      "2099 are outliers.\n",
      "About 24.45% are outliers\n"
     ]
    }
   ],
   "source": [
    "total=df_topic_info[\"Count\"].sum()\n",
    "outliers=df_topic_info[\"Count\"].iloc[0]\n",
    "percentage_outliers=(outliers/total)*100\n",
    "print(f\"We have a total of {total} documents.\\n{outliers} are outliers.\\nAbout {round(percentage_outliers,2)}% are outliers\")"
   ]
  },
  {
   "cell_type": "code",
   "execution_count": 68,
   "id": "2f94e09f-ef3a-4274-a9f9-36823fa87b2c",
   "metadata": {},
   "outputs": [],
   "source": [
    "df_document_info=topic_model.get_document_info(flat_chunks)"
   ]
  },
  {
   "cell_type": "code",
   "execution_count": 69,
   "id": "7f3efff5",
   "metadata": {},
   "outputs": [
    {
     "data": {
      "text/html": [
       "<div>\n",
       "<style scoped>\n",
       "    .dataframe tbody tr th:only-of-type {\n",
       "        vertical-align: middle;\n",
       "    }\n",
       "\n",
       "    .dataframe tbody tr th {\n",
       "        vertical-align: top;\n",
       "    }\n",
       "\n",
       "    .dataframe thead th {\n",
       "        text-align: right;\n",
       "    }\n",
       "</style>\n",
       "<table border=\"1\" class=\"dataframe\">\n",
       "  <thead>\n",
       "    <tr style=\"text-align: right;\">\n",
       "      <th></th>\n",
       "      <th>Document</th>\n",
       "      <th>Topic</th>\n",
       "      <th>Name</th>\n",
       "      <th>Representation</th>\n",
       "      <th>Representative_Docs</th>\n",
       "      <th>Top_n_words</th>\n",
       "      <th>Probability</th>\n",
       "      <th>Representative_document</th>\n",
       "      <th>topic</th>\n",
       "    </tr>\n",
       "  </thead>\n",
       "  <tbody>\n",
       "    <tr>\n",
       "      <th>1</th>\n",
       "      <td>Efficiency\\nTwo gas turbinesPrior to the upgra...</td>\n",
       "      <td>15</td>\n",
       "      <td>15_power_energy_gas_consumption</td>\n",
       "      <td>[power, energy, gas, consumption, division, tu...</td>\n",
       "      <td>[A.1.1.2  BUSINES S DESCRIPTION\\nThe Power and...</td>\n",
       "      <td>power - energy - gas - consumption - division ...</td>\n",
       "      <td>1.000000</td>\n",
       "      <td>False</td>\n",
       "      <td>15</td>\n",
       "    </tr>\n",
       "    <tr>\n",
       "      <th>2</th>\n",
       "      <td>We’ve sold more than 300 of our SGT5-4000F tur...</td>\n",
       "      <td>15</td>\n",
       "      <td>15_power_energy_gas_consumption</td>\n",
       "      <td>[power, energy, gas, consumption, division, tu...</td>\n",
       "      <td>[A.1.1.2  BUSINES S DESCRIPTION\\nThe Power and...</td>\n",
       "      <td>power - energy - gas - consumption - division ...</td>\n",
       "      <td>1.000000</td>\n",
       "      <td>False</td>\n",
       "      <td>15</td>\n",
       "    </tr>\n",
       "    <tr>\n",
       "      <th>3</th>\n",
       "      <td>Extremel\\ny reliable and easy to operate, our ...</td>\n",
       "      <td>15</td>\n",
       "      <td>15_power_energy_gas_consumption</td>\n",
       "      <td>[power, energy, gas, consumption, division, tu...</td>\n",
       "      <td>[A.1.1.2  BUSINES S DESCRIPTION\\nThe Power and...</td>\n",
       "      <td>power - energy - gas - consumption - division ...</td>\n",
       "      <td>1.000000</td>\n",
       "      <td>False</td>\n",
       "      <td>15</td>\n",
       "    </tr>\n",
       "    <tr>\n",
       "      <th>4</th>\n",
       "      <td>2\\n –\\n The Kirishi power plant was \\nbuilt in...</td>\n",
       "      <td>15</td>\n",
       "      <td>15_power_energy_gas_consumption</td>\n",
       "      <td>[power, energy, gas, consumption, division, tu...</td>\n",
       "      <td>[A.1.1.2  BUSINES S DESCRIPTION\\nThe Power and...</td>\n",
       "      <td>power - energy - gas - consumption - division ...</td>\n",
       "      <td>1.000000</td>\n",
       "      <td>False</td>\n",
       "      <td>15</td>\n",
       "    </tr>\n",
       "    <tr>\n",
       "      <th>5</th>\n",
       "      <td>You trust us so much that OGK-2 has commission...</td>\n",
       "      <td>15</td>\n",
       "      <td>15_power_energy_gas_consumption</td>\n",
       "      <td>[power, energy, gas, consumption, division, tu...</td>\n",
       "      <td>[A.1.1.2  BUSINES S DESCRIPTION\\nThe Power and...</td>\n",
       "      <td>power - energy - gas - consumption - division ...</td>\n",
       "      <td>0.969781</td>\n",
       "      <td>False</td>\n",
       "      <td>15</td>\n",
       "    </tr>\n",
       "    <tr>\n",
       "      <th>...</th>\n",
       "      <td>...</td>\n",
       "      <td>...</td>\n",
       "      <td>...</td>\n",
       "      <td>...</td>\n",
       "      <td>...</td>\n",
       "      <td>...</td>\n",
       "      <td>...</td>\n",
       "      <td>...</td>\n",
       "      <td>...</td>\n",
       "    </tr>\n",
       "    <tr>\n",
       "      <th>8580</th>\n",
       "      <td>In a limited assurance engagement the assuranc...</td>\n",
       "      <td>5</td>\n",
       "      <td>5_financial_audit_statements_risk</td>\n",
       "      <td>[financial, audit, statements, risk, report, m...</td>\n",
       "      <td>[The Audit Committee  met six times. In the pr...</td>\n",
       "      <td>financial - audit - statements - risk - report...</td>\n",
       "      <td>1.000000</td>\n",
       "      <td>False</td>\n",
       "      <td>5</td>\n",
       "    </tr>\n",
       "    <tr>\n",
       "      <th>8581</th>\n",
       "      <td>Within the scope of our assurance engagement, ...</td>\n",
       "      <td>5</td>\n",
       "      <td>5_financial_audit_statements_risk</td>\n",
       "      <td>[financial, audit, statements, risk, report, m...</td>\n",
       "      <td>[The Audit Committee  met six times. In the pr...</td>\n",
       "      <td>financial - audit - statements - risk - report...</td>\n",
       "      <td>0.392662</td>\n",
       "      <td>False</td>\n",
       "      <td>5</td>\n",
       "    </tr>\n",
       "    <tr>\n",
       "      <th>8582</th>\n",
       "      <td>Intended Use of the Assurance Report\\nWe issue...</td>\n",
       "      <td>5</td>\n",
       "      <td>5_financial_audit_statements_risk</td>\n",
       "      <td>[financial, audit, statements, risk, report, m...</td>\n",
       "      <td>[The Audit Committee  met six times. In the pr...</td>\n",
       "      <td>financial - audit - statements - risk - report...</td>\n",
       "      <td>0.868776</td>\n",
       "      <td>False</td>\n",
       "      <td>5</td>\n",
       "    </tr>\n",
       "    <tr>\n",
       "      <th>8583</th>\n",
       "      <td>Munich, 2 December 2024\\nPricewaterhouseCooper...</td>\n",
       "      <td>5</td>\n",
       "      <td>5_financial_audit_statements_risk</td>\n",
       "      <td>[financial, audit, statements, risk, report, m...</td>\n",
       "      <td>[The Audit Committee  met six times. In the pr...</td>\n",
       "      <td>financial - audit - statements - risk - report...</td>\n",
       "      <td>0.348257</td>\n",
       "      <td>False</td>\n",
       "      <td>5</td>\n",
       "    </tr>\n",
       "    <tr>\n",
       "      <th>8584</th>\n",
       "      <td>SIEMENS SUSTAINABILITY REPORT 2024 1687.10 Not...</td>\n",
       "      <td>0</td>\n",
       "      <td>0_sustainability_environmental_gri_emissions</td>\n",
       "      <td>[sustainability, environmental, gri, emissions...</td>\n",
       "      <td>[So far, with regards to project business, cus...</td>\n",
       "      <td>sustainability - environmental - gri - emissio...</td>\n",
       "      <td>1.000000</td>\n",
       "      <td>False</td>\n",
       "      <td>0</td>\n",
       "    </tr>\n",
       "  </tbody>\n",
       "</table>\n",
       "<p>6486 rows × 9 columns</p>\n",
       "</div>"
      ],
      "text/plain": [
       "                                               Document  Topic  \\\n",
       "1     Efficiency\\nTwo gas turbinesPrior to the upgra...     15   \n",
       "2     We’ve sold more than 300 of our SGT5-4000F tur...     15   \n",
       "3     Extremel\\ny reliable and easy to operate, our ...     15   \n",
       "4     2\\n –\\n The Kirishi power plant was \\nbuilt in...     15   \n",
       "5     You trust us so much that OGK-2 has commission...     15   \n",
       "...                                                 ...    ...   \n",
       "8580  In a limited assurance engagement the assuranc...      5   \n",
       "8581  Within the scope of our assurance engagement, ...      5   \n",
       "8582  Intended Use of the Assurance Report\\nWe issue...      5   \n",
       "8583  Munich, 2 December 2024\\nPricewaterhouseCooper...      5   \n",
       "8584  SIEMENS SUSTAINABILITY REPORT 2024 1687.10 Not...      0   \n",
       "\n",
       "                                              Name  \\\n",
       "1                  15_power_energy_gas_consumption   \n",
       "2                  15_power_energy_gas_consumption   \n",
       "3                  15_power_energy_gas_consumption   \n",
       "4                  15_power_energy_gas_consumption   \n",
       "5                  15_power_energy_gas_consumption   \n",
       "...                                            ...   \n",
       "8580             5_financial_audit_statements_risk   \n",
       "8581             5_financial_audit_statements_risk   \n",
       "8582             5_financial_audit_statements_risk   \n",
       "8583             5_financial_audit_statements_risk   \n",
       "8584  0_sustainability_environmental_gri_emissions   \n",
       "\n",
       "                                         Representation  \\\n",
       "1     [power, energy, gas, consumption, division, tu...   \n",
       "2     [power, energy, gas, consumption, division, tu...   \n",
       "3     [power, energy, gas, consumption, division, tu...   \n",
       "4     [power, energy, gas, consumption, division, tu...   \n",
       "5     [power, energy, gas, consumption, division, tu...   \n",
       "...                                                 ...   \n",
       "8580  [financial, audit, statements, risk, report, m...   \n",
       "8581  [financial, audit, statements, risk, report, m...   \n",
       "8582  [financial, audit, statements, risk, report, m...   \n",
       "8583  [financial, audit, statements, risk, report, m...   \n",
       "8584  [sustainability, environmental, gri, emissions...   \n",
       "\n",
       "                                    Representative_Docs  \\\n",
       "1     [A.1.1.2  BUSINES S DESCRIPTION\\nThe Power and...   \n",
       "2     [A.1.1.2  BUSINES S DESCRIPTION\\nThe Power and...   \n",
       "3     [A.1.1.2  BUSINES S DESCRIPTION\\nThe Power and...   \n",
       "4     [A.1.1.2  BUSINES S DESCRIPTION\\nThe Power and...   \n",
       "5     [A.1.1.2  BUSINES S DESCRIPTION\\nThe Power and...   \n",
       "...                                                 ...   \n",
       "8580  [The Audit Committee  met six times. In the pr...   \n",
       "8581  [The Audit Committee  met six times. In the pr...   \n",
       "8582  [The Audit Committee  met six times. In the pr...   \n",
       "8583  [The Audit Committee  met six times. In the pr...   \n",
       "8584  [So far, with regards to project business, cus...   \n",
       "\n",
       "                                            Top_n_words  Probability  \\\n",
       "1     power - energy - gas - consumption - division ...     1.000000   \n",
       "2     power - energy - gas - consumption - division ...     1.000000   \n",
       "3     power - energy - gas - consumption - division ...     1.000000   \n",
       "4     power - energy - gas - consumption - division ...     1.000000   \n",
       "5     power - energy - gas - consumption - division ...     0.969781   \n",
       "...                                                 ...          ...   \n",
       "8580  financial - audit - statements - risk - report...     1.000000   \n",
       "8581  financial - audit - statements - risk - report...     0.392662   \n",
       "8582  financial - audit - statements - risk - report...     0.868776   \n",
       "8583  financial - audit - statements - risk - report...     0.348257   \n",
       "8584  sustainability - environmental - gri - emissio...     1.000000   \n",
       "\n",
       "      Representative_document  topic  \n",
       "1                       False     15  \n",
       "2                       False     15  \n",
       "3                       False     15  \n",
       "4                       False     15  \n",
       "5                       False     15  \n",
       "...                       ...    ...  \n",
       "8580                    False      5  \n",
       "8581                    False      5  \n",
       "8582                    False      5  \n",
       "8583                    False      5  \n",
       "8584                    False      0  \n",
       "\n",
       "[6486 rows x 9 columns]"
      ]
     },
     "execution_count": 69,
     "metadata": {},
     "output_type": "execute_result"
    }
   ],
   "source": [
    "#Removed the outliers\n",
    "df_document_info[\"topic\"] = topics  # Add the topic assignments to the DataFrame\n",
    "df_clean = df_document_info[df_document_info[\"topic\"] != -1]  # Keep only documents with valid topics\n",
    "df_clean"
   ]
  },
  {
   "cell_type": "code",
   "execution_count": 70,
   "id": "a6166a2c-5366-482c-beef-522780dfc3ba",
   "metadata": {},
   "outputs": [],
   "source": [
    "def concatenate_documents_by_topic(df: pd.DataFrame, n_docs: int = 20) -> pd.DataFrame:\n",
    "    \"\"\"\n",
    "    Groups the DataFrame by 'Topic', and for each topic concatenates up to `n_docs`\n",
    "    documents into a single string like: \"Document 1: ... Document 2: ...\".\n",
    "\n",
    "    Parameters:\n",
    "        df (pd.DataFrame): DataFrame with 'Topic' and 'Document' columns.\n",
    "        n_docs (int): Number of documents to include per topic.\n",
    "\n",
    "    Returns:\n",
    "        pd.DataFrame: A DataFrame with columns ['Topic', 'ConcatenatedDocuments'].\n",
    "    \"\"\"\n",
    "    \n",
    "    result = []\n",
    "\n",
    "    for topic, group in df.groupby(\"Topic\"):\n",
    "        docs = group[\"Document\"].head(n_docs).tolist()\n",
    "        concatenated = \"\\n\\n\".join([f\"TextSample {i+1}: {doc}\" for i, doc in enumerate(docs)])\n",
    "        result.append({\"Topic\": topic, \"ConcatenatedDocuments\": concatenated})\n",
    "\n",
    "    return pd.DataFrame(result)"
   ]
  },
  {
   "cell_type": "code",
   "execution_count": 71,
   "id": "483c7fda-b340-46ae-8fd4-e364ddd4dd3c",
   "metadata": {},
   "outputs": [
    {
     "name": "stdout",
     "output_type": "stream",
     "text": [
      "    Topic                              ConcatenatedDocuments\n",
      "0       0  TextSample 1: Our Code of Conduct for Siemens ...\n",
      "1       1  TextSample 1: 2  October 1, 2012 – Sep\\ntember...\n",
      "2       2  TextSample 1: At the end of fiscal 2013, the n...\n",
      "3       3  TextSample 1: 6 Continuing and discontinued op...\n",
      "4       4  TextSample 1: Empower our diverse and \\nengage...\n",
      "5       5  TextSample 1: For further information on our f...\n",
      "6       6  TextSample 1: Revenue growth  \\nThe most impor...\n",
      "7       7  TextSample 1: 2 Average number of employees in...\n",
      "8       8  TextSample 1: 10\\n Ex\\nemption pursuant to Sec...\n",
      "9       9  TextSample 1: Sports and painting are my great...\n",
      "10     10  TextSample 1: Corpor\\nate  Go\\nvernance  155 C...\n",
      "11     11  TextSample 1: B.3.7 Transfer of responsibility...\n",
      "12     12  TextSample 1: 2\\n Contr\\nol due to contractual...\n",
      "13     13  TextSample 1: A\\ndditional  Inf\\normation\\n 24...\n",
      "14     14  TextSample 1: Asian competitors are generally ...\n",
      "15     15  TextSample 1: Efficiency\\nTwo gas turbinesPrio...\n",
      "16     16  TextSample 1: 2\\n –\\n Kirishi is about 170 kil...\n",
      "17     17  TextSample 1: 2 of t\\nhe German Commercial Cod...\n",
      "18     18  TextSample 1: 2\\n –\\n The beach and the countr...\n",
      "19     19  TextSample 1: L\\n\\n U\\n.,  \\nMadrid\\n \\n/\\n \\n...\n",
      "20     20  TextSample 1: AUT     Vienna\\n    48 ° 12 ' N,...\n",
      "21     21  TextSample 1: Atmospheric pollutant emissions ...\n",
      "22     22  TextSample 1: Be a partner of choice for our c...\n",
      "23     23  TextSample 1: 4 and 315 par\\na\\n\\n 4 of t\\nhe ...\n",
      "24     24  TextSample 1: DETERMINING THE REFERENCE SOLUTI...\n",
      "25     25  TextSample 1: iur\\n\\nTextSample 2: iur\\n\\nText...\n",
      "26     26  TextSample 1: 4 and 315 par\\na\\n\\nTextSample 2...\n",
      "27     27  TextSample 1: Combined \\n Management Report Du...\n",
      "28     28  TextSample 1: Resolutions of the Annual Shareh...\n"
     ]
    }
   ],
   "source": [
    "df_concatenated_docs=concatenate_documents_by_topic(df_clean)\n",
    "print(df_concatenated_docs)"
   ]
  },
  {
   "cell_type": "code",
   "execution_count": 72,
   "id": "e038d044-6f7e-4698-9183-fb53e3890e54",
   "metadata": {},
   "outputs": [
    {
     "data": {
      "text/html": [
       "<div>\n",
       "<style scoped>\n",
       "    .dataframe tbody tr th:only-of-type {\n",
       "        vertical-align: middle;\n",
       "    }\n",
       "\n",
       "    .dataframe tbody tr th {\n",
       "        vertical-align: top;\n",
       "    }\n",
       "\n",
       "    .dataframe thead th {\n",
       "        text-align: right;\n",
       "    }\n",
       "</style>\n",
       "<table border=\"1\" class=\"dataframe\">\n",
       "  <thead>\n",
       "    <tr style=\"text-align: right;\">\n",
       "      <th></th>\n",
       "      <th>Topic</th>\n",
       "      <th>ConcatenatedDocuments</th>\n",
       "      <th>Representation</th>\n",
       "    </tr>\n",
       "  </thead>\n",
       "  <tbody>\n",
       "    <tr>\n",
       "      <th>0</th>\n",
       "      <td>0</td>\n",
       "      <td>TextSample 1: Our Code of Conduct for Siemens ...</td>\n",
       "      <td>[sustainability, environmental, gri, emissions...</td>\n",
       "    </tr>\n",
       "    <tr>\n",
       "      <th>1</th>\n",
       "      <td>1</td>\n",
       "      <td>TextSample 1: 2  October 1, 2012 – Sep\\ntember...</td>\n",
       "      <td>[board, stock, managing, compensation, supervi...</td>\n",
       "    </tr>\n",
       "    <tr>\n",
       "      <th>2</th>\n",
       "      <td>2</td>\n",
       "      <td>TextSample 1: At the end of fiscal 2013, the n...</td>\n",
       "      <td>[assets, tax, million, income, cash, financial...</td>\n",
       "    </tr>\n",
       "    <tr>\n",
       "      <th>3</th>\n",
       "      <td>3</td>\n",
       "      <td>TextSample 1: 6 Continuing and discontinued op...</td>\n",
       "      <td>[employees, diversity, people, learning, sieme...</td>\n",
       "    </tr>\n",
       "    <tr>\n",
       "      <th>4</th>\n",
       "      <td>4</td>\n",
       "      <td>TextSample 1: Empower our diverse and \\nengage...</td>\n",
       "      <td>[compliance, business, integrity, corruption, ...</td>\n",
       "    </tr>\n",
       "    <tr>\n",
       "      <th>5</th>\n",
       "      <td>5</td>\n",
       "      <td>TextSample 1: For further information on our f...</td>\n",
       "      <td>[financial, audit, statements, risk, report, m...</td>\n",
       "    </tr>\n",
       "    <tr>\n",
       "      <th>6</th>\n",
       "      <td>6</td>\n",
       "      <td>TextSample 1: Revenue growth  \\nThe most impor...</td>\n",
       "      <td>[growth, markets, year, fiscal, orders, revenu...</td>\n",
       "    </tr>\n",
       "    <tr>\n",
       "      <th>7</th>\n",
       "      <td>7</td>\n",
       "      <td>TextSample 1: 2 Average number of employees in...</td>\n",
       "      <td>[siemens, 100, ag, india, company, private, li...</td>\n",
       "    </tr>\n",
       "    <tr>\n",
       "      <th>8</th>\n",
       "      <td>8</td>\n",
       "      <td>TextSample 1: 10\\n Ex\\nemption pursuant to Sec...</td>\n",
       "      <td>[100, gmbh, siemens, limited, healthcare, grün...</td>\n",
       "    </tr>\n",
       "    <tr>\n",
       "      <th>9</th>\n",
       "      <td>9</td>\n",
       "      <td>TextSample 1: Sports and painting are my great...</td>\n",
       "      <td>[digital, solutions, production, mobility, tec...</td>\n",
       "    </tr>\n",
       "    <tr>\n",
       "      <th>10</th>\n",
       "      <td>10</td>\n",
       "      <td>TextSample 1: Corpor\\nate  Go\\nvernance  155 C...</td>\n",
       "      <td>[safety, health, work, occupational, employees...</td>\n",
       "    </tr>\n",
       "    <tr>\n",
       "      <th>11</th>\n",
       "      <td>11</td>\n",
       "      <td>TextSample 1: B.3.7 Transfer of responsibility...</td>\n",
       "      <td>[data, cybersecurity, privacy, security, prote...</td>\n",
       "    </tr>\n",
       "    <tr>\n",
       "      <th>12</th>\n",
       "      <td>12</td>\n",
       "      <td>TextSample 1: 2\\n Contr\\nol due to contractual...</td>\n",
       "      <td>[immateriality, arrangements, circumstances, c...</td>\n",
       "    </tr>\n",
       "    <tr>\n",
       "      <th>13</th>\n",
       "      <td>13</td>\n",
       "      <td>TextSample 1: A\\ndditional  Inf\\normation\\n 24...</td>\n",
       "      <td>[rate, currency, foreign, financial, fair, exc...</td>\n",
       "    </tr>\n",
       "    <tr>\n",
       "      <th>14</th>\n",
       "      <td>14</td>\n",
       "      <td>TextSample 1: Asian competitors are generally ...</td>\n",
       "      <td>[minerals, business, supply, conflict, chain, ...</td>\n",
       "    </tr>\n",
       "    <tr>\n",
       "      <th>15</th>\n",
       "      <td>15</td>\n",
       "      <td>TextSample 1: Efficiency\\nTwo gas turbinesPrio...</td>\n",
       "      <td>[power, energy, gas, consumption, division, tu...</td>\n",
       "    </tr>\n",
       "    <tr>\n",
       "      <th>16</th>\n",
       "      <td>16</td>\n",
       "      <td>TextSample 1: 2\\n –\\n Kirishi is about 170 kil...</td>\n",
       "      <td>[healthcare, medical, care, imaging, diagnosti...</td>\n",
       "    </tr>\n",
       "    <tr>\n",
       "      <th>17</th>\n",
       "      <td>17</td>\n",
       "      <td>TextSample 1: 2 of t\\nhe German Commercial Cod...</td>\n",
       "      <td>[arrangements, contractual, ol, contr, circums...</td>\n",
       "    </tr>\n",
       "    <tr>\n",
       "      <th>18</th>\n",
       "      <td>18</td>\n",
       "      <td>TextSample 1: 2\\n –\\n The beach and the countr...</td>\n",
       "      <td>[000, 500, 140, dr, 333, 280, 150, michael, 66...</td>\n",
       "    </tr>\n",
       "    <tr>\n",
       "      <th>19</th>\n",
       "      <td>19</td>\n",
       "      <td>TextSample 1: L\\n\\n U\\n.,  \\nMadrid\\n \\n/\\n \\n...</td>\n",
       "      <td>[spain, energéticos, unipersonal, sistemas, 10...</td>\n",
       "    </tr>\n",
       "    <tr>\n",
       "      <th>20</th>\n",
       "      <td>20</td>\n",
       "      <td>TextSample 1: AUT     Vienna\\n    48 ° 12 ' N,...</td>\n",
       "      <td>[vienna, city, häupl, michael, transportation,...</td>\n",
       "    </tr>\n",
       "    <tr>\n",
       "      <th>21</th>\n",
       "      <td>21</td>\n",
       "      <td>TextSample 1: Atmospheric pollutant emissions ...</td>\n",
       "      <td>[ozone, waste, r11, tons, organic, metric, emi...</td>\n",
       "    </tr>\n",
       "    <tr>\n",
       "      <th>22</th>\n",
       "      <td>22</td>\n",
       "      <td>TextSample 1: Be a partner of choice for our c...</td>\n",
       "      <td>[customer, score, customers, key, satisfaction...</td>\n",
       "    </tr>\n",
       "    <tr>\n",
       "      <th>23</th>\n",
       "      <td>23</td>\n",
       "      <td>TextSample 1: 4 and 315 par\\na\\n\\n 4 of t\\nhe ...</td>\n",
       "      <td>[emption, 264, pursuant, code, ex, german, sec...</td>\n",
       "    </tr>\n",
       "    <tr>\n",
       "      <th>24</th>\n",
       "      <td>24</td>\n",
       "      <td>TextSample 1: DETERMINING THE REFERENCE SOLUTI...</td>\n",
       "      <td>[comparison, solution, reference, installed, r...</td>\n",
       "    </tr>\n",
       "    <tr>\n",
       "      <th>25</th>\n",
       "      <td>25</td>\n",
       "      <td>TextSample 1: iur\\n\\nTextSample 2: iur\\n\\nText...</td>\n",
       "      <td>[iur, contentsa, rer, , , , , , , ]</td>\n",
       "    </tr>\n",
       "    <tr>\n",
       "      <th>26</th>\n",
       "      <td>26</td>\n",
       "      <td>TextSample 1: 4 and 315 par\\na\\n\\nTextSample 2...</td>\n",
       "      <td>[315, par, para, , , , , , , ]</td>\n",
       "    </tr>\n",
       "    <tr>\n",
       "      <th>27</th>\n",
       "      <td>27</td>\n",
       "      <td>TextSample 1: Combined \\n Management Report Du...</td>\n",
       "      <td>[precisely, percentages, totals, add, absolute...</td>\n",
       "    </tr>\n",
       "    <tr>\n",
       "      <th>28</th>\n",
       "      <td>28</td>\n",
       "      <td>TextSample 1: Resolutions of the Annual Shareh...</td>\n",
       "      <td>[articles, association, majority, section, res...</td>\n",
       "    </tr>\n",
       "  </tbody>\n",
       "</table>\n",
       "</div>"
      ],
      "text/plain": [
       "    Topic                              ConcatenatedDocuments  \\\n",
       "0       0  TextSample 1: Our Code of Conduct for Siemens ...   \n",
       "1       1  TextSample 1: 2  October 1, 2012 – Sep\\ntember...   \n",
       "2       2  TextSample 1: At the end of fiscal 2013, the n...   \n",
       "3       3  TextSample 1: 6 Continuing and discontinued op...   \n",
       "4       4  TextSample 1: Empower our diverse and \\nengage...   \n",
       "5       5  TextSample 1: For further information on our f...   \n",
       "6       6  TextSample 1: Revenue growth  \\nThe most impor...   \n",
       "7       7  TextSample 1: 2 Average number of employees in...   \n",
       "8       8  TextSample 1: 10\\n Ex\\nemption pursuant to Sec...   \n",
       "9       9  TextSample 1: Sports and painting are my great...   \n",
       "10     10  TextSample 1: Corpor\\nate  Go\\nvernance  155 C...   \n",
       "11     11  TextSample 1: B.3.7 Transfer of responsibility...   \n",
       "12     12  TextSample 1: 2\\n Contr\\nol due to contractual...   \n",
       "13     13  TextSample 1: A\\ndditional  Inf\\normation\\n 24...   \n",
       "14     14  TextSample 1: Asian competitors are generally ...   \n",
       "15     15  TextSample 1: Efficiency\\nTwo gas turbinesPrio...   \n",
       "16     16  TextSample 1: 2\\n –\\n Kirishi is about 170 kil...   \n",
       "17     17  TextSample 1: 2 of t\\nhe German Commercial Cod...   \n",
       "18     18  TextSample 1: 2\\n –\\n The beach and the countr...   \n",
       "19     19  TextSample 1: L\\n\\n U\\n.,  \\nMadrid\\n \\n/\\n \\n...   \n",
       "20     20  TextSample 1: AUT     Vienna\\n    48 ° 12 ' N,...   \n",
       "21     21  TextSample 1: Atmospheric pollutant emissions ...   \n",
       "22     22  TextSample 1: Be a partner of choice for our c...   \n",
       "23     23  TextSample 1: 4 and 315 par\\na\\n\\n 4 of t\\nhe ...   \n",
       "24     24  TextSample 1: DETERMINING THE REFERENCE SOLUTI...   \n",
       "25     25  TextSample 1: iur\\n\\nTextSample 2: iur\\n\\nText...   \n",
       "26     26  TextSample 1: 4 and 315 par\\na\\n\\nTextSample 2...   \n",
       "27     27  TextSample 1: Combined \\n Management Report Du...   \n",
       "28     28  TextSample 1: Resolutions of the Annual Shareh...   \n",
       "\n",
       "                                       Representation  \n",
       "0   [sustainability, environmental, gri, emissions...  \n",
       "1   [board, stock, managing, compensation, supervi...  \n",
       "2   [assets, tax, million, income, cash, financial...  \n",
       "3   [employees, diversity, people, learning, sieme...  \n",
       "4   [compliance, business, integrity, corruption, ...  \n",
       "5   [financial, audit, statements, risk, report, m...  \n",
       "6   [growth, markets, year, fiscal, orders, revenu...  \n",
       "7   [siemens, 100, ag, india, company, private, li...  \n",
       "8   [100, gmbh, siemens, limited, healthcare, grün...  \n",
       "9   [digital, solutions, production, mobility, tec...  \n",
       "10  [safety, health, work, occupational, employees...  \n",
       "11  [data, cybersecurity, privacy, security, prote...  \n",
       "12  [immateriality, arrangements, circumstances, c...  \n",
       "13  [rate, currency, foreign, financial, fair, exc...  \n",
       "14  [minerals, business, supply, conflict, chain, ...  \n",
       "15  [power, energy, gas, consumption, division, tu...  \n",
       "16  [healthcare, medical, care, imaging, diagnosti...  \n",
       "17  [arrangements, contractual, ol, contr, circums...  \n",
       "18  [000, 500, 140, dr, 333, 280, 150, michael, 66...  \n",
       "19  [spain, energéticos, unipersonal, sistemas, 10...  \n",
       "20  [vienna, city, häupl, michael, transportation,...  \n",
       "21  [ozone, waste, r11, tons, organic, metric, emi...  \n",
       "22  [customer, score, customers, key, satisfaction...  \n",
       "23  [emption, 264, pursuant, code, ex, german, sec...  \n",
       "24  [comparison, solution, reference, installed, r...  \n",
       "25                [iur, contentsa, rer, , , , , , , ]  \n",
       "26                     [315, par, para, , , , , , , ]  \n",
       "27  [precisely, percentages, totals, add, absolute...  \n",
       "28  [articles, association, majority, section, res...  "
      ]
     },
     "execution_count": 72,
     "metadata": {},
     "output_type": "execute_result"
    }
   ],
   "source": [
    "df_concatenated_docs_merge=pd.merge(df_concatenated_docs,df_topic_info[[\"Topic\",\"Representation\"]], on='Topic', how=\"left\")\n",
    "df_concatenated_docs_merge"
   ]
  },
  {
   "cell_type": "code",
   "execution_count": 83,
   "id": "f6509cac",
   "metadata": {},
   "outputs": [],
   "source": [
    "open_ai_key=os.getenv(\"OPENAI_API_KEY\")\n",
    "import openai"
   ]
  },
  {
   "cell_type": "code",
   "execution_count": null,
   "id": "175b73a7-307a-4687-b200-4136e043d742",
   "metadata": {},
   "outputs": [
    {
     "name": "stdout",
     "output_type": "stream",
     "text": [
      "    Topic                                            Summary\n",
      "0       0  1. **Does this cluster reflect a distinct, mea...\n",
      "1       1  1. **Does this cluster reflect a distinct, mea...\n",
      "2       2  1. **Does this cluster reflect a distinct, mea...\n",
      "3       3  1. Yes, this cluster reflects a distinct, mean...\n",
      "4       4  1. **Does this cluster reflect a distinct, mea...\n",
      "5       5  1. **Does this cluster reflect a distinct, mea...\n",
      "6       6  1. Yes, this cluster reflects a distinct, mean...\n",
      "7       7  1. **Does this cluster reflect a distinct, mea...\n",
      "8       8  1. **Does this cluster reflect a distinct, mea...\n",
      "9       9  1. **Does this cluster reflect a distinct, mea...\n",
      "10     10  1. Does this cluster reflect a distinct, meani...\n",
      "11     11  1. **Does this cluster reflect a distinct, mea...\n",
      "12     12  1. **Does this cluster reflect a distinct, mea...\n",
      "13     13  1. **Does this cluster reflect a distinct, mea...\n",
      "14     14  1. **Does this cluster reflect a distinct, mea...\n",
      "15     15  1. **Does this cluster reflect a distinct, mea...\n",
      "16     16  1. **Does this cluster reflect a distinct, mea...\n",
      "17     17  1. **Does this cluster reflect a distinct, mea...\n",
      "18     18  1. **Does this cluster reflect a distinct, mea...\n",
      "19     19  1. **Does this cluster reflect a distinct, mea...\n",
      "20     20  1. **Does this cluster reflect a distinct, mea...\n",
      "21     21  1. **Does this cluster reflect a distinct, mea...\n",
      "22     22  1. **Does this cluster reflect a distinct, mea...\n",
      "23     23  1. No, this cluster does not reflect a distinc...\n",
      "24     24  1. **Does this cluster reflect a distinct, mea...\n",
      "25     25  Based on the provided samples, which consist p...\n",
      "26     26  Based on the provided samples, which predomina...\n",
      "27     27  1. **Does this cluster reflect a distinct, mea...\n",
      "28     28  1. **Does this cluster reflect a distinct, mea...\n"
     ]
    }
   ],
   "source": [
    "# Option 1: Store your API key as an environment variable\n",
    "# export OPENAI_API_KEY=\"your_api_key_here\" (in terminal or .env file)\n",
    "openai.api_key = open_ai_key\n",
    "\n",
    "def summarize_documents(documents, representations, model=\"gpt-4.1-nano\"):\n",
    "    prompt = f\"\"\"Below are 20 text samples from a single topic cluster derived from Siemens AG sustainability reports between 2013 and 2024. \n",
    "    These are the most representative passages in the cluster.\n",
    "Please:\n",
    "\t1.\tDetermine whether this cluster reflects a distinct, meaningful sustainability topic (yes/no).\n",
    "\t2.\tIf yes, provide a short label (3–6 words) summarizing the topic.\n",
    "\t3.\tWrite a 1–2 sentence summary of what this cluster is about.\n",
    "\t4.\tIf relevant, list which UN SDGs (by number and name) this topic relates to.\n",
    "\t5.\tIf the topic is generic, boilerplate, or non-substantive, say: “This cluster contains generic or administrative content and does not reflect a real sustainability trend.”\n",
    "    \n",
    "    <Keywords>{representations}</Keywords>\n",
    "    <TextSamples>{documents}</TextSamples>\n",
    "    \"\"\"\n",
    "    \n",
    "    response = openai.responses.create(\n",
    "        model=model,\n",
    "        input=[\n",
    "            {\"role\": \"user\", \"content\": prompt}\n",
    "        ]\n",
    "    )\n",
    "    \n",
    "    summary = response.output[0].content[0].text\n",
    "    return summary\n",
    "\n",
    "df_concatenated_docs_merge['Summary'] = df_concatenated_docs_merge.apply(lambda x: summarize_documents(x['ConcatenatedDocuments'], x['Representation']), axis=1)\n",
    "\n",
    "# Print the DataFrame with summaries\n",
    "print(df_concatenated_docs_merge[['Topic', 'Summary']])"
   ]
  },
  {
   "cell_type": "code",
   "execution_count": 86,
   "id": "44dbaece",
   "metadata": {},
   "outputs": [
    {
     "name": "stdout",
     "output_type": "stream",
     "text": [
      "1. Yes, this cluster reflects a distinct, meaningful sustainability topic.\n",
      "2. **Sustainable Business Performance and Financial Metrics**\n",
      "3. This cluster revolves around Siemens' focus on financial performance, growth strategies, market positioning, and economic analysis, emphasizing revenue growth, profitability, capital efficiency, and market dynamics across regions and sectors.\n",
      "4. Relevant UN SDGs include:\n",
      "   - SDG 8: Decent Work and Economic Growth\n",
      "   - SDG 9: Industry, Innovation, and Infrastructure\n",
      "   - SDG 12: Responsible Consumption and Production\n",
      "   - SDG 13: Climate Action (indirectly through sustainable economic growth)\n",
      "5. This cluster contains generic or administrative content and does not reflect a real sustainability trend.\n"
     ]
    }
   ],
   "source": [
    "print(df_concatenated_docs_merge['Summary'].loc[6])"
   ]
  },
  {
   "cell_type": "code",
   "execution_count": 85,
   "id": "e8288528-cf47-4739-9717-f81fd344e2fa",
   "metadata": {},
   "outputs": [
    {
     "data": {
      "text/html": [
       "<div>\n",
       "<style scoped>\n",
       "    .dataframe tbody tr th:only-of-type {\n",
       "        vertical-align: middle;\n",
       "    }\n",
       "\n",
       "    .dataframe tbody tr th {\n",
       "        vertical-align: top;\n",
       "    }\n",
       "\n",
       "    .dataframe thead th {\n",
       "        text-align: right;\n",
       "    }\n",
       "</style>\n",
       "<table border=\"1\" class=\"dataframe\">\n",
       "  <thead>\n",
       "    <tr style=\"text-align: right;\">\n",
       "      <th></th>\n",
       "      <th>Topic</th>\n",
       "      <th>Count</th>\n",
       "      <th>Name</th>\n",
       "      <th>Representation</th>\n",
       "      <th>Representative_Docs</th>\n",
       "      <th>Summary</th>\n",
       "    </tr>\n",
       "  </thead>\n",
       "  <tbody>\n",
       "    <tr>\n",
       "      <th>0</th>\n",
       "      <td>-1</td>\n",
       "      <td>297</td>\n",
       "      <td>-1_siemens_board_fiscal_compensation</td>\n",
       "      <td>[siemens, board, fiscal, compensation, 2018, m...</td>\n",
       "      <td>[Assets\\nSep 30,\\n(in millions of €) 2019 2018...</td>\n",
       "      <td>NaN</td>\n",
       "    </tr>\n",
       "    <tr>\n",
       "      <th>1</th>\n",
       "      <td>0</td>\n",
       "      <td>275</td>\n",
       "      <td>0_business_sustainability_siemens_compliance</td>\n",
       "      <td>[business, sustainability, siemens, compliance...</td>\n",
       "      <td>[At Siemens we offer secure reporting channels...</td>\n",
       "      <td>\"Advancing Business Sustainability Through Hum...</td>\n",
       "    </tr>\n",
       "    <tr>\n",
       "      <th>2</th>\n",
       "      <td>1</td>\n",
       "      <td>126</td>\n",
       "      <td>1_stock_shares_income_target</td>\n",
       "      <td>[stock, shares, income, target, share, awards,...</td>\n",
       "      <td>[Stock awards are tied to performance criteria...</td>\n",
       "      <td>ESG Goals: Sustainable Financial Growth, Respo...</td>\n",
       "    </tr>\n",
       "    <tr>\n",
       "      <th>3</th>\n",
       "      <td>2</td>\n",
       "      <td>84</td>\n",
       "      <td>2_financial_instruments_rate_credit</td>\n",
       "      <td>[financial, instruments, rate, credit, cash, v...</td>\n",
       "      <td>[The Company limits default risks resulting fr...</td>\n",
       "      <td>Sustainable Financial Management and Risk Miti...</td>\n",
       "    </tr>\n",
       "    <tr>\n",
       "      <th>4</th>\n",
       "      <td>3</td>\n",
       "      <td>82</td>\n",
       "      <td>3_water_environmental_emissions_energy</td>\n",
       "      <td>[water, environmental, emissions, energy, port...</td>\n",
       "      <td>[The calculation of the reduction of carbon di...</td>\n",
       "      <td>\"Comprehensive ESG Goals for Decarbonization, ...</td>\n",
       "    </tr>\n",
       "    <tr>\n",
       "      <th>5</th>\n",
       "      <td>4</td>\n",
       "      <td>75</td>\n",
       "      <td>4_audit_statements_financial_group</td>\n",
       "      <td>[audit, statements, financial, group, accounti...</td>\n",
       "      <td>[In accordance with Sec. 322 (3) Sentence 1 HG...</td>\n",
       "      <td>\"ESG Transparency and Financial Integrity: Str...</td>\n",
       "    </tr>\n",
       "    <tr>\n",
       "      <th>6</th>\n",
       "      <td>5</td>\n",
       "      <td>68</td>\n",
       "      <td>5_100_siemens_gmbh_nited</td>\n",
       "      <td>[100, siemens, gmbh, nited, states, spain, lim...</td>\n",
       "      <td>[T\\n.NET Houston, LLC, Austin, TX\\n /\\n U\\nnit...</td>\n",
       "      <td>\"Main ESG Goals: Sustainable Energy, Responsib...</td>\n",
       "    </tr>\n",
       "    <tr>\n",
       "      <th>7</th>\n",
       "      <td>6</td>\n",
       "      <td>64</td>\n",
       "      <td>6_board_supervisory_managing_chairman</td>\n",
       "      <td>[board, supervisory, managing, chairman, membe...</td>\n",
       "      <td>[The Chairman’s Committee  makes proposals, in...</td>\n",
       "      <td>\"Strengthening Governance and Leadership for S...</td>\n",
       "    </tr>\n",
       "    <tr>\n",
       "      <th>8</th>\n",
       "      <td>7</td>\n",
       "      <td>53</td>\n",
       "      <td>7_year_fiscal_revenue_orders</td>\n",
       "      <td>[year, fiscal, revenue, orders, growth, busine...</td>\n",
       "      <td>[Fiscal year % Change\\n(in millions of €) 2019...</td>\n",
       "      <td>\"Strategic Growth and Profitability amid Marke...</td>\n",
       "    </tr>\n",
       "    <tr>\n",
       "      <th>9</th>\n",
       "      <td>8</td>\n",
       "      <td>48</td>\n",
       "      <td>8_100_india_limited_siemens</td>\n",
       "      <td>[100, india, limited, siemens, private, chenna...</td>\n",
       "      <td>[11\\n Siemens\\n \\nAG is a shareholder with unl...</td>\n",
       "      <td>\"Global Renewable Energy Investment and Govern...</td>\n",
       "    </tr>\n",
       "    <tr>\n",
       "      <th>10</th>\n",
       "      <td>9</td>\n",
       "      <td>37</td>\n",
       "      <td>9_generating_cash_goodwill_impairment</td>\n",
       "      <td>[generating, cash, goodwill, impairment, asset...</td>\n",
       "      <td>[NOTE 10  Inventories\\nSep 30,\\n(in millions o...</td>\n",
       "      <td>\"Optimizing Asset Values and Strategic Investm...</td>\n",
       "    </tr>\n",
       "    <tr>\n",
       "      <th>11</th>\n",
       "      <td>10</td>\n",
       "      <td>29</td>\n",
       "      <td>10_000_500_board_2017</td>\n",
       "      <td>[000, 500, board, 2017, managing, compensation...</td>\n",
       "      <td>[Managing Board members serving as of Septembe...</td>\n",
       "      <td>\"ESG Goals: Ensuring Responsible Pension Commi...</td>\n",
       "    </tr>\n",
       "    <tr>\n",
       "      <th>12</th>\n",
       "      <td>11</td>\n",
       "      <td>26</td>\n",
       "      <td>11_digital_division_industries_systems</td>\n",
       "      <td>[digital, division, industries, systems, produ...</td>\n",
       "      <td>[A.3.2  Digit al Industries\\nThe Operating Com...</td>\n",
       "      <td>\"Advancing Sustainable Energy and Smart Buildi...</td>\n",
       "    </tr>\n",
       "    <tr>\n",
       "      <th>13</th>\n",
       "      <td>12</td>\n",
       "      <td>25</td>\n",
       "      <td>12_risk_risks_opportunities_management</td>\n",
       "      <td>[risk, risks, opportunities, management, erm, ...</td>\n",
       "      <td>[Risk management at Siemens builds on a compre...</td>\n",
       "      <td>\"Integrated Risk and Opportunity Management fo...</td>\n",
       "    </tr>\n",
       "    <tr>\n",
       "      <th>14</th>\n",
       "      <td>13</td>\n",
       "      <td>20</td>\n",
       "      <td>13_healthcare_healthineers_providers_services</td>\n",
       "      <td>[healthcare, healthineers, providers, services...</td>\n",
       "      <td>[For fiscal 2019, Siemens Healthineers expects...</td>\n",
       "      <td>\"Advancing Healthcare Through Innovation, Digi...</td>\n",
       "    </tr>\n",
       "    <tr>\n",
       "      <th>15</th>\n",
       "      <td>14</td>\n",
       "      <td>16</td>\n",
       "      <td>14_product_lcas_life_environmental</td>\n",
       "      <td>[product, lcas, life, environmental, cycle, ma...</td>\n",
       "      <td>[We plan to improve the coverage of life cycle...</td>\n",
       "      <td>\"Advancing Sustainable Product Lifecycle Manag...</td>\n",
       "    </tr>\n",
       "    <tr>\n",
       "      <th>16</th>\n",
       "      <td>15</td>\n",
       "      <td>14</td>\n",
       "      <td>15_competitors_markets_market_cost</td>\n",
       "      <td>[competitors, markets, market, cost, competiti...</td>\n",
       "      <td>[A.8.3.1  S TRATEGIC RISKS\\nCompetitive enviro...</td>\n",
       "      <td>\"Strategic ESG Goals: Enhancing Competitivenes...</td>\n",
       "    </tr>\n",
       "    <tr>\n",
       "      <th>17</th>\n",
       "      <td>16</td>\n",
       "      <td>14</td>\n",
       "      <td>16_reporting_report_environmental_portfolio</td>\n",
       "      <td>[reporting, report, environmental, portfolio, ...</td>\n",
       "      <td>[REPORTING APPROACH\\nThe ”Sustainability Infor...</td>\n",
       "      <td>\"Enhancing ESG through Environmental Reporting...</td>\n",
       "    </tr>\n",
       "    <tr>\n",
       "      <th>18</th>\n",
       "      <td>17</td>\n",
       "      <td>13</td>\n",
       "      <td>17_ltda_court_damages_proceedings</td>\n",
       "      <td>[ltda, court, damages, proceedings, siemens, p...</td>\n",
       "      <td>[As previously reported, in May  2013, Siemens...</td>\n",
       "      <td>\"ESG Commitments and Challenges: Navigating Le...</td>\n",
       "    </tr>\n",
       "    <tr>\n",
       "      <th>19</th>\n",
       "      <td>18</td>\n",
       "      <td>10</td>\n",
       "      <td>18_power_gas_markets_market</td>\n",
       "      <td>[power, gas, markets, market, oil, growth, exp...</td>\n",
       "      <td>[K. lea\\nving the European Union are complicat...</td>\n",
       "      <td>\"Advancing Sustainable Energy and Market Resil...</td>\n",
       "    </tr>\n",
       "  </tbody>\n",
       "</table>\n",
       "</div>"
      ],
      "text/plain": [
       "    Topic  Count                                           Name  \\\n",
       "0      -1    297           -1_siemens_board_fiscal_compensation   \n",
       "1       0    275   0_business_sustainability_siemens_compliance   \n",
       "2       1    126                   1_stock_shares_income_target   \n",
       "3       2     84            2_financial_instruments_rate_credit   \n",
       "4       3     82         3_water_environmental_emissions_energy   \n",
       "5       4     75             4_audit_statements_financial_group   \n",
       "6       5     68                       5_100_siemens_gmbh_nited   \n",
       "7       6     64          6_board_supervisory_managing_chairman   \n",
       "8       7     53                   7_year_fiscal_revenue_orders   \n",
       "9       8     48                    8_100_india_limited_siemens   \n",
       "10      9     37          9_generating_cash_goodwill_impairment   \n",
       "11     10     29                          10_000_500_board_2017   \n",
       "12     11     26         11_digital_division_industries_systems   \n",
       "13     12     25         12_risk_risks_opportunities_management   \n",
       "14     13     20  13_healthcare_healthineers_providers_services   \n",
       "15     14     16             14_product_lcas_life_environmental   \n",
       "16     15     14             15_competitors_markets_market_cost   \n",
       "17     16     14    16_reporting_report_environmental_portfolio   \n",
       "18     17     13              17_ltda_court_damages_proceedings   \n",
       "19     18     10                    18_power_gas_markets_market   \n",
       "\n",
       "                                       Representation  \\\n",
       "0   [siemens, board, fiscal, compensation, 2018, m...   \n",
       "1   [business, sustainability, siemens, compliance...   \n",
       "2   [stock, shares, income, target, share, awards,...   \n",
       "3   [financial, instruments, rate, credit, cash, v...   \n",
       "4   [water, environmental, emissions, energy, port...   \n",
       "5   [audit, statements, financial, group, accounti...   \n",
       "6   [100, siemens, gmbh, nited, states, spain, lim...   \n",
       "7   [board, supervisory, managing, chairman, membe...   \n",
       "8   [year, fiscal, revenue, orders, growth, busine...   \n",
       "9   [100, india, limited, siemens, private, chenna...   \n",
       "10  [generating, cash, goodwill, impairment, asset...   \n",
       "11  [000, 500, board, 2017, managing, compensation...   \n",
       "12  [digital, division, industries, systems, produ...   \n",
       "13  [risk, risks, opportunities, management, erm, ...   \n",
       "14  [healthcare, healthineers, providers, services...   \n",
       "15  [product, lcas, life, environmental, cycle, ma...   \n",
       "16  [competitors, markets, market, cost, competiti...   \n",
       "17  [reporting, report, environmental, portfolio, ...   \n",
       "18  [ltda, court, damages, proceedings, siemens, p...   \n",
       "19  [power, gas, markets, market, oil, growth, exp...   \n",
       "\n",
       "                                  Representative_Docs  \\\n",
       "0   [Assets\\nSep 30,\\n(in millions of €) 2019 2018...   \n",
       "1   [At Siemens we offer secure reporting channels...   \n",
       "2   [Stock awards are tied to performance criteria...   \n",
       "3   [The Company limits default risks resulting fr...   \n",
       "4   [The calculation of the reduction of carbon di...   \n",
       "5   [In accordance with Sec. 322 (3) Sentence 1 HG...   \n",
       "6   [T\\n.NET Houston, LLC, Austin, TX\\n /\\n U\\nnit...   \n",
       "7   [The Chairman’s Committee  makes proposals, in...   \n",
       "8   [Fiscal year % Change\\n(in millions of €) 2019...   \n",
       "9   [11\\n Siemens\\n \\nAG is a shareholder with unl...   \n",
       "10  [NOTE 10  Inventories\\nSep 30,\\n(in millions o...   \n",
       "11  [Managing Board members serving as of Septembe...   \n",
       "12  [A.3.2  Digit al Industries\\nThe Operating Com...   \n",
       "13  [Risk management at Siemens builds on a compre...   \n",
       "14  [For fiscal 2019, Siemens Healthineers expects...   \n",
       "15  [We plan to improve the coverage of life cycle...   \n",
       "16  [A.8.3.1  S TRATEGIC RISKS\\nCompetitive enviro...   \n",
       "17  [REPORTING APPROACH\\nThe ”Sustainability Infor...   \n",
       "18  [As previously reported, in May  2013, Siemens...   \n",
       "19  [K. lea\\nving the European Union are complicat...   \n",
       "\n",
       "                                              Summary  \n",
       "0                                                 NaN  \n",
       "1   \"Advancing Business Sustainability Through Hum...  \n",
       "2   ESG Goals: Sustainable Financial Growth, Respo...  \n",
       "3   Sustainable Financial Management and Risk Miti...  \n",
       "4   \"Comprehensive ESG Goals for Decarbonization, ...  \n",
       "5   \"ESG Transparency and Financial Integrity: Str...  \n",
       "6   \"Main ESG Goals: Sustainable Energy, Responsib...  \n",
       "7   \"Strengthening Governance and Leadership for S...  \n",
       "8   \"Strategic Growth and Profitability amid Marke...  \n",
       "9   \"Global Renewable Energy Investment and Govern...  \n",
       "10  \"Optimizing Asset Values and Strategic Investm...  \n",
       "11  \"ESG Goals: Ensuring Responsible Pension Commi...  \n",
       "12  \"Advancing Sustainable Energy and Smart Buildi...  \n",
       "13  \"Integrated Risk and Opportunity Management fo...  \n",
       "14  \"Advancing Healthcare Through Innovation, Digi...  \n",
       "15  \"Advancing Sustainable Product Lifecycle Manag...  \n",
       "16  \"Strategic ESG Goals: Enhancing Competitivenes...  \n",
       "17  \"Enhancing ESG through Environmental Reporting...  \n",
       "18  \"ESG Commitments and Challenges: Navigating Le...  \n",
       "19  \"Advancing Sustainable Energy and Market Resil...  "
      ]
     },
     "execution_count": 85,
     "metadata": {},
     "output_type": "execute_result"
    }
   ],
   "source": [
    "df_topics_summaries=pd.merge(df_topic_info,df_concatenated_docs_merge[[\"Topic\",\"Summary\"]], on='Topic', how=\"left\")\n",
    "df_topics_summaries"
   ]
  },
  {
   "cell_type": "code",
   "execution_count": null,
   "id": "df489399-e3f1-49d0-a437-3b40111366b9",
   "metadata": {},
   "outputs": [],
   "source": []
  }
 ],
 "metadata": {
  "kernelspec": {
   "display_name": "venv",
   "language": "python",
   "name": "python3"
  },
  "language_info": {
   "codemirror_mode": {
    "name": "ipython",
    "version": 3
   },
   "file_extension": ".py",
   "mimetype": "text/x-python",
   "name": "python",
   "nbconvert_exporter": "python",
   "pygments_lexer": "ipython3",
   "version": "3.11.3"
  }
 },
 "nbformat": 4,
 "nbformat_minor": 5
}
